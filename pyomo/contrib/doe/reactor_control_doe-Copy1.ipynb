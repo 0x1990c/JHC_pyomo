{
 "cells": [
  {
   "cell_type": "markdown",
   "id": "opposite-garage",
   "metadata": {},
   "source": [
    "# Reactor Kinetics Example \n",
    "\n",
    "Jialu Wang (jwang44@nd.edu) and Alex Dowling (adowling@nd.edu)\n",
    "\n",
    "University of Notre Dame\n",
    "\n",
    "This notebook conducts design of experiments for a reactor kinetics experiment with the Pyomo.DOE.\n",
    "    "
   ]
  },
  {
   "cell_type": "code",
   "execution_count": 1,
   "id": "worth-origin",
   "metadata": {},
   "outputs": [],
   "source": [
    "import matplotlib.pyplot as plt\n",
    "from pyomo.environ import *\n",
    "from pyomo.dae import *\n",
    "\n",
    "import numpy as np\n",
    "from scipy.interpolate import interp2d\n",
    "import pandas as pd \n",
    "from itertools import permutations, product, combinations\n",
    "import idaes\n",
    "\n",
    "from fim_doe import *\n",
    "#from pyomo.contrib.sensitivity_toolbox.sens import sipopt\n",
    "#from idaes.apps.uncertainty_propagation.sens import get_dsdp\n",
    "#from pyomo.contrib.sensitivity_toolbox.sens import get_dsdp"
   ]
  },
  {
   "cell_type": "markdown",
   "id": "graphic-controversy",
   "metadata": {},
   "source": [
    "## Define Reaction Example Mathematical Model"
   ]
  },
  {
   "cell_type": "markdown",
   "id": "disturbed-prediction",
   "metadata": {},
   "source": [
    "Consider two chemical reactions that converts molecule $A$ to desired product $B$ and a less valuable side-product $C$.\n",
    "\n",
    "$A \\overset{k_1}{\\rightarrow} B \\overset{k_2}{\\rightarrow} C$\n",
    "\n",
    "Our ultimate goals is to design a large-scale continous reactor that maximizes the production of $B$. This general sequential reactions problem is widely applicable to CO$_2$ capture and industry more broadly (petrochemicals, pharmasuticals, etc.).\n",
    "\n",
    "The rate laws for these two chemical reactions are:\n",
    "\n",
    "$r_A = -k_1 C_A$\n",
    "\n",
    "$r_B = k_1 C_A - k_2 C_B$\n",
    "\n",
    "$r_C = k_2 C_B$\n",
    "\n",
    "Here, $C_A$, $C_B$, and $C_C$ are the concentrations of each species. The rate constants $k_1$ and $k_2$ depend on temperature as follows:\n",
    "\n",
    "$k_1 = A_1 \\exp{\\frac{-E_1}{R T}}$\n",
    "\n",
    "$k_2 = A_2 \\exp{\\frac{-E_2}{R T}}$\n",
    "\n",
    "$A_1, A_2, E_1$, and $E_2$ are fitted model parameters. $R$ is the ideal-gas constant and $T$ is absolute temperature.\n",
    "\n",
    "Using the **CCSI$^2$ toolset**, we would like do the following perform:\n",
    "\n",
    "Perform **uncertainty quantification** and **design of experiments** on a small-scale **batch reactor** to infer parameters $A_1$, $A_2$, $E_1$, and $E_2$."
   ]
  },
  {
   "cell_type": "markdown",
   "id": "sweet-niger",
   "metadata": {},
   "source": [
    "### Batch reactor\n",
    "\n",
    "The concenrations in a batch reactor evolve with time per the following differential equations:\n",
    "\n",
    "$$ \\frac{d C_A}{dt} = r_A = -k_1 C_A $$\n",
    "\n",
    "$$ \\frac{d C_B}{dt} = r_B = k_1 C_A - k_2 C_B $$\n",
    "\n",
    "$$ \\frac{d C_C}{dt} = r_C = k_2 C_B $$\n",
    "\n",
    "This is a linear system of differential equations. Assuming the feed is only species $A$, i.e., \n",
    "\n",
    "$$C_A(t=0) = C_{A0} \\quad C_B(t=0) = 0 \\quad C_C(t=0) = 0$$\n",
    "\n",
    "When the temperature is constant, it leads to the following analytic solution:\n",
    "\n",
    "$$C_A(t) = C_{A,0} \\exp(-k_1 t)$$\n",
    "\n",
    "$$C_B(t) = \\frac{k_1}{k_2 - k_1} C_{A,0} \\left[\\exp(-k_1 t) - \\exp(-k_2 t) \\right]$$\n",
    "\n",
    "$$C_C(t) = C_{A,0} - \\frac{k_2}{k_2 - k_1} C_{A,0} \\exp(-k_1 t) + \\frac{k_1}{k_2 - k_1} \\exp(-k_2 t) C_{A,0} = C_{A,0} - C_{A}(t) - C_{B}(t)$$"
   ]
  },
  {
   "cell_type": "code",
   "execution_count": 2,
   "id": "eligible-robert",
   "metadata": {},
   "outputs": [],
   "source": [
    "#from reactor_models import *\n",
    "from reactor_model_multipleversions import *"
   ]
  },
  {
   "cell_type": "markdown",
   "id": "6f7434dc",
   "metadata": {},
   "source": [
    "Three versions of this model is accomplished: \n",
    "\n",
    "Dynamic-DAE model: Temperature varying model discretized and integrated by Pyomo.DAE\n",
    "\n",
    "Constant-DAE model: Temperature constant model discretized and integrated by Pyomo.DAE\n",
    "\n",
    "Constant-analytical model: Temperature constant model discretized manually and using the analytical expressions for state variables."
   ]
  },
  {
   "cell_type": "code",
   "execution_count": 3,
   "id": "d576e9c4",
   "metadata": {},
   "outputs": [
    {
     "data": {
      "text/plain": [
       "'\\ncomb = [t_measure, t_measure_ca, t_measure_cb]\\n#unique = list(set(t_measure_ca+t_measure_cb))\\nd = []\\nfor i in comb:\\n    d += i\\n    unique = list(set((d)))\\n\\nprint(unique)\\n'"
      ]
     },
     "execution_count": 3,
     "metadata": {},
     "output_type": "execute_result"
    }
   ],
   "source": [
    "# choose model from 'dynamic-DAE', 'constant-DAE', 'constant-analytical'\n",
    "#model_opt = 'dynamic-DAE-measure'\n",
    "#model_opt = 'dynamic-DAE'\n",
    "model_opt = 'constant-DAE'\n",
    "#model_opt = 'constant-analytical'\n",
    "\n",
    "#createmod = create_model_overall\n",
    "if (model_opt == 'dynamic-DAE-measure'):\n",
    "    createmod = create_model_dae_measure\n",
    "    args_ = [True, False, False]\n",
    "    disc = disc_for_measure\n",
    "    t_control = [0, 0.125, 0.25, 0.375, 0.5, 0.625, 0.75, 0.875, 1]\n",
    "\n",
    "elif (model_opt=='dynamic-DAE'):\n",
    "    createmod = create_model_dae\n",
    "    args_ = [True, False, False]\n",
    "    disc = discretizer\n",
    "    t_control = [0, 0.125, 0.25, 0.375, 0.5, 0.625, 0.75, 0.875, 1]\n",
    "    \n",
    "elif (model_opt=='constant-DAE'):\n",
    "    createmod = create_model_dae_const\n",
    "    args_ = [True, True, False]\n",
    "    disc = discretizer\n",
    "    t_control = [0]\n",
    "    \n",
    "elif (model_opt=='constant-analytical'):\n",
    "    createmod = create_model_alge\n",
    "    args_ = [False, True, False]\n",
    "    disc = None\n",
    "    t_control = [0]\n",
    "\n",
    "    \n",
    "# design variable and its control time set\n",
    "dv_pass = {'CA0': [0],'T': t_control}\n",
    "    \n",
    "\n",
    "# Define measurement time points\n",
    "t_measure = [0, 0.125, 0.25, 0.375, 0.5, 0.625, 0.75, 0.875, 1]\n",
    "#t_measure_ca = [0, 0.25, 0.5, 0.75, 1]\n",
    "#t_measure_cb = [0, 0.125, 0.375, 0.625, 0.875, 1]\n",
    "measure_pass = {'CA': t_measure, 'CB': t_measure, 'CC': t_measure}\n",
    "measure_class =  Measurements(measure_pass)\n",
    "#measure_pass = {'C':{\"'CA'\": t_measure, \"'CB'\": t_measure, \"'CC'\": t_measure}}\n",
    "#measure_pass = {'C':{'CA': t_measure, 'CB': t_measure, 'CC': t_measure}}\n",
    "#measure_pass = {'C':{'CA': t_measure_ca, 'CB': t_measure_cb, 'CC': t_measure}}\n",
    "\n",
    "'''\n",
    "comb = [t_measure, t_measure_ca, t_measure_cb]\n",
    "#unique = list(set(t_measure_ca+t_measure_cb))\n",
    "d = []\n",
    "for i in comb:\n",
    "    d += i\n",
    "    unique = list(set((d)))\n",
    "\n",
    "print(unique)\n",
    "'''"
   ]
  },
  {
   "cell_type": "code",
   "execution_count": 4,
   "id": "47137cb2",
   "metadata": {},
   "outputs": [],
   "source": [
    "# Define parameter nominal value \n",
    "parameter_dict = {'A1': 84.79085853498033, 'A2': 371.71773413976416, 'E1': 7.777032028026428, 'E2': 15.047135137500822}\n",
    "\n",
    "def generate_exp(t_set, CA0, T):  \n",
    "    '''Generate experiments. \n",
    "    t_set: time control set for T.\n",
    "    CA0: CA0 value\n",
    "    T: A list of T \n",
    "    '''\n",
    "    assert(len(t_set)==len(T)), 'T should have the same length as t_set'\n",
    "    \n",
    "    T_con_initial = {}\n",
    "    for t, tim in enumerate(t_set):\n",
    "        T_con_initial[tim] = T[t]\n",
    "        \n",
    "    dv_dict_overall = {'CA0': {0: CA0},'T': T_con_initial}\n",
    "    return dv_dict_overall"
   ]
  },
  {
   "cell_type": "code",
   "execution_count": 5,
   "id": "written-tours",
   "metadata": {},
   "outputs": [
    {
     "name": "stdout",
     "output_type": "stream",
     "text": [
      "The prior information FIM: [[0. 0. 0. 0.]\n",
      " [0. 0. 0. 0.]\n",
      " [0. 0. 0. 0.]\n",
      " [0. 0. 0. 0.]]\n",
      "Prior Det: 0.0\n",
      "Eigenvalue of the prior experiments FIM: [0. 0. 0. 0.]\n",
      "Eigenvalue of the prior experiments FIM: [[1. 0. 0. 0.]\n",
      " [0. 1. 0. 0.]\n",
      " [0. 0. 1. 0.]\n",
      " [0. 0. 0. 1.]]\n"
     ]
    }
   ],
   "source": [
    "# empty prior\n",
    "prior_all = np.zeros((4,4))\n",
    "\n",
    "\n",
    "# add prior information\n",
    "#prior_5_300 = pd.read_csv('fim_5_300_scale.csv')\n",
    "#prior_5_300_500 = pd.read_csv('fim_5_300_500_scale.csv')\n",
    "\n",
    "#prior_all = prior_5_300\n",
    "\n",
    "\n",
    "prior_pass=np.asarray(prior_all)\n",
    "\n",
    "#L_initials = np.linalg.cholesky(prior_pass)\n",
    "#print(L_initials)\n",
    "\n",
    "print('The prior information FIM:', prior_pass)\n",
    "print('Prior Det:', np.linalg.det(prior_pass))\n",
    "print('Eigenvalue of the prior experiments FIM:', np.linalg.eigvals(prior_pass))\n",
    "print('Eigenvalue of the prior experiments FIM:', np.linalg.eigh(prior_pass)[1])"
   ]
  },
  {
   "cell_type": "markdown",
   "id": "destroyed-african",
   "metadata": {},
   "source": [
    "## Compute FIM \n",
    "\n",
    "This method computes an MBDoE optimization problem with no Degree of Freedom."
   ]
  },
  {
   "cell_type": "code",
   "execution_count": 6,
   "id": "d3ee5ff9",
   "metadata": {},
   "outputs": [
    {
     "name": "stdout",
     "output_type": "stream",
     "text": [
      "Design variable: {'CA0': {0: 5}, 'T': {0: 300}}\n"
     ]
    }
   ],
   "source": [
    "# choose from 'simultaneous', 'sequential', 'sipopt'\n",
    "#sensi_opt = 'simultaneous_finite'\n",
    "sensi_opt = 'sequential_finite'\n",
    "#sensi_opt = 'sequential_sipopt'\n",
    "#sensi_opt = 'sequential_kaug'\n",
    "#sensi_opt = 'direct_kaug'\n",
    "\n",
    "if sensi_opt == 'direct_kaug':\n",
    "    args_[2] = True\n",
    "else:\n",
    "    args_[2] = False\n",
    "    \n",
    "\n",
    "# Define experiments\n",
    "if (model_opt=='dynamic-DAE') or (model_opt=='dynamic-DAE-measure'):\n",
    "    exp1 = generate_exp(t_control, 5, [570.21, 300, 300, 300, 300, 300, 300, 300, 300])\n",
    "else: \n",
    "    exp1 = generate_exp(t_control, 5, [300])\n",
    "\n",
    "print('Design variable:', exp1)"
   ]
  },
  {
   "cell_type": "code",
   "execution_count": 7,
   "id": "latin-medicare",
   "metadata": {
    "scrolled": true
   },
   "outputs": [
    {
     "name": "stdout",
     "output_type": "stream",
     "text": [
      "All measurements are flattened.\n",
      "Flatten measurement name: ['CA', 'CB', 'CC']\n",
      "Flatten measurement timeset: {'CA': [0, 0.125, 0.25, 0.375, 0.5, 0.625, 0.75, 0.875, 1], 'CB': [0, 0.125, 0.25, 0.375, 0.5, 0.625, 0.75, 0.875, 1], 'CC': [0, 0.125, 0.25, 0.375, 0.5, 0.625, 0.75, 0.875, 1]}\n",
      "Sensitivity information is scaled by its corresponding parameter nominal value.\n",
      "This scenario: {'A1': {0: 84.8756493935153}, 'A2': {0: 371.71773413976416}, 'E1': {0: 7.777032028026428}, 'E2': {0: 15.047135137500822}, 'jac-index': {'A1': [0], 'A2': [0], 'E1': [0], 'E2': [0]}, 'eps-abs': {'A1': 0.0848756493935153, 'A2': 0.37171773413976417, 'E1': 0.007777032028026428, 'E2': 0.015047135137500823}, 'scena-name': [0]}\n",
      "dyld: Symbol not found: __ZNKSt7__cxx1112basic_stringIcSt11char_traitsIcESaIcEE5rfindEPKcmm\n",
      "  Referenced from: /Users/wangjialu/.idaes/bin/ipopt\n",
      "  Expected in: /usr/lib/libstdc++.6.dylib\n",
      " in /Users/wangjialu/.idaes/bin/ipopt\n",
      "ERROR: Solver (ipopt) returned non-zero return code (-6)\n",
      "ERROR: See the solver log above for diagnostic information.\n"
     ]
    },
    {
     "ename": "ApplicationError",
     "evalue": "Solver (ipopt) did not exit normally",
     "output_type": "error",
     "traceback": [
      "\u001b[0;31m---------------------------------------------------------------------------\u001b[0m",
      "\u001b[0;31mApplicationError\u001b[0m                          Traceback (most recent call last)",
      "\u001b[0;32m/var/folders/cn/dbk7vfw51_g_gb8jqhz4j3ph0000gn/T/ipykernel_27700/1280123774.py\u001b[0m in \u001b[0;36m<module>\u001b[0;34m\u001b[0m\n\u001b[1;32m      6\u001b[0m \u001b[0mif_s\u001b[0m \u001b[0;34m=\u001b[0m \u001b[0;32mTrue\u001b[0m\u001b[0;34m\u001b[0m\u001b[0;34m\u001b[0m\u001b[0m\n\u001b[1;32m      7\u001b[0m \u001b[0;34m\u001b[0m\u001b[0m\n\u001b[0;32m----> 8\u001b[0;31m result = doe_object.compute_FIM(exp1,mode=sensi_opt, FIM_store_name = 'dynamic.csv', \n\u001b[0m\u001b[1;32m      9\u001b[0m                                 scale_nominal_param_value=if_s, formula='central')\n\u001b[1;32m     10\u001b[0m \u001b[0;34m\u001b[0m\u001b[0m\n",
      "\u001b[0;32m~/pyomo/pyomo/contrib/doe/fim_doe.py\u001b[0m in \u001b[0;36mcompute_FIM\u001b[0;34m(self, design_values, mode, FIM_store_name, specified_prior, tee_opt, scale_nominal_param_value, scale_constant_value, store_output, read_output, extract_single_model, formula, step, if_Cholesky, L_LB, L_initial)\u001b[0m\n\u001b[1;32m    502\u001b[0m                     \u001b[0;31m# solve model\u001b[0m\u001b[0;34m\u001b[0m\u001b[0;34m\u001b[0m\u001b[0;34m\u001b[0m\u001b[0m\n\u001b[1;32m    503\u001b[0m                     \u001b[0mtime0_solve\u001b[0m \u001b[0;34m=\u001b[0m \u001b[0mtime\u001b[0m\u001b[0;34m.\u001b[0m\u001b[0mtime\u001b[0m\u001b[0;34m(\u001b[0m\u001b[0;34m)\u001b[0m\u001b[0;34m\u001b[0m\u001b[0;34m\u001b[0m\u001b[0m\n\u001b[0;32m--> 504\u001b[0;31m                     \u001b[0msquare_result\u001b[0m \u001b[0;34m=\u001b[0m \u001b[0mself\u001b[0m\u001b[0;34m.\u001b[0m\u001b[0m__solve_doe\u001b[0m\u001b[0;34m(\u001b[0m\u001b[0mmod\u001b[0m\u001b[0;34m,\u001b[0m \u001b[0mfix\u001b[0m\u001b[0;34m=\u001b[0m\u001b[0;32mTrue\u001b[0m\u001b[0;34m)\u001b[0m\u001b[0;34m\u001b[0m\u001b[0;34m\u001b[0m\u001b[0m\n\u001b[0m\u001b[1;32m    505\u001b[0m                     \u001b[0mtime1_solve\u001b[0m \u001b[0;34m=\u001b[0m \u001b[0mtime\u001b[0m\u001b[0;34m.\u001b[0m\u001b[0mtime\u001b[0m\u001b[0;34m(\u001b[0m\u001b[0;34m)\u001b[0m\u001b[0;34m\u001b[0m\u001b[0;34m\u001b[0m\u001b[0m\n\u001b[1;32m    506\u001b[0m                     \u001b[0mtime_allsolve\u001b[0m\u001b[0;34m.\u001b[0m\u001b[0mappend\u001b[0m\u001b[0;34m(\u001b[0m\u001b[0mtime1_solve\u001b[0m\u001b[0;34m-\u001b[0m\u001b[0mtime0_solve\u001b[0m\u001b[0;34m)\u001b[0m\u001b[0;34m\u001b[0m\u001b[0;34m\u001b[0m\u001b[0m\n",
      "\u001b[0;32m~/pyomo/pyomo/contrib/doe/fim_doe.py\u001b[0m in \u001b[0;36m__solve_doe\u001b[0;34m(self, m, fix)\u001b[0m\n\u001b[1;32m   1499\u001b[0m \u001b[0;34m\u001b[0m\u001b[0m\n\u001b[1;32m   1500\u001b[0m         \u001b[0;31m# if user gives solver, use this solver. if not, use default IPOPT solver\u001b[0m\u001b[0;34m\u001b[0m\u001b[0;34m\u001b[0m\u001b[0;34m\u001b[0m\u001b[0m\n\u001b[0;32m-> 1501\u001b[0;31m         \u001b[0msolver_result\u001b[0m \u001b[0;34m=\u001b[0m \u001b[0mself\u001b[0m\u001b[0;34m.\u001b[0m\u001b[0msolver\u001b[0m\u001b[0;34m.\u001b[0m\u001b[0msolve\u001b[0m\u001b[0;34m(\u001b[0m\u001b[0mmod\u001b[0m\u001b[0;34m,\u001b[0m\u001b[0mtee\u001b[0m\u001b[0;34m=\u001b[0m\u001b[0mself\u001b[0m\u001b[0;34m.\u001b[0m\u001b[0mtee_opt\u001b[0m\u001b[0;34m)\u001b[0m\u001b[0;34m\u001b[0m\u001b[0;34m\u001b[0m\u001b[0m\n\u001b[0m\u001b[1;32m   1502\u001b[0m \u001b[0;34m\u001b[0m\u001b[0m\n\u001b[1;32m   1503\u001b[0m         \u001b[0;32mreturn\u001b[0m \u001b[0msolver_result\u001b[0m\u001b[0;34m\u001b[0m\u001b[0;34m\u001b[0m\u001b[0m\n",
      "\u001b[0;32m~/anaconda3/envs/pyomo_dev2/lib/python3.9/site-packages/pyomo/opt/base/solvers.py\u001b[0m in \u001b[0;36msolve\u001b[0;34m(self, *args, **kwds)\u001b[0m\n\u001b[1;32m    593\u001b[0m                 \u001b[0;32melif\u001b[0m \u001b[0mhasattr\u001b[0m\u001b[0;34m(\u001b[0m\u001b[0m_status\u001b[0m\u001b[0;34m,\u001b[0m \u001b[0;34m'log'\u001b[0m\u001b[0;34m)\u001b[0m \u001b[0;32mand\u001b[0m \u001b[0m_status\u001b[0m\u001b[0;34m.\u001b[0m\u001b[0mlog\u001b[0m\u001b[0;34m:\u001b[0m\u001b[0;34m\u001b[0m\u001b[0;34m\u001b[0m\u001b[0m\n\u001b[1;32m    594\u001b[0m                     \u001b[0mlogger\u001b[0m\u001b[0;34m.\u001b[0m\u001b[0merror\u001b[0m\u001b[0;34m(\u001b[0m\u001b[0;34m\"Solver log:\\n\"\u001b[0m \u001b[0;34m+\u001b[0m \u001b[0mstr\u001b[0m\u001b[0;34m(\u001b[0m\u001b[0m_status\u001b[0m\u001b[0;34m.\u001b[0m\u001b[0mlog\u001b[0m\u001b[0;34m)\u001b[0m\u001b[0;34m)\u001b[0m\u001b[0;34m\u001b[0m\u001b[0;34m\u001b[0m\u001b[0m\n\u001b[0;32m--> 595\u001b[0;31m                 raise ApplicationError(\n\u001b[0m\u001b[1;32m    596\u001b[0m                     \"Solver (%s) did not exit normally\" % self.name)\n\u001b[1;32m    597\u001b[0m             \u001b[0msolve_completion_time\u001b[0m \u001b[0;34m=\u001b[0m \u001b[0mtime\u001b[0m\u001b[0;34m.\u001b[0m\u001b[0mtime\u001b[0m\u001b[0;34m(\u001b[0m\u001b[0;34m)\u001b[0m\u001b[0;34m\u001b[0m\u001b[0;34m\u001b[0m\u001b[0m\n",
      "\u001b[0;31mApplicationError\u001b[0m: Solver (ipopt) did not exit normally"
     ]
    }
   ],
   "source": [
    "doe_object = DesignOfExperiments(parameter_dict, dv_pass,\n",
    "                                 measure_class, createmod,\n",
    "                                prior_FIM=prior_pass, discretize_model=disc, args=None)\n",
    "\n",
    "\n",
    "if_s = True\n",
    "\n",
    "result = doe_object.compute_FIM(exp1,mode=sensi_opt, FIM_store_name = 'dynamic.csv', \n",
    "                                scale_nominal_param_value=if_s, formula='central')\n",
    "\n",
    "\n",
    "if sensi_opt == 'simultaneous_finite':\n",
    "    result.extract_FIM(doe_object.m, doe_object.design_timeset,\n",
    "                                                          doe_object.square_result, doe_object.obj_opt)\n",
    "else: \n",
    "    result.calculate_FIM(doe_object.jac, doe_object.design_values)\n"
   ]
  },
  {
   "cell_type": "code",
   "execution_count": null,
   "id": "64fc6da4",
   "metadata": {
    "scrolled": true
   },
   "outputs": [],
   "source": [
    "print('======Result summary======')\n",
    "print('Four design criteria log10() value:')\n",
    "print('A-optimality:', np.log10(result.trace))\n",
    "print('D-optimality:', np.log10(result.det))\n",
    "print('E-optimality:', np.log10(result.min_eig))\n",
    "print('Modified E-optimality:', np.log10(result.cond))"
   ]
  },
  {
   "cell_type": "code",
   "execution_count": null,
   "id": "14d1e7e8",
   "metadata": {},
   "outputs": [],
   "source": []
  }
 ],
 "metadata": {
  "kernelspec": {
   "display_name": "Python 3 (ipykernel)",
   "language": "python",
   "name": "python3"
  },
  "language_info": {
   "codemirror_mode": {
    "name": "ipython",
    "version": 3
   },
   "file_extension": ".py",
   "mimetype": "text/x-python",
   "name": "python",
   "nbconvert_exporter": "python",
   "pygments_lexer": "ipython3",
   "version": "3.9.6"
  }
 },
 "nbformat": 4,
 "nbformat_minor": 5
}
