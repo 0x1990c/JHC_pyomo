{
 "cells": [
  {
   "cell_type": "markdown",
   "metadata": {},
   "source": [
    "# Reactor Kinetics Example \n",
    "\n",
    "Jialu Wang (jwang44@nd.edu) and Alex Dowling (adowling@nd.edu)\n",
    "\n",
    "University of Notre Dame\n",
    "\n",
    "This notebook conducts design of experiments for a reactor kinetics experiment with the Pyomo.DoE.\n",
    "    "
   ]
  },
  {
   "cell_type": "markdown",
   "metadata": {},
   "source": [
    "## Step 0: Import Pyomo and Pyomo.DoE module"
   ]
  },
  {
   "cell_type": "code",
   "execution_count": 1,
   "metadata": {},
   "outputs": [],
   "source": [
    "import matplotlib.pyplot as plt\n",
    "import numpy as np\n",
    "import pandas as pd\n",
    "import pyomo.environ as pyo\n",
    "import pyomo.common.unittest as unittest\n",
    "#from pyomo.contrib.doe import DesignOfExperiments, MeasurementVariables, calculation_mode, objective_lib,DesignVariables, finite_difference_lib, ScenarioGenerator, formula_lib\n",
    "from doe import DesignOfExperiments, calculation_mode, objective_lib\n",
    "from measurements import MeasurementVariables, DesignVariables\n",
    "from scenario import finite_difference_lib, ScenarioGenerator"
   ]
  },
  {
   "cell_type": "code",
   "execution_count": 2,
   "metadata": {},
   "outputs": [],
   "source": [
    "## check if ipopt available \n",
    "ipopt_available = pyo.SolverFactory('ipopt').available()\n",
    "if not (ipopt_available):\n",
    "    raise RuntimeError('This Pyomo.DoE example requires Ipopt.')"
   ]
  },
  {
   "cell_type": "markdown",
   "metadata": {},
   "source": [
    "## Step 1: Import Reaction Example Mathematical Model"
   ]
  },
  {
   "cell_type": "markdown",
   "metadata": {},
   "source": [
    "Consider two chemical reactions that convert molecule $A$ to desired product $B$ and a less valuable side-product $C$.\n",
    "\n",
    "$A \\overset{k_1}{\\rightarrow} B \\overset{k_2}{\\rightarrow} C$\n",
    "\n",
    "Our ultimate goal is to design a large-scale continous reactor that maximizes the production of $B$. This general sequential reactions problem is widely applicable to CO$_2$ capture and industry more broadly (petrochemicals, pharmaceuticals, etc.).\n",
    "\n",
    "The rate laws for these two chemical reactions are:\n",
    "\n",
    "$r_A = -k_1 C_A$\n",
    "\n",
    "$r_B = k_1 C_A - k_2 C_B$\n",
    "\n",
    "$r_C = k_2 C_B$\n",
    "\n",
    "Here, $C_A$, $C_B$, and $C_C$ are the concentrations of each species. The rate constants $k_1$ and $k_2$ depend on temperature as follows:\n",
    "\n",
    "$k_1 = A_1 \\exp{\\frac{-E_1}{R T}}$\n",
    "\n",
    "$k_2 = A_2 \\exp{\\frac{-E_2}{R T}}$\n",
    "\n",
    "$A_1, A_2, E_1$, and $E_2$ are fitted model parameters. $R$ is the ideal-gas constant and $T$ is absolute temperature.\n",
    "\n",
    "Using the **CCSI$^2$ toolset**, we would like to perform **uncertainty quantification** and **design of experiments** on a small-scale **batch reactor** to infer parameters $A_1$, $A_2$, $E_1$, and $E_2$."
   ]
  },
  {
   "cell_type": "markdown",
   "metadata": {},
   "source": [
    "### Batch reactor\n",
    "\n",
    "The concentrations in a batch reactor evolve with time per the following differential equations:\n",
    "\n",
    "$$ \\frac{d C_A}{dt} = r_A = -k_1 C_A $$\n",
    "\n",
    "$$ \\frac{d C_B}{dt} = r_B = k_1 C_A - k_2 C_B $$\n",
    "\n",
    "$$ \\frac{d C_C}{dt} = r_C = k_2 C_B $$\n",
    "\n",
    "This is a linear system of differential equations. Assuming the feed is only species $A$, i.e., \n",
    "\n",
    "$$C_A(t=0) = C_{A0} \\quad C_B(t=0) = 0 \\quad C_C(t=0) = 0$$\n",
    "\n",
    "When the temperature is constant, it leads to the following analytic solution:\n",
    "\n",
    "$$C_A(t) = C_{A,0} \\exp(-k_1 t)$$\n",
    "\n",
    "$$C_B(t) = \\frac{k_1}{k_2 - k_1} C_{A,0} \\left[\\exp(-k_1 t) - \\exp(-k_2 t) \\right]$$\n",
    "\n",
    "$$C_C(t) = C_{A,0} - \\frac{k_2}{k_2 - k_1} C_{A,0} \\exp(-k_1 t) + \\frac{k_1}{k_2 - k_1} \\exp(-k_2 t) C_{A,0} = C_{A,0} - C_{A}(t) - C_{B}(t)$$"
   ]
  },
  {
   "cell_type": "code",
   "execution_count": 3,
   "metadata": {},
   "outputs": [],
   "source": [
    "#from pyomo.contrib.doe.example.reactor_kinetics import create_model, disc_for_measure\n",
    "from reactor_kinetics import create_model, disc_for_measure"
   ]
  },
  {
   "cell_type": "markdown",
   "metadata": {},
   "source": [
    "## Step 2: Define inputs"
   ]
  },
  {
   "cell_type": "code",
   "execution_count": 4,
   "metadata": {
    "scrolled": true
   },
   "outputs": [],
   "source": [
    "# Control time set [h]\n",
    "t_control = [0, 0.125, 0.25, 0.375, 0.5, 0.625, 0.75, 0.875, 1] \n",
    "# Define parameter nominal value \n",
    "parameter_dict = {'A1': 84.79, 'A2': 371.72, 'E1': 7.78, 'E2': 15.05}"
   ]
  },
  {
   "cell_type": "code",
   "execution_count": 5,
   "metadata": {
    "scrolled": true
   },
   "outputs": [
    {
     "name": "stdout",
     "output_type": "stream",
     "text": [
      "['C[CA,0]', 'C[CA,0.125]', 'C[CA,0.25]', 'C[CA,0.375]', 'C[CA,0.5]', 'C[CA,0.625]', 'C[CA,0.75]', 'C[CA,0.875]', 'C[CA,1]', 'C[CB,0]', 'C[CB,0.125]', 'C[CB,0.25]', 'C[CB,0.375]', 'C[CB,0.5]', 'C[CB,0.625]', 'C[CB,0.75]', 'C[CB,0.875]', 'C[CB,1]', 'C[CC,0]', 'C[CC,0.125]', 'C[CC,0.25]', 'C[CC,0.375]', 'C[CC,0.5]', 'C[CC,0.625]', 'C[CC,0.75]', 'C[CC,0.875]', 'C[CC,1]']\n",
      "{'C[CA,0]': 1, 'C[CA,0.125]': 1, 'C[CA,0.25]': 1, 'C[CA,0.375]': 1, 'C[CA,0.5]': 1, 'C[CA,0.625]': 1, 'C[CA,0.75]': 1, 'C[CA,0.875]': 1, 'C[CA,1]': 1, 'C[CB,0]': 1, 'C[CB,0.125]': 1, 'C[CB,0.25]': 1, 'C[CB,0.375]': 1, 'C[CB,0.5]': 1, 'C[CB,0.625]': 1, 'C[CB,0.75]': 1, 'C[CB,0.875]': 1, 'C[CB,1]': 1, 'C[CC,0]': 1, 'C[CC,0.125]': 1, 'C[CC,0.25]': 1, 'C[CC,0.375]': 1, 'C[CC,0.5]': 1, 'C[CC,0.625]': 1, 'C[CC,0.75]': 1, 'C[CC,0.875]': 1, 'C[CC,1]': 1}\n"
     ]
    }
   ],
   "source": [
    "# Create measurement object\n",
    "### Way 1: User define measurements \n",
    "#response = ['CA','CB','CC']\n",
    "#all_idx = [response]\n",
    "#t_idx = t_control\n",
    "\n",
    "#measure = {'C': [all_idx, t_idx]}\n",
    "\n",
    "#m_res = []\n",
    "#for r in response:\n",
    "#    for t in t_control:\n",
    "#        m_res.append(str('C['+str(r)+','+str(t)+']'))\n",
    "        \n",
    "#print(m_res)\n",
    "\n",
    "#measure_class = MeasurementVariables()\n",
    "#measure_class.specify(m_res)\n",
    "\n",
    "#print(measure_class.measurement_name)\n",
    "        \n",
    "### Way 2: Pyomo.DoE define measurements. Measurements have at most 1 index besides the time index\n",
    "variable_name = \"C\"\n",
    "indices = {0:['CA', 'CB', 'CC'], 1: t_control}\n",
    "\n",
    "#measure_gen = SpecialSet()\n",
    "#measure_gen.add_variables(total_name, extra_index = extra_index, time_index = time_index)\n",
    "\n",
    "measure_class = MeasurementVariables()\n",
    "measure_class.add_variables(variable_name, indices=indices, time_index_position = 1)\n",
    "print(measure_class.name)\n",
    "print(measure_class.variance)\n"
   ]
  },
  {
   "cell_type": "code",
   "execution_count": 6,
   "metadata": {
    "scrolled": true
   },
   "outputs": [
    {
     "name": "stdout",
     "output_type": "stream",
     "text": [
      "['CA0[0]', 'T[0]', 'T[0.125]', 'T[0.25]', 'T[0.375]', 'T[0.5]', 'T[0.625]', 'T[0.75]', 'T[0.875]', 'T[1]']\n",
      "{'CA0[0]': 700, 'T[0]': 700, 'T[0.125]': 700, 'T[0.25]': 700, 'T[0.375]': 700, 'T[0.5]': 700, 'T[0.625]': 700, 'T[0.75]': 700, 'T[0.875]': 700, 'T[1]': 700}\n"
     ]
    }
   ],
   "source": [
    "design_gen = DesignVariables()\n",
    "\n",
    "var_C = 'CA0'\n",
    "indices_C = {0:[0]}\n",
    "exp1_C = [5]\n",
    "\n",
    "# add design variable\n",
    "design_gen.add_variables(var_C, indices = indices_C, time_index_position=0,\n",
    "                         values=exp1_C,lower_bounds=1, upper_bounds=5)\n",
    "                        \n",
    "\n",
    "var_T = 'T'\n",
    "indices_T = {0:t_control}\n",
    "exp1_T = [470, 300, 300, 300, 300, 300, 300, 300, 300]\n",
    "\n",
    "design_gen.add_variables(var_T, indices = indices_T, time_index_position=0,\n",
    "                         values=exp1_T,lower_bounds=300, upper_bounds=700)\n",
    "print(design_gen.name)\n",
    "print(design_gen.upper_bounds)"
   ]
  },
  {
   "cell_type": "code",
   "execution_count": 7,
   "metadata": {},
   "outputs": [],
   "source": [
    "param_dict = {'A1': 84.79, 'A2': 371.72, 'E1': 7.78, 'E2': 15.05}\n"
   ]
  },
  {
   "cell_type": "code",
   "execution_count": 8,
   "metadata": {},
   "outputs": [
    {
     "name": "stdout",
     "output_type": "stream",
     "text": [
      "The prior information FIM: [[0. 0. 0. 0.]\n",
      " [0. 0. 0. 0.]\n",
      " [0. 0. 0. 0.]\n",
      " [0. 0. 0. 0.]]\n",
      "Prior Det: 0.0\n",
      "Eigenvalue of the prior experiments FIM: [0. 0. 0. 0.]\n"
     ]
    }
   ],
   "source": [
    "# empty prior\n",
    "prior_pass = np.zeros((4,4))\n",
    "print('The prior information FIM:', prior_pass)\n",
    "print('Prior Det:', np.linalg.det(prior_pass))\n",
    "print('Eigenvalue of the prior experiments FIM:', np.linalg.eigvals(prior_pass))"
   ]
  },
  {
   "cell_type": "markdown",
   "metadata": {},
   "source": [
    "## Method: Compute FIM \n",
    "\n",
    "This method computes an MBDoE optimization problem with no degrees of freedom."
   ]
  },
  {
   "cell_type": "code",
   "execution_count": 9,
   "metadata": {},
   "outputs": [],
   "source": [
    "# choose from 'sequential_finite', 'direct_kaug'\n",
    "sensi_opt = calculation_mode.direct_kaug\n",
    "#sensi_opt = calculation_mode.sequential_finite\n",
    "\n",
    "# Define experiments\n",
    "exp1 = [5, 470, 300, 300, 300, 300, 300, 300, 300, 300]\n",
    "\n",
    "design_gen.update_values(exp1)"
   ]
  },
  {
   "cell_type": "code",
   "execution_count": 10,
   "metadata": {
    "scrolled": true
   },
   "outputs": [
    {
     "name": "stdout",
     "output_type": "stream",
     "text": [
      "Ipopt 3.13.2: linear_solver=ma57\n",
      "halt_on_ampl_error=yes\n",
      "max_iter=3000\n",
      "\n",
      "\n",
      "******************************************************************************\n",
      "This program contains Ipopt, a library for large-scale nonlinear optimization.\n",
      " Ipopt is released as open source code under the Eclipse Public License (EPL).\n",
      "         For more information visit http://projects.coin-or.org/Ipopt\n",
      "\n",
      "This version of Ipopt was compiled from source code available at\n",
      "    https://github.com/IDAES/Ipopt as part of the Institute for the Design of\n",
      "    Advanced Energy Systems Process Systems Engineering Framework (IDAES PSE\n",
      "    Framework) Copyright (c) 2018-2019. See https://github.com/IDAES/idaes-pse.\n",
      "\n",
      "This version of Ipopt was compiled using HSL, a collection of Fortran codes\n",
      "    for large-scale scientific computation.  All technical papers, sales and\n",
      "    publicity material resulting from use of the HSL codes within IPOPT must\n",
      "    contain the following acknowledgement:\n",
      "        HSL, a collection of Fortran codes for large-scale scientific\n",
      "        computation. See http://www.hsl.rl.ac.uk.\n",
      "******************************************************************************\n",
      "\n",
      "This is Ipopt version 3.13.2, running with linear solver ma57.\n",
      "\n",
      "Number of nonzeros in equality constraint Jacobian...:     2955\n",
      "Number of nonzeros in inequality constraint Jacobian.:        0\n",
      "Number of nonzeros in Lagrangian Hessian.............:      281\n",
      "\n",
      "Total number of variables............................:      861\n",
      "                     variables with only lower bounds:      289\n",
      "                variables with lower and upper bounds:       88\n",
      "                     variables with only upper bounds:        0\n",
      "Total number of equality constraints.................:      861\n",
      "Total number of inequality constraints...............:        0\n",
      "        inequality constraints with only lower bounds:        0\n",
      "   inequality constraints with lower and upper bounds:        0\n",
      "        inequality constraints with only upper bounds:        0\n",
      "\n",
      "iter    objective    inf_pr   inf_du lg(mu)  ||d||  lg(rg) alpha_du alpha_pr  ls\n",
      "   0  0.0000000e+00 1.67e+02 1.00e+00  -1.0 0.00e+00    -  0.00e+00 0.00e+00   0\n",
      "Reallocating memory for MA57: lfact (25018)\n",
      "   1  0.0000000e+00 3.76e+01 6.88e+01  -1.0 1.67e+02    -  1.75e-02 9.90e-01f  1\n",
      "   2  0.0000000e+00 6.15e+00 8.54e+01  -1.0 3.86e+01    -  1.11e-01 9.90e-01h  1\n",
      "   3  0.0000000e+00 1.46e-02 1.14e+01  -1.0 4.16e+00    -  9.66e-01 1.00e+00h  1\n",
      "   4  0.0000000e+00 2.09e-11 5.52e+01  -1.0 9.46e-03    -  9.98e-01 1.00e+00h  1\n",
      "\n",
      "Number of Iterations....: 4\n",
      "\n",
      "                                   (scaled)                 (unscaled)\n",
      "Objective...............:   0.0000000000000000e+00    0.0000000000000000e+00\n",
      "Dual infeasibility......:   0.0000000000000000e+00    0.0000000000000000e+00\n",
      "Constraint violation....:   2.0923929255900475e-11    2.0923929255900475e-11\n",
      "Complementarity.........:   0.0000000000000000e+00    0.0000000000000000e+00\n",
      "Overall NLP error.......:   2.0923929255900475e-11    2.0923929255900475e-11\n",
      "\n",
      "\n",
      "Number of objective function evaluations             = 5\n",
      "Number of objective gradient evaluations             = 5\n",
      "Number of equality constraint evaluations            = 5\n",
      "Number of inequality constraint evaluations          = 0\n",
      "Number of equality constraint Jacobian evaluations   = 5\n",
      "Number of inequality constraint Jacobian evaluations = 0\n",
      "Number of Lagrangian Hessian evaluations             = 4\n",
      "Total CPU secs in IPOPT (w/o function evaluations)   =      0.013\n",
      "Total CPU secs in NLP function evaluations           =      0.001\n",
      "\n",
      "EXIT: Optimal Solution Found.\n",
      "W[K_AUG]...\t[K_AUG_ASL]No n_rhs declared.\n",
      "W[K_AUG]...\t[K_AUG_ASL]Target log10mu:= -11.\n",
      "W[K_AUG]...\t[K_AUG_ASL]This problem has no degrees of freedom\n",
      "Pass the option square_override for the desired behaviour\n",
      "[K_AUG] 0.1.0, Part of the IDAES PSE framework\n",
      "Please visit https://idaes.org/\n",
      ": dsdp_mode=\n",
      "dsdp_mode=\n",
      "W[K_AUG_ASL]...\t[K_AUG_ASL]No ipopt_zL_in suffix declared, setting zL = 0.\n",
      "W[K_AUG_ASL]...\t[K_AUG_ASL]No ipopt_zU_in suffix declared, setting zU = 0.\n",
      "W[K_AUG]...\t[K_AUG_ASL]No f_timestamp suffix declared, Fallback to default writing mode.\n",
      "I[K_AUG]...\t[K_AUG_ASL] Filename for dot_sens dsdp_in_.in\n",
      "W[K_AUG]...\t[K_AUG_ASL]dsdp for linear C(x) + I*p = 0 override.\n",
      "E[K_AUG]...\t[SIGMA_COMPUTE]is x[88] = xlb?\n",
      "E[K_AUG]...\t[SIGMA_COMPUTE]is x[88] = xlb?\n",
      "E[K_AUG]...\t[SIGMA_COMPUTE]is x[89] = xlb?\n",
      "E[K_AUG]...\t[SIGMA_COMPUTE]is x[89] = xlb?\n",
      "E[K_AUG]...\t[SIGMA_COMPUTE]is x[90] = xlb?\n",
      "E[K_AUG]...\t[SIGMA_COMPUTE]is x[90] = xlb?\n",
      "E[K_AUG]...\t[SIGMA_COMPUTE]is x[91] = xlb?\n",
      "E[K_AUG]...\t[SIGMA_COMPUTE]is x[91] = xlb?\n",
      "E[K_AUG]...\t[SIGMA_COMPUTE]Unresolved sigma values, is the mu computation successful? or is this a square problem?\n",
      "Check the sigma_out file with the PRINT_VERBOSE (cmake) option set to 0\n",
      "W[K_AUG]...\t[MA57_DRIVER]\n",
      "\n",
      "\t\tCould not fix the accuracy of the problem.\n",
      "\t\tTry re-writing the problem or give a different point or change \"max_refinement_steps\"\n",
      "\t\tWarning: results might be incorrect.\n",
      "\t\tCurrent residual ratio 0.0457113; Max residual ratio 1e-10.\n",
      "\n",
      "I[K_AUG]...\t[K_AUG_ASL]File read successfully.\n",
      "I[K_AUG]...\t[K_AUG_ASL]Number of Right hand sides: 0\n",
      "I[K_AUG]...\t[K_AUG_ASL]Number of variables       : 865\n",
      "I[K_AUG]...\t[K_AUG_ASL]Number of constraints     : 865\n",
      "I[K_AUG]...\t[K_AUG_ASL]Number of valid n_dof     : 0\n",
      "I[K_AUG]...\t[ADJUST_MU]\tWarning strict complementarity (lb) is not within tol for var:88\n",
      "I[K_AUG]...\t[ADJUST_MU]\tWarning strict complementarity (lb) is not within tol for var:89\n",
      "I[K_AUG]...\t[ADJUST_MU]\tWarning strict complementarity (lb) is not within tol for var:90\n",
      "I[K_AUG]...\t[ADJUST_MU]\tWarning strict complementarity (lb) is not within tol for var:91\n",
      "I[K_AUG]...\t[ADJUST_MU]\tWarning no relevant info from the problem can predict logmu\n",
      "I[K_AUG]...\t[FIND_INEQUALITIES]summary: eq: 865, leq: 0, geq: 0 \n",
      "I[K_AUG]...\t[K_AUG_ASL]Nonzeroes in the sparse Jacobian 3347\n",
      "I[K_AUG]...\t[GET_HESS_ASL]Objective found\n",
      "I[K_AUG]...\t[GET_HESS_ASL]Nonzeroes in the sparse hessian 637\n",
      "I[K_AUG]...\t[GET_HESS_ASL]Minimization problem detected\n",
      "I[K_AUG]...\t[GET_HESS_ASL]Current objective 0.000000\n",
      "I[K_AUG]...\t[GET_HESS_ASL]Missing nz in the Hessian of the Lag: 775\n",
      "I[K_AUG]...\t[K_AUG_ASL]Barrier term added.\n",
      "I[K_AUG]...\t[K_AUG_ASL]MC19 scaling...\n",
      "I[K_AUG]...\t[ASSM_RHS_DCDP]According to the suffixes declared len p is 4 \n",
      "I[MA57]...\t[]***\n",
      "I[MA57]...\t[ma57bd_]ma57ad_: Status Ok.\n",
      "I[MA57]...\t[MA57_FACTOR]\n",
      "I[K_AUG]...\t[MA57_FACTOR]n_neig = 865\n",
      "I[K_AUG]...\t[INERTIA_STRATEGY]Inertia check successful.\n",
      "I[MA57]...\t[Factorize Success.]***\n",
      "I[MA57]...\t[MA57_RATIO]\n",
      "I[K_AUG]...\t[MA57_SOLVE]: Ratio of norm of scaled residuals (reported); 4.571127e-02 \n",
      "I[K_AUG]...\t[MA57_SOLVE]: The norm of residuals is larger than max ratio(computed)\n",
      "I[K_AUG]...\t[MA57_SOLVE]: Attempting to reduce residuals\n",
      "\n",
      "W[K_AUG]...\t[MA57_SOLVE]Attempting to make dc > 0. (Jacobian regularization)\n",
      "I[K_AUG]...\t[INERTIA_STRATEGY]Inertia check successful.\n",
      "I[MA57]...\t[MA57_FACTOR]\n",
      "W[MA57]...\t[MA57_FACTOR]always_pert_jacobian is on before fact\n",
      "I[K_AUG]...\t[MA57_FACTOR]n_neig = 865\n",
      "I[K_AUG]...\t[INERTIA_STRATEGY]Inertia check successful.\n",
      "I[MA57]...\t[MA57_RATIO]\n",
      "I[K_AUG]...\t[MA57_SOLVE]Accuracy improvement tries 0, Trial pivtol 1e-06, Residual ratio 0.04571126775247096.\n",
      "I[K_AUG]...\t[MA57_SOLVE]Accuracy is not improving.\n",
      "\n",
      "W[K_AUG]...\t[MA57_DRIVER]Inertia check OK neig=865, (neig == m).\n",
      "I[K_AUG]...\t[K_AUG_ASL]Linear solver done. \n",
      "I[K_AUG]...\t[K_AUG_ASL]Timings..Ev&Assem 0.004286, Fact 0.014023, Overall 0.015529.\n"
     ]
    }
   ],
   "source": [
    "doe_object = DesignOfExperiments(parameter_dict, design_gen,\n",
    "                                 measure_class, create_model,\n",
    "                                prior_FIM=prior_pass, discretize_model=disc_for_measure)\n",
    "\n",
    "\n",
    "result = doe_object.compute_FIM(mode=sensi_opt, FIM_store_name = 'dynamic.csv', \n",
    "                                 read_output=None,\n",
    "                                scale_nominal_param_value=True,\n",
    "                               formula = finite_difference_lib.central)\n",
    "\n",
    "\n",
    "result.calculate_FIM(doe_object.design_values)\n"
   ]
  },
  {
   "cell_type": "code",
   "execution_count": 11,
   "metadata": {
    "scrolled": true
   },
   "outputs": [
    {
     "name": "stdout",
     "output_type": "stream",
     "text": [
      "{'A1': [0.0, -1.7157830400115393, -1.4284453190827517, -1.116019567010398, -0.8374706799024361, -0.6111642579507317, -0.4369881399661882, -0.30760551007476855, -0.21387503360715546, 0.0, 0.7485234562716587, 0.3970642500803834, 0.05969170206811378, -0.20977679218003137, -0.40135341993146, -0.5234531940957063, -0.5903739830948659, -0.6165835813387086, 0.0, 0.9672595837398802, 1.0313810690023681, 1.056327864942284, 1.0472474720824672, 1.0125176778821916, 0.9604413340618948, 0.8979794931696345, 0.830458614945864], 'A2': [0.0, -9.803724136436983e-14, -6.846470259837429e-14, 0.0, 1.669506128762664e-14, 2.3318126663127504e-14, 8.538167209198215e-12, 5.376755045914545e-12, 3.4549056514333923e-12, 0.0, -1.1227536196660166, -1.2468691849065128, -1.3680410193636805, -1.4721636689191295, -1.5531297226056584, -1.6094334428696009, -1.642099836427274, -1.653436296321052, 0.0, 1.1227536196661145, 1.2468691849065812, 1.3680410193636803, 1.4721636689191124, 1.553129722605635, 1.609433442861063, 1.6420998364218975, 1.6534362963175977], 'E1': [0.0, 3.434164648484493, 3.255127786019196, 2.7295915923156304, 2.1418036019528977, 1.611852503220635, 1.1787027753037227, 0.8440800921294235, 0.5948770181209361, 0.0, -1.508893579232011, -1.175456551258759, -0.5528171741605695, 0.06151997960858448, 0.5557795892349661, 0.906216334535588, 1.126557596774638, 1.242986862434301, 0.0, -1.9252710692524817, -2.0796712347604367, -2.176774418155061, -2.2033235815614813, -2.167632092455601, -2.084919109839311, -1.9706376889040613, -1.8378638805552374], 'E2': [0.0, 3.175423399405501e-13, 8.87027891191678e-14, 1.238919005099074e-13, 8.652040800732798e-14, 2.416875024418854e-13, -4.127283294436632e-11, -2.5997269812769974e-11, -1.6770660535241275e-11, 0.0, 4.339121935407027, 5.344628173994517, 6.3053273048226055, 7.138961991393876, 7.8112320227721925, 8.31533341765097, 8.659491454492159, 8.859453834791795, 0.0, -4.339121935407343, -5.344628173994605, -6.30532730482273, -7.138961991393961, -7.811232022772433, -8.315333417609702, -8.659491454466162, -8.859453834775026]}\n"
     ]
    }
   ],
   "source": [
    "print(doe_object.jac)"
   ]
  },
  {
   "cell_type": "code",
   "execution_count": 12,
   "metadata": {
    "scrolled": true
   },
   "outputs": [
    {
     "name": "stdout",
     "output_type": "stream",
     "text": [
      "======Result summary======\n",
      "Four design criteria log10() value:\n",
      "A-optimality: 2.9897268964992847\n",
      "D-optimality: 3.301107989905753\n",
      "E-optimality: -0.9193392418969789\n",
      "Modified E-optimality: 3.8768144997339067\n",
      "[[  17.22095182   13.67125327  -37.14714058  -68.68881662]\n",
      " [  13.67125327   34.57378391  -26.37452665 -170.10921652]\n",
      " [ -37.14714058  -26.37452665   81.32456802  133.30789812]\n",
      " [ -68.68881662 -170.10921652  133.30789812  843.50358057]]\n"
     ]
    }
   ],
   "source": [
    "print('======Result summary======')\n",
    "print('Four design criteria log10() value:')\n",
    "print('A-optimality:', np.log10(result.trace))\n",
    "print('D-optimality:', np.log10(result.det))\n",
    "print('E-optimality:', np.log10(result.min_eig))\n",
    "print('Modified E-optimality:', np.log10(result.cond))\n",
    "print(result.FIM)"
   ]
  },
  {
   "cell_type": "code",
   "execution_count": 13,
   "metadata": {},
   "outputs": [
    {
     "name": "stdout",
     "output_type": "stream",
     "text": [
      "['C[CB,0.125]', 'C[CB,0.25]', 'C[CB,0.5]', 'C[CB,0.75]', 'C[CB,0.875]', 'C[CC,0.125]', 'C[CC,0.25]', 'C[CC,0.5]', 'C[CC,0.75]', 'C[CC,0.875]']\n"
     ]
    }
   ],
   "source": [
    "sub_name = \"C\"\n",
    "sub_indices = {0: [\"CB\", \"CC\"], 1:[0.125, 0.25, 0.5, 0.75, 0.875] }\n",
    "\n",
    "measure_subset = MeasurementVariables()\n",
    "measure_subset.add_variables(sub_name, indices = sub_indices, time_index_position=1)\n",
    "print(measure_subset.name)"
   ]
  },
  {
   "cell_type": "code",
   "execution_count": 14,
   "metadata": {},
   "outputs": [
    {
     "name": "stdout",
     "output_type": "stream",
     "text": [
      "======Subset Result summary======\n",
      "Four design criteria log10() value:\n",
      "A-optimality: 2.731263076797924\n",
      "D-optimality: 1.8213541281596173\n",
      "E-optimality: -1.430818803225462\n",
      "Modified E-optimality: 4.147095549347054\n"
     ]
    }
   ],
   "source": [
    "sub_result = result.subset(measure_subset)\n",
    "sub_result.calculate_FIM(doe_object.design_values)\n",
    "print('======Subset Result summary======')\n",
    "print('Four design criteria log10() value:')\n",
    "print('A-optimality:', np.log10(sub_result.trace))\n",
    "print('D-optimality:', np.log10(sub_result.det))\n",
    "print('E-optimality:', np.log10(sub_result.min_eig))\n",
    "print('Modified E-optimality:', np.log10(sub_result.cond))"
   ]
  },
  {
   "cell_type": "markdown",
   "metadata": {},
   "source": [
    "## Method: Optimization\n",
    "Gradient-based optimization with IPOPT with .optimize_doe()\n",
    "\n",
    "This function solves twice: It solves the square version of the MBDoE problem first, and then unfixes the design variables as degree of freedom and solves again. In this way the optimization problem can be well initialized. "
   ]
  },
  {
   "cell_type": "code",
   "execution_count": 15,
   "metadata": {},
   "outputs": [],
   "source": [
    "exp1 = [5, 500, 300, 300, 300, 300, 300, 300, 300, 300]\n",
    "design_gen.update_values(exp1)\n",
    "\n",
    "# add a prior information (scaled FIM with T=500 and T=300 experiments)\n",
    "prior = np.asarray([[  28.67892806 ,   5.41249739 , -81.73674601 , -24.02377324],\n",
    " [   5.41249739 ,  26.40935036 , -12.41816477 , -139.23992532],\n",
    " [ -81.73674601 , -12.41816477 , 240.46276004 ,  58.76422806],\n",
    " [ -24.02377324 , -139.23992532 ,  58.76422806 , 767.25584508]])\n",
    "\n"
   ]
  },
  {
   "cell_type": "code",
   "execution_count": 16,
   "metadata": {
    "scrolled": true
   },
   "outputs": [
    {
     "name": "stdout",
     "output_type": "stream",
     "text": [
      "[    0.00] Resetting the tic/toc delta timer\n",
      "Ipopt 3.13.2: linear_solver=ma57\n",
      "halt_on_ampl_error=yes\n",
      "max_iter=3000\n",
      "\n",
      "\n",
      "******************************************************************************\n",
      "This program contains Ipopt, a library for large-scale nonlinear optimization.\n",
      " Ipopt is released as open source code under the Eclipse Public License (EPL).\n",
      "         For more information visit http://projects.coin-or.org/Ipopt\n",
      "\n",
      "This version of Ipopt was compiled from source code available at\n",
      "    https://github.com/IDAES/Ipopt as part of the Institute for the Design of\n",
      "    Advanced Energy Systems Process Systems Engineering Framework (IDAES PSE\n",
      "    Framework) Copyright (c) 2018-2019. See https://github.com/IDAES/idaes-pse.\n",
      "\n",
      "This version of Ipopt was compiled using HSL, a collection of Fortran codes\n",
      "    for large-scale scientific computation.  All technical papers, sales and\n",
      "    publicity material resulting from use of the HSL codes within IPOPT must\n",
      "    contain the following acknowledgement:\n",
      "        HSL, a collection of Fortran codes for large-scale scientific\n",
      "        computation. See http://www.hsl.rl.ac.uk.\n",
      "******************************************************************************\n",
      "\n",
      "This is Ipopt version 3.13.2, running with linear solver ma57.\n",
      "\n",
      "Number of nonzeros in equality constraint Jacobian...:    26424\n",
      "Number of nonzeros in inequality constraint Jacobian.:        0\n",
      "Number of nonzeros in Lagrangian Hessian.............:     2590\n",
      "\n",
      "Total number of variables............................:     7092\n",
      "                     variables with only lower bounds:     2312\n",
      "                variables with lower and upper bounds:      784\n",
      "                     variables with only upper bounds:        0\n",
      "Total number of equality constraints.................:     7092\n",
      "Total number of inequality constraints...............:        0\n",
      "        inequality constraints with only lower bounds:        0\n",
      "   inequality constraints with lower and upper bounds:        0\n",
      "        inequality constraints with only upper bounds:        0\n",
      "\n",
      "iter    objective    inf_pr   inf_du lg(mu)  ||d||  lg(rg) alpha_du alpha_pr  ls\n",
      "   0  0.0000000e+00 1.97e+02 1.00e+00  -1.0 0.00e+00    -  0.00e+00 0.00e+00   0\n",
      "Reallocating memory for MA57: lfact (295796)\n",
      "   1  0.0000000e+00 6.60e+02 3.85e+02  -1.0 1.97e+02    -  2.54e-03 9.90e-01f  1\n",
      "   2  0.0000000e+00 1.44e+02 1.31e+02  -1.0 9.11e+02    -  9.17e-02 9.90e-01h  1\n",
      "   3  0.0000000e+00 2.07e+01 1.75e+01  -1.0 1.51e+02    -  9.37e-01 9.90e-01h  1\n",
      "   4  0.0000000e+00 1.53e-03 1.41e+02  -1.0 1.86e+01    -  9.94e-01 1.00e+00h  1\n",
      "Reallocating memory for MA57: lfact (393520)\n",
      "   5  0.0000000e+00 4.55e-13 1.00e-06  -1.0 1.56e-03    -  1.00e+00 1.00e+00h  1\n",
      "\n",
      "Number of Iterations....: 5\n",
      "\n",
      "                                   (scaled)                 (unscaled)\n",
      "Objective...............:   0.0000000000000000e+00    0.0000000000000000e+00\n",
      "Dual infeasibility......:   0.0000000000000000e+00    0.0000000000000000e+00\n",
      "Constraint violation....:   3.4106051316484809e-13    4.5474735088646412e-13\n",
      "Complementarity.........:   0.0000000000000000e+00    0.0000000000000000e+00\n",
      "Overall NLP error.......:   3.4106051316484809e-13    4.5474735088646412e-13\n",
      "\n",
      "\n",
      "Number of objective function evaluations             = 6\n",
      "Number of objective gradient evaluations             = 6\n",
      "Number of equality constraint evaluations            = 6\n",
      "Number of inequality constraint evaluations          = 0\n",
      "Number of equality constraint Jacobian evaluations   = 6\n",
      "Number of inequality constraint Jacobian evaluations = 0\n",
      "Number of Lagrangian Hessian evaluations             = 5\n",
      "Total CPU secs in IPOPT (w/o function evaluations)   =      0.175\n",
      "Total CPU secs in NLP function evaluations           =      0.007\n",
      "\n",
      "EXIT: Optimal Solution Found.\n",
      "Ipopt 3.13.2: linear_solver=ma57\n",
      "halt_on_ampl_error=yes\n",
      "max_iter=3000\n",
      "\n",
      "\n",
      "******************************************************************************\n",
      "This program contains Ipopt, a library for large-scale nonlinear optimization.\n",
      " Ipopt is released as open source code under the Eclipse Public License (EPL).\n",
      "         For more information visit http://projects.coin-or.org/Ipopt\n",
      "\n",
      "This version of Ipopt was compiled from source code available at\n",
      "    https://github.com/IDAES/Ipopt as part of the Institute for the Design of\n",
      "    Advanced Energy Systems Process Systems Engineering Framework (IDAES PSE\n",
      "    Framework) Copyright (c) 2018-2019. See https://github.com/IDAES/idaes-pse.\n",
      "\n",
      "This version of Ipopt was compiled using HSL, a collection of Fortran codes\n",
      "    for large-scale scientific computation.  All technical papers, sales and\n",
      "    publicity material resulting from use of the HSL codes within IPOPT must\n",
      "    contain the following acknowledgement:\n",
      "        HSL, a collection of Fortran codes for large-scale scientific\n",
      "        computation. See http://www.hsl.rl.ac.uk.\n",
      "******************************************************************************\n",
      "\n",
      "This is Ipopt version 3.13.2, running with linear solver ma57.\n",
      "\n",
      "Number of nonzeros in equality constraint Jacobian...:    26544\n",
      "Number of nonzeros in inequality constraint Jacobian.:        0\n",
      "Number of nonzeros in Lagrangian Hessian.............:     2610\n",
      "\n",
      "Reallocating memory for MA57: lfact (273960)\n",
      "Total number of variables............................:     7112\n",
      "                     variables with only lower bounds:     2316\n",
      "                variables with lower and upper bounds:      794\n",
      "                     variables with only upper bounds:        0\n",
      "Total number of equality constraints.................:     7102\n",
      "Total number of inequality constraints...............:        0\n",
      "        inequality constraints with only lower bounds:        0\n",
      "   inequality constraints with lower and upper bounds:        0\n",
      "        inequality constraints with only upper bounds:        0\n",
      "\n",
      "iter    objective    inf_pr   inf_du lg(mu)  ||d||  lg(rg) alpha_du alpha_pr  ls\n",
      "   0 -1.1850752e+01 1.70e+02 1.75e+00  -1.0 0.00e+00    -  0.00e+00 0.00e+00   0\n",
      "Reallocating memory for MA57: lfact (303350)\n",
      "   1 -1.1824085e+01 9.72e+01 3.63e+00  -1.0 1.93e+01    -  8.16e-01 4.79e-01h  1\n",
      "   2 -1.0214898e+01 6.49e+01 1.84e+00  -1.0 7.23e+00    -  9.82e-01 1.00e+00f  1\n",
      "   3 -8.4520568e+00 1.36e+01 7.19e+01  -1.0 1.86e+02    -  9.74e-01 1.00e+00f  1\n",
      "   4 -5.3013404e+00 4.74e+01 5.48e+01  -1.0 1.40e+02    -  1.00e+00 1.00e+00f  1\n",
      "   5 -4.6887972e+00 6.20e+00 9.63e+01  -1.0 9.18e+01    -  1.00e+00 1.00e+00h  1\n",
      "   6 -4.1490708e+00 6.54e-02 4.59e+00  -1.0 8.20e+00    -  1.00e+00 1.00e+00h  1\n",
      "   7 -4.1267732e+00 6.18e-03 1.32e+00  -1.0 2.65e+00    -  1.00e+00 1.00e+00h  1\n",
      "   8 -4.1285588e+00 1.01e-05 2.78e-03  -1.0 8.89e-02    -  1.00e+00 1.00e+00h  1\n",
      "   9 -4.5652953e+00 1.82e-01 1.01e+01  -2.5 1.30e+01    -  9.03e-01 1.00e+00f  1\n",
      "iter    objective    inf_pr   inf_du lg(mu)  ||d||  lg(rg) alpha_du alpha_pr  ls\n",
      "  10 -5.9680410e+00 4.60e+01 5.89e+02  -2.5 9.64e+01    -  6.46e-01 1.00e+00h  1\n",
      "  11 -6.5519164e+00 4.48e+00 1.76e+02  -2.5 6.37e+01  -4.0 1.00e+00 1.00e+00h  1\n",
      "  12 -6.6294166e+00 5.65e-01 3.18e+01  -2.5 7.15e+01    -  1.00e+00 1.00e+00h  1\n",
      "  13 -6.8216058e+00 6.56e-01 1.53e+01  -2.5 5.99e+01    -  1.00e+00 1.00e+00h  1\n",
      "  14 -6.7851351e+00 3.85e-02 9.14e-01  -2.5 1.65e+01    -  1.00e+00 1.00e+00h  1\n",
      "  15 -6.7844219e+00 4.60e-05 1.32e-04  -2.5 5.73e-01    -  1.00e+00 1.00e+00h  1\n",
      "  16 -7.2347341e+00 2.58e+00 8.61e+00  -3.8 5.73e+01    -  7.80e-01 1.00e+00f  1\n",
      "  17 -7.4478489e+00 2.43e-01 7.78e-01  -3.8 2.35e+01    -  1.00e+00 1.00e+00h  1\n",
      "  18 -7.5239722e+00 5.66e-02 3.08e-01  -3.8 1.30e+01    -  1.00e+00 1.00e+00h  1\n",
      "  19 -7.5220981e+00 1.09e-03 4.38e-03  -3.8 1.98e+00    -  1.00e+00 1.00e+00h  1\n",
      "iter    objective    inf_pr   inf_du lg(mu)  ||d||  lg(rg) alpha_du alpha_pr  ls\n",
      "  20 -7.5221178e+00 6.78e-07 4.19e-06  -3.8 7.08e-02    -  1.00e+00 1.00e+00h  1\n",
      "  21 -7.5986492e+00 3.42e-02 2.97e-01  -5.7 1.54e+01    -  8.87e-01 1.00e+00f  1\n",
      "  22 -7.6075802e+00 7.82e-03 5.84e-02  -5.7 7.84e+00    -  1.00e+00 1.00e+00h  1\n",
      "  23 -7.6074125e+00 1.18e-05 1.51e-04  -5.7 1.47e-01  -4.5 1.00e+00 1.00e+00h  1\n",
      "  24 -7.6080473e+00 6.47e-04 1.98e-03  -5.7 9.32e+00    -  1.00e+00 2.45e-01h  2\n",
      "Reallocating memory for MA57: lfact (338093)\n",
      "  25 -7.6085409e+00 1.16e-03 1.20e-03  -5.7 3.08e+00    -  1.00e+00 1.00e+00h  1\n",
      "Reallocating memory for MA57: lfact (358131)\n",
      "  26 -7.6084808e+00 1.30e-04 5.81e-05  -5.7 1.03e+00    -  1.00e+00 1.00e+00h  1\n",
      "  27 -7.6084814e+00 7.42e-07 1.22e-07  -5.7 7.81e-02    -  1.00e+00 1.00e+00h  1\n",
      "  28 -7.6097517e+00 1.61e-04 5.26e-04  -8.6 1.15e+00    -  9.97e-01 1.00e+00h  1\n"
     ]
    },
    {
     "name": "stdout",
     "output_type": "stream",
     "text": [
      "  29 -7.6097577e+00 3.94e-07 6.41e-07  -8.6 5.71e-02  -5.0 1.00e+00 1.00e+00h  1\n",
      "Reallocating memory for MA57: lfact (388743)\n",
      "iter    objective    inf_pr   inf_du lg(mu)  ||d||  lg(rg) alpha_du alpha_pr  ls\n",
      "  30 -7.6097585e+00 5.06e-07 3.11e-07  -8.6 8.04e-02  -5.4 1.00e+00 7.07e-01h  1\n",
      "  31 -7.6097585e+00 8.36e-10 3.07e-09  -8.6 2.47e-03  -5.9 1.00e+00 1.00e+00f  1\n",
      "\n",
      "Number of Iterations....: 31\n",
      "\n",
      "                                   (scaled)                 (unscaled)\n",
      "Objective...............:  -7.6097584973808861e+00   -7.6097584973808861e+00\n",
      "Dual infeasibility......:   3.0701319489199629e-09    3.0701319489199629e-09\n",
      "Constraint violation....:   8.3605300460476428e-10    8.3605300460476428e-10\n",
      "Complementarity.........:   3.2568566216535722e-09    3.2568566216535722e-09\n",
      "Overall NLP error.......:   3.2568566216535722e-09    3.2568566216535722e-09\n",
      "\n",
      "\n",
      "Number of objective function evaluations             = 35\n",
      "Number of objective gradient evaluations             = 32\n",
      "Number of equality constraint evaluations            = 35\n",
      "Number of inequality constraint evaluations          = 0\n",
      "Number of equality constraint Jacobian evaluations   = 32\n",
      "Number of inequality constraint Jacobian evaluations = 0\n",
      "Number of Lagrangian Hessian evaluations             = 31\n",
      "Total CPU secs in IPOPT (w/o function evaluations)   =      0.969\n",
      "Total CPU secs in NLP function evaluations           =      0.051\n",
      "\n",
      "EXIT: Optimal Solution Found.\n",
      "[+   2.98] File \"/media/psf/Home/dowlinglab/pyomo/pyomo/contrib/doe/doe.py\", line 221 in stochastic_program\n"
     ]
    }
   ],
   "source": [
    "doe_object = DesignOfExperiments(parameter_dict, design_gen,\n",
    "                                 measure_class, create_model,\n",
    "                                prior_FIM=prior_pass, discretize_model=disc_for_measure)\n",
    "\n",
    "square_result, optimize_result= doe_object.stochastic_program(if_optimize=True, if_Cholesky=True, \n",
    "                                                         scale_nominal_param_value=True, objective_option=objective_lib.det, \n",
    "                                                         L_initial=np.linalg.cholesky(prior))"
   ]
  },
  {
   "cell_type": "code",
   "execution_count": 17,
   "metadata": {
    "scrolled": true
   },
   "outputs": [
    {
     "name": "stdout",
     "output_type": "stream",
     "text": [
      "======Result summary======\n",
      "This optimization is solved with status: converged\n",
      "C solution: 5.0\n",
      "T solution:\n",
      "477.23649323326225\n",
      "300.00001978335285\n",
      "300.000025314433\n",
      "300.00003958569926\n",
      "300.0000731093629\n",
      "300.0001442526892\n",
      "300.0002759014781\n",
      "300.0005547711093\n",
      "300.00246349014253\n",
      "The result FIM is: [[  17.23923225   14.37823701  -36.50232876  -71.10057598]\n",
      " [  14.37823701   34.95623278  -27.33592062 -169.53752395]\n",
      " [ -36.50232876  -27.33592062   78.48245727  135.96668759]\n",
      " [ -71.10057598 -169.53752395  135.96668759  829.17602825]]\n",
      "Four design criteria log10() value:\n",
      "A-optimality: 2.982205156689184\n",
      "D-optimality: 3.304876124026632\n",
      "E-optimality: -0.9174843384125071\n",
      "Modified E-optimality: 3.8690665650811185\n"
     ]
    }
   ],
   "source": [
    "print('======Result summary======')\n",
    "print('This optimization is solved with status:', optimize_result.status)\n",
    "print('C solution:', pyo.value(optimize_result.model.CA0[0]))\n",
    "print(\"T solution:\")\n",
    "for t in t_control:\n",
    "    print(pyo.value(optimize_result.model.T[t]))\n",
    "print('The result FIM is:', optimize_result.FIM)\n",
    "print('Four design criteria log10() value:')\n",
    "print('A-optimality:', np.log10(optimize_result.trace))\n",
    "print('D-optimality:', np.log10(optimize_result.det))\n",
    "print('E-optimality:', np.log10(optimize_result.min_eig))\n",
    "print('Modified E-optimality:', np.log10(optimize_result.cond))\n"
   ]
  },
  {
   "cell_type": "markdown",
   "metadata": {},
   "source": [
    "## Method: Exploratory analysis (Enumeration)\n",
    "\n",
    "This method conducts exploratory analysis by enumeration. \n",
    "It allows a user to define any number (dimensions) of design variables.\n",
    "Heatmaps can be drawn by two design variables, fixing other design variables; \n",
    "1D curve can be drawn by one design variable, fixing other design variables."
   ]
  },
  {
   "cell_type": "markdown",
   "metadata": {},
   "source": [
    "### Specify user inputs"
   ]
  },
  {
   "cell_type": "code",
   "execution_count": 18,
   "metadata": {},
   "outputs": [],
   "source": [
    "# Design variable ranges as lists \n",
    "design_ranges = {'CA0[0]': list(np.linspace(1,5,3)), \n",
    "                 ('T[0]', 'T[0.125]','T[0.25]','T[0.375]',\n",
    "                  'T[0.5]','T[0.625]','T[0.75]','T[0.875]','T[1]'): list(np.linspace(300,700,3))}\n",
    "\n",
    "## choose from 'sequential_finite', 'direct_kaug'\n",
    "#sensi_opt = calculation_mode.sequential_finite\n",
    "sensi_opt = calculation_mode.direct_kaug"
   ]
  },
  {
   "cell_type": "code",
   "execution_count": 19,
   "metadata": {
    "scrolled": true
   },
   "outputs": [
    {
     "name": "stdout",
     "output_type": "stream",
     "text": [
      "The prior information FIM: [[22.52943024, 1.84034314, -70.23273336, -11.09432962], [1.84034314, 18.09848116, -5.73565034, -109.15866135], [-70.23273336, -5.73565034, 218.94192843, 34.57680848], [-11.09432962, -109.15866135, 34.57680848, 658.37644634]]\n",
      "Prior Det: 1.9558434466145787e-08\n"
     ]
    }
   ],
   "source": [
    "# add prior information\n",
    "prior_pass = [[ 22.52943024 , 1.84034314, -70.23273336, -11.09432962],\n",
    " [   1.84034314 ,  18.09848116 ,  -5.73565034 , -109.15866135],\n",
    " [ -70.23273336 ,  -5.73565034 , 218.94192843 ,  34.57680848],\n",
    " [ -11.09432962 , -109.15866135 ,  34.57680848 ,  658.37644634]]\n",
    "\n",
    "print('The prior information FIM:', prior_pass)\n",
    "print('Prior Det:', np.linalg.det(prior_pass))"
   ]
  },
  {
   "cell_type": "code",
   "execution_count": 20,
   "metadata": {
    "scrolled": false
   },
   "outputs": [],
   "source": [
    "doe_object = DesignOfExperiments(parameter_dict, design_gen,\n",
    "                                 measure_class, create_model,\n",
    "                                prior_FIM=prior_pass, discretize_model=disc_for_measure)\n",
    "\n",
    "all_fim = doe_object.run_grid_search(design_ranges, \n",
    "                                     mode=sensi_opt)"
   ]
  },
  {
   "cell_type": "markdown",
   "metadata": {},
   "source": [
    "### 1D sensitivity curve"
   ]
  },
  {
   "cell_type": "code",
   "execution_count": 21,
   "metadata": {
    "scrolled": true
   },
   "outputs": [
    {
     "name": "stdout",
     "output_type": "stream",
     "text": [
      "['CA0[0]', ('T[0]', 'T[0.125]', 'T[0.25]', 'T[0.375]', 'T[0.5]', 'T[0.625]', 'T[0.75]', 'T[0.875]', 'T[1]'), 'A', 'D', 'E', 'ME']\n"
     ]
    },
    {
     "ename": "KeyError",
     "evalue": "'T[0]'",
     "output_type": "error",
     "traceback": [
      "\u001b[0;31m---------------------------------------------------------------------------\u001b[0m",
      "\u001b[0;31mKeyError\u001b[0m                                  Traceback (most recent call last)",
      "\u001b[0;32m~/anaconda3/envs/pyomo/lib/python3.7/site-packages/pandas/core/indexes/base.py\u001b[0m in \u001b[0;36mget_loc\u001b[0;34m(self, key, method, tolerance)\u001b[0m\n\u001b[1;32m   3360\u001b[0m             \u001b[0;32mtry\u001b[0m\u001b[0;34m:\u001b[0m\u001b[0;34m\u001b[0m\u001b[0;34m\u001b[0m\u001b[0m\n\u001b[0;32m-> 3361\u001b[0;31m                 \u001b[0;32mreturn\u001b[0m \u001b[0mself\u001b[0m\u001b[0;34m.\u001b[0m\u001b[0m_engine\u001b[0m\u001b[0;34m.\u001b[0m\u001b[0mget_loc\u001b[0m\u001b[0;34m(\u001b[0m\u001b[0mcasted_key\u001b[0m\u001b[0;34m)\u001b[0m\u001b[0;34m\u001b[0m\u001b[0;34m\u001b[0m\u001b[0m\n\u001b[0m\u001b[1;32m   3362\u001b[0m             \u001b[0;32mexcept\u001b[0m \u001b[0mKeyError\u001b[0m \u001b[0;32mas\u001b[0m \u001b[0merr\u001b[0m\u001b[0;34m:\u001b[0m\u001b[0;34m\u001b[0m\u001b[0;34m\u001b[0m\u001b[0m\n",
      "\u001b[0;32m~/anaconda3/envs/pyomo/lib/python3.7/site-packages/pandas/_libs/index.pyx\u001b[0m in \u001b[0;36mpandas._libs.index.IndexEngine.get_loc\u001b[0;34m()\u001b[0m\n",
      "\u001b[0;32m~/anaconda3/envs/pyomo/lib/python3.7/site-packages/pandas/_libs/index.pyx\u001b[0m in \u001b[0;36mpandas._libs.index.IndexEngine.get_loc\u001b[0;34m()\u001b[0m\n",
      "\u001b[0;32mpandas/_libs/hashtable_class_helper.pxi\u001b[0m in \u001b[0;36mpandas._libs.hashtable.PyObjectHashTable.get_item\u001b[0;34m()\u001b[0m\n",
      "\u001b[0;32mpandas/_libs/hashtable_class_helper.pxi\u001b[0m in \u001b[0;36mpandas._libs.hashtable.PyObjectHashTable.get_item\u001b[0;34m()\u001b[0m\n",
      "\u001b[0;31mKeyError\u001b[0m: 'T[0]'",
      "\nThe above exception was the direct cause of the following exception:\n",
      "\u001b[0;31mKeyError\u001b[0m                                  Traceback (most recent call last)",
      "\u001b[0;32m/tmp/ipykernel_410645/641110825.py\u001b[0m in \u001b[0;36m<module>\u001b[0;34m\u001b[0m\n\u001b[1;32m      5\u001b[0m \u001b[0mfixed\u001b[0m \u001b[0;34m=\u001b[0m \u001b[0;34m{\u001b[0m\u001b[0;34m\"'CA0[0]'\"\u001b[0m\u001b[0;34m:\u001b[0m \u001b[0;36m5.0\u001b[0m\u001b[0;34m}\u001b[0m\u001b[0;34m\u001b[0m\u001b[0;34m\u001b[0m\u001b[0m\n\u001b[1;32m      6\u001b[0m \u001b[0;34m\u001b[0m\u001b[0m\n\u001b[0;32m----> 7\u001b[0;31m \u001b[0mall_fim\u001b[0m\u001b[0;34m.\u001b[0m\u001b[0mfigure_drawing\u001b[0m\u001b[0;34m(\u001b[0m\u001b[0mfixed\u001b[0m\u001b[0;34m,\u001b[0m \u001b[0;34m[\u001b[0m\u001b[0;34m'T[0]'\u001b[0m\u001b[0;34m]\u001b[0m\u001b[0;34m,\u001b[0m \u001b[0;34m'Reactor case'\u001b[0m\u001b[0;34m,\u001b[0m\u001b[0;34m'T [K]'\u001b[0m\u001b[0;34m,\u001b[0m\u001b[0;34m'$C_{A0}$ [M]'\u001b[0m \u001b[0;34m)\u001b[0m\u001b[0;34m\u001b[0m\u001b[0;34m\u001b[0m\u001b[0m\n\u001b[0m\u001b[1;32m      8\u001b[0m \u001b[0;34m\u001b[0m\u001b[0m\n",
      "\u001b[0;32m/media/psf/Home/dowlinglab/pyomo/pyomo/contrib/doe/result.py\u001b[0m in \u001b[0;36mfigure_drawing\u001b[0;34m(self, fixed_design_dimensions, sensitivity_dimension, title_text, xlabel_text, ylabel_text, font_axes, font_tick, log_scale)\u001b[0m\n\u001b[1;32m    431\u001b[0m         \u001b[0;31m# if one design variable name is given as DOF, draw 1D sensitivity curve\u001b[0m\u001b[0;34m\u001b[0m\u001b[0;34m\u001b[0m\u001b[0;34m\u001b[0m\u001b[0m\n\u001b[1;32m    432\u001b[0m         \u001b[0;32mif\u001b[0m \u001b[0;34m(\u001b[0m\u001b[0mlen\u001b[0m\u001b[0;34m(\u001b[0m\u001b[0msensitivity_dimension\u001b[0m\u001b[0;34m)\u001b[0m \u001b[0;34m==\u001b[0m \u001b[0;36m1\u001b[0m\u001b[0;34m)\u001b[0m\u001b[0;34m:\u001b[0m\u001b[0;34m\u001b[0m\u001b[0;34m\u001b[0m\u001b[0m\n\u001b[0;32m--> 433\u001b[0;31m             \u001b[0mself\u001b[0m\u001b[0;34m.\u001b[0m\u001b[0m_curve1D\u001b[0m\u001b[0;34m(\u001b[0m\u001b[0mtitle_text\u001b[0m\u001b[0;34m,\u001b[0m \u001b[0mxlabel_text\u001b[0m\u001b[0;34m,\u001b[0m \u001b[0mfont_axes\u001b[0m\u001b[0;34m=\u001b[0m\u001b[0;36m16\u001b[0m\u001b[0;34m,\u001b[0m \u001b[0mfont_tick\u001b[0m\u001b[0;34m=\u001b[0m\u001b[0;36m14\u001b[0m\u001b[0;34m,\u001b[0m \u001b[0mlog_scale\u001b[0m\u001b[0;34m=\u001b[0m\u001b[0;32mTrue\u001b[0m\u001b[0;34m)\u001b[0m\u001b[0;34m\u001b[0m\u001b[0;34m\u001b[0m\u001b[0m\n\u001b[0m\u001b[1;32m    434\u001b[0m         \u001b[0;31m# if two design variable names are given as DOF, draw 2D heatmaps\u001b[0m\u001b[0;34m\u001b[0m\u001b[0;34m\u001b[0m\u001b[0;34m\u001b[0m\u001b[0m\n\u001b[1;32m    435\u001b[0m         \u001b[0;32melif\u001b[0m \u001b[0;34m(\u001b[0m\u001b[0mlen\u001b[0m\u001b[0;34m(\u001b[0m\u001b[0msensitivity_dimension\u001b[0m\u001b[0;34m)\u001b[0m \u001b[0;34m==\u001b[0m \u001b[0;36m2\u001b[0m\u001b[0;34m)\u001b[0m\u001b[0;34m:\u001b[0m\u001b[0;34m\u001b[0m\u001b[0;34m\u001b[0m\u001b[0m\n",
      "\u001b[0;32m/media/psf/Home/dowlinglab/pyomo/pyomo/contrib/doe/result.py\u001b[0m in \u001b[0;36m_curve1D\u001b[0;34m(self, title_text, xlabel_text, font_axes, font_tick, log_scale)\u001b[0m\n\u001b[1;32m    456\u001b[0m \u001b[0;34m\u001b[0m\u001b[0m\n\u001b[1;32m    457\u001b[0m         \u001b[0;31m# extract the range of the DOF design variable\u001b[0m\u001b[0;34m\u001b[0m\u001b[0;34m\u001b[0m\u001b[0;34m\u001b[0m\u001b[0m\n\u001b[0;32m--> 458\u001b[0;31m         \u001b[0mx_range\u001b[0m \u001b[0;34m=\u001b[0m \u001b[0mself\u001b[0m\u001b[0;34m.\u001b[0m\u001b[0mfigure_result_data\u001b[0m\u001b[0;34m[\u001b[0m\u001b[0mself\u001b[0m\u001b[0;34m.\u001b[0m\u001b[0msensitivity_dimension\u001b[0m\u001b[0;34m[\u001b[0m\u001b[0;36m0\u001b[0m\u001b[0;34m]\u001b[0m\u001b[0;34m]\u001b[0m\u001b[0;34m.\u001b[0m\u001b[0mvalues\u001b[0m\u001b[0;34m.\u001b[0m\u001b[0mtolist\u001b[0m\u001b[0;34m(\u001b[0m\u001b[0;34m)\u001b[0m\u001b[0;34m\u001b[0m\u001b[0;34m\u001b[0m\u001b[0m\n\u001b[0m\u001b[1;32m    459\u001b[0m \u001b[0;34m\u001b[0m\u001b[0m\n\u001b[1;32m    460\u001b[0m         \u001b[0;31m# decide if the results are log scaled\u001b[0m\u001b[0;34m\u001b[0m\u001b[0;34m\u001b[0m\u001b[0;34m\u001b[0m\u001b[0m\n",
      "\u001b[0;32m~/anaconda3/envs/pyomo/lib/python3.7/site-packages/pandas/core/frame.py\u001b[0m in \u001b[0;36m__getitem__\u001b[0;34m(self, key)\u001b[0m\n\u001b[1;32m   3456\u001b[0m             \u001b[0;32mif\u001b[0m \u001b[0mself\u001b[0m\u001b[0;34m.\u001b[0m\u001b[0mcolumns\u001b[0m\u001b[0;34m.\u001b[0m\u001b[0mnlevels\u001b[0m \u001b[0;34m>\u001b[0m \u001b[0;36m1\u001b[0m\u001b[0;34m:\u001b[0m\u001b[0;34m\u001b[0m\u001b[0;34m\u001b[0m\u001b[0m\n\u001b[1;32m   3457\u001b[0m                 \u001b[0;32mreturn\u001b[0m \u001b[0mself\u001b[0m\u001b[0;34m.\u001b[0m\u001b[0m_getitem_multilevel\u001b[0m\u001b[0;34m(\u001b[0m\u001b[0mkey\u001b[0m\u001b[0;34m)\u001b[0m\u001b[0;34m\u001b[0m\u001b[0;34m\u001b[0m\u001b[0m\n\u001b[0;32m-> 3458\u001b[0;31m             \u001b[0mindexer\u001b[0m \u001b[0;34m=\u001b[0m \u001b[0mself\u001b[0m\u001b[0;34m.\u001b[0m\u001b[0mcolumns\u001b[0m\u001b[0;34m.\u001b[0m\u001b[0mget_loc\u001b[0m\u001b[0;34m(\u001b[0m\u001b[0mkey\u001b[0m\u001b[0;34m)\u001b[0m\u001b[0;34m\u001b[0m\u001b[0;34m\u001b[0m\u001b[0m\n\u001b[0m\u001b[1;32m   3459\u001b[0m             \u001b[0;32mif\u001b[0m \u001b[0mis_integer\u001b[0m\u001b[0;34m(\u001b[0m\u001b[0mindexer\u001b[0m\u001b[0;34m)\u001b[0m\u001b[0;34m:\u001b[0m\u001b[0;34m\u001b[0m\u001b[0;34m\u001b[0m\u001b[0m\n\u001b[1;32m   3460\u001b[0m                 \u001b[0mindexer\u001b[0m \u001b[0;34m=\u001b[0m \u001b[0;34m[\u001b[0m\u001b[0mindexer\u001b[0m\u001b[0;34m]\u001b[0m\u001b[0;34m\u001b[0m\u001b[0;34m\u001b[0m\u001b[0m\n",
      "\u001b[0;32m~/anaconda3/envs/pyomo/lib/python3.7/site-packages/pandas/core/indexes/base.py\u001b[0m in \u001b[0;36mget_loc\u001b[0;34m(self, key, method, tolerance)\u001b[0m\n\u001b[1;32m   3361\u001b[0m                 \u001b[0;32mreturn\u001b[0m \u001b[0mself\u001b[0m\u001b[0;34m.\u001b[0m\u001b[0m_engine\u001b[0m\u001b[0;34m.\u001b[0m\u001b[0mget_loc\u001b[0m\u001b[0;34m(\u001b[0m\u001b[0mcasted_key\u001b[0m\u001b[0;34m)\u001b[0m\u001b[0;34m\u001b[0m\u001b[0;34m\u001b[0m\u001b[0m\n\u001b[1;32m   3362\u001b[0m             \u001b[0;32mexcept\u001b[0m \u001b[0mKeyError\u001b[0m \u001b[0;32mas\u001b[0m \u001b[0merr\u001b[0m\u001b[0;34m:\u001b[0m\u001b[0;34m\u001b[0m\u001b[0;34m\u001b[0m\u001b[0m\n\u001b[0;32m-> 3363\u001b[0;31m                 \u001b[0;32mraise\u001b[0m \u001b[0mKeyError\u001b[0m\u001b[0;34m(\u001b[0m\u001b[0mkey\u001b[0m\u001b[0;34m)\u001b[0m \u001b[0;32mfrom\u001b[0m \u001b[0merr\u001b[0m\u001b[0;34m\u001b[0m\u001b[0;34m\u001b[0m\u001b[0m\n\u001b[0m\u001b[1;32m   3364\u001b[0m \u001b[0;34m\u001b[0m\u001b[0m\n\u001b[1;32m   3365\u001b[0m         \u001b[0;32mif\u001b[0m \u001b[0mis_scalar\u001b[0m\u001b[0;34m(\u001b[0m\u001b[0mkey\u001b[0m\u001b[0;34m)\u001b[0m \u001b[0;32mand\u001b[0m \u001b[0misna\u001b[0m\u001b[0;34m(\u001b[0m\u001b[0mkey\u001b[0m\u001b[0;34m)\u001b[0m \u001b[0;32mand\u001b[0m \u001b[0;32mnot\u001b[0m \u001b[0mself\u001b[0m\u001b[0;34m.\u001b[0m\u001b[0mhasnans\u001b[0m\u001b[0;34m:\u001b[0m\u001b[0;34m\u001b[0m\u001b[0;34m\u001b[0m\u001b[0m\n",
      "\u001b[0;31mKeyError\u001b[0m: 'T[0]'"
     ]
    }
   ],
   "source": [
    "all_fim.extract_criteria()\n",
    "#print(all_fim.store_all_results_dataframe)\n",
    "## draw 1D sensitivity curve \n",
    "\n",
    "fixed = {\"'CA0[0]'\": 5.0}\n",
    "\n",
    "all_fim.figure_drawing(fixed, ['T[0]'], 'Reactor case','T [K]','$C_{A0}$ [M]' )\n",
    "\n"
   ]
  },
  {
   "cell_type": "markdown",
   "metadata": {},
   "source": [
    "## Heatmap"
   ]
  },
  {
   "cell_type": "code",
   "execution_count": null,
   "metadata": {
    "scrolled": true
   },
   "outputs": [],
   "source": [
    "fixed = {}\n",
    "all_fim.figure_drawing(fixed, ['CA0[0]','T[0]'], 'Reactor case','$C_{A0}$ [M]', 'T [K]' )"
   ]
  },
  {
   "cell_type": "markdown",
   "metadata": {},
   "source": [
    "### Read Heatmaps\n",
    "\n",
    "A heatmap shows the change of the objective function, a.k.a. the experimental information content, in the design region. Horizontal and vertical axes are two design variables, while the color of each grid shows the experimental information content. Taking the Fig. Reactor case - A optimality as example, A-optimality shows that the most informative region is around $C_{A0}=5.0$ M, $T=300.0$ K, while the least informative region is around $C_{A0}=1.0$ M, $T=700.0$ K."
   ]
  },
  {
   "cell_type": "markdown",
   "metadata": {},
   "source": [
    "## Grid search for 3 design variables"
   ]
  },
  {
   "cell_type": "code",
   "execution_count": null,
   "metadata": {},
   "outputs": [],
   "source": [
    "# Define design ranges\n",
    "design_ranges ={'CA0[0]': list(np.linspace(1,5,2)),  \n",
    "                'T[0]': list(np.linspace(300,700,2)), \n",
    "                ('T[0.125]','T[0.25]','T[0.375]','T[0.5]','T[0.625]','T[0.75]','T[0.875]','T[1]'): [300,500]}\n",
    "\n",
    "## choose from 'sequential_finite', 'direct_kaug'\n",
    "sensi_opt = calculation_mode.direct_kaug"
   ]
  },
  {
   "cell_type": "code",
   "execution_count": null,
   "metadata": {},
   "outputs": [],
   "source": [
    "doe_object = DesignOfExperiments(parameter_dict, design_gen,\n",
    "                                 measure_class, create_model,\n",
    "                                prior_FIM=prior_pass, discretize_model=disc_for_measure)\n",
    "\n",
    "all_fim = doe_object.run_grid_search(design_ranges, \n",
    "                                     mode=sensi_opt)"
   ]
  },
  {
   "cell_type": "markdown",
   "metadata": {},
   "source": [
    "### Draw 1D sensitivity curve"
   ]
  },
  {
   "cell_type": "code",
   "execution_count": null,
   "metadata": {
    "scrolled": true
   },
   "outputs": [],
   "source": [
    "test = all_fim.extract_criteria()"
   ]
  },
  {
   "cell_type": "code",
   "execution_count": null,
   "metadata": {},
   "outputs": [],
   "source": [
    "## draw 1D sensitivity curve \n",
    "\n",
    "fixed = {\"'CA0[0]'\": 1.0, \"'T[0.125]'\": 300}\n",
    "\n",
    "all_fim.figure_drawing(fixed, ['T[0]'], 'Reactor case','T [K]','$C_{A0}$ [M]' )"
   ]
  },
  {
   "cell_type": "markdown",
   "metadata": {},
   "source": [
    "### Draw 2D sensitivity curve"
   ]
  },
  {
   "cell_type": "code",
   "execution_count": null,
   "metadata": {},
   "outputs": [],
   "source": [
    "fixed = {\"'T[0.125]'\": 300}\n",
    "\n",
    "all_fim.figure_drawing(fixed, ['CA0[0]','T[0]'], 'Reactor case','$C_{A0}$ [M]', 'T [K]' )"
   ]
  },
  {
   "cell_type": "code",
   "execution_count": null,
   "metadata": {},
   "outputs": [],
   "source": []
  },
  {
   "cell_type": "code",
   "execution_count": null,
   "metadata": {},
   "outputs": [],
   "source": []
  }
 ],
 "metadata": {
  "kernelspec": {
   "display_name": "Python 3 (ipykernel)",
   "language": "python",
   "name": "python3"
  },
  "language_info": {
   "codemirror_mode": {
    "name": "ipython",
    "version": 3
   },
   "file_extension": ".py",
   "mimetype": "text/x-python",
   "name": "python",
   "nbconvert_exporter": "python",
   "pygments_lexer": "ipython3",
   "version": "3.7.11"
  }
 },
 "nbformat": 4,
 "nbformat_minor": 4
}
