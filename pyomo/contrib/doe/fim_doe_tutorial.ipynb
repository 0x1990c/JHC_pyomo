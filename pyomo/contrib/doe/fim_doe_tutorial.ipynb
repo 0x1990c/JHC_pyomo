{
 "cells": [
  {
   "cell_type": "markdown",
   "metadata": {},
   "source": [
    "# Reactor Kinetics Example \n",
    "\n",
    "Jialu Wang (jwang44@nd.edu) and Alex Dowling (adowling@nd.edu)\n",
    "\n",
    "University of Notre Dame\n",
    "\n",
    "This notebook conducts design of experiments for a reactor kinetics experiment with the Pyomo.DoE.\n",
    "    "
   ]
  },
  {
   "cell_type": "markdown",
   "metadata": {},
   "source": [
    "## Step 0: Import Pyomo and Pyomo.DoE module"
   ]
  },
  {
   "cell_type": "code",
   "execution_count": 1,
   "metadata": {},
   "outputs": [],
   "source": [
    "import matplotlib.pyplot as plt\n",
    "import numpy as np\n",
    "import pandas as pd\n",
    "import pyomo.environ as pyo\n",
    "import pyomo.common.unittest as unittest\n",
    "#from pyomo.contrib.doe import DesignOfExperiments, Measurements\n",
    "from doe import DesignOfExperiments\n",
    "from measurements import Measurements\n",
    "from specialSet import SpecialSet"
   ]
  },
  {
   "cell_type": "code",
   "execution_count": 2,
   "metadata": {},
   "outputs": [],
   "source": [
    "## check if ipopt available \n",
    "\n",
    "ipopt_available = pyo.SolverFactory('ipopt').available()\n",
    "\n",
    "if not (ipopt_available):\n",
    "    raise RuntimeError('This Pyomo.DoE example requires Ipopt.')"
   ]
  },
  {
   "cell_type": "markdown",
   "metadata": {},
   "source": [
    "## Step 1: Import Reaction Example Mathematical Model"
   ]
  },
  {
   "cell_type": "markdown",
   "metadata": {},
   "source": [
    "Consider two chemical reactions that convert molecule $A$ to desired product $B$ and a less valuable side-product $C$.\n",
    "\n",
    "$A \\overset{k_1}{\\rightarrow} B \\overset{k_2}{\\rightarrow} C$\n",
    "\n",
    "Our ultimate goal is to design a large-scale continous reactor that maximizes the production of $B$. This general sequential reactions problem is widely applicable to CO$_2$ capture and industry more broadly (petrochemicals, pharmaceuticals, etc.).\n",
    "\n",
    "The rate laws for these two chemical reactions are:\n",
    "\n",
    "$r_A = -k_1 C_A$\n",
    "\n",
    "$r_B = k_1 C_A - k_2 C_B$\n",
    "\n",
    "$r_C = k_2 C_B$\n",
    "\n",
    "Here, $C_A$, $C_B$, and $C_C$ are the concentrations of each species. The rate constants $k_1$ and $k_2$ depend on temperature as follows:\n",
    "\n",
    "$k_1 = A_1 \\exp{\\frac{-E_1}{R T}}$\n",
    "\n",
    "$k_2 = A_2 \\exp{\\frac{-E_2}{R T}}$\n",
    "\n",
    "$A_1, A_2, E_1$, and $E_2$ are fitted model parameters. $R$ is the ideal-gas constant and $T$ is absolute temperature.\n",
    "\n",
    "Using the **CCSI$^2$ toolset**, we would like to perform **uncertainty quantification** and **design of experiments** on a small-scale **batch reactor** to infer parameters $A_1$, $A_2$, $E_1$, and $E_2$."
   ]
  },
  {
   "cell_type": "markdown",
   "metadata": {},
   "source": [
    "### Batch reactor\n",
    "\n",
    "The concentrations in a batch reactor evolve with time per the following differential equations:\n",
    "\n",
    "$$ \\frac{d C_A}{dt} = r_A = -k_1 C_A $$\n",
    "\n",
    "$$ \\frac{d C_B}{dt} = r_B = k_1 C_A - k_2 C_B $$\n",
    "\n",
    "$$ \\frac{d C_C}{dt} = r_C = k_2 C_B $$\n",
    "\n",
    "This is a linear system of differential equations. Assuming the feed is only species $A$, i.e., \n",
    "\n",
    "$$C_A(t=0) = C_{A0} \\quad C_B(t=0) = 0 \\quad C_C(t=0) = 0$$\n",
    "\n",
    "When the temperature is constant, it leads to the following analytic solution:\n",
    "\n",
    "$$C_A(t) = C_{A,0} \\exp(-k_1 t)$$\n",
    "\n",
    "$$C_B(t) = \\frac{k_1}{k_2 - k_1} C_{A,0} \\left[\\exp(-k_1 t) - \\exp(-k_2 t) \\right]$$\n",
    "\n",
    "$$C_C(t) = C_{A,0} - \\frac{k_2}{k_2 - k_1} C_{A,0} \\exp(-k_1 t) + \\frac{k_1}{k_2 - k_1} \\exp(-k_2 t) C_{A,0} = C_{A,0} - C_{A}(t) - C_{B}(t)$$"
   ]
  },
  {
   "cell_type": "code",
   "execution_count": 3,
   "metadata": {},
   "outputs": [],
   "source": [
    "# The model is implemented in reactor_kinetics.py \n",
    "#from pyomo.contrib.doe.example.reactor_kinetics import create_model, disc_for_measure\n",
    "from reactor_kinetics import create_model, disc_for_measure"
   ]
  },
  {
   "cell_type": "markdown",
   "metadata": {},
   "source": [
    "## Step 2: Define inputs"
   ]
  },
  {
   "cell_type": "code",
   "execution_count": 4,
   "metadata": {
    "scrolled": true
   },
   "outputs": [],
   "source": [
    "# Create model function\n",
    "createmod = create_model\n",
    "\n",
    "# discretization by Pyomo.DAE\n",
    "disc = disc_for_measure\n",
    "\n",
    "# Control time set [h]\n",
    "t_control = [0, 0.125, 0.25, 0.375, 0.5, 0.625, 0.75, 0.875, 1]\n",
    "    \n",
    "# Measurement time points [h]\n",
    "t_measure = [0, 0.125, 0.25, 0.375, 0.5, 0.625, 0.75, 0.875, 1]\n",
    "\n",
    "# design variable and its control time set\n",
    "#dv_pass = {'CA0': [0],'T': t_control}\n",
    "\n",
    "# Define parameter nominal value \n",
    "parameter_dict = {'A1': 84.79085853498033, 'A2': 371.71773413976416, 'E1': 7.777032028026428, 'E2': 15.047135137500822}"
   ]
  },
  {
   "cell_type": "code",
   "execution_count": 5,
   "metadata": {},
   "outputs": [
    {
     "data": {
      "text/plain": [
       "['CA0[0]',\n",
       " 'T[0]',\n",
       " 'T[0.125]',\n",
       " 'T[0.25]',\n",
       " 'T[0.375]',\n",
       " 'T[0.5]',\n",
       " 'T[0.625]',\n",
       " 'T[0.75]',\n",
       " 'T[0.875]',\n",
       " 'T[1]']"
      ]
     },
     "execution_count": 5,
     "metadata": {},
     "output_type": "execute_result"
    }
   ],
   "source": [
    "total_name = [\"CA0\", \"T\"]\n",
    "dtime_index = [[0], t_control] \n",
    "\n",
    "design_gen = SpecialSet()\n",
    "design_gen.add_elements(total_name, time_index = dtime_index)"
   ]
  },
  {
   "cell_type": "code",
   "execution_count": 6,
   "metadata": {},
   "outputs": [
    {
     "name": "stdout",
     "output_type": "stream",
     "text": [
      "['C[CA,0]', 'C[CA,0.125]', 'C[CA,0.25]', 'C[CA,0.375]', 'C[CA,0.5]', 'C[CA,0.625]', 'C[CA,0.75]', 'C[CA,0.875]', 'C[CA,1]', 'C[CB,0]', 'C[CB,0.125]', 'C[CB,0.25]', 'C[CB,0.375]', 'C[CB,0.5]', 'C[CB,0.625]', 'C[CB,0.75]', 'C[CB,0.875]', 'C[CB,1]', 'C[CC,0]', 'C[CC,0.125]', 'C[CC,0.25]', 'C[CC,0.375]', 'C[CC,0.5]', 'C[CC,0.625]', 'C[CC,0.75]', 'C[CC,0.875]', 'C[CC,1]']\n"
     ]
    }
   ],
   "source": [
    "# Create measurement object\n",
    "### Way 1: User define measurements \n",
    "#response = ['CA','CB','CC']\n",
    "#all_idx = [response]\n",
    "#t_idx = t_control\n",
    "\n",
    "#measure = {'C': [all_idx, t_idx]}\n",
    "\n",
    "#m_res = []\n",
    "#for r in response:\n",
    "#    for t in t_control:\n",
    "#        m_res.append(str('C['+str(r)+','+str(t)+']'))\n",
    "        \n",
    "#print(m_res)\n",
    "\n",
    "#measure_class = Measurements()\n",
    "#measure_class.specify(m_res)\n",
    "\n",
    "#print(measure_class.measurement_name)\n",
    "        \n",
    "### Way 2: Pyomo.DoE define measurements. Measurements have at most 1 index besides the time index\n",
    "total_name = [\"C\"]\n",
    "extra_index = [[[\"CA\", \"CB\", \"CC\"]]]\n",
    "time_index = [t_control] \n",
    "\n",
    "#measure_gen = SpecialSet()\n",
    "#measure_gen.add_elements(total_name, extra_index = extra_index, time_index = time_index)\n",
    "\n",
    "measure_class = Measurements()\n",
    "measure_class.add_elements(total_name, extra_index=extra_index, time_index = time_index)\n",
    "print(measure_class.measurement_name)\n",
    "#print(measure_gen.special_set)\n"
   ]
  },
  {
   "cell_type": "code",
   "execution_count": 7,
   "metadata": {},
   "outputs": [],
   "source": [
    "#import itertools \n",
    "\n",
    "#list2d = [['CA', 'CB', 'CC'], [10,23,28], [1,2,3,4,5,6]]\n",
    "\n",
    "#merged = list(itertools.product(*list2d))\n",
    "#print(merged)"
   ]
  },
  {
   "cell_type": "code",
   "execution_count": 8,
   "metadata": {},
   "outputs": [],
   "source": [
    "def generate_exp(t_set, CA0, T):  \n",
    "    \"\"\"Generate experiments. \n",
    "    t_set: time control set for T.\n",
    "    CA0: CA0 value\n",
    "    T: A list of T \n",
    "    \"\"\"\n",
    "    assert(len(t_set)==len(T)), 'T should have the same length as t_set'\n",
    "    \n",
    "    T_con_initial = {}\n",
    "    for t, tim in enumerate(t_set):\n",
    "        T_con_initial[tim] = T[t]\n",
    "        \n",
    "    dv_dict_overall = {'CA0': {0: CA0},'T': T_con_initial}\n",
    "    return dv_dict_overall"
   ]
  },
  {
   "cell_type": "code",
   "execution_count": 9,
   "metadata": {},
   "outputs": [
    {
     "name": "stdout",
     "output_type": "stream",
     "text": [
      "The prior information FIM: [[0. 0. 0. 0.]\n",
      " [0. 0. 0. 0.]\n",
      " [0. 0. 0. 0.]\n",
      " [0. 0. 0. 0.]]\n",
      "Prior Det: 0.0\n",
      "Eigenvalue of the prior experiments FIM: [0. 0. 0. 0.]\n"
     ]
    }
   ],
   "source": [
    "# empty prior\n",
    "prior_pass = np.zeros((4,4))\n",
    "\n",
    "print('The prior information FIM:', prior_pass)\n",
    "print('Prior Det:', np.linalg.det(prior_pass))\n",
    "print('Eigenvalue of the prior experiments FIM:', np.linalg.eigvals(prior_pass))"
   ]
  },
  {
   "cell_type": "markdown",
   "metadata": {},
   "source": [
    "## Method: Compute FIM \n",
    "\n",
    "This method computes an MBDoE optimization problem with no degrees of freedom."
   ]
  },
  {
   "cell_type": "code",
   "execution_count": 10,
   "metadata": {},
   "outputs": [],
   "source": [
    "# choose from 'sequential_finite', 'direct_kaug'\n",
    "# 'sequential_sipopt', 'sequential_kaug' is also available\n",
    "sensi_opt = 'sequential_finite'\n",
    "#sensi_opt = 'direct_kaug'\n",
    "\n",
    "if sensi_opt == 'direct_kaug':\n",
    "    args1 = [True]\n",
    "\n",
    "# Define experiments\n",
    "#exp1 = generate_exp(t_control, 5, [570, 300, 300, 300, 300, 300, 300, 300, 300])\n",
    "exp1 = [5, 570, 300, 300, 300, 300, 300, 300, 300, 300]"
   ]
  },
  {
   "cell_type": "code",
   "execution_count": 11,
   "metadata": {
    "scrolled": true
   },
   "outputs": [
    {
     "name": "stdout",
     "output_type": "stream",
     "text": [
      "Ipopt 3.13.2: linear_solver=ma57\n",
      "halt_on_ampl_error=yes\n",
      "max_iter=3000\n",
      "\n",
      "\n",
      "******************************************************************************\n",
      "This program contains Ipopt, a library for large-scale nonlinear optimization.\n",
      " Ipopt is released as open source code under the Eclipse Public License (EPL).\n",
      "         For more information visit http://projects.coin-or.org/Ipopt\n",
      "\n",
      "This version of Ipopt was compiled from source code available at\n",
      "    https://github.com/IDAES/Ipopt as part of the Institute for the Design of\n",
      "    Advanced Energy Systems Process Systems Engineering Framework (IDAES PSE\n",
      "    Framework) Copyright (c) 2018-2019. See https://github.com/IDAES/idaes-pse.\n",
      "\n",
      "This version of Ipopt was compiled using HSL, a collection of Fortran codes\n",
      "    for large-scale scientific computation.  All technical papers, sales and\n",
      "    publicity material resulting from use of the HSL codes within IPOPT must\n",
      "    contain the following acknowledgement:\n",
      "        HSL, a collection of Fortran codes for large-scale scientific\n",
      "        computation. See http://www.hsl.rl.ac.uk.\n",
      "******************************************************************************\n",
      "\n",
      "This is Ipopt version 3.13.2, running with linear solver ma57.\n",
      "\n",
      "Number of nonzeros in equality constraint Jacobian...:    25344\n",
      "Number of nonzeros in inequality constraint Jacobian.:        0\n",
      "Number of nonzeros in Lagrangian Hessian.............:     2320\n",
      "\n",
      "Total number of variables............................:     6968\n",
      "                     variables with only lower bounds:     2312\n",
      "                variables with lower and upper bounds:      784\n",
      "                     variables with only upper bounds:        0\n",
      "Total number of equality constraints.................:     6968\n",
      "Total number of inequality constraints...............:        0\n",
      "        inequality constraints with only lower bounds:        0\n",
      "   inequality constraints with lower and upper bounds:        0\n",
      "        inequality constraints with only upper bounds:        0\n",
      "\n",
      "iter    objective    inf_pr   inf_du lg(mu)  ||d||  lg(rg) alpha_du alpha_pr  ls\n",
      "   0  0.0000000e+00 2.67e+02 1.00e+00  -1.0 0.00e+00    -  0.00e+00 0.00e+00   0\n",
      "Reallocating memory for MA57: lfact (239448)\n",
      "   1  0.0000000e+00 5.13e+01 3.85e+02  -1.0 2.67e+02    -  2.54e-03 9.90e-01f  1\n",
      "   2  0.0000000e+00 1.74e+01 2.89e+02  -1.0 6.26e+01    -  6.65e-02 9.90e-01h  1\n",
      "   3  0.0000000e+00 1.29e-01 6.61e+01  -1.0 1.07e+01    -  7.90e-01 9.90e-01h  1\n",
      "   4  0.0000000e+00 4.60e-06 2.19e+02  -1.0 8.65e-02    -  9.91e-01 1.00e+00h  1\n",
      "Reallocating memory for MA57: lfact (287125)\n",
      "   5  0.0000000e+00 3.08e-13 1.00e-06  -1.0 2.64e-06    -  1.00e+00 1.00e+00h  1\n",
      "\n",
      "Number of Iterations....: 5\n",
      "\n",
      "                                   (scaled)                 (unscaled)\n",
      "Objective...............:   0.0000000000000000e+00    0.0000000000000000e+00\n",
      "Dual infeasibility......:   0.0000000000000000e+00    0.0000000000000000e+00\n",
      "Constraint violation....:   1.2796280713826369e-13    3.0841995624086849e-13\n",
      "Complementarity.........:   0.0000000000000000e+00    0.0000000000000000e+00\n",
      "Overall NLP error.......:   1.2796280713826369e-13    3.0841995624086849e-13\n",
      "\n",
      "\n",
      "Number of objective function evaluations             = 6\n",
      "Number of objective gradient evaluations             = 6\n",
      "Number of equality constraint evaluations            = 6\n",
      "Number of inequality constraint evaluations          = 0\n",
      "Number of equality constraint Jacobian evaluations   = 6\n",
      "Number of inequality constraint Jacobian evaluations = 0\n",
      "Number of Lagrangian Hessian evaluations             = 5\n",
      "Total CPU secs in IPOPT (w/o function evaluations)   =      0.118\n",
      "Total CPU secs in NLP function evaluations           =      0.007\n",
      "\n",
      "EXIT: Optimal Solution Found.\n",
      "s: 0\n",
      "s: 1\n",
      "s: 2\n",
      "s: 3\n",
      "s: 4\n",
      "s: 5\n",
      "s: 6\n",
      "s: 7\n",
      "{0: [5.0, 0.6692790272906691, 0.41851807427777926, 0.26171054426468615, 0.16365460224749667, 0.10233759939644997, 0.06399443771455855, 0.04001743330462153, 0.02502397123063587, 0.0, 1.4370545875778253, 1.5217034560087175, 1.5089025368964597, 1.4420985807249207, 1.3477283712887451, 1.2416690920867393, 1.133263769758672, 1.027831207448659, 0.0, 2.893666385131506, 3.0597784697135033, 3.2293869188388538, 3.394246817027583, 3.549934029314805, 3.694336470198702, 3.826718796936707, 3.947144821320705], 'design': [5, 570, 300, 300, 300, 300, 300, 300, 300, 300], 1: [5.0, 0.6719724181247037, 0.4205966683482355, 0.2632571704644082, 0.16477624055629828, 0.10313568820925191, 0.06455402882408726, 0.0404052439051574, 0.025290191251798193, 0.0, 1.4370147561097772, 1.5222491114834458, 1.5098931068949921, 1.4433858552946963, 1.3491851768839591, 1.2431972229478934, 1.1347927251818364, 1.0293135398426285, 0.0, 2.8910128257655194, 3.0571542201683184, 3.2268497226406, 3.391837904149005, 3.5476791349067893, 3.6922487482280193, 3.8248020309130064, 3.9453962689055735], 2: [5.0, 0.6706243700020413, 0.4195560837358889, 0.2624827180068932, 0.16421446362736358, 0.10273586874285005, 0.06427362421801537, 0.04021087104893109, 0.02515672906555277, 0.0, 1.4356608195066383, 1.5205901724654212, 1.5079974275779469, 1.441333544094409, 1.347049388121576, 1.2410376224333126, 1.1326547091762604, 1.0272298456347868, 0.0, 2.893714810491321, 3.0598537437986906, 3.2295198544151593, 3.3944519922782272, 3.5502147431355744, 3.6946887533486725, 3.8271344197748083, 3.94761342529966], 3: [5.0, 0.6706243700020411, 0.4195560837358889, 0.2624827180068933, 0.1642144636273637, 0.10273586874285018, 0.06427362421801543, 0.04021087104893111, 0.02515672906555277, 0.0, 1.4384112269340301, 1.5233649787284858, 1.5108005401766356, 1.4441529235577155, 1.349865929202802, 1.2438302573621958, 1.1354032105374845, 1.0299162449803472, 0.0, 2.890964403063929, 3.0570789375356258, 3.2267167418164706, 3.391632612814921, 3.547398202054348, 3.691896118419789, 3.8243859184135838, 3.9449270259541], 4: [5.0, 0.6728495909452175, 0.4215632778776199, 0.26412380960991455, 0.16548259884986027, 0.1036805071172797, 0.06495938322705022, 0.04069927498006518, 0.02549948755075608, 0.0, 1.4369870623766776, 1.5221422362219825, 1.509893050262934, 1.4435376649630731, 1.349473699909032, 1.2435870393023727, 1.1352465102946094, 1.029799416159399, 0.0, 2.890163346678105, 3.0562944859003975, 3.225983140127152, 3.390979736187067, 3.5468457929736883, 3.6914535774705772, 3.824054214725325, 3.9447010962898448], 5: [5.0, 0.6684028312528921, 0.4175542456706033, 0.2608480095015936, 0.1629529211268508, 0.10179742047681384, 0.06359330501149082, 0.039727022780558785, 0.02481764925917693, 0.0, 1.4370806969625929, 1.5218072075989444, 1.5088985535401493, 1.441942621554485, 1.347436176074143, 1.2412763891554193, 1.132807972350955, 1.0273441425907517, 0.0, 2.894516471784515, 3.060638546730452, 3.2302534369582565, 3.3951044573186646, 3.550766403449043, 3.6951303058330893, 3.8274650048684866, 3.9478382081500714], 6: [5.0, 0.6706243700020411, 0.4195560837358889, 0.2624827180068932, 0.16421446362736358, 0.10273586874285011, 0.0642736242180154, 0.04021087104893108, 0.02515672906555276, 0.0, 1.4414166650348814, 1.52684480739423, 1.5147212621607367, 1.4484455916660355, 1.3544479171624777, 1.2486176233583144, 1.1403173456591318, 1.0348870945924356, 0.0, 2.8879589649630777, 3.0535991088698817, 3.22279601983237, 3.3873399447066013, 3.5428162140946724, 3.6871087524236703, 3.8194717832919367, 3.9399561763420112], 7: [5.0, 0.6706243700020417, 0.4195560837358892, 0.2624827180068935, 0.16421446362736375, 0.10273586874285019, 0.06427362421801547, 0.04021087104893113, 0.025156729065552795, 0.0, 1.4326573615384146, 1.5171119900065817, 1.5040785376791426, 1.4370435698479929, 1.3424716046968455, 1.2362565062720157, 1.1277492573469166, 1.0222703526104107, 0.0, 2.896718268459544, 3.0633319262575296, 3.233438744313964, 3.398741966524643, 3.5547925265603046, 3.699469869509969, 3.832039871604152, 3.9525729183240363]}\n"
     ]
    }
   ],
   "source": [
    "doe_object = DesignOfExperiments(parameter_dict, design_gen.special_set,\n",
    "                                 measure_class, createmod,\n",
    "                                prior_FIM=prior_pass, discretize_model=disc,)\n",
    "\n",
    "\n",
    "result = doe_object.compute_FIM(exp1, mode=sensi_opt, FIM_store_name = 'dynamic.csv', \n",
    "                                 read_output=None,\n",
    "                                scale_nominal_param_value=True,\n",
    "                                formula='central')\n",
    "\n",
    "\n",
    "result.calculate_FIM(doe_object.design_values)\n"
   ]
  },
  {
   "cell_type": "code",
   "execution_count": 12,
   "metadata": {
    "scrolled": false
   },
   "outputs": [
    {
     "name": "stdout",
     "output_type": "stream",
     "text": [
      "{'A1': [0.0, -1.346695417017263, -1.0392970352281206, -0.7733130998610338, -0.5608191544008018, -0.3990444064009696, -0.2797955547643518, -0.19390530026793668, -0.13311001058116145, 0.0, 0.01991573402404523, -0.27282773736414523, -0.49528499926621, -0.6436372848878102, -0.7284027976069973, -0.7640654305770543, -0.7644777115821677, -0.7411661969847216, 0.0, 1.3267796829932177, 1.31212477259246, 1.2685980991269383, 1.2044564392887924, 1.1274472040079253, 1.0438609853413716, 0.9583830118502501, 0.8742762075657495], 'A2': [0.0, 1.1102230246251565e-13, 0.0, -5.551115123125783e-14, -5.551115123125783e-14, -6.245004513516506e-14, -2.7755575615628914e-14, -1.0408340855860843e-14, 0.0, 0.0, -1.3752037136959272, -1.3874031315322943, -1.401556299344353, -1.4096897316532297, -1.408270540612988, -1.3963174644415766, -1.3742506806120325, -1.343199672780182, 0.0, 1.3752037136958162, 1.3874031315324054, 1.401556299344353, 1.4096897316531187, 1.408270540613099, 1.3963174644417986, 1.3742506806122545, 1.34319967277996], 'E1': [0.0, 2.2233798461626653, 2.004516103508297, 1.6379000541604791, 1.2648388615047328, 0.9415433202329334, 0.6830391077796982, 0.48612609975319865, 0.3409191457895751, 0.0, -0.046817292957634926, 0.167514311519068, 0.49724836139231066, 0.7975217042940351, 1.0187619174445437, 1.1553250734767095, 1.2192689718272254, 1.2276367843236935, 0.0, -2.1765625532048634, -2.172030415027226, -2.1351484155522904, -2.062360565798782, -1.9603052376773176, -1.8383641812560467, -1.7053950715808506, -1.568555930113291], 'E2': [0.0, -2.7755575615628914e-13, -1.6653345369377346e-13, -1.3877787807814457e-13, -8.326672684688673e-14, -4.1633363423443364e-14, -3.469446951953614e-14, -2.7755575615628914e-14, -1.734723475976807e-14, 0.0, 4.379651748233404, 4.8664086938241535, 5.321362240797045, 5.701010909021308, 5.988156232816121, 6.180558543149361, 6.284044156107615, 6.3083709910124455, 0.0, -4.379651748233071, -4.8664086938239315, -5.321362240796823, -5.701010909020975, -5.988156232816121, -6.180558543149361, -6.284044156107615, -6.3083709910125565]}\n"
     ]
    }
   ],
   "source": [
    "print(doe_object.jac)"
   ]
  },
  {
   "cell_type": "code",
   "execution_count": 13,
   "metadata": {
    "scrolled": true
   },
   "outputs": [
    {
     "name": "stdout",
     "output_type": "stream",
     "text": [
      "======Result summary======\n",
      "Four design criteria log10() value:\n",
      "A-optimality: 2.788585176297677\n",
      "D-optimality: 2.821839701731567\n",
      "E-optimality: -1.0123416986419675\n",
      "Modified E-optimality: 3.781396159148341\n"
     ]
    }
   ],
   "source": [
    "print('======Result summary======')\n",
    "print('Four design criteria log10() value:')\n",
    "print('A-optimality:', np.log10(result.trace))\n",
    "print('D-optimality:', np.log10(result.det))\n",
    "print('E-optimality:', np.log10(result.min_eig))\n",
    "print('Modified E-optimality:', np.log10(result.cond))"
   ]
  },
  {
   "cell_type": "markdown",
   "metadata": {},
   "source": [
    "## Method: Optimization\n",
    "Gradient-based optimization with IPOPT with .optimize_doe()\n",
    "\n",
    "This function solves twice: It solves the square version of the MBDoE problem first, and then unfixes the design variables as degree of freedom and solves again. In this way the optimization problem can be well initialized. "
   ]
  },
  {
   "cell_type": "code",
   "execution_count": null,
   "metadata": {},
   "outputs": [],
   "source": [
    "exp1 = generate_exp(t_control, 3, [500, 300, 300, 300, 300, 300, 300, 300, 300])\n",
    "\n",
    "# add a prior information (scaled FIM with T=500 and T=300 experiments)\n",
    "prior = np.asarray([[  28.67892806 ,   5.41249739 , -81.73674601 , -24.02377324],\n",
    " [   5.41249739 ,  26.40935036 , -12.41816477 , -139.23992532],\n",
    " [ -81.73674601 , -12.41816477 , 240.46276004 ,  58.76422806],\n",
    " [ -24.02377324 , -139.23992532 ,  58.76422806 , 767.25584508]])\n",
    "\n"
   ]
  },
  {
   "cell_type": "code",
   "execution_count": null,
   "metadata": {
    "scrolled": true
   },
   "outputs": [],
   "source": [
    "doe_object = DesignOfExperiments(parameter_dict, dv_pass,\n",
    "                                 measure_class, createmod,\n",
    "                                prior_FIM=prior, discretize_model=disc, args=[True])\n",
    "\n",
    "square_result, optimize_result= doe_object.stochastic_program(exp1, if_optimize=True, if_Cholesky=True, \n",
    "                                                         scale_nominal_param_value=True, objective_option='det', \n",
    "                                                         L_initial=np.linalg.cholesky(prior))"
   ]
  },
  {
   "cell_type": "code",
   "execution_count": null,
   "metadata": {
    "scrolled": true
   },
   "outputs": [],
   "source": [
    "print('======Result summary======')\n",
    "print('This optimization is solved with status:', optimize_result.status)\n",
    "print('The result FIM is:', optimize_result.FIM)\n",
    "print('Four design criteria log10() value:')\n",
    "print('A-optimality:', np.log10(optimize_result.trace))\n",
    "print('D-optimality:', np.log10(optimize_result.det))\n",
    "print('E-optimality:', np.log10(optimize_result.min_eig))\n",
    "print('Modified E-optimality:', np.log10(optimize_result.cond))\n",
    "\n",
    "t_list = []\n",
    "for t in optimize_result.model.t:\n",
    "    t_list.append(t)\n",
    "\n",
    "T_list = []\n",
    "for i in t_list:\n",
    "    T_list.append(pyo.value(optimize_result.model.T[i]))\n",
    "    \n",
    "si=16\n",
    "plt.rc('axes', titlesize=si)\n",
    "plt.rc('axes', labelsize=si)\n",
    "plt.rc('xtick', labelsize=si)\n",
    "plt.rc('ytick', labelsize=si)\n",
    "plt.rc('legend', fontsize=12)\n",
    "plt.plot(t_list, T_list, 'b', linewidth=2)\n",
    "#plt.scatter(t_list, T_list, 'b')\n",
    "plt.ylabel('T [$K$]')\n",
    "plt.xlabel('Time [$h$]')\n",
    "plt.show()"
   ]
  },
  {
   "cell_type": "markdown",
   "metadata": {},
   "source": [
    "## Method: Exploratory analysis (Enumeration)\n",
    "\n",
    "This method conducts exploratory analysis by enumeration. \n",
    "It allows a user to define any number (dimensions) of design variables.\n",
    "Heatmaps can be drawn by two design variables, fixing other design variables; \n",
    "1D curve can be drawn by one design variable, fixing other design variables."
   ]
  },
  {
   "cell_type": "markdown",
   "metadata": {},
   "source": [
    "### Specify user inputs"
   ]
  },
  {
   "cell_type": "code",
   "execution_count": null,
   "metadata": {},
   "outputs": [],
   "source": [
    "# Design variable ranges as lists \n",
    "design_ranges = [list(np.linspace(1,5,5)), list(np.linspace(300,700,5))]\n",
    "\n",
    "# Design variable names \n",
    "dv_apply_name = ['CA0','T']\n",
    "\n",
    "# Design variable should be fixed at these time points\n",
    "dv_apply_time = [[0],t_control]\n",
    "\n",
    "# Define experiments. This is a starting point of which the value does not matter\n",
    "exp1 = generate_exp(t_control, 5, [300, 300, 300, 300, 300, 300, 300, 300, 300])\n",
    "    \n",
    "## choose from 'sequential_finite', 'direct_kaug'\n",
    "#sensi_opt = 'sequential_finite'\n",
    "sensi_opt = 'direct_kaug'\n",
    "\n",
    "# model option\n",
    "if sensi_opt == 'direct_kaug':\n",
    "    args_ = [False]\n",
    "else:\n",
    "    args_ = [True]"
   ]
  },
  {
   "cell_type": "code",
   "execution_count": null,
   "metadata": {},
   "outputs": [],
   "source": [
    "# add prior information\n",
    "prior_all = [[ 22.52943024 , 1.84034314, -70.23273336, -11.09432962],\n",
    " [   1.84034314 ,  18.09848116 ,  -5.73565034 , -109.15866135],\n",
    " [ -70.23273336 ,  -5.73565034 , 218.94192843 ,  34.57680848],\n",
    " [ -11.09432962 , -109.15866135 ,  34.57680848 ,  658.37644634]]\n",
    "\n",
    "print(np.shape(prior_all))\n",
    "\n",
    "prior_pass=np.asarray(prior_all)\n",
    "print(np.shape(prior_pass))\n",
    "\n",
    "print('The prior information FIM:', prior_pass)\n",
    "print('Prior Det:', np.linalg.det(prior_pass))"
   ]
  },
  {
   "cell_type": "code",
   "execution_count": null,
   "metadata": {
    "scrolled": true
   },
   "outputs": [],
   "source": [
    "doe_object = DesignOfExperiments(parameter_dict, dv_pass,\n",
    "                                 measure_class, createmod,\n",
    "                                prior_FIM=prior_pass, discretize_model=disc, args=args_)\n",
    "\n",
    "all_fim = doe_object.run_grid_search(exp1, design_ranges, dv_apply_name, dv_apply_time, \n",
    "                                     mode=sensi_opt)"
   ]
  },
  {
   "cell_type": "markdown",
   "metadata": {},
   "source": [
    "### 1D sensitivity curve"
   ]
  },
  {
   "cell_type": "code",
   "execution_count": null,
   "metadata": {},
   "outputs": [],
   "source": [
    "test = all_fim.extract_criteria()\n",
    "\n",
    "## draw 1D sensitivity curve \n",
    "\n",
    "fixed = {\"'CA0'\": 5.0}\n",
    "\n",
    "all_fim.figure_drawing(fixed, ['T'], 'Reactor case','T [K]','$C_{A0}$ [M]' )\n",
    "\n"
   ]
  },
  {
   "cell_type": "markdown",
   "metadata": {},
   "source": [
    "## Heatmap"
   ]
  },
  {
   "cell_type": "code",
   "execution_count": null,
   "metadata": {
    "scrolled": true
   },
   "outputs": [],
   "source": [
    "fixed = {}\n",
    "all_fim.figure_drawing(fixed, ['CA0','T'], 'Reactor case','$C_{A0}$ [M]', 'T [K]' )"
   ]
  },
  {
   "cell_type": "markdown",
   "metadata": {},
   "source": [
    "### Read Heatmaps\n",
    "\n",
    "A heatmap shows the change of the objective function, a.k.a. the experimental information content, in the design region. Horizontal and vertical axes are two design variables, while the color of each grid shows the experimental information content. Taking the Fig. Reactor case - A optimality as example, A-optimality shows that the most informative region is around $C_{A0}=5.0$ M, $T=300.0$ K, while the least informative region is around $C_{A0}=1.0$ M, $T=700.0$ K."
   ]
  },
  {
   "cell_type": "markdown",
   "metadata": {},
   "source": [
    "## Grid search for 3 design variables"
   ]
  },
  {
   "cell_type": "code",
   "execution_count": null,
   "metadata": {},
   "outputs": [],
   "source": [
    "# Define design ranges\n",
    "design_ranges = [list(np.linspace(1,5,2)),  list(np.linspace(300,700,2)), [300,500]]\n",
    "\n",
    "# Define design variable \n",
    "# Here the two T are for different controlling time subsets\n",
    "dv_apply_name = ['CA0', 'T', 'T']\n",
    "dv_apply_time = [[0], [0], [0.125, 0.25, 0.375, 0.5, 0.625, 0.75, 0.875,1]]\n",
    "\n",
    "# Define experiments\n",
    "exp1 = generate_exp(t_control, 5, [300, 300, 300, 300, 300, 300, 300, 300, 300])\n",
    "\n",
    "## choose from 'sequential_finite', 'direct_kaug'\n",
    "#sensi_opt = 'sequential_finite'\n",
    "sensi_opt = 'direct_kaug'\n",
    "\n",
    "# model option\n",
    "if sensi_opt == 'direct_kaug':\n",
    "    args_ = [False]\n",
    "else:\n",
    "    args_ = [True]"
   ]
  },
  {
   "cell_type": "code",
   "execution_count": null,
   "metadata": {},
   "outputs": [],
   "source": [
    "doe_object = DesignOfExperiments(parameter_dict, dv_pass,\n",
    "                                 measure_class, createmod,\n",
    "                                prior_FIM=prior_pass, discretize_model=disc, args=args_)\n",
    "\n",
    "all_fim = doe_object.run_grid_search(exp1, design_ranges, dv_apply_name, dv_apply_time, \n",
    "                                     mode=sensi_opt)"
   ]
  },
  {
   "cell_type": "markdown",
   "metadata": {},
   "source": [
    "### Draw 1D sensitivity curve"
   ]
  },
  {
   "cell_type": "code",
   "execution_count": null,
   "metadata": {
    "scrolled": true
   },
   "outputs": [],
   "source": [
    "test = all_fim.extract_criteria()"
   ]
  },
  {
   "cell_type": "code",
   "execution_count": null,
   "metadata": {},
   "outputs": [],
   "source": [
    "## draw 1D sensitivity curve \n",
    "\n",
    "fixed = {\"'CA0'\": 1.0, \"'T2'\": 300}\n",
    "\n",
    "all_fim.figure_drawing(fixed, ['T'], 'Reactor case','T [K]','$C_{A0}$ [M]' )"
   ]
  },
  {
   "cell_type": "markdown",
   "metadata": {},
   "source": [
    "### Draw 2D sensitivity curve"
   ]
  },
  {
   "cell_type": "code",
   "execution_count": null,
   "metadata": {},
   "outputs": [],
   "source": [
    "fixed = {\"'T2'\": 300}\n",
    "\n",
    "all_fim.figure_drawing(fixed, ['CA0','T'], 'Reactor case','$C_{A0}$ [M]', 'T [K]' )"
   ]
  }
 ],
 "metadata": {
  "kernelspec": {
   "display_name": "Python 3 (ipykernel)",
   "language": "python",
   "name": "python3"
  },
  "language_info": {
   "codemirror_mode": {
    "name": "ipython",
    "version": 3
   },
   "file_extension": ".py",
   "mimetype": "text/x-python",
   "name": "python",
   "nbconvert_exporter": "python",
   "pygments_lexer": "ipython3",
   "version": "3.7.11"
  }
 },
 "nbformat": 4,
 "nbformat_minor": 4
}
