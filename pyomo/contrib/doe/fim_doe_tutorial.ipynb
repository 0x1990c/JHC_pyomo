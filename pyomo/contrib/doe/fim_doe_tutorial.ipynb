{
 "cells": [
  {
   "cell_type": "markdown",
   "metadata": {},
   "source": [
    "# Reactor Kinetics Example \n",
    "\n",
    "Jialu Wang (jwang44@nd.edu) and Alex Dowling (adowling@nd.edu)\n",
    "\n",
    "University of Notre Dame\n",
    "\n",
    "This notebook conducts design of experiments for a reactor kinetics experiment with the Pyomo.DoE.\n",
    "    "
   ]
  },
  {
   "cell_type": "markdown",
   "metadata": {},
   "source": [
    "## Step 0: Import Pyomo and Pyomo.DoE module"
   ]
  },
  {
   "cell_type": "code",
   "execution_count": 10,
   "metadata": {},
   "outputs": [],
   "source": [
    "import matplotlib.pyplot as plt\n",
    "import numpy as np\n",
    "import pandas as pd\n",
    "import pyomo.environ as pyo\n",
    "import pyomo.common.unittest as unittest\n",
    "#from pyomo.contrib.doe import DesignOfExperiments, Measurements\n",
    "from doe import DesignOfExperiments, mode_lib\n",
    "from measurements import Measurements, SpecialSet, DesignVariables\n",
    "from scenario import formula_lib, ScenarioGenerator"
   ]
  },
  {
   "cell_type": "code",
   "execution_count": 2,
   "metadata": {},
   "outputs": [],
   "source": [
    "## check if ipopt available \n",
    "\n",
    "ipopt_available = pyo.SolverFactory('ipopt').available()\n",
    "\n",
    "if not (ipopt_available):\n",
    "    raise RuntimeError('This Pyomo.DoE example requires Ipopt.')"
   ]
  },
  {
   "cell_type": "markdown",
   "metadata": {},
   "source": [
    "## Step 1: Import Reaction Example Mathematical Model"
   ]
  },
  {
   "cell_type": "markdown",
   "metadata": {},
   "source": [
    "Consider two chemical reactions that convert molecule $A$ to desired product $B$ and a less valuable side-product $C$.\n",
    "\n",
    "$A \\overset{k_1}{\\rightarrow} B \\overset{k_2}{\\rightarrow} C$\n",
    "\n",
    "Our ultimate goal is to design a large-scale continous reactor that maximizes the production of $B$. This general sequential reactions problem is widely applicable to CO$_2$ capture and industry more broadly (petrochemicals, pharmaceuticals, etc.).\n",
    "\n",
    "The rate laws for these two chemical reactions are:\n",
    "\n",
    "$r_A = -k_1 C_A$\n",
    "\n",
    "$r_B = k_1 C_A - k_2 C_B$\n",
    "\n",
    "$r_C = k_2 C_B$\n",
    "\n",
    "Here, $C_A$, $C_B$, and $C_C$ are the concentrations of each species. The rate constants $k_1$ and $k_2$ depend on temperature as follows:\n",
    "\n",
    "$k_1 = A_1 \\exp{\\frac{-E_1}{R T}}$\n",
    "\n",
    "$k_2 = A_2 \\exp{\\frac{-E_2}{R T}}$\n",
    "\n",
    "$A_1, A_2, E_1$, and $E_2$ are fitted model parameters. $R$ is the ideal-gas constant and $T$ is absolute temperature.\n",
    "\n",
    "Using the **CCSI$^2$ toolset**, we would like to perform **uncertainty quantification** and **design of experiments** on a small-scale **batch reactor** to infer parameters $A_1$, $A_2$, $E_1$, and $E_2$."
   ]
  },
  {
   "cell_type": "markdown",
   "metadata": {},
   "source": [
    "### Batch reactor\n",
    "\n",
    "The concentrations in a batch reactor evolve with time per the following differential equations:\n",
    "\n",
    "$$ \\frac{d C_A}{dt} = r_A = -k_1 C_A $$\n",
    "\n",
    "$$ \\frac{d C_B}{dt} = r_B = k_1 C_A - k_2 C_B $$\n",
    "\n",
    "$$ \\frac{d C_C}{dt} = r_C = k_2 C_B $$\n",
    "\n",
    "This is a linear system of differential equations. Assuming the feed is only species $A$, i.e., \n",
    "\n",
    "$$C_A(t=0) = C_{A0} \\quad C_B(t=0) = 0 \\quad C_C(t=0) = 0$$\n",
    "\n",
    "When the temperature is constant, it leads to the following analytic solution:\n",
    "\n",
    "$$C_A(t) = C_{A,0} \\exp(-k_1 t)$$\n",
    "\n",
    "$$C_B(t) = \\frac{k_1}{k_2 - k_1} C_{A,0} \\left[\\exp(-k_1 t) - \\exp(-k_2 t) \\right]$$\n",
    "\n",
    "$$C_C(t) = C_{A,0} - \\frac{k_2}{k_2 - k_1} C_{A,0} \\exp(-k_1 t) + \\frac{k_1}{k_2 - k_1} \\exp(-k_2 t) C_{A,0} = C_{A,0} - C_{A}(t) - C_{B}(t)$$"
   ]
  },
  {
   "cell_type": "code",
   "execution_count": 3,
   "metadata": {},
   "outputs": [],
   "source": [
    "# The model is implemented in reactor_kinetics.py \n",
    "#from pyomo.contrib.doe.example.reactor_kinetics import create_model, disc_for_measure\n",
    "from reactor_kinetics import create_model, disc_for_measure"
   ]
  },
  {
   "cell_type": "markdown",
   "metadata": {},
   "source": [
    "## Step 2: Define inputs"
   ]
  },
  {
   "cell_type": "code",
   "execution_count": 4,
   "metadata": {
    "scrolled": true
   },
   "outputs": [],
   "source": [
    "# Create model function\n",
    "createmod = create_model\n",
    "\n",
    "# discretization by Pyomo.DAE\n",
    "disc = disc_for_measure\n",
    "\n",
    "# Control time set [h]\n",
    "t_control = [0, 0.125, 0.25, 0.375, 0.5, 0.625, 0.75, 0.875, 1]\n",
    "    \n",
    "# Measurement time points [h]\n",
    "t_measure = [0, 0.125, 0.25, 0.375, 0.5, 0.625, 0.75, 0.875, 1]\n",
    "\n",
    "# design variable and its control time set\n",
    "#dv_pass = {'CA0': [0],'T': t_control}\n",
    "\n",
    "# Define parameter nominal value \n",
    "parameter_dict = {'A1': 84.79085853498033, 'A2': 371.71773413976416, 'E1': 7.777032028026428, 'E2': 15.047135137500822}"
   ]
  },
  {
   "cell_type": "code",
   "execution_count": null,
   "metadata": {},
   "outputs": [],
   "source": []
  },
  {
   "cell_type": "code",
   "execution_count": 5,
   "metadata": {},
   "outputs": [
    {
     "name": "stdout",
     "output_type": "stream",
     "text": [
      "['C[CA,0]', 'C[CA,0.125]', 'C[CA,0.25]', 'C[CA,0.375]', 'C[CA,0.5]', 'C[CA,0.625]', 'C[CA,0.75]', 'C[CA,0.875]', 'C[CA,1]', 'C[CB,0]', 'C[CB,0.125]', 'C[CB,0.25]', 'C[CB,0.375]', 'C[CB,0.5]', 'C[CB,0.625]', 'C[CB,0.75]', 'C[CB,0.875]', 'C[CB,1]', 'C[CC,0]', 'C[CC,0.125]', 'C[CC,0.25]', 'C[CC,0.375]', 'C[CC,0.5]', 'C[CC,0.625]', 'C[CC,0.75]', 'C[CC,0.875]', 'C[CC,1]']\n",
      "{'C[CA,0]': 1, 'C[CA,0.125]': 1, 'C[CA,0.25]': 1, 'C[CA,0.375]': 1, 'C[CA,0.5]': 1, 'C[CA,0.625]': 1, 'C[CA,0.75]': 1, 'C[CA,0.875]': 1, 'C[CA,1]': 1, 'C[CB,0]': 1, 'C[CB,0.125]': 1, 'C[CB,0.25]': 1, 'C[CB,0.375]': 1, 'C[CB,0.5]': 1, 'C[CB,0.625]': 1, 'C[CB,0.75]': 1, 'C[CB,0.875]': 1, 'C[CB,1]': 1, 'C[CC,0]': 1, 'C[CC,0.125]': 1, 'C[CC,0.25]': 1, 'C[CC,0.375]': 1, 'C[CC,0.5]': 1, 'C[CC,0.625]': 1, 'C[CC,0.75]': 1, 'C[CC,0.875]': 1, 'C[CC,1]': 1}\n"
     ]
    }
   ],
   "source": [
    "# Create measurement object\n",
    "### Way 1: User define measurements \n",
    "#response = ['CA','CB','CC']\n",
    "#all_idx = [response]\n",
    "#t_idx = t_control\n",
    "\n",
    "#measure = {'C': [all_idx, t_idx]}\n",
    "\n",
    "#m_res = []\n",
    "#for r in response:\n",
    "#    for t in t_control:\n",
    "#        m_res.append(str('C['+str(r)+','+str(t)+']'))\n",
    "        \n",
    "#print(m_res)\n",
    "\n",
    "#measure_class = Measurements()\n",
    "#measure_class.specify(m_res)\n",
    "\n",
    "#print(measure_class.measurement_name)\n",
    "        \n",
    "### Way 2: Pyomo.DoE define measurements. Measurements have at most 1 index besides the time index\n",
    "total_name = [\"C\"]\n",
    "extra_index = [[[\"CA\", \"CB\", \"CC\"]]]\n",
    "time_index = [t_control] \n",
    "\n",
    "#measure_gen = SpecialSet()\n",
    "#measure_gen.add_elements(total_name, extra_index = extra_index, time_index = time_index)\n",
    "\n",
    "measure_class = Measurements()\n",
    "measure_class.add_elements(total_name, extra_index=extra_index, time_index = time_index)\n",
    "print(measure_class.measurement_name)\n",
    "print(measure_class.variance)\n"
   ]
  },
  {
   "cell_type": "code",
   "execution_count": 6,
   "metadata": {
    "scrolled": true
   },
   "outputs": [
    {
     "name": "stdout",
     "output_type": "stream",
     "text": [
      "['CA0[0]', 'T[0]', 'T[0.125]', 'T[0.25]', 'T[0.375]', 'T[0.5]', 'T[0.625]', 'T[0.75]', 'T[0.875]', 'T[1]']\n",
      "{'CA0[0]': 5, 'T[0]': 700, 'T[0.125]': 700, 'T[0.25]': 700, 'T[0.375]': 700, 'T[0.5]': 700, 'T[0.625]': 700, 'T[0.75]': 700, 'T[0.875]': 700, 'T[1]': 700}\n"
     ]
    }
   ],
   "source": [
    "total_name = [\"CA0\", \"T\"]\n",
    "dtime_index = [[0], t_control] \n",
    "exp1 = [5, 570, 300, 300, 300, 300, 300, 300, 300, 300]\n",
    "upper_bound = [5, 700, 700, 700, 700, 700, 700, 700, 700, 700]\n",
    "lower_bound = [1, 300, 300, 300, 300, 300, 300, 300, 300, 300]\n",
    "\n",
    "design_gen = DesignVariables()\n",
    "design_gen.add_elements(total_name, time_index = dtime_index, values=exp1)\n",
    "design_gen.add_bounds(upper_bound=upper_bound, lower_bound=lower_bound)\n",
    "print(design_gen.design_name)\n",
    "print(design_gen.upper_bound)"
   ]
  },
  {
   "cell_type": "code",
   "execution_count": 16,
   "metadata": {},
   "outputs": [
    {
     "name": "stdout",
     "output_type": "stream",
     "text": [
      "{'A1': 16.958171706996065, 'A2': 74.34354682795284, 'E1': 1.5554064056052856, 'E2': 3.0094270275001644}\n",
      "[{'A1': 93.26994438847836, 'A2': 371.71773413976416, 'E1': 7.777032028026428, 'E2': 15.047135137500822}, {'A1': 76.3117726814823, 'A2': 371.71773413976416, 'E1': 7.777032028026428, 'E2': 15.047135137500822}, {'A1': 84.79085853498033, 'A2': 408.8895075537406, 'E1': 7.777032028026428, 'E2': 15.047135137500822}, {'A1': 84.79085853498033, 'A2': 334.5459607257878, 'E1': 7.777032028026428, 'E2': 15.047135137500822}, {'A1': 84.79085853498033, 'A2': 371.71773413976416, 'E1': 8.55473523082907, 'E2': 15.047135137500822}, {'A1': 84.79085853498033, 'A2': 371.71773413976416, 'E1': 6.999328825223785, 'E2': 15.047135137500822}, {'A1': 84.79085853498033, 'A2': 371.71773413976416, 'E1': 7.777032028026428, 'E2': 16.551848651250907}, {'A1': 84.79085853498033, 'A2': 371.71773413976416, 'E1': 7.777032028026428, 'E2': 13.54242162375074}]\n",
      "{'A1': [0, 1], 'A2': [2, 3], 'E1': [4, 5], 'E2': [6, 7]}\n"
     ]
    }
   ],
   "source": [
    "scenario_gene = ScenarioGenerator(parameter_dict, formula=formula_lib.central, step=0.1)\n",
    "parameter_set = scenario_gene.generate_scenario()\n",
    "\n",
    "print(parameter_set['eps-abs'])\n",
    "print(parameter_set['scenario'])\n",
    "print(parameter_set['scena_num'])"
   ]
  },
  {
   "cell_type": "code",
   "execution_count": 7,
   "metadata": {},
   "outputs": [
    {
     "name": "stdout",
     "output_type": "stream",
     "text": [
      "The prior information FIM: [[0. 0. 0. 0.]\n",
      " [0. 0. 0. 0.]\n",
      " [0. 0. 0. 0.]\n",
      " [0. 0. 0. 0.]]\n",
      "Prior Det: 0.0\n",
      "Eigenvalue of the prior experiments FIM: [0. 0. 0. 0.]\n"
     ]
    }
   ],
   "source": [
    "# empty prior\n",
    "prior_pass = np.zeros((4,4))\n",
    "\n",
    "print('The prior information FIM:', prior_pass)\n",
    "print('Prior Det:', np.linalg.det(prior_pass))\n",
    "print('Eigenvalue of the prior experiments FIM:', np.linalg.eigvals(prior_pass))"
   ]
  },
  {
   "cell_type": "markdown",
   "metadata": {},
   "source": [
    "## Method: Compute FIM \n",
    "\n",
    "This method computes an MBDoE optimization problem with no degrees of freedom."
   ]
  },
  {
   "cell_type": "code",
   "execution_count": null,
   "metadata": {},
   "outputs": [],
   "source": [
    "# choose from 'sequential_finite', 'direct_kaug'\n",
    "# 'sequential_sipopt', 'sequential_kaug' is also available\n",
    "#sensi_opt = 'sequential_finite'\n",
    "#sensi_opt = 'direct_kaug'\n",
    "sensi_opt = mode_lib.sequential_finite\n",
    "\n",
    "if sensi_opt == mode_lib.direct_kaug:\n",
    "    args1 = [True]\n",
    "    \n",
    "# Define experiments\n",
    "#exp1 = generate_exp(t_control, 5, [570, 300, 300, 300, 300, 300, 300, 300, 300])\n",
    "exp1 = [5, 570, 300, 300, 300, 300, 300, 300, 300, 300]\n",
    "\n",
    "design_gen.update_values(exp1)"
   ]
  },
  {
   "cell_type": "code",
   "execution_count": null,
   "metadata": {
    "scrolled": true
   },
   "outputs": [],
   "source": [
    "doe_object = DesignOfExperiments(parameter_dict, design_gen,\n",
    "                                 measure_class, createmod,\n",
    "                                prior_FIM=prior_pass, discretize_model=disc,)\n",
    "\n",
    "\n",
    "result = doe_object.compute_FIM(design_gen, mode=sensi_opt, FIM_store_name = 'dynamic.csv', \n",
    "                                 read_output=None,\n",
    "                                scale_nominal_param_value=True,\n",
    "                               formula = formula_lib.central)\n",
    "\n",
    "\n",
    "result.calculate_FIM(doe_object.design_values)\n"
   ]
  },
  {
   "cell_type": "code",
   "execution_count": null,
   "metadata": {
    "scrolled": false
   },
   "outputs": [],
   "source": [
    "print(doe_object.jac)"
   ]
  },
  {
   "cell_type": "code",
   "execution_count": null,
   "metadata": {
    "scrolled": true
   },
   "outputs": [],
   "source": [
    "print('======Result summary======')\n",
    "print('Four design criteria log10() value:')\n",
    "print('A-optimality:', np.log10(result.trace))\n",
    "print('D-optimality:', np.log10(result.det))\n",
    "print('E-optimality:', np.log10(result.min_eig))\n",
    "print('Modified E-optimality:', np.log10(result.cond))"
   ]
  },
  {
   "cell_type": "code",
   "execution_count": null,
   "metadata": {},
   "outputs": [],
   "source": [
    "sub_name = [\"C\"]\n",
    "sub_extra_index = [[[\"CB\", \"CC\"]]]\n",
    "sub_time_index = [[0.125, 0.25, 0.5, 0.75, 0.875]] \n",
    "\n",
    "measure_subset = Measurements()\n",
    "measure_subset.add_elements(sub_name, extra_index=sub_extra_index, time_index=sub_time_index)\n",
    "print(measure_subset.measurement_name)"
   ]
  },
  {
   "cell_type": "code",
   "execution_count": null,
   "metadata": {},
   "outputs": [],
   "source": [
    "sub_result = result.subset(measure_subset)\n",
    "sub_result.calculate_FIM(doe_object.design_values)\n",
    "print('======Subset Result summary======')\n",
    "print('Four design criteria log10() value:')\n",
    "print('A-optimality:', np.log10(sub_result.trace))\n",
    "print('D-optimality:', np.log10(sub_result.det))\n",
    "print('E-optimality:', np.log10(sub_result.min_eig))\n",
    "print('Modified E-optimality:', np.log10(sub_result.cond))"
   ]
  },
  {
   "cell_type": "markdown",
   "metadata": {},
   "source": [
    "## Method: Optimization\n",
    "Gradient-based optimization with IPOPT with .optimize_doe()\n",
    "\n",
    "This function solves twice: It solves the square version of the MBDoE problem first, and then unfixes the design variables as degree of freedom and solves again. In this way the optimization problem can be well initialized. "
   ]
  },
  {
   "cell_type": "code",
   "execution_count": null,
   "metadata": {},
   "outputs": [],
   "source": [
    "#exp1 = generate_exp(t_control, 3, [500, 300, 300, 300, 300, 300, 300, 300, 300])\n",
    "\n",
    "exp1 = [5, 570, 300, 300, 300, 300, 300, 300, 300, 300]\n",
    "design_gen.update_values(exp1)\n",
    "\n",
    "# add a prior information (scaled FIM with T=500 and T=300 experiments)\n",
    "prior = np.asarray([[  28.67892806 ,   5.41249739 , -81.73674601 , -24.02377324],\n",
    " [   5.41249739 ,  26.40935036 , -12.41816477 , -139.23992532],\n",
    " [ -81.73674601 , -12.41816477 , 240.46276004 ,  58.76422806],\n",
    " [ -24.02377324 , -139.23992532 ,  58.76422806 , 767.25584508]])\n",
    "\n"
   ]
  },
  {
   "cell_type": "code",
   "execution_count": null,
   "metadata": {
    "scrolled": true
   },
   "outputs": [],
   "source": [
    "doe_object = DesignOfExperiments(parameter_dict, design_gen,\n",
    "                                 measure_class, createmod,\n",
    "                                prior_FIM=prior_pass, discretize_model=disc)\n",
    "\n",
    "square_result, optimize_result= doe_object.stochastic_program(design_gen, if_optimize=True, if_Cholesky=True, \n",
    "                                                         scale_nominal_param_value=True, objective_option='det', \n",
    "                                                         L_initial=np.linalg.cholesky(prior))"
   ]
  },
  {
   "cell_type": "code",
   "execution_count": null,
   "metadata": {},
   "outputs": [],
   "source": [
    "print(doe_object.scenario_list)"
   ]
  },
  {
   "cell_type": "code",
   "execution_count": null,
   "metadata": {},
   "outputs": [],
   "source": []
  },
  {
   "cell_type": "code",
   "execution_count": null,
   "metadata": {
    "scrolled": true
   },
   "outputs": [],
   "source": [
    "print('======Result summary======')\n",
    "print('This optimization is solved with status:', optimize_result.status)\n",
    "print('The result FIM is:', optimize_result.FIM)\n",
    "print('Four design criteria log10() value:')\n",
    "print('A-optimality:', np.log10(optimize_result.trace))\n",
    "print('D-optimality:', np.log10(optimize_result.det))\n",
    "print('E-optimality:', np.log10(optimize_result.min_eig))\n",
    "print('Modified E-optimality:', np.log10(optimize_result.cond))\n",
    "\n",
    "#t_list = []\n",
    "#for t in optimize_result.model.t:\n",
    "#    t_list.append(t)\n",
    "\n",
    "#T_list = []\n",
    "#for i in range(len(design_gen.special_set)):\n",
    "#    T_list.append(pyo.value(optimize_result.model.T[i]))\n",
    "    \n",
    "#si=16\n",
    "#plt.rc('axes', titlesize=si)\n",
    "#plt.rc('axes', labelsize=si)\n",
    "#plt.rc('xtick', labelsize=si)\n",
    "#plt.rc('ytick', labelsize=si)\n",
    "#plt.rc('legend', fontsize=12)\n",
    "#plt.plot(t_list, T_list, 'b', linewidth=2)\n",
    "#plt.scatter(t_list, T_list, 'b')\n",
    "#plt.ylabel('T [$K$]')\n",
    "#plt.xlabel('Time [$h$]')\n",
    "#plt.show()"
   ]
  },
  {
   "cell_type": "markdown",
   "metadata": {},
   "source": [
    "## Method: Exploratory analysis (Enumeration)\n",
    "\n",
    "This method conducts exploratory analysis by enumeration. \n",
    "It allows a user to define any number (dimensions) of design variables.\n",
    "Heatmaps can be drawn by two design variables, fixing other design variables; \n",
    "1D curve can be drawn by one design variable, fixing other design variables."
   ]
  },
  {
   "cell_type": "markdown",
   "metadata": {},
   "source": [
    "### Specify user inputs"
   ]
  },
  {
   "cell_type": "code",
   "execution_count": null,
   "metadata": {},
   "outputs": [],
   "source": [
    "# Design variable ranges as lists \n",
    "design_ranges = [list(np.linspace(1,5,3)), list(np.linspace(300,700,3))]\n",
    "\n",
    "# Design variable names \n",
    "dv_apply_name = ['CA0[0]',['T[0]','T[0.125]','T[0.25]','T[0.375]','T[0.5]','T[0.625]','T[0.75]','T[0.875]','T[1]']]\n",
    "\n",
    "## choose from 'sequential_finite', 'direct_kaug'\n",
    "#sensi_opt = 'sequential_finite'\n",
    "sensi_opt = mode_lib.direct_kaug"
   ]
  },
  {
   "cell_type": "code",
   "execution_count": null,
   "metadata": {
    "scrolled": true
   },
   "outputs": [],
   "source": [
    "# add prior information\n",
    "prior_all = [[ 22.52943024 , 1.84034314, -70.23273336, -11.09432962],\n",
    " [   1.84034314 ,  18.09848116 ,  -5.73565034 , -109.15866135],\n",
    " [ -70.23273336 ,  -5.73565034 , 218.94192843 ,  34.57680848],\n",
    " [ -11.09432962 , -109.15866135 ,  34.57680848 ,  658.37644634]]\n",
    "\n",
    "print(np.shape(prior_all))\n",
    "\n",
    "prior_pass=np.asarray(prior_all)\n",
    "print(np.shape(prior_pass))\n",
    "\n",
    "print('The prior information FIM:', prior_pass)\n",
    "print('Prior Det:', np.linalg.det(prior_pass))"
   ]
  },
  {
   "cell_type": "code",
   "execution_count": null,
   "metadata": {
    "scrolled": true
   },
   "outputs": [],
   "source": [
    "doe_object = DesignOfExperiments(parameter_dict, design_gen,\n",
    "                                 measure_class, createmod,\n",
    "                                prior_FIM=prior_pass, discretize_model=disc,)\n",
    "\n",
    "all_fim = doe_object.run_grid_search(design_gen, design_ranges, dv_apply_name, \n",
    "                                     mode=sensi_opt)"
   ]
  },
  {
   "cell_type": "markdown",
   "metadata": {},
   "source": [
    "### 1D sensitivity curve"
   ]
  },
  {
   "cell_type": "code",
   "execution_count": null,
   "metadata": {
    "scrolled": true
   },
   "outputs": [],
   "source": [
    "all_fim.extract_criteria()\n",
    "#print(all_fim.store_all_results_dataframe)\n",
    "## draw 1D sensitivity curve \n",
    "\n",
    "fixed = {\"'CA0[0]'\": 5.0}\n",
    "\n",
    "all_fim.figure_drawing(fixed, ['T[0]'], 'Reactor case','T [K]','$C_{A0}$ [M]' )\n",
    "\n"
   ]
  },
  {
   "cell_type": "code",
   "execution_count": null,
   "metadata": {},
   "outputs": [],
   "source": [
    "print(all_fim.store_all_results_dataframe.loc[all_fim.store_all_results_dataframe['CA0[0]']==5.0])"
   ]
  },
  {
   "cell_type": "markdown",
   "metadata": {},
   "source": [
    "## Heatmap"
   ]
  },
  {
   "cell_type": "code",
   "execution_count": null,
   "metadata": {
    "scrolled": true
   },
   "outputs": [],
   "source": [
    "fixed = {}\n",
    "all_fim.figure_drawing(fixed, ['CA0[0]','T[0]'], 'Reactor case','$C_{A0}$ [M]', 'T [K]' )"
   ]
  },
  {
   "cell_type": "markdown",
   "metadata": {},
   "source": [
    "### Read Heatmaps\n",
    "\n",
    "A heatmap shows the change of the objective function, a.k.a. the experimental information content, in the design region. Horizontal and vertical axes are two design variables, while the color of each grid shows the experimental information content. Taking the Fig. Reactor case - A optimality as example, A-optimality shows that the most informative region is around $C_{A0}=5.0$ M, $T=300.0$ K, while the least informative region is around $C_{A0}=1.0$ M, $T=700.0$ K."
   ]
  },
  {
   "cell_type": "markdown",
   "metadata": {},
   "source": [
    "## Grid search for 3 design variables"
   ]
  },
  {
   "cell_type": "code",
   "execution_count": null,
   "metadata": {},
   "outputs": [],
   "source": [
    "# Define design ranges\n",
    "design_ranges = [list(np.linspace(1,5,2)),  list(np.linspace(300,700,2)), [300,500]]\n",
    "\n",
    "# Design variable names \n",
    "dv_apply_name = ['CA0[0]','T[0]',['T[0.125]','T[0.25]','T[0.375]','T[0.5]','T[0.625]','T[0.75]','T[0.875]','T[1]']]\n",
    "\n",
    "# Define experiments\n",
    "exp1 = [5, 300, 300, 300, 300, 300, 300, 300, 300, 300]\n",
    "\n",
    "## choose from 'sequential_finite', 'direct_kaug'\n",
    "#sensi_opt = 'sequential_finite'\n",
    "sensi_opt = mode_lib.direct_kaug"
   ]
  },
  {
   "cell_type": "code",
   "execution_count": null,
   "metadata": {},
   "outputs": [],
   "source": [
    "doe_object = DesignOfExperiments(parameter_dict, design_gen,\n",
    "                                 measure_class, createmod,\n",
    "                                prior_FIM=prior_pass, discretize_model=disc,)\n",
    "\n",
    "all_fim = doe_object.run_grid_search(design_gen, design_ranges, dv_apply_name, \n",
    "                                     mode=sensi_opt)"
   ]
  },
  {
   "cell_type": "markdown",
   "metadata": {},
   "source": [
    "### Draw 1D sensitivity curve"
   ]
  },
  {
   "cell_type": "code",
   "execution_count": null,
   "metadata": {
    "scrolled": true
   },
   "outputs": [],
   "source": [
    "test = all_fim.extract_criteria()"
   ]
  },
  {
   "cell_type": "code",
   "execution_count": null,
   "metadata": {},
   "outputs": [],
   "source": [
    "## draw 1D sensitivity curve \n",
    "\n",
    "fixed = {\"'CA0[0]'\": 1.0, \"'T[0.125]'\": 300}\n",
    "\n",
    "all_fim.figure_drawing(fixed, ['T[0]'], 'Reactor case','T [K]','$C_{A0}$ [M]' )"
   ]
  },
  {
   "cell_type": "markdown",
   "metadata": {},
   "source": [
    "### Draw 2D sensitivity curve"
   ]
  },
  {
   "cell_type": "code",
   "execution_count": null,
   "metadata": {},
   "outputs": [],
   "source": [
    "fixed = {\"'T[0.125]'\": 300}\n",
    "\n",
    "all_fim.figure_drawing(fixed, ['CA0[0]','T[0]'], 'Reactor case','$C_{A0}$ [M]', 'T [K]' )"
   ]
  },
  {
   "cell_type": "code",
   "execution_count": null,
   "metadata": {},
   "outputs": [],
   "source": []
  }
 ],
 "metadata": {
  "kernelspec": {
   "display_name": "Python 3 (ipykernel)",
   "language": "python",
   "name": "python3"
  },
  "language_info": {
   "codemirror_mode": {
    "name": "ipython",
    "version": 3
   },
   "file_extension": ".py",
   "mimetype": "text/x-python",
   "name": "python",
   "nbconvert_exporter": "python",
   "pygments_lexer": "ipython3",
   "version": "3.7.11"
  }
 },
 "nbformat": 4,
 "nbformat_minor": 4
}
