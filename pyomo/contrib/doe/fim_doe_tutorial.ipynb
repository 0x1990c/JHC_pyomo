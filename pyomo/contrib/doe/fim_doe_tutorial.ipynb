{
 "cells": [
  {
   "cell_type": "markdown",
   "metadata": {},
   "source": [
    "# Reactor Kinetics Example \n",
    "\n",
    "Jialu Wang (jwang44@nd.edu) and Alex Dowling (adowling@nd.edu)\n",
    "\n",
    "University of Notre Dame\n",
    "\n",
    "This notebook conducts design of experiments for a reactor kinetics experiment with the Pyomo.DoE.\n",
    "    "
   ]
  },
  {
   "cell_type": "markdown",
   "metadata": {},
   "source": [
    "## Step 0: Import Pyomo and Pyomo.DoE module"
   ]
  },
  {
   "cell_type": "code",
   "execution_count": 1,
   "metadata": {},
   "outputs": [],
   "source": [
    "import matplotlib.pyplot as plt\n",
    "import numpy as np\n",
    "import pandas as pd\n",
    "import pyomo.environ as pyo\n",
    "import pyomo.common.unittest as unittest\n",
    "#from pyomo.contrib.doe import DesignOfExperiments, Measurements\n",
    "from doe import DesignOfExperiments\n",
    "from measurements import Measurements"
   ]
  },
  {
   "cell_type": "code",
   "execution_count": 2,
   "metadata": {},
   "outputs": [],
   "source": [
    "## check if ipopt available \n",
    "\n",
    "ipopt_available = pyo.SolverFactory('ipopt').available()\n",
    "\n",
    "if not (ipopt_available):\n",
    "    raise RuntimeError('This Pyomo.DoE example requires Ipopt.')"
   ]
  },
  {
   "cell_type": "markdown",
   "metadata": {},
   "source": [
    "## Step 1: Import Reaction Example Mathematical Model"
   ]
  },
  {
   "cell_type": "markdown",
   "metadata": {},
   "source": [
    "Consider two chemical reactions that convert molecule $A$ to desired product $B$ and a less valuable side-product $C$.\n",
    "\n",
    "$A \\overset{k_1}{\\rightarrow} B \\overset{k_2}{\\rightarrow} C$\n",
    "\n",
    "Our ultimate goal is to design a large-scale continous reactor that maximizes the production of $B$. This general sequential reactions problem is widely applicable to CO$_2$ capture and industry more broadly (petrochemicals, pharmaceuticals, etc.).\n",
    "\n",
    "The rate laws for these two chemical reactions are:\n",
    "\n",
    "$r_A = -k_1 C_A$\n",
    "\n",
    "$r_B = k_1 C_A - k_2 C_B$\n",
    "\n",
    "$r_C = k_2 C_B$\n",
    "\n",
    "Here, $C_A$, $C_B$, and $C_C$ are the concentrations of each species. The rate constants $k_1$ and $k_2$ depend on temperature as follows:\n",
    "\n",
    "$k_1 = A_1 \\exp{\\frac{-E_1}{R T}}$\n",
    "\n",
    "$k_2 = A_2 \\exp{\\frac{-E_2}{R T}}$\n",
    "\n",
    "$A_1, A_2, E_1$, and $E_2$ are fitted model parameters. $R$ is the ideal-gas constant and $T$ is absolute temperature.\n",
    "\n",
    "Using the **CCSI$^2$ toolset**, we would like to perform **uncertainty quantification** and **design of experiments** on a small-scale **batch reactor** to infer parameters $A_1$, $A_2$, $E_1$, and $E_2$."
   ]
  },
  {
   "cell_type": "markdown",
   "metadata": {},
   "source": [
    "### Batch reactor\n",
    "\n",
    "The concentrations in a batch reactor evolve with time per the following differential equations:\n",
    "\n",
    "$$ \\frac{d C_A}{dt} = r_A = -k_1 C_A $$\n",
    "\n",
    "$$ \\frac{d C_B}{dt} = r_B = k_1 C_A - k_2 C_B $$\n",
    "\n",
    "$$ \\frac{d C_C}{dt} = r_C = k_2 C_B $$\n",
    "\n",
    "This is a linear system of differential equations. Assuming the feed is only species $A$, i.e., \n",
    "\n",
    "$$C_A(t=0) = C_{A0} \\quad C_B(t=0) = 0 \\quad C_C(t=0) = 0$$\n",
    "\n",
    "When the temperature is constant, it leads to the following analytic solution:\n",
    "\n",
    "$$C_A(t) = C_{A,0} \\exp(-k_1 t)$$\n",
    "\n",
    "$$C_B(t) = \\frac{k_1}{k_2 - k_1} C_{A,0} \\left[\\exp(-k_1 t) - \\exp(-k_2 t) \\right]$$\n",
    "\n",
    "$$C_C(t) = C_{A,0} - \\frac{k_2}{k_2 - k_1} C_{A,0} \\exp(-k_1 t) + \\frac{k_1}{k_2 - k_1} \\exp(-k_2 t) C_{A,0} = C_{A,0} - C_{A}(t) - C_{B}(t)$$"
   ]
  },
  {
   "cell_type": "code",
   "execution_count": 3,
   "metadata": {},
   "outputs": [],
   "source": [
    "# The model is implemented in reactor_kinetics.py \n",
    "#from pyomo.contrib.doe.example.reactor_kinetics import create_model, disc_for_measure\n",
    "from reactor_kinetics import create_model, disc_for_measure"
   ]
  },
  {
   "cell_type": "markdown",
   "metadata": {},
   "source": [
    "## Step 2: Define inputs"
   ]
  },
  {
   "cell_type": "code",
   "execution_count": 4,
   "metadata": {
    "scrolled": true
   },
   "outputs": [
    {
     "name": "stdout",
     "output_type": "stream",
     "text": [
      "['C[\"CA\",0]', 'C[\"CA\",0.125]', 'C[\"CA\",0.25]', 'C[\"CA\",0.375]', 'C[\"CA\",0.5]', 'C[\"CA\",0.625]', 'C[\"CA\",0.75]', 'C[\"CA\",0.875]', 'C[\"CA\",1]', 'C[\"CB\",0]', 'C[\"CB\",0.125]', 'C[\"CB\",0.25]', 'C[\"CB\",0.375]', 'C[\"CB\",0.5]', 'C[\"CB\",0.625]', 'C[\"CB\",0.75]', 'C[\"CB\",0.875]', 'C[\"CB\",1]', 'C[\"CC\",0]', 'C[\"CC\",0.125]', 'C[\"CC\",0.25]', 'C[\"CC\",0.375]', 'C[\"CC\",0.5]', 'C[\"CC\",0.625]', 'C[\"CC\",0.75]', 'C[\"CC\",0.875]', 'C[\"CC\",1]']\n"
     ]
    }
   ],
   "source": [
    "# Create model function\n",
    "createmod = create_model\n",
    "\n",
    "# discretization by Pyomo.DAE\n",
    "disc = disc_for_measure\n",
    "\n",
    "# Control time set [h]\n",
    "t_control = [0, 0.125, 0.25, 0.375, 0.5, 0.625, 0.75, 0.875, 1]\n",
    "    \n",
    "# Measurement time points [h]\n",
    "t_measure = [0, 0.125, 0.25, 0.375, 0.5, 0.625, 0.75, 0.875, 1]\n",
    "\n",
    "# design variable and its control time set\n",
    "dv_pass = {'CA0': [0],'T': t_control}\n",
    "    \n",
    "# Create measurement object\n",
    "### Way 1: User define measurements \n",
    "response = ['CA','CB','CC']\n",
    "m_res = [] \n",
    "\n",
    "for r in response:\n",
    "    for t in t_control:\n",
    "        m_res.append(str('C[\"'+str(r)+'\",'+str(t)+']'))\n",
    "        \n",
    "print(m_res)\n",
    "\n",
    "measure_class = Measurements(self_define_res=m_res)\n",
    "        \n",
    "### Way 2: Pyomo.DoE define measurements. Measurements have at most 1 index besides the time index\n",
    "#measure_pass = {'C':{'CA': t_measure, 'CB': t_measure, 'CC': t_measure}}\n",
    "#measure_class =  Measurements(measure_pass)\n",
    "\n",
    "# Define parameter nominal value \n",
    "parameter_dict = {'A1': 84.79085853498033, 'A2': 371.71773413976416, 'E1': 7.777032028026428, 'E2': 15.047135137500822}"
   ]
  },
  {
   "cell_type": "code",
   "execution_count": 5,
   "metadata": {},
   "outputs": [],
   "source": [
    "def generate_exp(t_set, CA0, T):  \n",
    "    \"\"\"Generate experiments. \n",
    "    t_set: time control set for T.\n",
    "    CA0: CA0 value\n",
    "    T: A list of T \n",
    "    \"\"\"\n",
    "    assert(len(t_set)==len(T)), 'T should have the same length as t_set'\n",
    "    \n",
    "    T_con_initial = {}\n",
    "    for t, tim in enumerate(t_set):\n",
    "        T_con_initial[tim] = T[t]\n",
    "        \n",
    "    dv_dict_overall = {'CA0': {0: CA0},'T': T_con_initial}\n",
    "    return dv_dict_overall"
   ]
  },
  {
   "cell_type": "code",
   "execution_count": 6,
   "metadata": {},
   "outputs": [
    {
     "name": "stdout",
     "output_type": "stream",
     "text": [
      "The prior information FIM: [[0. 0. 0. 0.]\n",
      " [0. 0. 0. 0.]\n",
      " [0. 0. 0. 0.]\n",
      " [0. 0. 0. 0.]]\n",
      "Prior Det: 0.0\n",
      "Eigenvalue of the prior experiments FIM: [0. 0. 0. 0.]\n"
     ]
    }
   ],
   "source": [
    "# empty prior\n",
    "prior_pass = np.zeros((4,4))\n",
    "\n",
    "print('The prior information FIM:', prior_pass)\n",
    "print('Prior Det:', np.linalg.det(prior_pass))\n",
    "print('Eigenvalue of the prior experiments FIM:', np.linalg.eigvals(prior_pass))"
   ]
  },
  {
   "cell_type": "markdown",
   "metadata": {},
   "source": [
    "## Method: Compute FIM \n",
    "\n",
    "This method computes an MBDoE optimization problem with no degrees of freedom."
   ]
  },
  {
   "cell_type": "code",
   "execution_count": 7,
   "metadata": {},
   "outputs": [],
   "source": [
    "# choose from 'sequential_finite', 'direct_kaug'\n",
    "# 'sequential_sipopt', 'sequential_kaug' is also available\n",
    "#sensi_opt = 'sequential_finite'\n",
    "sensi_opt = 'direct_kaug'\n",
    "\n",
    "if sensi_opt == 'direct_kaug':\n",
    "    args1 = [True]\n",
    "\n",
    "# Define experiments\n",
    "exp1 = generate_exp(t_control, 5, [570, 300, 300, 300, 300, 300, 300, 300, 300])"
   ]
  },
  {
   "cell_type": "code",
   "execution_count": 8,
   "metadata": {
    "scrolled": true
   },
   "outputs": [
    {
     "name": "stdout",
     "output_type": "stream",
     "text": [
      "A1\n",
      "A2\n",
      "E1\n",
      "E2\n",
      "Ipopt 3.13.2: linear_solver=ma57\n",
      "halt_on_ampl_error=yes\n",
      "max_iter=3000\n",
      "\n",
      "\n",
      "******************************************************************************\n",
      "This program contains Ipopt, a library for large-scale nonlinear optimization.\n",
      " Ipopt is released as open source code under the Eclipse Public License (EPL).\n",
      "         For more information visit http://projects.coin-or.org/Ipopt\n",
      "\n",
      "This version of Ipopt was compiled from source code available at\n",
      "    https://github.com/IDAES/Ipopt as part of the Institute for the Design of\n",
      "    Advanced Energy Systems Process Systems Engineering Framework (IDAES PSE\n",
      "    Framework) Copyright (c) 2018-2019. See https://github.com/IDAES/idaes-pse.\n",
      "\n",
      "This version of Ipopt was compiled using HSL, a collection of Fortran codes\n",
      "    for large-scale scientific computation.  All technical papers, sales and\n",
      "    publicity material resulting from use of the HSL codes within IPOPT must\n",
      "    contain the following acknowledgement:\n",
      "        HSL, a collection of Fortran codes for large-scale scientific\n",
      "        computation. See http://www.hsl.rl.ac.uk.\n",
      "******************************************************************************\n",
      "\n",
      "This is Ipopt version 3.13.2, running with linear solver ma57.\n",
      "\n",
      "Number of nonzeros in equality constraint Jacobian...:     2955\n",
      "Number of nonzeros in inequality constraint Jacobian.:        0\n",
      "Number of nonzeros in Lagrangian Hessian.............:      281\n",
      "\n",
      "Total number of variables............................:      861\n",
      "                     variables with only lower bounds:      289\n",
      "                variables with lower and upper bounds:       88\n",
      "                     variables with only upper bounds:        0\n",
      "Total number of equality constraints.................:      861\n",
      "Total number of inequality constraints...............:        0\n",
      "        inequality constraints with only lower bounds:        0\n",
      "   inequality constraints with lower and upper bounds:        0\n",
      "        inequality constraints with only upper bounds:        0\n",
      "\n",
      "iter    objective    inf_pr   inf_du lg(mu)  ||d||  lg(rg) alpha_du alpha_pr  ls\n",
      "   0  0.0000000e+00 2.67e+02 1.00e+00  -1.0 0.00e+00    -  0.00e+00 0.00e+00   0\n",
      "Reallocating memory for MA57: lfact (25018)\n",
      "   1  0.0000000e+00 6.09e+01 9.49e+01  -1.0 2.67e+02    -  1.10e-02 9.90e-01f  1\n",
      "   2  0.0000000e+00 1.74e+01 2.87e+02  -1.0 6.23e+01    -  6.66e-02 9.90e-01h  1\n",
      "   3  0.0000000e+00 6.84e-02 4.98e+01  -1.0 1.07e+01    -  8.51e-01 1.00e+00h  1\n",
      "   4  0.0000000e+00 1.69e-10 2.71e+02  -1.0 3.58e-02    -  9.92e-01 1.00e+00h  1\n",
      "\n",
      "Number of Iterations....: 4\n",
      "\n",
      "                                   (scaled)                 (unscaled)\n",
      "Objective...............:   0.0000000000000000e+00    0.0000000000000000e+00\n",
      "Dual infeasibility......:   0.0000000000000000e+00    0.0000000000000000e+00\n",
      "Constraint violation....:   1.6924595058753766e-10    1.6924595058753766e-10\n",
      "Complementarity.........:   0.0000000000000000e+00    0.0000000000000000e+00\n",
      "Overall NLP error.......:   1.6924595058753766e-10    1.6924595058753766e-10\n",
      "\n",
      "\n",
      "Number of objective function evaluations             = 5\n",
      "Number of objective gradient evaluations             = 5\n",
      "Number of equality constraint evaluations            = 5\n",
      "Number of inequality constraint evaluations          = 0\n",
      "Number of equality constraint Jacobian evaluations   = 5\n",
      "Number of inequality constraint Jacobian evaluations = 0\n",
      "Number of Lagrangian Hessian evaluations             = 4\n",
      "Total CPU secs in IPOPT (w/o function evaluations)   =      0.010\n",
      "Total CPU secs in NLP function evaluations           =      0.001\n",
      "\n",
      "EXIT: Optimal Solution Found.\n",
      "[K_AUG] 0.1.0, Part of the IDAES PSE framework\n",
      "Please visit https://idaes.org/\n",
      ": dsdp_mode=\n",
      "dsdp_mode=\n",
      "W[K_AUG]...\t[K_AUG_ASL]No n_rhs declared.\n",
      "W[K_AUG]...\t[K_AUG_ASL]Target log10mu:= -11.\n",
      "W[K_AUG]...\t[K_AUG_ASL]This problem has no degrees of freedom\n",
      "Pass the option square_override for the desired behaviour\n",
      "W[K_AUG_ASL]...\t[K_AUG_ASL]No ipopt_zL_in suffix declared, setting zL = 0.\n",
      "W[K_AUG_ASL]...\t[K_AUG_ASL]No ipopt_zU_in suffix declared, setting zU = 0.\n",
      "W[K_AUG]...\t[K_AUG_ASL]No f_timestamp suffix declared, Fallback to default writing mode.\n",
      "I[K_AUG]...\t[K_AUG_ASL] Filename for dot_sens dsdp_in_.in\n",
      "W[K_AUG]...\t[K_AUG_ASL]dsdp for linear C(x) + I*p = 0 override.\n",
      "E[K_AUG]...\t[SIGMA_COMPUTE]is x[88] = xlb?\n",
      "E[K_AUG]...\t[SIGMA_COMPUTE]is x[88] = xlb?\n",
      "E[K_AUG]...\t[SIGMA_COMPUTE]is x[89] = xlb?\n",
      "E[K_AUG]...\t[SIGMA_COMPUTE]is x[89] = xlb?\n",
      "E[K_AUG]...\t[SIGMA_COMPUTE]is x[90] = xlb?\n",
      "E[K_AUG]...\t[SIGMA_COMPUTE]is x[90] = xlb?\n",
      "E[K_AUG]...\t[SIGMA_COMPUTE]is x[91] = xlb?\n",
      "E[K_AUG]...\t[SIGMA_COMPUTE]is x[91] = xlb?\n",
      "E[K_AUG]...\t[SIGMA_COMPUTE]Unresolved sigma values, is the mu computation successful? or is this a square problem?\n",
      "Check the sigma_out file with the PRINT_VERBOSE (cmake) option set to 0\n",
      "W[K_AUG]...\t[MA57_DRIVER]\n",
      "\n",
      "\t\tCould not fix the accuracy of the problem.\n",
      "\t\tTry re-writing the problem or give a different point or change \"max_refinement_steps\"\n",
      "\t\tWarning: results might be incorrect.\n",
      "\t\tCurrent residual ratio 0.0424279; Max residual ratio 1e-10.\n",
      "\n",
      "I[K_AUG]...\t[K_AUG_ASL]File read successfully.\n",
      "I[K_AUG]...\t[K_AUG_ASL]Number of Right hand sides: 0\n",
      "I[K_AUG]...\t[K_AUG_ASL]Number of variables       : 865\n",
      "I[K_AUG]...\t[K_AUG_ASL]Number of constraints     : 865\n",
      "I[K_AUG]...\t[K_AUG_ASL]Number of valid n_dof     : 0\n",
      "I[K_AUG]...\t[ADJUST_MU]\tWarning strict complementarity (lb) is not within tol for var:88\n",
      "I[K_AUG]...\t[ADJUST_MU]\tWarning strict complementarity (lb) is not within tol for var:89\n",
      "I[K_AUG]...\t[ADJUST_MU]\tWarning strict complementarity (lb) is not within tol for var:90\n",
      "I[K_AUG]...\t[ADJUST_MU]\tWarning strict complementarity (lb) is not within tol for var:91\n",
      "I[K_AUG]...\t[ADJUST_MU]\tWarning no relevant info from the problem can predict logmu\n",
      "I[K_AUG]...\t[FIND_INEQUALITIES]summary: eq: 865, leq: 0, geq: 0 \n",
      "I[K_AUG]...\t[K_AUG_ASL]Nonzeroes in the sparse Jacobian 3347\n",
      "I[K_AUG]...\t[GET_HESS_ASL]Objective found\n",
      "I[K_AUG]...\t[GET_HESS_ASL]Nonzeroes in the sparse hessian 637\n",
      "I[K_AUG]...\t[GET_HESS_ASL]Minimization problem detected\n",
      "I[K_AUG]...\t[GET_HESS_ASL]Current objective 0.000000\n",
      "I[K_AUG]...\t[GET_HESS_ASL]Missing nz in the Hessian of the Lag: 775\n",
      "I[K_AUG]...\t[K_AUG_ASL]Barrier term added.\n",
      "I[K_AUG]...\t[K_AUG_ASL]MC19 scaling...\n",
      "I[K_AUG]...\t[ASSM_RHS_DCDP]According to the suffixes declared len p is 4 \n",
      "I[MA57]...\t[]***\n",
      "I[MA57]...\t[ma57bd_]ma57ad_: Status Ok.\n",
      "I[MA57]...\t[MA57_FACTOR]\n",
      "I[K_AUG]...\t[MA57_FACTOR]n_neig = 865\n",
      "I[K_AUG]...\t[INERTIA_STRATEGY]Inertia check successful.\n",
      "I[MA57]...\t[Factorize Success.]***\n",
      "I[MA57]...\t[MA57_RATIO]\n",
      "I[K_AUG]...\t[MA57_SOLVE]: Ratio of norm of scaled residuals (reported); 4.242793e-02 \n",
      "I[K_AUG]...\t[MA57_SOLVE]: The norm of residuals is larger than max ratio(computed)\n",
      "I[K_AUG]...\t[MA57_SOLVE]: Attempting to reduce residuals\n",
      "\n",
      "W[K_AUG]...\t[MA57_SOLVE]Attempting to make dc > 0. (Jacobian regularization)\n",
      "I[K_AUG]...\t[INERTIA_STRATEGY]Inertia check successful.\n",
      "I[MA57]...\t[MA57_FACTOR]\n",
      "W[MA57]...\t[MA57_FACTOR]always_pert_jacobian is on before fact\n",
      "I[K_AUG]...\t[MA57_FACTOR]n_neig = 865\n",
      "I[K_AUG]...\t[INERTIA_STRATEGY]Inertia check successful.\n",
      "I[MA57]...\t[MA57_RATIO]\n",
      "I[K_AUG]...\t[MA57_SOLVE]Accuracy improvement tries 0, Trial pivtol 1e-06, Residual ratio 0.04242792662211949.\n",
      "I[K_AUG]...\t[MA57_SOLVE]Accuracy is not improving.\n",
      "\n",
      "W[K_AUG]...\t[MA57_DRIVER]Inertia check OK neig=865, (neig == m).\n",
      "I[K_AUG]...\t[K_AUG_ASL]Linear solver done. \n",
      "I[K_AUG]...\t[K_AUG_ASL]Timings..Ev&Assem 0.003483, Fact 0.011035, Overall 0.012258.\n",
      "['T[0.004845]', 'T[0.020155]', 'T[0.03125]', 'T[0.036095]', 'T[0.051405]', 'T[0.0625]', 'T[0.067345]', 'T[0.082655]', 'T[0.09375]', 'T[0.098595]', 'T[0.113905]', 'T[0.129845]', 'T[0.145155]', 'T[0.15625]', 'T[0.161095]', 'T[0.176405]', 'T[0.1875]', 'T[0.192345]', 'T[0.207655]', 'T[0.21875]', 'T[0.223595]', 'T[0.238905]', 'T[0.254845]', 'T[0.270155]', 'T[0.28125]', 'T[0.286095]', 'T[0.301405]', 'T[0.3125]', 'T[0.317345]', 'T[0.332655]', 'T[0.34375]', 'T[0.348595]', 'T[0.363905]', 'T[0.379845]', 'T[0.395155]', 'T[0.40625]', 'T[0.411095]', 'T[0.426405]', 'T[0.4375]', 'T[0.442345]', 'T[0.457655]', 'T[0.46875]', 'T[0.473595]', 'T[0.488905]', 'T[0.504845]', 'T[0.520155]', 'T[0.53125]', 'T[0.536095]', 'T[0.551405]', 'T[0.5625]', 'T[0.567345]', 'T[0.582655]', 'T[0.59375]', 'T[0.598595]', 'T[0.613905]', 'T[0.629845]', 'T[0.645155]', 'T[0.65625]', 'T[0.661095]', 'T[0.676405]', 'T[0.6875]', 'T[0.692345]', 'T[0.707655]', 'T[0.71875]', 'T[0.723595]', 'T[0.738905]', 'T[0.754845]', 'T[0.770155]', 'T[0.78125]', 'T[0.786095]', 'T[0.801405]', 'T[0.8125]', 'T[0.817345]', 'T[0.832655]', 'T[0.84375]', 'T[0.848595]', 'T[0.863905]', 'T[0.879845]', 'T[0.895155]', 'T[0.90625]', 'T[0.911095]', 'T[0.926405]', 'T[0.9375]', 'T[0.942345]', 'T[0.957655]', 'T[0.96875]', 'T[0.973595]', 'T[0.988905]', 'A1', 'A2', 'E1', 'E2', 'C[CA,0]', 'C[CA,0.004845]', 'C[CA,0.020155]', 'C[CA,0.03125]', 'C[CA,0.036095]', 'C[CA,0.051405]', 'C[CA,0.0625]', 'C[CA,0.067345]', 'C[CA,0.082655]', 'C[CA,0.09375]', 'C[CA,0.098595]', 'C[CA,0.113905]', 'C[CA,0.125]', 'C[CA,0.129845]', 'C[CA,0.145155]', 'C[CA,0.15625]', 'C[CA,0.161095]', 'C[CA,0.176405]', 'C[CA,0.1875]', 'C[CA,0.192345]', 'C[CA,0.207655]', 'C[CA,0.21875]', 'C[CA,0.223595]', 'C[CA,0.238905]', 'C[CA,0.25]', 'C[CA,0.254845]', 'C[CA,0.270155]', 'C[CA,0.28125]', 'C[CA,0.286095]', 'C[CA,0.301405]', 'C[CA,0.3125]', 'C[CA,0.317345]', 'C[CA,0.332655]', 'C[CA,0.34375]', 'C[CA,0.348595]', 'C[CA,0.363905]', 'C[CA,0.375]', 'C[CA,0.379845]', 'C[CA,0.395155]', 'C[CA,0.40625]', 'C[CA,0.411095]', 'C[CA,0.426405]', 'C[CA,0.4375]', 'C[CA,0.442345]', 'C[CA,0.457655]', 'C[CA,0.46875]', 'C[CA,0.473595]', 'C[CA,0.488905]', 'C[CA,0.5]', 'C[CA,0.504845]', 'C[CA,0.520155]', 'C[CA,0.53125]', 'C[CA,0.536095]', 'C[CA,0.551405]', 'C[CA,0.5625]', 'C[CA,0.567345]', 'C[CA,0.582655]', 'C[CA,0.59375]', 'C[CA,0.598595]', 'C[CA,0.613905]', 'C[CA,0.625]', 'C[CA,0.629845]', 'C[CA,0.645155]', 'C[CA,0.65625]', 'C[CA,0.661095]', 'C[CA,0.676405]', 'C[CA,0.6875]', 'C[CA,0.692345]', 'C[CA,0.707655]', 'C[CA,0.71875]', 'C[CA,0.723595]', 'C[CA,0.738905]', 'C[CA,0.75]', 'C[CA,0.754845]', 'C[CA,0.770155]', 'C[CA,0.78125]', 'C[CA,0.786095]', 'C[CA,0.801405]', 'C[CA,0.8125]', 'C[CA,0.817345]', 'C[CA,0.832655]', 'C[CA,0.84375]', 'C[CA,0.848595]', 'C[CA,0.863905]', 'C[CA,0.875]', 'C[CA,0.879845]', 'C[CA,0.895155]', 'C[CA,0.90625]', 'C[CA,0.911095]', 'C[CA,0.926405]', 'C[CA,0.9375]', 'C[CA,0.942345]', 'C[CA,0.957655]', 'C[CA,0.96875]', 'C[CA,0.973595]', 'C[CA,0.988905]', 'C[CA,1]', 'C[CB,0.004845]', 'C[CB,0.020155]', 'C[CB,0.03125]', 'C[CB,0.036095]', 'C[CB,0.051405]', 'C[CB,0.0625]', 'C[CB,0.067345]', 'C[CB,0.082655]', 'C[CB,0.09375]', 'C[CB,0.098595]', 'C[CB,0.113905]', 'C[CB,0.125]', 'C[CB,0.129845]', 'C[CB,0.145155]', 'C[CB,0.15625]', 'C[CB,0.161095]', 'C[CB,0.176405]', 'C[CB,0.1875]', 'C[CB,0.192345]', 'C[CB,0.207655]', 'C[CB,0.21875]', 'C[CB,0.223595]', 'C[CB,0.238905]', 'C[CB,0.25]', 'C[CB,0.254845]', 'C[CB,0.270155]', 'C[CB,0.28125]', 'C[CB,0.286095]', 'C[CB,0.301405]', 'C[CB,0.3125]', 'C[CB,0.317345]', 'C[CB,0.332655]', 'C[CB,0.34375]', 'C[CB,0.348595]', 'C[CB,0.363905]', 'C[CB,0.375]', 'C[CB,0.379845]', 'C[CB,0.395155]', 'C[CB,0.40625]', 'C[CB,0.411095]', 'C[CB,0.426405]', 'C[CB,0.4375]', 'C[CB,0.442345]', 'C[CB,0.457655]', 'C[CB,0.46875]', 'C[CB,0.473595]', 'C[CB,0.488905]', 'C[CB,0.5]', 'C[CB,0.504845]', 'C[CB,0.520155]', 'C[CB,0.53125]', 'C[CB,0.536095]', 'C[CB,0.551405]', 'C[CB,0.5625]', 'C[CB,0.567345]', 'C[CB,0.582655]', 'C[CB,0.59375]', 'C[CB,0.598595]', 'C[CB,0.613905]', 'C[CB,0.625]', 'C[CB,0.629845]', 'C[CB,0.645155]', 'C[CB,0.65625]', 'C[CB,0.661095]', 'C[CB,0.676405]', 'C[CB,0.6875]', 'C[CB,0.692345]', 'C[CB,0.707655]', 'C[CB,0.71875]', 'C[CB,0.723595]', 'C[CB,0.738905]', 'C[CB,0.75]', 'C[CB,0.754845]', 'C[CB,0.770155]', 'C[CB,0.78125]', 'C[CB,0.786095]', 'C[CB,0.801405]', 'C[CB,0.8125]', 'C[CB,0.817345]', 'C[CB,0.832655]', 'C[CB,0.84375]', 'C[CB,0.848595]', 'C[CB,0.863905]', 'C[CB,0.875]', 'C[CB,0.879845]', 'C[CB,0.895155]', 'C[CB,0.90625]', 'C[CB,0.911095]', 'C[CB,0.926405]', 'C[CB,0.9375]', 'C[CB,0.942345]', 'C[CB,0.957655]', 'C[CB,0.96875]', 'C[CB,0.973595]', 'C[CB,0.988905]', 'C[CB,1]', 'kp1[0]', 'kp1[0.004845]', 'kp1[0.020155]', 'kp1[0.03125]', 'kp1[0.036095]', 'kp1[0.051405]', 'kp1[0.0625]', 'kp1[0.067345]', 'kp1[0.082655]', 'kp1[0.09375]', 'kp1[0.098595]', 'kp1[0.113905]', 'kp1[0.125]', 'kp1[0.129845]', 'kp1[0.145155]', 'kp1[0.15625]', 'kp1[0.161095]', 'kp1[0.176405]', 'kp1[0.1875]', 'kp1[0.192345]', 'kp1[0.207655]', 'kp1[0.21875]', 'kp1[0.223595]', 'kp1[0.238905]', 'kp1[0.25]', 'kp1[0.254845]', 'kp1[0.270155]', 'kp1[0.28125]', 'kp1[0.286095]', 'kp1[0.301405]', 'kp1[0.3125]', 'kp1[0.317345]', 'kp1[0.332655]', 'kp1[0.34375]', 'kp1[0.348595]', 'kp1[0.363905]', 'kp1[0.375]', 'kp1[0.379845]', 'kp1[0.395155]', 'kp1[0.40625]', 'kp1[0.411095]', 'kp1[0.426405]', 'kp1[0.4375]', 'kp1[0.442345]', 'kp1[0.457655]', 'kp1[0.46875]', 'kp1[0.473595]', 'kp1[0.488905]', 'kp1[0.5]', 'kp1[0.504845]', 'kp1[0.520155]', 'kp1[0.53125]', 'kp1[0.536095]', 'kp1[0.551405]', 'kp1[0.5625]', 'kp1[0.567345]', 'kp1[0.582655]', 'kp1[0.59375]', 'kp1[0.598595]', 'kp1[0.613905]', 'kp1[0.625]', 'kp1[0.629845]', 'kp1[0.645155]', 'kp1[0.65625]', 'kp1[0.661095]', 'kp1[0.676405]', 'kp1[0.6875]', 'kp1[0.692345]', 'kp1[0.707655]', 'kp1[0.71875]', 'kp1[0.723595]', 'kp1[0.738905]', 'kp1[0.75]', 'kp1[0.754845]', 'kp1[0.770155]', 'kp1[0.78125]', 'kp1[0.786095]', 'kp1[0.801405]', 'kp1[0.8125]', 'kp1[0.817345]', 'kp1[0.832655]', 'kp1[0.84375]', 'kp1[0.848595]', 'kp1[0.863905]', 'kp1[0.875]', 'kp1[0.879845]', 'kp1[0.895155]', 'kp1[0.90625]', 'kp1[0.911095]', 'kp1[0.926405]', 'kp1[0.9375]', 'kp1[0.942345]', 'kp1[0.957655]', 'kp1[0.96875]', 'kp1[0.973595]', 'kp1[0.988905]', 'kp1[1]', 'kp2[0.004845]', 'kp2[0.020155]', 'kp2[0.03125]', 'kp2[0.036095]', 'kp2[0.051405]', 'kp2[0.0625]', 'kp2[0.067345]', 'kp2[0.082655]', 'kp2[0.09375]', 'kp2[0.098595]', 'kp2[0.113905]', 'kp2[0.125]', 'kp2[0.129845]', 'kp2[0.145155]', 'kp2[0.15625]', 'kp2[0.161095]', 'kp2[0.176405]', 'kp2[0.1875]', 'kp2[0.192345]', 'kp2[0.207655]', 'kp2[0.21875]', 'kp2[0.223595]', 'kp2[0.238905]', 'kp2[0.25]', 'kp2[0.254845]', 'kp2[0.270155]', 'kp2[0.28125]', 'kp2[0.286095]', 'kp2[0.301405]', 'kp2[0.3125]', 'kp2[0.317345]', 'kp2[0.332655]', 'kp2[0.34375]', 'kp2[0.348595]', 'kp2[0.363905]', 'kp2[0.375]', 'kp2[0.379845]', 'kp2[0.395155]', 'kp2[0.40625]', 'kp2[0.411095]', 'kp2[0.426405]', 'kp2[0.4375]', 'kp2[0.442345]', 'kp2[0.457655]', 'kp2[0.46875]', 'kp2[0.473595]', 'kp2[0.488905]', 'kp2[0.5]', 'kp2[0.504845]', 'kp2[0.520155]', 'kp2[0.53125]', 'kp2[0.536095]', 'kp2[0.551405]', 'kp2[0.5625]', 'kp2[0.567345]', 'kp2[0.582655]', 'kp2[0.59375]', 'kp2[0.598595]', 'kp2[0.613905]', 'kp2[0.625]', 'kp2[0.629845]', 'kp2[0.645155]', 'kp2[0.65625]', 'kp2[0.661095]', 'kp2[0.676405]', 'kp2[0.6875]', 'kp2[0.692345]', 'kp2[0.707655]', 'kp2[0.71875]', 'kp2[0.723595]', 'kp2[0.738905]', 'kp2[0.75]', 'kp2[0.754845]', 'kp2[0.770155]', 'kp2[0.78125]', 'kp2[0.786095]', 'kp2[0.801405]', 'kp2[0.8125]', 'kp2[0.817345]', 'kp2[0.832655]', 'kp2[0.84375]', 'kp2[0.848595]', 'kp2[0.863905]', 'kp2[0.875]', 'kp2[0.879845]', 'kp2[0.895155]', 'kp2[0.90625]', 'kp2[0.911095]', 'kp2[0.926405]', 'kp2[0.9375]', 'kp2[0.942345]', 'kp2[0.957655]', 'kp2[0.96875]', 'kp2[0.973595]', 'kp2[0.988905]', 'kp2[1]', 'C[CC,0.004845]', 'C[CC,0.020155]', 'C[CC,0.03125]', 'C[CC,0.036095]', 'C[CC,0.051405]', 'C[CC,0.0625]', 'C[CC,0.067345]', 'C[CC,0.082655]', 'C[CC,0.09375]', 'C[CC,0.098595]', 'C[CC,0.113905]', 'C[CC,0.125]', 'C[CC,0.129845]', 'C[CC,0.145155]', 'C[CC,0.15625]', 'C[CC,0.161095]', 'C[CC,0.176405]', 'C[CC,0.1875]', 'C[CC,0.192345]', 'C[CC,0.207655]', 'C[CC,0.21875]', 'C[CC,0.223595]', 'C[CC,0.238905]', 'C[CC,0.25]', 'C[CC,0.254845]', 'C[CC,0.270155]', 'C[CC,0.28125]', 'C[CC,0.286095]', 'C[CC,0.301405]', 'C[CC,0.3125]', 'C[CC,0.317345]', 'C[CC,0.332655]', 'C[CC,0.34375]', 'C[CC,0.348595]', 'C[CC,0.363905]', 'C[CC,0.375]', 'C[CC,0.379845]', 'C[CC,0.395155]', 'C[CC,0.40625]', 'C[CC,0.411095]', 'C[CC,0.426405]', 'C[CC,0.4375]', 'C[CC,0.442345]', 'C[CC,0.457655]', 'C[CC,0.46875]', 'C[CC,0.473595]', 'C[CC,0.488905]', 'C[CC,0.5]', 'C[CC,0.504845]', 'C[CC,0.520155]', 'C[CC,0.53125]', 'C[CC,0.536095]', 'C[CC,0.551405]', 'C[CC,0.5625]', 'C[CC,0.567345]', 'C[CC,0.582655]', 'C[CC,0.59375]', 'C[CC,0.598595]', 'C[CC,0.613905]', 'C[CC,0.625]', 'C[CC,0.629845]', 'C[CC,0.645155]', 'C[CC,0.65625]', 'C[CC,0.661095]', 'C[CC,0.676405]', 'C[CC,0.6875]', 'C[CC,0.692345]', 'C[CC,0.707655]', 'C[CC,0.71875]', 'C[CC,0.723595]', 'C[CC,0.738905]', 'C[CC,0.75]', 'C[CC,0.754845]', 'C[CC,0.770155]', 'C[CC,0.78125]', 'C[CC,0.786095]', 'C[CC,0.801405]', 'C[CC,0.8125]', 'C[CC,0.817345]', 'C[CC,0.832655]', 'C[CC,0.84375]', 'C[CC,0.848595]', 'C[CC,0.863905]', 'C[CC,0.875]', 'C[CC,0.879845]', 'C[CC,0.895155]', 'C[CC,0.90625]', 'C[CC,0.911095]', 'C[CC,0.926405]', 'C[CC,0.9375]', 'C[CC,0.942345]', 'C[CC,0.957655]', 'C[CC,0.96875]', 'C[CC,0.973595]', 'C[CC,0.988905]', 'C[CC,1]', 'dCdt[CA,0]', 'dCdt[CA,0.004845]', 'dCdt[CA,0.020155]', 'dCdt[CA,0.03125]', 'dCdt[CA,0.036095]', 'dCdt[CA,0.051405]', 'dCdt[CA,0.0625]', 'dCdt[CA,0.067345]', 'dCdt[CA,0.082655]', 'dCdt[CA,0.09375]', 'dCdt[CA,0.098595]', 'dCdt[CA,0.113905]', 'dCdt[CA,0.125]', 'dCdt[CA,0.129845]', 'dCdt[CA,0.145155]', 'dCdt[CA,0.15625]', 'dCdt[CA,0.161095]', 'dCdt[CA,0.176405]', 'dCdt[CA,0.1875]', 'dCdt[CA,0.192345]', 'dCdt[CA,0.207655]', 'dCdt[CA,0.21875]', 'dCdt[CA,0.223595]', 'dCdt[CA,0.238905]', 'dCdt[CA,0.25]', 'dCdt[CA,0.254845]', 'dCdt[CA,0.270155]', 'dCdt[CA,0.28125]', 'dCdt[CA,0.286095]', 'dCdt[CA,0.301405]', 'dCdt[CA,0.3125]', 'dCdt[CA,0.317345]', 'dCdt[CA,0.332655]', 'dCdt[CA,0.34375]', 'dCdt[CA,0.348595]', 'dCdt[CA,0.363905]', 'dCdt[CA,0.375]', 'dCdt[CA,0.379845]', 'dCdt[CA,0.395155]', 'dCdt[CA,0.40625]', 'dCdt[CA,0.411095]', 'dCdt[CA,0.426405]', 'dCdt[CA,0.4375]', 'dCdt[CA,0.442345]', 'dCdt[CA,0.457655]', 'dCdt[CA,0.46875]', 'dCdt[CA,0.473595]', 'dCdt[CA,0.488905]', 'dCdt[CA,0.5]', 'dCdt[CA,0.504845]', 'dCdt[CA,0.520155]', 'dCdt[CA,0.53125]', 'dCdt[CA,0.536095]', 'dCdt[CA,0.551405]', 'dCdt[CA,0.5625]', 'dCdt[CA,0.567345]', 'dCdt[CA,0.582655]', 'dCdt[CA,0.59375]', 'dCdt[CA,0.598595]', 'dCdt[CA,0.613905]', 'dCdt[CA,0.625]', 'dCdt[CA,0.629845]', 'dCdt[CA,0.645155]', 'dCdt[CA,0.65625]', 'dCdt[CA,0.661095]', 'dCdt[CA,0.676405]', 'dCdt[CA,0.6875]', 'dCdt[CA,0.692345]', 'dCdt[CA,0.707655]', 'dCdt[CA,0.71875]', 'dCdt[CA,0.723595]', 'dCdt[CA,0.738905]', 'dCdt[CA,0.75]', 'dCdt[CA,0.754845]', 'dCdt[CA,0.770155]', 'dCdt[CA,0.78125]', 'dCdt[CA,0.786095]', 'dCdt[CA,0.801405]', 'dCdt[CA,0.8125]', 'dCdt[CA,0.817345]', 'dCdt[CA,0.832655]', 'dCdt[CA,0.84375]', 'dCdt[CA,0.848595]', 'dCdt[CA,0.863905]', 'dCdt[CA,0.875]', 'dCdt[CA,0.879845]', 'dCdt[CA,0.895155]', 'dCdt[CA,0.90625]', 'dCdt[CA,0.911095]', 'dCdt[CA,0.926405]', 'dCdt[CA,0.9375]', 'dCdt[CA,0.942345]', 'dCdt[CA,0.957655]', 'dCdt[CA,0.96875]', 'dCdt[CA,0.973595]', 'dCdt[CA,0.988905]', 'dCdt[CA,1]', 'dCdt[CB,0]', 'dCdt[CB,0.004845]', 'dCdt[CB,0.020155]', 'dCdt[CB,0.03125]', 'dCdt[CB,0.036095]', 'dCdt[CB,0.051405]', 'dCdt[CB,0.0625]', 'dCdt[CB,0.067345]', 'dCdt[CB,0.082655]', 'dCdt[CB,0.09375]', 'dCdt[CB,0.098595]', 'dCdt[CB,0.113905]', 'dCdt[CB,0.125]', 'dCdt[CB,0.129845]', 'dCdt[CB,0.145155]', 'dCdt[CB,0.15625]', 'dCdt[CB,0.161095]', 'dCdt[CB,0.176405]', 'dCdt[CB,0.1875]', 'dCdt[CB,0.192345]', 'dCdt[CB,0.207655]', 'dCdt[CB,0.21875]', 'dCdt[CB,0.223595]', 'dCdt[CB,0.238905]', 'dCdt[CB,0.25]', 'dCdt[CB,0.254845]', 'dCdt[CB,0.270155]', 'dCdt[CB,0.28125]', 'dCdt[CB,0.286095]', 'dCdt[CB,0.301405]', 'dCdt[CB,0.3125]', 'dCdt[CB,0.317345]', 'dCdt[CB,0.332655]', 'dCdt[CB,0.34375]', 'dCdt[CB,0.348595]', 'dCdt[CB,0.363905]', 'dCdt[CB,0.375]', 'dCdt[CB,0.379845]', 'dCdt[CB,0.395155]', 'dCdt[CB,0.40625]', 'dCdt[CB,0.411095]', 'dCdt[CB,0.426405]', 'dCdt[CB,0.4375]', 'dCdt[CB,0.442345]', 'dCdt[CB,0.457655]', 'dCdt[CB,0.46875]', 'dCdt[CB,0.473595]', 'dCdt[CB,0.488905]', 'dCdt[CB,0.5]', 'dCdt[CB,0.504845]', 'dCdt[CB,0.520155]', 'dCdt[CB,0.53125]', 'dCdt[CB,0.536095]', 'dCdt[CB,0.551405]', 'dCdt[CB,0.5625]', 'dCdt[CB,0.567345]', 'dCdt[CB,0.582655]', 'dCdt[CB,0.59375]', 'dCdt[CB,0.598595]', 'dCdt[CB,0.613905]', 'dCdt[CB,0.625]', 'dCdt[CB,0.629845]', 'dCdt[CB,0.645155]', 'dCdt[CB,0.65625]', 'dCdt[CB,0.661095]', 'dCdt[CB,0.676405]', 'dCdt[CB,0.6875]', 'dCdt[CB,0.692345]', 'dCdt[CB,0.707655]', 'dCdt[CB,0.71875]', 'dCdt[CB,0.723595]', 'dCdt[CB,0.738905]', 'dCdt[CB,0.75]', 'dCdt[CB,0.754845]', 'dCdt[CB,0.770155]', 'dCdt[CB,0.78125]', 'dCdt[CB,0.786095]', 'dCdt[CB,0.801405]', 'dCdt[CB,0.8125]', 'dCdt[CB,0.817345]', 'dCdt[CB,0.832655]', 'dCdt[CB,0.84375]', 'dCdt[CB,0.848595]', 'dCdt[CB,0.863905]', 'dCdt[CB,0.875]', 'dCdt[CB,0.879845]', 'dCdt[CB,0.895155]', 'dCdt[CB,0.90625]', 'dCdt[CB,0.911095]', 'dCdt[CB,0.926405]', 'dCdt[CB,0.9375]', 'dCdt[CB,0.942345]', 'dCdt[CB,0.957655]', 'dCdt[CB,0.96875]', 'dCdt[CB,0.973595]', 'dCdt[CB,0.988905]', 'dCdt[CB,1]', 'dCdt[CC,0.004845]', 'dCdt[CC,0.020155]', 'dCdt[CC,0.03125]', 'dCdt[CC,0.036095]', 'dCdt[CC,0.051405]', 'dCdt[CC,0.0625]', 'dCdt[CC,0.067345]', 'dCdt[CC,0.082655]', 'dCdt[CC,0.09375]', 'dCdt[CC,0.098595]', 'dCdt[CC,0.113905]', 'dCdt[CC,0.125]', 'dCdt[CC,0.129845]', 'dCdt[CC,0.145155]', 'dCdt[CC,0.15625]', 'dCdt[CC,0.161095]', 'dCdt[CC,0.176405]', 'dCdt[CC,0.1875]', 'dCdt[CC,0.192345]', 'dCdt[CC,0.207655]', 'dCdt[CC,0.21875]', 'dCdt[CC,0.223595]', 'dCdt[CC,0.238905]', 'dCdt[CC,0.25]', 'dCdt[CC,0.254845]', 'dCdt[CC,0.270155]', 'dCdt[CC,0.28125]', 'dCdt[CC,0.286095]', 'dCdt[CC,0.301405]', 'dCdt[CC,0.3125]', 'dCdt[CC,0.317345]', 'dCdt[CC,0.332655]', 'dCdt[CC,0.34375]', 'dCdt[CC,0.348595]', 'dCdt[CC,0.363905]', 'dCdt[CC,0.375]', 'dCdt[CC,0.379845]', 'dCdt[CC,0.395155]', 'dCdt[CC,0.40625]', 'dCdt[CC,0.411095]', 'dCdt[CC,0.426405]', 'dCdt[CC,0.4375]', 'dCdt[CC,0.442345]', 'dCdt[CC,0.457655]', 'dCdt[CC,0.46875]', 'dCdt[CC,0.473595]', 'dCdt[CC,0.488905]', 'dCdt[CC,0.5]', 'dCdt[CC,0.504845]', 'dCdt[CC,0.520155]', 'dCdt[CC,0.53125]', 'dCdt[CC,0.536095]', 'dCdt[CC,0.551405]', 'dCdt[CC,0.5625]', 'dCdt[CC,0.567345]', 'dCdt[CC,0.582655]', 'dCdt[CC,0.59375]', 'dCdt[CC,0.598595]', 'dCdt[CC,0.613905]', 'dCdt[CC,0.625]', 'dCdt[CC,0.629845]', 'dCdt[CC,0.645155]', 'dCdt[CC,0.65625]', 'dCdt[CC,0.661095]', 'dCdt[CC,0.676405]', 'dCdt[CC,0.6875]', 'dCdt[CC,0.692345]', 'dCdt[CC,0.707655]', 'dCdt[CC,0.71875]', 'dCdt[CC,0.723595]', 'dCdt[CC,0.738905]', 'dCdt[CC,0.75]', 'dCdt[CC,0.754845]', 'dCdt[CC,0.770155]', 'dCdt[CC,0.78125]', 'dCdt[CC,0.786095]', 'dCdt[CC,0.801405]', 'dCdt[CC,0.8125]', 'dCdt[CC,0.817345]', 'dCdt[CC,0.832655]', 'dCdt[CC,0.84375]', 'dCdt[CC,0.848595]', 'dCdt[CC,0.863905]', 'dCdt[CC,0.875]', 'dCdt[CC,0.879845]', 'dCdt[CC,0.895155]', 'dCdt[CC,0.90625]', 'dCdt[CC,0.911095]', 'dCdt[CC,0.926405]', 'dCdt[CC,0.9375]', 'dCdt[CC,0.942345]', 'dCdt[CC,0.957655]', 'dCdt[CC,0.96875]', 'dCdt[CC,0.973595]', 'dCdt[CC,0.988905]', 'dCdt[CC,1]', 'kp2[0]']\n"
     ]
    }
   ],
   "source": [
    "doe_object = DesignOfExperiments(parameter_dict, dv_pass,\n",
    "                                 measure_class, createmod,\n",
    "                                prior_FIM=prior_pass, discretize_model=disc,)\n",
    "\n",
    "\n",
    "result = doe_object.compute_FIM(exp1, mode=sensi_opt, FIM_store_name = 'dynamic.csv', \n",
    "                                 read_output=None,\n",
    "                                scale_nominal_param_value=True,\n",
    "                                formula='central')\n",
    "\n",
    "\n",
    "result.calculate_FIM(doe_object.design_values)\n"
   ]
  },
  {
   "cell_type": "code",
   "execution_count": 9,
   "metadata": {},
   "outputs": [
    {
     "name": "stdout",
     "output_type": "stream",
     "text": [
      "{'A1': [0.0, -1.3466945108302435, -1.0392959715043364, -0.7733119805419901, -0.5608180637832934, -0.39904340269907723, -0.27979467084814263, -0.19390454861829623, -0.1331093893670984, 0.0, 0.019915263654375348, -0.27282830625953575, -0.4952855599092672, -0.6436377585939456, -0.7284031386978062, -0.7640656221482424, -0.7644777577459819, -0.7411661149139127, 0.0, 1.3267792471758684, 1.3121242777638722, 1.2685975404512575, 1.204455822377239, 1.1274465413968837, 1.0438602929963852, 0.9583823063642781, 0.8742755042810111], 'A2': [0.0, 5.761025854469284e-15, 3.2185884979920135e-14, 4.495428497066181e-14, 3.139400607571054e-14, 6.577239198387636e-14, -7.102869656505757e-12, -4.426638023600688e-12, -2.7413571624791633e-12, 0.0, -1.375203297497099, -1.3874026640357446, -1.4015557805599772, -1.4096891620101561, -1.4082699209343343, -1.396316795964867, -1.374249965002377, -1.3431989121409162, 0.0, 1.3752032974970934, 1.3874026640357124, 1.4015557805599324, 1.4096891620101253, 1.4082699209342686, 1.3963167959719704, 1.3742499650068039, 1.343198912143657], 'E1': [0.0, 2.2233808575820335, 2.0045169216368146, 1.6378997503215535, 1.264837064762721, 0.9415401838477493, 0.6830350555821141, 0.4861216113819291, 0.3409146331763703, 0.0, -0.04681733699103755, 0.16751446440475573, 0.4972495658944106, 0.797524194986463, 1.0187654100794774, 1.1553290600087431, 1.2192729464740408, 1.2276403594458212, 0.0, -2.176563520590997, -2.17203138604157, -2.135149316215965, -2.062361259749185, -1.9603055939272274, -1.8383641155908574, -1.7053945578559702, -1.5685549926221913], 'E2': [0.0, -2.985041230201549e-14, -1.6676924582980726e-13, -1.746959623617466e-13, -3.2533234491386203e-13, -2.2719715416486978e-13, 2.9537468416392705e-11, 1.82826067862229e-11, 1.1306559056560247e-11, 0.0, 4.379659110405823, 4.866417266508487, 5.321372687993963, 5.701023805108434, 5.988171868186536, 6.180576882450093, 6.28406487256196, 6.30839353291834, 0.0, -4.379659110405794, -4.86641726650832, -5.321372687993788, -5.70102380510811, -5.98817186818631, -6.180576882479632, -6.284064872580245, -6.308393532929647]}\n"
     ]
    }
   ],
   "source": [
    "print(doe_object.jac)"
   ]
  },
  {
   "cell_type": "code",
   "execution_count": 10,
   "metadata": {
    "scrolled": true
   },
   "outputs": [
    {
     "name": "stdout",
     "output_type": "stream",
     "text": [
      "======Result summary======\n",
      "Four design criteria log10() value:\n",
      "A-optimality: 2.7885870986652654\n",
      "D-optimality: 2.8218409166152902\n",
      "E-optimality: -1.0123469424445042\n",
      "Modified E-optimality: 3.7814034299111157\n"
     ]
    }
   ],
   "source": [
    "print('======Result summary======')\n",
    "print('Four design criteria log10() value:')\n",
    "print('A-optimality:', np.log10(result.trace))\n",
    "print('D-optimality:', np.log10(result.det))\n",
    "print('E-optimality:', np.log10(result.min_eig))\n",
    "print('Modified E-optimality:', np.log10(result.cond))"
   ]
  },
  {
   "cell_type": "markdown",
   "metadata": {},
   "source": [
    "## Method: Optimization\n",
    "Gradient-based optimization with IPOPT with .optimize_doe()\n",
    "\n",
    "This function solves twice: It solves the square version of the MBDoE problem first, and then unfixes the design variables as degree of freedom and solves again. In this way the optimization problem can be well initialized. "
   ]
  },
  {
   "cell_type": "code",
   "execution_count": 11,
   "metadata": {},
   "outputs": [],
   "source": [
    "exp1 = generate_exp(t_control, 3, [500, 300, 300, 300, 300, 300, 300, 300, 300])\n",
    "\n",
    "# add a prior information (scaled FIM with T=500 and T=300 experiments)\n",
    "prior = np.asarray([[  28.67892806 ,   5.41249739 , -81.73674601 , -24.02377324],\n",
    " [   5.41249739 ,  26.40935036 , -12.41816477 , -139.23992532],\n",
    " [ -81.73674601 , -12.41816477 , 240.46276004 ,  58.76422806],\n",
    " [ -24.02377324 , -139.23992532 ,  58.76422806 , 767.25584508]])\n",
    "\n"
   ]
  },
  {
   "cell_type": "code",
   "execution_count": 12,
   "metadata": {
    "scrolled": true
   },
   "outputs": [
    {
     "ename": "AttributeError",
     "evalue": "'DesignOfExperiments' object has no attribute 'flatten_measure_name'",
     "output_type": "error",
     "traceback": [
      "\u001b[0;31m---------------------------------------------------------------------------\u001b[0m",
      "\u001b[0;31mAttributeError\u001b[0m                            Traceback (most recent call last)",
      "\u001b[0;32m/tmp/ipykernel_402551/1428627576.py\u001b[0m in \u001b[0;36m<module>\u001b[0;34m\u001b[0m\n\u001b[1;32m      5\u001b[0m square_result, optimize_result= doe_object.stochastic_program(exp1, if_optimize=True, if_Cholesky=True, \n\u001b[1;32m      6\u001b[0m                                                          \u001b[0mscale_nominal_param_value\u001b[0m\u001b[0;34m=\u001b[0m\u001b[0;32mTrue\u001b[0m\u001b[0;34m,\u001b[0m \u001b[0mobjective_option\u001b[0m\u001b[0;34m=\u001b[0m\u001b[0;34m'det'\u001b[0m\u001b[0;34m,\u001b[0m\u001b[0;34m\u001b[0m\u001b[0;34m\u001b[0m\u001b[0m\n\u001b[0;32m----> 7\u001b[0;31m                                                          L_initial=np.linalg.cholesky(prior))\n\u001b[0m",
      "\u001b[0;32m/media/psf/Home/dowlinglab/pyomo/pyomo/contrib/doe/doe.py\u001b[0m in \u001b[0;36mstochastic_program\u001b[0;34m(self, design_values, if_optimize, objective_option, jac_involved_measurement, scale_nominal_param_value, scale_constant_value, optimize_opt, if_Cholesky, L_LB, L_initial, jac_initial, fim_initial, formula, step, check, tee_opt)\u001b[0m\n\u001b[1;32m    219\u001b[0m             \u001b[0mself\u001b[0m\u001b[0;34m.\u001b[0m\u001b[0mtimepoint_overall_set\u001b[0m \u001b[0;34m=\u001b[0m \u001b[0mjac_involved_measurement\u001b[0m\u001b[0;34m.\u001b[0m\u001b[0mtimepoint_overall_set\u001b[0m\u001b[0;34m.\u001b[0m\u001b[0mcopy\u001b[0m\u001b[0;34m(\u001b[0m\u001b[0;34m)\u001b[0m\u001b[0;34m\u001b[0m\u001b[0;34m\u001b[0m\u001b[0m\n\u001b[1;32m    220\u001b[0m         \u001b[0;32melse\u001b[0m\u001b[0;34m:\u001b[0m\u001b[0;34m\u001b[0m\u001b[0;34m\u001b[0m\u001b[0m\n\u001b[0;32m--> 221\u001b[0;31m             \u001b[0mself\u001b[0m\u001b[0;34m.\u001b[0m\u001b[0mjac_involved_name\u001b[0m \u001b[0;34m=\u001b[0m \u001b[0mself\u001b[0m\u001b[0;34m.\u001b[0m\u001b[0mflatten_measure_name\u001b[0m\u001b[0;34m.\u001b[0m\u001b[0mcopy\u001b[0m\u001b[0;34m(\u001b[0m\u001b[0;34m)\u001b[0m\u001b[0;34m\u001b[0m\u001b[0;34m\u001b[0m\u001b[0m\n\u001b[0m\u001b[1;32m    222\u001b[0m             \u001b[0mself\u001b[0m\u001b[0;34m.\u001b[0m\u001b[0mtimepoint_overall_set\u001b[0m \u001b[0;34m=\u001b[0m \u001b[0mself\u001b[0m\u001b[0;34m.\u001b[0m\u001b[0mmeasure\u001b[0m\u001b[0;34m.\u001b[0m\u001b[0mtimepoint_overall_set\u001b[0m\u001b[0;34m.\u001b[0m\u001b[0mcopy\u001b[0m\u001b[0;34m(\u001b[0m\u001b[0;34m)\u001b[0m\u001b[0;34m\u001b[0m\u001b[0;34m\u001b[0m\u001b[0m\n\u001b[1;32m    223\u001b[0m \u001b[0;34m\u001b[0m\u001b[0m\n",
      "\u001b[0;31mAttributeError\u001b[0m: 'DesignOfExperiments' object has no attribute 'flatten_measure_name'"
     ]
    }
   ],
   "source": [
    "doe_object = DesignOfExperiments(parameter_dict, dv_pass,\n",
    "                                 measure_class, createmod,\n",
    "                                prior_FIM=prior, discretize_model=disc, args=[True])\n",
    "\n",
    "square_result, optimize_result= doe_object.stochastic_program(exp1, if_optimize=True, if_Cholesky=True, \n",
    "                                                         scale_nominal_param_value=True, objective_option='det', \n",
    "                                                         L_initial=np.linalg.cholesky(prior))"
   ]
  },
  {
   "cell_type": "code",
   "execution_count": null,
   "metadata": {
    "scrolled": true
   },
   "outputs": [],
   "source": [
    "print('======Result summary======')\n",
    "print('This optimization is solved with status:', optimize_result.status)\n",
    "print('The result FIM is:', optimize_result.FIM)\n",
    "print('Four design criteria log10() value:')\n",
    "print('A-optimality:', np.log10(optimize_result.trace))\n",
    "print('D-optimality:', np.log10(optimize_result.det))\n",
    "print('E-optimality:', np.log10(optimize_result.min_eig))\n",
    "print('Modified E-optimality:', np.log10(optimize_result.cond))\n",
    "\n",
    "t_list = []\n",
    "for t in optimize_result.model.t:\n",
    "    t_list.append(t)\n",
    "\n",
    "T_list = []\n",
    "for i in t_list:\n",
    "    T_list.append(pyo.value(optimize_result.model.T[i]))\n",
    "    \n",
    "si=16\n",
    "plt.rc('axes', titlesize=si)\n",
    "plt.rc('axes', labelsize=si)\n",
    "plt.rc('xtick', labelsize=si)\n",
    "plt.rc('ytick', labelsize=si)\n",
    "plt.rc('legend', fontsize=12)\n",
    "plt.plot(t_list, T_list, 'b', linewidth=2)\n",
    "#plt.scatter(t_list, T_list, 'b')\n",
    "plt.ylabel('T [$K$]')\n",
    "plt.xlabel('Time [$h$]')\n",
    "plt.show()"
   ]
  },
  {
   "cell_type": "markdown",
   "metadata": {},
   "source": [
    "## Method: Exploratory analysis (Enumeration)\n",
    "\n",
    "This method conducts exploratory analysis by enumeration. \n",
    "It allows a user to define any number (dimensions) of design variables.\n",
    "Heatmaps can be drawn by two design variables, fixing other design variables; \n",
    "1D curve can be drawn by one design variable, fixing other design variables."
   ]
  },
  {
   "cell_type": "markdown",
   "metadata": {},
   "source": [
    "### Specify user inputs"
   ]
  },
  {
   "cell_type": "code",
   "execution_count": null,
   "metadata": {},
   "outputs": [],
   "source": [
    "# Design variable ranges as lists \n",
    "design_ranges = [list(np.linspace(1,5,5)), list(np.linspace(300,700,5))]\n",
    "\n",
    "# Design variable names \n",
    "dv_apply_name = ['CA0','T']\n",
    "\n",
    "# Design variable should be fixed at these time points\n",
    "dv_apply_time = [[0],t_control]\n",
    "\n",
    "# Define experiments. This is a starting point of which the value does not matter\n",
    "exp1 = generate_exp(t_control, 5, [300, 300, 300, 300, 300, 300, 300, 300, 300])\n",
    "    \n",
    "## choose from 'sequential_finite', 'direct_kaug'\n",
    "#sensi_opt = 'sequential_finite'\n",
    "sensi_opt = 'direct_kaug'\n",
    "\n",
    "# model option\n",
    "if sensi_opt == 'direct_kaug':\n",
    "    args_ = [False]\n",
    "else:\n",
    "    args_ = [True]"
   ]
  },
  {
   "cell_type": "code",
   "execution_count": null,
   "metadata": {},
   "outputs": [],
   "source": [
    "# add prior information\n",
    "prior_all = [[ 22.52943024 , 1.84034314, -70.23273336, -11.09432962],\n",
    " [   1.84034314 ,  18.09848116 ,  -5.73565034 , -109.15866135],\n",
    " [ -70.23273336 ,  -5.73565034 , 218.94192843 ,  34.57680848],\n",
    " [ -11.09432962 , -109.15866135 ,  34.57680848 ,  658.37644634]]\n",
    "\n",
    "print(np.shape(prior_all))\n",
    "\n",
    "prior_pass=np.asarray(prior_all)\n",
    "print(np.shape(prior_pass))\n",
    "\n",
    "print('The prior information FIM:', prior_pass)\n",
    "print('Prior Det:', np.linalg.det(prior_pass))"
   ]
  },
  {
   "cell_type": "code",
   "execution_count": null,
   "metadata": {
    "scrolled": true
   },
   "outputs": [],
   "source": [
    "doe_object = DesignOfExperiments(parameter_dict, dv_pass,\n",
    "                                 measure_class, createmod,\n",
    "                                prior_FIM=prior_pass, discretize_model=disc, args=args_)\n",
    "\n",
    "all_fim = doe_object.run_grid_search(exp1, design_ranges, dv_apply_name, dv_apply_time, \n",
    "                                     mode=sensi_opt)"
   ]
  },
  {
   "cell_type": "markdown",
   "metadata": {},
   "source": [
    "### 1D sensitivity curve"
   ]
  },
  {
   "cell_type": "code",
   "execution_count": null,
   "metadata": {},
   "outputs": [],
   "source": [
    "test = all_fim.extract_criteria()\n",
    "\n",
    "## draw 1D sensitivity curve \n",
    "\n",
    "fixed = {\"'CA0'\": 5.0}\n",
    "\n",
    "all_fim.figure_drawing(fixed, ['T'], 'Reactor case','T [K]','$C_{A0}$ [M]' )\n",
    "\n"
   ]
  },
  {
   "cell_type": "markdown",
   "metadata": {},
   "source": [
    "## Heatmap"
   ]
  },
  {
   "cell_type": "code",
   "execution_count": null,
   "metadata": {
    "scrolled": true
   },
   "outputs": [],
   "source": [
    "fixed = {}\n",
    "all_fim.figure_drawing(fixed, ['CA0','T'], 'Reactor case','$C_{A0}$ [M]', 'T [K]' )"
   ]
  },
  {
   "cell_type": "markdown",
   "metadata": {},
   "source": [
    "### Read Heatmaps\n",
    "\n",
    "A heatmap shows the change of the objective function, a.k.a. the experimental information content, in the design region. Horizontal and vertical axes are two design variables, while the color of each grid shows the experimental information content. Taking the Fig. Reactor case - A optimality as example, A-optimality shows that the most informative region is around $C_{A0}=5.0$ M, $T=300.0$ K, while the least informative region is around $C_{A0}=1.0$ M, $T=700.0$ K."
   ]
  },
  {
   "cell_type": "markdown",
   "metadata": {},
   "source": [
    "## Grid search for 3 design variables"
   ]
  },
  {
   "cell_type": "code",
   "execution_count": null,
   "metadata": {},
   "outputs": [],
   "source": [
    "# Define design ranges\n",
    "design_ranges = [list(np.linspace(1,5,2)),  list(np.linspace(300,700,2)), [300,500]]\n",
    "\n",
    "# Define design variable \n",
    "# Here the two T are for different controlling time subsets\n",
    "dv_apply_name = ['CA0', 'T', 'T']\n",
    "dv_apply_time = [[0], [0], [0.125, 0.25, 0.375, 0.5, 0.625, 0.75, 0.875,1]]\n",
    "\n",
    "# Define experiments\n",
    "exp1 = generate_exp(t_control, 5, [300, 300, 300, 300, 300, 300, 300, 300, 300])\n",
    "\n",
    "## choose from 'sequential_finite', 'direct_kaug'\n",
    "#sensi_opt = 'sequential_finite'\n",
    "sensi_opt = 'direct_kaug'\n",
    "\n",
    "# model option\n",
    "if sensi_opt == 'direct_kaug':\n",
    "    args_ = [False]\n",
    "else:\n",
    "    args_ = [True]"
   ]
  },
  {
   "cell_type": "code",
   "execution_count": null,
   "metadata": {},
   "outputs": [],
   "source": [
    "doe_object = DesignOfExperiments(parameter_dict, dv_pass,\n",
    "                                 measure_class, createmod,\n",
    "                                prior_FIM=prior_pass, discretize_model=disc, args=args_)\n",
    "\n",
    "all_fim = doe_object.run_grid_search(exp1, design_ranges, dv_apply_name, dv_apply_time, \n",
    "                                     mode=sensi_opt)"
   ]
  },
  {
   "cell_type": "markdown",
   "metadata": {},
   "source": [
    "### Draw 1D sensitivity curve"
   ]
  },
  {
   "cell_type": "code",
   "execution_count": null,
   "metadata": {
    "scrolled": true
   },
   "outputs": [],
   "source": [
    "test = all_fim.extract_criteria()"
   ]
  },
  {
   "cell_type": "code",
   "execution_count": null,
   "metadata": {},
   "outputs": [],
   "source": [
    "## draw 1D sensitivity curve \n",
    "\n",
    "fixed = {\"'CA0'\": 1.0, \"'T2'\": 300}\n",
    "\n",
    "all_fim.figure_drawing(fixed, ['T'], 'Reactor case','T [K]','$C_{A0}$ [M]' )"
   ]
  },
  {
   "cell_type": "markdown",
   "metadata": {},
   "source": [
    "### Draw 2D sensitivity curve"
   ]
  },
  {
   "cell_type": "code",
   "execution_count": null,
   "metadata": {},
   "outputs": [],
   "source": [
    "fixed = {\"'T2'\": 300}\n",
    "\n",
    "all_fim.figure_drawing(fixed, ['CA0','T'], 'Reactor case','$C_{A0}$ [M]', 'T [K]' )"
   ]
  }
 ],
 "metadata": {
  "kernelspec": {
   "display_name": "Python 3 (ipykernel)",
   "language": "python",
   "name": "python3"
  },
  "language_info": {
   "codemirror_mode": {
    "name": "ipython",
    "version": 3
   },
   "file_extension": ".py",
   "mimetype": "text/x-python",
   "name": "python",
   "nbconvert_exporter": "python",
   "pygments_lexer": "ipython3",
   "version": "3.7.11"
  }
 },
 "nbformat": 4,
 "nbformat_minor": 4
}
