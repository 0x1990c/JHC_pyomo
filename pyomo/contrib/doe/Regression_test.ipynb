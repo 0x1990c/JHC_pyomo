{
 "cells": [
  {
   "cell_type": "code",
   "execution_count": 1,
   "id": "8c0af94b",
   "metadata": {},
   "outputs": [],
   "source": [
    "from pyomo.common.dependencies import (\n",
    "    numpy as np, numpy_available,\n",
    "    pandas as pd, pandas_available,\n",
    ")\n",
    "\n",
    "import pyomo.common.unittest as unittest\n",
    "\n",
    "from pyomo.environ import *\n",
    "from pyomo.dae import *\n",
    "\n",
    "from itertools import permutations, product, combinations\n",
    "import idaes\n",
    "\n",
    "from fim_doe import *"
   ]
  },
  {
   "cell_type": "code",
   "execution_count": 2,
   "id": "9ff56008",
   "metadata": {},
   "outputs": [],
   "source": [
    "from pyomo.opt import SolverFactory\n",
    "ipopt_available = SolverFactory('ipopt').available()\n"
   ]
  },
  {
   "cell_type": "code",
   "execution_count": 3,
   "id": "cd2c176e",
   "metadata": {},
   "outputs": [],
   "source": [
    "#@unittest.skipIf(not ipopt_available, \"The 'ipopt' command is not available\")"
   ]
  },
  {
   "cell_type": "code",
   "execution_count": 17,
   "id": "9ec39e95",
   "metadata": {},
   "outputs": [],
   "source": [
    "class doe_object_Tester(unittest.TestCase):\n",
    "    def setUP(self):\n",
    "        import reactor_kinetics as reactor\n",
    "        \n",
    "        createmod = reactor.create_model\n",
    "        disc = disc_for_measure\n",
    "        t_control = [0, 0.125, 0.25, 0.375, 0.5, 0.625, 0.75, 0.875, 1]\n",
    "\n",
    "        # design variable and its control time set\n",
    "        dv_pass = {'CA0': [0],'T': t_control}\n",
    "\n",
    "\n",
    "        # Define measurement time points\n",
    "        t_measure = [0, 0.125, 0.25, 0.375, 0.5, 0.625, 0.75, 0.875, 1]\n",
    "        measure_pass = {'C':{'CA': t_measure, 'CB': t_measure, 'CC': t_measure}}\n",
    "        measure_class =  Measurements(measure_pass)\n",
    "        \n",
    "        # Define parameter nominal value \n",
    "        parameter_dict = {'A1': 84.79085853498033, 'A2': 371.71773413976416, 'E1': 7.777032028026428, 'E2': 15.047135137500822}\n",
    "\n",
    "        def generate_exp(t_set, CA0, T):  \n",
    "            '''Generate experiments. \n",
    "            t_set: time control set for T.\n",
    "            CA0: CA0 value\n",
    "            T: A list of T \n",
    "            '''\n",
    "            assert(len(t_set)==len(T)), 'T should have the same length as t_set'\n",
    "\n",
    "            T_con_initial = {}\n",
    "            for t, tim in enumerate(t_set):\n",
    "                T_con_initial[tim] = T[t]\n",
    "\n",
    "            dv_dict_overall = {'CA0': {0: CA0},'T': T_con_initial}\n",
    "            return dv_dict_overall\n",
    "        \n",
    "        # empty prior\n",
    "        prior_all = np.zeros((4,4))\n",
    "\n",
    "        prior_pass=np.asarray(prior_all)\n",
    "\n",
    "        exp1 = generate_exp(t_control, 5, [300, 300, 300, 300, 300, 300, 300, 300, 300])\n",
    "\n",
    "        self.doe = DesignOfExperiments(parameter_dict, dv_pass,\n",
    "                             measure_class, createmod,\n",
    "                            prior_FIM=prior_pass, discretize_model=disc, args=args_)\n",
    "\n",
    "    def test_sequential_finite(self): \n",
    "\n",
    "\n",
    "        result = self.doe.compute_FIM(exp1,mode='sequential_finite', FIM_store_name = 'dynamic.csv', \n",
    "                                        store_output = 'store_output', read_output=None,\n",
    "                                        scale_nominal_param_value=True, formula='central')\n",
    "\n",
    "\n",
    "        result.calculate_FIM(self.doe.design_values)\n",
    "\n",
    "        self.assertAlmostEqual(np.log10(result.trace), 2.962954, places=3)\n",
    "        self.assertAlmostEqual(result.FIM[0][1], 1.840604, places=3)\n",
    "            \n",
    "            \n",
    "            \n",
    "            "
   ]
  },
  {
   "cell_type": "code",
   "execution_count": 18,
   "id": "a330cf6c",
   "metadata": {},
   "outputs": [
    {
     "name": "stderr",
     "output_type": "stream",
     "text": [
      "E\n",
      "======================================================================\n",
      "ERROR: /home/parallels/ (unittest.loader._FailedTest)\n",
      "----------------------------------------------------------------------\n",
      "AttributeError: module '__main__' has no attribute '/home/parallels/'\n",
      "\n",
      "----------------------------------------------------------------------\n",
      "Ran 1 test in 0.002s\n",
      "\n",
      "FAILED (errors=1)\n"
     ]
    },
    {
     "ename": "SystemExit",
     "evalue": "True",
     "output_type": "error",
     "traceback": [
      "An exception has occurred, use %tb to see the full traceback.\n",
      "\u001b[0;31mSystemExit\u001b[0m\u001b[0;31m:\u001b[0m True\n"
     ]
    },
    {
     "name": "stderr",
     "output_type": "stream",
     "text": [
      "/home/parallels/anaconda3/envs/pyomo/lib/python3.7/site-packages/IPython/core/interactiveshell.py:3452: UserWarning: To exit: use 'exit', 'quit', or Ctrl-D.\n",
      "  warn(\"To exit: use 'exit', 'quit', or Ctrl-D.\", stacklevel=1)\n"
     ]
    }
   ],
   "source": [
    "if __name__ == '__main__':\n",
    "    unittest.main()"
   ]
  },
  {
   "cell_type": "code",
   "execution_count": null,
   "id": "f32e7633",
   "metadata": {},
   "outputs": [],
   "source": []
  },
  {
   "cell_type": "code",
   "execution_count": null,
   "id": "0f0759d1",
   "metadata": {},
   "outputs": [],
   "source": []
  }
 ],
 "metadata": {
  "kernelspec": {
   "display_name": "Python 3 (ipykernel)",
   "language": "python",
   "name": "python3"
  },
  "language_info": {
   "codemirror_mode": {
    "name": "ipython",
    "version": 3
   },
   "file_extension": ".py",
   "mimetype": "text/x-python",
   "name": "python",
   "nbconvert_exporter": "python",
   "pygments_lexer": "ipython3",
   "version": "3.7.11"
  }
 },
 "nbformat": 4,
 "nbformat_minor": 5
}
