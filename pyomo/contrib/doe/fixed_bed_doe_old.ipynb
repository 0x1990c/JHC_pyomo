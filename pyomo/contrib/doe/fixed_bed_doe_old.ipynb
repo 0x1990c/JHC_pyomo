{
 "cells": [
  {
   "cell_type": "markdown",
   "metadata": {},
   "source": [
    "# Fixed bed model example\n",
    "\n",
    "Jialu Wang (jwang44@nd.edu) and Alex Dowling (adowling@nd.edu), University of Notre Dame\n",
    "\n",
    "This notebook conducts design of experiments for the fixed bed CO$_2$ adsorption experiment. The DoE package is used and the DoE results are shown by heatmaps of three optimalities, A-, D- and E-optimalities. "
   ]
  },
  {
   "cell_type": "markdown",
   "metadata": {},
   "source": [
    "## Import Model"
   ]
  },
  {
   "cell_type": "code",
   "execution_count": 1,
   "metadata": {},
   "outputs": [],
   "source": [
    "import matplotlib.pyplot as plt\n",
    "from pyomo.environ import *\n",
    "from pyomo.dae import *\n",
    "\n",
    "import numpy as np\n",
    "from scipy.interpolate import interp2d\n",
    "import pandas as pd"
   ]
  },
  {
   "cell_type": "code",
   "execution_count": 4,
   "metadata": {},
   "outputs": [
    {
     "name": "stdout",
     "output_type": "stream",
     "text": [
      "alpha option:\n",
      "1 / (1 + exp(-x))\n",
      "WARNING: DEPRECATED: The pyomo.core.kernel.component_set module is deprecated.\n",
      "    Import ComponentSet from pyomo.common.collections.  (deprecated in 5.7.1)\n",
      "    (called from <frozen importlib._bootstrap>:228)\n",
      "WARNING: DEPRECATED: the 'sorted_robust' function has been moved to\n",
      "    'pyomo.common.sorting.sorted_robust'.  Please update your import.\n",
      "    (deprecated in 6.1) (called from <frozen importlib._bootstrap>:228)\n"
     ]
    },
    {
     "name": "stderr",
     "output_type": "stream",
     "text": [
      "/Users/wangjialu/pyomo/pyomo/contrib/doe/fixed_bed_model_indexed_dynamic.py:289: SyntaxWarning: \"is\" with a literal. Did you mean \"==\"?\n",
      "  if diff is 0:\n",
      "/Users/wangjialu/pyomo/pyomo/contrib/doe/fixed_bed_model_indexed_dynamic.py:291: SyntaxWarning: \"is\" with a literal. Did you mean \"==\"?\n",
      "  elif diff is 1:\n",
      "/Users/wangjialu/pyomo/pyomo/contrib/doe/fixed_bed_model_indexed_dynamic.py:293: SyntaxWarning: \"is\" with a literal. Did you mean \"==\"?\n",
      "  elif diff is -1:\n",
      "/Users/wangjialu/pyomo/pyomo/contrib/doe/fixed_bed_model_indexed_dynamic.py:295: SyntaxWarning: \"is\" with a literal. Did you mean \"==\"?\n",
      "  elif diff is 2:\n",
      "/Users/wangjialu/pyomo/pyomo/contrib/doe/fixed_bed_model_indexed_dynamic.py:305: SyntaxWarning: \"is\" with a literal. Did you mean \"==\"?\n",
      "  if i is 'base' or 'forward_ua' or 'backward_ua':\n",
      "/Users/wangjialu/pyomo/pyomo/contrib/doe/fixed_bed_model_indexed_dynamic.py:307: SyntaxWarning: \"is\" with a literal. Did you mean \"==\"?\n",
      "  elif i is 'forward_k':\n",
      "/Users/wangjialu/pyomo/pyomo/contrib/doe/fixed_bed_model_indexed_dynamic.py:309: SyntaxWarning: \"is\" with a literal. Did you mean \"==\"?\n",
      "  elif i is 'backward_k':\n",
      "/Users/wangjialu/pyomo/pyomo/contrib/doe/fixed_bed_model_indexed_dynamic.py:661: SyntaxWarning: \"is\" with a literal. Did you mean \"==\"?\n",
      "  elif i is 'forward_ua':\n",
      "/Users/wangjialu/pyomo/pyomo/contrib/doe/fixed_bed_model_indexed_dynamic.py:663: SyntaxWarning: \"is\" with a literal. Did you mean \"==\"?\n",
      "  elif i is 'backward_ua':\n"
     ]
    }
   ],
   "source": [
    "import fixed_bed_model_indexed_dynamic as mod\n",
    "from fim_doe import * "
   ]
  },
  {
   "cell_type": "markdown",
   "metadata": {},
   "source": [
    "### Define Fixed Bed Model"
   ]
  },
  {
   "cell_type": "code",
   "execution_count": 5,
   "metadata": {},
   "outputs": [],
   "source": [
    "# Define the fixed bed model timepoints \n",
    "NFEt=68\n",
    "#NFEt = 102\n",
    "time_scale=3200\n",
    "#time_scale = 4800\n",
    "collo=False\n",
    "\n",
    "# a list of timepoints for creating the model\n",
    "exp_time = mod.time_points(NFEt, time_scale)"
   ]
  },
  {
   "cell_type": "code",
   "execution_count": 6,
   "metadata": {},
   "outputs": [],
   "source": [
    "def add_model(doe, timepoints, time_start=0):\n",
    "    '''\n",
    "    add variables, equations and discretize the model time\n",
    "    Argument:\n",
    "        timepoints: the timesteps\n",
    "        time_start: where the timesteps start. For self defined timepoints it's 0. For experimental data it's -10.\n",
    "    '''\n",
    "    mod.add_variables(doe, timesteps=timepoints, start=time_start)\n",
    "    \n",
    "    mod.add_equations(doe)\n",
    "    \n",
    "    print ('the number of timepoints is', NFEt)\n",
    "    \n",
    "def discretize(doe, no_points=68):\n",
    "    '''\n",
    "    no_points: how many time invertals to divide. For self defined timepoints it's 69. For experimental data it's 68. \n",
    "    '''\n",
    "    if collo:\n",
    "        TransformationFactory('dae.collocation').apply_to(doe, nfe=no_points, ncp=3, scheme='LAGRANGE-RADAU', wrt=doe.t)\n",
    "    else:\n",
    "        TransformationFactory('dae.finite_difference').apply_to(doe, nfe=no_points, scheme='BACKWARD', wrt=doe.t)\n",
    "    \n",
    "    \n",
    "def initialize(doe, init_point):\n",
    "    '''\n",
    "    Argument: \n",
    "        init_point: initial point, csv file\n",
    "    '''\n",
    "    # Initialize \n",
    "    print('The init point is', init_point)    \n",
    "    store = pd.read_csv(init_point)\n",
    "    position_max = store['position'].max()\n",
    "    store['position'] = store['position'] / position_max\n",
    "\n",
    "    mod.initial_bed_csv(doe, store)\n",
    "    mod.fix_initial_bed(doe)"
   ]
  },
  {
   "cell_type": "code",
   "execution_count": 7,
   "metadata": {},
   "outputs": [],
   "source": [
    "def fixed_bed_run(dv=[313.15, 0.15], param_init = [212, np.log(5.0E6)], init_point='20200729_energy.csv', energy_opt=True):\n",
    "    '''\n",
    "    Create model function of fixed bed model specifically \n",
    "    \n",
    "    init_point: initial solutions\n",
    "    energy_opt: if the energy balance is toggled on\n",
    "    '''\n",
    "    test = mod.create_model(temp=dv[0], temp_bath=313.15, y=dv[1], para=param_init[0], ua=param_init[1], opt=True, conti=False, k_aug=False, diff=0, energy=energy_opt, doe_model=True)\n",
    "    add_model(test, exp_time)\n",
    "    discretize(test, no_points=NFEt)\n",
    "    initialize(test, init_point)\n",
    "    return test"
   ]
  },
  {
   "cell_type": "code",
   "execution_count": 8,
   "metadata": {},
   "outputs": [],
   "source": [
    "def fixed_bed_isothermal(dv=[313.15, 0.15], param_init = [212], init_point='20200729_energy.csv', energy_opt=False):\n",
    "    '''\n",
    "    Create model function of fixed bed model specifically \n",
    "    \n",
    "    init_point: initial solutions\n",
    "    energy_opt: if the energy balance is toggled on\n",
    "    '''\n",
    "    test = mod.create_model(temp=dv[0], temp_bath=313.15, y=dv[1], para=param_init[0], ua=np.log(5.0E6), opt=True, conti=False, k_aug=False, diff=0, energy=energy_opt, doe_model=True)\n",
    "    add_model(test, exp_time)\n",
    "    discretize(test, no_points=NFEt)\n",
    "    initialize(test, init_point)\n",
    "    return test"
   ]
  },
  {
   "cell_type": "markdown",
   "metadata": {},
   "source": [
    "## Defines Problem \n",
    "\n"
   ]
  },
  {
   "cell_type": "code",
   "execution_count": 9,
   "metadata": {},
   "outputs": [
    {
     "name": "stdout",
     "output_type": "stream",
     "text": [
      "[293.15]\n",
      "[0.4]\n"
     ]
    }
   ],
   "source": [
    "T_range = [293.15]\n",
    "y_range = [0.4]\n",
    "#T_range = [293.15, 303.15, 313.15, 323.15, 333.15, 343.15, 353.15, 363.16, 373.15]\n",
    "#T_range = [293, 303, 313, 323,333, 343, 353, 363, 373]\n",
    "#y_range = [0.1, 0.15, 0.2, 0.25, 0.3, 0.35, 0.4]\n",
    "\n",
    "print(T_range)\n",
    "print(y_range)\n",
    "\n",
    "param_initial_re = {'fitted_transport_coefficient': 212 ,\n",
    "                    'ua': np.log(5.0E3)}\n",
    "\n",
    "design_ranges_re = {'temp_orig': T_range,\n",
    "                    'yfeed': y_range}"
   ]
  },
  {
   "cell_type": "code",
   "execution_count": 10,
   "metadata": {},
   "outputs": [],
   "source": [
    "def cut_jac(jaco_sam, add=0):\n",
    "    if add==0:\n",
    "        jaco=np.zeros((2,103))\n",
    "        jaco[0] = jaco_sam['fitted_transport_coefficient'].iloc[:103]\n",
    "        jaco[1] = jaco_sam['ua'][:103]\n",
    "    if add==1:\n",
    "        jaco=np.zeros((2,206))\n",
    "        jaco[0] = jaco_sam['fitted_transport_coefficient'][:206]\n",
    "        jaco[1] = jaco_sam['ua'][:206]\n",
    "    elif add==2:\n",
    "        jaco=np.zeros((2,206))\n",
    "        jaco[0][:103] = jaco_sam['fitted_transport_coefficient'][:103]\n",
    "        jaco[1][:103] = jaco_sam['ua'][:103]\n",
    "        jaco[0][103:206] = jaco_sam['fitted_transport_coefficient'][206:309]\n",
    "        jaco[1][103:206] = jaco_sam['ua'][206:309]\n",
    "\n",
    "    return jaco\n",
    "\n",
    "def cutted_fim(name, option):\n",
    "    kitty = pd.read_csv(name)\n",
    "    print(kitty)\n",
    "    kitty_cut = cut_jac(kitty, add=option)\n",
    "    jaco_store = pd.DataFrame({'A1': kitty_cut[0],\n",
    "                              'A2': kitty_cut[1]})\n",
    "    fim = jaco_store.T@jaco_store\n",
    "    return fim\n",
    "    \n",
    "    "
   ]
  },
  {
   "cell_type": "code",
   "execution_count": 11,
   "metadata": {},
   "outputs": [
    {
     "name": "stdout",
     "output_type": "stream",
     "text": [
      "     Unnamed: 0  temp_orig  yfeed  fitted_transport_coefficient            ua\n",
      "0             0          0      0                  0.000000e+00  0.000000e+00\n",
      "1             1          0      0                  5.093802e-06 -3.181793e-08\n",
      "2             2          0      0                  2.859918e-05 -1.018305e-07\n",
      "3             3          0      0                  1.209566e-04 -5.349883e-07\n",
      "4             4          0      0                  5.350392e-04 -2.378592e-06\n",
      "..          ...        ...    ...                           ...           ...\n",
      "304         304          0      0                  8.010630e-07 -1.731524e-06\n",
      "305         305          0      0                  7.037443e-07 -1.501550e-06\n",
      "306         306          0      0                  6.181864e-07 -1.302124e-06\n",
      "307         307          0      0                  5.429882e-07 -1.129186e-06\n",
      "308         308          0      0                  4.769987e-07 -9.791961e-07\n",
      "\n",
      "[309 rows x 5 columns]\n",
      "     Unnamed: 0  temp_orig  yfeed  fitted_transport_coefficient            ua\n",
      "0             0          0      0                  0.000000e+00  0.000000e+00\n",
      "1             1          0      0                  4.701993e-07 -1.601560e-08\n",
      "2             2          0      0                  8.295586e-08 -4.081273e-09\n",
      "3             3          0      0                  1.151587e-06 -7.007071e-09\n",
      "4             4          0      0                  5.089834e-06 -2.268664e-08\n",
      "..          ...        ...    ...                           ...           ...\n",
      "304         304          0      0                  1.366828e-06 -3.084031e-06\n",
      "305         305          0      0                  1.201531e-06 -2.675003e-06\n",
      "306         306          0      0                  1.056097e-06 -2.320311e-06\n",
      "307         307          0      0                  9.281905e-07 -2.012737e-06\n",
      "308         308          0      0                  8.159162e-07 -1.746207e-06\n",
      "\n",
      "[309 rows x 5 columns]\n",
      "The prior information FIM: [[ 3.54263178e-02 -2.38903403e-04]\n",
      " [-2.38903403e-04  1.63872389e-06]]\n",
      "Eigenvalue of the prior experiments FIM: [3.54279289e-02 2.76368818e-08]\n",
      "Eigenvector of the prior experiments FIM: [[-0.00674352 -0.99997726]\n",
      " [-0.99997726  0.00674352]]\n"
     ]
    }
   ],
   "source": [
    "prior_293_40 = cutted_fim('/Users/wangjialu/Desktop/final-result-fixed-bed/fixed_bed/jacobian_293_40_102_5e6.csv', 0)\n",
    "prior_373_40 = cutted_fim('/Users/wangjialu/Desktop/final-result-fixed-bed/fixed_bed/jacobian_373_40_102_5e6.csv',0) \n",
    "\n",
    "prior_all = prior_293_40 + prior_373_40 \n",
    "prior_pass=prior_all.to_numpy()\n",
    "\n",
    "print('The prior information FIM:', prior_pass)\n",
    "print('Eigenvalue of the prior experiments FIM:', np.linalg.eigvals(prior_pass))\n",
    "print('Eigenvector of the prior experiments FIM:', np.linalg.eigh(prior_pass)[1])"
   ]
  },
  {
   "cell_type": "code",
   "execution_count": 12,
   "metadata": {},
   "outputs": [
    {
     "name": "stdout",
     "output_type": "stream",
     "text": [
      "The prior information FIM: [[ 2.17896149e-02 -1.40959783e-04]\n",
      " [-1.40959783e-04  9.20117406e-07]]\n",
      "Eigenvalue of the prior experiments FIM: [2.17905267e-02 8.23034696e-09]\n",
      "Eigenvector of the prior experiments FIM: [[-0.00646899 -0.99997908]\n",
      " [-0.99997908  0.00646899]]\n"
     ]
    }
   ],
   "source": [
    "prior_293_40 = pd.read_csv('/Users/wangjialu/Desktop/final-result-fixed-bed/fixed_bed/fim_293_40_scale_5e6.csv')\n",
    "prior_373_40 = pd.read_csv('/Users/wangjialu/Desktop/final-result-fixed-bed/fixed_bed/fim_373_40_scale_5e6.csv') \n",
    "\n",
    "prior_all = prior_293_40 \n",
    "prior_pass=prior_all.to_numpy()\n",
    "\n",
    "print('The prior information FIM:', prior_pass)\n",
    "print('Eigenvalue of the prior experiments FIM:', np.linalg.eigvals(prior_pass))\n",
    "print('Eigenvector of the prior experiments FIM:', np.linalg.eigh(prior_pass)[1])"
   ]
  },
  {
   "cell_type": "markdown",
   "metadata": {},
   "source": [
    "## Compute FIM"
   ]
  },
  {
   "cell_type": "code",
   "execution_count": null,
   "metadata": {},
   "outputs": [],
   "source": [
    "# choose from 'simultaneous', 'sequential', 'sipopt'\n",
    "#sensi_opt = 'simultaneous_finite'\n",
    "sensi_opt = 'sequential_finite'\n",
    "#sensi_opt = 'sequential_sipopt'\n",
    "#sensi_opt = 'sequential_kaug'\n",
    "#sensi_opt = 'direct_kaug'\n",
    "\n",
    "# Define experiments\n"
   ]
  },
  {
   "cell_type": "code",
   "execution_count": null,
   "metadata": {},
   "outputs": [],
   "source": []
  },
  {
   "cell_type": "markdown",
   "metadata": {},
   "source": [
    "## Perform sequential sensitivity analysis"
   ]
  },
  {
   "cell_type": "code",
   "execution_count": null,
   "metadata": {},
   "outputs": [],
   "source": [
    "# Decide if pass any prior information\n",
    "#exist_info=prior_pass\n",
    "exist_info = None\n",
    "\n",
    "# Decide if scaling \n",
    "scale_option=True\n",
    "\n",
    "save_option='total'"
   ]
  },
  {
   "cell_type": "code",
   "execution_count": null,
   "metadata": {},
   "outputs": [],
   "source": [
    "# create the object\n",
    "searcher = DesignOfExperiments(fixed_bed_isothermal, mod.extract_fixed, design_ranges_re, param_initial_re, prior_FIM=exist_info)\n"
   ]
  },
  {
   "cell_type": "code",
   "execution_count": null,
   "metadata": {
    "scrolled": true
   },
   "outputs": [],
   "source": [
    "# solve the doe grid search problem \n",
    "jaco_in, fim_info = searcher.run_grid_search(scale=scale_option, save_jac=save_option)\n"
   ]
  },
  {
   "cell_type": "code",
   "execution_count": null,
   "metadata": {},
   "outputs": [],
   "source": [
    "print(fim_info)"
   ]
  },
  {
   "cell_type": "markdown",
   "metadata": {},
   "source": [
    "### Generate prior info"
   ]
  },
  {
   "cell_type": "code",
   "execution_count": null,
   "metadata": {},
   "outputs": [],
   "source": [
    "def prior_generate(path, names):\n",
    "    jaco1 = pd.read_csv(path)\n",
    "    #jaco1 = jaco[(jaco[self.dv[0]]==0) & (jaco[self.dv[1]]==0)]\n",
    "    jaco_array = []\n",
    "    for name in list(param_initial_re.keys()):\n",
    "        jaco_array.append(list(jaco1[name]))\n",
    "\n",
    "    jaco_store = pd.DataFrame({'A1': jaco_array[0],\n",
    "                              'A2': jaco_array[1]})\n",
    "    #print(jaco_store)\n",
    "    #jaco_array = np.asarray(jaco_array)\n",
    "\n",
    "\n",
    "    fim = jaco_store.T@jaco_store  \n",
    "    fim.to_csv(names,index=False)\n",
    "    \n",
    "prior_generate('jacobian_373_40_102_5e6.csv', 'fim_373_40_102_5e6.csv')"
   ]
  },
  {
   "cell_type": "markdown",
   "metadata": {},
   "source": [
    "## Load from Jacobian files"
   ]
  },
  {
   "cell_type": "code",
   "execution_count": null,
   "metadata": {},
   "outputs": [],
   "source": [
    "# for only k\n",
    "\n",
    "prior_293_40 = [0.02034514]\n",
    "prior_293_10 = [0.00078969]\n",
    "prior_373_10 = [0.0001321]\n",
    "prior_373_40 = [0.00106497]\n",
    "\n",
    "prior_pass = [prior_373_40[0] + prior_293_40[0]]\n",
    "print(prior_pass)"
   ]
  },
  {
   "cell_type": "code",
   "execution_count": null,
   "metadata": {},
   "outputs": [],
   "source": [
    "# Decide if pass any prior information\n",
    "exist_info=prior_pass\n",
    "#exist_info = None\n",
    "\n",
    "# Decide if scaling \n",
    "scale_option=True\n",
    "\n",
    "save_option=None"
   ]
  },
  {
   "cell_type": "code",
   "execution_count": null,
   "metadata": {},
   "outputs": [],
   "source": [
    "def cutting(jaco_sam, add=0):\n",
    "    if add==0:\n",
    "        jaco=np.zeros((2,103))\n",
    "        jaco[0] = jaco_sam[0][:103]\n",
    "        jaco[1] = jaco_sam[1][:103]\n",
    "    if add==1:\n",
    "        jaco=np.zeros((2,206))\n",
    "        jaco[0] = jaco_sam[0][:206]\n",
    "        jaco[1] = jaco_sam[1][:206]\n",
    "    elif add==2:\n",
    "        jaco=np.zeros((2,206))\n",
    "        jaco[0][:103] = jaco_sam[0][:103]\n",
    "        jaco[1][:103] = jaco_sam[1][:103]\n",
    "        jaco[0][103:206] = jaco_sam[0][206:309]\n",
    "        jaco[1][103:206] = jaco_sam[1][206:309]\n",
    "\n",
    "    return jaco\n",
    "\n",
    "def cutting_konly(jaco_sam):\n",
    "    jaco=np.zeros((1,103))\n",
    "    jaco[0] = jaco_sam[0][:103]\n",
    "        \n",
    "    return jaco"
   ]
  },
  {
   "cell_type": "code",
   "execution_count": null,
   "metadata": {},
   "outputs": [],
   "source": [
    "# First define the searcher object\n",
    "searcher = DesignOfExperiments(fixed_bed_run, mod.extract_fixed, design_ranges_re, param_initial_re, prior_FIM=exist_info)\n",
    "\n",
    "jaco_in, fim_in, dict_jaco = searcher.read_csv(file='/Users/wangjialu/Desktop/final-result/fixed_bed/jacobian_scale_5e6_102.csv', \n",
    "                                    visual=True, cut=True, cut_func=cutting)\n"
   ]
  },
  {
   "cell_type": "code",
   "execution_count": null,
   "metadata": {
    "scrolled": true
   },
   "outputs": [],
   "source": [
    "print(fim_in)\n",
    "\n",
    "prior_293_40 = fim_in[(0,6)]\n",
    "prior_293_10 = fim_in[(0,0)]\n",
    "prior_373_10 = fim_in[(8,0)]\n",
    "prior_373_40 = fim_in[(8,6)]\n",
    "\n",
    "print(prior_293_40)\n",
    "print(prior_293_10)\n",
    "print(prior_373_10)\n",
    "print(prior_373_40)"
   ]
  },
  {
   "cell_type": "markdown",
   "metadata": {},
   "source": [
    "## Visualize DoE results"
   ]
  },
  {
   "cell_type": "code",
   "execution_count": null,
   "metadata": {
    "scrolled": true
   },
   "outputs": [],
   "source": [
    "jaco_in.calculate_criteria(save=True)\n",
    "jaco_in.heatmap('DoE for Fixed Bed Model', 'Bed temperature [K]', 'CO\\N{SUBSCRIPT TWO} feed composition [mol %]')"
   ]
  },
  {
   "cell_type": "code",
   "execution_count": null,
   "metadata": {},
   "outputs": [],
   "source": []
  }
 ],
 "metadata": {
  "kernelspec": {
   "display_name": "Python 3 (ipykernel)",
   "language": "python",
   "name": "python3"
  },
  "language_info": {
   "codemirror_mode": {
    "name": "ipython",
    "version": 3
   },
   "file_extension": ".py",
   "mimetype": "text/x-python",
   "name": "python",
   "nbconvert_exporter": "python",
   "pygments_lexer": "ipython3",
   "version": "3.9.6"
  }
 },
 "nbformat": 4,
 "nbformat_minor": 4
}
