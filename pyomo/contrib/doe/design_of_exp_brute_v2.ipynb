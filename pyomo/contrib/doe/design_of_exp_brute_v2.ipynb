{
 "cells": [
  {
   "cell_type": "markdown",
   "metadata": {},
   "source": [
    "## Design of experiment"
   ]
  },
  {
   "cell_type": "code",
   "execution_count": 1,
   "metadata": {},
   "outputs": [
    {
     "name": "stderr",
     "output_type": "stream",
     "text": [
      "/Users/wangjialu/pyomo/pyomo/contrib/doe/fixed_bed_model_v2.py:289: SyntaxWarning: \"is\" with a literal. Did you mean \"==\"?\n",
      "  if diff is 0:\n",
      "/Users/wangjialu/pyomo/pyomo/contrib/doe/fixed_bed_model_v2.py:291: SyntaxWarning: \"is\" with a literal. Did you mean \"==\"?\n",
      "  elif diff is 1:\n",
      "/Users/wangjialu/pyomo/pyomo/contrib/doe/fixed_bed_model_v2.py:293: SyntaxWarning: \"is\" with a literal. Did you mean \"==\"?\n",
      "  elif diff is -1:\n",
      "/Users/wangjialu/pyomo/pyomo/contrib/doe/fixed_bed_model_v2.py:295: SyntaxWarning: \"is\" with a literal. Did you mean \"==\"?\n",
      "  elif diff is 2:\n",
      "/Users/wangjialu/pyomo/pyomo/contrib/doe/fixed_bed_model_v2.py:305: SyntaxWarning: \"is\" with a literal. Did you mean \"==\"?\n",
      "  if i is 'base' or 'forward_ua' or 'backward_ua':\n",
      "/Users/wangjialu/pyomo/pyomo/contrib/doe/fixed_bed_model_v2.py:307: SyntaxWarning: \"is\" with a literal. Did you mean \"==\"?\n",
      "  elif i is 'forward_k':\n",
      "/Users/wangjialu/pyomo/pyomo/contrib/doe/fixed_bed_model_v2.py:309: SyntaxWarning: \"is\" with a literal. Did you mean \"==\"?\n",
      "  elif i is 'backward_k':\n",
      "/Users/wangjialu/pyomo/pyomo/contrib/doe/fixed_bed_model_v2.py:661: SyntaxWarning: \"is\" with a literal. Did you mean \"==\"?\n",
      "  elif i is 'forward_ua':\n",
      "/Users/wangjialu/pyomo/pyomo/contrib/doe/fixed_bed_model_v2.py:663: SyntaxWarning: \"is\" with a literal. Did you mean \"==\"?\n",
      "  elif i is 'backward_ua':\n"
     ]
    },
    {
     "name": "stdout",
     "output_type": "stream",
     "text": [
      "alpha option:\n",
      "1 / (1 + exp(-x))\n",
      "WARNING: DEPRECATED: The pyomo.core.kernel.component_set module is deprecated.\n",
      "    Import ComponentSet from pyomo.common.collections.  (deprecated in 5.7.1)\n",
      "    (called from <frozen importlib._bootstrap>:228)\n"
     ]
    }
   ],
   "source": [
    "import matplotlib.pyplot as plt\n",
    "from pyomo.environ import *\n",
    "from pyomo.dae import *\n",
    "\n",
    "import numpy as np\n",
    "import pandas as pd\n",
    "\n",
    "from fixed_bed_model_v2 import *\n",
    "#from Users.wangjialu.pyomo.pyomo.contrib.doe import fim_doe"
   ]
  },
  {
   "cell_type": "markdown",
   "metadata": {},
   "source": [
    "### Load experimental data"
   ]
  },
  {
   "cell_type": "code",
   "execution_count": 2,
   "metadata": {},
   "outputs": [],
   "source": [
    "def load_data(data_name=\"co2_breakthrough.csv\", no_time=68, len_time=3200, source=\"computer\", self_defined=True):\n",
    "    '''Loading experimental data \n",
    "    Arg: \n",
    "        data_name: the file name of the data. If it's lab experimental data from LNBL, use the default name. Otherwise,\n",
    "                   put the new filenames on it\n",
    "        source: lab or computer\n",
    "        self_defined: a choice for lab experimental data. If true, use self-defined timepoints [0,3200], 69 timepoints.\n",
    "                      if false, use the timepoints of experimental data [-10, 3208], 68\n",
    "    Return:\n",
    "    \n",
    "    '''\n",
    "    \n",
    "    \n",
    "    if (source==\"lab\"):\n",
    "        # Import experimental data\n",
    "        exp = pd.read_csv(data_name)\n",
    "        \n",
    "        # exp_time_st is a numpy array, containing every timepoint in experimental data in [s]\n",
    "        exp_time_st = exp.time.to_numpy()*60\n",
    "\n",
    "        # exp_yCO2_st is a dictionary, keys are timepoints in [s], values are the yCO2\n",
    "        exp_yCO2_st = {}\n",
    "        for i in range(len(exp_time_st)):    \n",
    "            exp_yCO2_st[exp_time_st[i]] = exp.yCO2[i]\n",
    "\n",
    "        # exp_yCO2_st is a dictionary, keys are timepoints in [s], values are the FCO2\n",
    "        exp_FCO2_st = {}\n",
    "        for i in range(len(exp_time_st)):    \n",
    "            exp_FCO2_st[exp_time_st[i]] = exp.FCO2[i]\n",
    "\n",
    "        if self_defined:\n",
    "            # a list of timepoints for creating the model\n",
    "            time_exp = time_points(no_time, len_time)\n",
    "\n",
    "            # Experimental data of yCO2 value at outlet. For specifying objective function\n",
    "            exp_yCO2 = {}\n",
    "            exp_yCO2_re = np.interp(time_exp, exp_time_st, exp.yCO2)\n",
    "            for i in range(len(time_exp)):    \n",
    "                exp_yCO2[time_exp[i]] = exp_yCO2_re[i]\n",
    "\n",
    "            # Experimental data of yCO2 value at outlet. For specifying objective function\n",
    "            exp_FCO2 = {}\n",
    "            exp_FCO2_re = np.interp(time_exp, exp_time_st, exp.FCO2)\n",
    "            for i in range(len(time_exp)):    \n",
    "                exp_FCO2[time_exp[i]] = exp_FCO2_re[i]\n",
    "            \n",
    "            return time_exp, exp_yCO2\n",
    "            \n",
    "        else: \n",
    "            #exp_time = exp.time*60\n",
    "            return exp_time_st, exp_yCO2_st\n",
    "            \n",
    "    elif (source==\"computer\"):\n",
    "        \n",
    "        time_exp = time_points(no_time, len_time)\n",
    "        \n",
    "        sol = pd.read_csv(data_name)\n",
    "    \n",
    "        yco2_exp = {}\n",
    "        temp_mid_exp = {}\n",
    "        temp_end_exp = {}\n",
    "\n",
    "        for i in range(len(time_exp)):    \n",
    "            yco2_exp[time_exp[i]] = sol['FCO2'][i]\n",
    "            temp_mid_exp[time_exp[i]] = sol['temp_mid'][i]\n",
    "            temp_end_exp[time_exp[i]] = sol['temp_end'][i]\n",
    "\n",
    "        return yco2_exp, temp_mid_exp, temp_end_exp\n",
    "        "
   ]
  },
  {
   "cell_type": "markdown",
   "metadata": {},
   "source": [
    "### Define objective function"
   ]
  },
  {
   "cell_type": "code",
   "execution_count": 3,
   "metadata": {},
   "outputs": [],
   "source": [
    "def ObjRule(m, t_mid=False, t_end=False):\n",
    "    objfunc = 0\n",
    "    T=[]\n",
    "    for t in m.t:\n",
    "        T.append(value(t))\n",
    "        \n",
    "    #var_fco2 = 2.3697116742123714E-7\n",
    "    var_fco2 = 1.077255E-07\n",
    "    #var_midT = 9.1369\n",
    "    var_midT = 8.5945\n",
    "    #var_endT = 9.1284\n",
    "    var_endT = 8.5945\n",
    "    \n",
    "    #objfunc += sum((m.FCO2['base',19,t]/m.FCO2['base',19,T[-1]] - m.yCO2[t]/m.yCO2[T[-1]])**2 for t in m.t) \n",
    "    #objfunc +=  sum(((m.FCO2['base',19,t] - m.yCO2[t])**2)*1.0E5/2.3697116742123714 for t in m.t)\n",
    "    objfunc += sum(((m.FCO2['base',19,t] - m.yCO2[t])**2)*1.0E5/1.077255E-07 for t in m.t)\n",
    "    \n",
    "    if t_mid:\n",
    "    #    objfunc += sum((m.temp['base',10,t]/m.temp['base',10,T[-1]] - m.midT[t]/m.midT[T[-1]])**2 for t in m.t) \n",
    "        objfunc += sum(((m.temp['base',10,t] - m.midT[t])**2)*0.01/8.5945 for t in m.t)\n",
    "        \n",
    "    if t_end:\n",
    "    #    objfunc += sum((m.temp['base',19,t]/m.temp['base',19,T[-1]] - m.endT[t]/m.endT[T[-1]])**2 for t in m.t) \n",
    "        objfunc += sum(((m.temp['base',19,t] - m.endT[t])**2)*0.01/8.5945 for t in m.t)     \n",
    "        \n",
    "    return objfunc"
   ]
  },
  {
   "cell_type": "code",
   "execution_count": 4,
   "metadata": {},
   "outputs": [],
   "source": [
    "def add_obj(doe, NFEt, time_scale, file=None, source_opt=\"computer\", self_def=True):\n",
    "    '''Fit for self defined timepoints \n",
    "    '''\n",
    "    if (source_opt==\"computer\"):\n",
    "        exp_yco2, exp_temp_mid, exp_temp_end = load_data(data_name=file,no_time=NFEt, len_time=time_scale, source=\"computer\")\n",
    "        \n",
    "        doe.yCO2 = Param(doe.t, initialize=exp_yco2)\n",
    "        doe.midT = Param(doe.t, initialize=exp_temp_mid)\n",
    "        doe.endT = Param(doe.t, initialize=exp_temp_end)\n",
    "        doe.obj = Objective(rule=ObjRule, sense=minimize)\n",
    "        \n",
    "    elif (source_opt==\"lab\"):\n",
    "        exp_time_re, exp_yco2 = load_data(no_time=NFEt, len_time=time_scale, source=\"lab\", self_defined=self_def)\n",
    "        \n",
    "        doe.yCO2 = Param(doe.t, initialize=exp_yco2)\n",
    "        doe.obj = Objective(rule=ObjRule, sense=minimize)\n",
    "    \n",
    "    "
   ]
  },
  {
   "cell_type": "markdown",
   "metadata": {},
   "source": [
    "## Solve the model "
   ]
  },
  {
   "cell_type": "code",
   "execution_count": 5,
   "metadata": {},
   "outputs": [],
   "source": [
    "def add_model(doe, timepoints, time_start=0):\n",
    "    '''\n",
    "    add variables, equations and discretize the model time\n",
    "    Argument:\n",
    "        timepoints: the timesteps\n",
    "        time_start: where the timesteps start. For self defined timepoints it's 0. For experimental data it's -10.\n",
    "    '''\n",
    "    add_variables(doe, timesteps=timepoints, start=time_start)\n",
    "    \n",
    "    add_equations(doe)\n",
    "    \n",
    "    print ('the number of timepoints is', NFEt)\n",
    "    \n",
    "def discretize(doe, no_points=68):\n",
    "    '''\n",
    "    no_points: how many time invertals to divide. For self defined timepoints it's 69. For experimental data it's 68. \n",
    "    here it's 68\n",
    "    '''\n",
    "    if collo:\n",
    "        TransformationFactory('dae.collocation').apply_to(doe, nfe=no_points, ncp=3, scheme='LAGRANGE-RADAU', wrt=doe.t)\n",
    "    else:\n",
    "        TransformationFactory('dae.finite_difference').apply_to(doe, nfe=no_points, scheme='BACKWARD', wrt=doe.t)\n",
    "    \n",
    "    \n",
    "def initialize(doe, init_point):\n",
    "    '''\n",
    "    Argument: \n",
    "        init_point: initial point, csv file\n",
    "    '''\n",
    "    # Initialize \n",
    "    print('The init point is', init_point)    \n",
    "    store = pd.read_csv(init_point)\n",
    "    position_max = store['position'].max()\n",
    "    store['position'] = store['position'] / position_max\n",
    "\n",
    "    initial_bed_csv(doe, store)\n",
    "    fix_initial_bed(doe)\n",
    "    \n",
    "    \n",
    "def solve_model(doe):\n",
    "    # Define a solver\n",
    "    solver = custom_ipopt()\n",
    "    solver.options['tol'] = 1E-8\n",
    "    solver.options['max_iter'] = 3000\n",
    "    solver.options['halt_on_ampl_error'] = 'yes'\n",
    "    #solver.options['bound_push'] = 1E-2\n",
    "    \n",
    "    #solver.options['ma27_meminc_factor'] = 3\n",
    "    #if pert==1:\n",
    "    #    solver.options['output_file'] = 'outputT%.0fy%.0f.txt'%(T, y*100)\n",
    "    #else:\n",
    "    #    solver.options['output_file'] = 'output_upperT%.0fy%.0f.txt'%(T, y*100)\n",
    "    solver.options['print_level'] = 5\n",
    "    results = solver.solve(doe, tee=True, symbolic_solver_labels=True)\n",
    "    #doe.load(results)\n",
    "    #if (results.solver.status == SolverStatus.ok) and (results.solver.termination_condition == TerminationCondition.infeasible):\n",
    "    #    print('well converged')\n",
    "    #solver.solve(doe, tee=True)\n",
    "    return results"
   ]
  },
  {
   "cell_type": "code",
   "execution_count": 6,
   "metadata": {},
   "outputs": [],
   "source": [
    "def simulator(doe):\n",
    "    sim = Simulator(doe, package='casadi')\n",
    "    tsim, profiles = sim.simulate(numpoints=69, integrator='cvodes')"
   ]
  },
  {
   "cell_type": "markdown",
   "metadata": {},
   "source": [
    "### Continuous DoE problem"
   ]
  },
  {
   "cell_type": "code",
   "execution_count": null,
   "metadata": {},
   "outputs": [],
   "source": [
    "NFEt = 68\n",
    "time_scale = 3200\n",
    "collo = False\n",
    "exp_time = time_points(NFEt, time_scale)\n",
    "\n",
    "T_init = 313.15\n",
    "y_init = 0.15\n",
    "\n",
    "init_point = '20200729_energy.csv'"
   ]
  },
  {
   "cell_type": "code",
   "execution_count": null,
   "metadata": {},
   "outputs": [],
   "source": [
    "test = create_model(temp=T_init, temp_bath=313.15, y=y_init, para=212, ua=np.log(5.0E6), opt=True, conti=True, \n",
    "                    optimize_trace=True,diff=1, energy=True)\n",
    "add_model(test, exp_time)\n",
    "discretize(test, no_points=NFEt)\n",
    "initialize(test, init_point)\n",
    "result_ = solve_model(test)"
   ]
  },
  {
   "cell_type": "code",
   "execution_count": null,
   "metadata": {},
   "outputs": [],
   "source": [
    "print(value(test.temp_orig))\n",
    "print(value(test.yfeed['CO2']))\n",
    "print(value(test.obj))\n",
    "print(np.log10(-value(test.obj)))"
   ]
  },
  {
   "cell_type": "markdown",
   "metadata": {},
   "source": [
    "## Plot parmest result"
   ]
  },
  {
   "cell_type": "code",
   "execution_count": null,
   "metadata": {},
   "outputs": [],
   "source": [
    "k_trans = 250.0000015\n",
    "init_point = 'T313y15_double.csv'"
   ]
  },
  {
   "cell_type": "code",
   "execution_count": null,
   "metadata": {},
   "outputs": [],
   "source": [
    "test = create_model(293.15, 0.4, k_trans, 20000, opt=True, conti=False, diff=0, eps=epsilon, energy=False, isotherm = isotherm_opt, physsorb = physsorb_opt, chemsorb = chemsorb_opt, dispersion = dispersion_opt, fix_pres = fix_pres_opt, v_fix = v_fix_opt)\n",
    "add_model(test)\n",
    "solve_model(test, init_point)"
   ]
  },
  {
   "cell_type": "code",
   "execution_count": null,
   "metadata": {},
   "outputs": [],
   "source": [
    "o29340 = pd.read_csv('293_40_exp.csv')\n",
    "\n",
    "plt.scatter(o29340.time, o29340.FCO2, label='experimental value')\n",
    "\n",
    "\n",
    "breakthrough_modify3(test,exp)"
   ]
  },
  {
   "cell_type": "markdown",
   "metadata": {},
   "source": [
    "### Four corner analysis"
   ]
  },
  {
   "cell_type": "code",
   "execution_count": null,
   "metadata": {},
   "outputs": [],
   "source": [
    "tr_range = [106,212,318]\n",
    "comp_range = [[293.15, 0.1], [293.15, 0.4], [373.15, 0.1], [373.15, 0.4]]\n",
    "init_point = '20200729_energy.csv'\n",
    "\n",
    "for i in tr_range:\n",
    "    for j in comp_range:\n",
    "        print('solve the model where tr is', i,'dv are', j)\n",
    "        test = create_model(temp=j[0], temp_bath=313.15, y=j[1], para=i, ua=np.log(5.0E6), opt=True, conti=False, diff=0, eps=epsilon, energy=True)\n",
    "        add_model(test, exp_time)\n",
    "        #add_obj(test)def extract3(m,result):\n",
    "        discretize(test, no_points=68)\n",
    "        initialize(test, init_point)\n",
    "        results = solve_model(test)\n",
    "        dataframe = extract3(test, results)\n",
    "        dataframe.to_csv('T%.0fy%.0f_%.0f.csv'%(j[0], j[1]*100, i))\n",
    "        "
   ]
  },
  {
   "cell_type": "markdown",
   "metadata": {},
   "source": [
    "## Square problem"
   ]
  },
  {
   "cell_type": "code",
   "execution_count": 14,
   "metadata": {},
   "outputs": [
    {
     "name": "stdout",
     "output_type": "stream",
     "text": [
      "[0, 47.05882352941177, 94.11764705882354, 141.1764705882353, 188.23529411764707, 235.29411764705884, 282.3529411764706, 329.4117647058824, 376.47058823529414, 423.5294117647059, 470.5882352941177, 517.6470588235295, 564.7058823529412, 611.7647058823529, 658.8235294117646, 705.8823529411764, 752.9411764705881, 799.9999999999998, 847.0588235294115, 894.1176470588232, 941.1764705882349, 988.2352941176466, 1035.2941176470583, 1082.35294117647, 1129.4117647058818, 1176.4705882352935, 1223.5294117647052, 1270.5882352941169, 1317.6470588235286, 1364.7058823529403, 1411.764705882352, 1458.8235294117637, 1505.8823529411754, 1552.9411764705872, 1599.9999999999989, 1647.0588235294106, 1694.1176470588223, 1741.176470588234, 1788.2352941176457, 1835.2941176470574, 1882.3529411764691, 1929.4117647058808, 1976.4705882352926, 2023.5294117647043, 2070.588235294116, 2117.647058823528, 2164.7058823529396, 2211.7647058823513, 2258.823529411763, 2305.8823529411748, 2352.9411764705865, 2399.999999999998, 2447.05882352941, 2494.1176470588216, 2541.1764705882333, 2588.235294117645, 2635.2941176470567, 2682.3529411764684, 2729.41176470588, 2776.470588235292, 2823.5294117647036, 2870.5882352941153, 2917.647058823527, 2964.7058823529387, 3011.7647058823504, 3058.823529411762, 3105.882352941174, 3152.9411764705856, 3199.9999999999973]\n"
     ]
    }
   ],
   "source": [
    "NFEt = 68\n",
    "time_scale = 3200\n",
    "collo = False\n",
    "exp_time = time_points(NFEt, time_scale)\n",
    "print(exp_time)\n",
    "\n",
    "tr_range = [212]\n",
    "ua_range = [np.log(5.0E6)]\n",
    "init_point = '/Users/wangjialu/dowlinglab/sorption-fixed-bed/20200729_energy.csv'\n",
    "#init_point = '353_20_5e3_bothT_of2.csv'\n",
    "#init_point = 'init_test.csv'\n",
    "#init_point = 'T353y20_5e3.csv'"
   ]
  },
  {
   "cell_type": "code",
   "execution_count": 10,
   "metadata": {
    "scrolled": true
   },
   "outputs": [
    {
     "name": "stdout",
     "output_type": "stream",
     "text": [
      "solve the model where tr is 212 ua is 15.424948470398375\n",
      "The inlet gas temperature is  313.15\n",
      "The inlet feed density is 38.40726649935368 [mol/m3]\n",
      "the number of timepoints is 68\n",
      "The init point is /Users/wangjialu/dowlinglab/sorption-fixed-bed/20200729_energy.csv\n",
      "Model # of time grid is 69 , initial point # of time grid is 69\n",
      "wangjialudeMacBook-Pro.local\n",
      "Loading custom Ipopt...\n",
      "Ipopt 3.13.3: linear_solver=ma57\n",
      "tol=1e-08\n",
      "max_iter=3000\n",
      "halt_on_ampl_error=yes\n",
      "print_level=5\n",
      "\n",
      "\n",
      "******************************************************************************\n",
      "This program contains Ipopt, a library for large-scale nonlinear optimization.\n",
      " Ipopt is released as open source code under the Eclipse Public License (EPL).\n",
      "         For more information visit https://github.com/coin-or/Ipopt\n",
      "******************************************************************************\n",
      "\n",
      "This is Ipopt version 3.13.3, running with linear solver ma57.\n",
      "\n",
      "Number of nonzeros in equality constraint Jacobian...:    93745\n",
      "Number of nonzeros in inequality constraint Jacobian.:        0\n",
      "Number of nonzeros in Lagrangian Hessian.............:    51003\n",
      "\n",
      "Total number of variables............................:    23360\n",
      "                     variables with only lower bounds:        0\n",
      "                variables with lower and upper bounds:    16460\n",
      "                     variables with only upper bounds:        0\n",
      "Total number of equality constraints.................:    23360\n",
      "Total number of inequality constraints...............:        0\n",
      "        inequality constraints with only lower bounds:        0\n",
      "   inequality constraints with lower and upper bounds:        0\n",
      "        inequality constraints with only upper bounds:        0\n",
      "\n",
      "iter    objective    inf_pr   inf_du lg(mu)  ||d||  lg(rg) alpha_du alpha_pr  ls\n",
      "   0  0.0000000e+00 2.54e+00 0.00e+00  -1.0 0.00e+00    -  0.00e+00 0.00e+00   0\n",
      "Reallocating memory for MA57: lfact (15843376)\n",
      "Reallocating memory for MA57: lfact (17855952)\n",
      "   1  0.0000000e+00 2.40e+00 2.32e+01  -1.0 1.34e+00    -  8.55e-01 5.24e-02h  1\n",
      "   2  0.0000000e+00 2.40e+00 1.75e+04  -1.0 1.27e+00    -  4.87e-01 7.04e-04h  1\n",
      "   3r 0.0000000e+00 2.40e+00 1.00e+03   0.1 0.00e+00    -  0.00e+00 4.41e-07R  5\n",
      "   4r 0.0000000e+00 7.30e-01 1.00e+03   0.1 7.00e+02    -  2.21e-03 1.34e-03f  1\n",
      "   5r 0.0000000e+00 5.93e-01 9.96e+02   0.1 1.68e+02    -  1.30e-03 2.41e-03f  1\n",
      "   6r 0.0000000e+00 3.97e-01 9.94e+02   0.1 6.63e+01    -  1.77e-03 4.67e-03f  1\n",
      "   7r 0.0000000e+00 3.30e-01 9.91e+02   0.1 5.22e+01    -  2.63e-03 4.41e-03f  1\n",
      "   8r 0.0000000e+00 3.03e-01 1.02e+03   0.1 6.09e+01    -  1.97e-03 4.76e-03f  1\n",
      "   9r 0.0000000e+00 2.93e-01 1.03e+03   0.1 3.27e+01    -  3.68e-03 4.75e-03f  1\n",
      "iter    objective    inf_pr   inf_du lg(mu)  ||d||  lg(rg) alpha_du alpha_pr  ls\n",
      "  10r 0.0000000e+00 2.86e-01 1.05e+03   0.1 3.18e+01    -  3.44e-03 5.37e-03f  1\n",
      "  11r 0.0000000e+00 2.76e-01 1.07e+03   0.1 2.90e+01    -  4.03e-03 5.59e-03f  1\n",
      "  12r 0.0000000e+00 2.58e-01 1.09e+03   0.1 2.74e+01    -  4.35e-03 5.83e-03f  1\n",
      "  13r 0.0000000e+00 2.21e-01 1.10e+03   0.1 2.62e+01    -  4.66e-03 6.01e-03f  1\n",
      "  14r 0.0000000e+00 1.28e-01 1.11e+03   0.1 2.49e+01    -  4.96e-03 6.19e-03f  1\n",
      "  15r 0.0000000e+00 1.20e-01 1.09e+03   0.1 1.87e+01    -  1.30e-02 6.38e-03f  1\n",
      "  16r 0.0000000e+00 9.37e-02 8.99e+02   0.1 3.44e+00    -  2.12e-01 2.28e-02f  1\n",
      "  17r 0.0000000e+00 9.33e+00 7.79e+02   0.1 3.14e+00    -  2.26e-01 2.62e-01f  1\n",
      "  18r 0.0000000e+00 2.77e+00 5.90e+02   0.1 2.04e+00    -  3.20e-01 2.33e-01f  1\n",
      "  19r 0.0000000e+00 1.53e+00 3.65e+02   0.1 1.70e+00    -  3.82e-01 3.00e-01f  1\n",
      "iter    objective    inf_pr   inf_du lg(mu)  ||d||  lg(rg) alpha_du alpha_pr  ls\n",
      "  20r 0.0000000e+00 1.05e+01 2.68e+03   0.1 1.58e+00    -  3.94e-01 1.00e+00f  1\n",
      "  21r 0.0000000e+00 4.25e+00 1.03e+03   0.1 5.41e-01   2.0 8.29e-01 8.62e-01f  1\n",
      "  22r 0.0000000e+00 3.56e+00 1.09e+03   0.1 5.38e-01   2.4 1.00e+00 1.55e-01f  1\n",
      "  23r 0.0000000e+00 1.73e+00 1.12e+03   0.1 6.50e-01   1.9 7.36e-01 3.57e-01f  1\n",
      "  24r 0.0000000e+00 1.47e+01 6.53e+05   0.1 3.37e+00    -  2.93e-02 4.53e-01f  1\n",
      "  25r 0.0000000e+00 1.32e+01 5.87e+05   0.1 7.28e-01   4.2 1.10e-01 1.07e-01f  1\n",
      "  26r 0.0000000e+00 9.75e+00 4.38e+05   0.1 7.72e-01   3.7 5.10e-02 2.78e-01h  1\n",
      "  27r 0.0000000e+00 8.00e+00 3.63e+05   0.1 3.32e-01   4.1 1.92e-01 1.92e-01h  1\n",
      "  28r 0.0000000e+00 6.87e+00 3.12e+05   0.1 9.20e-01   3.7 1.31e-01 1.47e-01h  1\n",
      "  29r 0.0000000e+00 5.61e+00 2.59e+05   0.1 2.91e-01   4.1 1.97e-01 1.95e-01h  1\n",
      "iter    objective    inf_pr   inf_du lg(mu)  ||d||  lg(rg) alpha_du alpha_pr  ls\n",
      "  30r 0.0000000e+00 5.43e+00 2.51e+05   0.1 3.00e+01   3.6 8.48e-03 3.32e-02h  1\n",
      "  31r 0.0000000e+00 2.42e+00 1.30e+05   0.1 3.06e-01   4.0 7.28e-02 6.96e-01h  1\n",
      "  32r 0.0000000e+00 1.97e+00 9.98e+04   0.1 3.25e-01   4.5 4.63e-02 1.96e-01h  1\n",
      "  33r 0.0000000e+00 7.13e-01 4.23e+04   0.1 2.52e-01   4.0 1.69e-01 7.71e-01h  1\n",
      "  34r 0.0000000e+00 5.87e-01 3.49e+04   0.1 2.15e-01   3.5 8.75e-01 1.79e-01f  1\n",
      "  35r 0.0000000e+00 5.14e-01 3.07e+04   0.1 5.90e-01   3.0 1.00e+00 1.12e-01f  1\n",
      "  36r 0.0000000e+00 3.72e-01 2.26e+04   0.1 2.04e-01   3.4 1.00e+00 2.79e-01f  1\n",
      "  37r 0.0000000e+00 2.95e-01 1.82e+04   0.1 5.39e-01   3.0 1.00e+00 1.96e-01f  1\n",
      "  38r 0.0000000e+00 1.02e-01 8.68e+03   0.1 1.97e-01   3.4 1.00e+00 6.69e-01f  1\n",
      "  39r 0.0000000e+00 1.03e-01 1.64e+03   0.1 4.20e-02   2.9 1.00e+00 1.00e+00f  1\n",
      "iter    objective    inf_pr   inf_du lg(mu)  ||d||  lg(rg) alpha_du alpha_pr  ls\n",
      "  40r 0.0000000e+00 5.50e-02 1.28e+02   0.1 5.39e-02   2.4 1.00e+00 1.00e+00f  1\n",
      "  41r 0.0000000e+00 1.12e-02 2.10e+01   0.1 1.43e-01   2.0 1.00e+00 1.00e+00f  1\n",
      "  42r 0.0000000e+00 9.19e-03 1.78e+02  -0.6 4.05e-01   1.5 9.20e-01 4.73e-01f  1\n",
      "  43r 0.0000000e+00 3.41e-02 5.37e+02  -0.6 6.82e-01   1.0 1.00e+00 2.94e-01f  1\n",
      "  44r 0.0000000e+00 2.75e-01 1.02e+03  -0.6 7.01e+00    -  7.16e-01 7.93e-02f  1\n",
      "  45r 0.0000000e+00 1.22e+00 3.62e+02  -0.6 1.91e+00    -  1.00e+00 5.72e-01f  1\n",
      "  46r 0.0000000e+00 9.03e-01 2.89e+02  -0.6 5.93e-01    -  1.00e+00 9.48e-01f  1\n",
      "  47r 0.0000000e+00 5.26e-01 3.83e+02  -0.6 2.06e-01    -  9.28e-01 1.00e+00f  1\n",
      "  48r 0.0000000e+00 3.79e-02 4.32e+02  -0.6 7.08e-02   2.3 1.00e+00 1.00e+00f  1\n",
      "  49r 0.0000000e+00 9.75e-03 2.01e+02  -0.6 8.60e-02   1.9 1.00e+00 1.00e+00f  1\n",
      "iter    objective    inf_pr   inf_du lg(mu)  ||d||  lg(rg) alpha_du alpha_pr  ls\n",
      "  50r 0.0000000e+00 2.79e-02 2.32e+01  -0.6 4.50e-01    -  1.00e+00 9.99e-01f  1\n",
      "  51r 0.0000000e+00 9.64e-03 1.01e+00  -0.6 1.89e-01    -  1.00e+00 1.00e+00f  1\n",
      "  52r 0.0000000e+00 6.74e-01 1.75e+02  -2.0 1.40e+00    -  8.92e-01 2.85e-01f  1\n",
      "  53r 0.0000000e+00 6.44e-01 1.42e+02  -2.0 7.04e-01    -  9.75e-01 4.83e-01f  1\n",
      "  54r 0.0000000e+00 7.64e-01 1.58e+02  -2.0 8.22e-01    -  7.94e-01 3.80e-01f  1\n",
      "  55r 0.0000000e+00 7.36e-01 1.53e+02  -2.0 5.92e-01    -  1.00e+00 5.59e-01f  1\n",
      "  56r 0.0000000e+00 5.86e-01 8.28e+01  -2.0 5.01e-01    -  4.65e-01 4.60e-01f  1\n",
      "  57r 0.0000000e+00 4.33e-01 1.00e+02  -2.0 4.38e-01    -  2.48e-01 3.71e-01f  1\n",
      "  58r 0.0000000e+00 3.54e-01 1.41e+02  -2.0 4.23e-01    -  8.40e-01 3.19e-01f  1\n",
      "  59r 0.0000000e+00 2.99e-01 8.35e+01  -2.0 3.86e-01    -  1.33e-01 2.35e-01f  1\n",
      "iter    objective    inf_pr   inf_du lg(mu)  ||d||  lg(rg) alpha_du alpha_pr  ls\n",
      "  60r 0.0000000e+00 2.59e-01 6.86e+01  -2.0 3.50e-01    -  1.68e-01 1.75e-01f  1\n",
      "  61r 0.0000000e+00 2.27e-01 1.26e+02  -2.0 3.27e-01    -  1.00e+00 7.07e-01f  1\n",
      "  62r 0.0000000e+00 1.95e-01 1.12e+02  -2.0 2.69e-01    -  1.76e-01 1.63e-01f  1\n",
      "  63r 0.0000000e+00 1.67e-01 9.48e+01  -2.0 2.63e-01    -  1.57e-01 1.63e-01f  1\n",
      "  64r 0.0000000e+00 1.35e-01 5.52e+01  -2.0 2.54e-01    -  5.34e-01 4.95e-01f  1\n",
      "  65r 0.0000000e+00 1.28e-01 5.81e+01  -2.0 3.64e-01    -  6.73e-02 5.61e-02f  1\n",
      "  66r 0.0000000e+00 1.03e-01 9.01e+01  -2.0 2.28e-01    -  2.68e-01 3.95e-01f  1\n",
      "  67r 0.0000000e+00 8.70e-02 7.98e+01  -2.0 1.94e-01    -  3.11e-01 2.09e-01f  1\n",
      "  68r 0.0000000e+00 6.26e-02 1.43e+02  -2.0 2.66e-02   2.3 1.97e-01 2.80e-01f  1\n",
      "  69r 0.0000000e+00 2.70e-02 2.87e+02  -2.0 4.22e-02   1.8 3.22e-01 5.68e-01f  1\n",
      "iter    objective    inf_pr   inf_du lg(mu)  ||d||  lg(rg) alpha_du alpha_pr  ls\n",
      "  70r 0.0000000e+00 1.79e-02 2.36e+02  -2.0 9.02e-02   1.3 5.72e-01 3.43e-01f  1\n",
      "  71r 0.0000000e+00 1.65e-02 2.94e+02  -2.0 2.94e-01   0.9 1.32e-01 8.23e-02f  1\n",
      "  72r 0.0000000e+00 1.64e-02 2.94e+02  -2.0 1.35e+01   0.4 1.37e-03 1.93e-03f  1\n",
      "  73r 0.0000000e+00 1.75e-02 2.83e+02  -2.0 1.23e+00    -  3.41e-02 3.00e-02f  1\n",
      "  74r 0.0000000e+00 1.76e-02 2.78e+02  -2.0 2.83e+00    -  2.17e-02 8.60e-03f  1\n",
      "  75r 0.0000000e+00 3.59e-02 4.10e+02  -2.0 4.68e-01    -  2.85e-01 1.82e-01f  1\n",
      "  76r 0.0000000e+00 3.54e-02 3.68e+02  -2.0 2.77e-01    -  1.07e-01 1.25e-01f  1\n",
      "  77r 0.0000000e+00 3.49e-02 3.63e+02  -2.0 1.30e+00    -  2.08e-02 2.68e-02f  1\n",
      "  78r 0.0000000e+00 3.47e-02 5.40e+02  -2.0 2.89e-01    -  9.25e-02 1.60e-01f  1\n",
      "  79r 0.0000000e+00 3.32e-02 4.85e+02  -2.0 2.32e-01    -  1.68e-01 1.24e-01f  1\n",
      "iter    objective    inf_pr   inf_du lg(mu)  ||d||  lg(rg) alpha_du alpha_pr  ls\n",
      "  80r 0.0000000e+00 3.26e-02 4.77e+02  -2.0 1.54e+00  -0.1 2.39e-02 1.89e-02f  1\n",
      "  81r 0.0000000e+00 3.21e-02 4.60e+02  -2.0 1.25e+00    -  2.61e-02 3.23e-02f  1\n",
      "  82r 0.0000000e+00 2.96e-02 3.83e+02  -2.0 1.85e-01    -  1.74e-01 1.70e-01f  1\n",
      "  83r 0.0000000e+00 2.94e-02 3.79e+02  -2.0 3.29e+00    -  1.31e-02 1.23e-02f  1\n",
      "  84r 0.0000000e+00 2.42e-02 3.28e+02  -2.0 1.83e-01   0.3 2.98e-01 2.06e-01f  1\n",
      "  85r 0.0000000e+00 2.73e-02 2.56e+02  -2.0 2.17e-01    -  2.47e-01 2.32e-01f  1\n",
      "  86r 0.0000000e+00 1.22e-02 1.66e+02  -2.0 6.25e-02   0.8 8.42e-01 6.24e-01f  1\n",
      "  87r 0.0000000e+00 2.18e-02 1.40e+02  -2.0 4.39e-01    -  2.12e-01 1.69e-01f  1\n",
      "  88r 0.0000000e+00 2.48e-02 1.19e+02  -2.0 2.94e-01    -  1.82e-01 1.56e-01f  1\n",
      "  89r 0.0000000e+00 2.46e-02 1.26e+02  -2.0 1.80e-01    -  2.81e-01 2.38e-01f  1\n",
      "iter    objective    inf_pr   inf_du lg(mu)  ||d||  lg(rg) alpha_du alpha_pr  ls\n",
      "  90r 0.0000000e+00 1.88e-02 1.58e+01  -2.0 7.80e-02    -  1.00e+00 1.00e+00f  1\n",
      "  91r 0.0000000e+00 2.52e-04 3.28e+00  -2.0 1.32e-02    -  1.00e+00 1.00e+00h  1\n",
      "  92r 0.0000000e+00 2.58e-04 2.48e-02  -2.0 5.37e-04    -  1.00e+00 1.00e+00h  1\n",
      "  93r 0.0000000e+00 1.98e-02 2.83e+02  -4.5 2.91e-01    -  9.72e-01 2.86e-01f  1\n",
      "  94r 0.0000000e+00 1.81e-02 4.17e+02  -4.5 1.24e-01    -  1.00e+00 2.93e-01f  1\n",
      "  95r 0.0000000e+00 1.17e-02 3.67e+02  -4.5 4.82e-02    -  1.00e+00 4.38e-01f  1\n",
      "  96r 0.0000000e+00 5.12e-03 2.15e+02  -4.5 1.60e-02    -  9.27e-01 5.91e-01f  1\n",
      "  97r 0.0000000e+00 2.73e-03 1.38e+02  -4.5 4.88e-03    -  7.06e-01 4.72e-01f  1\n",
      "  98r 0.0000000e+00 1.39e-03 1.73e+02  -4.5 2.52e-03    -  7.24e-01 4.92e-01f  1\n",
      "  99r 0.0000000e+00 5.09e-04 1.04e+02  -4.5 1.26e-03    -  8.02e-01 6.37e-01f  1\n",
      "iter    objective    inf_pr   inf_du lg(mu)  ||d||  lg(rg) alpha_du alpha_pr  ls\n",
      " 100r 0.0000000e+00 7.22e-05 2.90e+01  -4.5 4.56e-04    -  9.08e-01 8.59e-01f  1\n",
      " 101r 0.0000000e+00 5.56e-08 2.51e-04  -4.5 6.37e-05    -  1.00e+00 1.00e+00f  1\n",
      " 102r 0.0000000e+00 1.35e-08 5.56e+01  -6.7 5.73e-06    -  1.00e+00 7.47e-01f  1\n",
      " 103r 0.0000000e+00 4.08e-09 9.44e+01  -6.7 1.00e-06    -  9.01e-01 6.60e-01f  1\n"
     ]
    },
    {
     "name": "stdout",
     "output_type": "stream",
     "text": [
      "\n",
      "Number of Iterations....: 103\n",
      "\n",
      "                                   (scaled)                 (unscaled)\n",
      "Objective...............:   0.0000000000000000e+00    0.0000000000000000e+00\n",
      "Dual infeasibility......:   0.0000000000000000e+00    0.0000000000000000e+00\n",
      "Constraint violation....:   4.0844943192415999e-09    4.0844943192415999e-09\n",
      "Complementarity.........:   0.0000000000000000e+00    0.0000000000000000e+00\n",
      "Overall NLP error.......:   4.0844943192415999e-09    4.0844943192415999e-09\n",
      "\n",
      "\n",
      "Number of objective function evaluations             = 109\n",
      "Number of objective gradient evaluations             = 5\n",
      "Number of equality constraint evaluations            = 109\n",
      "Number of inequality constraint evaluations          = 0\n",
      "Number of equality constraint Jacobian evaluations   = 105\n",
      "Number of inequality constraint Jacobian evaluations = 0\n",
      "Number of Lagrangian Hessian evaluations             = 103\n",
      "Total CPU secs in IPOPT (w/o function evaluations)   =     46.722\n",
      "Total CPU secs in NLP function evaluations           =      5.515\n",
      "\n",
      "EXIT: Optimal Solution Found.\n"
     ]
    }
   ],
   "source": [
    "for i in tr_range:\n",
    "    for j in ua_range:\n",
    "        print('solve the model where tr is', i,'ua is', j)\n",
    "        test = create_model(temp=313.15, temp_bath=313.15, y=0.15, para=i, ua=j, opt=True, conti=False, diff=0, energy=True)\n",
    "        add_model(test, exp_time)\n",
    "        #add_obj(test, NFEt, time_scale, file='353_20_5e3_exp.csv', source_opt=\"computer\")\n",
    "        #fix_initial_bed(test)\n",
    "        #initial_sim(test)\n",
    "        #simulator(test)\n",
    "        discretize(test, no_points=NFEt)\n",
    "        initialize(test, init_point)\n",
    "        result_ = solve_model(test)\n",
    "\n",
    "        "
   ]
  },
  {
   "cell_type": "code",
   "execution_count": 12,
   "metadata": {},
   "outputs": [
    {
     "name": "stdout",
     "output_type": "stream",
     "text": [
      "ERROR: evaluating object as numeric value: t\n",
      "        (object: <class 'pyomo.dae.contset.ContinuousSet'>)\n",
      "    'ContinuousSet' object is not callable\n"
     ]
    },
    {
     "ename": "TypeError",
     "evalue": "'ContinuousSet' object is not callable",
     "output_type": "error",
     "traceback": [
      "\u001b[0;31m---------------------------------------------------------------------------\u001b[0m",
      "\u001b[0;31mTypeError\u001b[0m                                 Traceback (most recent call last)",
      "\u001b[0;32m/var/folders/cn/dbk7vfw51_g_gb8jqhz4j3ph0000gn/T/ipykernel_42483/3391102598.py\u001b[0m in \u001b[0;36m<module>\u001b[0;34m\u001b[0m\n\u001b[1;32m      1\u001b[0m \u001b[0mti\u001b[0m \u001b[0;34m=\u001b[0m\u001b[0;34m[\u001b[0m\u001b[0;34m]\u001b[0m\u001b[0;34m\u001b[0m\u001b[0;34m\u001b[0m\u001b[0m\n\u001b[1;32m      2\u001b[0m \u001b[0;32mfor\u001b[0m \u001b[0mt\u001b[0m \u001b[0;32min\u001b[0m \u001b[0mtest\u001b[0m\u001b[0;34m.\u001b[0m\u001b[0mt\u001b[0m\u001b[0;34m:\u001b[0m\u001b[0;34m\u001b[0m\u001b[0;34m\u001b[0m\u001b[0m\n\u001b[0;32m----> 3\u001b[0;31m     \u001b[0mti\u001b[0m\u001b[0;34m.\u001b[0m\u001b[0mappend\u001b[0m\u001b[0;34m(\u001b[0m\u001b[0mvalue\u001b[0m\u001b[0;34m(\u001b[0m\u001b[0mtest\u001b[0m\u001b[0;34m.\u001b[0m\u001b[0mt\u001b[0m\u001b[0;34m)\u001b[0m\u001b[0;34m)\u001b[0m\u001b[0;34m\u001b[0m\u001b[0;34m\u001b[0m\u001b[0m\n\u001b[0m\u001b[1;32m      4\u001b[0m \u001b[0mprint\u001b[0m\u001b[0;34m(\u001b[0m\u001b[0mti\u001b[0m\u001b[0;34m)\u001b[0m\u001b[0;34m\u001b[0m\u001b[0;34m\u001b[0m\u001b[0m\n",
      "\u001b[0;32mpyomo/core/expr/numvalue.pyx\u001b[0m in \u001b[0;36mpyomo.core.expr.numvalue.value\u001b[0;34m()\u001b[0m\n",
      "\u001b[0;32mpyomo/core/expr/numvalue.pyx\u001b[0m in \u001b[0;36mpyomo.core.expr.numvalue.value\u001b[0;34m()\u001b[0m\n",
      "\u001b[0;31mTypeError\u001b[0m: 'ContinuousSet' object is not callable"
     ]
    }
   ],
   "source": [
    "ti =[]\n",
    "for t in test.t:\n",
    "    ti.append(value(test.t))\n",
    "print(ti)"
   ]
  },
  {
   "cell_type": "code",
   "execution_count": null,
   "metadata": {},
   "outputs": [],
   "source": [
    "add_obj(test, NFEt, time_scale, file='333_40_5e3_exp.csv', source_opt=\"computer\")"
   ]
  },
  {
   "cell_type": "code",
   "execution_count": null,
   "metadata": {},
   "outputs": [],
   "source": [
    "T=[]\n",
    "fco2_model=[]\n",
    "fco2_exp=[]\n",
    "temp_mid_model=[]\n",
    "temp_mid_exp = []\n",
    "temp_end_model=[]\n",
    "temp_end_exp=[]\n",
    "for t in test.t:\n",
    "    T.append(value(t))\n",
    "    \n",
    "for i in T:    \n",
    "    fco2_model.append(value(test.FCO2['base',19,i])/value(test.FCO2['base',19,T[-1]]))\n",
    "    fco2_exp.append(test.yCO2[i]/test.yCO2[T[-1]])\n",
    "    temp_mid_model.append(value(test.temp['base',10,i])/value(test.temp['base',10,T[-1]]) )\n",
    "    temp_mid_exp.append(test.midT[i]/test.midT[T[-1]])\n",
    "    temp_end_model.append(value(test.temp['base',19,i])/value(test.temp['base',19,T[-1]]))\n",
    "    temp_end_exp.append(test.endT[i]/test.endT[T[-1]])\n",
    "    \n",
    "x =  sum((value(test.FCO2['base',19,t])/value(test.FCO2['base',19,T[-1]]) - test.yCO2[t]/test.yCO2[T[-1]])**2 for t in test.t)\n",
    "\n",
    "x2 =  sum((value(test.temp['base',10,t])/value(test.temp['base',10,T[-1]]) - test.midT[t]/test.midT[T[-1]])**2 for t in test.t)\n",
    "\n",
    "x3 =  sum((value(test.temp['base',19,t])/value(test.temp['base',19,T[-1]]) - test.endT[t]/test.endT[T[-1]])**2 for t in test.t)\n",
    "\n",
    "print(x)\n",
    "print(x2)\n",
    "print(x3)"
   ]
  },
  {
   "cell_type": "code",
   "execution_count": null,
   "metadata": {},
   "outputs": [],
   "source": [
    "x =  sum(((value(test.FCO2['base',19,t]) - test.yCO2[t])**2)/2.3697116742123714E-07 for t in test.t)\n",
    "\n",
    "x2 =  sum(((value(test.temp['base',10,t]) - test.midT[t])**2)/9.1369 for t in test.t)\n",
    "\n",
    "x3 =  sum(((value(test.temp['base',19,t]) - test.endT[t])**2)/9.1284 for t in test.t)\n",
    "\n",
    "print(x)\n",
    "print(x2)\n",
    "print(x3)"
   ]
  },
  {
   "cell_type": "code",
   "execution_count": null,
   "metadata": {},
   "outputs": [],
   "source": [
    "plt.plot(T, fco2_model)\n",
    "plt.plot(T, fco2_exp)\n",
    "plt.show()\n",
    "\n",
    "plt.plot(T, temp_mid_model)\n",
    "plt.plot(T, temp_mid_exp)\n",
    "plt.show()\n",
    "\n",
    "plt.plot(T, temp_end_model)\n",
    "plt.plot(T, temp_end_exp)\n",
    "plt.show()"
   ]
  },
  {
   "cell_type": "code",
   "execution_count": null,
   "metadata": {},
   "outputs": [],
   "source": [
    "large_residuals_set(test, 1)"
   ]
  },
  {
   "cell_type": "code",
   "execution_count": null,
   "metadata": {},
   "outputs": [],
   "source": [
    "breakthrough_modify2(test,source=\"lab\")"
   ]
  },
  {
   "cell_type": "code",
   "execution_count": null,
   "metadata": {},
   "outputs": [],
   "source": [
    "dataframe = extract3(test,result_)\n",
    "dataframe.to_csv('353_293_5e3_updatedm.csv')"
   ]
  },
  {
   "cell_type": "code",
   "execution_count": null,
   "metadata": {},
   "outputs": [],
   "source": [
    "data_list = pd.read_csv('353_293_5e3_updatedm.csv')"
   ]
  },
  {
   "cell_type": "code",
   "execution_count": null,
   "metadata": {},
   "outputs": [],
   "source": [
    "makeplot_csv2(data_list, temp_show=True)"
   ]
  },
  {
   "cell_type": "code",
   "execution_count": null,
   "metadata": {},
   "outputs": [],
   "source": [
    "data_base = pd.read_csv('/Users/wangjialu/Desktop/comps-result/crcresults_0914_2/T293y15_base.csv')\n",
    "makeplot_csv2(data_base, temp_show=True)"
   ]
  },
  {
   "cell_type": "code",
   "execution_count": null,
   "metadata": {},
   "outputs": [],
   "source": [
    "print(value(test.obj))"
   ]
  },
  {
   "cell_type": "code",
   "execution_count": null,
   "metadata": {},
   "outputs": [],
   "source": [
    "for t in test.t:\n",
    "    print(test.FCO2[t])\n",
    "    print(value(test.C['base', 'CO2', Ngrid-1, t]*test.v['base', Ngrid-1, t]*3.1415926*rbed*rbed*600))\n",
    "    #print((value(test.C['base', 'CO2', Ngrid-1, t]*test.v['base', Ngrid-1, t]*3.1415926*rbed*rbed*600 - test.FCO2[t])**2))"
   ]
  },
  {
   "cell_type": "code",
   "execution_count": null,
   "metadata": {},
   "outputs": [],
   "source": [
    "for i,time in enumerate(test.t):\n",
    "    for z in test.zgrid:\n",
    "        print(value(test.FCO2['forward_k',z, time]))"
   ]
  },
  {
   "cell_type": "code",
   "execution_count": null,
   "metadata": {},
   "outputs": [],
   "source": [
    "data_2 = pd.read_csv('/Users/a/Desktop/crcresults_0916_4/373_40_212.csv')"
   ]
  },
  {
   "cell_type": "markdown",
   "metadata": {},
   "source": []
  },
  {
   "cell_type": "markdown",
   "metadata": {},
   "source": [
    "### Computer experiment "
   ]
  },
  {
   "cell_type": "code",
   "execution_count": null,
   "metadata": {},
   "outputs": [],
   "source": [
    "def ext_time(total, node):\n",
    "    '''\n",
    "    Extract the time nodes\n",
    "    Argument:\n",
    "        total: a pandas dataframe of solutions\n",
    "        node: the number of timesteps\n",
    "    return: a list\n",
    "    '''\n",
    "    t_py = total['pressure']\n",
    "    time_p = t_py.index.to_list()[:node]\n",
    "    return time_p"
   ]
  },
  {
   "cell_type": "code",
   "execution_count": null,
   "metadata": {},
   "outputs": [],
   "source": [
    "def computer_exp(name, timepoints):\n",
    "    sol = pd.read_csv(name, index_col=1)\n",
    "    FCO2 = ext_pres(sol, 'fco2', timepoints)[19]\n",
    "    temp_base = ext_pres(sol, 'temp', timepoints)\n",
    "    temp_mid = temp_base[10]\n",
    "    temp_end = temp_base[19] \n",
    "    time = ext_time(sol,timepoints)\n",
    "    #np.random.normal(mean=0,log=0.05*)\n",
    "    \n",
    "    return FCO2, temp_mid, temp_end, time"
   ]
  },
  {
   "cell_type": "code",
   "execution_count": null,
   "metadata": {},
   "outputs": [],
   "source": [
    "FCO2_1, temp_mid_1, temp_end_1, time_in = computer_exp('T333y40_5e3.csv', 103)"
   ]
  },
  {
   "cell_type": "code",
   "execution_count": null,
   "metadata": {},
   "outputs": [],
   "source": [
    "FCO2_1_noisy = FCO2_1 + np.random.normal(0, 0.01*np.mean(FCO2_1), size=len(FCO2_1))\n",
    "#print(FCO2_1)\n",
    "\n",
    "temp_mid_1_noisy = temp_mid_1 + np.random.normal(0, 0.01*np.mean(temp_mid_1), size=len(temp_mid_1))\n",
    "temp_end_1_noisy = temp_end_1 + np.random.normal(0, 0.01*np.mean(temp_end_1), size=len(temp_end_1))"
   ]
  },
  {
   "cell_type": "code",
   "execution_count": null,
   "metadata": {},
   "outputs": [],
   "source": [
    "print('The STD I set for the FCO2 is', np.mean(FCO2_1)*0.01, 'the variance is', np.mean(FCO2_1)**2*0.0001)\n",
    "print('The STD I set for the FCO2 is', np.mean(temp_mid_1*0.01), 'the variance is', np.mean(temp_mid_1)**2*0.0001)\n",
    "print('The STD I set for the FCO2 is', np.mean(temp_end_1*0.01), 'the variance is', np.mean(temp_end_1)**2*0.0001)"
   ]
  },
  {
   "cell_type": "code",
   "execution_count": null,
   "metadata": {},
   "outputs": [],
   "source": [
    "plt.plot(time_in, FCO2_1, label='model')\n",
    "plt.plot(time_in, FCO2_1_noisy, label='exp')\n",
    "plt.ylabel('CO\\N{SUBSCRIPT TWO} outlet flowrate [mmol/min]')\n",
    "plt.xlabel('Time [s]')\n",
    "plt.show()\n",
    "\n",
    "\n",
    "plt.plot(time_in, temp_mid_1, label='model middle T')\n",
    "plt.plot(time_in, temp_mid_1_noisy, label='model middle T')\n",
    "plt.plot(time_in, temp_end_1, label='model end T')\n",
    "plt.plot(time_in, temp_end_1_noisy, label='model end T')\n",
    "plt.xlabel('Time [s]')\n",
    "plt.ylabel('Temperature [K]')\n",
    "plt.legend()\n",
    "plt.show()"
   ]
  },
  {
   "cell_type": "code",
   "execution_count": null,
   "metadata": {},
   "outputs": [],
   "source": [
    "def exp_data(FCO2, temp_mid, temp_end, time):\n",
    "    dataframe = pd.DataFrame({'time': time,\n",
    "                 'FCO2': FCO2,\n",
    "                 'temp_mid':temp_mid,\n",
    "                 'temp_end':temp_end\n",
    "    })\n",
    "    return dataframe\n",
    "\n",
    "fco2_5e3 = exp_data(FCO2_1_noisy, temp_mid_1_noisy, temp_end_1_noisy, time_in)\n",
    "\n",
    "fco2_5e3.to_csv('333_40_5e3_exp.csv')"
   ]
  },
  {
   "cell_type": "markdown",
   "metadata": {},
   "source": [
    "## Parameter estimation"
   ]
  },
  {
   "cell_type": "markdown",
   "metadata": {},
   "source": [
    "Add a description here.\n",
    "Estimate $UA$ with transport parameter fixed."
   ]
  },
  {
   "cell_type": "code",
   "execution_count": null,
   "metadata": {},
   "outputs": [],
   "source": [
    "init_point = './fixed_bed_initial/T353y20_5e3.csv'\n",
    "exp_data = '/Users/wangjialu/Desktop/final-result/covariance_marathon_1111/exp01/353_20_5e3_exp01.csv'\n",
    "\n",
    "NFEt = 102\n",
    "time_scale = 4800\n",
    "collo = False\n",
    "exp_time = time_points(NFEt, time_scale)"
   ]
  },
  {
   "cell_type": "code",
   "execution_count": null,
   "metadata": {
    "scrolled": true
   },
   "outputs": [],
   "source": [
    "# Add objective function to the model. Make this function name more descriptive\n",
    "test = create_model(temp=353.15, temp_bath=293.15, y=0.2, para=212, ua=np.log(5.0E3), opt=False, conti=False, diff=0, energy=True, est_tr=True, est_ua=True)\n",
    "add_model(test, exp_time)\n",
    "add_obj(test, NFEt, time_scale, file=exp_data, source_opt=\"computer\")\n",
    "discretize(test, no_points=NFEt)\n",
    "initialize(test, init_point)\n",
    "result_ = solve_model(test)\n"
   ]
  },
  {
   "cell_type": "code",
   "execution_count": null,
   "metadata": {},
   "outputs": [],
   "source": [
    "\n",
    "        "
   ]
  },
  {
   "cell_type": "code",
   "execution_count": null,
   "metadata": {},
   "outputs": [],
   "source": [
    "breakthrough_modify2(test,file=exp_data)"
   ]
  },
  {
   "cell_type": "code",
   "execution_count": null,
   "metadata": {},
   "outputs": [],
   "source": [
    "print('value of Of is', value(test.obj))\n",
    "print('value of transport coefficient is', value(test.fitted_transport_coefficient))\n",
    "print('estimated value of UA is', value(test.ua))"
   ]
  },
  {
   "cell_type": "code",
   "execution_count": null,
   "metadata": {},
   "outputs": [],
   "source": [
    "T=[]\n",
    "for t in test.t:\n",
    "    T.append(value(t))\n",
    "    \n",
    "    \n",
    "x =  sum((value(test.FCO2['base',19,t])/value(test.FCO2['base',19,T[-1]]) - test.yCO2[t]/test.yCO2[T[-1]])**2 for t in test.t)\n",
    "\n",
    "x2 =  sum((value(test.temp['base',10,t])/value(test.temp['base',10,T[-1]]) - test.midT[t]/test.midT[T[-1]])**2 for t in test.t)\n",
    "\n",
    "x3 =  sum((value(test.temp['base',19,t])/value(test.temp['base',19,T[-1]]) - test.endT[t]/test.endT[T[-1]])**2 for t in test.t)\n",
    "\n",
    "\n",
    "print(x)\n",
    "print(x2)\n",
    "print(x3)\n"
   ]
  },
  {
   "cell_type": "code",
   "execution_count": null,
   "metadata": {},
   "outputs": [],
   "source": [
    "def calc_obj(m):\n",
    "    x =  sum(((value(m.FCO2['base',19,t]) - m.yCO2[t])**2)/2.3697116742123714E-07 for t in m.t)\n",
    "     \n",
    "    x2 = sum(((value(m.temp['base',10,t]) - m.midT[t])**2)/9.1369 for t in m.t)\n",
    "    \n",
    "    x3 = sum(((value(m.temp['base',19,t]) - m.endT[t])**2)/9.1284 for t in m.t)  \n",
    "    \n",
    "    return x, x2, x3\n",
    "\n",
    "x_, x2_, x3_ = calc_obj(test)\n",
    "print(x_, x2_, x3_)"
   ]
  },
  {
   "cell_type": "code",
   "execution_count": null,
   "metadata": {},
   "outputs": [],
   "source": [
    "dataframe = extract3(test,result_)\n",
    "dataframe.to_csv('353_20_5e3_bothT_of2.csv')"
   ]
  },
  {
   "cell_type": "code",
   "execution_count": null,
   "metadata": {},
   "outputs": [],
   "source": [
    "\n",
    "#dataframe.to_csv('pe_onlyfco2_5e3.csv')\n",
    "#data_list = pd.read_csv('pe_onlyfco2_5e3.csv')\n",
    "#makeplot_csv2(data_list, temp_show=True)"
   ]
  },
  {
   "cell_type": "code",
   "execution_count": null,
   "metadata": {},
   "outputs": [],
   "source": [
    "large_residuals_set(est, 1E-3)"
   ]
  },
  {
   "cell_type": "code",
   "execution_count": null,
   "metadata": {},
   "outputs": [],
   "source": [
    "# est = create_model(313.15, 0.15, 192, 1.0E6, opt=False, conti=False,  diff=diff_opt, eps=epsilon, energy=True, est_tr=True, est_ua=True, isotherm = isotherm_opt, physsorb = physsorb_opt, chemsorb = chemsorb_opt, dispersion = dispersion_opt, fix_pres = fix_pres_opt, v_fix = v_fix_opt, param_level=param_level_opt)\n",
    "\n",
    "# add_model(est)\n",
    "\n",
    "est.fitted_transport_coefficient.unfix()\n",
    "\n",
    "# Define a solver\n",
    "solver = custom_ipopt()\n",
    "solver.options['tol'] = 1E-8\n",
    "solver.options['max_iter'] = 3000\n",
    "solver.options['halt_on_ampl_error'] = 'yes'\n",
    "solver.options['bound_push'] = 1E-8\n",
    "solver.solve(est, tee=True, symbolic_solver_labels=True)\n"
   ]
  },
  {
   "cell_type": "code",
   "execution_count": null,
   "metadata": {},
   "outputs": [],
   "source": [
    "large_residuals_set(est, 1E-6)"
   ]
  },
  {
   "cell_type": "code",
   "execution_count": null,
   "metadata": {},
   "outputs": [],
   "source": [
    "print('value of Of is', value(est.obj))\n",
    "print('value of transport coefficient is', value(est.fitted_transport_coefficient))\n",
    "print('estimated value of UA is', value(est.ua))"
   ]
  },
  {
   "cell_type": "code",
   "execution_count": null,
   "metadata": {},
   "outputs": [],
   "source": [
    "breakthrough_modify2(est, exp)"
   ]
  },
  {
   "cell_type": "markdown",
   "metadata": {},
   "source": [
    "## Define brute force problem"
   ]
  },
  {
   "cell_type": "code",
   "execution_count": null,
   "metadata": {},
   "outputs": [],
   "source": [
    "def add_doe_variables(param=192, uam=1.0E6, y_range, T_range, preset='T313y15_double', diff_opt=1, epsilon=0.01):\n",
    "    '''\n",
    "    Run brute force problem \n",
    "    Based on fixed_bed_model_v2\n",
    "    TODO: it can only perturb k_trans by the diff_opt option.\n",
    "    \n",
    "    Arguments:\n",
    "        param: the nominal value of k_trans, default = 192 [s]\n",
    "        uam: the nominal value of Ua, default = 1E6 [W/m3/K]\n",
    "        y_range: the range of y, a list \n",
    "        T_range: the rage of T, a list\n",
    "        preset: A preset initial point for all brute force runs\n",
    "        diff_opt: 1: forward; -1:backward; 2:central. default to be the forward scheme\n",
    "        epsilon: the stepsize, default = 0.01, 1% of the parameters\n",
    "    \n",
    "    Return: None\n",
    "    Other: print the solution of each set of design variables to csv\n",
    "    '''\n",
    "    hes_rec = np.zeros((len(y_range), len(T_range)))  \n",
    "\n",
    "    for i in range(0,len(y_range)):\n",
    "        for j in range(0,len(T_range)):\n",
    "            print('Run the case with y=', y_range[i], 'T=', T_range[j])\n",
    "            load = create_model(T_range[j], y_range[i], para=param, ua=uam, opt=True, conti=False, diff=diff_opt, eps=epsilon, energy=True, isotherm = isotherm_opt, physsorb = physsorb_opt, chemsorb = chemsorb_opt, dispersion = dispersion_opt, fix_pres = fix_pres_opt, v_fix = v_fix_opt, param_level=0)\n",
    "            add_model(load)\n",
    "            try: \n",
    "                print('use the preset solution to start')\n",
    "                solve_model(load,'T313y15_double.csv')\n",
    "                dataframe = extract2(load)\n",
    "                dataframe.to_csv('T%.0fy%.0f_double.csv'%(T_range[j], y_range[i]*100))\n",
    "\n",
    "            except:\n",
    "                if i==0:\n",
    "                    try:\n",
    "                        print('the preset solution failed. try another initial point')\n",
    "                        solve_model(load, 'T%.0fy%.0f_double.csv'%(T_range[j-1], y_range[i]*100))\n",
    "                        dataframe = extract2(load)\n",
    "                        dataframe.to_csv('T%.0fy%.0f_double.csv'%(T_range[j], y_range[i]*100))\n",
    "\n",
    "                    except:\n",
    "                        try:\n",
    "                            print('the 1st best point failed. try the 2nd best point')\n",
    "                            solve_model(load, 'T%.0fy%.0f_double.csv'%(T_range[j-2], y_range[i]*100))\n",
    "                            dataframe = extract2(load)\n",
    "                            dataframe.to_csv('T%.0fy%.0f_double.csv'%(T_range[j], y_range[i]*100))\n",
    "\n",
    "\n",
    "                        except:\n",
    "                            try:\n",
    "                                print('the 2nd best point failed. try the 3rd best point')\n",
    "                                solve_model(load, 'T%.0fy%.0f_double.csv'%(T_range[j-3], y_range[i]*100))\n",
    "                                dataframe = extract2(load)\n",
    "                                dataframe.to_csv('T%.0fy%.0f_double.csv'%(T_range[j], y_range[i]*100))\n",
    "\n",
    "                            except: \n",
    "                                print('The code failed at', y_range[i], 'and', T_range[j])\n",
    "                                hes_rec[i,j] = -1\n",
    "                else:\n",
    "                    try:\n",
    "                        print('the preset solution failed. try another initial point')\n",
    "                        solve_model(load, 'T%.0fy%.0f_double.csv'%(T_range[j], y_range[i-1]*100))\n",
    "                        dataframe = extract2(load)\n",
    "                        dataframe.to_csv('T%.0fy%.0f_double.csv'%(T_range[j], y_range[i]*100))\n",
    "\n",
    "                    except:\n",
    "                        try:\n",
    "                            print('the 1st best point failed. try the 2nd best point')\n",
    "                            solve_model(load, 'T%.0fy%.0f_double.csv'%(T_range[j], y_range[i-2]*100))\n",
    "                            dataframe = extract2(load)\n",
    "                            dataframe.to_csv('T%.0fy%.0f_double.csv'%(T_range[j], y_range[i]*100))\n",
    "\n",
    "                        except:\n",
    "                            try:\n",
    "                                print('the 2nd best point failed. try the 3rd best point')\n",
    "                                solve_model(load, 'T%.0fy%.0f_double.csv'%(T_range[j], y_range[i-3]*100))\n",
    "                                dataframe = extract2(load)\n",
    "                                dataframe.to_csv('T%.0fy%.0f_double.csv'%(T_range[j], y_range[i]*100))\n",
    "\n",
    "                            except: \n",
    "                                print('The code failed at', y_range[i], 'and', T_range[j], 'at base case')\n",
    "                                hes_rec[i,j] = -1\n",
    "\n",
    "                                \n",
    "                                "
   ]
  },
  {
   "cell_type": "code",
   "execution_count": null,
   "metadata": {},
   "outputs": [],
   "source": [
    "### get the design variable space\n",
    "\n",
    "y_range = np.linspace(0.1, 0.4, 7)\n",
    "#y_range = [0.3]\n",
    "\n",
    "T_range = np.linspace(293.15, 373.15, 9)\n",
    "#T_range = [313.15]\n",
    "\n",
    "# preset initial point for every combination\n",
    "preset = 'T313y15_double.csv'\n",
    "\n",
    "# finite difference method\n",
    "# 0=central difference; 1=forward difference; 2=backward difference\n",
    "diff_opt = 1\n",
    "# perturbation\n",
    "epsilon=0.01\n",
    "\n",
    "param = 192"
   ]
  },
  {
   "cell_type": "code",
   "execution_count": null,
   "metadata": {},
   "outputs": [],
   "source": [
    "for i in range(0,len(y_range)):\n",
    "    for j in range(0,len(T_range)):\n",
    "        print('Run the case with y=', y_range[i], 'T=', T_range[j])\n",
    "        load = create_model(T_range[j], y_range[i], 192, opt=True, conti=False, diff=diff_opt, eps=epsilon, isotherm = isotherm_opt, physsorb = physsorb_opt, chemsorb = chemsorb_opt, dispersion = dispersion_opt, fix_pres = fix_pres_opt, v_fix = v_fix_opt, param_level=0)\n",
    "        add_model(load)\n",
    "        print('use the preset solution to start')\n",
    "        solve_model(load,'T313y15_double.csv')\n",
    "        dataframe = extract2(load)\n",
    "        dataframe.to_csv('T%.0fy%.0f_double.csv'%(T_range[j], y_range[i]*100))"
   ]
  },
  {
   "cell_type": "code",
   "execution_count": null,
   "metadata": {},
   "outputs": [],
   "source": [
    "# hes_rec[i,j]=-1 means the code fails at [i,j]. \n",
    "hes_rec = np.zeros((len(y_range), len(T_range)))  \n",
    "\n",
    "for i in range(0,len(y_range)):\n",
    "    for j in range(0,len(T_range)):\n",
    "        print('Run the case with y=', y_range[i], 'T=', T_range[j])\n",
    "        load = create_model(T_range[j], y_range[i], 192, opt=True, conti=False, diff=diff_opt, eps=epsilon, energy=True, isotherm = isotherm_opt, physsorb = physsorb_opt, chemsorb = chemsorb_opt, dispersion = dispersion_opt, fix_pres = fix_pres_opt, v_fix = v_fix_opt, param_level=0)\n",
    "        add_model(load)\n",
    "        try: \n",
    "            print('use the preset solution to start')\n",
    "            solve_model(load,'T313y15_double.csv')\n",
    "            dataframe = extract2(load)\n",
    "            dataframe.to_csv('T%.0fy%.0f_double.csv'%(T_range[j], y_range[i]*100))\n",
    "\n",
    "        except:\n",
    "            if i==0:\n",
    "                try:\n",
    "                    print('the preset solution failed. try another initial point')\n",
    "                    solve_model(load, 'T%.0fy%.0f_double.csv'%(T_range[j-1], y_range[i]*100))\n",
    "                    dataframe = extract2(load)\n",
    "                    dataframe.to_csv('T%.0fy%.0f_double.csv'%(T_range[j], y_range[i]*100))\n",
    "    \n",
    "                except:\n",
    "                    try:\n",
    "                        print('the 1st best point failed. try the 2nd best point')\n",
    "                        solve_model(load, 'T%.0fy%.0f_double.csv'%(T_range[j-2], y_range[i]*100))\n",
    "                        dataframe = extract2(load)\n",
    "                        dataframe.to_csv('T%.0fy%.0f_double.csv'%(T_range[j], y_range[i]*100))\n",
    "                    \n",
    "                 \n",
    "                    except:\n",
    "                        try:\n",
    "                            print('the 2nd best point failed. try the 3rd best point')\n",
    "                            solve_model(load, 'T%.0fy%.0f_double.csv'%(T_range[j-3], y_range[i]*100))\n",
    "                            dataframe = extract2(load)\n",
    "                            dataframe.to_csv('T%.0fy%.0f_double.csv'%(T_range[j], y_range[i]*100))\n",
    "                        \n",
    "                        except: \n",
    "                            print('The code failed at', y_range[i], 'and', T_range[j])\n",
    "                            hes_rec[i,j] = -1\n",
    "            else:\n",
    "                try:\n",
    "                    print('the preset solution failed. try another initial point')\n",
    "                    solve_model(load, 'T%.0fy%.0f_double.csv'%(T_range[j], y_range[i-1]*100))\n",
    "                    dataframe = extract2(load)\n",
    "                    dataframe.to_csv('T%.0fy%.0f_double.csv'%(T_range[j], y_range[i]*100))\n",
    "\n",
    "                except:\n",
    "                    try:\n",
    "                        print('the 1st best point failed. try the 2nd best point')\n",
    "                        solve_model(load, 'T%.0fy%.0f_double.csv'%(T_range[j], y_range[i-2]*100))\n",
    "                        dataframe = extract2(load)\n",
    "                        dataframe.to_csv('T%.0fy%.0f_double.csv'%(T_range[j], y_range[i]*100))\n",
    "\n",
    "                    except:\n",
    "                        try:\n",
    "                            print('the 2nd best point failed. try the 3rd best point')\n",
    "                            solve_model(load, 'T%.0fy%.0f_double.csv'%(T_range[j], y_range[i-3]*100))\n",
    "                            dataframe = extract2(load)\n",
    "                            dataframe.to_csv('T%.0fy%.0f_double.csv'%(T_range[j], y_range[i]*100))\n",
    "\n",
    "                        except: \n",
    "                            print('The code failed at', y_range[i], 'and', T_range[j], 'at base case')\n",
    "                            hes_rec[i,j] = -1"
   ]
  },
  {
   "cell_type": "code",
   "execution_count": null,
   "metadata": {},
   "outputs": [],
   "source": [
    "make_plots(load)"
   ]
  },
  {
   "cell_type": "code",
   "execution_count": null,
   "metadata": {},
   "outputs": [],
   "source": [
    "sol = pd.read_csv('T%.0fy%.0f_double.csv'%(T_range[j], y_range[i]*100), index_col=1)"
   ]
  },
  {
   "cell_type": "code",
   "execution_count": null,
   "metadata": {},
   "outputs": [],
   "source": [
    "con1, con2 = ext_pres_double(sol, 'den_CO2', 'den_CO2_u', unit*mag+1)\n",
    "vel1, vel2 = ext_pres_double(sol, 'vel', 'vel_u', unit*mag+1)\n",
    "\n",
    "FCO2_base = get_fco2(con1, vel1)\n",
    "FCO2_upper = get_fco2(con2, vel2)"
   ]
  },
  {
   "cell_type": "code",
   "execution_count": null,
   "metadata": {},
   "outputs": [],
   "source": [
    "# get the experimental timeset \n",
    "measure = time_points(unit, time_scale)\n",
    "\n",
    "# get the FCO2 value in corresponding timepoints\n",
    "FCO2_umea = FCO2_base[::mag]\n",
    "FCO2_modelmea = FCO2_upper[::mag]\n",
    "\n",
    "print(FCO2_umea)\n",
    "print(FCO2_modelmea)\n",
    "\n",
    "# Calculate dFCO2dp\n",
    "dFCO2dp = np.zeros(len(FCO2_umea))\n",
    "\n",
    "\n",
    "for i in range(len(measure)):\n",
    "    if diff_opt != 0:\n",
    "        dFCO2dp[i] = (FCO2_umea[i]-FCO2_modelmea[i])/epsilon/param\n",
    "    else:\n",
    "        dFCO2dp[i] = (FCO2_umea[i]-FCO2_modelmea[i])/2/epsilon/param\n",
    "\n",
    "# Calculate the FIM\n",
    "hes = 0\n",
    "for i in range(len(dFCO2dp)):\n",
    "    hes += dFCO2dp[i]**2\n",
    "print(hes)"
   ]
  },
  {
   "cell_type": "markdown",
   "metadata": {},
   "source": [
    "## Define continuous optimization problem"
   ]
  },
  {
   "cell_type": "code",
   "execution_count": null,
   "metadata": {},
   "outputs": [],
   "source": [
    "T_init = 313.15\n",
    "y_init = 0.15\n",
    "init_point = '20200729_energy.csv'"
   ]
  },
  {
   "cell_type": "code",
   "execution_count": null,
   "metadata": {},
   "outputs": [],
   "source": [
    "load = create_model(313.15, 0.15, 192, 5.0E5, opt=True, conti=True,  diff=1, eps=0.01, energy=False)\n",
    "\n",
    "add_model(load, exp_time)\n",
    "#add_obj(test)\n",
    "discretize(load)\n",
    "initialize(load, init_point)\n",
    "solve_model(load)"
   ]
  },
  {
   "cell_type": "code",
   "execution_count": null,
   "metadata": {},
   "outputs": [],
   "source": [
    "# hes_rec[i,j]=-1 means the code fails at [i,j]. \n",
    "hes_rec = np.zeros((len(y_range), len(T_range)))  \n",
    "\n",
    "for i in range(0,len(y_range)):\n",
    "    for j in range(0,len(T_range)):\n",
    "        print('Run the case with y=', y_range[i], 'T=', T_range[j])\n",
    "        load = create_model(T_range[j], y_range[i], 192, opt = opt_, conti=opt_, diff=diff_opt, eps=epsilon, isotherm = isotherm_opt, physsorb = physsorb_opt, chemsorb = chemsorb_opt, dispersion = dispersion_opt, fix_pres = fix_pres_opt, v_fix = v_fix_opt, param_level=0)\n",
    "        add_model(load)\n",
    "        try:\n",
    "            print('try preset solution')\n",
    "            solve_model(load, 'T313y15_double.csv')\n",
    "            print('success, ', value(load.temp), value(load.yfeed), value(load.obj))\n",
    "            dataframe = extract2(load)\n",
    "            dataframe.to_csv('T%.0fy%.0f_opt.csv'%(T_range[j], y_range[i]*100))\n",
    "            hes_rec[i,j] = value(load.obj)\n",
    "            \n",
    "        except:\n",
    "            print('try another solution')\n",
    "            solve_model(load, 'T%.0fy%.0f_double.csv'%(T_range[j], y_range[i-1]*100))\n",
    "            print('success, ', value(load.temp), value(load.yfeed), value(load.obj))\n",
    "            dataframe = extract2(load)\n",
    "            dataframe.to_csv('T%.0fy%.0f_opt.csv'%(T_range[j], y_range[i]*100))\n",
    "            hes_rec[i,j] = value(load.obj)\n",
    "\n",
    "print(hes_rec)"
   ]
  },
  {
   "cell_type": "markdown",
   "metadata": {},
   "source": [
    "## DoE result analysis"
   ]
  },
  {
   "cell_type": "code",
   "execution_count": null,
   "metadata": {},
   "outputs": [],
   "source": [
    "### get the design variable space\n",
    "\n",
    "y_range = np.linspace(0.1, 0.4, 7)\n",
    "#y_range = [0.1]\n",
    "\n",
    "T_range = np.linspace(293.15, 373.15, 9)\n",
    "#T_range = [293.15]\n",
    "\n",
    "# preset initial point for every combination\n",
    "preset = 'T313y15_double.csv'\n",
    "\n",
    "# finite difference method\n",
    "# 0=base; 1=forward difference; -1=backward difference; 2=central difference\n",
    "diff_opt = 1\n",
    "\n",
    "# perturbation\n",
    "epsilon=0.1\n",
    "\n",
    "param = 192 \n",
    "\n",
    "scaled = False\n",
    "\n",
    "if scaled:\n",
    "    s1 = 60\n",
    "else:\n",
    "    s1 = 1"
   ]
  },
  {
   "cell_type": "code",
   "execution_count": null,
   "metadata": {},
   "outputs": [],
   "source": [
    "# Store the FIM value \n",
    "hes_rec = np.zeros((len(y_range), len(T_range))) \n",
    "\n",
    "# Loop over every y, T\n",
    "for i in range(0,len(y_range)):\n",
    "    for j in range(0,len(T_range)):\n",
    "        \n",
    "        try:\n",
    "            # Extract solutions\n",
    "            sol = pd.read_csv('/Users/a/Desktop/crcresult22/T%.0fy%.0f_double.csv'%(T_range[j], y_range[i]*100), index_col=1)\n",
    "        \n",
    "            # Get time, velocity and CO2 density\n",
    "            con1, con2 = ext_pres_double(sol, 'den_CO2', 'den_CO2_u', unit*mag+1)\n",
    "            vel1, vel2 = ext_pres_double(sol, 'vel', 'vel_u', unit*mag+1)\n",
    "\n",
    "            FCO2_base = get_fco2(con1, vel1)*s1\n",
    "            FCO2_upper = get_fco2(con2, vel2)*s1\n",
    "            \n",
    "            # Experimental timepoints\n",
    "            measure = time_points(unit, time_scale)\n",
    "            \n",
    "            # FCO2 at corresponding timepoints \n",
    "            FCO2_umea = FCO2_upper[::mag]\n",
    "            FCO2_modelmea = FCO2_base[::mag]\n",
    "            \n",
    "            dFCO2dp = np.zeros(len(FCO2_umea))\n",
    "            \n",
    "            # Jacobian element\n",
    "            for m in range(len(measure)):\n",
    "                # parameter in seconds.when scaled, it is in minutes. \n",
    "                if diff_opt != 0:\n",
    "                    dFCO2dp[m] = (FCO2_umea[m]-FCO2_modelmea[m])/epsilon/(param/s1)\n",
    "                else:\n",
    "                    dFCO2dp[m] = (FCO2_umea[m]-FCO2_modelmea[m])/2/epsilon/(param/s1)\n",
    "                    \n",
    "            # Calculate hessian scalar value\n",
    "            hes = 0\n",
    "            for n in range(len(dFCO2dp)):\n",
    "                hes += dFCO2dp[n]**2\n",
    "            hes_rec[i,j] = hes\n",
    "            \n",
    "        except:\n",
    "            # If cannot find the corresponding file, the code failed with no hessian value\n",
    "            hes_rec[i,j] = float('NaN')"
   ]
  },
  {
   "cell_type": "code",
   "execution_count": null,
   "metadata": {},
   "outputs": [],
   "source": [
    "print(hes_rec)\n",
    "\n",
    "# the base is e\n",
    "hes = np.log(hes_rec)\n",
    "print(hes)"
   ]
  },
  {
   "cell_type": "code",
   "execution_count": null,
   "metadata": {},
   "outputs": [],
   "source": [
    "from numpy import savetxt\n",
    "\n",
    "hes_rec_u = hes_rec.reshape([len(y_range) *len(T_range), ] )\n",
    "\n",
    "savetxt('crcresult22.csv', hes_rec_u, delimiter=',', header='no')"
   ]
  },
  {
   "cell_type": "code",
   "execution_count": null,
   "metadata": {},
   "outputs": [],
   "source": [
    "hes_rec_u = pd.read_csv('crcresult24.csv')\n",
    "\n",
    "hes_bun = np.zeros((len(y_range), len(T_range))) \n",
    "\n",
    "for i in range(len(y_range)):\n",
    "    for j in range(len(T_range)):\n",
    "        hes_bun[i,j] = hes_rec_u.iloc[i*9+j]\n",
    "        \n",
    "print(hes_rec_u.iloc[0])\n",
    "print(hes_bun)"
   ]
  },
  {
   "cell_type": "code",
   "execution_count": null,
   "metadata": {},
   "outputs": [],
   "source": [
    "# Get meshgrids of design variables and results for plotting\n",
    "y_mesh = [[0]*len(y_range) for i in range(len(T_range))]\n",
    "for i in range(len(T_range)):\n",
    "    for j in range(len(y_range)):\n",
    "        y_mesh[i][j] = y_range[j]\n",
    "\n",
    "# Meshgrid of T\n",
    "T_mesh = [[0]*len(y_range) for i in range(len(T_range))]\n",
    "for i in range(len(T_range)):\n",
    "    for j in range(len(y_range)):\n",
    "        T_mesh[i][j] = T_range[i]"
   ]
  },
  {
   "cell_type": "code",
   "execution_count": null,
   "metadata": {},
   "outputs": [],
   "source": [
    "xLabel=[293, 303, 313, 323, 333, 343, 353, 363, 373]\n",
    "yLabel=[10, 15, 20, 25, 30, 35, 40]\n",
    "\n",
    "\n",
    "\n",
    "fig=plt.figure()\n",
    "ax=fig.add_subplot(111)\n",
    "ax.set_yticks(range(len(yLabel)))\n",
    "ax.set_yticklabels(yLabel)\n",
    "ax.set_ylabel('CO\\N{SUBSCRIPT TWO} feed composition [mol %]')\n",
    "ax.set_xticks(range(len(xLabel)))\n",
    "ax.set_xticklabels(xLabel)\n",
    "ax.set_xlabel('Bed temperature [K]')\n",
    "im=ax.imshow(hes, cmap=plt.cm.hot_r)\n",
    "ba=plt.colorbar(im)\n",
    "ba.set_label('ln(FIM)')\n",
    "plt.title('Preliminary DoE for Fixed Bed Model')\n",
    "plt.show"
   ]
  },
  {
   "cell_type": "markdown",
   "metadata": {},
   "source": [
    "### DoE specific case analysis"
   ]
  },
  {
   "cell_type": "code",
   "execution_count": null,
   "metadata": {},
   "outputs": [],
   "source": [
    "sol1 = pd.read_csv('/Users/a/Desktop/analysis3/T293y10_downpert.csv', index_col=1)\n",
    "\n",
    "sol2 = pd.read_csv('/Users/a/Desktop/analysis3/T293y10_uppert.csv', index_col=1)\n",
    "\n",
    "sol3 = pd.read_csv('/Users/a/Desktop/analysis3/T293y40_downpert.csv', index_col=1)\n",
    "\n",
    "sol4 = pd.read_csv('/Users/a/Desktop/analysis3/T293y40_uppert.csv', index_col=1)\n",
    "\n",
    "sol5 = pd.read_csv('/Users/a/Desktop/analysis3/T373y10_downpert.csv', index_col=1)\n",
    "\n",
    "sol6 = pd.read_csv('/Users/a/Desktop/analysis3/T373y10_uppert.csv', index_col=1)\n",
    "\n",
    "sol7 = pd.read_csv('/Users/a/Desktop/analysis3/T373y40_downpert.csv', index_col=1)\n",
    "\n",
    "sol8 = pd.read_csv('/Users/a/Desktop/analysis3/T373y40_uppert.csv', index_col=1)"
   ]
  },
  {
   "cell_type": "code",
   "execution_count": null,
   "metadata": {},
   "outputs": [],
   "source": [
    "sol11 = pd.read_csv('/Users/a/Desktop/crcresult21/T293y10_double.csv', index_col=1)\n",
    "\n",
    "sol12 = pd.read_csv('/Users/a/Desktop/crcresult21/T293y40_double.csv', index_col=1)\n",
    "\n",
    "sol13 = pd.read_csv('/Users/a/Desktop/crcresult21/T373y10_double.csv', index_col=1)\n",
    "\n",
    "sol14 = pd.read_csv('/Users/a/Desktop/crcresult21/T373y40_double.csv', index_col=1)"
   ]
  },
  {
   "cell_type": "code",
   "execution_count": null,
   "metadata": {},
   "outputs": [],
   "source": [
    "con1, _ = ext_pres_double(sol, 'den_CO2', 'den_CO2_u', unit*mag+1)\n",
    "vel1, _ = ext_pres_double(sol, 'vel', 'vel_u', unit*mag+1)\n",
    "time = ext_time(sol, unit*mag+1)\n",
    "\n",
    "con2, _ = ext_pres_double(sol2, 'den_CO2', 'den_CO2_u', unit*mag+1)\n",
    "vel2, _ = ext_pres_double(sol2, 'vel', 'vel_u', unit*mag+1)\n",
    "\n",
    "con3, _ = ext_pres_double(sol11, 'den_CO2', 'den_CO2_u', unit*mag+1)\n",
    "vel3, _ = ext_pres_double(sol11, 'vel', 'vel_u', unit*mag+1)"
   ]
  },
  {
   "cell_type": "code",
   "execution_count": null,
   "metadata": {},
   "outputs": [],
   "source": [
    "plt.plot(time, con1[-1,:]*vel1[-1,:]/con1[-1,-1]/vel1[-1,-1], lw=2, label='293.15K, y=10%, para=192*0.5 ')\n",
    "plt.plot(time, con2[-1,:]*vel2[-1,:]/con2[-1,-1]/vel2[-1,-1], lw=2, label='293.15K, y=10%, para=192*1.5')\n",
    "plt.plot(time, con3[-1,:]*vel3[-1,:]/con3[-1,-1]/vel3[-1,-1], lw=2, label='293.15K, y=10%, para=192')\n",
    "plt.xlabel('time[s]')\n",
    "plt.ylabel('Normalized outlet gas flowrate of CO2')\n",
    "plt.title('breakthrough curve of combinations with big improvements')\n",
    "plt.legend()\n",
    "plt.show()"
   ]
  },
  {
   "cell_type": "code",
   "execution_count": null,
   "metadata": {},
   "outputs": [],
   "source": [
    "con3, _ = ext_pres_double(sol3, 'den_CO2', 'den_CO2_u', unit*mag+1)\n",
    "vel3, _ = ext_pres_double(sol3, 'vel', 'vel_u', unit*mag+1)\n",
    "time = ext_time(sol, unit*mag+1)\n",
    "\n",
    "con4, _ = ext_pres_double(sol4, 'den_CO2', 'den_CO2_u', unit*mag+1)\n",
    "vel4, _ = ext_pres_double(sol4, 'vel', 'vel_u', unit*mag+1)\n",
    "\n",
    "con12, _ = ext_pres_double(sol12, 'den_CO2', 'den_CO2_u', unit*mag+1)\n",
    "vel12, _ = ext_pres_double(sol12, 'vel', 'vel_u', unit*mag+1)"
   ]
  },
  {
   "cell_type": "code",
   "execution_count": null,
   "metadata": {},
   "outputs": [],
   "source": [
    "plt.plot(time, con3[-1,:]*vel3[-1,:]/con3[-1,-1]/vel3[-1,-1], lw=2, label='293.15K, y=40%, para=192*0.5 ')\n",
    "plt.plot(time, con4[-1,:]*vel4[-1,:]/con4[-1,-1]/vel4[-1,-1], lw=2, label='293.15K, y=40%, para=192*1.5')\n",
    "plt.plot(time, con12[-1,:]*vel12[-1,:]/con12[-1,-1]/vel12[-1,-1], lw=2, label='293.15K, y=40%, para=192')\n",
    "plt.xlabel('time[s]')\n",
    "plt.ylabel('Normalized outlet gas flowrate of CO2')\n",
    "plt.title('breakthrough curve of combinations with the biggest improvement')\n",
    "plt.legend()\n",
    "plt.show()"
   ]
  },
  {
   "cell_type": "code",
   "execution_count": null,
   "metadata": {},
   "outputs": [],
   "source": [
    "con5, _ = ext_pres_double(sol5, 'den_CO2', 'den_CO2_u', unit*mag+1)\n",
    "vel5, _ = ext_pres_double(sol5, 'vel', 'vel_u', unit*mag+1)\n",
    "time = ext_time(sol, unit*mag+1)\n",
    "\n",
    "con6, _ = ext_pres_double(sol6, 'den_CO2', 'den_CO2_u', unit*mag+1)\n",
    "vel6, _ = ext_pres_double(sol6, 'vel', 'vel_u', unit*mag+1)\n",
    "\n",
    "con13, _ = ext_pres_double(sol13, 'den_CO2', 'den_CO2_u', unit*mag+1)\n",
    "vel13, _ = ext_pres_double(sol13, 'vel', 'vel_u', unit*mag+1)"
   ]
  },
  {
   "cell_type": "code",
   "execution_count": null,
   "metadata": {},
   "outputs": [],
   "source": [
    "plt.plot(time, con5[-1,:]*vel5[-1,:]/con5[-1,-1]/vel5[-1,-1], lw=2, label='373.15K, y=10%, para=192*0.5 ')\n",
    "plt.plot(time, con6[-1,:]*vel6[-1,:]/con6[-1,-1]/vel6[-1,-1], lw=2, label='373.15K, y=10%, para=192*1.5')\n",
    "plt.plot(time, con13[-1,:]*vel13[-1,:]/con13[-1,-1]/vel13[-1,-1], lw=2, label='373.15K, y=10%, para=192')\n",
    "plt.xlabel('time[s]')\n",
    "plt.ylabel('Normalized outlet gas flowrate of CO2')\n",
    "plt.title('breakthrough curve of combinations with the least improvement')\n",
    "plt.legend()\n",
    "plt.show()"
   ]
  },
  {
   "cell_type": "code",
   "execution_count": null,
   "metadata": {},
   "outputs": [],
   "source": [
    "con7, _ = ext_pres_double(sol7, 'den_CO2', 'den_CO2_u', unit*mag+1)\n",
    "vel7, _ = ext_pres_double(sol7, 'vel', 'vel_u', unit*mag+1)\n",
    "time = ext_time(sol, unit*mag+1)\n",
    "\n",
    "con8, _ = ext_pres_double(sol8, 'den_CO2', 'den_CO2_u', unit*mag+1)\n",
    "vel8, _ = ext_pres_double(sol8, 'vel', 'vel_u', unit*mag+1)\n",
    "\n",
    "con14, _ = ext_pres_double(sol14, 'den_CO2', 'den_CO2_u', unit*mag+1)\n",
    "vel14, _ = ext_pres_double(sol14, 'vel', 'vel_u', unit*mag+1)"
   ]
  },
  {
   "cell_type": "code",
   "execution_count": null,
   "metadata": {},
   "outputs": [],
   "source": [
    "plt.plot(time, con7[-1,:]*vel7[-1,:]/con7[-1,-1]/vel7[-1,-1], lw=2, label='373.15K, y=40%, para=192*0.5 ')\n",
    "plt.plot(time, con8[-1,:]*vel8[-1,:]/con8[-1,-1]/vel8[-1,-1], lw=2, label='373.15K, y=40%, para=192*1.5')\n",
    "plt.plot(time, con14[-1,:]*vel14[-1,:]/con14[-1,-1]/vel14[-1,-1], lw=2, label='373.15K, y=40%, para=192')\n",
    "plt.xlabel('time[s]')\n",
    "plt.ylabel('Normalized outlet gas flowrate of CO2')\n",
    "plt.title('breakthrough curve of combinations with big improvements')\n",
    "plt.legend()\n",
    "plt.show()"
   ]
  },
  {
   "cell_type": "code",
   "execution_count": null,
   "metadata": {},
   "outputs": [],
   "source": []
  }
 ],
 "metadata": {
  "kernelspec": {
   "display_name": "Python 3 (ipykernel)",
   "language": "python",
   "name": "python3"
  },
  "language_info": {
   "codemirror_mode": {
    "name": "ipython",
    "version": 3
   },
   "file_extension": ".py",
   "mimetype": "text/x-python",
   "name": "python",
   "nbconvert_exporter": "python",
   "pygments_lexer": "ipython3",
   "version": "3.9.6"
  }
 },
 "nbformat": 4,
 "nbformat_minor": 2
}
