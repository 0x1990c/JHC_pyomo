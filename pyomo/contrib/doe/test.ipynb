{
 "cells": [
  {
   "cell_type": "code",
   "execution_count": 1,
   "id": "5e4d960e",
   "metadata": {},
   "outputs": [],
   "source": [
    "import matplotlib.pyplot as plt\n",
    "from pyomo.environ import *\n",
    "from pyomo.dae import *\n",
    "\n",
    "import numpy as np\n",
    "from scipy.interpolate import interp2d\n",
    "import pandas as pd \n",
    "from itertools import permutations, product, combinations\n",
    "\n",
    "from fim_doe import *\n",
    "from pyomo.contrib.sensitivity_toolbox.sens import sipopt"
   ]
  },
  {
   "cell_type": "markdown",
   "id": "d81c4519",
   "metadata": {},
   "source": [
    "## Measurements"
   ]
  },
  {
   "cell_type": "code",
   "execution_count": 2,
   "id": "a366bf95",
   "metadata": {},
   "outputs": [],
   "source": [
    "t_measure_ca = [0, 0.125, 0.25, 0.375, 0.5, 0.625, 0.75, 0.875, 1]\n",
    "t_measure_cb = [0, 0.25, 0.5, 0.75, 1]\n",
    "t_measure_cc = [0, 0.125, 0.375, 0.625, 0.875, 1]\n",
    "#measure_pass = {'CA': t_measure, 'CB': t_measure, 'CC': t_measure}\n",
    "measure_pass = {'C':{\"CA\": t_measure_ca, \"CB\": t_measure_cb, \"CC\": t_measure_cc}}\n"
   ]
  },
  {
   "cell_type": "code",
   "execution_count": 5,
   "id": "16231176",
   "metadata": {},
   "outputs": [
    {
     "name": "stdout",
     "output_type": "stream",
     "text": [
      "All measurements are flattened.\n",
      "Flatten measurement name: ['C_index_CA', 'C_index_CB', 'C_index_CC']\n",
      "Flatten measurement timeset: {'C_index_CA': [0, 0.125, 0.25, 0.375, 0.5, 0.625, 0.75, 0.875, 1], 'C_index_CB': [0, 0.25, 0.5, 0.75, 1], 'C_index_CC': [0, 0.125, 0.375, 0.625, 0.875, 1]}\n"
     ]
    }
   ],
   "source": [
    "measure_class = Measurements(measure_pass)\n",
    "measure_class.flatten_measurement()\n"
   ]
  },
  {
   "cell_type": "code",
   "execution_count": 4,
   "id": "c51446b8",
   "metadata": {},
   "outputs": [
    {
     "ename": "ValueError",
     "evalue": "('The time of ', 0.125, ' is not included as measurements before.')",
     "output_type": "error",
     "traceback": [
      "\u001b[0;31m---------------------------------------------------------------------------\u001b[0m",
      "\u001b[0;31mValueError\u001b[0m                                Traceback (most recent call last)",
      "\u001b[0;32m/var/folders/cn/dbk7vfw51_g_gb8jqhz4j3ph0000gn/T/ipykernel_988/581060021.py\u001b[0m in \u001b[0;36m<module>\u001b[0;34m\u001b[0m\n\u001b[1;32m      4\u001b[0m \u001b[0;34m\u001b[0m\u001b[0m\n\u001b[1;32m      5\u001b[0m \u001b[0msubset_2\u001b[0m \u001b[0;34m=\u001b[0m \u001b[0;34m{\u001b[0m\u001b[0;34m'C'\u001b[0m\u001b[0;34m:\u001b[0m\u001b[0;34m{\u001b[0m\u001b[0;34m\"CB\"\u001b[0m\u001b[0;34m:\u001b[0m \u001b[0mt_measure_cc\u001b[0m\u001b[0;34m}\u001b[0m\u001b[0;34m}\u001b[0m\u001b[0;34m\u001b[0m\u001b[0;34m\u001b[0m\u001b[0m\n\u001b[0;32m----> 6\u001b[0;31m \u001b[0mmeasure_class\u001b[0m\u001b[0;34m.\u001b[0m\u001b[0mcheck_subset\u001b[0m\u001b[0;34m(\u001b[0m\u001b[0msubset_2\u001b[0m\u001b[0;34m)\u001b[0m\u001b[0;34m\u001b[0m\u001b[0;34m\u001b[0m\u001b[0m\n\u001b[0m",
      "\u001b[0;32m~/pyomo/pyomo/contrib/doe/fim_doe.py\u001b[0m in \u001b[0;36mcheck_subset\u001b[0;34m(self, subset)\u001b[0m\n\u001b[1;32m    115\u001b[0m                 \u001b[0;32mfor\u001b[0m \u001b[0mt\u001b[0m \u001b[0;32min\u001b[0m \u001b[0mflatten_timeset\u001b[0m\u001b[0;34m[\u001b[0m\u001b[0mi\u001b[0m\u001b[0;34m]\u001b[0m\u001b[0;34m:\u001b[0m\u001b[0;34m\u001b[0m\u001b[0;34m\u001b[0m\u001b[0m\n\u001b[1;32m    116\u001b[0m                     \u001b[0;32mif\u001b[0m \u001b[0mt\u001b[0m \u001b[0;32mnot\u001b[0m \u001b[0;32min\u001b[0m \u001b[0mself\u001b[0m\u001b[0;34m.\u001b[0m\u001b[0mflatten_measure_timeset\u001b[0m\u001b[0;34m[\u001b[0m\u001b[0mi\u001b[0m\u001b[0;34m]\u001b[0m\u001b[0;34m:\u001b[0m\u001b[0;34m\u001b[0m\u001b[0;34m\u001b[0m\u001b[0m\n\u001b[0;32m--> 117\u001b[0;31m                         \u001b[0;32mraise\u001b[0m \u001b[0mValueError\u001b[0m\u001b[0;34m(\u001b[0m\u001b[0;34m'The time of '\u001b[0m\u001b[0;34m,\u001b[0m \u001b[0mt\u001b[0m\u001b[0;34m,\u001b[0m \u001b[0;34m' is not included as measurements before.'\u001b[0m\u001b[0;34m)\u001b[0m\u001b[0;34m\u001b[0m\u001b[0;34m\u001b[0m\u001b[0m\n\u001b[0m\u001b[1;32m    118\u001b[0m \u001b[0;34m\u001b[0m\u001b[0m\n\u001b[1;32m    119\u001b[0m \u001b[0;34m\u001b[0m\u001b[0m\n",
      "\u001b[0;31mValueError\u001b[0m: ('The time of ', 0.125, ' is not included as measurements before.')"
     ]
    }
   ],
   "source": [
    "# a legal subset\n",
    "subset_1 = {'C':{\"CA\": t_measure_cb}}\n",
    "measure_class.check_subset(subset_1)\n",
    "\n",
    "# an illegal subset with wrong time \n",
    "subset_2 = {'C':{\"CB\": t_measure_cc}}\n",
    "measure_class.check_subset(subset_2)"
   ]
  },
  {
   "cell_type": "code",
   "execution_count": null,
   "id": "d8da8a46",
   "metadata": {},
   "outputs": [],
   "source": []
  }
 ],
 "metadata": {
  "kernelspec": {
   "display_name": "Python 3 (ipykernel)",
   "language": "python",
   "name": "python3"
  },
  "language_info": {
   "codemirror_mode": {
    "name": "ipython",
    "version": 3
   },
   "file_extension": ".py",
   "mimetype": "text/x-python",
   "name": "python",
   "nbconvert_exporter": "python",
   "pygments_lexer": "ipython3",
   "version": "3.9.6"
  }
 },
 "nbformat": 4,
 "nbformat_minor": 5
}
