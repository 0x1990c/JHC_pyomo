{
 "cells": [
  {
   "cell_type": "code",
   "execution_count": 1,
   "id": "0b2c38c4",
   "metadata": {},
   "outputs": [],
   "source": [
    "from pyomo.environ import *\n",
    "from pyomo.dae import *\n",
    "import numpy as np\n",
    "import pandas as pd \n",
    "from itertools import permutations, product, combinations\n",
    "\n",
    "from fim_doe import *"
   ]
  },
  {
   "cell_type": "markdown",
   "id": "f92ab36e",
   "metadata": {},
   "source": [
    "## Measurements class"
   ]
  },
  {
   "cell_type": "code",
   "execution_count": 12,
   "id": "e3d864c9",
   "metadata": {},
   "outputs": [],
   "source": [
    "# generate a set of measurements with extra index CA, CB, CC\n",
    "# each extra index has different measure time points\n",
    "t_measure_ca = [0, 0.125, 0.25, 0.375, 0.5, 0.625, 0.75, 0.875, 1]\n",
    "t_measure_cb = [0, 0.25, 0.5, 0.75, 1]\n",
    "t_measure_cc = [0, 0.125, 0.375, 0.625, 0.875, 1]\n",
    "measure_pass = {'C':{\"CA\": t_measure_ca, \"CB\": t_measure_cb, \"CC\": t_measure_cc}}\n",
    "var = {'C':{'CA': 5, 'CB': 2, 'CC': 1}}"
   ]
  },
  {
   "cell_type": "code",
   "execution_count": 13,
   "id": "543a3607",
   "metadata": {},
   "outputs": [
    {
     "name": "stdout",
     "output_type": "stream",
     "text": [
      "C\n",
      "CA\n",
      "<class 'str'>\n",
      "C\n",
      "CB\n",
      "<class 'str'>\n",
      "C\n",
      "CC\n",
      "<class 'str'>\n",
      "All measurements are flattened.\n",
      "Flatten measurement name: ['C_index_CA', 'C_index_CB', 'C_index_CC']\n",
      "Flatten measurement variance: {'C_index_CA': 5, 'C_index_CB': 2, 'C_index_CC': 1}\n"
     ]
    }
   ],
   "source": [
    "measure_class = Measurements(measure_pass, variance=var)\n"
   ]
  },
  {
   "cell_type": "code",
   "execution_count": 18,
   "id": "1f4ba898",
   "metadata": {},
   "outputs": [
    {
     "name": "stdout",
     "output_type": "stream",
     "text": [
      "['C_index_CA', 'C_index_CB', 'C_index_CC']\n",
      "{'C_index_CA': 5, 'C_index_CB': 2, 'C_index_CC': 1}\n",
      "[0, 0.25, 0.5, 0.75, 1]\n"
     ]
    }
   ],
   "source": [
    "print(measure_class.flatten_measure_name)\n",
    "print(measure_class.flatten_variance)\n",
    "print(measure_class.flatten_measure_timeset['C_index_CB'])"
   ]
  },
  {
   "cell_type": "code",
   "execution_count": 19,
   "id": "8127e8d1",
   "metadata": {},
   "outputs": [
    {
     "name": "stdout",
     "output_type": "stream",
     "text": [
      "All measurements are flattened.\n",
      "Flatten measurement name: ['C_index_CA']\n",
      "Flatten measurement variance: {'C_index_CA': 1}\n"
     ]
    },
    {
     "data": {
      "text/plain": [
       "True"
      ]
     },
     "execution_count": 19,
     "metadata": {},
     "output_type": "execute_result"
    }
   ],
   "source": [
    "# a legal subset\n",
    "subset_1 = {'C':{'CA': t_measure_cb}}\n",
    "measure_subclass1 = Measurements(subset_1)\n",
    "measure_class.check_subset(measure_subclass1)\n",
    "\n",
    "# an illegal subset with wrong time\n",
    "# Expect error: ('The time of ', 0.125, ' is not included as measurements before.')\n",
    "#subset_2 = {'C':{\"CB\": t_measure_cc}}\n",
    "#measure_subclass2 = Measurements(subset_2)\n",
    "#dd = measure_class.check_subset(measure_subclass2)"
   ]
  },
  {
   "cell_type": "markdown",
   "id": "89acf4d0",
   "metadata": {},
   "source": []
  },
  {
   "cell_type": "markdown",
   "id": "02a9e508",
   "metadata": {},
   "source": [
    "## Scenario class"
   ]
  },
  {
   "cell_type": "code",
   "execution_count": 28,
   "id": "7927f5f7",
   "metadata": {},
   "outputs": [
    {
     "name": "stdout",
     "output_type": "stream",
     "text": [
      "{0: 93.26900000000002, 1: 84.79, 2: 84.79, 3: 84.79, 4: 76.311, 5: 84.79, 6: 84.79, 7: 84.79}\n",
      "{'A1': [0, 4], 'A2': [1, 5], 'E1': [2, 6], 'E2': [3, 7]}\n",
      "[0, 1, 2, 3, 4, 5, 6, 7]\n",
      "{'A1': 16.958000000000002, 'A2': 74.34400000000001, 'E1': 1.556, 'E2': 3.0100000000000002}\n"
     ]
    }
   ],
   "source": [
    "param_dict = {'A1': 84.79, 'A2': 371.72, 'E1': 7.78, 'E2': 15.05}\n",
    "\n",
    "scenario_gene = Scenario_generator(param_dict, formula='central', step=0.1)\n",
    "simultaneous_set = scenario_gene.simultaneous_scenario()\n",
    "#print(simultaneous_set)\n",
    "print(simultaneous_set['A1'])\n",
    "print(simultaneous_set['jac-index'])\n",
    "print(simultaneous_set['scena-name'])\n",
    "print(simultaneous_set['eps-abs'])"
   ]
  },
  {
   "cell_type": "code",
   "execution_count": 32,
   "id": "16e8e07c",
   "metadata": {},
   "outputs": [
    {
     "name": "stdout",
     "output_type": "stream",
     "text": [
      "{'A1': 16.958000000000002, 'A2': 74.34400000000001, 'E1': 1.556, 'E2': 3.0100000000000002}\n",
      "{'A1': [0, 4], 'A2': [1, 5], 'E1': [2, 6], 'E2': [3, 7]}\n",
      "{'A1': {0: 84.79}, 'A2': {0: 371.72}, 'E1': {0: 8.558000000000002}, 'E2': {0: 15.05}, 'jac-index': {'A1': [0], 'A2': [0], 'E1': [0], 'E2': [0]}, 'eps-abs': {'A1': 8.479000000000001, 'A2': 37.172000000000004, 'E1': 0.8558000000000002, 'E2': 1.5050000000000001}, 'scena-name': [0]}\n"
     ]
    }
   ],
   "source": [
    "scenario_gene.generate_sequential_para()\n",
    "print(scenario_gene.eps_abs)\n",
    "print(scenario_gene.scenario_para)\n",
    "\n",
    "for i in range(8):\n",
    "    ss_next = scenario_gene.next_sequential_scenario(i)\n",
    "\n",
    "print(scenario_gene.next_sequential_scenario(2))"
   ]
  },
  {
   "cell_type": "code",
   "execution_count": null,
   "id": "faa2eb36",
   "metadata": {},
   "outputs": [],
   "source": []
  }
 ],
 "metadata": {
  "kernelspec": {
   "display_name": "Python 3 (ipykernel)",
   "language": "python",
   "name": "python3"
  },
  "language_info": {
   "codemirror_mode": {
    "name": "ipython",
    "version": 3
   },
   "file_extension": ".py",
   "mimetype": "text/x-python",
   "name": "python",
   "nbconvert_exporter": "python",
   "pygments_lexer": "ipython3",
   "version": "3.7.11"
  }
 },
 "nbformat": 4,
 "nbformat_minor": 5
}
