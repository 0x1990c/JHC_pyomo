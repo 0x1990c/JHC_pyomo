{
 "cells": [
  {
   "cell_type": "code",
   "execution_count": 1,
   "id": "0b2c38c4",
   "metadata": {},
   "outputs": [],
   "source": [
    "import matplotlib.pyplot as plt\n",
    "from pyomo.environ import *\n",
    "from pyomo.dae import *\n",
    "\n",
    "import numpy as np\n",
    "from scipy.interpolate import interp2d\n",
    "import pandas as pd \n",
    "from itertools import permutations, product, combinations\n",
    "\n",
    "from fim_doe import *\n",
    "from pyomo.contrib.sensitivity_toolbox.sens import sipopt"
   ]
  },
  {
   "cell_type": "markdown",
   "id": "f92ab36e",
   "metadata": {},
   "source": [
    "## Measurements class"
   ]
  },
  {
   "cell_type": "code",
   "execution_count": 2,
   "id": "e3d864c9",
   "metadata": {},
   "outputs": [],
   "source": [
    "# generate a set of measurements with extra index CA, CB, CC\n",
    "# each extra index has different measure time points\n",
    "t_measure_ca = [0, 0.125, 0.25, 0.375, 0.5, 0.625, 0.75, 0.875, 1]\n",
    "t_measure_cb = [0, 0.25, 0.5, 0.75, 1]\n",
    "t_measure_cc = [0, 0.125, 0.375, 0.625, 0.875, 1]\n",
    "measure_pass = {'C':{\"CA\": t_measure_ca, \"CB\": t_measure_cb, \"CC\": t_measure_cc}}\n"
   ]
  },
  {
   "cell_type": "code",
   "execution_count": 3,
   "id": "543a3607",
   "metadata": {},
   "outputs": [
    {
     "name": "stdout",
     "output_type": "stream",
     "text": [
      "All measurements are flattened.\n",
      "Flatten measurement name: ['C_index_CA', 'C_index_CB', 'C_index_CC']\n",
      "Flatten measurement timeset: {'C_index_CA': [0, 0.125, 0.25, 0.375, 0.5, 0.625, 0.75, 0.875, 1], 'C_index_CB': [0, 0.25, 0.5, 0.75, 1], 'C_index_CC': [0, 0.125, 0.375, 0.625, 0.875, 1]}\n"
     ]
    }
   ],
   "source": [
    "measure_class = Measurements(measure_pass)\n"
   ]
  },
  {
   "cell_type": "code",
   "execution_count": 4,
   "id": "8127e8d1",
   "metadata": {},
   "outputs": [
    {
     "name": "stdout",
     "output_type": "stream",
     "text": [
      "All measurements are flattened.\n",
      "Flatten measurement name: ['C_index_CA']\n",
      "Flatten measurement timeset: {'C_index_CA': [0, 0.25, 0.5, 0.75, 1]}\n",
      "All measurements are flattened.\n",
      "Flatten measurement name: ['C_index_CB']\n",
      "Flatten measurement timeset: {'C_index_CB': [0, 0.125, 0.375, 0.625, 0.875, 1]}\n"
     ]
    },
    {
     "ename": "ValueError",
     "evalue": "('The time of ', 0.125, ' is not included as measurements before.')",
     "output_type": "error",
     "traceback": [
      "\u001b[0;31m---------------------------------------------------------------------------\u001b[0m",
      "\u001b[0;31mValueError\u001b[0m                                Traceback (most recent call last)",
      "\u001b[0;32m/var/folders/cn/dbk7vfw51_g_gb8jqhz4j3ph0000gn/T/ipykernel_20705/244211099.py\u001b[0m in \u001b[0;36m<module>\u001b[0;34m\u001b[0m\n\u001b[1;32m      8\u001b[0m \u001b[0msubset_2\u001b[0m \u001b[0;34m=\u001b[0m \u001b[0;34m{\u001b[0m\u001b[0;34m'C'\u001b[0m\u001b[0;34m:\u001b[0m\u001b[0;34m{\u001b[0m\u001b[0;34m\"CB\"\u001b[0m\u001b[0;34m:\u001b[0m \u001b[0mt_measure_cc\u001b[0m\u001b[0;34m}\u001b[0m\u001b[0;34m}\u001b[0m\u001b[0;34m\u001b[0m\u001b[0;34m\u001b[0m\u001b[0m\n\u001b[1;32m      9\u001b[0m \u001b[0mmeasure_subclass2\u001b[0m \u001b[0;34m=\u001b[0m \u001b[0mMeasurements\u001b[0m\u001b[0;34m(\u001b[0m\u001b[0msubset_2\u001b[0m\u001b[0;34m)\u001b[0m\u001b[0;34m\u001b[0m\u001b[0;34m\u001b[0m\u001b[0m\n\u001b[0;32m---> 10\u001b[0;31m \u001b[0mmeasure_class\u001b[0m\u001b[0;34m.\u001b[0m\u001b[0mcheck_subset\u001b[0m\u001b[0;34m(\u001b[0m\u001b[0mmeasure_subclass2\u001b[0m\u001b[0;34m)\u001b[0m\u001b[0;34m\u001b[0m\u001b[0;34m\u001b[0m\u001b[0m\n\u001b[0m",
      "\u001b[0;32m~/pyomo/pyomo/contrib/doe/fim_doe.py\u001b[0m in \u001b[0;36mcheck_subset\u001b[0;34m(self, subset, throw_error)\u001b[0m\n\u001b[1;32m    122\u001b[0m                     \u001b[0;32mif\u001b[0m \u001b[0mt\u001b[0m \u001b[0;32mnot\u001b[0m \u001b[0;32min\u001b[0m \u001b[0mself\u001b[0m\u001b[0;34m.\u001b[0m\u001b[0mflatten_measure_timeset\u001b[0m\u001b[0;34m[\u001b[0m\u001b[0mi\u001b[0m\u001b[0;34m]\u001b[0m\u001b[0;34m:\u001b[0m\u001b[0;34m\u001b[0m\u001b[0;34m\u001b[0m\u001b[0m\n\u001b[1;32m    123\u001b[0m                         \u001b[0;32mif\u001b[0m \u001b[0mthrow_error\u001b[0m\u001b[0;34m:\u001b[0m\u001b[0;34m\u001b[0m\u001b[0;34m\u001b[0m\u001b[0m\n\u001b[0;32m--> 124\u001b[0;31m                             \u001b[0;32mraise\u001b[0m \u001b[0mValueError\u001b[0m\u001b[0;34m(\u001b[0m\u001b[0;34m'The time of '\u001b[0m\u001b[0;34m,\u001b[0m \u001b[0mt\u001b[0m\u001b[0;34m,\u001b[0m \u001b[0;34m' is not included as measurements before.'\u001b[0m\u001b[0;34m)\u001b[0m\u001b[0;34m\u001b[0m\u001b[0;34m\u001b[0m\u001b[0m\n\u001b[0m\u001b[1;32m    125\u001b[0m \u001b[0;34m\u001b[0m\u001b[0m\n\u001b[1;32m    126\u001b[0m \u001b[0;34m\u001b[0m\u001b[0m\n",
      "\u001b[0;31mValueError\u001b[0m: ('The time of ', 0.125, ' is not included as measurements before.')"
     ]
    }
   ],
   "source": [
    "# a legal subset\n",
    "subset_1 = {'C':{\"CA\": t_measure_cb}}\n",
    "measure_subclass1 = Measurements(subset_1)\n",
    "measure_class.check_subset(measure_subclass1)\n",
    "\n",
    "# an illegal subset with wrong time\n",
    "# Expect error: ('The time of ', 0.125, ' is not included as measurements before.')\n",
    "subset_2 = {'C':{\"CB\": t_measure_cc}}\n",
    "measure_subclass2 = Measurements(subset_2)\n",
    "measure_class.check_subset(measure_subclass2)"
   ]
  },
  {
   "cell_type": "markdown",
   "id": "89acf4d0",
   "metadata": {},
   "source": []
  },
  {
   "cell_type": "markdown",
   "id": "02a9e508",
   "metadata": {},
   "source": [
    "## Scenario class"
   ]
  },
  {
   "cell_type": "code",
   "execution_count": 5,
   "id": "7927f5f7",
   "metadata": {},
   "outputs": [
    {
     "name": "stdout",
     "output_type": "stream",
     "text": [
      "{'A1': {0: 84.87478999999999, 1: 84.79, 2: 84.79, 3: 84.79, 4: 84.70521000000001, 5: 84.79, 6: 84.79, 7: 84.79}, 'A2': {0: 371.72, 1: 372.09172, 2: 371.72, 3: 371.72, 4: 371.72, 5: 371.34828000000005, 6: 371.72, 7: 371.72}, 'E1': {0: 7.78, 1: 7.78, 2: 7.78778, 3: 7.78, 4: 7.78, 5: 7.78, 6: 7.77222, 7: 7.78}, 'E2': {0: 15.05, 1: 15.05, 2: 15.05, 3: 15.06505, 4: 15.05, 5: 15.05, 6: 15.05, 7: 15.03495}, 'jac-index': {'A1': [0, 4], 'A2': [1, 5], 'E1': [2, 6], 'E2': [3, 7]}, 'eps-abs': {'A1': 0.16958, 'A2': 0.7434400000000001, 'E1': 0.015560000000000001, 'E2': 0.030100000000000002}, 'scena-name': [0, 1, 2, 3, 4, 5, 6, 7]}\n"
     ]
    }
   ],
   "source": [
    "param_dict = {'A1': 84.79, 'A2': 371.72, 'E1': 7.78, 'E2': 15.05}\n",
    "\n",
    "scenario_gene = Scenario_generator(param_dict)\n",
    "simultaneous_set = scenario_gene.simultaneous_scenario()\n",
    "print(simultaneous_set)"
   ]
  },
  {
   "cell_type": "code",
   "execution_count": 9,
   "id": "16e8e07c",
   "metadata": {},
   "outputs": [
    {
     "name": "stdout",
     "output_type": "stream",
     "text": [
      "{'A1': 0.16958, 'A2': 0.7434400000000001, 'E1': 0.015560000000000001, 'E2': 0.030100000000000002}\n",
      "{'A1': [0, 4], 'A2': [1, 5], 'E1': [2, 6], 'E2': [3, 7]}\n",
      "{'A1': {0: 84.87478999999999}, 'A2': {0: 371.72}, 'E1': {0: 7.78}, 'E2': {0: 15.05}, 'jac-index': {'A1': [0], 'A2': [0], 'E1': [0], 'E2': [0]}, 'eps-abs': {'A1': 0.08487478999999999, 'A2': 0.37172000000000005, 'E1': 0.0077800000000000005, 'E2': 0.015050000000000001}, 'scena-name': [0]}\n",
      "{'A1': {0: 84.79}, 'A2': {0: 372.09172}, 'E1': {0: 7.78}, 'E2': {0: 15.05}, 'jac-index': {'A1': [0], 'A2': [0], 'E1': [0], 'E2': [0]}, 'eps-abs': {'A1': 0.08479, 'A2': 0.37209172, 'E1': 0.0077800000000000005, 'E2': 0.015050000000000001}, 'scena-name': [0]}\n",
      "{'A1': {0: 84.79}, 'A2': {0: 371.72}, 'E1': {0: 7.78778}, 'E2': {0: 15.05}, 'jac-index': {'A1': [0], 'A2': [0], 'E1': [0], 'E2': [0]}, 'eps-abs': {'A1': 0.08479, 'A2': 0.37172000000000005, 'E1': 0.00778778, 'E2': 0.015050000000000001}, 'scena-name': [0]}\n",
      "{'A1': {0: 84.79}, 'A2': {0: 371.72}, 'E1': {0: 7.78}, 'E2': {0: 15.06505}, 'jac-index': {'A1': [0], 'A2': [0], 'E1': [0], 'E2': [0]}, 'eps-abs': {'A1': 0.08479, 'A2': 0.37172000000000005, 'E1': 0.0077800000000000005, 'E2': 0.01506505}, 'scena-name': [0]}\n",
      "{'A1': {0: 84.70521000000001}, 'A2': {0: 371.72}, 'E1': {0: 7.78}, 'E2': {0: 15.05}, 'jac-index': {'A1': [0], 'A2': [0], 'E1': [0], 'E2': [0]}, 'eps-abs': {'A1': 0.08470521, 'A2': 0.37172000000000005, 'E1': 0.0077800000000000005, 'E2': 0.015050000000000001}, 'scena-name': [0]}\n",
      "{'A1': {0: 84.79}, 'A2': {0: 371.34828000000005}, 'E1': {0: 7.78}, 'E2': {0: 15.05}, 'jac-index': {'A1': [0], 'A2': [0], 'E1': [0], 'E2': [0]}, 'eps-abs': {'A1': 0.08479, 'A2': 0.37134828000000003, 'E1': 0.0077800000000000005, 'E2': 0.015050000000000001}, 'scena-name': [0]}\n",
      "{'A1': {0: 84.79}, 'A2': {0: 371.72}, 'E1': {0: 7.77222}, 'E2': {0: 15.05}, 'jac-index': {'A1': [0], 'A2': [0], 'E1': [0], 'E2': [0]}, 'eps-abs': {'A1': 0.08479, 'A2': 0.37172000000000005, 'E1': 0.00777222, 'E2': 0.015050000000000001}, 'scena-name': [0]}\n",
      "{'A1': {0: 84.79}, 'A2': {0: 371.72}, 'E1': {0: 7.78}, 'E2': {0: 15.03495}, 'jac-index': {'A1': [0], 'A2': [0], 'E1': [0], 'E2': [0]}, 'eps-abs': {'A1': 0.08479, 'A2': 0.37172000000000005, 'E1': 0.0077800000000000005, 'E2': 0.01503495}, 'scena-name': [0]}\n"
     ]
    }
   ],
   "source": [
    "scenario_gene.generate_sequential_para()\n",
    "print(scenario_gene.eps_abs)\n",
    "print(scenario_gene.scenario_para)\n",
    "\n",
    "for i in range(8):\n",
    "    ss_next = scenario_gene.next_sequential_scenario(i)\n",
    "    print(ss_next)"
   ]
  },
  {
   "cell_type": "markdown",
   "id": "f1a157b3",
   "metadata": {},
   "source": [
    "## Regression tests"
   ]
  },
  {
   "cell_type": "markdown",
   "id": "23af09d5",
   "metadata": {},
   "source": []
  }
 ],
 "metadata": {
  "kernelspec": {
   "display_name": "Python 3 (ipykernel)",
   "language": "python",
   "name": "python3"
  },
  "language_info": {
   "codemirror_mode": {
    "name": "ipython",
    "version": 3
   },
   "file_extension": ".py",
   "mimetype": "text/x-python",
   "name": "python",
   "nbconvert_exporter": "python",
   "pygments_lexer": "ipython3",
   "version": "3.9.6"
  }
 },
 "nbformat": 4,
 "nbformat_minor": 5
}
