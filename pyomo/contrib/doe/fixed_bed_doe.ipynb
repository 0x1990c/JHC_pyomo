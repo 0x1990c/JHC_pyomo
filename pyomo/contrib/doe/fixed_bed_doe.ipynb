{
 "cells": [
  {
   "cell_type": "code",
   "execution_count": 1,
   "id": "940d1fa5",
   "metadata": {},
   "outputs": [],
   "source": [
    "import matplotlib.pyplot as plt\n",
    "from pyomo.environ import *\n",
    "from pyomo.dae import *\n",
    "\n",
    "import numpy as np\n",
    "from scipy.interpolate import interp2d\n",
    "import pandas as pd \n",
    "from itertools import permutations, product, combinations\n",
    "\n",
    "from fim_doe import *\n",
    "from pyomo.contrib.sensitivity_toolbox.sens import sipopt"
   ]
  },
  {
   "cell_type": "markdown",
   "id": "459aa691",
   "metadata": {},
   "source": [
    "## Define fixed bed model "
   ]
  },
  {
   "cell_type": "code",
   "execution_count": 2,
   "id": "3186b934",
   "metadata": {},
   "outputs": [
    {
     "name": "stdout",
     "output_type": "stream",
     "text": [
      "alpha option:\n",
      "1 / (1 + exp(-x))\n",
      "WARNING: DEPRECATED: The pyomo.core.kernel.component_set module is deprecated.\n",
      "    Import ComponentSet from pyomo.common.collections.  (deprecated in 5.7.1)\n",
      "    (called from <frozen importlib._bootstrap>:228)\n"
     ]
    }
   ],
   "source": [
    "from fixed_bed_model_indexed_dynamic import *"
   ]
  },
  {
   "cell_type": "code",
   "execution_count": 3,
   "id": "9194ace2",
   "metadata": {},
   "outputs": [],
   "source": [
    "def add_model(doe, timepoints, time_start=0):\n",
    "    '''\n",
    "    add variables, equations and discretize the model time\n",
    "    Argument:\n",
    "        timepoints: the timesteps\n",
    "        time_start: where the timesteps start. For self defined timepoints it's 0. For experimental data it's -10.\n",
    "    '''\n",
    "    add_variables(doe, timesteps=timepoints, start=time_start)\n",
    "    \n",
    "    add_equations(doe)\n",
    "    \n",
    "    print ('the number of timepoints is', NFEt)\n",
    "    \n",
    "def discretize(doe, no_points=68, collo=False):\n",
    "    '''\n",
    "    no_points: how many time invertals to divide. For self defined timepoints it's 69. For experimental data it's 68. \n",
    "    here it's 68\n",
    "    '''\n",
    "    if collo:\n",
    "        TransformationFactory('dae.collocation').apply_to(doe, nfe=no_points, ncp=3, scheme='LAGRANGE-RADAU', wrt=doe.t)\n",
    "    else:\n",
    "        TransformationFactory('dae.finite_difference').apply_to(doe, nfe=no_points, scheme='BACKWARD', wrt=doe.t)\n",
    "    \n",
    "    \n",
    "def initialize(doe, init_point):\n",
    "    '''\n",
    "    Argument: \n",
    "        init_point: initial point, csv file\n",
    "    '''\n",
    "    # Initialize \n",
    "    print('The init point is', init_point)    \n",
    "    store = pd.read_csv(init_point)\n",
    "    position_max = store['position'].max()\n",
    "    store['position'] = store['position'] / position_max\n",
    "\n",
    "    initial_bed_csv(doe, store)\n",
    "    fix_initial_bed(doe)\n",
    "    \n",
    "def generate_exp(feed, bath, y):\n",
    "    dv_dict_overall = {'temp_feed': {0: feed}, 'temp_bath': {0:bath}, 'yfeed': {0: y}}\n",
    "    return dv_dict_overall"
   ]
  },
  {
   "cell_type": "code",
   "execution_count": 4,
   "id": "f0dc7a42",
   "metadata": {},
   "outputs": [],
   "source": [
    "NFEt = 68\n",
    "time_scale = 3200\n",
    "collo = False\n",
    "exp_time_ = time_points(NFEt, time_scale)\n",
    "\n",
    "scena_all = {'scena-name': [0], 'fitted_transport_coefficient':212, 'ua': np.log(5.0E6)}\n",
    "\n",
    "#initialize_point = '/Users/wangjialu/dowlinglab/sorption-fixed-bed/20200729_energy.csv'\n",
    "initialize_point = '2021oct8_f313_b313_y15_5e6.csv'\n",
    "#initialize_point = './priors/20210916_feed313_bath293.csv'\n",
    "#init_point = '/Users/wangjialu/dowlinglab/sorption-fixed-bed/fixed_bed_initial/T353y20_5e3.csv'\n",
    "#initialize_point = './priors/20210916_feed313_bath293_5e3.csv'\n",
    "#init_point = 'init_test.csv'\n",
    "#init_point = 'T353y20_5e3.csv'"
   ]
  },
  {
   "cell_type": "code",
   "execution_count": 5,
   "id": "a7f8e4a2",
   "metadata": {},
   "outputs": [],
   "source": [
    "def model_integrate(scena, args_list, exp_time=exp_time_, init_point=initialize_point):\n",
    "    test = create_model(scena, temp_feed=293.15, temp_bath=293.15, y=0.4, doe_model=args_list[0], k_aug=args_list[1], opt=False, diff=0)\n",
    "    add_model(test, exp_time)\n",
    "    discretize(test)\n",
    "    initialize(test, init_point)\n",
    "    return test\n"
   ]
  },
  {
   "cell_type": "code",
   "execution_count": 6,
   "id": "d03b6e85",
   "metadata": {},
   "outputs": [],
   "source": [
    "# choose from model and k_aug \n",
    "model_opt = 'doe'\n",
    "\n",
    "if (model_opt == 'doe'):\n",
    "    args_ = [True, False]\n",
    "    \n",
    "elif (model_opt =='kaug'):\n",
    "    args_ = [True, True]\n",
    "    \n",
    "\n",
    "parameter_dict = {'fitted_transport_coefficient':212, 'ua': np.log(5.0E6)}\n",
    "\n",
    "#dv_pass = {'temp_feed': [0], 'temp_bath':[0], 'yfeed': [0]}\n",
    "#dv_pass = {'temp_feed': None, 'temp_bath':None , 'yfeed': None}\n",
    "dv_pass = {'temp_feed': None, 'yfeed': None}\n",
    "\n",
    "measurement = ['FCO2', 'temp']\n",
    "measurement_extra = {'FCO2': [19], 'temp': [10, 19]}\n",
    "\n",
    "t_measure = exp_time_\n",
    "measurement_pass = {'FCO2': t_measure, 'temp': t_measure}"
   ]
  },
  {
   "cell_type": "code",
   "execution_count": 7,
   "id": "0d155ff6",
   "metadata": {},
   "outputs": [
    {
     "name": "stdout",
     "output_type": "stream",
     "text": [
      "The prior information FIM: [[0. 0.]\n",
      " [0. 0.]]\n",
      "Prior Det: 0.0\n",
      "Eigenvalue of the prior experiments FIM: [0. 0.]\n",
      "Eigenvalue of the prior experiments FIM: [[1. 0.]\n",
      " [0. 1.]]\n"
     ]
    }
   ],
   "source": [
    "# empty prior\n",
    "prior_all = np.zeros((2,2))\n",
    "\n",
    "prior_pass=np.asarray(prior_all)\n",
    "\n",
    "#L_initials = np.linalg.cholesky(prior_pass)\n",
    "#print(L_initials)\n",
    "\n",
    "print('The prior information FIM:', prior_pass)\n",
    "print('Prior Det:', np.linalg.det(prior_pass))\n",
    "print('Eigenvalue of the prior experiments FIM:', np.linalg.eigvals(prior_pass))\n",
    "print('Eigenvalue of the prior experiments FIM:', np.linalg.eigh(prior_pass)[1])"
   ]
  },
  {
   "cell_type": "code",
   "execution_count": 8,
   "id": "34639418",
   "metadata": {},
   "outputs": [
    {
     "ename": "NameError",
     "evalue": "name 'jac_init_1' is not defined",
     "output_type": "error",
     "traceback": [
      "\u001b[0;31m---------------------------------------------------------------------------\u001b[0m",
      "\u001b[0;31mNameError\u001b[0m                                 Traceback (most recent call last)",
      "\u001b[0;32m/var/folders/cn/dbk7vfw51_g_gb8jqhz4j3ph0000gn/T/ipykernel_42078/1430524320.py\u001b[0m in \u001b[0;36m<module>\u001b[0;34m\u001b[0m\n\u001b[1;32m      6\u001b[0m \u001b[0;31m#f2.close()\u001b[0m\u001b[0;34m\u001b[0m\u001b[0;34m\u001b[0m\u001b[0;34m\u001b[0m\u001b[0m\n\u001b[1;32m      7\u001b[0m \u001b[0;34m\u001b[0m\u001b[0m\n\u001b[0;32m----> 8\u001b[0;31m \u001b[0mjac_init\u001b[0m \u001b[0;34m=\u001b[0m \u001b[0mjac_init_1\u001b[0m\u001b[0;34m.\u001b[0m\u001b[0mcopy\u001b[0m\u001b[0;34m(\u001b[0m\u001b[0;34m)\u001b[0m\u001b[0;34m\u001b[0m\u001b[0;34m\u001b[0m\u001b[0m\n\u001b[0m\u001b[1;32m      9\u001b[0m \u001b[0;34m\u001b[0m\u001b[0m\n\u001b[1;32m     10\u001b[0m \u001b[0ml_init\u001b[0m \u001b[0;34m=\u001b[0m \u001b[0mnp\u001b[0m\u001b[0;34m.\u001b[0m\u001b[0mlinalg\u001b[0m\u001b[0;34m.\u001b[0m\u001b[0mcholesky\u001b[0m\u001b[0;34m(\u001b[0m\u001b[0mfim_init\u001b[0m\u001b[0;34m)\u001b[0m\u001b[0;34m\u001b[0m\u001b[0;34m\u001b[0m\u001b[0m\n",
      "\u001b[0;31mNameError\u001b[0m: name 'jac_init_1' is not defined"
     ]
    }
   ],
   "source": [
    "fim_init = [[0.0029331 , 0.01236752],\n",
    " [0.01236752 , 0.71783208]]\n",
    "\n",
    "#f2 = open('jac_initial', 'rb')\n",
    "#jac_init = pickle.load(f2)\n",
    "#f2.close()\n",
    "\n",
    "jac_init = jac_init_1.copy()\n",
    "    \n",
    "l_init = np.linalg.cholesky(fim_init)\n",
    "print(l_init)"
   ]
  },
  {
   "cell_type": "code",
   "execution_count": null,
   "id": "6f73babe",
   "metadata": {},
   "outputs": [],
   "source": [
    "import os\n",
    "\n",
    "scores = {} # scores is an empty dict already\n",
    "target='jac_initial'\n",
    "if os.path.getsize(target) > 0:      \n",
    "    with open(target, \"rb\") as f:\n",
    "        unpickler = pickle.Unpickler(f)\n",
    "        # if file is not empty scores will be equal\n",
    "        # to the value unpickled\n",
    "        scores = unpickler.load()\n",
    "        \n",
    "print(scores)"
   ]
  },
  {
   "cell_type": "markdown",
   "id": "b1879150",
   "metadata": {},
   "source": [
    "## Compute FIM"
   ]
  },
  {
   "cell_type": "code",
   "execution_count": 9,
   "id": "643d82eb",
   "metadata": {},
   "outputs": [],
   "source": [
    "# choose from 'simultaneous', 'sequential', 'sipopt'\n",
    "#sensi_opt = 'simultaneous_finite'\n",
    "sensi_opt = 'sequential_finite'\n",
    "##sensi_opt = 'sequential_sipopt'\n",
    "#sensi_opt = 'sequential_kaug'\n",
    "#sensi_opt = 'direct_kaug'\n",
    "\n",
    "# feed, bath, y\n",
    "exp1 = generate_exp(313.15, 313.15, 0.15)"
   ]
  },
  {
   "cell_type": "code",
   "execution_count": 10,
   "id": "c0c8cf4a",
   "metadata": {
    "scrolled": true
   },
   "outputs": [
    {
     "name": "stdout",
     "output_type": "stream",
     "text": [
      "The flattend measurements include: ['FCO219', 'temp10', 'temp19']\n",
      "Sensitivity information is scaled by its corresponding parameter nominal value.\n",
      "Existed information has been added.\n",
      "FIM: [[0.00404724 0.02437539]\n",
      " [0.02437539 1.46098048]]\n",
      "Trace: 1.4650277197712835\n",
      "Determinant: 0.005318780601114852\n",
      "Condition number: 401.53102231696545\n",
      "Minimal eigen value: 0.003639539907604128\n",
      "Eigen values: [0.00363954 1.46138818]\n",
      "Eigen vectors: [[-0.99986015 -0.0167236 ]\n",
      " [ 0.0167236  -0.99986015]]\n"
     ]
    }
   ],
   "source": [
    "doe_object = DesignOfExperiments(parameter_dict, dv_pass,\n",
    "                                 measurement_pass, model_integrate,\n",
    "                                prior_FIM=prior_pass, discretize_model=None, args=args_,\n",
    "                                 measurement_extra_index = measurement_extra)\n",
    "\n",
    "if_s = True \n",
    "\n",
    "result = doe_object.compute_FIM(exp1, mode=sensi_opt, FIM_store_name = 'fixed_bed.csv',\n",
    "                               scale_nominal_param_value = if_s, \n",
    "                                store_output = 'store_output', read_output='store_output',\n",
    "                                formula='central')\n",
    "\n",
    "if sensi_opt == 'simultaneous_finite':\n",
    "    result.extract_FIM(doe_object.m, doe_object.design_timeset,\n",
    "                                                          doe_object.square_result, doe_object.obj_opt)\n",
    "else: \n",
    "    result.calculate_FIM(doe_object.jac, doe_object.jac_3D, doe_object.design_values)"
   ]
  },
  {
   "cell_type": "code",
   "execution_count": 11,
   "id": "f047207c",
   "metadata": {},
   "outputs": [
    {
     "name": "stdout",
     "output_type": "stream",
     "text": [
      "69\n",
      "(3, 2, 69)\n"
     ]
    }
   ],
   "source": [
    "#print(doe_object.jac)\n",
    "print(len(doe_object.jac_3D[1,0,:]))\n",
    "print(np.shape(doe_object.jac_3D))"
   ]
  },
  {
   "cell_type": "code",
   "execution_count": 17,
   "id": "ace686af",
   "metadata": {},
   "outputs": [
    {
     "name": "stdout",
     "output_type": "stream",
     "text": [
      "involved flatten name: ['FCO219']\n",
      "jaco is:  {'fitted_transport_coefficient': [0.0, 2.8851074260589715e-06, 1.9723944347480477e-06, 1.4686861445707602e-06, 1.0229848613613733e-06, 7.314660377715014e-07, 4.996871389460808e-07, 4.0994316453398346e-07, 4.3815818501715293e-07, 6.484376665844905e-07, 1.1435784667463453e-06, 1.984432602119898e-06, 3.5359880596472823e-06, 5.8814187598070565e-06, 9.995099028640406e-06, 1.6012306774436185e-05, 2.6283832969671664e-05, 4.116729097431381e-05, 6.541829919411741e-05, 0.00010106550546462194, 0.0001542136722068528, 0.00023550755840240727, 0.0003414869405590033, 0.0005127859134358551, 0.0007002777604217099, 0.0010269927824349961, 0.0013180255485045749, 0.00187403401530656, 0.0022836080917074835, 0.0030830568381401543, 0.0036817257504272644, 0.004562992113627245, 0.005615778646552057, 0.006188758476503723, 0.008249227089723908, 0.007816599431559322, 0.011712748514214333, 0.009300437255135937, 0.016133061789127576, 0.015233164681286054, 0.012283905306963508, 0.00936459581704855, 0.006636286664050277, 0.004179772216523699, 0.0020306461622439376, 0.00019570923863627965, -0.0013360685208810286, -0.002586160358691164, -0.0035815262489601036, -0.004351331816544041, -0.004924826605800028, -0.005330023104417256, -0.005592925316276129, -0.005737130307303245, -0.0057836785877868335, -0.005751066283522788, -0.005655358375670702, -0.005510361008293635, -0.005327824167319569, -0.005117655473368954, -0.004888132499721379, -0.0046461057099246575, -0.004397187368981176, -0.004145924021427966, -0.0038959516416324502, -0.0036501335554224574, -0.0034106818608402307, -0.0031792634481102307, -0.0029570918952642744], 'ua': [0.0, 1.0509171276906575e-07, 1.9068172890808997e-07, 2.7237194948156356e-07, 3.5402784393947877e-07, 4.3478240187380137e-07, 5.147056542135581e-07, 5.933688766870211e-07, 6.706051442703789e-07, 7.458775609131454e-07, 8.190047398883253e-07, 8.89839640956302e-07, 9.575254034395572e-07, 1.0226749959999897e-06, 1.0824798165176005e-06, 1.139490562162483e-06, 1.1850573158747531e-06, 1.2259789718995878e-06, 1.240492208926959e-06, 1.2375619383821809e-06, 1.1821127585641671e-06, 1.0507011038901116e-06, 8.46495247276035e-07, 3.812871189325063e-07, -9.352498459789518e-08, -1.2740908147306287e-06, -2.1559817300269117e-06, -4.556866162370738e-06, -6.063561733119817e-06, -9.987697504394884e-06, -1.2932410308461907e-05, -1.751457468300143e-05, -2.3572705798316843e-05, -2.6755269900936504e-05, -3.943613715536899e-05, -3.771392188380365e-05, -6.166706626852675e-05, -5.0568335458085756e-05, -9.133586622031911e-05, -9.375203298411794e-05, -8.128807331645588e-05, -6.630655772724842e-05, -5.0537974850654865e-05, -3.512702899215181e-05, -2.0803113991163524e-05, -7.986740011359239e-06, 3.122746690745193e-06, 1.2478562510728763e-05, 2.0134640804289616e-05, 2.620747442498572e-05, 3.084870078100266e-05, 3.4225895923986616e-05, 3.650951638269062e-05, 3.7864366379466996e-05, 3.8444340979409957e-05, 3.838949849052642e-05, 3.782475429883747e-05, 3.685967321226391e-05, 3.5588978777173486e-05, 3.409350479467721e-05, 3.244139418802361e-05, 3.068940983563806e-05, 2.8884265419054644e-05, 2.7063916364228335e-05, 2.5258773569958315e-05, 2.3492819174741886e-05, 2.1784619549936046e-05, 2.014838181435552e-05, 1.859899724718228e-05]}\n",
      "Existed information has been added.\n",
      "FIM: [[ 1.75716048e-03 -1.04620117e-05]\n",
      " [-1.04620117e-05  6.39792959e-08]]\n",
      "Trace: 0.0017572244641192902\n",
      "Determinant: 2.968201266544101e-12\n",
      "Condition number: 1040304.0776574855\n",
      "Minimal eigen value: 1.6891434078896674e-09\n",
      "Eigen values: [1.75722277e-03 1.68914341e-09]\n",
      "Eigen vectors: [[ 0.99998228  0.00595383]\n",
      " [-0.00595383  0.99998228]]\n"
     ]
    }
   ],
   "source": [
    "result.calculate_FIM(doe_object.jac, doe_object.jac_3D, doe_object.design_values, jaco_involved_name=['FCO2'], jaco_involved_extra_index=[[19]])\n",
    "\n",
    "\n"
   ]
  },
  {
   "cell_type": "code",
   "execution_count": null,
   "id": "36e3a3ef",
   "metadata": {},
   "outputs": [],
   "source": [
    "print('======Result summary======')\n",
    "print('Four design criteria log10() value:')\n",
    "print('A-optimality:', np.log10(result.trace))\n",
    "print('D-optimality:', np.log10(result.det))\n",
    "print('E-optimality:', np.log10(result.min_eig))\n",
    "print('Modified E-optimality:', np.log10(result.cond))"
   ]
  },
  {
   "cell_type": "code",
   "execution_count": null,
   "id": "5883a050",
   "metadata": {},
   "outputs": [],
   "source": [
    "print(doe_object.dsdp)"
   ]
  },
  {
   "cell_type": "code",
   "execution_count": null,
   "id": "93f1497d",
   "metadata": {},
   "outputs": [],
   "source": [
    "import pickle\n",
    "\n",
    "with open('store_output_botht', 'rb') as f:\n",
    "    data = pickle.load(f)\n",
    "    f.close()\n",
    "print(data)"
   ]
  },
  {
   "cell_type": "code",
   "execution_count": null,
   "id": "2e03ea03",
   "metadata": {},
   "outputs": [],
   "source": [
    "doe_object.models[0]"
   ]
  },
  {
   "cell_type": "code",
   "execution_count": null,
   "id": "15421cd6",
   "metadata": {},
   "outputs": [],
   "source": [
    "breakthrough_modify2(doe_object.models[2])"
   ]
  },
  {
   "cell_type": "code",
   "execution_count": null,
   "id": "406cc948",
   "metadata": {},
   "outputs": [],
   "source": [
    "def breakthrough_modify2(m, file=None, source=\"lab\"):\n",
    "    '''\n",
    "    Draw breakthrough curve of the Pyomo model\n",
    "    \n",
    "    Arguments:\n",
    "        m: Pyomo model\n",
    "        file: when source = 'computer', this is where the computer experimental data is stored. Otherwise, its default is None\n",
    "        source: if computer, it is plotting the computer experiment data. If lab, its comparing the experiments from the lab\n",
    "    \n",
    "    Return: None \n",
    "    \n",
    "    Other: plot\n",
    "    \n",
    "    '''\n",
    "    \n",
    "    \n",
    "    # unit: mol/m3\n",
    "    outlet_den, _, _, _ = extract3d(m, m.C, 'CO2')\n",
    "    \n",
    "    # unit: cm/s\n",
    "    outlet_vel, _, _, _ = extract2d(m, m.v)\n",
    "    \n",
    "    outlet_n2, _, _, _ = extract3d(m, m.C, 'N2')\n",
    "    \n",
    "    model_temp, _,_,_ = extract2d(m,m.temp)\n",
    "    \n",
    "    \n",
    "    T = []\n",
    "    for j in m.t:\n",
    "        T.append(value(j))\n",
    "        t_final = T[-1]\n",
    "        \n",
    "    \n",
    "    if source == \"lab\":\n",
    "        break_wvu = pd.read_csv('/Users/wangjialu/dowlinglab/sorption-fixed-bed/breakthrough_wvu.csv')\n",
    "    \n",
    "        exp = pd.read_csv('/Users/wangjialu/dowlinglab/sorption-fixed-bed/co2_breakthrough.csv')\n",
    "        \n",
    "        data_c1 = exp['FCO2']\n",
    "        data_c = np.asarray(data_c1)\n",
    "        data_t1 = exp['time']  \n",
    "        data_t = np.asarray(data_t1*60+10)\n",
    "        new_data = np.interp(T, data_t, data_c)\n",
    "    \n",
    "        fco2 = []\n",
    "        for t in m.t:\n",
    "            fco2.append(value(m.FCO2[0,19,t]))\n",
    "        \n",
    "        yco2 = []\n",
    "        for i in range(len(fco2)):\n",
    "            yco2.append(fco2[i]/fco2[-1])\n",
    "            \n",
    "        # real value of FCO2. for verification\n",
    "        comp = outlet_den[-1,:]*outlet_vel[-1,:]/(outlet_den[-1, -1]*outlet_vel[-1,-1])\n",
    "    \n",
    "        plt.plot(exp['time']*60, exp['FCO2'],'b.', color='r', label='Experimental data')\n",
    "        #plt.plot(T, outlet_den[-1,:]*outlet_vel[-1,:]/(outlet_den[-1, -1]*outlet_vel[-1,-1]), label='Model prediction')\n",
    "        plt.plot(T, yco2, label='Model prediction')\n",
    "        \n",
    "        plt.xlabel('time [s]')\n",
    "        plt.ylabel('Normalized outlet gas density of CO\\N{SUBSCRIPT TWO} ')\n",
    "        plt.title('Breakthrough curve')\n",
    "        #plt.savefig('break_tr%.fua%.f.png'%(tr,ua))\n",
    "        plt.legend()\n",
    "        plt.show()\n",
    "        \n",
    "    elif source == \"computer\": \n",
    "        \n",
    "        sol = pd.read_csv(file)\n",
    "    \n",
    "        #for i in range(len(time_exp)):    \n",
    "        #    yco2_exp[time_exp[i]] = sol['FCO2'][i]\n",
    "        #    temp_mid_exp[time_exp[i]] = sol['temp_mid'][i]\n",
    "        #    temp_end_exp[time_exp[i]] = sol['temp_end'][i]\n",
    "        \n",
    "        exp_fco2 = np.asarray(sol['FCO2'].values.tolist())\n",
    "        exp_temp_mid = np.asarray(sol['temp_mid'].values.tolist())\n",
    "        exp_temp_end = np.asarray(sol['temp_end'].values.tolist())\n",
    "        \n",
    "        plt.plot(T, exp_fco2/exp_fco2[-1], label = 'Experimental data')\n",
    "        plt.plot(T, outlet_den[-1,:]*outlet_vel[-1,:]/(outlet_den[-1, -1]*outlet_vel[-1,-1]), label='Model prediction')\n",
    "        plt.xlabel('time [s]')\n",
    "        plt.ylabel('Normalized outlet gas density of CO\\N{SUBSCRIPT TWO} ')\n",
    "        plt.title('Breakthrough curve')\n",
    "        #plt.savefig('break_tr%.fua%.f.png'%(tr,ua))\n",
    "        plt.legend()\n",
    "        plt.show()\n",
    "        \n",
    "        \n",
    "        plt.plot(T, exp_temp_mid, label='Experimental data of middle T')\n",
    "        plt.plot(T, model_temp[10,:], label='Model prediction of middle T')\n",
    "        plt.plot(T, exp_temp_end, label='Experimental data of end T')\n",
    "        plt.plot(T, model_temp[19,:], label='Model prediction of end T')\n",
    "        plt.xlabel('time [s]')\n",
    "        plt.ylabel('Temperature [K]')\n",
    "        plt.title('Temperature model prediction and experimental data')\n",
    "        #plt.savefig('break_tr%.fua%.f.png'%(tr,ua))\n",
    "        plt.legend()\n",
    "        plt.show()"
   ]
  },
  {
   "cell_type": "markdown",
   "id": "5d9677e3",
   "metadata": {},
   "source": [
    "## Gradient-based optimization "
   ]
  },
  {
   "cell_type": "code",
   "execution_count": null,
   "id": "5245c36b",
   "metadata": {},
   "outputs": [],
   "source": [
    "# feed, bath, y\n",
    "exp1 = generate_exp(313.15, 293.15, 0.15)\n",
    "\n"
   ]
  },
  {
   "cell_type": "markdown",
   "id": "51aaba31",
   "metadata": {},
   "source": [
    "### Sequential initial solution "
   ]
  },
  {
   "cell_type": "code",
   "execution_count": null,
   "id": "45eca6da",
   "metadata": {},
   "outputs": [],
   "source": [
    "sensi_opt = 'sequential_finite'\n",
    "\n",
    "doe_object = DesignOfExperiments(parameter_dict, dv_pass,\n",
    "                                 measurement, t_measure, model_integrate,\n",
    "                                prior_FIM=prior_pass, discretize_model=None, args=args_,\n",
    "                                 measurement_extra_index = measurement_extra)\n",
    "\n",
    "if_s = True \n",
    "\n",
    "result = doe_object.compute_FIM(exp1, mode=sensi_opt, FIM_store_name = 'fixed_bed.csv',\n",
    "                               scale_nominal_param_value = if_s, \n",
    "                                store_output = 'store_output', read_output=None,\n",
    "                                formula='central')\n",
    "\n",
    "result.calculate_FIM(doe_object.jac, doe_object.design_values)\n"
   ]
  },
  {
   "cell_type": "code",
   "execution_count": null,
   "id": "4ea19fb4",
   "metadata": {},
   "outputs": [],
   "source": [
    "print(doe_object.jac)\n",
    "\n",
    "jac_init = np.zeros((len()))\n",
    "\n",
    "for i, iname in enumerate(measurement):\n",
    "    for j in parameter:\n",
    "        for t in measurement_time:\n",
    "            jac_init[i,j,t] = doe_object.jac[iname][]"
   ]
  },
  {
   "cell_type": "code",
   "execution_count": null,
   "id": "5f307051",
   "metadata": {},
   "outputs": [],
   "source": [
    "fim_init = result.FIM\n",
    "\n",
    "#jac_init = jac_init_1.copy()\n",
    "    \n",
    "l_init = np.linalg.cholesky(fim_init)\n",
    "print(l_init)"
   ]
  },
  {
   "cell_type": "code",
   "execution_count": null,
   "id": "44d47c9a",
   "metadata": {
    "scrolled": true
   },
   "outputs": [],
   "source": [
    "doe_object = DesignOfExperiments(parameter_dict, dv_pass,\n",
    "                                 measurement, t_measure, model_integrate,\n",
    "                                prior_FIM=prior_pass, discretize_model=None, args=args_,\n",
    "                                 measurement_extra_index = measurement_extra)\n",
    "\n",
    "square_result, optimize_result = doe_object.optimize_doe(exp1, if_optimize=True, if_Cholesky=True, \n",
    "                                                         scale_nominal_param_value=True, objective_option='det', \n",
    "                                                         L_initial=l_init, jac_initial=jac_init, fim_initial=fim_init)"
   ]
  },
  {
   "cell_type": "code",
   "execution_count": null,
   "id": "7d0b1974",
   "metadata": {},
   "outputs": [],
   "source": [
    "jac_init_1 = doe_object.analysis_square.jac_extracted.copy()\n",
    "print(type(jac_init_1))\n",
    "print(jac_init_1[0,0,0])\n",
    "\n",
    "print(jac_init_1)\n",
    "\n",
    "fo = open('jac_initial', 'wb')\n",
    "pickle.dump(jac_init_1, fo)\n",
    "fo.close\n",
    "\n"
   ]
  },
  {
   "cell_type": "code",
   "execution_count": null,
   "id": "a289906d",
   "metadata": {},
   "outputs": [],
   "source": [
    "print('======Result summary======')\n",
    "print('This optimization is solved with status:', optimize_result.status)\n",
    "print('It gives solution:', optimize_result.solution)\n",
    "print('The log10(OF) optimized is:', optimize_result.obj_value)\n",
    "print('The result FIM is:', optimize_result.FIM)\n",
    "\n",
    "t_list = []\n",
    "for t in optimize_result.model.t:\n",
    "    t_list.append(t)\n",
    "\n",
    "T_list = []\n",
    "for i in t_list:\n",
    "    T_list.append(value(optimize_result.model.T[i]))\n",
    "\n",
    "si=16\n",
    "plt.rc('axes', titlesize=si)\n",
    "plt.rc('axes', labelsize=si)\n",
    "plt.rc('xtick', labelsize=si)\n",
    "plt.rc('ytick', labelsize=si)\n",
    "plt.rc('legend', fontsize=12)\n",
    "    \n",
    "plt.plot(t_list, T_list, 'b', linewidth=2)\n",
    "#plt.scatter(t_list, T_list, 'b')\n",
    "plt.ylabel('T [$K$]')\n",
    "plt.xlabel('Time [$h$]')\n",
    "plt.show()"
   ]
  },
  {
   "cell_type": "markdown",
   "id": "1f38a72c",
   "metadata": {},
   "source": [
    "## Heatmap"
   ]
  },
  {
   "cell_type": "code",
   "execution_count": null,
   "id": "a72673ab",
   "metadata": {},
   "outputs": [],
   "source": [
    "#design_ranges = [list(np.linspace(293,333,5)), list(np.linspace(0.1,0.3,6))]\n",
    "design_ranges = [[293, 303, 313, 323, 333], [0.1, 0.14, 0.18, 0.22, 0.26, 0.3]]\n",
    "\n",
    "dv_apply_name = ['temp_feed','yfeed']\n",
    "\n",
    "dv_apply_time = [[0],[0]]\n",
    "\n",
    "# Define experiments\n",
    "exp1 = generate_exp(313.15, 303.15, 0.15)\n",
    "    \n",
    "# choose from 'simultaneous', 'sequential', 'sipopt'\n",
    "#sensi_opt = 'simultaneous_finite'\n",
    "sensi_opt = 'sequential_finite'\n",
    "#sensi_opt = 'sequential_sipopt'\n",
    "#sensi_opt = 'sequential_kaug'\n",
    "#sensi_opt = 'direct_kaug'\n",
    "\n",
    "print(design_ranges)"
   ]
  },
  {
   "cell_type": "code",
   "execution_count": null,
   "id": "964f1494",
   "metadata": {
    "scrolled": true
   },
   "outputs": [],
   "source": [
    "doe_object = DesignOfExperiments(parameter_dict, dv_pass,\n",
    "                                 measurement, t_measure, model_integrate,\n",
    "                                prior_FIM=prior_pass, discretize_model=None, args=args_,\n",
    "                                 measurement_extra_index = measurement_extra)\n",
    "\n",
    "all_fim = doe_object.run_grid_search(exp1, design_ranges,dv_apply_name, dv_apply_time, \n",
    "                                     mode=sensi_opt, tee_option=False,\n",
    "                                    scale_nominal_param_value=True, \n",
    "                                     store_name='20210919_heatmap', read_name='20210919_heatmap'\n",
    "                                    )\n",
    "\n"
   ]
  },
  {
   "cell_type": "code",
   "execution_count": null,
   "id": "4e4f2aac",
   "metadata": {},
   "outputs": [],
   "source": [
    "test = all_fim.extract_criteria()\n",
    "\n",
    "fixed = {}\n",
    "all_fim.figure_drawing(fixed, ['temp_feed','yfeed'], 'Fixed bed','$feed T [K]$', 'y' )"
   ]
  },
  {
   "cell_type": "code",
   "execution_count": null,
   "id": "2103fdf1",
   "metadata": {},
   "outputs": [],
   "source": [
    "na = ['temp_feed', 'yfeed']\n",
    "dd = ['temp_feed', 'yfeed']\n",
    "a = [[293.0, 303.0, 313.0, 323.0, 333.0], [0.1, 0.14, 0.18, 0.22, 0.26, 0.3]]"
   ]
  },
  {
   "cell_type": "code",
   "execution_count": null,
   "id": "d92e8c62",
   "metadata": {},
   "outputs": [],
   "source": [
    "print(a[na.index('temp_feed')])"
   ]
  },
  {
   "cell_type": "code",
   "execution_count": null,
   "id": "44917d84",
   "metadata": {},
   "outputs": [],
   "source": []
  },
  {
   "cell_type": "code",
   "execution_count": null,
   "id": "19dbe432",
   "metadata": {},
   "outputs": [],
   "source": []
  }
 ],
 "metadata": {
  "kernelspec": {
   "display_name": "Python 3 (ipykernel)",
   "language": "python",
   "name": "python3"
  },
  "language_info": {
   "codemirror_mode": {
    "name": "ipython",
    "version": 3
   },
   "file_extension": ".py",
   "mimetype": "text/x-python",
   "name": "python",
   "nbconvert_exporter": "python",
   "pygments_lexer": "ipython3",
   "version": "3.9.6"
  }
 },
 "nbformat": 4,
 "nbformat_minor": 5
}
