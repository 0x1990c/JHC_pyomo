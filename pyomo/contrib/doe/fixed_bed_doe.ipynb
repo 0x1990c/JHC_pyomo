{
 "cells": [
  {
   "cell_type": "code",
   "execution_count": 1,
   "id": "940d1fa5",
   "metadata": {},
   "outputs": [],
   "source": [
    "import matplotlib.pyplot as plt\n",
    "from pyomo.environ import *\n",
    "from pyomo.dae import *\n",
    "\n",
    "import numpy as np\n",
    "from scipy.interpolate import interp2d\n",
    "import pandas as pd \n",
    "from itertools import permutations, product, combinations\n",
    "\n",
    "from fim_doe import *\n",
    "from pyomo.contrib.sensitivity_toolbox.sens import sipopt"
   ]
  },
  {
   "cell_type": "markdown",
   "id": "459aa691",
   "metadata": {},
   "source": [
    "## Define fixed bed model "
   ]
  },
  {
   "cell_type": "code",
   "execution_count": 2,
   "id": "3186b934",
   "metadata": {},
   "outputs": [
    {
     "name": "stdout",
     "output_type": "stream",
     "text": [
      "alpha option:\n",
      "1 / (1 + exp(-x))\n",
      "WARNING: DEPRECATED: The pyomo.core.kernel.component_set module is deprecated.\n",
      "    Import ComponentSet from pyomo.common.collections.  (deprecated in 5.7.1)\n",
      "    (called from <frozen importlib._bootstrap>:228)\n"
     ]
    }
   ],
   "source": [
    "from fixed_bed_model_indexed_dynamic import *"
   ]
  },
  {
   "cell_type": "code",
   "execution_count": 3,
   "id": "9194ace2",
   "metadata": {},
   "outputs": [],
   "source": [
    "def add_model(doe, timepoints, time_start=0):\n",
    "    '''\n",
    "    add variables, equations and discretize the model time\n",
    "    Argument:\n",
    "        timepoints: the timesteps\n",
    "        time_start: where the timesteps start. For self defined timepoints it's 0. For experimental data it's -10.\n",
    "    '''\n",
    "    add_variables(doe, timesteps=timepoints, start=time_start)\n",
    "    \n",
    "    add_equations(doe)\n",
    "    \n",
    "    print ('the number of timepoints is', NFEt)\n",
    "    \n",
    "def discretize(doe, no_points=68, collo=False):\n",
    "    '''\n",
    "    no_points: how many time invertals to divide. For self defined timepoints it's 69. For experimental data it's 68. \n",
    "    here it's 68\n",
    "    '''\n",
    "    if collo:\n",
    "        TransformationFactory('dae.collocation').apply_to(doe, nfe=no_points, ncp=3, scheme='LAGRANGE-RADAU', wrt=doe.t)\n",
    "    else:\n",
    "        TransformationFactory('dae.finite_difference').apply_to(doe, nfe=no_points, scheme='BACKWARD', wrt=doe.t)\n",
    "    \n",
    "    \n",
    "def initialize(doe, init_point):\n",
    "    '''\n",
    "    Argument: \n",
    "        init_point: initial point, csv file\n",
    "    '''\n",
    "    # Initialize \n",
    "    print('The init point is', init_point)    \n",
    "    store = pd.read_csv(init_point)\n",
    "    position_max = store['position'].max()\n",
    "    store['position'] = store['position'] / position_max\n",
    "\n",
    "    initial_bed_csv(doe, store)\n",
    "    fix_initial_bed(doe)\n",
    "    \n",
    "def generate_exp(feed, bath, y):\n",
    "    dv_dict_overall = {'temp_feed': {0: feed}, 'temp_bath': {0:bath}, 'yfeed': {0: y}}\n",
    "    return dv_dict_overall"
   ]
  },
  {
   "cell_type": "code",
   "execution_count": 4,
   "id": "f0dc7a42",
   "metadata": {},
   "outputs": [],
   "source": [
    "NFEt = 68\n",
    "time_scale = 3200\n",
    "collo = False\n",
    "exp_time_ = time_points(NFEt, time_scale)\n",
    "\n",
    "scena_all = {'scena-name': [0], 'fitted_transport_coefficient':212, 'ua': np.log(5.0E6)}\n",
    "\n",
    "#initialize_point = '/Users/wangjialu/dowlinglab/sorption-fixed-bed/20200729_energy.csv'\n",
    "initialize_point = '2021oct8_f313_b313_y15_5e6.csv'\n",
    "#initialize_point = './priors/20210916_feed313_bath293.csv'\n",
    "#init_point = '/Users/wangjialu/dowlinglab/sorption-fixed-bed/fixed_bed_initial/T353y20_5e3.csv'\n",
    "#initialize_point = './priors/20210916_feed313_bath293_5e3.csv'\n",
    "#init_point = 'init_test.csv'\n",
    "#init_point = 'T353y20_5e3.csv'"
   ]
  },
  {
   "cell_type": "code",
   "execution_count": 5,
   "id": "a7f8e4a2",
   "metadata": {},
   "outputs": [],
   "source": [
    "def model_integrate(scena, args_list, exp_time=exp_time_, init_point=initialize_point):\n",
    "    test = create_model(scena, temp_feed=293.15, temp_bath=293.15, y=0.4, doe_model=args_list[0], k_aug=args_list[1], opt=False, diff=0)\n",
    "    add_model(test, exp_time)\n",
    "    discretize(test)\n",
    "    initialize(test, init_point)\n",
    "    return test\n"
   ]
  },
  {
   "cell_type": "code",
   "execution_count": 6,
   "id": "d03b6e85",
   "metadata": {},
   "outputs": [],
   "source": [
    "# choose from model and k_aug \n",
    "model_opt = 'doe'\n",
    "\n",
    "if (model_opt == 'doe'):\n",
    "    args_ = [True, False]\n",
    "    \n",
    "elif (model_opt =='kaug'):\n",
    "    args_ = [True, True]\n",
    "    \n",
    "\n",
    "parameter_dict = {'fitted_transport_coefficient':212, 'ua': np.log(5.0E6)}\n",
    "\n",
    "#dv_pass = {'temp_feed': [0], 'temp_bath':[0], 'yfeed': [0]}\n",
    "#dv_pass = {'temp_feed': None, 'temp_bath':None , 'yfeed': None}\n",
    "dv_pass = {'temp_feed': None, 'yfeed': None}\n",
    "\n",
    "measurement = ['FCO2', 'temp']\n",
    "measurement_extra = {'FCO2': [19], 'temp': [10, 19]}\n",
    "\n",
    "t_measure = exp_time_\n",
    "measurement_pass = {'FCO2': t_measure, 'temp': t_measure}"
   ]
  },
  {
   "cell_type": "code",
   "execution_count": 7,
   "id": "0d155ff6",
   "metadata": {},
   "outputs": [
    {
     "name": "stdout",
     "output_type": "stream",
     "text": [
      "The prior information FIM: [[0. 0.]\n",
      " [0. 0.]]\n",
      "Prior Det: 0.0\n",
      "Eigenvalue of the prior experiments FIM: [0. 0.]\n",
      "Eigenvalue of the prior experiments FIM: [[1. 0.]\n",
      " [0. 1.]]\n"
     ]
    }
   ],
   "source": [
    "# empty prior\n",
    "prior_all = np.zeros((2,2))\n",
    "\n",
    "prior_pass=np.asarray(prior_all)\n",
    "\n",
    "#L_initials = np.linalg.cholesky(prior_pass)\n",
    "#print(L_initials)\n",
    "\n",
    "print('The prior information FIM:', prior_pass)\n",
    "print('Prior Det:', np.linalg.det(prior_pass))\n",
    "print('Eigenvalue of the prior experiments FIM:', np.linalg.eigvals(prior_pass))\n",
    "print('Eigenvalue of the prior experiments FIM:', np.linalg.eigh(prior_pass)[1])"
   ]
  },
  {
   "cell_type": "code",
   "execution_count": 8,
   "id": "34639418",
   "metadata": {},
   "outputs": [
    {
     "ename": "NameError",
     "evalue": "name 'jac_init_1' is not defined",
     "output_type": "error",
     "traceback": [
      "\u001b[0;31m---------------------------------------------------------------------------\u001b[0m",
      "\u001b[0;31mNameError\u001b[0m                                 Traceback (most recent call last)",
      "\u001b[0;32m/var/folders/cn/dbk7vfw51_g_gb8jqhz4j3ph0000gn/T/ipykernel_41481/1430524320.py\u001b[0m in \u001b[0;36m<module>\u001b[0;34m\u001b[0m\n\u001b[1;32m      6\u001b[0m \u001b[0;31m#f2.close()\u001b[0m\u001b[0;34m\u001b[0m\u001b[0;34m\u001b[0m\u001b[0;34m\u001b[0m\u001b[0m\n\u001b[1;32m      7\u001b[0m \u001b[0;34m\u001b[0m\u001b[0m\n\u001b[0;32m----> 8\u001b[0;31m \u001b[0mjac_init\u001b[0m \u001b[0;34m=\u001b[0m \u001b[0mjac_init_1\u001b[0m\u001b[0;34m.\u001b[0m\u001b[0mcopy\u001b[0m\u001b[0;34m(\u001b[0m\u001b[0;34m)\u001b[0m\u001b[0;34m\u001b[0m\u001b[0;34m\u001b[0m\u001b[0m\n\u001b[0m\u001b[1;32m      9\u001b[0m \u001b[0;34m\u001b[0m\u001b[0m\n\u001b[1;32m     10\u001b[0m \u001b[0ml_init\u001b[0m \u001b[0;34m=\u001b[0m \u001b[0mnp\u001b[0m\u001b[0;34m.\u001b[0m\u001b[0mlinalg\u001b[0m\u001b[0;34m.\u001b[0m\u001b[0mcholesky\u001b[0m\u001b[0;34m(\u001b[0m\u001b[0mfim_init\u001b[0m\u001b[0;34m)\u001b[0m\u001b[0;34m\u001b[0m\u001b[0;34m\u001b[0m\u001b[0m\n",
      "\u001b[0;31mNameError\u001b[0m: name 'jac_init_1' is not defined"
     ]
    }
   ],
   "source": [
    "fim_init = [[0.0029331 , 0.01236752],\n",
    " [0.01236752 , 0.71783208]]\n",
    "\n",
    "#f2 = open('jac_initial', 'rb')\n",
    "#jac_init = pickle.load(f2)\n",
    "#f2.close()\n",
    "\n",
    "jac_init = jac_init_1.copy()\n",
    "    \n",
    "l_init = np.linalg.cholesky(fim_init)\n",
    "print(l_init)"
   ]
  },
  {
   "cell_type": "code",
   "execution_count": null,
   "id": "6f73babe",
   "metadata": {},
   "outputs": [],
   "source": [
    "import os\n",
    "\n",
    "scores = {} # scores is an empty dict already\n",
    "target='jac_initial'\n",
    "if os.path.getsize(target) > 0:      \n",
    "    with open(target, \"rb\") as f:\n",
    "        unpickler = pickle.Unpickler(f)\n",
    "        # if file is not empty scores will be equal\n",
    "        # to the value unpickled\n",
    "        scores = unpickler.load()\n",
    "        \n",
    "print(scores)"
   ]
  },
  {
   "cell_type": "markdown",
   "id": "b1879150",
   "metadata": {},
   "source": [
    "## Compute FIM"
   ]
  },
  {
   "cell_type": "code",
   "execution_count": 9,
   "id": "643d82eb",
   "metadata": {},
   "outputs": [],
   "source": [
    "# choose from 'simultaneous', 'sequential', 'sipopt'\n",
    "#sensi_opt = 'simultaneous_finite'\n",
    "sensi_opt = 'sequential_finite'\n",
    "##sensi_opt = 'sequential_sipopt'\n",
    "#sensi_opt = 'sequential_kaug'\n",
    "#sensi_opt = 'direct_kaug'\n",
    "\n",
    "# feed, bath, y\n",
    "exp1 = generate_exp(313.15, 313.15, 0.15)"
   ]
  },
  {
   "cell_type": "code",
   "execution_count": 10,
   "id": "c0c8cf4a",
   "metadata": {
    "scrolled": true
   },
   "outputs": [
    {
     "name": "stdout",
     "output_type": "stream",
     "text": [
      "The flattend measurements include: ['FCO219', 'temp10', 'temp19']\n",
      "Sensitivity information is scaled by its corresponding parameter nominal value.\n",
      "Existed information has been added.\n",
      "FIM: [[0.00404724 0.02437539]\n",
      " [0.02437539 1.46098048]]\n",
      "Trace: 1.4650277197712835\n",
      "Determinant: 0.005318780601114852\n",
      "Condition number: 401.53102231696545\n",
      "Minimal eigen value: 0.003639539907604128\n",
      "Eigen values: [0.00363954 1.46138818]\n",
      "Eigen vectors: [[-0.99986015 -0.0167236 ]\n",
      " [ 0.0167236  -0.99986015]]\n"
     ]
    }
   ],
   "source": [
    "doe_object = DesignOfExperiments(parameter_dict, dv_pass,\n",
    "                                 measurement_pass, model_integrate,\n",
    "                                prior_FIM=prior_pass, discretize_model=None, args=args_,\n",
    "                                 measurement_extra_index = measurement_extra)\n",
    "\n",
    "if_s = True \n",
    "\n",
    "result = doe_object.compute_FIM(exp1, mode=sensi_opt, FIM_store_name = 'fixed_bed.csv',\n",
    "                               scale_nominal_param_value = if_s, \n",
    "                                store_output = 'store_output', read_output='store_output',\n",
    "                                formula='central')\n",
    "\n",
    "if sensi_opt == 'simultaneous_finite':\n",
    "    result.extract_FIM(doe_object.m, doe_object.design_timeset,\n",
    "                                                          doe_object.square_result, doe_object.obj_opt)\n",
    "else: \n",
    "    result.calculate_FIM(doe_object.jac, doe_object.jac_3D, doe_object.design_values)"
   ]
  },
  {
   "cell_type": "code",
   "execution_count": 11,
   "id": "4819799c",
   "metadata": {},
   "outputs": [
    {
     "name": "stdout",
     "output_type": "stream",
     "text": [
      "0.0014264907633787514\n",
      "0.0014264907633787514\n",
      "(3, 2, 69)\n"
     ]
    }
   ],
   "source": [
    "print(doe_object.jac['fitted_transport_coefficient'][74])\n",
    "print(doe_object.jac_3D[1,0,5])\n",
    "print(np.shape(doe_object.jac_3D))"
   ]
  },
  {
   "cell_type": "code",
   "execution_count": 17,
   "id": "ace686af",
   "metadata": {},
   "outputs": [
    {
     "name": "stdout",
     "output_type": "stream",
     "text": [
      "involved flatten name: ['FCO219', 'temp19']\n",
      "[ 0.00000000e+00  2.88510743e-06  1.97239443e-06  1.46868614e-06\n",
      "  1.02298486e-06  7.31466038e-07  4.99687139e-07  4.09943165e-07\n",
      "  4.38158185e-07  6.48437667e-07  1.14357847e-06  1.98443260e-06\n",
      "  3.53598806e-06  5.88141876e-06  9.99509903e-06  1.60123068e-05\n",
      "  2.62838330e-05  4.11672910e-05  6.54182992e-05  1.01065505e-04\n",
      "  1.54213672e-04  2.35507558e-04  3.41486941e-04  5.12785913e-04\n",
      "  7.00277760e-04  1.02699278e-03  1.31802555e-03  1.87403402e-03\n",
      "  2.28360809e-03  3.08305684e-03  3.68172575e-03  4.56299211e-03\n",
      "  5.61577865e-03  6.18875848e-03  8.24922709e-03  7.81659943e-03\n",
      "  1.17127485e-02  9.30043726e-03  1.61330618e-02  1.52331647e-02\n",
      "  1.22839053e-02  9.36459582e-03  6.63628666e-03  4.17977222e-03\n",
      "  2.03064616e-03  1.95709239e-04 -1.33606852e-03 -2.58616036e-03\n",
      " -3.58152625e-03 -4.35133182e-03 -4.92482661e-03 -5.33002310e-03\n",
      " -5.59292532e-03 -5.73713031e-03 -5.78367859e-03 -5.75106628e-03\n",
      " -5.65535838e-03 -5.51036101e-03 -5.32782417e-03 -5.11765547e-03\n",
      " -4.88813250e-03 -4.64610571e-03 -4.39718737e-03 -4.14592402e-03\n",
      " -3.89595164e-03 -3.65013356e-03 -3.41068186e-03 -3.17926345e-03\n",
      " -2.95709190e-03]\n",
      "[ 0.          0.00017047  0.00032513  0.00064725  0.0009113   0.00142649\n",
      "  0.0017528   0.00236748  0.00275511  0.00325701  0.00387004  0.00386243\n",
      "  0.00511898  0.00392204  0.00655971  0.00324095  0.00945     0.01077424\n",
      " -0.00568673 -0.01234873 -0.0118577  -0.01087143 -0.00963379 -0.00830553\n",
      " -0.00698765 -0.00574104 -0.00459978 -0.00358012 -0.00268663 -0.00191653\n",
      " -0.00126256 -0.00071501 -0.00026301  0.00010451  0.00039837  0.00062871\n",
      "  0.00080483  0.00093513  0.00102708  0.00108723  0.00112129  0.00113417\n",
      "  0.0011301   0.00111265  0.00108484  0.00104919  0.00100783  0.00096249\n",
      "  0.00091459  0.00086529  0.00081553  0.00076603  0.00071739  0.00067003\n",
      "  0.00062429  0.00058041  0.00053855  0.00049882  0.00046126  0.00042589\n",
      "  0.0003927   0.00036163  0.00033263  0.00030563  0.00028054  0.00025727\n",
      "  0.00023572  0.0002158   0.00019742]\n",
      "[ 0.00000000e+00  1.05091713e-07  1.90681729e-07  2.72371949e-07\n",
      "  3.54027844e-07  4.34782402e-07  5.14705654e-07  5.93368877e-07\n",
      "  6.70605144e-07  7.45877561e-07  8.19004740e-07  8.89839641e-07\n",
      "  9.57525403e-07  1.02267500e-06  1.08247982e-06  1.13949056e-06\n",
      "  1.18505732e-06  1.22597897e-06  1.24049221e-06  1.23756194e-06\n",
      "  1.18211276e-06  1.05070110e-06  8.46495247e-07  3.81287119e-07\n",
      " -9.35249846e-08 -1.27409081e-06 -2.15598173e-06 -4.55686616e-06\n",
      " -6.06356173e-06 -9.98769750e-06 -1.29324103e-05 -1.75145747e-05\n",
      " -2.35727058e-05 -2.67552699e-05 -3.94361372e-05 -3.77139219e-05\n",
      " -6.16670663e-05 -5.05683355e-05 -9.13358662e-05 -9.37520330e-05\n",
      " -8.12880733e-05 -6.63065577e-05 -5.05379749e-05 -3.51270290e-05\n",
      " -2.08031140e-05 -7.98674001e-06  3.12274669e-06  1.24785625e-05\n",
      "  2.01346408e-05  2.62074744e-05  3.08487008e-05  3.42258959e-05\n",
      "  3.65095164e-05  3.78643664e-05  3.84443410e-05  3.83894985e-05\n",
      "  3.78247543e-05  3.68596732e-05  3.55889788e-05  3.40935048e-05\n",
      "  3.24413942e-05  3.06894098e-05  2.88842654e-05  2.70639164e-05\n",
      "  2.52587736e-05  2.34928192e-05  2.17846195e-05  2.01483818e-05\n",
      "  1.85989972e-05]\n",
      "[ 0.         -0.00048274 -0.00116797 -0.00237602 -0.00431337 -0.00702884\n",
      " -0.0111285  -0.01606026 -0.02345598 -0.03141553 -0.04349869 -0.05559073\n",
      " -0.07382153 -0.09180137 -0.11724483 -0.14432743 -0.17853091 -0.24062372\n",
      " -0.29294627 -0.28383742 -0.26696856 -0.24840686 -0.22925257 -0.2102336\n",
      " -0.19182193 -0.17431264 -0.15787725 -0.14260169 -0.12851255 -0.11559641\n",
      " -0.10381326 -0.09310634 -0.08340911 -0.07465008 -0.06675638 -0.05965598\n",
      " -0.05327939 -0.04756055 -0.04243751 -0.03785269 -0.03375294 -0.03008953\n",
      " -0.026818   -0.02389791 -0.02129266 -0.01896916 -0.01689757 -0.01505107\n",
      " -0.01340557 -0.01193945 -0.01063335 -0.00946995 -0.00843376 -0.00751095\n",
      " -0.00668914 -0.00595733 -0.00530568 -0.00472541 -0.0042087  -0.00374861\n",
      " -0.00333892 -0.0029741  -0.00264923 -0.00235993 -0.0021023  -0.00187287\n",
      " -0.00166854 -0.00148656 -0.00132448]\n",
      "jaco is:  {'fitted_transport_coefficient': [array([ 0.00000000e+00,  2.88510743e-06,  1.97239443e-06,  1.46868614e-06,\n",
      "        1.02298486e-06,  7.31466038e-07,  4.99687139e-07,  4.09943165e-07,\n",
      "        4.38158185e-07,  6.48437667e-07,  1.14357847e-06,  1.98443260e-06,\n",
      "        3.53598806e-06,  5.88141876e-06,  9.99509903e-06,  1.60123068e-05,\n",
      "        2.62838330e-05,  4.11672910e-05,  6.54182992e-05,  1.01065505e-04,\n",
      "        1.54213672e-04,  2.35507558e-04,  3.41486941e-04,  5.12785913e-04,\n",
      "        7.00277760e-04,  1.02699278e-03,  1.31802555e-03,  1.87403402e-03,\n",
      "        2.28360809e-03,  3.08305684e-03,  3.68172575e-03,  4.56299211e-03,\n",
      "        5.61577865e-03,  6.18875848e-03,  8.24922709e-03,  7.81659943e-03,\n",
      "        1.17127485e-02,  9.30043726e-03,  1.61330618e-02,  1.52331647e-02,\n",
      "        1.22839053e-02,  9.36459582e-03,  6.63628666e-03,  4.17977222e-03,\n",
      "        2.03064616e-03,  1.95709239e-04, -1.33606852e-03, -2.58616036e-03,\n",
      "       -3.58152625e-03, -4.35133182e-03, -4.92482661e-03, -5.33002310e-03,\n",
      "       -5.59292532e-03, -5.73713031e-03, -5.78367859e-03, -5.75106628e-03,\n",
      "       -5.65535838e-03, -5.51036101e-03, -5.32782417e-03, -5.11765547e-03,\n",
      "       -4.88813250e-03, -4.64610571e-03, -4.39718737e-03, -4.14592402e-03,\n",
      "       -3.89595164e-03, -3.65013356e-03, -3.41068186e-03, -3.17926345e-03,\n",
      "       -2.95709190e-03]), array([ 0.        ,  0.00017047,  0.00032513,  0.00064725,  0.0009113 ,\n",
      "        0.00142649,  0.0017528 ,  0.00236748,  0.00275511,  0.00325701,\n",
      "        0.00387004,  0.00386243,  0.00511898,  0.00392204,  0.00655971,\n",
      "        0.00324095,  0.00945   ,  0.01077424, -0.00568673, -0.01234873,\n",
      "       -0.0118577 , -0.01087143, -0.00963379, -0.00830553, -0.00698765,\n",
      "       -0.00574104, -0.00459978, -0.00358012, -0.00268663, -0.00191653,\n",
      "       -0.00126256, -0.00071501, -0.00026301,  0.00010451,  0.00039837,\n",
      "        0.00062871,  0.00080483,  0.00093513,  0.00102708,  0.00108723,\n",
      "        0.00112129,  0.00113417,  0.0011301 ,  0.00111265,  0.00108484,\n",
      "        0.00104919,  0.00100783,  0.00096249,  0.00091459,  0.00086529,\n",
      "        0.00081553,  0.00076603,  0.00071739,  0.00067003,  0.00062429,\n",
      "        0.00058041,  0.00053855,  0.00049882,  0.00046126,  0.00042589,\n",
      "        0.0003927 ,  0.00036163,  0.00033263,  0.00030563,  0.00028054,\n",
      "        0.00025727,  0.00023572,  0.0002158 ,  0.00019742])], 'ua': [array([ 0.00000000e+00,  1.05091713e-07,  1.90681729e-07,  2.72371949e-07,\n",
      "        3.54027844e-07,  4.34782402e-07,  5.14705654e-07,  5.93368877e-07,\n",
      "        6.70605144e-07,  7.45877561e-07,  8.19004740e-07,  8.89839641e-07,\n",
      "        9.57525403e-07,  1.02267500e-06,  1.08247982e-06,  1.13949056e-06,\n",
      "        1.18505732e-06,  1.22597897e-06,  1.24049221e-06,  1.23756194e-06,\n",
      "        1.18211276e-06,  1.05070110e-06,  8.46495247e-07,  3.81287119e-07,\n",
      "       -9.35249846e-08, -1.27409081e-06, -2.15598173e-06, -4.55686616e-06,\n",
      "       -6.06356173e-06, -9.98769750e-06, -1.29324103e-05, -1.75145747e-05,\n",
      "       -2.35727058e-05, -2.67552699e-05, -3.94361372e-05, -3.77139219e-05,\n",
      "       -6.16670663e-05, -5.05683355e-05, -9.13358662e-05, -9.37520330e-05,\n",
      "       -8.12880733e-05, -6.63065577e-05, -5.05379749e-05, -3.51270290e-05,\n",
      "       -2.08031140e-05, -7.98674001e-06,  3.12274669e-06,  1.24785625e-05,\n",
      "        2.01346408e-05,  2.62074744e-05,  3.08487008e-05,  3.42258959e-05,\n",
      "        3.65095164e-05,  3.78643664e-05,  3.84443410e-05,  3.83894985e-05,\n",
      "        3.78247543e-05,  3.68596732e-05,  3.55889788e-05,  3.40935048e-05,\n",
      "        3.24413942e-05,  3.06894098e-05,  2.88842654e-05,  2.70639164e-05,\n",
      "        2.52587736e-05,  2.34928192e-05,  2.17846195e-05,  2.01483818e-05,\n",
      "        1.85989972e-05]), array([ 0.        , -0.00048274, -0.00116797, -0.00237602, -0.00431337,\n",
      "       -0.00702884, -0.0111285 , -0.01606026, -0.02345598, -0.03141553,\n",
      "       -0.04349869, -0.05559073, -0.07382153, -0.09180137, -0.11724483,\n",
      "       -0.14432743, -0.17853091, -0.24062372, -0.29294627, -0.28383742,\n",
      "       -0.26696856, -0.24840686, -0.22925257, -0.2102336 , -0.19182193,\n",
      "       -0.17431264, -0.15787725, -0.14260169, -0.12851255, -0.11559641,\n",
      "       -0.10381326, -0.09310634, -0.08340911, -0.07465008, -0.06675638,\n",
      "       -0.05965598, -0.05327939, -0.04756055, -0.04243751, -0.03785269,\n",
      "       -0.03375294, -0.03008953, -0.026818  , -0.02389791, -0.02129266,\n",
      "       -0.01896916, -0.01689757, -0.01505107, -0.01340557, -0.01193945,\n",
      "       -0.01063335, -0.00946995, -0.00843376, -0.00751095, -0.00668914,\n",
      "       -0.00595733, -0.00530568, -0.00472541, -0.0042087 , -0.00374861,\n",
      "       -0.00333892, -0.0029741 , -0.00264923, -0.00235993, -0.0021023 ,\n",
      "       -0.00187287, -0.00166854, -0.00148656, -0.00132448])]}\n"
     ]
    },
    {
     "ename": "ValueError",
     "evalue": "setting an array element with a sequence.",
     "output_type": "error",
     "traceback": [
      "\u001b[0;31m---------------------------------------------------------------------------\u001b[0m",
      "\u001b[0;31mTypeError\u001b[0m                                 Traceback (most recent call last)",
      "\u001b[0;31mTypeError\u001b[0m: only size-1 arrays can be converted to Python scalars",
      "\nThe above exception was the direct cause of the following exception:\n",
      "\u001b[0;31mValueError\u001b[0m                                Traceback (most recent call last)",
      "\u001b[0;32m/var/folders/cn/dbk7vfw51_g_gb8jqhz4j3ph0000gn/T/ipykernel_41481/2658939857.py\u001b[0m in \u001b[0;36m<module>\u001b[0;34m\u001b[0m\n\u001b[0;32m----> 1\u001b[0;31m \u001b[0mresult\u001b[0m\u001b[0;34m.\u001b[0m\u001b[0mcalculate_FIM\u001b[0m\u001b[0;34m(\u001b[0m\u001b[0mdoe_object\u001b[0m\u001b[0;34m.\u001b[0m\u001b[0mjac\u001b[0m\u001b[0;34m,\u001b[0m \u001b[0mdoe_object\u001b[0m\u001b[0;34m.\u001b[0m\u001b[0mjac_3D\u001b[0m\u001b[0;34m,\u001b[0m \u001b[0mdoe_object\u001b[0m\u001b[0;34m.\u001b[0m\u001b[0mdesign_values\u001b[0m\u001b[0;34m,\u001b[0m \u001b[0mjaco_involved_name\u001b[0m\u001b[0;34m=\u001b[0m\u001b[0;34m[\u001b[0m\u001b[0;34m'FCO2'\u001b[0m\u001b[0;34m,\u001b[0m\u001b[0;34m'temp'\u001b[0m\u001b[0;34m]\u001b[0m\u001b[0;34m,\u001b[0m \u001b[0mjaco_involved_extra_index\u001b[0m\u001b[0;34m=\u001b[0m\u001b[0;34m[\u001b[0m\u001b[0;34m[\u001b[0m\u001b[0;36m19\u001b[0m\u001b[0;34m]\u001b[0m\u001b[0;34m,\u001b[0m \u001b[0;34m[\u001b[0m\u001b[0;36m19\u001b[0m\u001b[0;34m]\u001b[0m\u001b[0;34m]\u001b[0m\u001b[0;34m)\u001b[0m\u001b[0;34m\u001b[0m\u001b[0;34m\u001b[0m\u001b[0m\n\u001b[0m\u001b[1;32m      2\u001b[0m \u001b[0;34m\u001b[0m\u001b[0m\n\u001b[1;32m      3\u001b[0m \u001b[0;34m\u001b[0m\u001b[0m\n",
      "\u001b[0;32m~/pyomo/pyomo/contrib/doe/fim_doe.py\u001b[0m in \u001b[0;36mcalculate_FIM\u001b[0;34m(self, jaco_information, jaco_3D, dv_values, jaco_involved_name, jaco_involved_extra_index, result)\u001b[0m\n\u001b[1;32m   1732\u001b[0m                 \u001b[0mjaco_m\u001b[0m \u001b[0;34m=\u001b[0m \u001b[0mnp\u001b[0m\u001b[0;34m.\u001b[0m\u001b[0masarray\u001b[0m\u001b[0;34m(\u001b[0m\u001b[0mjaco_info\u001b[0m\u001b[0;34m[\u001b[0m\u001b[0mpara_m\u001b[0m\u001b[0;34m]\u001b[0m\u001b[0;34m)\u001b[0m\u001b[0;34m\u001b[0m\u001b[0;34m\u001b[0m\u001b[0m\n\u001b[1;32m   1733\u001b[0m                 \u001b[0;31m#fim[row][col] = jaco_info[para_n].T@jaco_info[para_m]\u001b[0m\u001b[0;34m\u001b[0m\u001b[0;34m\u001b[0m\u001b[0;34m\u001b[0m\u001b[0m\n\u001b[0;32m-> 1734\u001b[0;31m                 \u001b[0mfim\u001b[0m\u001b[0;34m[\u001b[0m\u001b[0mrow\u001b[0m\u001b[0;34m]\u001b[0m\u001b[0;34m[\u001b[0m\u001b[0mcol\u001b[0m\u001b[0;34m]\u001b[0m \u001b[0;34m=\u001b[0m \u001b[0mjaco_n\u001b[0m\u001b[0;34m.\u001b[0m\u001b[0mT\u001b[0m\u001b[0;34m@\u001b[0m\u001b[0mjaco_m\u001b[0m\u001b[0;34m\u001b[0m\u001b[0;34m\u001b[0m\u001b[0m\n\u001b[0m\u001b[1;32m   1735\u001b[0m \u001b[0;34m\u001b[0m\u001b[0m\n\u001b[1;32m   1736\u001b[0m         \u001b[0;31m# add prior information\u001b[0m\u001b[0;34m\u001b[0m\u001b[0;34m\u001b[0m\u001b[0;34m\u001b[0m\u001b[0m\n",
      "\u001b[0;31mValueError\u001b[0m: setting an array element with a sequence."
     ]
    }
   ],
   "source": [
    "result.calculate_FIM(doe_object.jac, doe_object.jac_3D, doe_object.design_values, jaco_involved_name=['FCO2','temp'], jaco_involved_extra_index=[[19], [19]])\n",
    "\n",
    "\n"
   ]
  },
  {
   "cell_type": "code",
   "execution_count": null,
   "id": "36e3a3ef",
   "metadata": {},
   "outputs": [],
   "source": [
    "print('======Result summary======')\n",
    "print('Four design criteria log10() value:')\n",
    "print('A-optimality:', np.log10(result.trace))\n",
    "print('D-optimality:', np.log10(result.det))\n",
    "print('E-optimality:', np.log10(result.min_eig))\n",
    "print('Modified E-optimality:', np.log10(result.cond))"
   ]
  },
  {
   "cell_type": "code",
   "execution_count": null,
   "id": "5883a050",
   "metadata": {},
   "outputs": [],
   "source": [
    "print(doe_object.dsdp)"
   ]
  },
  {
   "cell_type": "code",
   "execution_count": null,
   "id": "93f1497d",
   "metadata": {},
   "outputs": [],
   "source": [
    "import pickle\n",
    "\n",
    "with open('store_output_botht', 'rb') as f:\n",
    "    data = pickle.load(f)\n",
    "    f.close()\n",
    "print(data)"
   ]
  },
  {
   "cell_type": "code",
   "execution_count": null,
   "id": "2e03ea03",
   "metadata": {},
   "outputs": [],
   "source": [
    "doe_object.models[0]"
   ]
  },
  {
   "cell_type": "code",
   "execution_count": null,
   "id": "15421cd6",
   "metadata": {},
   "outputs": [],
   "source": [
    "breakthrough_modify2(doe_object.models[2])"
   ]
  },
  {
   "cell_type": "code",
   "execution_count": null,
   "id": "406cc948",
   "metadata": {},
   "outputs": [],
   "source": [
    "def breakthrough_modify2(m, file=None, source=\"lab\"):\n",
    "    '''\n",
    "    Draw breakthrough curve of the Pyomo model\n",
    "    \n",
    "    Arguments:\n",
    "        m: Pyomo model\n",
    "        file: when source = 'computer', this is where the computer experimental data is stored. Otherwise, its default is None\n",
    "        source: if computer, it is plotting the computer experiment data. If lab, its comparing the experiments from the lab\n",
    "    \n",
    "    Return: None \n",
    "    \n",
    "    Other: plot\n",
    "    \n",
    "    '''\n",
    "    \n",
    "    \n",
    "    # unit: mol/m3\n",
    "    outlet_den, _, _, _ = extract3d(m, m.C, 'CO2')\n",
    "    \n",
    "    # unit: cm/s\n",
    "    outlet_vel, _, _, _ = extract2d(m, m.v)\n",
    "    \n",
    "    outlet_n2, _, _, _ = extract3d(m, m.C, 'N2')\n",
    "    \n",
    "    model_temp, _,_,_ = extract2d(m,m.temp)\n",
    "    \n",
    "    \n",
    "    T = []\n",
    "    for j in m.t:\n",
    "        T.append(value(j))\n",
    "        t_final = T[-1]\n",
    "        \n",
    "    \n",
    "    if source == \"lab\":\n",
    "        break_wvu = pd.read_csv('/Users/wangjialu/dowlinglab/sorption-fixed-bed/breakthrough_wvu.csv')\n",
    "    \n",
    "        exp = pd.read_csv('/Users/wangjialu/dowlinglab/sorption-fixed-bed/co2_breakthrough.csv')\n",
    "        \n",
    "        data_c1 = exp['FCO2']\n",
    "        data_c = np.asarray(data_c1)\n",
    "        data_t1 = exp['time']  \n",
    "        data_t = np.asarray(data_t1*60+10)\n",
    "        new_data = np.interp(T, data_t, data_c)\n",
    "    \n",
    "        fco2 = []\n",
    "        for t in m.t:\n",
    "            fco2.append(value(m.FCO2[0,19,t]))\n",
    "        \n",
    "        yco2 = []\n",
    "        for i in range(len(fco2)):\n",
    "            yco2.append(fco2[i]/fco2[-1])\n",
    "            \n",
    "        # real value of FCO2. for verification\n",
    "        comp = outlet_den[-1,:]*outlet_vel[-1,:]/(outlet_den[-1, -1]*outlet_vel[-1,-1])\n",
    "    \n",
    "        plt.plot(exp['time']*60, exp['FCO2'],'b.', color='r', label='Experimental data')\n",
    "        #plt.plot(T, outlet_den[-1,:]*outlet_vel[-1,:]/(outlet_den[-1, -1]*outlet_vel[-1,-1]), label='Model prediction')\n",
    "        plt.plot(T, yco2, label='Model prediction')\n",
    "        \n",
    "        plt.xlabel('time [s]')\n",
    "        plt.ylabel('Normalized outlet gas density of CO\\N{SUBSCRIPT TWO} ')\n",
    "        plt.title('Breakthrough curve')\n",
    "        #plt.savefig('break_tr%.fua%.f.png'%(tr,ua))\n",
    "        plt.legend()\n",
    "        plt.show()\n",
    "        \n",
    "    elif source == \"computer\": \n",
    "        \n",
    "        sol = pd.read_csv(file)\n",
    "    \n",
    "        #for i in range(len(time_exp)):    \n",
    "        #    yco2_exp[time_exp[i]] = sol['FCO2'][i]\n",
    "        #    temp_mid_exp[time_exp[i]] = sol['temp_mid'][i]\n",
    "        #    temp_end_exp[time_exp[i]] = sol['temp_end'][i]\n",
    "        \n",
    "        exp_fco2 = np.asarray(sol['FCO2'].values.tolist())\n",
    "        exp_temp_mid = np.asarray(sol['temp_mid'].values.tolist())\n",
    "        exp_temp_end = np.asarray(sol['temp_end'].values.tolist())\n",
    "        \n",
    "        plt.plot(T, exp_fco2/exp_fco2[-1], label = 'Experimental data')\n",
    "        plt.plot(T, outlet_den[-1,:]*outlet_vel[-1,:]/(outlet_den[-1, -1]*outlet_vel[-1,-1]), label='Model prediction')\n",
    "        plt.xlabel('time [s]')\n",
    "        plt.ylabel('Normalized outlet gas density of CO\\N{SUBSCRIPT TWO} ')\n",
    "        plt.title('Breakthrough curve')\n",
    "        #plt.savefig('break_tr%.fua%.f.png'%(tr,ua))\n",
    "        plt.legend()\n",
    "        plt.show()\n",
    "        \n",
    "        \n",
    "        plt.plot(T, exp_temp_mid, label='Experimental data of middle T')\n",
    "        plt.plot(T, model_temp[10,:], label='Model prediction of middle T')\n",
    "        plt.plot(T, exp_temp_end, label='Experimental data of end T')\n",
    "        plt.plot(T, model_temp[19,:], label='Model prediction of end T')\n",
    "        plt.xlabel('time [s]')\n",
    "        plt.ylabel('Temperature [K]')\n",
    "        plt.title('Temperature model prediction and experimental data')\n",
    "        #plt.savefig('break_tr%.fua%.f.png'%(tr,ua))\n",
    "        plt.legend()\n",
    "        plt.show()"
   ]
  },
  {
   "cell_type": "markdown",
   "id": "5d9677e3",
   "metadata": {},
   "source": [
    "## Gradient-based optimization "
   ]
  },
  {
   "cell_type": "code",
   "execution_count": null,
   "id": "5245c36b",
   "metadata": {},
   "outputs": [],
   "source": [
    "# feed, bath, y\n",
    "exp1 = generate_exp(313.15, 293.15, 0.15)\n",
    "\n"
   ]
  },
  {
   "cell_type": "markdown",
   "id": "51aaba31",
   "metadata": {},
   "source": [
    "### Sequential initial solution "
   ]
  },
  {
   "cell_type": "code",
   "execution_count": null,
   "id": "45eca6da",
   "metadata": {},
   "outputs": [],
   "source": [
    "sensi_opt = 'sequential_finite'\n",
    "\n",
    "doe_object = DesignOfExperiments(parameter_dict, dv_pass,\n",
    "                                 measurement, t_measure, model_integrate,\n",
    "                                prior_FIM=prior_pass, discretize_model=None, args=args_,\n",
    "                                 measurement_extra_index = measurement_extra)\n",
    "\n",
    "if_s = True \n",
    "\n",
    "result = doe_object.compute_FIM(exp1, mode=sensi_opt, FIM_store_name = 'fixed_bed.csv',\n",
    "                               scale_nominal_param_value = if_s, \n",
    "                                store_output = 'store_output', read_output=None,\n",
    "                                formula='central')\n",
    "\n",
    "result.calculate_FIM(doe_object.jac, doe_object.design_values)\n"
   ]
  },
  {
   "cell_type": "code",
   "execution_count": null,
   "id": "4ea19fb4",
   "metadata": {},
   "outputs": [],
   "source": [
    "print(doe_object.jac)\n",
    "\n",
    "jac_init = np.zeros((len()))\n",
    "\n",
    "for i, iname in enumerate(measurement):\n",
    "    for j in parameter:\n",
    "        for t in measurement_time:\n",
    "            jac_init[i,j,t] = doe_object.jac[iname][]"
   ]
  },
  {
   "cell_type": "code",
   "execution_count": null,
   "id": "5f307051",
   "metadata": {},
   "outputs": [],
   "source": [
    "fim_init = result.FIM\n",
    "\n",
    "#jac_init = jac_init_1.copy()\n",
    "    \n",
    "l_init = np.linalg.cholesky(fim_init)\n",
    "print(l_init)"
   ]
  },
  {
   "cell_type": "code",
   "execution_count": null,
   "id": "44d47c9a",
   "metadata": {
    "scrolled": true
   },
   "outputs": [],
   "source": [
    "doe_object = DesignOfExperiments(parameter_dict, dv_pass,\n",
    "                                 measurement, t_measure, model_integrate,\n",
    "                                prior_FIM=prior_pass, discretize_model=None, args=args_,\n",
    "                                 measurement_extra_index = measurement_extra)\n",
    "\n",
    "square_result, optimize_result = doe_object.optimize_doe(exp1, if_optimize=True, if_Cholesky=True, \n",
    "                                                         scale_nominal_param_value=True, objective_option='det', \n",
    "                                                         L_initial=l_init, jac_initial=jac_init, fim_initial=fim_init)"
   ]
  },
  {
   "cell_type": "code",
   "execution_count": null,
   "id": "7d0b1974",
   "metadata": {},
   "outputs": [],
   "source": [
    "jac_init_1 = doe_object.analysis_square.jac_extracted.copy()\n",
    "print(type(jac_init_1))\n",
    "print(jac_init_1[0,0,0])\n",
    "\n",
    "print(jac_init_1)\n",
    "\n",
    "fo = open('jac_initial', 'wb')\n",
    "pickle.dump(jac_init_1, fo)\n",
    "fo.close\n",
    "\n"
   ]
  },
  {
   "cell_type": "code",
   "execution_count": null,
   "id": "a289906d",
   "metadata": {},
   "outputs": [],
   "source": [
    "print('======Result summary======')\n",
    "print('This optimization is solved with status:', optimize_result.status)\n",
    "print('It gives solution:', optimize_result.solution)\n",
    "print('The log10(OF) optimized is:', optimize_result.obj_value)\n",
    "print('The result FIM is:', optimize_result.FIM)\n",
    "\n",
    "t_list = []\n",
    "for t in optimize_result.model.t:\n",
    "    t_list.append(t)\n",
    "\n",
    "T_list = []\n",
    "for i in t_list:\n",
    "    T_list.append(value(optimize_result.model.T[i]))\n",
    "\n",
    "si=16\n",
    "plt.rc('axes', titlesize=si)\n",
    "plt.rc('axes', labelsize=si)\n",
    "plt.rc('xtick', labelsize=si)\n",
    "plt.rc('ytick', labelsize=si)\n",
    "plt.rc('legend', fontsize=12)\n",
    "    \n",
    "plt.plot(t_list, T_list, 'b', linewidth=2)\n",
    "#plt.scatter(t_list, T_list, 'b')\n",
    "plt.ylabel('T [$K$]')\n",
    "plt.xlabel('Time [$h$]')\n",
    "plt.show()"
   ]
  },
  {
   "cell_type": "markdown",
   "id": "1f38a72c",
   "metadata": {},
   "source": [
    "## Heatmap"
   ]
  },
  {
   "cell_type": "code",
   "execution_count": null,
   "id": "a72673ab",
   "metadata": {},
   "outputs": [],
   "source": [
    "#design_ranges = [list(np.linspace(293,333,5)), list(np.linspace(0.1,0.3,6))]\n",
    "design_ranges = [[293, 303, 313, 323, 333], [0.1, 0.14, 0.18, 0.22, 0.26, 0.3]]\n",
    "\n",
    "dv_apply_name = ['temp_feed','yfeed']\n",
    "\n",
    "dv_apply_time = [[0],[0]]\n",
    "\n",
    "# Define experiments\n",
    "exp1 = generate_exp(313.15, 303.15, 0.15)\n",
    "    \n",
    "# choose from 'simultaneous', 'sequential', 'sipopt'\n",
    "#sensi_opt = 'simultaneous_finite'\n",
    "sensi_opt = 'sequential_finite'\n",
    "#sensi_opt = 'sequential_sipopt'\n",
    "#sensi_opt = 'sequential_kaug'\n",
    "#sensi_opt = 'direct_kaug'\n",
    "\n",
    "print(design_ranges)"
   ]
  },
  {
   "cell_type": "code",
   "execution_count": null,
   "id": "964f1494",
   "metadata": {
    "scrolled": true
   },
   "outputs": [],
   "source": [
    "doe_object = DesignOfExperiments(parameter_dict, dv_pass,\n",
    "                                 measurement, t_measure, model_integrate,\n",
    "                                prior_FIM=prior_pass, discretize_model=None, args=args_,\n",
    "                                 measurement_extra_index = measurement_extra)\n",
    "\n",
    "all_fim = doe_object.run_grid_search(exp1, design_ranges,dv_apply_name, dv_apply_time, \n",
    "                                     mode=sensi_opt, tee_option=False,\n",
    "                                    scale_nominal_param_value=True, \n",
    "                                     store_name='20210919_heatmap', read_name='20210919_heatmap'\n",
    "                                    )\n",
    "\n"
   ]
  },
  {
   "cell_type": "code",
   "execution_count": null,
   "id": "4e4f2aac",
   "metadata": {},
   "outputs": [],
   "source": [
    "test = all_fim.extract_criteria()\n",
    "\n",
    "fixed = {}\n",
    "all_fim.figure_drawing(fixed, ['temp_feed','yfeed'], 'Fixed bed','$feed T [K]$', 'y' )"
   ]
  },
  {
   "cell_type": "code",
   "execution_count": null,
   "id": "2103fdf1",
   "metadata": {},
   "outputs": [],
   "source": [
    "na = ['temp_feed', 'yfeed']\n",
    "dd = ['temp_feed', 'yfeed']\n",
    "a = [[293.0, 303.0, 313.0, 323.0, 333.0], [0.1, 0.14, 0.18, 0.22, 0.26, 0.3]]"
   ]
  },
  {
   "cell_type": "code",
   "execution_count": null,
   "id": "d92e8c62",
   "metadata": {},
   "outputs": [],
   "source": [
    "print(a[na.index('temp_feed')])"
   ]
  },
  {
   "cell_type": "code",
   "execution_count": null,
   "id": "44917d84",
   "metadata": {},
   "outputs": [],
   "source": []
  },
  {
   "cell_type": "code",
   "execution_count": null,
   "id": "19dbe432",
   "metadata": {},
   "outputs": [],
   "source": []
  }
 ],
 "metadata": {
  "kernelspec": {
   "display_name": "Python 3 (ipykernel)",
   "language": "python",
   "name": "python3"
  },
  "language_info": {
   "codemirror_mode": {
    "name": "ipython",
    "version": 3
   },
   "file_extension": ".py",
   "mimetype": "text/x-python",
   "name": "python",
   "nbconvert_exporter": "python",
   "pygments_lexer": "ipython3",
   "version": "3.9.6"
  }
 },
 "nbformat": 4,
 "nbformat_minor": 5
}
