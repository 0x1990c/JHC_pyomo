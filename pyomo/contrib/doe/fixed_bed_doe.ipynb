{
 "cells": [
  {
   "cell_type": "code",
   "execution_count": 1,
   "id": "1235d6f1",
   "metadata": {},
   "outputs": [
    {
     "name": "stdout",
     "output_type": "stream",
     "text": [
      "WARNING: DEPRECATED: the 'sorted_robust' function has been moved to\n",
      "    'pyomo.common.sorting.sorted_robust'.  Please update your import.\n",
      "    (deprecated in 6.1) (called from <frozen importlib._bootstrap>:228)\n"
     ]
    }
   ],
   "source": [
    "import matplotlib.pyplot as plt\n",
    "from pyomo.environ import *\n",
    "from pyomo.dae import *\n",
    "\n",
    "import numpy as np\n",
    "from scipy.interpolate import interp2d\n",
    "import pandas as pd \n",
    "from itertools import permutations, product, combinations\n",
    "\n",
    "from fim_doe import *\n",
    "from pyomo.contrib.sensitivity_toolbox.sens import sipopt\n",
    "from idaes.apps.uncertainty_propagation.sens import get_dsdp"
   ]
  },
  {
   "cell_type": "markdown",
   "id": "98cbe3b8",
   "metadata": {},
   "source": [
    "## Define fixed bed model "
   ]
  },
  {
   "cell_type": "code",
   "execution_count": 2,
   "id": "56226e62",
   "metadata": {},
   "outputs": [
    {
     "name": "stdout",
     "output_type": "stream",
     "text": [
      "alpha option:\n",
      "1 / (1 + exp(-x))\n",
      "WARNING: DEPRECATED: The pyomo.core.kernel.component_set module is deprecated.\n",
      "    Import ComponentSet from pyomo.common.collections.  (deprecated in 5.7.1)\n",
      "    (called from <frozen importlib._bootstrap>:228)\n"
     ]
    }
   ],
   "source": [
    "from fixed_bed_model_indexed_dynamic import *"
   ]
  },
  {
   "cell_type": "code",
   "execution_count": 3,
   "id": "500a53a5",
   "metadata": {},
   "outputs": [],
   "source": [
    "def add_model(doe, timepoints, time_start=0):\n",
    "    '''\n",
    "    add variables, equations and discretize the model time\n",
    "    Argument:\n",
    "        timepoints: the timesteps\n",
    "        time_start: where the timesteps start. For self defined timepoints it's 0. For experimental data it's -10.\n",
    "    '''\n",
    "    add_variables(doe, timesteps=timepoints, start=time_start)\n",
    "    \n",
    "    add_equations(doe)\n",
    "    \n",
    "    print ('the number of timepoints is', NFEt)\n",
    "    \n",
    "def discretize(doe, no_points=68, collo=False):\n",
    "    '''\n",
    "    no_points: how many time invertals to divide. For self defined timepoints it's 69. For experimental data it's 68. \n",
    "    here it's 68\n",
    "    '''\n",
    "    if collo:\n",
    "        TransformationFactory('dae.collocation').apply_to(doe, nfe=no_points, ncp=3, scheme='LAGRANGE-RADAU', wrt=doe.t)\n",
    "    else:\n",
    "        TransformationFactory('dae.finite_difference').apply_to(doe, nfe=no_points, scheme='BACKWARD', wrt=doe.t)\n",
    "    \n",
    "    \n",
    "def initialize(doe, init_point):\n",
    "    '''\n",
    "    Argument: \n",
    "        init_point: initial point, csv file\n",
    "    '''\n",
    "    # Initialize \n",
    "    print('The init point is', init_point)    \n",
    "    store = pd.read_csv(init_point)\n",
    "    position_max = store['position'].max()\n",
    "    store['position'] = store['position'] / position_max\n",
    "\n",
    "    initial_bed_csv(doe, store)\n",
    "    fix_initial_bed(doe)\n",
    "    \n",
    "def generate_exp(feed, bath, y):\n",
    "    dv_dict_overall = {'temp_feed': {0: feed}, 'temp_bath': {0:bath}, 'yfeed': {0: y}}\n",
    "    return dv_dict_overall"
   ]
  },
  {
   "cell_type": "code",
   "execution_count": 4,
   "id": "1634d25f",
   "metadata": {},
   "outputs": [],
   "source": [
    "NFEt = 68\n",
    "time_scale = 3200\n",
    "collo = False\n",
    "exp_time_ = time_points(NFEt, time_scale)\n",
    "\n",
    "scena_all = {'scena-name': [0], 'fitted_transport_coefficient':212, 'ua': np.log(5.0E6)}\n",
    "\n",
    "initialize_point = '/Users/wangjialu/dowlinglab/sorption-fixed-bed/20200729_energy.csv'\n",
    "#init_point = '20210916_feed313_bath293.csv'\n",
    "#init_point = '/Users/wangjialu/dowlinglab/sorption-fixed-bed/fixed_bed_initial/T353y20_5e3.csv'\n",
    "#init_point = '20210916_feed293_bath313_5e4.csv'\n",
    "#init_point = 'init_test.csv'\n",
    "#init_point = 'T353y20_5e3.csv'"
   ]
  },
  {
   "cell_type": "code",
   "execution_count": 5,
   "id": "081af22e",
   "metadata": {},
   "outputs": [],
   "source": [
    "def model_integrate(scena, args_list, exp_time=exp_time_, init_point=initialize_point):\n",
    "    test = create_model(scena, temp_feed=293.15, temp_bath=303.15, y=0.2, doe_model=args_list[0], k_aug=args_list[1], opt=False, diff=0)\n",
    "    add_model(test, exp_time)\n",
    "    discretize(test)\n",
    "    initialize(test, init_point)\n",
    "    return test\n"
   ]
  },
  {
   "cell_type": "code",
   "execution_count": 6,
   "id": "89b482a3",
   "metadata": {},
   "outputs": [],
   "source": [
    "# choose from model and k_aug \n",
    "model_opt = 'doe'\n",
    "\n",
    "if (model_opt == 'doe'):\n",
    "    args_ = [True, False]\n",
    "    \n",
    "elif (model_opt =='kaug'):\n",
    "    args_ = [True, True]\n",
    "    \n",
    "\n",
    "parameter_dict = {'fitted_transport_coefficient':212, 'ua': np.log(5.0E6)}\n",
    "\n",
    "#dv_pass = {'temp_feed': [0], 'temp_bath':[0], 'yfeed': [0]}\n",
    "dv_pass = {'temp_feed': None, 'temp_bath':None , 'yfeed': None}\n",
    "\n",
    "measurement = ['FCO2', 'temp']\n",
    "measurement_extra = {'FCO2': [19], 'temp': [10,19]}\n",
    "\n",
    "t_measure = exp_time_\n"
   ]
  },
  {
   "cell_type": "code",
   "execution_count": 7,
   "id": "c82ac8a0",
   "metadata": {},
   "outputs": [
    {
     "name": "stdout",
     "output_type": "stream",
     "text": [
      "The prior information FIM: [[0. 0.]\n",
      " [0. 0.]]\n",
      "Prior Det: 0.0\n",
      "Eigenvalue of the prior experiments FIM: [0. 0.]\n",
      "Eigenvalue of the prior experiments FIM: [[1. 0.]\n",
      " [0. 1.]]\n"
     ]
    }
   ],
   "source": [
    "# empty prior\n",
    "prior_all = np.zeros((2,2))\n",
    "\n",
    "prior_pass=np.asarray(prior_all)\n",
    "\n",
    "#L_initials = np.linalg.cholesky(prior_pass)\n",
    "#print(L_initials)\n",
    "\n",
    "print('The prior information FIM:', prior_pass)\n",
    "print('Prior Det:', np.linalg.det(prior_pass))\n",
    "print('Eigenvalue of the prior experiments FIM:', np.linalg.eigvals(prior_pass))\n",
    "print('Eigenvalue of the prior experiments FIM:', np.linalg.eigh(prior_pass)[1])"
   ]
  },
  {
   "cell_type": "code",
   "execution_count": 8,
   "id": "862c172a",
   "metadata": {},
   "outputs": [],
   "source": [
    "# choose from 'simultaneous', 'sequential', 'sipopt'\n",
    "#sensi_opt = 'simultaneous_finite'\n",
    "sensi_opt = 'sequential_finite'\n",
    "##sensi_opt = 'sequential_sipopt'\n",
    "#sensi_opt = 'sequential_kaug'\n",
    "#sensi_opt = 'direct_kaug'\n",
    "\n",
    "# feed, bath, y\n",
    "exp1 = generate_exp(313.15, 313.15, 0.15)"
   ]
  },
  {
   "cell_type": "code",
   "execution_count": 9,
   "id": "85b32fd2",
   "metadata": {},
   "outputs": [
    {
     "name": "stdout",
     "output_type": "stream",
     "text": [
      "Sensitivity information is scaled by its corresponding parameter nominal value.\n",
      "Existed information has been added.\n",
      "FIM: [[0.00409913 0.02220757]\n",
      " [0.02220757 1.35977125]]\n",
      "Trace: 1.3638703736878268\n",
      "Determinant: 0.0050806984109559175\n",
      "Condition number: 364.1166816598299\n",
      "Minimal eigen value: 0.0037354370320403785\n",
      "Eigen values: [0.00373544 1.36013494]\n",
      "Eigen vectors: [[-0.99986593 -0.01637463]\n",
      " [ 0.01637463 -0.99986593]]\n"
     ]
    }
   ],
   "source": [
    "doe_object = DesignOfExperiments(parameter_dict, dv_pass,\n",
    "                                 measurement, t_measure, model_integrate,\n",
    "                                prior_FIM=prior_pass, discretize_model=None, args=args_,\n",
    "                                 measurement_extra_index = measurement_extra)\n",
    "\n",
    "if_s = True \n",
    "\n",
    "result = doe_object.compute_FIM(exp1, mode=sensi_opt, FIM_store_name = 'fixed_bed.csv',\n",
    "                               scale_nominal_param_value = if_s, \n",
    "                                store_output = 'store_output', read_output='store_output',\n",
    "                                formula='central')\n",
    "\n",
    "if sensi_opt == 'simultaneous_finite':\n",
    "    result.extract_FIM(doe_object.m, doe_object.design_timeset,\n",
    "                                                          doe_object.square_result, doe_object.obj_opt)\n",
    "else: \n",
    "    result.calculate_FIM(doe_object.jac, doe_object.design_values)"
   ]
  },
  {
   "cell_type": "code",
   "execution_count": 10,
   "id": "4089887a",
   "metadata": {},
   "outputs": [
    {
     "name": "stdout",
     "output_type": "stream",
     "text": [
      "======Result summary======\n",
      "Four design criteria log10() value:\n",
      "A-optimality: 0.13477309563771003\n",
      "D-optimality: -2.2940765839413073\n",
      "E-optimality: -2.4276585800600574\n",
      "Modified E-optimality: 2.5612405761788075\n"
     ]
    }
   ],
   "source": [
    "print('======Result summary======')\n",
    "print('Four design criteria log10() value:')\n",
    "print('A-optimality:', np.log10(result.trace))\n",
    "print('D-optimality:', np.log10(result.det))\n",
    "print('E-optimality:', np.log10(result.min_eig))\n",
    "print('Modified E-optimality:', np.log10(result.cond))"
   ]
  },
  {
   "cell_type": "code",
   "execution_count": null,
   "id": "b55ddaff",
   "metadata": {},
   "outputs": [],
   "source": [
    "print(doe_object.dsdp)"
   ]
  },
  {
   "cell_type": "code",
   "execution_count": null,
   "id": "eccfa9b4",
   "metadata": {},
   "outputs": [],
   "source": [
    "import pickle\n",
    "\n",
    "with open('store_output', 'rb') as f:\n",
    "    data = pickle.load(f)\n",
    "    f.close()\n",
    "print(data)"
   ]
  },
  {
   "cell_type": "code",
   "execution_count": null,
   "id": "2c99eff4",
   "metadata": {},
   "outputs": [],
   "source": [
    "doe_object.models[0]"
   ]
  },
  {
   "cell_type": "code",
   "execution_count": null,
   "id": "7df8f7ce",
   "metadata": {},
   "outputs": [],
   "source": [
    "breakthrough_modify2(doe_object.models[2])"
   ]
  },
  {
   "cell_type": "code",
   "execution_count": null,
   "id": "b3f9dea1",
   "metadata": {},
   "outputs": [],
   "source": [
    "def breakthrough_modify2(m, file=None, source=\"lab\"):\n",
    "    '''\n",
    "    Draw breakthrough curve of the Pyomo model\n",
    "    \n",
    "    Arguments:\n",
    "        m: Pyomo model\n",
    "        file: when source = 'computer', this is where the computer experimental data is stored. Otherwise, its default is None\n",
    "        source: if computer, it is plotting the computer experiment data. If lab, its comparing the experiments from the lab\n",
    "    \n",
    "    Return: None \n",
    "    \n",
    "    Other: plot\n",
    "    \n",
    "    '''\n",
    "    \n",
    "    \n",
    "    # unit: mol/m3\n",
    "    outlet_den, _, _, _ = extract3d(m, m.C, 'CO2')\n",
    "    \n",
    "    # unit: cm/s\n",
    "    outlet_vel, _, _, _ = extract2d(m, m.v)\n",
    "    \n",
    "    outlet_n2, _, _, _ = extract3d(m, m.C, 'N2')\n",
    "    \n",
    "    model_temp, _,_,_ = extract2d(m,m.temp)\n",
    "    \n",
    "    \n",
    "    T = []\n",
    "    for j in m.t:\n",
    "        T.append(value(j))\n",
    "        t_final = T[-1]\n",
    "        \n",
    "    \n",
    "    if source == \"lab\":\n",
    "        break_wvu = pd.read_csv('/Users/wangjialu/dowlinglab/sorption-fixed-bed/breakthrough_wvu.csv')\n",
    "    \n",
    "        exp = pd.read_csv('/Users/wangjialu/dowlinglab/sorption-fixed-bed/co2_breakthrough.csv')\n",
    "        \n",
    "        data_c1 = exp['FCO2']\n",
    "        data_c = np.asarray(data_c1)\n",
    "        data_t1 = exp['time']  \n",
    "        data_t = np.asarray(data_t1*60+10)\n",
    "        new_data = np.interp(T, data_t, data_c)\n",
    "    \n",
    "        fco2 = []\n",
    "        for t in m.t:\n",
    "            fco2.append(value(m.FCO2[0,19,t]))\n",
    "        \n",
    "        yco2 = []\n",
    "        for i in range(len(fco2)):\n",
    "            yco2.append(fco2[i]/fco2[-1])\n",
    "            \n",
    "        # real value of FCO2. for verification\n",
    "        comp = outlet_den[-1,:]*outlet_vel[-1,:]/(outlet_den[-1, -1]*outlet_vel[-1,-1])\n",
    "    \n",
    "        plt.plot(exp['time']*60, exp['FCO2'],'b.', color='r', label='Experimental data')\n",
    "        #plt.plot(T, outlet_den[-1,:]*outlet_vel[-1,:]/(outlet_den[-1, -1]*outlet_vel[-1,-1]), label='Model prediction')\n",
    "        plt.plot(T, yco2, label='Model prediction')\n",
    "        \n",
    "        plt.xlabel('time [s]')\n",
    "        plt.ylabel('Normalized outlet gas density of CO\\N{SUBSCRIPT TWO} ')\n",
    "        plt.title('Breakthrough curve')\n",
    "        #plt.savefig('break_tr%.fua%.f.png'%(tr,ua))\n",
    "        plt.legend()\n",
    "        plt.show()\n",
    "        \n",
    "    elif source == \"computer\": \n",
    "        \n",
    "        sol = pd.read_csv(file)\n",
    "    \n",
    "        #for i in range(len(time_exp)):    \n",
    "        #    yco2_exp[time_exp[i]] = sol['FCO2'][i]\n",
    "        #    temp_mid_exp[time_exp[i]] = sol['temp_mid'][i]\n",
    "        #    temp_end_exp[time_exp[i]] = sol['temp_end'][i]\n",
    "        \n",
    "        exp_fco2 = np.asarray(sol['FCO2'].values.tolist())\n",
    "        exp_temp_mid = np.asarray(sol['temp_mid'].values.tolist())\n",
    "        exp_temp_end = np.asarray(sol['temp_end'].values.tolist())\n",
    "        \n",
    "        plt.plot(T, exp_fco2/exp_fco2[-1], label = 'Experimental data')\n",
    "        plt.plot(T, outlet_den[-1,:]*outlet_vel[-1,:]/(outlet_den[-1, -1]*outlet_vel[-1,-1]), label='Model prediction')\n",
    "        plt.xlabel('time [s]')\n",
    "        plt.ylabel('Normalized outlet gas density of CO\\N{SUBSCRIPT TWO} ')\n",
    "        plt.title('Breakthrough curve')\n",
    "        #plt.savefig('break_tr%.fua%.f.png'%(tr,ua))\n",
    "        plt.legend()\n",
    "        plt.show()\n",
    "        \n",
    "        \n",
    "        plt.plot(T, exp_temp_mid, label='Experimental data of middle T')\n",
    "        plt.plot(T, model_temp[10,:], label='Model prediction of middle T')\n",
    "        plt.plot(T, exp_temp_end, label='Experimental data of end T')\n",
    "        plt.plot(T, model_temp[19,:], label='Model prediction of end T')\n",
    "        plt.xlabel('time [s]')\n",
    "        plt.ylabel('Temperature [K]')\n",
    "        plt.title('Temperature model prediction and experimental data')\n",
    "        #plt.savefig('break_tr%.fua%.f.png'%(tr,ua))\n",
    "        plt.legend()\n",
    "        plt.show()"
   ]
  },
  {
   "cell_type": "code",
   "execution_count": null,
   "id": "97b1192b",
   "metadata": {},
   "outputs": [],
   "source": []
  }
 ],
 "metadata": {
  "kernelspec": {
   "display_name": "Python 3 (ipykernel)",
   "language": "python",
   "name": "python3"
  },
  "language_info": {
   "codemirror_mode": {
    "name": "ipython",
    "version": 3
   },
   "file_extension": ".py",
   "mimetype": "text/x-python",
   "name": "python",
   "nbconvert_exporter": "python",
   "pygments_lexer": "ipython3",
   "version": "3.9.6"
  }
 },
 "nbformat": 4,
 "nbformat_minor": 5
}
