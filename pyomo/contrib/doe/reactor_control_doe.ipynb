{
 "cells": [
  {
   "cell_type": "markdown",
   "id": "opposite-garage",
   "metadata": {},
   "source": [
    "# Reactor Kinetics Example \n",
    "\n",
    "Jialu Wang (jwang44@nd.edu) and Alex Dowling (adowling@nd.edu)\n",
    "\n",
    "University of Notre Dame\n",
    "\n",
    "This notebook conducts design of experiments for a reactor kinetics experiment with the Pyomo.DOE.\n",
    "    "
   ]
  },
  {
   "cell_type": "code",
   "execution_count": 1,
   "id": "worth-origin",
   "metadata": {},
   "outputs": [
    {
     "name": "stdout",
     "output_type": "stream",
     "text": [
      "WARNING: DEPRECATED: the 'sorted_robust' function has been moved to\n",
      "    'pyomo.common.sorting.sorted_robust'.  Please update your import.\n",
      "    (deprecated in 6.1) (called from <frozen importlib._bootstrap>:228)\n"
     ]
    }
   ],
   "source": [
    "import matplotlib.pyplot as plt\n",
    "from pyomo.environ import *\n",
    "from pyomo.dae import *\n",
    "\n",
    "import numpy as np\n",
    "from scipy.interpolate import interp2d\n",
    "import pandas as pd \n",
    "from itertools import permutations, product, combinations\n",
    "\n",
    "from fim_doe import *\n",
    "from pyomo.contrib.sensitivity_toolbox.sens import sipopt\n",
    "from idaes.apps.uncertainty_propagation.sens import get_dsdp"
   ]
  },
  {
   "cell_type": "markdown",
   "id": "graphic-controversy",
   "metadata": {},
   "source": [
    "## Define Reaction Example Mathematical Model"
   ]
  },
  {
   "cell_type": "markdown",
   "id": "disturbed-prediction",
   "metadata": {},
   "source": [
    "Consider two chemical reactions that converts molecule $A$ to desired product $B$ and a less valuable side-product $C$.\n",
    "\n",
    "$A \\overset{k_1}{\\rightarrow} B \\overset{k_2}{\\rightarrow} C$\n",
    "\n",
    "Our ultimate goals is to design a large-scale continous reactor that maximizes the production of $B$. This general sequential reactions problem is widely applicable to CO$_2$ capture and industry more broadly (petrochemicals, pharmasuticals, etc.).\n",
    "\n",
    "The rate laws for these two chemical reactions are:\n",
    "\n",
    "$r_A = -k_1 C_A$\n",
    "\n",
    "$r_B = k_1 C_A - k_2 C_B$\n",
    "\n",
    "$r_C = k_2 C_B$\n",
    "\n",
    "Here, $C_A$, $C_B$, and $C_C$ are the concentrations of each species. The rate constants $k_1$ and $k_2$ depend on temperature as follows:\n",
    "\n",
    "$k_1 = A_1 \\exp{\\frac{-E_1}{R T}}$\n",
    "\n",
    "$k_2 = A_2 \\exp{\\frac{-E_2}{R T}}$\n",
    "\n",
    "$A_1, A_2, E_1$, and $E_2$ are fitted model parameters. $R$ is the ideal-gas constant and $T$ is absolute temperature.\n",
    "\n",
    "Using the **CCSI$^2$ toolset**, we would like do the following perform:\n",
    "\n",
    "Perform **uncertainty quantification** and **design of experiments** on a small-scale **batch reactor** to infer parameters $A_1$, $A_2$, $E_1$, and $E_2$."
   ]
  },
  {
   "cell_type": "markdown",
   "id": "sweet-niger",
   "metadata": {},
   "source": [
    "### Batch reactor\n",
    "\n",
    "The concenrations in a batch reactor evolve with time per the following differential equations:\n",
    "\n",
    "$$ \\frac{d C_A}{dt} = r_A = -k_1 C_A $$\n",
    "\n",
    "$$ \\frac{d C_B}{dt} = r_B = k_1 C_A - k_2 C_B $$\n",
    "\n",
    "$$ \\frac{d C_C}{dt} = r_C = k_2 C_B $$\n",
    "\n",
    "This is a linear system of differential equations. Assuming the feed is only species $A$, i.e., \n",
    "\n",
    "$$C_A(t=0) = C_{A0} \\quad C_B(t=0) = 0 \\quad C_C(t=0) = 0$$\n",
    "\n",
    "When the temperature is constant, it leads to the following analytic solution:\n",
    "\n",
    "$$C_A(t) = C_{A,0} \\exp(-k_1 t)$$\n",
    "\n",
    "$$C_B(t) = \\frac{k_1}{k_2 - k_1} C_{A,0} \\left[\\exp(-k_1 t) - \\exp(-k_2 t) \\right]$$\n",
    "\n",
    "$$C_C(t) = C_{A,0} - \\frac{k_2}{k_2 - k_1} C_{A,0} \\exp(-k_1 t) + \\frac{k_1}{k_2 - k_1} \\exp(-k_2 t) C_{A,0} = C_{A,0} - C_{A}(t) - C_{B}(t)$$"
   ]
  },
  {
   "cell_type": "code",
   "execution_count": 2,
   "id": "eligible-robert",
   "metadata": {},
   "outputs": [],
   "source": [
    "from reactor_models import *"
   ]
  },
  {
   "cell_type": "markdown",
   "id": "6f7434dc",
   "metadata": {},
   "source": [
    "Three versions of this model is accomplished: \n",
    "\n",
    "Dynamic-DAE model: Temperature varying model discretized and integrated by Pyomo.DAE\n",
    "\n",
    "Constant-DAE model: Temperature constant model discretized and integrated by Pyomo.DAE\n",
    "\n",
    "Constant-analytical model: Temperature constant model discretized manually and using the analytical expressions for state variables."
   ]
  },
  {
   "cell_type": "code",
   "execution_count": 3,
   "id": "d576e9c4",
   "metadata": {},
   "outputs": [],
   "source": [
    "# choose model from 'dynamic-DAE', 'constant-DAE', 'constant-analytical'\n",
    "#model_opt = 'dynamic-DAE'\n",
    "#model_opt = 'constant-DAE'\n",
    "model_opt = 'constant-analytical'\n",
    "\n",
    "if (model_opt=='dynamic-DAE'):\n",
    "    createmod = create_model_dae\n",
    "    disc = discretizer\n",
    "    t_control = [0, 0.125, 0.25, 0.375, 0.5, 0.625, 0.75, 0.875, 1]\n",
    "    \n",
    "elif (model_opt=='constant-DAE'):\n",
    "    createmod = create_model_dae_const\n",
    "    disc = discretizer\n",
    "    t_control = [0]\n",
    "    \n",
    "elif (model_opt=='constant-analytical'):\n",
    "    createmod = create_model_alge\n",
    "    disc = None\n",
    "    t_control = [0]\n",
    "\n",
    "    \n",
    "# design variable and its control time set\n",
    "dv_pass = {'CA0': [0],'T': t_control}\n",
    "    \n",
    "# Define measurement time points\n",
    "t_measure = [0, 0.125, 0.25, 0.375, 0.5, 0.625, 0.75, 0.875, 1]"
   ]
  },
  {
   "cell_type": "code",
   "execution_count": 4,
   "id": "47137cb2",
   "metadata": {},
   "outputs": [],
   "source": [
    "# Define parameter nominal value \n",
    "parameter_dict = {'A1': 84.79085853498033, 'A2': 371.71773413976416, 'E1': 7.777032028026428, 'E2': 15.047135137500822}\n",
    "\n",
    "def generate_exp(t_set, CA0, T):  \n",
    "    '''Generate experiments. \n",
    "    t_set: time control set for T.\n",
    "    CA0: CA0 value\n",
    "    T: A list of T \n",
    "    '''\n",
    "    assert(len(t_set)==len(T)), 'T should have the same length as t_set'\n",
    "    \n",
    "    T_con_initial = {}\n",
    "    for t, tim in enumerate(t_set):\n",
    "        T_con_initial[tim] = T[t]\n",
    "        \n",
    "    dv_dict_overall = {'CA0': {0: CA0},'T': T_con_initial}\n",
    "    return dv_dict_overall"
   ]
  },
  {
   "cell_type": "code",
   "execution_count": 5,
   "id": "written-tours",
   "metadata": {},
   "outputs": [
    {
     "name": "stdout",
     "output_type": "stream",
     "text": [
      "The prior information FIM: [[0. 0. 0. 0.]\n",
      " [0. 0. 0. 0.]\n",
      " [0. 0. 0. 0.]\n",
      " [0. 0. 0. 0.]]\n",
      "Prior Det: 0.0\n",
      "Eigenvalue of the prior experiments FIM: [0. 0. 0. 0.]\n",
      "Eigenvalue of the prior experiments FIM: [[1. 0. 0. 0.]\n",
      " [0. 1. 0. 0.]\n",
      " [0. 0. 1. 0.]\n",
      " [0. 0. 0. 1.]]\n"
     ]
    }
   ],
   "source": [
    "# empty prior\n",
    "prior_all = np.zeros((4,4))\n",
    "\n",
    "\n",
    "# add prior information\n",
    "#prior_5_300 = pd.read_csv('fim_5_300_scale.csv')\n",
    "#prior_5_300_500 = pd.read_csv('fim_5_300_500_scale.csv')\n",
    "\n",
    "#prior_all = prior_5_300_500\n",
    "\n",
    "\n",
    "prior_pass=np.asarray(prior_all)\n",
    "\n",
    "#L_initials = np.linalg.cholesky(prior_pass)\n",
    "#print(L_initials)\n",
    "\n",
    "print('The prior information FIM:', prior_pass)\n",
    "print('Prior Det:', np.linalg.det(prior_pass))\n",
    "print('Eigenvalue of the prior experiments FIM:', np.linalg.eigvals(prior_pass))\n",
    "print('Eigenvalue of the prior experiments FIM:', np.linalg.eigh(prior_pass)[1])"
   ]
  },
  {
   "cell_type": "markdown",
   "id": "destroyed-african",
   "metadata": {},
   "source": [
    "## Compute FIM \n",
    "\n",
    "This method computes an MBDoE optimization problem with no Degree of Freedom."
   ]
  },
  {
   "cell_type": "code",
   "execution_count": 6,
   "id": "d3ee5ff9",
   "metadata": {},
   "outputs": [
    {
     "name": "stdout",
     "output_type": "stream",
     "text": [
      "Design variable: {'CA0': {0: 5}, 'T': {0: 300}}\n"
     ]
    }
   ],
   "source": [
    "# choose from 'simultaneous', 'sequential', 'sipopt'\n",
    "#sensi_opt = 'simultaneous_finite'\n",
    "#sensi_opt = 'sequential_finite'\n",
    "#sensi_opt = 'sequential_sipopt'\n",
    "#sensi_opt = 'sequential_kaug'\n",
    "sensi_opt = 'direct_kaug'\n",
    "\n",
    "# Define experiments\n",
    "if (model_opt=='dynamic-DAE'):\n",
    "    exp1 = generate_exp(t_control, 5, [570.21, 300, 300, 300, 300, 300, 300, 300, 300])\n",
    "else: \n",
    "    exp1 = generate_exp(t_control, 5, [300])\n",
    "\n",
    "print('Design variable:', exp1)"
   ]
  },
  {
   "cell_type": "code",
   "execution_count": 7,
   "id": "latin-medicare",
   "metadata": {
    "scrolled": true
   },
   "outputs": [
    {
     "name": "stdout",
     "output_type": "stream",
     "text": [
      "Sensitivity information is scaled by its corresponding parameter nominal value.\n",
      "===In construction===\n",
      "[0.0, 0.125, 0.25, 0.375, 0.5, 0.625, 0.75, 0.875, 1.0]\n",
      "['T[0.010416666666666666]', 'T[0.020833333333333332]', 'T[0.03125]', 'T[0.041666666666666664]', 'T[0.05208333333333333]', 'T[0.0625]', 'T[0.07291666666666666]', 'T[0.08333333333333333]', 'T[0.09375]', 'T[0.10416666666666666]', 'T[0.11458333333333333]', 'T[0.125]', 'T[0.13541666666666666]', 'T[0.14583333333333331]', 'T[0.15625]', 'T[0.16666666666666666]', 'T[0.17708333333333331]', 'T[0.1875]', 'T[0.19791666666666666]', 'T[0.20833333333333331]', 'T[0.21875]', 'T[0.22916666666666666]', 'T[0.23958333333333331]', 'T[0.25]', 'T[0.26041666666666663]', 'T[0.2708333333333333]', 'T[0.28125]', 'T[0.29166666666666663]', 'T[0.3020833333333333]', 'T[0.3125]', 'T[0.32291666666666663]', 'T[0.3333333333333333]', 'T[0.34375]', 'T[0.35416666666666663]', 'T[0.3645833333333333]', 'T[0.375]', 'T[0.38541666666666663]', 'T[0.3958333333333333]', 'T[0.40625]', 'T[0.41666666666666663]', 'T[0.4270833333333333]', 'T[0.4375]', 'T[0.44791666666666663]', 'T[0.4583333333333333]', 'T[0.46875]', 'T[0.47916666666666663]', 'T[0.4895833333333333]', 'T[0.5]', 'T[0.5104166666666666]', 'T[0.5208333333333333]', 'T[0.53125]', 'T[0.5416666666666666]', 'T[0.5520833333333333]', 'T[0.5625]', 'T[0.5729166666666666]', 'T[0.5833333333333333]', 'T[0.59375]', 'T[0.6041666666666666]', 'T[0.6145833333333333]', 'T[0.625]', 'T[0.6354166666666666]', 'T[0.6458333333333333]', 'T[0.65625]', 'T[0.6666666666666666]', 'T[0.6770833333333333]', 'T[0.6875]', 'T[0.6979166666666666]', 'T[0.7083333333333333]', 'T[0.71875]', 'T[0.7291666666666666]', 'T[0.7395833333333333]', 'T[0.75]', 'T[0.7604166666666666]', 'T[0.7708333333333333]', 'T[0.78125]', 'T[0.7916666666666666]', 'T[0.8020833333333333]', 'T[0.8125]', 'T[0.8229166666666666]', 'T[0.8333333333333333]', 'T[0.84375]', 'T[0.8541666666666666]', 'T[0.8645833333333333]', 'T[0.875]', 'T[0.8854166666666666]', 'T[0.8958333333333333]', 'T[0.90625]', 'T[0.9166666666666666]', 'T[0.9270833333333333]', 'T[0.9375]', 'T[0.9479166666666666]', 'T[0.9583333333333333]', 'T[0.96875]', 'T[0.9791666666666666]', 'T[0.9895833333333333]', 'T[1.0]', 'A1[0]', 'A2[0]', 'E1[0]', 'E2[0]', 'kp1[0,0.010416666666666666]', 'kp1[0,0.020833333333333332]', 'kp1[0,0.03125]', 'kp1[0,0.041666666666666664]', 'kp1[0,0.05208333333333333]', 'kp1[0,0.0625]', 'kp1[0,0.07291666666666666]', 'kp1[0,0.08333333333333333]', 'kp1[0,0.09375]', 'kp1[0,0.10416666666666666]', 'kp1[0,0.11458333333333333]', 'kp1[0,0.125]', 'kp1[0,0.13541666666666666]', 'kp1[0,0.14583333333333331]', 'kp1[0,0.15625]', 'kp1[0,0.16666666666666666]', 'kp1[0,0.17708333333333331]', 'kp1[0,0.1875]', 'kp1[0,0.19791666666666666]', 'kp1[0,0.20833333333333331]', 'kp1[0,0.21875]', 'kp1[0,0.22916666666666666]', 'kp1[0,0.23958333333333331]', 'kp1[0,0.25]', 'kp1[0,0.26041666666666663]', 'kp1[0,0.2708333333333333]', 'kp1[0,0.28125]', 'kp1[0,0.29166666666666663]', 'kp1[0,0.3020833333333333]', 'kp1[0,0.3125]', 'kp1[0,0.32291666666666663]', 'kp1[0,0.3333333333333333]', 'kp1[0,0.34375]', 'kp1[0,0.35416666666666663]', 'kp1[0,0.3645833333333333]', 'kp1[0,0.375]', 'kp1[0,0.38541666666666663]', 'kp1[0,0.3958333333333333]', 'kp1[0,0.40625]', 'kp1[0,0.41666666666666663]', 'kp1[0,0.4270833333333333]', 'kp1[0,0.4375]', 'kp1[0,0.44791666666666663]', 'kp1[0,0.4583333333333333]', 'kp1[0,0.46875]', 'kp1[0,0.47916666666666663]', 'kp1[0,0.4895833333333333]', 'kp1[0,0.5]', 'kp1[0,0.5104166666666666]', 'kp1[0,0.5208333333333333]', 'kp1[0,0.53125]', 'kp1[0,0.5416666666666666]', 'kp1[0,0.5520833333333333]', 'kp1[0,0.5625]', 'kp1[0,0.5729166666666666]', 'kp1[0,0.5833333333333333]', 'kp1[0,0.59375]', 'kp1[0,0.6041666666666666]', 'kp1[0,0.6145833333333333]', 'kp1[0,0.625]', 'kp1[0,0.6354166666666666]', 'kp1[0,0.6458333333333333]', 'kp1[0,0.65625]', 'kp1[0,0.6666666666666666]', 'kp1[0,0.6770833333333333]', 'kp1[0,0.6875]', 'kp1[0,0.6979166666666666]', 'kp1[0,0.7083333333333333]', 'kp1[0,0.71875]', 'kp1[0,0.7291666666666666]', 'kp1[0,0.7395833333333333]', 'kp1[0,0.75]', 'kp1[0,0.7604166666666666]', 'kp1[0,0.7708333333333333]', 'kp1[0,0.78125]', 'kp1[0,0.7916666666666666]', 'kp1[0,0.8020833333333333]', 'kp1[0,0.8125]', 'kp1[0,0.8229166666666666]', 'kp1[0,0.8333333333333333]', 'kp1[0,0.84375]', 'kp1[0,0.8541666666666666]', 'kp1[0,0.8645833333333333]', 'kp1[0,0.875]', 'kp1[0,0.8854166666666666]', 'kp1[0,0.8958333333333333]', 'kp1[0,0.90625]', 'kp1[0,0.9166666666666666]', 'kp1[0,0.9270833333333333]', 'kp1[0,0.9375]', 'kp1[0,0.9479166666666666]', 'kp1[0,0.9583333333333333]', 'kp1[0,0.96875]', 'kp1[0,0.9791666666666666]', 'kp1[0,0.9895833333333333]', 'kp1[0,1.0]', 'kp2[0,0.010416666666666666]', 'kp2[0,0.020833333333333332]', 'kp2[0,0.03125]', 'kp2[0,0.041666666666666664]', 'kp2[0,0.05208333333333333]', 'kp2[0,0.0625]', 'kp2[0,0.07291666666666666]', 'kp2[0,0.08333333333333333]', 'kp2[0,0.09375]', 'kp2[0,0.10416666666666666]', 'kp2[0,0.11458333333333333]', 'kp2[0,0.125]', 'kp2[0,0.13541666666666666]', 'kp2[0,0.14583333333333331]', 'kp2[0,0.15625]', 'kp2[0,0.16666666666666666]', 'kp2[0,0.17708333333333331]', 'kp2[0,0.1875]', 'kp2[0,0.19791666666666666]', 'kp2[0,0.20833333333333331]', 'kp2[0,0.21875]', 'kp2[0,0.22916666666666666]', 'kp2[0,0.23958333333333331]', 'kp2[0,0.25]', 'kp2[0,0.26041666666666663]', 'kp2[0,0.2708333333333333]', 'kp2[0,0.28125]', 'kp2[0,0.29166666666666663]', 'kp2[0,0.3020833333333333]', 'kp2[0,0.3125]', 'kp2[0,0.32291666666666663]', 'kp2[0,0.3333333333333333]', 'kp2[0,0.34375]', 'kp2[0,0.35416666666666663]', 'kp2[0,0.3645833333333333]', 'kp2[0,0.375]', 'kp2[0,0.38541666666666663]', 'kp2[0,0.3958333333333333]', 'kp2[0,0.40625]', 'kp2[0,0.41666666666666663]', 'kp2[0,0.4270833333333333]', 'kp2[0,0.4375]', 'kp2[0,0.44791666666666663]', 'kp2[0,0.4583333333333333]', 'kp2[0,0.46875]', 'kp2[0,0.47916666666666663]', 'kp2[0,0.4895833333333333]', 'kp2[0,0.5]', 'kp2[0,0.5104166666666666]', 'kp2[0,0.5208333333333333]', 'kp2[0,0.53125]', 'kp2[0,0.5416666666666666]', 'kp2[0,0.5520833333333333]', 'kp2[0,0.5625]', 'kp2[0,0.5729166666666666]', 'kp2[0,0.5833333333333333]', 'kp2[0,0.59375]', 'kp2[0,0.6041666666666666]', 'kp2[0,0.6145833333333333]', 'kp2[0,0.625]', 'kp2[0,0.6354166666666666]', 'kp2[0,0.6458333333333333]', 'kp2[0,0.65625]', 'kp2[0,0.6666666666666666]', 'kp2[0,0.6770833333333333]', 'kp2[0,0.6875]', 'kp2[0,0.6979166666666666]', 'kp2[0,0.7083333333333333]', 'kp2[0,0.71875]', 'kp2[0,0.7291666666666666]', 'kp2[0,0.7395833333333333]', 'kp2[0,0.75]', 'kp2[0,0.7604166666666666]', 'kp2[0,0.7708333333333333]', 'kp2[0,0.78125]', 'kp2[0,0.7916666666666666]', 'kp2[0,0.8020833333333333]', 'kp2[0,0.8125]', 'kp2[0,0.8229166666666666]', 'kp2[0,0.8333333333333333]', 'kp2[0,0.84375]', 'kp2[0,0.8541666666666666]', 'kp2[0,0.8645833333333333]', 'kp2[0,0.875]', 'kp2[0,0.8854166666666666]', 'kp2[0,0.8958333333333333]', 'kp2[0,0.90625]', 'kp2[0,0.9166666666666666]', 'kp2[0,0.9270833333333333]', 'kp2[0,0.9375]', 'kp2[0,0.9479166666666666]', 'kp2[0,0.9583333333333333]', 'kp2[0,0.96875]', 'kp2[0,0.9791666666666666]', 'kp2[0,0.9895833333333333]', 'kp2[0,1.0]', 'CA[0,0.0]', 'CA[0,0.010416666666666666]', 'CA[0,0.020833333333333332]', 'CA[0,0.03125]', 'CA[0,0.041666666666666664]', 'CA[0,0.05208333333333333]', 'CA[0,0.0625]', 'CA[0,0.07291666666666666]', 'CA[0,0.08333333333333333]', 'CA[0,0.09375]', 'CA[0,0.10416666666666666]', 'CA[0,0.11458333333333333]', 'CA[0,0.125]', 'CA[0,0.13541666666666666]', 'CA[0,0.14583333333333331]', 'CA[0,0.15625]', 'CA[0,0.16666666666666666]', 'CA[0,0.17708333333333331]', 'CA[0,0.1875]', 'CA[0,0.19791666666666666]', 'CA[0,0.20833333333333331]', 'CA[0,0.21875]', 'CA[0,0.22916666666666666]', 'CA[0,0.23958333333333331]', 'CA[0,0.25]', 'CA[0,0.26041666666666663]', 'CA[0,0.2708333333333333]', 'CA[0,0.28125]', 'CA[0,0.29166666666666663]', 'CA[0,0.3020833333333333]', 'CA[0,0.3125]', 'CA[0,0.32291666666666663]', 'CA[0,0.3333333333333333]', 'CA[0,0.34375]', 'CA[0,0.35416666666666663]', 'CA[0,0.3645833333333333]', 'CA[0,0.375]', 'CA[0,0.38541666666666663]', 'CA[0,0.3958333333333333]', 'CA[0,0.40625]', 'CA[0,0.41666666666666663]', 'CA[0,0.4270833333333333]', 'CA[0,0.4375]', 'CA[0,0.44791666666666663]', 'CA[0,0.4583333333333333]', 'CA[0,0.46875]', 'CA[0,0.47916666666666663]', 'CA[0,0.4895833333333333]', 'CA[0,0.5]', 'CA[0,0.5104166666666666]', 'CA[0,0.5208333333333333]', 'CA[0,0.53125]', 'CA[0,0.5416666666666666]', 'CA[0,0.5520833333333333]', 'CA[0,0.5625]', 'CA[0,0.5729166666666666]', 'CA[0,0.5833333333333333]', 'CA[0,0.59375]', 'CA[0,0.6041666666666666]', 'CA[0,0.6145833333333333]', 'CA[0,0.625]', 'CA[0,0.6354166666666666]', 'CA[0,0.6458333333333333]', 'CA[0,0.65625]', 'CA[0,0.6666666666666666]', 'CA[0,0.6770833333333333]', 'CA[0,0.6875]', 'CA[0,0.6979166666666666]', 'CA[0,0.7083333333333333]', 'CA[0,0.71875]', 'CA[0,0.7291666666666666]', 'CA[0,0.7395833333333333]', 'CA[0,0.75]', 'CA[0,0.7604166666666666]', 'CA[0,0.7708333333333333]', 'CA[0,0.78125]', 'CA[0,0.7916666666666666]', 'CA[0,0.8020833333333333]', 'CA[0,0.8125]', 'CA[0,0.8229166666666666]', 'CA[0,0.8333333333333333]', 'CA[0,0.84375]', 'CA[0,0.8541666666666666]', 'CA[0,0.8645833333333333]', 'CA[0,0.875]', 'CA[0,0.8854166666666666]', 'CA[0,0.8958333333333333]', 'CA[0,0.90625]', 'CA[0,0.9166666666666666]', 'CA[0,0.9270833333333333]', 'CA[0,0.9375]', 'CA[0,0.9479166666666666]', 'CA[0,0.9583333333333333]', 'CA[0,0.96875]', 'CA[0,0.9791666666666666]', 'CA[0,0.9895833333333333]', 'CA[0,1.0]', 'CB[0,0.0]', 'CB[0,0.010416666666666666]', 'CB[0,0.020833333333333332]', 'CB[0,0.03125]', 'CB[0,0.041666666666666664]', 'CB[0,0.05208333333333333]', 'CB[0,0.0625]', 'CB[0,0.07291666666666666]', 'CB[0,0.08333333333333333]', 'CB[0,0.09375]', 'CB[0,0.10416666666666666]', 'CB[0,0.11458333333333333]', 'CB[0,0.125]', 'CB[0,0.13541666666666666]', 'CB[0,0.14583333333333331]', 'CB[0,0.15625]', 'CB[0,0.16666666666666666]', 'CB[0,0.17708333333333331]', 'CB[0,0.1875]', 'CB[0,0.19791666666666666]', 'CB[0,0.20833333333333331]', 'CB[0,0.21875]', 'CB[0,0.22916666666666666]', 'CB[0,0.23958333333333331]', 'CB[0,0.25]', 'CB[0,0.26041666666666663]', 'CB[0,0.2708333333333333]', 'CB[0,0.28125]', 'CB[0,0.29166666666666663]', 'CB[0,0.3020833333333333]', 'CB[0,0.3125]', 'CB[0,0.32291666666666663]', 'CB[0,0.3333333333333333]', 'CB[0,0.34375]', 'CB[0,0.35416666666666663]', 'CB[0,0.3645833333333333]', 'CB[0,0.375]', 'CB[0,0.38541666666666663]', 'CB[0,0.3958333333333333]', 'CB[0,0.40625]', 'CB[0,0.41666666666666663]', 'CB[0,0.4270833333333333]', 'CB[0,0.4375]', 'CB[0,0.44791666666666663]', 'CB[0,0.4583333333333333]', 'CB[0,0.46875]', 'CB[0,0.47916666666666663]', 'CB[0,0.4895833333333333]', 'CB[0,0.5]', 'CB[0,0.5104166666666666]', 'CB[0,0.5208333333333333]', 'CB[0,0.53125]', 'CB[0,0.5416666666666666]', 'CB[0,0.5520833333333333]', 'CB[0,0.5625]', 'CB[0,0.5729166666666666]', 'CB[0,0.5833333333333333]', 'CB[0,0.59375]', 'CB[0,0.6041666666666666]', 'CB[0,0.6145833333333333]', 'CB[0,0.625]', 'CB[0,0.6354166666666666]', 'CB[0,0.6458333333333333]', 'CB[0,0.65625]', 'CB[0,0.6666666666666666]', 'CB[0,0.6770833333333333]', 'CB[0,0.6875]', 'CB[0,0.6979166666666666]', 'CB[0,0.7083333333333333]', 'CB[0,0.71875]', 'CB[0,0.7291666666666666]', 'CB[0,0.7395833333333333]', 'CB[0,0.75]', 'CB[0,0.7604166666666666]', 'CB[0,0.7708333333333333]', 'CB[0,0.78125]', 'CB[0,0.7916666666666666]', 'CB[0,0.8020833333333333]', 'CB[0,0.8125]', 'CB[0,0.8229166666666666]', 'CB[0,0.8333333333333333]', 'CB[0,0.84375]', 'CB[0,0.8541666666666666]', 'CB[0,0.8645833333333333]', 'CB[0,0.875]', 'CB[0,0.8854166666666666]', 'CB[0,0.8958333333333333]', 'CB[0,0.90625]', 'CB[0,0.9166666666666666]', 'CB[0,0.9270833333333333]', 'CB[0,0.9375]', 'CB[0,0.9479166666666666]', 'CB[0,0.9583333333333333]', 'CB[0,0.96875]', 'CB[0,0.9791666666666666]', 'CB[0,0.9895833333333333]', 'CB[0,1.0]', 'CC[0,0.0]', 'CC[0,0.010416666666666666]', 'CC[0,0.020833333333333332]', 'CC[0,0.03125]', 'CC[0,0.041666666666666664]', 'CC[0,0.05208333333333333]', 'CC[0,0.0625]', 'CC[0,0.07291666666666666]', 'CC[0,0.08333333333333333]', 'CC[0,0.09375]', 'CC[0,0.10416666666666666]', 'CC[0,0.11458333333333333]', 'CC[0,0.125]', 'CC[0,0.13541666666666666]', 'CC[0,0.14583333333333331]', 'CC[0,0.15625]', 'CC[0,0.16666666666666666]', 'CC[0,0.17708333333333331]', 'CC[0,0.1875]', 'CC[0,0.19791666666666666]', 'CC[0,0.20833333333333331]', 'CC[0,0.21875]', 'CC[0,0.22916666666666666]', 'CC[0,0.23958333333333331]', 'CC[0,0.25]', 'CC[0,0.26041666666666663]', 'CC[0,0.2708333333333333]', 'CC[0,0.28125]', 'CC[0,0.29166666666666663]', 'CC[0,0.3020833333333333]', 'CC[0,0.3125]', 'CC[0,0.32291666666666663]', 'CC[0,0.3333333333333333]', 'CC[0,0.34375]', 'CC[0,0.35416666666666663]', 'CC[0,0.3645833333333333]', 'CC[0,0.375]', 'CC[0,0.38541666666666663]', 'CC[0,0.3958333333333333]', 'CC[0,0.40625]', 'CC[0,0.41666666666666663]', 'CC[0,0.4270833333333333]', 'CC[0,0.4375]', 'CC[0,0.44791666666666663]', 'CC[0,0.4583333333333333]', 'CC[0,0.46875]', 'CC[0,0.47916666666666663]', 'CC[0,0.4895833333333333]', 'CC[0,0.5]', 'CC[0,0.5104166666666666]', 'CC[0,0.5208333333333333]', 'CC[0,0.53125]', 'CC[0,0.5416666666666666]', 'CC[0,0.5520833333333333]', 'CC[0,0.5625]', 'CC[0,0.5729166666666666]', 'CC[0,0.5833333333333333]', 'CC[0,0.59375]', 'CC[0,0.6041666666666666]', 'CC[0,0.6145833333333333]', 'CC[0,0.625]', 'CC[0,0.6354166666666666]', 'CC[0,0.6458333333333333]', 'CC[0,0.65625]', 'CC[0,0.6666666666666666]', 'CC[0,0.6770833333333333]', 'CC[0,0.6875]', 'CC[0,0.6979166666666666]', 'CC[0,0.7083333333333333]', 'CC[0,0.71875]', 'CC[0,0.7291666666666666]', 'CC[0,0.7395833333333333]', 'CC[0,0.75]', 'CC[0,0.7604166666666666]', 'CC[0,0.7708333333333333]', 'CC[0,0.78125]', 'CC[0,0.7916666666666666]', 'CC[0,0.8020833333333333]', 'CC[0,0.8125]', 'CC[0,0.8229166666666666]', 'CC[0,0.8333333333333333]', 'CC[0,0.84375]', 'CC[0,0.8541666666666666]', 'CC[0,0.8645833333333333]', 'CC[0,0.875]', 'CC[0,0.8854166666666666]', 'CC[0,0.8958333333333333]', 'CC[0,0.90625]', 'CC[0,0.9166666666666666]', 'CC[0,0.9270833333333333]', 'CC[0,0.9375]', 'CC[0,0.9479166666666666]', 'CC[0,0.9583333333333333]', 'CC[0,0.96875]', 'CC[0,0.9791666666666666]', 'CC[0,0.9895833333333333]', 'CC[0,1.0]', 'kp1[0,0.0]', 'kp2[0,0.0]']\n",
      "Build time with direct kaug mode [s]: 0.021114110946655273\n",
      "Solve time with direct kaug mode [s]: 0.5185098648071289\n"
     ]
    },
    {
     "data": {
      "text/plain": [
       "\"\\nif sensi_opt == 'simultaneous_finite':\\n    result.extract_FIM(doe_object.m, doe_object.design_timeset,\\n                                                          doe_object.square_result, doe_object.obj_opt)\\nelse: \\n    result.calculate_FIM(doe_object.jac, doe_object.design_values)\\n\""
      ]
     },
     "execution_count": 7,
     "metadata": {},
     "output_type": "execute_result"
    }
   ],
   "source": [
    "doe_object = DesignOfExperiments(parameter_dict, dv_pass,\n",
    "                                 ['CA','CB','CC'], t_measure, createmod,\n",
    "                                prior_FIM=prior_pass, discretize_model=disc)\n",
    "\n",
    "\n",
    "if_s = True\n",
    "\n",
    "result = doe_object.compute_FIM(exp1,mode=sensi_opt, FIM_store_name = 'dynamic.csv', \n",
    "                                scale_nominal_param_value=if_s, formula='central')\n",
    "\n",
    "'''\n",
    "if sensi_opt == 'simultaneous_finite':\n",
    "    result.extract_FIM(doe_object.m, doe_object.design_timeset,\n",
    "                                                          doe_object.square_result, doe_object.obj_opt)\n",
    "else: \n",
    "    result.calculate_FIM(doe_object.jac, doe_object.design_values)\n",
    "'''"
   ]
  },
  {
   "cell_type": "code",
   "execution_count": 8,
   "id": "45846b75",
   "metadata": {},
   "outputs": [
    {
     "name": "stdout",
     "output_type": "stream",
     "text": [
      "[array([0., 0., 0., 0.]), array([-0.01730277,  0.        ,  0.58817855,  0.        ]), array([-0.02164992,  0.        ,  0.73595264,  0.        ]), array([-0.02031694,  0.        ,  0.69064014,  0.        ]), array([-0.01694758,  0.        ,  0.57610447,  0.        ]), array([-0.01325343,  0.        ,  0.45052817,  0.        ]), array([-0.00994994,  0.        ,  0.33823137,  0.        ]), array([-0.00726236,  0.        ,  0.24687173,  0.        ]), array([-0.00519255,  0.        ,  0.17651191,  0.        ]), array([0., 0., 0., 0.]), array([ 1.62122230e-02, -2.80212223e-04, -5.51107296e-01,  4.17585026e-02]), array([ 0.01854136, -0.00089912, -0.63028239,  0.1339912 ]), array([ 0.01529419, -0.00163321, -0.51990034,  0.24338812]), array([ 0.01048416, -0.0023581 , -0.35639143,  0.35141531]), array([ 0.00588382, -0.00300928, -0.20001056,  0.44845695]), array([ 0.00214202, -0.00355776, -0.0728145 ,  0.53019374]), array([-0.00062149, -0.00399515,  0.02112653,  0.59537472]), array([-0.0025094 , -0.0043245 ,  0.08530294,  0.6444562 ]), array([0., 0., 0., 0.]), array([ 0.00109055,  0.00028021, -0.03707125, -0.0417585 ]), array([ 0.00310856,  0.00089912, -0.10567024, -0.1339912 ]), array([ 0.00502275,  0.00163321, -0.1707398 , -0.24338812]), array([ 0.00646342,  0.0023581 , -0.21971304, -0.35141531]), array([ 0.00736961,  0.00300928, -0.25051761, -0.44845695]), array([ 0.00780791,  0.00355776, -0.26541687, -0.53019374]), array([ 0.00788385,  0.00399515, -0.26799827, -0.59537472]), array([ 0.00770195,  0.0043245 , -0.26181485, -0.6444562 ])]\n"
     ]
    }
   ],
   "source": [
    "print(result)"
   ]
  },
  {
   "cell_type": "code",
   "execution_count": null,
   "id": "64fc6da4",
   "metadata": {},
   "outputs": [],
   "source": [
    "print('======Result summary======')\n",
    "print('Four design criteria log10() value:')\n",
    "print('A-optimality:', np.log10(result.trace))\n",
    "print('D-optimality:', np.log10(result.det))\n",
    "print('E-optimality:', np.log10(result.min_eig))\n",
    "print('Modified E-optimality:', np.log10(result.cond))"
   ]
  },
  {
   "cell_type": "markdown",
   "id": "7dfe1ef2",
   "metadata": {},
   "source": [
    "### Run sequential DOE automatically\n",
    "\n",
    "This method runs a series of experiments in a row."
   ]
  },
  {
   "cell_type": "code",
   "execution_count": null,
   "id": "5273a9af",
   "metadata": {},
   "outputs": [],
   "source": [
    "# this only works for constant T mode. \n",
    "exp1 = generate_exp(t_control, 5, [300])\n",
    "exp2 = generate_exp(t_control, 5, [500.92])\n",
    "exp3 = generate_exp(t_control, 5, [528])\n",
    "exp4 = generate_exp(t_control, 5, [546.8])\n",
    "exp5 = generate_exp(t_control, 5, [562])"
   ]
  },
  {
   "cell_type": "code",
   "execution_count": null,
   "id": "940683df",
   "metadata": {},
   "outputs": [],
   "source": [
    "\n",
    "exp_all = [exp1, exp2, exp3, exp4, exp5]\n",
    "\n",
    "\n",
    "doe_object = DesignOfExperiments(parameter_dict, dv_pass,\n",
    "                                 ['CA','CB','CC'], t_measure, createmod,\n",
    "                                prior_FIM=prior_pass, discretize_model=disc)\n",
    "\n",
    "# choose from 'simultaneous', 'sequential', 'sipopt'\n",
    "#sensi_opt = 'simultaneous_finite'\n",
    "sensi_opt = 'sequential_finite'\n",
    "#sensi_opt = 'sequential_sipopt'\n",
    "if_s = True\n",
    "result = doe_object.sequential_exp(exp_all, mode=sensi_opt, tee_option=True,\n",
    "                                    scale_nominal_param_value=if_s, formula='central')"
   ]
  },
  {
   "cell_type": "code",
   "execution_count": null,
   "id": "4939f5c1",
   "metadata": {},
   "outputs": [],
   "source": [
    "print('=======Result summary=======')\n",
    "for i in range(len(exp_all)):\n",
    "    print('The ', i+1,'th experiment has optimality log10() values:')\n",
    "    print('A-optimality:', np.log10(result[0][i].trace))\n",
    "    print('D-optimality:', np.log10(result[0][i].det))\n",
    "    print('E-optimality:', np.log10(result[0][i].min_eig))\n",
    "    print('Modified E-optimality:', np.log10(result[0][i].cond))"
   ]
  },
  {
   "cell_type": "markdown",
   "id": "hindu-bathroom",
   "metadata": {},
   "source": [
    "## Optimization"
   ]
  },
  {
   "cell_type": "code",
   "execution_count": null,
   "id": "wicked-raising",
   "metadata": {
    "scrolled": true
   },
   "outputs": [],
   "source": [
    "doe_object = DesignOfExperiments(parameter_dict, dv_pass, \n",
    "                                 ['CA','CB','CC'], t_measure, createmod,\n",
    "                                 prior_FIM=prior_pass, discretize_model=disc)\n",
    "\n",
    "square_result, optimize_result = doe_object.optimize_doe(exp1, if_optimize=True, if_Cholesky=True, \n",
    "                                                         scale_nominal_param_value=True, objective_option='det', \n",
    "                                                         L_initial=None)\n"
   ]
  },
  {
   "cell_type": "code",
   "execution_count": null,
   "id": "c6b08c05",
   "metadata": {},
   "outputs": [],
   "source": [
    "print('======Result summary======')\n",
    "print('This optimization is solved with status:', optimize_result.status)\n",
    "print('It gives solution:', optimize_result.solution)\n",
    "print('The log10(OF) optimized is:', optimize_result.obj_value)\n",
    "print('The result FIM is:', optimize_result.FIM)\n",
    "\n",
    "t_list = []\n",
    "for t in optimize_result.model.t:\n",
    "    t_list.append(t)\n",
    "\n",
    "T_list = []\n",
    "for i in t_list:\n",
    "    T_list.append(value(optimize_result.model.T[i]))\n",
    "\n",
    "si=16\n",
    "plt.rc('axes', titlesize=si)\n",
    "plt.rc('axes', labelsize=si)\n",
    "plt.rc('xtick', labelsize=si)\n",
    "plt.rc('ytick', labelsize=si)\n",
    "plt.rc('legend', fontsize=12)\n",
    "    \n",
    "plt.plot(t_list, T_list, 'b', linewidth=2)\n",
    "#plt.scatter(t_list, T_list, 'b')\n",
    "plt.ylabel('T [$K$]')\n",
    "plt.xlabel('Time [$h$]')\n",
    "plt.show()"
   ]
  },
  {
   "cell_type": "markdown",
   "id": "skilled-booking",
   "metadata": {},
   "source": [
    "## Grid search for 2 design variables"
   ]
  },
  {
   "cell_type": "code",
   "execution_count": null,
   "id": "427c7dc8",
   "metadata": {},
   "outputs": [],
   "source": [
    "design_ranges = [list(np.linspace(1,5,3)), list(np.linspace(300,700,3))]\n",
    "\n",
    "dv_apply_name = ['CA0','T']\n",
    "\n",
    "dv_apply_time = [[0],t_control]\n",
    "\n",
    "# Define experiments\n",
    "if (model_opt=='dynamic-DAE'):\n",
    "    exp1 = generate_exp(t_control, 5, [570.21, 300, 300, 300, 300, 300, 300, 300, 300])\n",
    "else: \n",
    "    exp1 = generate_exp(t_control, 5, [500])"
   ]
  },
  {
   "cell_type": "code",
   "execution_count": null,
   "id": "dcfae212",
   "metadata": {
    "scrolled": true
   },
   "outputs": [],
   "source": [
    "doe_object = DesignOfExperiments(parameter_dict, dv_pass, \n",
    "                                 ['CA','CB','CC'], t_measure, createmod,\n",
    "                                 prior_FIM=prior_pass, discretize_model=disc)\n",
    "\n",
    "all_fim = doe_object.run_grid_search(exp1, design_ranges,dv_apply_name, dv_apply_time, \n",
    "                                     mode='sequential_kaug', \n",
    "                                    scale_nominal_param_value=True\n",
    "                                    )"
   ]
  },
  {
   "cell_type": "markdown",
   "id": "7ac0e0ed",
   "metadata": {},
   "source": [
    "### 1D sensitivity curve"
   ]
  },
  {
   "cell_type": "code",
   "execution_count": null,
   "id": "991969ba",
   "metadata": {},
   "outputs": [],
   "source": [
    "test = all_fim.extract_criteria()\n",
    "\n",
    "## draw 1D sensitivity curve \n",
    "\n",
    "fixed = {\"'CA0'\": 5.0}\n",
    "\n",
    "all_fim.figure_drawing(fixed, ['T'], 'Reactor case','T [K]','$C_{A0}$ [M]' )\n",
    "\n"
   ]
  },
  {
   "cell_type": "markdown",
   "id": "b1b57f39",
   "metadata": {},
   "source": [
    "## Heatmap"
   ]
  },
  {
   "cell_type": "code",
   "execution_count": null,
   "id": "c9fe2868",
   "metadata": {},
   "outputs": [],
   "source": [
    "fixed = {}\n",
    "all_fim.figure_drawing(fixed, ['CA0','T'], 'Reactor case','$C_{A0}$ [M]', 'T [K]' )"
   ]
  },
  {
   "cell_type": "markdown",
   "id": "c583f3c1",
   "metadata": {},
   "source": [
    "## Grid search for 3 design variables"
   ]
  },
  {
   "cell_type": "code",
   "execution_count": null,
   "id": "flush-diameter",
   "metadata": {},
   "outputs": [],
   "source": [
    "\n",
    "#design_ranges = [list(np.linspace(1,5,2)),  list(np.linspace(300,700,2)), [300,500]]\n",
    "design_ranges = [list(np.linspace(1,5,2)),  list(np.linspace(300,700,2)), [300,500]]\n",
    "\n",
    "dv_apply_name = ['CA0', 'T', 'T']\n",
    "dv_apply_time = [[0], [0], [0.125, 0.25, 0.375, 0.5, 0.625, 0.75, 0.875,1]]\n",
    "\n",
    "# Define experiments\n",
    "if (model_opt=='dynamic-DAE'):\n",
    "    exp1 = generate_exp(t_control, 5, [570.21, 300, 300, 300, 300, 300, 300, 300, 300])\n",
    "else: \n",
    "    exp1 = generate_exp(t_control, 5, [500])"
   ]
  },
  {
   "cell_type": "code",
   "execution_count": null,
   "id": "separate-leone",
   "metadata": {
    "scrolled": true
   },
   "outputs": [],
   "source": [
    "doe_object = DesignOfExperiments(parameter_dict, dv_pass, \n",
    "                                 ['CA','CB','CC'], t_measure, createmod,\n",
    "                                 prior_FIM=prior_pass, discretize_model=disc)\n",
    "\n",
    "all_fim = doe_object.run_grid_search(exp1, design_ranges,dv_apply_name, dv_apply_time, \n",
    "                                     mode='sequential_finite', \n",
    "                                    scale_nominal_param_value=True\n",
    "                                    )"
   ]
  },
  {
   "cell_type": "markdown",
   "id": "d533298f",
   "metadata": {},
   "source": [
    "### Draw 1D sensitivity curve"
   ]
  },
  {
   "cell_type": "code",
   "execution_count": null,
   "id": "75da1683",
   "metadata": {},
   "outputs": [],
   "source": [
    "test = all_fim.extract_criteria()"
   ]
  },
  {
   "cell_type": "code",
   "execution_count": null,
   "id": "c20e6579",
   "metadata": {
    "scrolled": true
   },
   "outputs": [],
   "source": [
    "## draw 1D sensitivity curve \n",
    "\n",
    "fixed = {\"'CA0'\": 1.0, \"'T2'\": 300}\n",
    "\n",
    "all_fim.figure_drawing(fixed, ['T'], 'Reactor case','T [K]','$C_{A0}$ [M]' )"
   ]
  },
  {
   "cell_type": "markdown",
   "id": "affd1491",
   "metadata": {},
   "source": [
    "### Draw 2D sensitivity curve"
   ]
  },
  {
   "cell_type": "code",
   "execution_count": null,
   "id": "16be2b47",
   "metadata": {
    "scrolled": true
   },
   "outputs": [],
   "source": [
    "fixed = {\"'T2'\": 300}\n",
    "\n",
    "all_fim.figure_drawing(fixed, ['CA0','T'], 'Reactor case','$C_{A0}$ [M]', 'T [K]' )"
   ]
  },
  {
   "cell_type": "markdown",
   "id": "b116410d",
   "metadata": {},
   "source": [
    "## Dynamic heatmap"
   ]
  },
  {
   "cell_type": "code",
   "execution_count": null,
   "id": "87997eb7",
   "metadata": {},
   "outputs": [],
   "source": [
    "design_ranges = [list(np.linspace(300,700,18))]\n",
    "\n",
    "dv_apply_name = ['T']\n",
    "\n",
    "count = 0\n",
    "for ct in t_control:\n",
    "    print('Time controlled:', ct)\n",
    "    dv_apply_time = [[ct]]\n",
    "\n",
    "    # Define experiments\n",
    "    exp1 = generate_exp(t_control, 5, [300, 300, 300, 300, 300, 300, 300, 300, 300])\n",
    "    \n",
    "    doe_object = DesignOfExperiments(parameter_dict, dv_pass, \n",
    "                                 ['CA','CB','CC'], t_measure, createmod,\n",
    "                                 prior_FIM=prior_pass, discretize_model=disc)\n",
    "\n",
    "    all_fim = doe_object.run_grid_search(exp1, design_ranges,dv_apply_name, dv_apply_time, \n",
    "                                     mode='sequential_finite', \n",
    "                                    scale_nominal_param_value=True,\n",
    "                                     filename = '300base_'+str(count)+'.csv'\n",
    "                                    )\n",
    "    \n",
    "    test = all_fim.extract_criteria()\n",
    "\n",
    "    ## draw 1D sensitivity curve \n",
    "\n",
    "    fixed = {}\n",
    "\n",
    "    all_fim.figure_drawing(fixed, ['T'], 'Reactor case','T [K]','$C_{A0}$ [M]' )\n",
    "    count += 1 "
   ]
  },
  {
   "cell_type": "code",
   "execution_count": null,
   "id": "9c06237a",
   "metadata": {},
   "outputs": [],
   "source": [
    "filename_list = []\n",
    "count = 0\n",
    "for ct in t_control:\n",
    "    print('Time controlled:', ct)\n",
    "    filename_list.append('300base_'+str(count)+'.csv')\n",
    "    count += 1\n",
    "    \n",
    "print(filename_list)\n",
    "\n",
    "data_list = []\n",
    "for i in filename_list:\n",
    "    data_list.append(pd.read_csv(i))\n",
    "print(np.shape(data_list))"
   ]
  },
  {
   "cell_type": "code",
   "execution_count": null,
   "id": "69cedae2",
   "metadata": {},
   "outputs": [],
   "source": [
    "print(data_list[3]['D'].iloc[4])"
   ]
  },
  {
   "cell_type": "code",
   "execution_count": null,
   "id": "a0c522a7",
   "metadata": {},
   "outputs": [],
   "source": [
    "d_result = np.zeros((18,8))\n",
    "\n",
    "for i in range(8):\n",
    "    for j in range(18):\n",
    "        d_result[j,i] = np.log10(data_list[i]['A'].iloc[j])\n",
    "        \n",
    "print(d_result)"
   ]
  },
  {
   "cell_type": "code",
   "execution_count": null,
   "id": "76b252c0",
   "metadata": {
    "scrolled": true
   },
   "outputs": [],
   "source": [
    "x_range1 = [0.125,0.25,0.375,0.5,0.625,0.75,0.875,1]\n",
    "#x_range1 = [0.13, 0.25,0.38,0.5,0.63,0.75,0.88,1]\n",
    "#x_range1 = [7.5, 15, 22.5, 30, 37.5, 45, 52.5, 60]\n",
    "y_range1 = yLabel = [300, 321, 342, 363, 384, 405, 426, 447, 468, 489, 511, 532, 553, 574, 595, 616, 637, 658, 679, 700.0]\n",
    "\n",
    "heatmap(x_range1, y_range1, 'Time [$min$]', 'Temperature [$K$]')"
   ]
  },
  {
   "cell_type": "code",
   "execution_count": null,
   "id": "2cb4b083",
   "metadata": {},
   "outputs": [],
   "source": [
    "import matplotlib.ticker as ticker\n",
    "def heatmap(x_range, y_range, xlabel_text, ylabel_text, font_axes=16, font_tick=12, log_scale=True):\n",
    "    '''\n",
    "    Draw 2D heatmaps for all design criteria\n",
    "\n",
    "    Parameters:\n",
    "    ----------\n",
    "    title_text: name of the figure, a string\n",
    "    xlabel_text: x label title, a string.\n",
    "        In a 2D heatmap, it should be the second design varialbe in the design_ranges\n",
    "    ylabel_text: y label title, a string.\n",
    "        In a 2D heatmap, it should be the first design variable in the dv_ranges\n",
    "    font_axes: axes label font size\n",
    "    font_tick: tick label font size\n",
    "    log_scale: if True, the result matrix will be scaled by log10\n",
    "\n",
    "    Returns:\n",
    "    --------\n",
    "    4 Figures of 2D heatmap for each criteria\n",
    "    '''\n",
    "    # set heatmap x,y ranges\n",
    "    xLabel = x_range\n",
    "    yLabel = y_range\n",
    "\n",
    "    # D-optimality\n",
    "    fig = plt.figure()\n",
    "    plt.rc('axes', titlesize=font_axes)\n",
    "    plt.rc('axes', labelsize=font_axes)\n",
    "    plt.rc('xtick', labelsize=font_tick)\n",
    "    plt.rc('ytick', labelsize=font_tick)\n",
    "    ax = fig.add_subplot(111)\n",
    "    params = {'mathtext.default': 'regular'}\n",
    "    plt.rcParams.update(params)\n",
    "    ax.set_yticks(range(len(yLabel)))\n",
    "    ax.set_yticklabels(yLabel)\n",
    "    ax.set_ylabel(ylabel_text)\n",
    "    \n",
    "    \n",
    "    ax.set_xticks(range(len(xLabel)))\n",
    "    ax.set_xticklabels(xLabel)\n",
    "    loc = ticker.MultipleLocator(base=3)\n",
    "    ax.xaxis.set_major_locator(loc)\n",
    "    ax.set_xlabel(xlabel_text)\n",
    "\n",
    "    im = ax.imshow(d_result, cmap=plt.cm.hot_r)\n",
    "    ba = plt.colorbar(im)\n",
    "    ba.set_label('$log_{10}$(A-optimality)',labelpad=-40, y=1.1, rotation=0)\n",
    "    plt.show()\n"
   ]
  },
  {
   "cell_type": "code",
   "execution_count": null,
   "id": "14d1e7e8",
   "metadata": {},
   "outputs": [],
   "source": []
  }
 ],
 "metadata": {
  "kernelspec": {
   "display_name": "Python 3 (ipykernel)",
   "language": "python",
   "name": "python3"
  },
  "language_info": {
   "codemirror_mode": {
    "name": "ipython",
    "version": 3
   },
   "file_extension": ".py",
   "mimetype": "text/x-python",
   "name": "python",
   "nbconvert_exporter": "python",
   "pygments_lexer": "ipython3",
   "version": "3.9.6"
  }
 },
 "nbformat": 4,
 "nbformat_minor": 5
}
