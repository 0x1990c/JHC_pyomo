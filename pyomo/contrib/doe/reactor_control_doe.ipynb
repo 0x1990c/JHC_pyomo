{
 "cells": [
  {
   "cell_type": "markdown",
   "id": "opposite-garage",
   "metadata": {},
   "source": [
    "# Reactor Kinetics Example \n",
    "\n",
    "Jialu Wang (jwang44@nd.edu) and Alex Dowling (adowling@nd.edu)\n",
    "\n",
    "University of Notre Dame\n",
    "\n",
    "This notebook conducts design of experiments for a reactor kinetics experiment with the Pyomo.DOE.\n",
    "    "
   ]
  },
  {
   "cell_type": "code",
   "execution_count": 1,
   "id": "worth-origin",
   "metadata": {},
   "outputs": [],
   "source": [
    "import matplotlib.pyplot as plt\n",
    "from pyomo.environ import *\n",
    "from pyomo.dae import *\n",
    "\n",
    "import numpy as np\n",
    "from scipy.interpolate import interp2d\n",
    "import pandas as pd \n",
    "\n",
    "from DoE_package import *\n",
    "from pyomo.contrib.sensitivity_toolbox.sens import sipopt"
   ]
  },
  {
   "cell_type": "markdown",
   "id": "graphic-controversy",
   "metadata": {},
   "source": [
    "## Define Reaction Example Mathematical Model"
   ]
  },
  {
   "cell_type": "markdown",
   "id": "disturbed-prediction",
   "metadata": {},
   "source": [
    "Consider two chemical reactions that converts molecule $A$ to desired product $B$ and a less valuable side-product $C$.\n",
    "\n",
    "$A \\overset{k_1}{\\rightarrow} B \\overset{k_2}{\\rightarrow} C$\n",
    "\n",
    "Our ultimate goals is to design a large-scale continous reactor that maximizes the production of $B$. This general sequential reactions problem is widely applicable to CO$_2$ capture and industry more broadly (petrochemicals, pharmasuticals, etc.).\n",
    "\n",
    "The rate laws for these two chemical reactions are:\n",
    "\n",
    "$r_A = -k_1 C_A$\n",
    "\n",
    "$r_B = k_1 C_A - k_2 C_B$\n",
    "\n",
    "$r_C = k_2 C_B$\n",
    "\n",
    "Here, $C_A$, $C_B$, and $C_C$ are the concentrations of each species. The rate constants $k_1$ and $k_2$ depend on temperature as follows:\n",
    "\n",
    "$k_1 = A_1 \\exp{\\frac{-E_1}{R T}}$\n",
    "\n",
    "$k_2 = A_2 \\exp{\\frac{-E_2}{R T}}$\n",
    "\n",
    "$A_1, A_2, E_1$, and $E_2$ are fitted model parameters. $R$ is the ideal-gas constant and $T$ is absolute temperature.\n",
    "\n",
    "Using the **CCSI$^2$ toolset**, we would like do the following perform:\n",
    "\n",
    "Perform **uncertainty quantification** and **design of experiments** on a small-scale **batch reactor** to infer parameters $A_1$, $A_2$, $E_1$, and $E_2$."
   ]
  },
  {
   "cell_type": "markdown",
   "id": "sweet-niger",
   "metadata": {},
   "source": [
    "### Batch reactor\n",
    "\n",
    "The concenrations in a batch reactor evolve with time per the following differential equations:\n",
    "\n",
    "$$ \\frac{d C_A}{dt} = r_A = -k_1 C_A $$\n",
    "\n",
    "$$ \\frac{d C_B}{dt} = r_B = k_1 C_A - k_2 C_B $$\n",
    "\n",
    "$$ \\frac{d C_C}{dt} = r_C = k_2 C_B $$\n",
    "\n",
    "This is a linear system of differential equations. Assuming the feed is only species $A$, i.e., \n",
    "\n",
    "$$C_A(t=0) = C_{A0} \\quad C_B(t=0) = 0 \\quad C_C(t=0) = 0$$\n",
    "\n",
    "When the temperature is constant, it leads to the following analytic solution:\n",
    "\n",
    "$$C_A(t) = C_{A,0} \\exp(-k_1 t)$$\n",
    "\n",
    "$$C_B(t) = \\frac{k_1}{k_2 - k_1} C_{A,0} \\left[\\exp(-k_1 t) - \\exp(-k_2 t) \\right]$$\n",
    "\n",
    "$$C_C(t) = C_{A,0} - \\frac{k_2}{k_2 - k_1} C_{A,0} \\exp(-k_1 t) + \\frac{k_1}{k_2 - k_1} \\exp(-k_2 t) C_{A,0} = C_{A,0} - C_{A}(t) - C_{B}(t)$$"
   ]
  },
  {
   "cell_type": "code",
   "execution_count": 2,
   "id": "eligible-robert",
   "metadata": {},
   "outputs": [],
   "source": [
    "from reactor_models import *"
   ]
  },
  {
   "cell_type": "markdown",
   "id": "6f7434dc",
   "metadata": {},
   "source": [
    "Three versions of this model is accomplished: \n",
    "\n",
    "Dynamic-DAE model: Temperature varying model discretized and integrated by Pyomo.DAE\n",
    "\n",
    "Constant-DAE model: Temperature constant model discretized and integrated by Pyomo.DAE\n",
    "\n",
    "Constant-analytical model: Temperature constant model discretized manually and using the analytical expressions for state variables."
   ]
  },
  {
   "cell_type": "code",
   "execution_count": 3,
   "id": "d576e9c4",
   "metadata": {},
   "outputs": [],
   "source": [
    "# choose model from 'dynamic-DAE', 'constant-DAE', 'constant-analytical'\n",
    "#model_opt = 'dynamic-DAE'\n",
    "model_opt = 'constant-DAE'\n",
    "#model_opt = 'constant-analytical'\n",
    "\n",
    "if (model_opt=='dynamic-DAE'):\n",
    "    createmod = create_model_dae\n",
    "    disc = discretizer\n",
    "    t_control = [0, 0.125, 0.25, 0.375, 0.5, 0.625, 0.75, 0.875, 1]\n",
    "    \n",
    "elif (model_opt=='constant-DAE'):\n",
    "    createmod = create_model_dae_const\n",
    "    disc = discretizer\n",
    "    t_control = [0]\n",
    "    \n",
    "elif (model_opt=='constant-analytical'):\n",
    "    createmod = create_model_alge\n",
    "    disc = None\n",
    "    t_control = [0]\n",
    "\n",
    "    \n",
    "# design variable and its control time set\n",
    "dv_pass = {'CA0': [0],'T': t_control}\n",
    "    \n",
    "# Define measurement time points\n",
    "t_measure = [0, 0.125, 0.25, 0.375, 0.5, 0.625, 0.75, 0.875, 1]"
   ]
  },
  {
   "cell_type": "code",
   "execution_count": 4,
   "id": "47137cb2",
   "metadata": {},
   "outputs": [],
   "source": [
    "# Define parameter nominal value \n",
    "parameter_dict = {'A1': 84.79085853498033, 'A2': 371.71773413976416, 'E1': 7.777032028026428, 'E2': 15.047135137500822}\n",
    "\n",
    "def generate_exp(t_set, CA0, T):  \n",
    "    '''Generate experiments. \n",
    "    t_set: time control set for T.\n",
    "    CA0: CA0 value\n",
    "    T: A list of T \n",
    "    '''\n",
    "    assert(len(t_set)==len(T)), 'T should have the same length as t_set'\n",
    "    \n",
    "    T_con_initial = {}\n",
    "    for t, tim in enumerate(t_set):\n",
    "        T_con_initial[tim] = T[t]\n",
    "        \n",
    "    dv_dict_overall = {'CA0': {0: CA0},'T': T_con_initial}\n",
    "    return dv_dict_overall"
   ]
  },
  {
   "cell_type": "code",
   "execution_count": 5,
   "id": "written-tours",
   "metadata": {},
   "outputs": [
    {
     "name": "stdout",
     "output_type": "stream",
     "text": [
      "The prior information FIM: [[  28.67892806    5.41249739  -81.73674601  -24.02377324]\n",
      " [   5.41249739   26.40935036  -12.41816477 -139.23992532]\n",
      " [ -81.73674601  -12.41816477  240.46276004   58.76422806]\n",
      " [ -24.02377324 -139.23992532   58.76422806  767.25584508]]\n",
      "Prior Det: 140189.67370995492\n",
      "Eigenvalue of the prior experiments FIM: [8.00463185e+02 2.60471503e+02 4.84545259e-01 1.38765050e+00]\n",
      "Eigenvalue of the prior experiments FIM: [[-0.77629273 -0.54211788  0.31871243 -0.0435912 ]\n",
      " [ 0.56614148 -0.80478003 -0.01425817 -0.177791  ]\n",
      " [-0.25919275 -0.19059651 -0.94009108  0.11278677]\n",
      " [ 0.09834911 -0.14869526  0.12019924  0.97661114]]\n"
     ]
    }
   ],
   "source": [
    "# empty prior\n",
    "#prior_all = np.zeros((4,4))\n",
    "\n",
    "\n",
    "# add prior information\n",
    "prior_5_300 = pd.read_csv('fim_5_300_scale.csv')\n",
    "prior_5_300_500 = pd.read_csv('fim_5_300_500_scale.csv')\n",
    "\n",
    "prior_all = prior_5_300_500\n",
    "\n",
    "\n",
    "prior_pass=np.asarray(prior_all)\n",
    "\n",
    "#L_initials = np.linalg.cholesky(prior_pass)\n",
    "#print(L_initials)\n",
    "\n",
    "print('The prior information FIM:', prior_pass)\n",
    "print('Prior Det:', np.linalg.det(prior_pass))\n",
    "print('Eigenvalue of the prior experiments FIM:', np.linalg.eigvals(prior_pass))\n",
    "print('Eigenvalue of the prior experiments FIM:', np.linalg.eigh(prior_pass)[1])"
   ]
  },
  {
   "cell_type": "markdown",
   "id": "destroyed-african",
   "metadata": {},
   "source": [
    "## Compute FIM \n",
    "\n",
    "This method computes an MBDoE optimization problem with no Degree of Freedom."
   ]
  },
  {
   "cell_type": "code",
   "execution_count": null,
   "id": "d3ee5ff9",
   "metadata": {},
   "outputs": [],
   "source": [
    "# choose from 'simultaneous', 'sequential', 'sipopt'\n",
    "#sensi_opt = 'simultaneous_finite'\n",
    "#sensi_opt = 'sequential_finite'\n",
    "sensi_opt = 'sequential_sipopt'\n",
    "#sensi_opt = 'sequential_kaug'\n",
    "\n",
    "# Define experiments\n",
    "if (model_opt=='dynamic-DAE'):\n",
    "    exp1 = generate_exp(t_control, 5, [570.21, 300, 300, 300, 300, 300, 300, 300, 300])\n",
    "else: \n",
    "    exp1 = generate_exp(t_control, 5, [500])\n",
    "\n",
    "print('Design variable:', exp1)"
   ]
  },
  {
   "cell_type": "code",
   "execution_count": null,
   "id": "latin-medicare",
   "metadata": {
    "scrolled": true
   },
   "outputs": [],
   "source": [
    "doe_object = DesignOfExperiments(parameter_dict, dv_pass,\n",
    "                                 ['CA','CB','CC'], t_measure, createmod,\n",
    "                                prior_FIM=prior_pass, discretize_model=disc)\n",
    "\n",
    "\n",
    "if_s = True\n",
    "result = doe_object.compute_FIM(exp1,mode=sensi_opt, FIM_store_name = 'dynamic.csv', scale_nominal_param_value=if_s, formula='central')\n",
    "\n",
    "\n",
    "if sensi_opt == 'simultaneous_finite':\n",
    "    result.extract_FIM(doe_object.m, doe_object.design_timeset,\n",
    "                                                          doe_object.square_result, doe_object.obj_opt)\n",
    "else:\n",
    "    result.calculate_FIM(doe_object.jac, doe_object.design_values)"
   ]
  },
  {
   "cell_type": "code",
   "execution_count": null,
   "id": "64fc6da4",
   "metadata": {},
   "outputs": [],
   "source": [
    "print('======Result summary======')\n",
    "print('Four design criteria log10() value:')\n",
    "print('A-optimality:', np.log10(result.trace))\n",
    "print('D-optimality:', np.log10(result.det))\n",
    "print('E-optimality:', np.log10(result.min_eig))\n",
    "print('Modified E-optimality:', np.log10(result.cond))"
   ]
  },
  {
   "cell_type": "markdown",
   "id": "7dfe1ef2",
   "metadata": {},
   "source": [
    "### Run sequential DOE automatically\n",
    "\n",
    "This method runs a series of experiments in a row."
   ]
  },
  {
   "cell_type": "code",
   "execution_count": null,
   "id": "5273a9af",
   "metadata": {},
   "outputs": [],
   "source": [
    "exp1 = generate_exp(t_control, 5, [300])\n",
    "exp2 = generate_exp(t_control, 5, [500.92])\n",
    "exp3 = generate_exp(t_control, 5, [528])\n",
    "exp4 = generate_exp(t_control, 5, [546.8])\n",
    "exp5 = generate_exp(t_control, 5, [562])"
   ]
  },
  {
   "cell_type": "code",
   "execution_count": null,
   "id": "940683df",
   "metadata": {},
   "outputs": [],
   "source": [
    "\n",
    "exp_all = [exp1, exp2, exp3, exp4, exp5]\n",
    "\n",
    "\n",
    "doe_object = DesignOfExperiments(parameter_dict, dv_pass,\n",
    "                                 ['CA','CB','CC'], t_measure, createmod,\n",
    "                                prior_FIM=prior_pass, discretize_model=disc)\n",
    "\n",
    "# choose from 'simultaneous', 'sequential', 'sipopt'\n",
    "#sensi_opt = 'simultaneous_finite'\n",
    "sensi_opt = 'sequential_finite'\n",
    "#sensi_opt = 'sequential_sipopt'\n",
    "if_s = True\n",
    "result = doe_object.sequential_exp(exp_all, mode=sensi_opt, tee_option=True,\n",
    "                                    scale_nominal_param_value=if_s, formula='central')"
   ]
  },
  {
   "cell_type": "code",
   "execution_count": null,
   "id": "4939f5c1",
   "metadata": {},
   "outputs": [],
   "source": [
    "print('=======Result summary=======')\n",
    "for i in range(len(exp_all)):\n",
    "    print('The ', i+1,'th experiment has optimality log10() values:')\n",
    "    print('A-optimality:', np.log10(result[0][i].trace))\n",
    "    print('D-optimality:', np.log10(result[0][i].det))\n",
    "    print('E-optimality:', np.log10(result[0][i].min_eig))\n",
    "    print('Modified E-optimality:', np.log10(result[0][i].cond))"
   ]
  },
  {
   "cell_type": "markdown",
   "id": "b0757b02",
   "metadata": {},
   "source": [
    "### Run 1D analysis\n",
    "\n",
    "Run 1D sensitivity analysis with one changing design variable\n",
    "\n",
    "Note: this method can only deal with constant T problems"
   ]
  },
  {
   "cell_type": "code",
   "execution_count": null,
   "id": "270e807a",
   "metadata": {},
   "outputs": [],
   "source": [
    "# Define experiments\n",
    "if (model_opt=='dynamic-DAE'):\n",
    "    exp1 = generate_exp(t_control, 5, [570.21, 300, 300, 300, 300, 300, 300, 300, 300])\n",
    "else: \n",
    "    exp1 = generate_exp(t_control, 5, [500])\n"
   ]
  },
  {
   "cell_type": "code",
   "execution_count": null,
   "id": "5fb1c31e",
   "metadata": {
    "scrolled": true
   },
   "outputs": [],
   "source": [
    "doe_object = DesignOfExperiments(parameter_dict, dv_pass,\n",
    "                                 ['CA','CB','CC'], t_measure, createmod,\n",
    "                                prior_FIM=prior_pass, discretize_model=disc)\n",
    "\n",
    "# choose from 'simultaneous', 'sequential', 'sipopt'\n",
    "#sensi_opt = 'simultaneous_finite'\n",
    "#sensi_opt = 'sequential_finite'\n",
    "sensi_opt = 'sequential_sipopt'\n",
    "if_s = True\n",
    "result = doe_object.sensitivity_analysis_1D(exp1, {'T':[688,690]}, sensitivity_step=0.4, compare_opt='ME',\n",
    "                                            mode=sensi_opt, tee_option=False,\n",
    "                                    scale_nominal_param_value=if_s, formula='central')"
   ]
  },
  {
   "cell_type": "code",
   "execution_count": null,
   "id": "574f1669",
   "metadata": {},
   "outputs": [],
   "source": [
    "vary_range = list(result.keys())\n",
    "result_list = list(result.values())\n",
    "\n",
    "index_max = result_list.index(max(result_list))\n",
    "index_min = result_list.index(min(result_list))\n",
    "\n",
    "print('=======Result summary=======')\n",
    "print('The biggest criterion value is:', max(result_list), ' at:', vary_range[index_max])\n",
    "print('The smallest criterion value is:', min(result_list), ' at:', vary_range[index_min])\n",
    "\n",
    "plt.plot(vary_range, result_list)\n",
    "plt.xlabel('T [K]')\n",
    "plt.ylabel('Design criteria')"
   ]
  },
  {
   "cell_type": "markdown",
   "id": "hindu-bathroom",
   "metadata": {},
   "source": [
    "## Optimization"
   ]
  },
  {
   "cell_type": "code",
   "execution_count": null,
   "id": "wicked-raising",
   "metadata": {
    "scrolled": true
   },
   "outputs": [],
   "source": [
    "doe_object = DesignOfExperiments(parameter_dict, dv_pass, \n",
    "                                 ['CA','CB','CC'], t_measure, createmod,\n",
    "                                 prior_FIM=prior_pass, discretize_model=disc)\n",
    "\n",
    "square_result, optimize_result = doe_object.optimize_doe(exp1, if_optimize=True, if_cho=True, scale_nominal_param_value=True, obj_opt='det', L_initial=None)\n"
   ]
  },
  {
   "cell_type": "code",
   "execution_count": null,
   "id": "c6b08c05",
   "metadata": {},
   "outputs": [],
   "source": [
    "print('======Result summary======')\n",
    "print('This optimization is solved with status:', optimize_result.status)\n",
    "print('It gives solution:', optimize_result.solution)\n",
    "print('The log10(OF) optimized is:', optimize_result.obj_value)\n",
    "print('The result FIM is:', optimize_result.FIM)"
   ]
  },
  {
   "cell_type": "markdown",
   "id": "skilled-booking",
   "metadata": {},
   "source": [
    "## heatmap "
   ]
  },
  {
   "cell_type": "code",
   "execution_count": 6,
   "id": "flush-diameter",
   "metadata": {},
   "outputs": [],
   "source": [
    "#design_ranges = {'CA0':list(np.linspace(1,5,9)),  'T': list(np.linspace(300,700,9))}\n",
    "design_ranges = [list(np.linspace(1,5,2)),  list(np.linspace(300,700,2)), [300,500]]\n",
    "\n",
    "#dv_apply_time = {'CA0': [0], 'T': t_control}\n",
    "dv_apply_name = ['CA0', 'T', 'T']\n",
    "dv_apply_time = [[0], [0], [0.125, 0.25, 0.375, 0.5, 0.625, 0.75, 0.875,1]]\n",
    "\n",
    "# Define experiments\n",
    "if (model_opt=='dynamic-DAE'):\n",
    "    exp1 = generate_exp(t_control, 5, [570.21, 300, 300, 300, 300, 300, 300, 300, 300])\n",
    "else: \n",
    "    exp1 = generate_exp(t_control, 5, [500])"
   ]
  },
  {
   "cell_type": "code",
   "execution_count": 7,
   "id": "separate-leone",
   "metadata": {
    "scrolled": true
   },
   "outputs": [
    {
     "name": "stdout",
     "output_type": "stream",
     "text": [
      "8  design vectors will be searched.\n",
      "=======This is the  1 th iteration=======\n",
      "Design variable values of this iteration: {'CA0': {0: 1.0}, 'T': {0: 300.0, 0.125: 300, 0.25: 300, 0.375: 300, 0.5: 300, 0.625: 300, 0.75: 300, 0.875: 300, 1: 300}}\n",
      "Sensitivity information is scaled by its corresponding parameter nominal value.\n",
      "Existed information has been added.\n",
      "FIM: [[  29.58003272    5.48612156  -84.54627162  -24.46790912]\n",
      " [   5.48612156   27.13328151  -12.64771469 -143.60704229]\n",
      " [ -84.54627162  -12.64771469  249.22249067   60.14898186]\n",
      " [ -24.46790912 -143.60704229   60.14898186  793.6004921 ]]\n",
      "Trace: 1099.5362969977725\n",
      "Determinant: 151638.4943213679\n",
      "Condition number: 1703.5708820968514\n",
      "Minimal eigen value: 0.48581739042109506\n",
      "Eigen values: [8.27624360e+02 2.70029455e+02 4.85817390e-01 1.39666420e+00]\n",
      "Eigen vectors: [[ 0.04300749 -0.31822906 -0.77652374  0.54211761]\n",
      " [ 0.17730502  0.01420751  0.56599113  0.80499386]\n",
      " [-0.1117473   0.94040674 -0.25890023  0.19004834]\n",
      " [-0.97684483 -0.1190108   0.09816107  0.1482397 ]]\n",
      "This is the  1  run out of  8 run.\n",
      "The code has run 1.2601 seconds.\n",
      "Estimated remaining time: 8.8209 seconds\n",
      "=======This is the  2 th iteration=======\n",
      "Design variable values of this iteration: {'CA0': {0: 1.0}, 'T': {0: 300.0, 0.125: 500, 0.25: 500, 0.375: 500, 0.5: 500, 0.625: 500, 0.75: 500, 0.875: 500, 1: 500}}\n",
      "Sensitivity information is scaled by its corresponding parameter nominal value.\n",
      "Existed information has been added.\n",
      "FIM: [[  29.58003272    5.48612156  -84.54627162  -24.46790912]\n",
      " [   5.48612156   27.13328151  -12.64771469 -143.60704229]\n",
      " [ -84.54627162  -12.64771469  249.22249067   60.14898186]\n",
      " [ -24.46790912 -143.60704229   60.14898186  793.6004921 ]]\n",
      "Trace: 1099.5362969977725\n",
      "Determinant: 151638.4943213679\n",
      "Condition number: 1703.5708820968514\n",
      "Minimal eigen value: 0.48581739042109506\n",
      "Eigen values: [8.27624360e+02 2.70029455e+02 4.85817390e-01 1.39666420e+00]\n",
      "Eigen vectors: [[ 0.04300749 -0.31822906 -0.77652374  0.54211761]\n",
      " [ 0.17730502  0.01420751  0.56599113  0.80499386]\n",
      " [-0.1117473   0.94040674 -0.25890023  0.19004834]\n",
      " [-0.97684483 -0.1190108   0.09816107  0.1482397 ]]\n",
      "This is the  2  run out of  8 run.\n",
      "The code has run 2.4993 seconds.\n",
      "Estimated remaining time: 7.4980 seconds\n",
      "=======This is the  3 th iteration=======\n",
      "Design variable values of this iteration: {'CA0': {0: 1.0}, 'T': {0: 700.0, 0.125: 300, 0.25: 300, 0.375: 300, 0.5: 300, 0.625: 300, 0.75: 300, 0.875: 300, 1: 300}}\n",
      "Sensitivity information is scaled by its corresponding parameter nominal value.\n",
      "Existed information has been added.\n",
      "FIM: [[  28.77447266    5.4733019   -81.86441559  -24.18097488]\n",
      " [   5.4733019    26.4829594   -12.4994136  -139.4302313 ]\n",
      " [ -81.86441559  -12.4994136   240.63335596   58.97428567]\n",
      " [ -24.18097488 -139.4302313    58.97428567  767.74785482]]\n",
      "Trace: 1063.638642847519\n",
      "Determinant: 146507.48646152133\n",
      "Condition number: 1624.9104501935346\n",
      "Minimal eigen value: 0.49299236417422976\n",
      "Eigen values: [8.01068444e+02 2.60653941e+02 4.92992364e-01 1.42326479e+00]\n",
      "Eigen vectors: [[ 0.04382893 -0.31893711 -0.7717461   0.54842146]\n",
      " [ 0.17791815  0.01419374  0.57277173  0.80004764]\n",
      " [-0.11313087  0.93996168 -0.25773099  0.19299787]\n",
      " [-0.97653754 -0.12062212  0.09957529  0.14801858]]\n",
      "This is the  3  run out of  8 run.\n",
      "The code has run 3.9796 seconds.\n",
      "Estimated remaining time: 6.6326 seconds\n",
      "=======This is the  4 th iteration=======\n",
      "Design variable values of this iteration: {'CA0': {0: 1.0}, 'T': {0: 700.0, 0.125: 500, 0.25: 500, 0.375: 500, 0.5: 500, 0.625: 500, 0.75: 500, 0.875: 500, 1: 500}}\n",
      "Sensitivity information is scaled by its corresponding parameter nominal value.\n",
      "Existed information has been added.\n",
      "FIM: [[  28.77447266    5.4733019   -81.86441559  -24.18097488]\n",
      " [   5.4733019    26.4829594   -12.4994136  -139.4302313 ]\n",
      " [ -81.86441559  -12.4994136   240.63335596   58.97428567]\n",
      " [ -24.18097488 -139.4302313    58.97428567  767.74785482]]\n",
      "Trace: 1063.638642847519\n",
      "Determinant: 146507.48646152133\n",
      "Condition number: 1624.9104501935346\n",
      "Minimal eigen value: 0.49299236417422976\n",
      "Eigen values: [8.01068444e+02 2.60653941e+02 4.92992364e-01 1.42326479e+00]\n",
      "Eigen vectors: [[ 0.04382893 -0.31893711 -0.7717461   0.54842146]\n",
      " [ 0.17791815  0.01419374  0.57277173  0.80004764]\n",
      " [-0.11313087  0.93996168 -0.25773099  0.19299787]\n",
      " [-0.97653754 -0.12062212  0.09957529  0.14801858]]\n",
      "This is the  4  run out of  8 run.\n",
      "The code has run 5.5022 seconds.\n",
      "Estimated remaining time: 5.5022 seconds\n",
      "=======This is the  5 th iteration=======\n",
      "Design variable values of this iteration: {'CA0': {0: 5.0}, 'T': {0: 300.0, 0.125: 300, 0.25: 300, 0.375: 300, 0.5: 300, 0.625: 300, 0.75: 300, 0.875: 300, 1: 300}}\n",
      "Sensitivity information is scaled by its corresponding parameter nominal value.\n",
      "Existed information has been added.\n",
      "FIM: [[  51.20654467    7.25310176 -151.97488617  -35.12717031]\n",
      " [   7.25310176   44.50762916  -18.15691273 -248.41784964]\n",
      " [-151.97488617  -18.15691273  459.45602584   93.38307296]\n",
      " [ -35.12717031 -248.41784964   93.38307296 1425.87202018]]\n",
      "Trace: 1981.0422198461438\n",
      "Determinant: 561207.9662178434\n",
      "Condition number: 2950.219453820002\n",
      "Minimal eigen value: 0.5016011129279737\n",
      "Eigen values: [1.47983336e+03 4.99192705e+02 5.01601113e-01 1.51455236e+00]\n",
      "Eigen vectors: [[-0.03538093  0.31203439 -0.77934566  0.5422205 ]\n",
      " [-0.17098781 -0.01375255  0.56416592  0.80764525]\n",
      " [ 0.09797726 -0.9443377  -0.25524835  0.18296187]\n",
      " [ 0.9797509   0.10330398  0.09584074  0.1422358 ]]\n",
      "This is the  5  run out of  8 run.\n",
      "The code has run 6.7078 seconds.\n",
      "Estimated remaining time: 4.0247 seconds\n",
      "=======This is the  6 th iteration=======\n",
      "Design variable values of this iteration: {'CA0': {0: 5.0}, 'T': {0: 300.0, 0.125: 500, 0.25: 500, 0.375: 500, 0.5: 500, 0.625: 500, 0.75: 500, 0.875: 500, 1: 500}}\n",
      "Sensitivity information is scaled by its corresponding parameter nominal value.\n",
      "Existed information has been added.\n",
      "FIM: [[  51.20654467    7.25310176 -151.97488617  -35.12717031]\n",
      " [   7.25310176   44.50762916  -18.15691273 -248.41784964]\n",
      " [-151.97488617  -18.15691273  459.45602584   93.38307296]\n",
      " [ -35.12717031 -248.41784964   93.38307296 1425.87202018]]\n",
      "Trace: 1981.0422198461438\n",
      "Determinant: 561207.9662178434\n",
      "Condition number: 2950.219453820002\n",
      "Minimal eigen value: 0.5016011129279737\n",
      "Eigen values: [1.47983336e+03 4.99192705e+02 5.01601113e-01 1.51455236e+00]\n",
      "Eigen vectors: [[-0.03538093  0.31203439 -0.77934566  0.5422205 ]\n",
      " [-0.17098781 -0.01375255  0.56416592  0.80764525]\n",
      " [ 0.09797726 -0.9443377  -0.25524835  0.18296187]\n",
      " [ 0.9797509   0.10330398  0.09584074  0.1422358 ]]\n",
      "This is the  6  run out of  8 run.\n",
      "The code has run 7.9705 seconds.\n",
      "Estimated remaining time: 2.6568 seconds\n",
      "=======This is the  7 th iteration=======\n",
      "Design variable values of this iteration: {'CA0': {0: 5.0}, 'T': {0: 700.0, 0.125: 300, 0.25: 300, 0.375: 300, 0.5: 300, 0.625: 300, 0.75: 300, 0.875: 300, 1: 300}}\n",
      "Sensitivity information is scaled by its corresponding parameter nominal value.\n",
      "Existed information has been added.\n",
      "FIM: [[  31.06754308    6.93261012  -84.9284853   -27.95381436]\n",
      " [   6.93261012   28.24957649  -14.44938555 -143.99757491]\n",
      " [ -84.9284853   -14.44938555  244.72765813   64.01566832]\n",
      " [ -27.95381436 -143.99757491   64.01566832  779.5560886 ]]\n",
      "Trace: 1083.6008663096845\n",
      "Determinant: 330586.4905784959\n",
      "Condition number: 1212.388775069196\n",
      "Minimal eigen value: 0.6727727401066618\n",
      "Eigen values: [8.15662118e+02 2.64992592e+02 6.72772740e-01 2.27338343e+00]\n",
      "Eigen vectors: [[ 0.04944936 -0.32415168 -0.70688843  0.62672897]\n",
      " [ 0.18091586  0.01275908  0.65620673  0.73246119]\n",
      " [-0.12122713  0.93686107 -0.23742408  0.22632968]\n",
      " [-0.9747452  -0.13059183  0.11546121  0.1395933 ]]\n",
      "This is the  7  run out of  8 run.\n",
      "The code has run 9.6383 seconds.\n",
      "Estimated remaining time: 1.3769 seconds\n",
      "=======This is the  8 th iteration=======\n",
      "Design variable values of this iteration: {'CA0': {0: 5.0}, 'T': {0: 700.0, 0.125: 500, 0.25: 500, 0.375: 500, 0.5: 500, 0.625: 500, 0.75: 500, 0.875: 500, 1: 500}}\n",
      "Sensitivity information is scaled by its corresponding parameter nominal value.\n",
      "Existed information has been added.\n",
      "FIM: [[  31.06754308    6.93261012  -84.9284853   -27.95381436]\n",
      " [   6.93261012   28.24957649  -14.44938555 -143.99757491]\n",
      " [ -84.9284853   -14.44938555  244.72765813   64.01566832]\n",
      " [ -27.95381436 -143.99757491   64.01566832  779.5560886 ]]\n",
      "Trace: 1083.6008663096845\n",
      "Determinant: 330586.4905784959\n",
      "Condition number: 1212.388775069196\n",
      "Minimal eigen value: 0.6727727401066618\n",
      "Eigen values: [8.15662118e+02 2.64992592e+02 6.72772740e-01 2.27338343e+00]\n",
      "Eigen vectors: [[ 0.04944936 -0.32415168 -0.70688843  0.62672897]\n",
      " [ 0.18091586  0.01275908  0.65620673  0.73246119]\n",
      " [-0.12122713  0.93686107 -0.23742408  0.22632968]\n",
      " [-0.9747452  -0.13059183  0.11546121  0.1395933 ]]\n",
      "This is the  8  run out of  8 run.\n",
      "The code has run 11.3742 seconds.\n",
      "Estimated remaining time: 0.0000 seconds\n",
      "The whole run takes  11.374619007110596  s.\n"
     ]
    }
   ],
   "source": [
    "doe_object = DesignOfExperiments(parameter_dict, dv_pass, \n",
    "                                 ['CA','CB','CC'], t_measure, createmod,\n",
    "                                 prior_FIM=prior_pass, discretize_model=disc)\n",
    "\n",
    "all_fim = doe_object.run_grid_search(exp1, design_ranges,dv_apply_name, dv_apply_time, \n",
    "                                     mode='sequential_finite', \n",
    "                                    scale_nominal_param_value=True\n",
    "                                    )"
   ]
  },
  {
   "cell_type": "code",
   "execution_count": 8,
   "id": "f6357722",
   "metadata": {},
   "outputs": [
    {
     "name": "stdout",
     "output_type": "stream",
     "text": [
      "<DoE_package.Grid_Search_Result object at 0x1887514c0>\n"
     ]
    }
   ],
   "source": [
    "print(all_fim)"
   ]
  },
  {
   "cell_type": "code",
   "execution_count": 12,
   "id": "8a38b361",
   "metadata": {},
   "outputs": [
    {
     "name": "stdout",
     "output_type": "stream",
     "text": [
      "[<DoE_package.FIM_result object at 0x18826fe50>, <DoE_package.FIM_result object at 0x188d3e5e0>, <DoE_package.FIM_result object at 0x188818880>, <DoE_package.FIM_result object at 0x188818850>, <DoE_package.FIM_result object at 0x188a4c820>, <DoE_package.FIM_result object at 0x188d2d970>, <DoE_package.FIM_result object at 0x18906cb80>, <DoE_package.FIM_result object at 0x188503610>]\n"
     ]
    }
   ],
   "source": [
    "print(doe_object.all_fim)"
   ]
  },
  {
   "cell_type": "code",
   "execution_count": 9,
   "id": "38e38e3b",
   "metadata": {},
   "outputs": [
    {
     "name": "stdout",
     "output_type": "stream",
     "text": [
      "[<DoE_package.FIM_result object at 0x18826fe50>, <DoE_package.FIM_result object at 0x188d3e5e0>, <DoE_package.FIM_result object at 0x188818880>, <DoE_package.FIM_result object at 0x188818850>, <DoE_package.FIM_result object at 0x188a4c820>, <DoE_package.FIM_result object at 0x188d2d970>, <DoE_package.FIM_result object at 0x18906cb80>, <DoE_package.FIM_result object at 0x188503610>]\n"
     ]
    }
   ],
   "source": [
    "print(all_fim.FIM_result_list)"
   ]
  },
  {
   "cell_type": "code",
   "execution_count": null,
   "id": "76003ddb",
   "metadata": {},
   "outputs": [],
   "source": [
    "heatmap = Grid_Search_Result(design_ranges, all_fim, store_optimality_name='test_heatmap.csv')\n",
    "\n",
    "heatmap.heatmap('Reactor case', '$C_{A0}$ [M]', 'T [K]')"
   ]
  },
  {
   "cell_type": "markdown",
   "id": "07db5505",
   "metadata": {},
   "source": [
    "### 1D heatmap"
   ]
  },
  {
   "cell_type": "code",
   "execution_count": null,
   "id": "8fe67426",
   "metadata": {},
   "outputs": [],
   "source": [
    "#design_ranges = {'CA0':list(np.linspace(1,5,9)),  'T': list(np.linspace(300,700,9))}\n",
    "design_ranges = [ list(np.linspace(300,700,5))]\n",
    "\n",
    "dv_apply_name = ['T']\n",
    "dv_apply_time = [t_control]\n",
    "\n",
    "# Define experiments\n",
    "if (model_opt=='dynamic-DAE'):\n",
    "    exp1 = generate_exp(t_control, 5, [570.21, 300, 300, 300, 300, 300, 300, 300, 300])\n",
    "else: \n",
    "    exp1 = generate_exp(t_control, 5, [500])"
   ]
  },
  {
   "cell_type": "code",
   "execution_count": null,
   "id": "47d748d5",
   "metadata": {},
   "outputs": [],
   "source": [
    "doe_object = DesignOfExperiments(parameter_dict, dv_pass, \n",
    "                                 ['CA','CB','CC'], t_measure, createmod,\n",
    "                                 prior_FIM=prior_pass, discretize_model=disc)\n",
    "\n",
    "all_fim = doe_object.run_grid_search(exp1, design_ranges,dv_apply_name, dv_apply_time, \n",
    "                                     mode='sequential_finite', \n",
    "                                    scale_nominal_param_value=True\n",
    "                                    )"
   ]
  },
  {
   "cell_type": "code",
   "execution_count": null,
   "id": "a4a2179b",
   "metadata": {},
   "outputs": [],
   "source": [
    "heatmap = Grid_Search_Result(design_ranges, all_fim, store_optimality_name='test_heatmap.csv')\n",
    "\n",
    "heatmap.heatmap('Reactor case', '$C_{A0}$ [M]', 'T [K]')"
   ]
  },
  {
   "cell_type": "code",
   "execution_count": null,
   "id": "c1843ce2",
   "metadata": {},
   "outputs": [],
   "source": []
  }
 ],
 "metadata": {
  "kernelspec": {
   "display_name": "Python 3 (ipykernel)",
   "language": "python",
   "name": "python3"
  },
  "language_info": {
   "codemirror_mode": {
    "name": "ipython",
    "version": 3
   },
   "file_extension": ".py",
   "mimetype": "text/x-python",
   "name": "python",
   "nbconvert_exporter": "python",
   "pygments_lexer": "ipython3",
   "version": "3.9.6"
  }
 },
 "nbformat": 4,
 "nbformat_minor": 5
}
