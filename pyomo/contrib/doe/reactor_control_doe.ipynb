{
 "cells": [
  {
   "cell_type": "markdown",
   "id": "opposite-garage",
   "metadata": {},
   "source": [
    "# Reactor Kinetics Example \n",
    "\n",
    "Jialu Wang (jwang44@nd.edu) and Alex Dowling (adowling@nd.edu)\n",
    "\n",
    "University of Notre Dame\n",
    "\n",
    "This notebook conducts design of experiments for a reactor kinetics experiment with the Pyomo.DOE.\n",
    "    "
   ]
  },
  {
   "cell_type": "code",
   "execution_count": 1,
   "id": "worth-origin",
   "metadata": {},
   "outputs": [],
   "source": [
    "import matplotlib.pyplot as plt\n",
    "from pyomo.environ import *\n",
    "from pyomo.dae import *\n",
    "\n",
    "import numpy as np\n",
    "from scipy.interpolate import interp2d\n",
    "import pandas as pd \n",
    "from itertools import permutations, product, combinations\n",
    "\n",
    "from DoE_package import *\n",
    "from pyomo.contrib.sensitivity_toolbox.sens import sipopt"
   ]
  },
  {
   "cell_type": "markdown",
   "id": "graphic-controversy",
   "metadata": {},
   "source": [
    "## Define Reaction Example Mathematical Model"
   ]
  },
  {
   "cell_type": "markdown",
   "id": "disturbed-prediction",
   "metadata": {},
   "source": [
    "Consider two chemical reactions that converts molecule $A$ to desired product $B$ and a less valuable side-product $C$.\n",
    "\n",
    "$A \\overset{k_1}{\\rightarrow} B \\overset{k_2}{\\rightarrow} C$\n",
    "\n",
    "Our ultimate goals is to design a large-scale continous reactor that maximizes the production of $B$. This general sequential reactions problem is widely applicable to CO$_2$ capture and industry more broadly (petrochemicals, pharmasuticals, etc.).\n",
    "\n",
    "The rate laws for these two chemical reactions are:\n",
    "\n",
    "$r_A = -k_1 C_A$\n",
    "\n",
    "$r_B = k_1 C_A - k_2 C_B$\n",
    "\n",
    "$r_C = k_2 C_B$\n",
    "\n",
    "Here, $C_A$, $C_B$, and $C_C$ are the concentrations of each species. The rate constants $k_1$ and $k_2$ depend on temperature as follows:\n",
    "\n",
    "$k_1 = A_1 \\exp{\\frac{-E_1}{R T}}$\n",
    "\n",
    "$k_2 = A_2 \\exp{\\frac{-E_2}{R T}}$\n",
    "\n",
    "$A_1, A_2, E_1$, and $E_2$ are fitted model parameters. $R$ is the ideal-gas constant and $T$ is absolute temperature.\n",
    "\n",
    "Using the **CCSI$^2$ toolset**, we would like do the following perform:\n",
    "\n",
    "Perform **uncertainty quantification** and **design of experiments** on a small-scale **batch reactor** to infer parameters $A_1$, $A_2$, $E_1$, and $E_2$."
   ]
  },
  {
   "cell_type": "markdown",
   "id": "sweet-niger",
   "metadata": {},
   "source": [
    "### Batch reactor\n",
    "\n",
    "The concenrations in a batch reactor evolve with time per the following differential equations:\n",
    "\n",
    "$$ \\frac{d C_A}{dt} = r_A = -k_1 C_A $$\n",
    "\n",
    "$$ \\frac{d C_B}{dt} = r_B = k_1 C_A - k_2 C_B $$\n",
    "\n",
    "$$ \\frac{d C_C}{dt} = r_C = k_2 C_B $$\n",
    "\n",
    "This is a linear system of differential equations. Assuming the feed is only species $A$, i.e., \n",
    "\n",
    "$$C_A(t=0) = C_{A0} \\quad C_B(t=0) = 0 \\quad C_C(t=0) = 0$$\n",
    "\n",
    "When the temperature is constant, it leads to the following analytic solution:\n",
    "\n",
    "$$C_A(t) = C_{A,0} \\exp(-k_1 t)$$\n",
    "\n",
    "$$C_B(t) = \\frac{k_1}{k_2 - k_1} C_{A,0} \\left[\\exp(-k_1 t) - \\exp(-k_2 t) \\right]$$\n",
    "\n",
    "$$C_C(t) = C_{A,0} - \\frac{k_2}{k_2 - k_1} C_{A,0} \\exp(-k_1 t) + \\frac{k_1}{k_2 - k_1} \\exp(-k_2 t) C_{A,0} = C_{A,0} - C_{A}(t) - C_{B}(t)$$"
   ]
  },
  {
   "cell_type": "code",
   "execution_count": 2,
   "id": "eligible-robert",
   "metadata": {},
   "outputs": [],
   "source": [
    "from reactor_models import *"
   ]
  },
  {
   "cell_type": "markdown",
   "id": "6f7434dc",
   "metadata": {},
   "source": [
    "Three versions of this model is accomplished: \n",
    "\n",
    "Dynamic-DAE model: Temperature varying model discretized and integrated by Pyomo.DAE\n",
    "\n",
    "Constant-DAE model: Temperature constant model discretized and integrated by Pyomo.DAE\n",
    "\n",
    "Constant-analytical model: Temperature constant model discretized manually and using the analytical expressions for state variables."
   ]
  },
  {
   "cell_type": "code",
   "execution_count": 3,
   "id": "d576e9c4",
   "metadata": {},
   "outputs": [],
   "source": [
    "# choose model from 'dynamic-DAE', 'constant-DAE', 'constant-analytical'\n",
    "model_opt = 'dynamic-DAE'\n",
    "#model_opt = 'constant-DAE'\n",
    "#model_opt = 'constant-analytical'\n",
    "\n",
    "if (model_opt=='dynamic-DAE'):\n",
    "    createmod = create_model_dae\n",
    "    disc = discretizer\n",
    "    t_control = [0, 0.125, 0.25, 0.375, 0.5, 0.625, 0.75, 0.875, 1]\n",
    "    \n",
    "elif (model_opt=='constant-DAE'):\n",
    "    createmod = create_model_dae_const\n",
    "    disc = discretizer\n",
    "    t_control = [0]\n",
    "    \n",
    "elif (model_opt=='constant-analytical'):\n",
    "    createmod = create_model_alge\n",
    "    disc = None\n",
    "    t_control = [0]\n",
    "\n",
    "    \n",
    "# design variable and its control time set\n",
    "dv_pass = {'CA0': [0],'T': t_control}\n",
    "    \n",
    "# Define measurement time points\n",
    "t_measure = [0, 0.125, 0.25, 0.375, 0.5, 0.625, 0.75, 0.875, 1]"
   ]
  },
  {
   "cell_type": "code",
   "execution_count": 4,
   "id": "47137cb2",
   "metadata": {},
   "outputs": [],
   "source": [
    "# Define parameter nominal value \n",
    "parameter_dict = {'A1': 84.79085853498033, 'A2': 371.71773413976416, 'E1': 7.777032028026428, 'E2': 15.047135137500822}\n",
    "\n",
    "def generate_exp(t_set, CA0, T):  \n",
    "    '''Generate experiments. \n",
    "    t_set: time control set for T.\n",
    "    CA0: CA0 value\n",
    "    T: A list of T \n",
    "    '''\n",
    "    assert(len(t_set)==len(T)), 'T should have the same length as t_set'\n",
    "    \n",
    "    T_con_initial = {}\n",
    "    for t, tim in enumerate(t_set):\n",
    "        T_con_initial[tim] = T[t]\n",
    "        \n",
    "    dv_dict_overall = {'CA0': {0: CA0},'T': T_con_initial}\n",
    "    return dv_dict_overall"
   ]
  },
  {
   "cell_type": "code",
   "execution_count": 5,
   "id": "written-tours",
   "metadata": {},
   "outputs": [
    {
     "name": "stdout",
     "output_type": "stream",
     "text": [
      "The prior information FIM: [[  28.67892806    5.41249739  -81.73674601  -24.02377324]\n",
      " [   5.41249739   26.40935036  -12.41816477 -139.23992532]\n",
      " [ -81.73674601  -12.41816477  240.46276004   58.76422806]\n",
      " [ -24.02377324 -139.23992532   58.76422806  767.25584508]]\n",
      "Prior Det: 140189.67370995492\n",
      "Eigenvalue of the prior experiments FIM: [8.00463185e+02 2.60471503e+02 4.84545259e-01 1.38765050e+00]\n",
      "Eigenvalue of the prior experiments FIM: [[-0.77629273 -0.54211788  0.31871243 -0.0435912 ]\n",
      " [ 0.56614148 -0.80478003 -0.01425817 -0.177791  ]\n",
      " [-0.25919275 -0.19059651 -0.94009108  0.11278677]\n",
      " [ 0.09834911 -0.14869526  0.12019924  0.97661114]]\n"
     ]
    }
   ],
   "source": [
    "# empty prior\n",
    "#prior_all = np.zeros((4,4))\n",
    "\n",
    "\n",
    "# add prior information\n",
    "prior_5_300 = pd.read_csv('fim_5_300_scale.csv')\n",
    "prior_5_300_500 = pd.read_csv('fim_5_300_500_scale.csv')\n",
    "\n",
    "prior_all = prior_5_300_500\n",
    "\n",
    "\n",
    "prior_pass=np.asarray(prior_all)\n",
    "\n",
    "#L_initials = np.linalg.cholesky(prior_pass)\n",
    "#print(L_initials)\n",
    "\n",
    "print('The prior information FIM:', prior_pass)\n",
    "print('Prior Det:', np.linalg.det(prior_pass))\n",
    "print('Eigenvalue of the prior experiments FIM:', np.linalg.eigvals(prior_pass))\n",
    "print('Eigenvalue of the prior experiments FIM:', np.linalg.eigh(prior_pass)[1])"
   ]
  },
  {
   "cell_type": "markdown",
   "id": "destroyed-african",
   "metadata": {},
   "source": [
    "## Compute FIM \n",
    "\n",
    "This method computes an MBDoE optimization problem with no Degree of Freedom."
   ]
  },
  {
   "cell_type": "code",
   "execution_count": null,
   "id": "d3ee5ff9",
   "metadata": {},
   "outputs": [],
   "source": [
    "# choose from 'simultaneous', 'sequential', 'sipopt'\n",
    "#sensi_opt = 'simultaneous_finite'\n",
    "#sensi_opt = 'sequential_finite'\n",
    "#sensi_opt = 'sequential_sipopt'\n",
    "sensi_opt = 'sequential_kaug'\n",
    "\n",
    "# Define experiments\n",
    "if (model_opt=='dynamic-DAE'):\n",
    "    exp1 = generate_exp(t_control, 5, [570.21, 300, 300, 300, 300, 300, 300, 300, 300])\n",
    "else: \n",
    "    exp1 = generate_exp(t_control, 5, [500])\n",
    "\n",
    "print('Design variable:', exp1)"
   ]
  },
  {
   "cell_type": "code",
   "execution_count": null,
   "id": "latin-medicare",
   "metadata": {
    "scrolled": true
   },
   "outputs": [],
   "source": [
    "doe_object = DesignOfExperiments(parameter_dict, dv_pass,\n",
    "                                 ['CA','CB','CC'], t_measure, createmod,\n",
    "                                prior_FIM=prior_pass, discretize_model=disc)\n",
    "\n",
    "\n",
    "if_s = True\n",
    "result = doe_object.compute_FIM(exp1,mode=sensi_opt, FIM_store_name = 'dynamic.csv', scale_nominal_param_value=if_s, formula='central')\n",
    "\n",
    "\n",
    "if sensi_opt == 'simultaneous_finite':\n",
    "    result.extract_FIM(doe_object.m, doe_object.design_timeset,\n",
    "                                                          doe_object.square_result, doe_object.obj_opt)\n",
    "else: \n",
    "    result.calculate_FIM(doe_object.jac, doe_object.design_values)"
   ]
  },
  {
   "cell_type": "code",
   "execution_count": null,
   "id": "64fc6da4",
   "metadata": {},
   "outputs": [],
   "source": [
    "print('======Result summary======')\n",
    "print('Four design criteria log10() value:')\n",
    "print('A-optimality:', np.log10(result.trace))\n",
    "print('D-optimality:', np.log10(result.det))\n",
    "print('E-optimality:', np.log10(result.min_eig))\n",
    "print('Modified E-optimality:', np.log10(result.cond))"
   ]
  },
  {
   "cell_type": "markdown",
   "id": "7dfe1ef2",
   "metadata": {},
   "source": [
    "### Run sequential DOE automatically\n",
    "\n",
    "This method runs a series of experiments in a row."
   ]
  },
  {
   "cell_type": "code",
   "execution_count": null,
   "id": "5273a9af",
   "metadata": {},
   "outputs": [],
   "source": [
    "exp1 = generate_exp(t_control, 5, [300])\n",
    "exp2 = generate_exp(t_control, 5, [500.92])\n",
    "exp3 = generate_exp(t_control, 5, [528])\n",
    "exp4 = generate_exp(t_control, 5, [546.8])\n",
    "exp5 = generate_exp(t_control, 5, [562])"
   ]
  },
  {
   "cell_type": "code",
   "execution_count": null,
   "id": "940683df",
   "metadata": {},
   "outputs": [],
   "source": [
    "\n",
    "exp_all = [exp1, exp2, exp3, exp4, exp5]\n",
    "\n",
    "\n",
    "doe_object = DesignOfExperiments(parameter_dict, dv_pass,\n",
    "                                 ['CA','CB','CC'], t_measure, createmod,\n",
    "                                prior_FIM=prior_pass, discretize_model=disc)\n",
    "\n",
    "# choose from 'simultaneous', 'sequential', 'sipopt'\n",
    "#sensi_opt = 'simultaneous_finite'\n",
    "sensi_opt = 'sequential_finite'\n",
    "#sensi_opt = 'sequential_sipopt'\n",
    "if_s = True\n",
    "result = doe_object.sequential_exp(exp_all, mode=sensi_opt, tee_option=True,\n",
    "                                    scale_nominal_param_value=if_s, formula='central')"
   ]
  },
  {
   "cell_type": "code",
   "execution_count": null,
   "id": "4939f5c1",
   "metadata": {},
   "outputs": [],
   "source": [
    "print('=======Result summary=======')\n",
    "for i in range(len(exp_all)):\n",
    "    print('The ', i+1,'th experiment has optimality log10() values:')\n",
    "    print('A-optimality:', np.log10(result[0][i].trace))\n",
    "    print('D-optimality:', np.log10(result[0][i].det))\n",
    "    print('E-optimality:', np.log10(result[0][i].min_eig))\n",
    "    print('Modified E-optimality:', np.log10(result[0][i].cond))"
   ]
  },
  {
   "cell_type": "markdown",
   "id": "b0757b02",
   "metadata": {},
   "source": [
    "### Run 1D analysis\n",
    "\n",
    "Run 1D sensitivity analysis with one changing design variable\n",
    "\n",
    "Note: this method can only deal with constant T problems"
   ]
  },
  {
   "cell_type": "code",
   "execution_count": null,
   "id": "270e807a",
   "metadata": {},
   "outputs": [],
   "source": [
    "# Define experiments\n",
    "if (model_opt=='dynamic-DAE'):\n",
    "    exp1 = generate_exp(t_control, 5, [570.21, 300, 300, 300, 300, 300, 300, 300, 300])\n",
    "else: \n",
    "    exp1 = generate_exp(t_control, 5, [500])\n"
   ]
  },
  {
   "cell_type": "code",
   "execution_count": null,
   "id": "5fb1c31e",
   "metadata": {
    "scrolled": true
   },
   "outputs": [],
   "source": [
    "doe_object = DesignOfExperiments(parameter_dict, dv_pass,\n",
    "                                 ['CA','CB','CC'], t_measure, createmod,\n",
    "                                prior_FIM=prior_pass, discretize_model=disc)\n",
    "\n",
    "# choose from 'simultaneous', 'sequential', 'sipopt'\n",
    "#sensi_opt = 'simultaneous_finite'\n",
    "#sensi_opt = 'sequential_finite'\n",
    "sensi_opt = 'sequential_sipopt'\n",
    "if_s = True\n",
    "result = doe_object.sensitivity_analysis_1D(exp1, {'T':[688,690]}, sensitivity_step=0.4, compare_opt='ME',\n",
    "                                            mode=sensi_opt, tee_option=False,\n",
    "                                    scale_nominal_param_value=if_s, formula='central')"
   ]
  },
  {
   "cell_type": "code",
   "execution_count": null,
   "id": "574f1669",
   "metadata": {},
   "outputs": [],
   "source": [
    "vary_range = list(result.keys())\n",
    "result_list = list(result.values())\n",
    "\n",
    "index_max = result_list.index(max(result_list))\n",
    "index_min = result_list.index(min(result_list))\n",
    "\n",
    "print('=======Result summary=======')\n",
    "print('The biggest criterion value is:', max(result_list), ' at:', vary_range[index_max])\n",
    "print('The smallest criterion value is:', min(result_list), ' at:', vary_range[index_min])\n",
    "\n",
    "plt.plot(vary_range, result_list)\n",
    "plt.xlabel('T [K]')\n",
    "plt.ylabel('Design criteria')"
   ]
  },
  {
   "cell_type": "markdown",
   "id": "hindu-bathroom",
   "metadata": {},
   "source": [
    "## Optimization"
   ]
  },
  {
   "cell_type": "code",
   "execution_count": null,
   "id": "wicked-raising",
   "metadata": {
    "scrolled": true
   },
   "outputs": [],
   "source": [
    "doe_object = DesignOfExperiments(parameter_dict, dv_pass, \n",
    "                                 ['CA','CB','CC'], t_measure, createmod,\n",
    "                                 prior_FIM=prior_pass, discretize_model=disc)\n",
    "\n",
    "square_result, optimize_result = doe_object.optimize_doe(exp1, if_optimize=True, if_cho=True, scale_nominal_param_value=True, obj_opt='det', L_initial=None)\n"
   ]
  },
  {
   "cell_type": "code",
   "execution_count": null,
   "id": "c6b08c05",
   "metadata": {},
   "outputs": [],
   "source": [
    "print('======Result summary======')\n",
    "print('This optimization is solved with status:', optimize_result.status)\n",
    "print('It gives solution:', optimize_result.solution)\n",
    "print('The log10(OF) optimized is:', optimize_result.obj_value)\n",
    "print('The result FIM is:', optimize_result.FIM)"
   ]
  },
  {
   "cell_type": "markdown",
   "id": "skilled-booking",
   "metadata": {},
   "source": [
    "## heatmap "
   ]
  },
  {
   "cell_type": "code",
   "execution_count": 6,
   "id": "fd29291f",
   "metadata": {},
   "outputs": [],
   "source": [
    "design_ranges = [list(np.linspace(1,5,5)), list(np.linspace(300,700,5))]\n",
    "\n",
    "dv_apply_name = ['CA0','T']\n",
    "\n",
    "dv_apply_time = [[0],t_control]\n",
    "\n",
    "# Define experiments\n",
    "if (model_opt=='dynamic-DAE'):\n",
    "    exp1 = generate_exp(t_control, 5, [570.21, 300, 300, 300, 300, 300, 300, 300, 300])\n",
    "else: \n",
    "    exp1 = generate_exp(t_control, 5, [500])"
   ]
  },
  {
   "cell_type": "code",
   "execution_count": 7,
   "id": "bcb267e1",
   "metadata": {
    "scrolled": true
   },
   "outputs": [
    {
     "name": "stdout",
     "output_type": "stream",
     "text": [
      "25  design vectors will be searched.\n",
      "=======This is the  1 th iteration=======\n",
      "Design variable values of this iteration: {'CA0': {0: 1.0}, 'T': {0: 300.0, 0.125: 300.0, 0.25: 300.0, 0.375: 300.0, 0.5: 300.0, 0.625: 300.0, 0.75: 300.0, 0.875: 300.0, 1: 300.0}}\n",
      "Sensitivity information is scaled by its corresponding parameter nominal value.\n",
      "Existed information has been added.\n",
      "FIM: [[  29.58003272    5.48612156  -84.54627162  -24.46790912]\n",
      " [   5.48612156   27.13328151  -12.64771469 -143.60704229]\n",
      " [ -84.54627162  -12.64771469  249.22249067   60.14898186]\n",
      " [ -24.46790912 -143.60704229   60.14898186  793.6004921 ]]\n",
      "Trace: 1099.5362969973296\n",
      "Determinant: 151638.49432111066\n",
      "Condition number: 1703.570882096611\n",
      "Minimal eigen value: 0.48581739042098304\n",
      "Eigen values: [8.27624360e+02 2.70029455e+02 4.85817390e-01 1.39666420e+00]\n",
      "Eigen vectors: [[ 0.04300749 -0.31822906 -0.77652374  0.54211761]\n",
      " [ 0.17730502  0.01420751  0.56599113  0.80499386]\n",
      " [-0.1117473   0.94040674 -0.25890023  0.19004834]\n",
      " [-0.97684483 -0.1190108   0.09816107  0.1482397 ]]\n",
      "This is the  1  run out of  25 run.\n",
      "The code has run 1.1220 seconds.\n",
      "Estimated remaining time: 26.9270 seconds\n",
      "=======This is the  2 th iteration=======\n",
      "Design variable values of this iteration: {'CA0': {0: 1.0}, 'T': {0: 400.0, 0.125: 400.0, 0.25: 400.0, 0.375: 400.0, 0.5: 400.0, 0.625: 400.0, 0.75: 400.0, 0.875: 400.0, 1: 400.0}}\n",
      "Sensitivity information is scaled by its corresponding parameter nominal value.\n",
      "Existed information has been added.\n",
      "FIM: [[  29.13959316    5.68057604  -82.81396637  -25.2366608 ]\n",
      " [   5.68057604   27.27296764  -13.04504069 -143.14725329]\n",
      " [ -82.81396637  -13.04504069  242.98173468   61.60044794]\n",
      " [ -25.2366608  -143.14725329   61.60044794  784.93406   ]]\n",
      "Trace: 1084.3283554734471\n",
      "Determinant: 152039.07825006053\n",
      "Condition number: 1641.205191246031\n",
      "Minimal eigen value: 0.499335727810474\n",
      "Eigen values: [8.19512389e+02 2.62903408e+02 4.99335728e-01 1.41322349e+00]\n",
      "Eigen vectors: [[ 0.04447521 -0.31931057 -0.77803254  0.53919206]\n",
      " [ 0.17859423  0.01458837  0.56323502  0.80663349]\n",
      " [-0.11473313  0.93961044 -0.26036328  0.19020907]\n",
      " [-0.97619791 -0.12231173  0.09819695  0.14978263]]\n",
      "This is the  2  run out of  25 run.\n",
      "The code has run 2.4107 seconds.\n",
      "Estimated remaining time: 27.7228 seconds\n",
      "=======This is the  3 th iteration=======\n",
      "Design variable values of this iteration: {'CA0': {0: 1.0}, 'T': {0: 500.0, 0.125: 500.0, 0.25: 500.0, 0.375: 500.0, 0.5: 500.0, 0.625: 500.0, 0.75: 500.0, 0.875: 500.0, 1: 500.0}}\n",
      "Sensitivity information is scaled by its corresponding parameter nominal value.\n",
      "Existed information has been added.\n",
      "FIM: [[  28.92490828    5.55538372  -82.19690665  -24.54095095]\n",
      " [   5.55538372   26.74178551  -12.68546548 -140.44317569]\n",
      " [ -82.19690665  -12.68546548  241.3235927    59.73172415]\n",
      " [ -24.54095095 -140.44317569   59.73172415  771.61101463]]\n",
      "Trace: 1068.601301120078\n",
      "Determinant: 151629.20410746612\n",
      "Condition number: 1602.4379558666174\n",
      "Minimal eigen value: 0.5025670283249084\n",
      "Eigen values: [8.05332482e+02 2.61332679e+02 5.02567028e-01 1.43357337e+00]\n",
      "Eigen vectors: [[ 0.04419056 -0.31920854 -0.77605387  0.54211945]\n",
      " [ 0.17828909  0.01431314  0.56629712  0.80455932]\n",
      " [-0.11385326  0.93976516 -0.25949412  0.19115878]\n",
      " [-0.97636962 -0.12141862  0.09854321  0.14916141]]\n",
      "This is the  3  run out of  25 run.\n",
      "The code has run 3.7114 seconds.\n",
      "Estimated remaining time: 27.2167 seconds\n",
      "=======This is the  4 th iteration=======\n",
      "Design variable values of this iteration: {'CA0': {0: 1.0}, 'T': {0: 600.0, 0.125: 600.0, 0.25: 600.0, 0.375: 600.0, 0.5: 600.0, 0.625: 600.0, 0.75: 600.0, 0.875: 600.0, 1: 600.0}}\n",
      "Sensitivity information is scaled by its corresponding parameter nominal value.\n",
      "Existed information has been added.\n",
      "FIM: [[  28.83024839    5.51197609  -81.9726446   -24.32382628]\n",
      " [   5.51197609   26.57520042  -12.57324566 -139.74017115]\n",
      " [ -81.9726446   -12.57324566  240.83051064   59.23199143]\n",
      " [ -24.32382628 -139.74017115   59.23199143  768.76471335]]\n",
      "Trace: 1065.0006727947682\n",
      "Determinant: 149413.08867241812\n",
      "Condition number: 1612.3033965117402\n",
      "Minimal eigen value: 0.4975647310738729\n",
      "Eigen values: [8.02225306e+02 2.60842763e+02 4.97564731e-01 1.43503967e+00]\n",
      "Eigen vectors: [[ 0.04400313 -0.31904919 -0.77362392  0.54568981]\n",
      " [ 0.17807049  0.01421057  0.56997784  0.80200637]\n",
      " [-0.11343891  0.93987811 -0.25847425  0.19222854]\n",
      " [-0.9764662  -0.12097442  0.09910778  0.14851464]]\n",
      "This is the  4  run out of  25 run.\n",
      "The code has run 5.1469 seconds.\n",
      "Estimated remaining time: 27.0212 seconds\n",
      "=======This is the  5 th iteration=======\n",
      "Design variable values of this iteration: {'CA0': {0: 1.0}, 'T': {0: 700.0, 0.125: 700.0, 0.25: 700.0, 0.375: 700.0, 0.5: 700.0, 0.625: 700.0, 0.75: 700.0, 0.875: 700.0, 1: 700.0}}\n",
      "Sensitivity information is scaled by its corresponding parameter nominal value.\n",
      "Existed information has been added.\n",
      "FIM: [[  28.77447266    5.4733019   -81.86441559  -24.18097488]\n",
      " [   5.4733019    26.4829594   -12.4994136  -139.4302313 ]\n",
      " [ -81.86441559  -12.4994136   240.63335596   58.97428567]\n",
      " [ -24.18097488 -139.4302313    58.97428567  767.74785482]]\n",
      "Trace: 1063.6386428489946\n",
      "Determinant: 146507.48664099385\n",
      "Condition number: 1624.9104493572825\n",
      "Minimal eigen value: 0.4929923644281462\n",
      "Eigen values: [8.01068444e+02 2.60653941e+02 4.92992364e-01 1.42326479e+00]\n",
      "Eigen vectors: [[ 0.04382893 -0.31893711 -0.7717461   0.54842146]\n",
      " [ 0.17791815  0.01419374  0.57277173  0.80004764]\n",
      " [-0.11313087  0.93996168 -0.25773099  0.19299787]\n",
      " [-0.97653754 -0.12062212  0.09957529  0.14801858]]\n",
      "This is the  5  run out of  25 run.\n",
      "The code has run 6.5960 seconds.\n",
      "Estimated remaining time: 26.3838 seconds\n",
      "=======This is the  6 th iteration=======\n",
      "Design variable values of this iteration: {'CA0': {0: 2.0}, 'T': {0: 300.0, 0.125: 300.0, 0.25: 300.0, 0.375: 300.0, 0.5: 300.0, 0.625: 300.0, 0.75: 300.0, 0.875: 300.0, 1: 300.0}}\n",
      "Sensitivity information is scaled by its corresponding parameter nominal value.\n",
      "Existed information has been added.\n",
      "FIM: [[  32.28334671    5.70699409  -92.97484844  -25.80031677]\n",
      " [   5.70699409   29.30507497  -13.33636445 -156.70839321]\n",
      " [ -92.97484844  -13.33636445  275.50168257   64.30324325]\n",
      " [ -25.80031677 -156.70839321   64.30324325  872.63443311]]\n",
      "Trace: 1209.7245373586702\n",
      "Determinant: 188680.91170751274\n",
      "Condition number: 1858.6163208362157\n",
      "Minimal eigen value: 0.48913747009787456\n",
      "Eigen values: [9.09118885e+02 2.98695996e+02 4.89137470e-01 1.42051869e+00]\n",
      "Eigen vectors: [[ 0.04146304 -0.31695699 -0.77712411  0.54212287]\n",
      " [ 0.17602088  0.01408456  0.56560106  0.80555181]\n",
      " [-0.10898703  0.94123169 -0.25813549  0.18860223]\n",
      " [-0.97745552 -0.1158568   0.09767104  0.14703155]]\n",
      "This is the  6  run out of  25 run.\n",
      "The code has run 7.8555 seconds.\n",
      "Estimated remaining time: 24.8759 seconds\n",
      "=======This is the  7 th iteration=======\n",
      "Design variable values of this iteration: {'CA0': {0: 2.0}, 'T': {0: 400.0, 0.125: 400.0, 0.25: 400.0, 0.375: 400.0, 0.5: 400.0, 0.625: 400.0, 0.75: 400.0, 0.875: 400.0, 1: 400.0}}\n",
      "Sensitivity information is scaled by its corresponding parameter nominal value.\n",
      "Existed information has been added.\n",
      "FIM: [[  30.52158843    6.484812    -86.0456274   -28.87532345]\n",
      " [   6.484812     29.86381946  -14.92566842 -154.8692371 ]\n",
      " [ -86.0456274   -14.92566842  250.53865848   70.10910743]\n",
      " [ -28.87532345 -154.8692371    70.10910743  837.96870421]]\n",
      "Trace: 1148.8927705828396\n",
      "Determinant: 190348.66732527447\n",
      "Condition number: 1618.3103657337692\n",
      "Minimal eigen value: 0.5417343666585888\n",
      "Eigen values: [8.76694341e+02 2.70173245e+02 5.41734367e-01 1.48344999e+00]\n",
      "Eigen vectors: [[ 0.04685373 -0.32103947 -0.78212185  0.53199981]\n",
      " [ 0.18079203  0.01551727  0.55613272  0.81104245]\n",
      " [-0.11992293  0.93825512 -0.26345825  0.18943485]\n",
      " [-0.97505767 -0.12794607  0.09793648  0.15264595]]\n",
      "This is the  7  run out of  25 run.\n",
      "The code has run 9.1331 seconds.\n",
      "Estimated remaining time: 23.4851 seconds\n",
      "=======This is the  8 th iteration=======\n",
      "Design variable values of this iteration: {'CA0': {0: 2.0}, 'T': {0: 500.0, 0.125: 500.0, 0.25: 500.0, 0.375: 500.0, 0.5: 500.0, 0.625: 500.0, 0.75: 500.0, 0.875: 500.0, 1: 500.0}}\n",
      "Sensitivity information is scaled by its corresponding parameter nominal value.\n"
     ]
    },
    {
     "name": "stdout",
     "output_type": "stream",
     "text": [
      "Existed information has been added.\n",
      "FIM: [[  29.66284896    5.98404272  -83.57738856  -26.09248409]\n",
      " [   5.98404272   27.73909098  -13.48736761 -144.05292682]\n",
      " [ -83.57738856  -13.48736761  243.90609069   62.63421243]\n",
      " [ -26.09248409 -144.05292682   62.63421243  784.67652324]]\n",
      "Trace: 1085.9845538701272\n",
      "Determinant: 188639.46155960692\n",
      "Condition number: 1474.5971887933822\n",
      "Minimal eigen value: 0.556052063178459\n",
      "Eigen values: [8.19952809e+02 2.63907946e+02 5.56052063e-01 1.56774623e+00]\n",
      "Eigen vectors: [[ 0.04594253 -0.320668   -0.77534136  0.54213199]\n",
      " [ 0.17974722  0.01448798  0.56676229  0.80390394]\n",
      " [-0.11695823  0.93879944 -0.26038706  0.19280809]\n",
      " [-0.97565414 -0.12497097  0.09912039  0.15052047]]\n",
      "This is the  8  run out of  25 run.\n",
      "The code has run 10.4313 seconds.\n",
      "Estimated remaining time: 22.1664 seconds\n",
      "=======This is the  9 th iteration=======\n",
      "Design variable values of this iteration: {'CA0': {0: 2.0}, 'T': {0: 600.0, 0.125: 600.0, 0.25: 600.0, 0.375: 600.0, 0.5: 600.0, 0.625: 600.0, 0.75: 600.0, 0.875: 600.0, 1: 600.0}}\n",
      "Sensitivity information is scaled by its corresponding parameter nominal value.\n",
      "Existed information has been added.\n",
      "FIM: [[  29.28420904    5.81041182  -82.68033992  -25.22398467]\n",
      " [   5.81041182   27.07275023  -13.03848785 -141.2409079 ]\n",
      " [ -82.68033992  -13.03848785  241.93376191   60.6352807 ]\n",
      " [ -25.22398467 -141.2409079    60.6352807   773.29131701]]\n",
      "Trace: 1071.5820381828053\n",
      "Determinant: 178758.14784708264\n",
      "Condition number: 1505.8326261414443\n",
      "Minimal eigen value: 0.5362591360631045\n",
      "Eigen values: [8.07516503e+02 2.61953423e+02 5.36259136e-01 1.57585283e+00]\n",
      "Eigen vectors: [[ 0.0452283  -0.32004858 -0.76665675  0.55476187]\n",
      " [ 0.17890164  0.01407456  0.5797799   0.79476498]\n",
      " [-0.11537487  0.93924098 -0.25666068  0.19657139]\n",
      " [-0.97603137 -0.12327688  0.10108403  0.14814718]]\n",
      "This is the  9  run out of  25 run.\n",
      "The code has run 11.8610 seconds.\n",
      "Estimated remaining time: 21.0862 seconds\n",
      "=======This is the  10 th iteration=======\n",
      "Design variable values of this iteration: {'CA0': {0: 2.0}, 'T': {0: 700.0, 0.125: 700.0, 0.25: 700.0, 0.375: 700.0, 0.5: 700.0, 0.625: 700.0, 0.75: 700.0, 0.875: 700.0, 1: 700.0}}\n",
      "Sensitivity information is scaled by its corresponding parameter nominal value.\n",
      "Existed information has been added.\n",
      "FIM: [[  29.06110646    5.65571543  -82.2474243   -24.65257982]\n",
      " [   5.65571543   26.70378654  -12.7431601  -140.00114925]\n",
      " [ -82.2474243   -12.7431601   241.14514373   59.6044585 ]\n",
      " [ -24.65257982 -140.00114925   59.6044585   769.22388405]]\n",
      "Trace: 1066.133920780468\n",
      "Determinant: 166109.95469851143\n",
      "Condition number: 1551.1500806946776\n",
      "Minimal eigen value: 0.5176066461694571\n",
      "Eigen values: [8.02885591e+02 2.61200453e+02 5.17606646e-01 1.53027057e+00]\n",
      "Eigen vectors: [[ 0.04454043 -0.31960751 -0.75938699  0.56497663]\n",
      " [ 0.1782985   0.01400273  0.59021965  0.78718126]\n",
      " [-0.11415988  0.93957357 -0.25377291  0.19942001]\n",
      " [-0.9763162  -0.12188714  0.10281766  0.1462147 ]]\n",
      "This is the  10  run out of  25 run.\n",
      "The code has run 13.2913 seconds.\n",
      "Estimated remaining time: 19.9370 seconds\n",
      "=======This is the  11 th iteration=======\n",
      "Design variable values of this iteration: {'CA0': {0: 3.0}, 'T': {0: 300.0, 0.125: 300.0, 0.25: 300.0, 0.375: 300.0, 0.5: 300.0, 0.625: 300.0, 0.75: 300.0, 0.875: 300.0, 1: 300.0}}\n",
      "Sensitivity information is scaled by its corresponding parameter nominal value.\n",
      "Existed information has been added.\n",
      "FIM: [[  36.78887004    6.07511496 -107.02247647  -28.02099618]\n",
      " [   6.07511496   32.92473073  -14.48411404 -178.54397808]\n",
      " [-107.02247647  -14.48411404  319.30033573   71.22701223]\n",
      " [ -28.02099618 -178.54397808   71.22701223 1004.35766813]]\n",
      "Trace: 1393.3716046200643\n",
      "Determinant: 259404.79249449496\n",
      "Condition number: 2117.7576403874828\n",
      "Minimal eigen value: 0.4934329234872393\n",
      "Eigen values: [1.04497134e+03 3.46454720e+02 4.93432923e-01 1.45210830e+00]\n",
      "Eigen vectors: [[ 0.0394186  -0.31528763 -0.77789543  0.54214258]\n",
      " [ 0.17432484  0.0139462   0.56510132  0.80627343]\n",
      " [-0.10531109  0.94230095 -0.25714335  0.18669704]\n",
      " [-0.9782467  -0.11166076  0.09703861  0.14542622]]\n",
      "This is the  11  run out of  25 run.\n",
      "The code has run 14.3810 seconds.\n",
      "Estimated remaining time: 18.3031 seconds\n",
      "=======This is the  12 th iteration=======\n",
      "Design variable values of this iteration: {'CA0': {0: 3.0}, 'T': {0: 400.0, 0.125: 400.0, 0.25: 400.0, 0.375: 400.0, 0.5: 400.0, 0.625: 400.0, 0.75: 400.0, 0.875: 400.0, 1: 400.0}}\n",
      "Sensitivity information is scaled by its corresponding parameter nominal value.\n",
      "Existed information has been added.\n",
      "FIM: [[  32.82491387    7.82520522  -91.43172903  -34.93976104]\n",
      " [   7.82520522   34.18190578  -18.06004783 -174.40587661]\n",
      " [ -91.43172903  -18.06004783  263.13353123   84.29020597]\n",
      " [ -34.93976104 -174.40587661   84.29020597  926.3597771 ]]\n",
      "Trace: 1256.5001279889048\n",
      "Determinant: 263402.56815696124\n",
      "Condition number: 1602.2755769575617\n",
      "Minimal eigen value: 0.606692251370187\n",
      "Eigen values: [9.72088177e+02 2.82222721e+02 6.06692251e-01 1.58253717e+00]\n",
      "Eigen vectors: [[ 0.05009398 -0.32372401 -0.78629932  0.52385755]\n",
      " [ 0.18387427  0.01689333  0.54820737  0.81570432]\n",
      " [-0.12688016  0.93624622 -0.26759042  0.18904978]\n",
      " [-0.97343838 -0.13550056  0.09796643  0.15639663]]\n",
      "This is the  12  run out of  25 run.\n",
      "The code has run 15.6011 seconds.\n",
      "Estimated remaining time: 16.9011 seconds\n",
      "=======This is the  13 th iteration=======\n",
      "Design variable values of this iteration: {'CA0': {0: 3.0}, 'T': {0: 500.0, 0.125: 500.0, 0.25: 500.0, 0.375: 500.0, 0.5: 500.0, 0.625: 500.0, 0.75: 500.0, 0.875: 500.0, 1: 500.0}}\n",
      "Sensitivity information is scaled by its corresponding parameter nominal value.\n",
      "Existed information has been added.\n",
      "FIM: [[  30.89275002    6.69847435  -85.87819164  -28.67837249]\n",
      " [   6.69847435   29.40126676  -14.82387106 -150.06917866]\n",
      " [ -85.87819164  -14.82387106  248.21025379   67.47169254]\n",
      " [ -28.67837249 -150.06917866   67.47169254  806.45237065]]\n",
      "Trace: 1114.9566412208942\n",
      "Determinant: 259295.44426422898\n",
      "Condition number: 1312.5340624325274\n",
      "Minimal eigen value: 0.6433044740080609\n",
      "Eigen values: [8.44359035e+02 2.68174244e+02 6.43304474e-01 1.78005776e+00]\n",
      "Eigen vectors: [[ 0.04871693 -0.32300943 -0.77416724  0.54217769]\n",
      " [ 0.18206305  0.0148089   0.56753176  0.80283339]\n",
      " [-0.12183745  0.93722982 -0.26183895  0.19543866]\n",
      " [-0.97449235 -0.13055984  0.10006575  0.15266182]]\n",
      "This is the  13  run out of  25 run.\n",
      "The code has run 16.9594 seconds.\n",
      "Estimated remaining time: 15.6548 seconds\n",
      "=======This is the  14 th iteration=======\n",
      "Design variable values of this iteration: {'CA0': {0: 3.0}, 'T': {0: 600.0, 0.125: 600.0, 0.25: 600.0, 0.375: 600.0, 0.5: 600.0, 0.625: 600.0, 0.75: 600.0, 0.875: 600.0, 1: 600.0}}\n",
      "Sensitivity information is scaled by its corresponding parameter nominal value.\n",
      "Existed information has been added.\n",
      "FIM: [[  30.04081103    6.30780567  -83.85983328  -26.72425063]\n",
      " [   6.30780567   27.90200091  -13.81389272 -143.74213782]\n",
      " [ -83.85983328  -13.81389272  243.77251546   62.97409839]\n",
      " [ -26.72425063 -143.74213782   62.97409839  780.83565947]]\n",
      "Trace: 1082.550986869459\n",
      "Determinant: 233249.44653710237\n",
      "Condition number: 1361.1345665037536\n",
      "Minimal eigen value: 0.5997577131041496\n",
      "Eigen values: [8.16350955e+02 2.63794338e+02 5.99757713e-01 1.80593621e+00]\n",
      "Eigen vectors: [[ 0.04723544 -0.32167879 -0.7576378   0.5659298 ]\n",
      " [ 0.18026288  0.01386971  0.5920096   0.78539006]\n",
      " [-0.11853461  0.93818523 -0.25448998  0.20246697]\n",
      " [-0.97530695 -0.12703884  0.10365545  0.14796293]]\n",
      "This is the  14  run out of  25 run.\n",
      "The code has run 18.3156 seconds.\n",
      "Estimated remaining time: 14.3908 seconds\n",
      "=======This is the  15 th iteration=======\n",
      "Design variable values of this iteration: {'CA0': {0: 3.0}, 'T': {0: 700.0, 0.125: 700.0, 0.25: 700.0, 0.375: 700.0, 0.5: 700.0, 0.625: 700.0, 0.75: 700.0, 0.875: 700.0, 1: 700.0}}\n",
      "Sensitivity information is scaled by its corresponding parameter nominal value.\n",
      "Existed information has been added.\n",
      "FIM: [[  29.53882947    5.95973797  -82.88577216  -25.43858804]\n",
      " [   5.95973797   27.07183177  -13.14940425 -140.95267917]\n",
      " [ -82.88577216  -13.14940425  241.99812335   60.65474656]\n",
      " [ -25.43858804 -140.95267917   60.65474656  771.68393275]]\n",
      "Trace: 1070.2927173372873\n",
      "Determinant: 200944.16832372188\n",
      "Condition number: 1447.570684323681\n",
      "Minimal eigen value: 0.5567387557668824\n",
      "Eigen values: [8.05918702e+02 2.62108634e+02 5.56738756e-01 1.70864324e+00]\n",
      "Eigen vectors: [[ 0.04572056 -0.32071284 -0.7423529   0.58648536]\n",
      " [ 0.17892883  0.01369196  0.61299069  0.76944098]\n",
      " [-0.11586404  0.93892699 -0.24836575  0.20810115]\n",
      " [-0.9759455  -0.12398352  0.10709366  0.14383813]]\n",
      "This is the  15  run out of  25 run.\n",
      "The code has run 19.7172 seconds.\n",
      "Estimated remaining time: 13.1448 seconds\n",
      "=======This is the  16 th iteration=======\n",
      "Design variable values of this iteration: {'CA0': {0: 4.0}, 'T': {0: 300.0, 0.125: 300.0, 0.25: 300.0, 0.375: 300.0, 0.5: 300.0, 0.625: 300.0, 0.75: 300.0, 0.875: 300.0, 1: 300.0}}\n",
      "Sensitivity information is scaled by its corresponding parameter nominal value.\n"
     ]
    },
    {
     "name": "stdout",
     "output_type": "stream",
     "text": [
      "Existed information has been added.\n",
      "FIM: [[  43.09660269    6.59048419 -126.68915571  -31.12994736]\n",
      " [   6.59048419   37.99224879  -16.09096346 -209.11379689]\n",
      " [-126.68915571  -16.09096346  380.61845015   80.9202888 ]\n",
      " [ -31.12994736 -209.11379689   80.9202888  1188.77019715]]\n",
      "Trace: 1650.4774987815367\n",
      "Determinant: 377289.91439240717\n",
      "Condition number: 2481.5331584244427\n",
      "Minimal eigen value: 0.4977587555539962\n",
      "Eigen values: [1.23520486e+03 4.13290103e+02 4.97758756e-01 1.48478063e+00]\n",
      "Eigen vectors: [[ 0.03730531 -0.3135781  -0.77866613  0.54217722]\n",
      " [ 0.1725762   0.01383184  0.56460354  0.80699999]\n",
      " [-0.10148488  0.9433793  -0.25614111  0.18473777]\n",
      " [-0.97904371 -0.10729839  0.09640345  0.14375966]]\n",
      "This is the  16  run out of  25 run.\n",
      "The code has run 20.7599 seconds.\n",
      "Estimated remaining time: 11.6774 seconds\n",
      "=======This is the  17 th iteration=======\n",
      "Design variable values of this iteration: {'CA0': {0: 4.0}, 'T': {0: 400.0, 0.125: 400.0, 0.25: 400.0, 0.375: 400.0, 0.5: 400.0, 0.625: 400.0, 0.75: 400.0, 0.875: 400.0, 1: 400.0}}\n",
      "Sensitivity information is scaled by its corresponding parameter nominal value.\n",
      "Existed information has been added.\n",
      "FIM: [[  36.04956949    9.70175573  -98.97227133  -43.42997368]\n",
      " [   9.70175573   40.22722664  -22.44817902 -201.75717189]\n",
      " [ -98.97227133  -22.44817902  280.76635309  104.14374397]\n",
      " [ -43.42997368 -201.75717189  104.14374397 1050.107279  ]]\n",
      "Trace: 1407.150428212321\n",
      "Determinant: 385007.6600820056\n",
      "Condition number: 1607.705026141176\n",
      "Minimal eigen value: 0.6877958792543253\n",
      "Eigen values: [1.10577289e+03 2.98996660e+02 6.87795879e-01 1.69308018e+00]\n",
      "Eigen vectors: [[ 0.05355966 -0.32712622 -0.78888975  0.51746764]\n",
      " [ 0.18728768  0.01854209  0.54218599  0.81891017]\n",
      " [-0.13417312  0.93385046 -0.27197264  0.18960955]\n",
      " [-0.97162352 -0.14341531  0.09858088  0.16019237]]\n",
      "This is the  17  run out of  25 run.\n",
      "The code has run 21.9827 seconds.\n",
      "Estimated remaining time: 10.3448 seconds\n",
      "=======This is the  18 th iteration=======\n",
      "Design variable values of this iteration: {'CA0': {0: 4.0}, 'T': {0: 500.0, 0.125: 500.0, 0.25: 500.0, 0.375: 500.0, 0.5: 500.0, 0.625: 500.0, 0.75: 500.0, 0.875: 500.0, 1: 500.0}}\n",
      "Sensitivity information is scaled by its corresponding parameter nominal value.\n",
      "Existed information has been added.\n",
      "FIM: [[  32.61461164    7.69867871  -89.0993161   -32.29861652]\n",
      " [   7.69867871   31.72831286  -16.69497597 -158.49193121]\n",
      " [ -89.0993161   -16.69497597  254.2360823    74.24416491]\n",
      " [ -32.29861652 -158.49193121   74.24416491  836.93855685]]\n",
      "Trace: 1155.5175636475976\n",
      "Determinant: 377055.4880801895\n",
      "Condition number: 1153.5639598389243\n",
      "Minimal eigen value: 0.7616413006513915\n",
      "Eigen values: [8.78601955e+02 2.74098284e+02 7.61641301e-01 2.05568373e+00]\n",
      "Eigen vectors: [[ 0.05232178 -0.32611304 -0.77255089  0.54228945]\n",
      " [ 0.18508459  0.0153093   0.56859711  0.80137796]\n",
      " [-0.12810799  0.93511485 -0.2637982   0.1988946 ]\n",
      " [-0.97293087 -0.13775386  0.10135559  0.15542345]]\n",
      "This is the  18  run out of  25 run.\n",
      "The code has run 23.2465 seconds.\n",
      "Estimated remaining time: 9.0403 seconds\n",
      "=======This is the  19 th iteration=======\n",
      "Design variable values of this iteration: {'CA0': {0: 4.0}, 'T': {0: 600.0, 0.125: 600.0, 0.25: 600.0, 0.375: 600.0, 0.5: 600.0, 0.625: 600.0, 0.75: 600.0, 0.875: 600.0, 1: 600.0}}\n",
      "Sensitivity information is scaled by its corresponding parameter nominal value.\n",
      "Existed information has been added.\n",
      "FIM: [[  31.10005329    7.00415735  -85.51112415  -28.82462185]\n",
      " [   7.00415735   29.06295311  -14.89946105 -147.24386132]\n",
      " [ -85.51112415  -14.89946105  246.34677219   66.24844458]\n",
      " [ -28.82462185 -147.24386132   66.24844458  791.39773727]]\n",
      "Trace: 1097.9075158546405\n",
      "Determinant: 321261.1602557401\n",
      "Condition number: 1206.260839809684\n",
      "Minimal eigen value: 0.6870414530693149\n",
      "Eigen values: [8.28751200e+02 2.66350928e+02 6.87041453e-01 2.11834600e+00]\n",
      "Eigen vectors: [[ 0.04997416 -0.32388984 -0.74853222  0.57645249]\n",
      " [ 0.18211959  0.01362623  0.60381065  0.77592492]\n",
      " [-0.12282242  0.93672065 -0.25260431  0.20895007]\n",
      " [-0.97429446 -0.13215185  0.10631688  0.14826637]]\n",
      "This is the  19  run out of  25 run.\n",
      "The code has run 24.5919 seconds.\n",
      "Estimated remaining time: 7.7659 seconds\n",
      "=======This is the  20 th iteration=======\n",
      "Design variable values of this iteration: {'CA0': {0: 4.0}, 'T': {0: 700.0, 0.125: 700.0, 0.25: 700.0, 0.375: 700.0, 0.5: 700.0, 0.625: 700.0, 0.75: 700.0, 0.875: 700.0, 1: 700.0}}\n",
      "Sensitivity information is scaled by its corresponding parameter nominal value.\n",
      "Existed information has been added.\n",
      "FIM: [[  30.20764167    6.38536954  -83.77945916  -26.53899955]\n",
      " [   6.38536954   27.58709508  -13.71814607 -142.28482105]\n",
      " [ -83.77945916  -13.71814607  243.19229482   62.12514983]\n",
      " [ -26.53899955 -142.28482105   62.12514983  775.12800093]]\n",
      "Trace: 1076.1150325090841\n",
      "Determinant: 254255.2767080606\n",
      "Condition number: 1330.7789533668292\n",
      "Minimal eigen value: 0.608797184202226\n",
      "Eigen values: [8.10174480e+02 2.63374511e+02 6.08797184e-01 1.95724430e+00]\n",
      "Eigen vectors: [[ 0.04736083 -0.32223551 -0.724051    0.60800607]\n",
      " [ 0.17980376  0.01327246  0.63595878  0.75036717]\n",
      " [-0.11822723  0.93802249 -0.24264785  0.2173894 ]\n",
      " [-0.97542293 -0.12689337  0.11148365  0.14149058]]\n",
      "This is the  20  run out of  25 run.\n",
      "The code has run 26.0996 seconds.\n",
      "Estimated remaining time: 6.5249 seconds\n",
      "=======This is the  21 th iteration=======\n",
      "Design variable values of this iteration: {'CA0': {0: 5.0}, 'T': {0: 300.0, 0.125: 300.0, 0.25: 300.0, 0.375: 300.0, 0.5: 300.0, 0.625: 300.0, 0.75: 300.0, 0.875: 300.0, 1: 300.0}}\n",
      "Sensitivity information is scaled by its corresponding parameter nominal value.\n",
      "Existed information has been added.\n",
      "FIM: [[  51.20654467    7.25310176 -151.97488617  -35.12717031]\n",
      " [   7.25310176   44.50762916  -18.15691273 -248.41784964]\n",
      " [-151.97488617  -18.15691273  459.45602584   93.38307296]\n",
      " [ -35.12717031 -248.41784964   93.38307296 1425.87202018]]\n",
      "Trace: 1981.042219842969\n",
      "Determinant: 561207.9661975782\n",
      "Condition number: 2950.219453858868\n",
      "Minimal eigen value: 0.5016011129216537\n",
      "Eigen values: [1.47983336e+03 4.99192705e+02 5.01601113e-01 1.51455236e+00]\n",
      "Eigen vectors: [[-0.03538093  0.31203439 -0.77934566  0.5422205 ]\n",
      " [-0.17098781 -0.01375255  0.56416592  0.80764525]\n",
      " [ 0.09797726 -0.9443377  -0.25524835  0.18296187]\n",
      " [ 0.9797509   0.10330398  0.09584074  0.1422358 ]]\n",
      "This is the  21  run out of  25 run.\n",
      "The code has run 27.1668 seconds.\n",
      "Estimated remaining time: 5.1746 seconds\n",
      "=======This is the  22 th iteration=======\n",
      "Design variable values of this iteration: {'CA0': {0: 5.0}, 'T': {0: 400.0, 0.125: 400.0, 0.25: 400.0, 0.375: 400.0, 0.5: 400.0, 0.625: 400.0, 0.75: 400.0, 0.875: 400.0, 1: 400.0}}\n",
      "Sensitivity information is scaled by its corresponding parameter nominal value.\n",
      "Existed information has been added.\n",
      "FIM: [[  40.19555527   12.11446351 -108.66725424  -54.3459613 ]\n",
      " [  12.11446351   47.99978202  -28.09006195 -236.92312301]\n",
      " [-108.66725424  -28.09006195  303.437124    129.66972126]\n",
      " [ -54.3459613  -236.92312301  129.66972126 1209.21121023]]\n",
      "Trace: 1600.8436715191028\n",
      "Determinant: 574493.5740840156\n",
      "Condition number: 1641.1009670028882\n",
      "Minimal eigen value: 0.7786241069263284\n",
      "Eigen values: [1.27780077e+03 3.20462429e+02 7.78624107e-01 1.80184348e+00]\n",
      "Eigen vectors: [[ 0.0568252  -0.33099073 -0.78928622  0.514046  ]\n",
      " [ 0.19061862  0.02031409  0.53926997  0.82002426]\n",
      " [-0.1409001   0.93130083 -0.27612116  0.19126691]\n",
      " [-0.96983638 -0.15070249  0.09986123  0.16350503]]\n",
      "This is the  22  run out of  25 run.\n",
      "The code has run 28.3785 seconds.\n",
      "Estimated remaining time: 3.8698 seconds\n",
      "=======This is the  23 th iteration=======\n",
      "Design variable values of this iteration: {'CA0': {0: 5.0}, 'T': {0: 500.0, 0.125: 500.0, 0.25: 500.0, 0.375: 500.0, 0.5: 500.0, 0.625: 500.0, 0.75: 500.0, 0.875: 500.0, 1: 500.0}}\n",
      "Sensitivity information is scaled by its corresponding parameter nominal value.\n",
      "Existed information has been added.\n",
      "FIM: [[  34.82843368    8.98465572  -93.24076194  -36.95321608]\n",
      " [   8.98465572   34.72022928  -19.10068248 -169.32118473]\n",
      " [ -93.24076194  -19.10068248  261.98357659   82.95163035]\n",
      " [ -36.95321608 -169.32118473   82.95163035  876.1350836 ]]\n",
      "Trace: 1207.6673231394532\n",
      "Determinant: 560761.2445733282\n",
      "Condition number: 1016.6953838753852\n",
      "Minimal eigen value: 0.9075873160433475\n",
      "Eigen values: [9.22739835e+02 2.81642447e+02 9.07587316e-01 2.37745440e+00]\n",
      "Eigen vectors: [[ 0.056533   -0.32983839 -0.77051818  0.54250567]\n",
      " [ 0.18863263  0.01601912  0.56994713  0.79957575]\n",
      " [-0.13533435  0.93253239 -0.26619814  0.20299388]\n",
      " [-0.97103366 -0.14605949  0.10295902  0.15861809]]\n",
      "This is the  23  run out of  25 run.\n",
      "The code has run 29.6690 seconds.\n",
      "Estimated remaining time: 2.5799 seconds\n",
      "=======This is the  24 th iteration=======\n",
      "Design variable values of this iteration: {'CA0': {0: 5.0}, 'T': {0: 600.0, 0.125: 600.0, 0.25: 600.0, 0.375: 600.0, 0.5: 600.0, 0.625: 600.0, 0.75: 600.0, 0.875: 600.0, 1: 600.0}}\n",
      "Sensitivity information is scaled by its corresponding parameter nominal value.\n"
     ]
    },
    {
     "name": "stdout",
     "output_type": "stream",
     "text": [
      "Existed information has been added.\n",
      "FIM: [[  32.4619363     7.89946484  -87.63421063  -31.52510018]\n",
      " [   7.89946484   30.55560188  -16.29518684 -151.74607207]\n",
      " [ -87.63421063  -16.29518684  249.65652506   70.45831361]\n",
      " [ -31.52510018 -151.74607207   70.45831361  804.97755722]]\n",
      "Trace: 1117.651620471588\n",
      "Determinant: 454517.0126153976\n",
      "Condition number: 1059.799723292563\n",
      "Minimal eigen value: 0.7970814142579506\n",
      "Eigen values: [8.44746662e+02 2.69604107e+02 7.97081414e-01 2.50377024e+00]\n",
      "Eigen vectors: [[ 0.05337759 -0.32661762 -0.74037869  0.58507364]\n",
      " [ 0.18442587  0.01338178  0.61386088  0.76745217]\n",
      " [-0.12811295  0.93486205 -0.25133676  0.21552227]\n",
      " [-0.97299795 -0.13847311  0.10883033  0.14918496]]\n",
      "This is the  24  run out of  25 run.\n",
      "The code has run 31.0215 seconds.\n",
      "Estimated remaining time: 1.2926 seconds\n",
      "=======This is the  25 th iteration=======\n",
      "Design variable values of this iteration: {'CA0': {0: 5.0}, 'T': {0: 700.0, 0.125: 700.0, 0.25: 700.0, 0.375: 700.0, 0.5: 700.0, 0.625: 700.0, 0.75: 700.0, 0.875: 700.0, 1: 700.0}}\n",
      "Sensitivity information is scaled by its corresponding parameter nominal value.\n",
      "Existed information has been added.\n",
      "FIM: [[  31.06754309    6.93261012  -84.92848531  -27.95381437]\n",
      " [   6.93261012   28.24957649  -14.44938555 -143.99757491]\n",
      " [ -84.92848531  -14.44938555  244.72765813   64.01566832]\n",
      " [ -27.95381437 -143.99757491   64.01566832  779.5560886 ]]\n",
      "Trace: 1083.6008663180692\n",
      "Determinant: 330586.4915112132\n",
      "Condition number: 1212.3887740652594\n",
      "Minimal eigen value: 0.6727727406629871\n",
      "Eigen values: [8.15662118e+02 2.64992592e+02 6.72772741e-01 2.27338343e+00]\n",
      "Eigen vectors: [[ 0.04944936 -0.32415168 -0.70688843  0.62672897]\n",
      " [ 0.18091586  0.01275908  0.65620673  0.73246119]\n",
      " [-0.12122713  0.93686107 -0.23742408  0.22632968]\n",
      " [-0.9747452  -0.13059183  0.11546121  0.1395933 ]]\n",
      "This is the  25  run out of  25 run.\n",
      "The code has run 32.5174 seconds.\n",
      "Estimated remaining time: 0.0000 seconds\n",
      "The whole run takes  32.517438888549805  s.\n"
     ]
    }
   ],
   "source": [
    "doe_object = DesignOfExperiments(parameter_dict, dv_pass, \n",
    "                                 ['CA','CB','CC'], t_measure, createmod,\n",
    "                                 prior_FIM=prior_pass, discretize_model=disc)\n",
    "\n",
    "all_fim = doe_object.run_grid_search(exp1, design_ranges,dv_apply_name, dv_apply_time, \n",
    "                                     mode='sequential_finite', \n",
    "                                    scale_nominal_param_value=True\n",
    "                                    )"
   ]
  },
  {
   "cell_type": "code",
   "execution_count": 8,
   "id": "7e5abcb5",
   "metadata": {},
   "outputs": [
    {
     "name": "stdout",
     "output_type": "stream",
     "text": [
      "Design variable:  ['CA0', 'T']\n",
      "Value          :  (1.0, 300.0)\n",
      "Design variable:  ['CA0', 'T']\n",
      "Value          :  (1.0, 400.0)\n",
      "Design variable:  ['CA0', 'T']\n",
      "Value          :  (1.0, 500.0)\n",
      "Design variable:  ['CA0', 'T']\n",
      "Value          :  (1.0, 600.0)\n",
      "Design variable:  ['CA0', 'T']\n",
      "Value          :  (1.0, 700.0)\n",
      "Design variable:  ['CA0', 'T']\n",
      "Value          :  (2.0, 300.0)\n",
      "Design variable:  ['CA0', 'T']\n",
      "Value          :  (2.0, 400.0)\n",
      "Design variable:  ['CA0', 'T']\n",
      "Value          :  (2.0, 500.0)\n",
      "Design variable:  ['CA0', 'T']\n",
      "Value          :  (2.0, 600.0)\n",
      "Design variable:  ['CA0', 'T']\n",
      "Value          :  (2.0, 700.0)\n",
      "Design variable:  ['CA0', 'T']\n",
      "Value          :  (3.0, 300.0)\n",
      "Design variable:  ['CA0', 'T']\n",
      "Value          :  (3.0, 400.0)\n",
      "Design variable:  ['CA0', 'T']\n",
      "Value          :  (3.0, 500.0)\n",
      "Design variable:  ['CA0', 'T']\n",
      "Value          :  (3.0, 600.0)\n",
      "Design variable:  ['CA0', 'T']\n",
      "Value          :  (3.0, 700.0)\n",
      "Design variable:  ['CA0', 'T']\n",
      "Value          :  (4.0, 300.0)\n",
      "Design variable:  ['CA0', 'T']\n",
      "Value          :  (4.0, 400.0)\n",
      "Design variable:  ['CA0', 'T']\n",
      "Value          :  (4.0, 500.0)\n",
      "Design variable:  ['CA0', 'T']\n",
      "Value          :  (4.0, 600.0)\n",
      "Design variable:  ['CA0', 'T']\n",
      "Value          :  (4.0, 700.0)\n",
      "Design variable:  ['CA0', 'T']\n",
      "Value          :  (5.0, 300.0)\n",
      "Design variable:  ['CA0', 'T']\n",
      "Value          :  (5.0, 400.0)\n",
      "Design variable:  ['CA0', 'T']\n",
      "Value          :  (5.0, 500.0)\n",
      "Design variable:  ['CA0', 'T']\n",
      "Value          :  (5.0, 600.0)\n",
      "Design variable:  ['CA0', 'T']\n",
      "Value          :  (5.0, 700.0)\n",
      "(self.store_all_results_dataframe['CA0']==5.0)\n",
      "[300.0, 400.0, 500.0, 600.0, 700.0]\n",
      "[3.29689373 3.20434892 3.08194732 3.04830645 3.03486934]\n"
     ]
    },
    {
     "data": {
      "image/png": "[encoded data removed]",
      "text/plain": [
       "<Figure size 432x288 with 1 Axes>"
      ]
     },
     "metadata": {
      "needs_background": "light"
     },
     "output_type": "display_data"
    },
    {
     "data": {
      "image/png": "[encoded data removed]",
      "text/plain": [
       "<Figure size 432x288 with 1 Axes>"
      ]
     },
     "metadata": {
      "needs_background": "light"
     },
     "output_type": "display_data"
    },
    {
     "data": {
      "image/png": "[encoded data removed]",
      "text/plain": [
       "<Figure size 432x288 with 1 Axes>"
      ]
     },
     "metadata": {
      "needs_background": "light"
     },
     "output_type": "display_data"
    },
    {
     "data": {
      "image/png": "[encoded data removed]",
      "text/plain": [
       "<Figure size 432x288 with 1 Axes>"
      ]
     },
     "metadata": {
      "needs_background": "light"
     },
     "output_type": "display_data"
    }
   ],
   "source": [
    "test = all_fim.extract_criteria()\n",
    "\n",
    "## draw 1D sensitivity curve \n",
    "\n",
    "fixed = {\"'CA0'\": 5.0}\n",
    "\n",
    "all_fim.figure_drawing(fixed, ['T'], 'Reactor case','T [K]','$C_{A0}$ [M]' )\n",
    "\n"
   ]
  },
  {
   "cell_type": "code",
   "execution_count": 9,
   "id": "7c1d751d",
   "metadata": {},
   "outputs": [
    {
     "name": "stdout",
     "output_type": "stream",
     "text": [
      "[1.0, 2.0, 3.0, 4.0, 5.0]\n",
      "[300.0, 400.0, 500.0, 600.0, 700.0]\n",
      "[1099.5362969973296, 1084.3283554734471, 1068.601301120078, 1065.0006727947682, 1063.6386428489946, 1209.7245373586702, 1148.8927705828396, 1085.9845538701272, 1071.5820381828053, 1066.133920780468, 1393.3716046200643, 1256.5001279889048, 1114.9566412208942, 1082.550986869459, 1070.2927173372873, 1650.4774987815367, 1407.150428212321, 1155.5175636475976, 1097.9075158546405, 1076.1150325090841, 1981.042219842969, 1600.8436715191028, 1207.6673231394532, 1117.651620471588, 1083.6008663180692]\n",
      "[[1099.536297   1084.32835547 1068.60130112 1065.00067279 1063.63864285]\n",
      " [1209.72453736 1148.89277058 1085.98455387 1071.58203818 1066.13392078]\n",
      " [1393.37160462 1256.50012799 1114.95664122 1082.55098687 1070.29271734]\n",
      " [1650.47749878 1407.15042821 1155.51756365 1097.90751585 1076.11503251]\n",
      " [1981.04221984 1600.84367152 1207.66732314 1117.65162047 1083.60086632]]\n"
     ]
    },
    {
     "data": {
      "image/png": "[encoded data removed]",
      "text/plain": [
       "<Figure size 432x288 with 2 Axes>"
      ]
     },
     "metadata": {
      "needs_background": "light"
     },
     "output_type": "display_data"
    },
    {
     "data": {
      "image/png": "[encoded data removed]",
      "text/plain": [
       "<Figure size 432x288 with 2 Axes>"
      ]
     },
     "metadata": {
      "needs_background": "light"
     },
     "output_type": "display_data"
    },
    {
     "data": {
      "image/png": "[encoded data removed]",
      "text/plain": [
       "<Figure size 432x288 with 2 Axes>"
      ]
     },
     "metadata": {
      "needs_background": "light"
     },
     "output_type": "display_data"
    },
    {
     "data": {
      "image/png": "[encoded data removed]",
      "text/plain": [
       "<Figure size 432x288 with 2 Axes>"
      ]
     },
     "metadata": {
      "needs_background": "light"
     },
     "output_type": "display_data"
    }
   ],
   "source": [
    "fixed = {}\n",
    "\n",
    "#docc = all_fim.figure_result_data \n",
    "#docc.loc[(docc['CA0']==1.0) & (docc['T']==300.0)]\n",
    "\n",
    "all_fim.figure_drawing(fixed, ['CA0','T'], 'Reactor case','$C_{A0}$ [M]', 'T [K]' )"
   ]
  },
  {
   "cell_type": "code",
   "execution_count": null,
   "id": "flush-diameter",
   "metadata": {},
   "outputs": [],
   "source": [
    "#design_ranges = {'CA0':list(np.linspace(1,5,9)),  'T': list(np.linspace(300,700,9))}\n",
    "design_ranges = [list(np.linspace(1,5,2)),  list(np.linspace(300,700,2)), [300,500]]\n",
    "\n",
    "#dv_apply_time = {'CA0': [0], 'T': t_control}\n",
    "dv_apply_name = ['CA0', 'T', 'T']\n",
    "dv_apply_time = [[0], [0], [0.125, 0.25, 0.375, 0.5, 0.625, 0.75, 0.875,1]]\n",
    "\n",
    "# Define experiments\n",
    "if (model_opt=='dynamic-DAE'):\n",
    "    exp1 = generate_exp(t_control, 5, [570.21, 300, 300, 300, 300, 300, 300, 300, 300])\n",
    "else: \n",
    "    exp1 = generate_exp(t_control, 5, [500])"
   ]
  },
  {
   "cell_type": "code",
   "execution_count": null,
   "id": "separate-leone",
   "metadata": {
    "scrolled": true
   },
   "outputs": [],
   "source": [
    "doe_object = DesignOfExperiments(parameter_dict, dv_pass, \n",
    "                                 ['CA','CB','CC'], t_measure, createmod,\n",
    "                                 prior_FIM=prior_pass, discretize_model=disc)\n",
    "\n",
    "all_fim = doe_object.run_grid_search(exp1, design_ranges,dv_apply_name, dv_apply_time, \n",
    "                                     mode='sequential_finite', \n",
    "                                    scale_nominal_param_value=True\n",
    "                                    )"
   ]
  },
  {
   "cell_type": "markdown",
   "id": "3b57a7a7",
   "metadata": {},
   "source": [
    "### Draw heatmap figures"
   ]
  },
  {
   "cell_type": "code",
   "execution_count": null,
   "id": "07a12da5",
   "metadata": {},
   "outputs": [],
   "source": [
    "test = all_fim.extract_criteria()\n",
    "print(test)"
   ]
  },
  {
   "cell_type": "code",
   "execution_count": null,
   "id": "ddedc7ad",
   "metadata": {
    "scrolled": true
   },
   "outputs": [],
   "source": [
    "## draw 1D sensitivity curve \n",
    "\n",
    "fixed = {\"'CA0'\": 1.0, \"'T2'\": 300}\n",
    "\n",
    "all_fim.figure_drawing(fixed, ['T'], 'Reactor case','T [K]','$C_{A0}$ [M]' )"
   ]
  },
  {
   "cell_type": "code",
   "execution_count": null,
   "id": "b2d911d4",
   "metadata": {},
   "outputs": [],
   "source": [
    "\n",
    "docc = all_fim.figure_result_data \n",
    "#docc.loc[(docc['CA0']==1.0) & (docc['T']==300.0)]['A'].values.tolist()\n",
    "\n",
    "\n",
    "\n",
    "#aa = [1,1,4,4]\n",
    "#print(set(aa))\n",
    "#print(list(set(aa)))"
   ]
  },
  {
   "cell_type": "code",
   "execution_count": null,
   "id": "530ed2a2",
   "metadata": {},
   "outputs": [],
   "source": [
    "fixed = {\"'T2'\": 300}\n",
    "#print(all_fim.figure_result_data)\n",
    "\n",
    "docc = all_fim.figure_result_data \n",
    "docc.loc[(docc['CA0']==1.0) & (docc['T']==300.0)]\n",
    "\n",
    "all_fim.figure_drawing(fixed, ['CA0','T'], 'Reactor case','$C_{A0}$ [M]', 'T [K]' )"
   ]
  },
  {
   "cell_type": "code",
   "execution_count": null,
   "id": "76003ddb",
   "metadata": {},
   "outputs": [],
   "source": [
    "heatmap = Grid_Search_Result(design_ranges, all_fim, store_optimality_name='test_heatmap.csv')\n",
    "\n",
    "heatmap.heatmap('Reactor case', '$C_{A0}$ [M]', 'T [K]')"
   ]
  },
  {
   "cell_type": "code",
   "execution_count": null,
   "id": "32c7da54",
   "metadata": {},
   "outputs": [],
   "source": []
  },
  {
   "cell_type": "code",
   "execution_count": null,
   "id": "4c083bf8",
   "metadata": {},
   "outputs": [],
   "source": [
    "x = [1,2]\n",
    "y = [44, 55]\n",
    "\n",
    "fig = plt.figure()\n",
    "plt.rc('axes', titlesize=14)\n",
    "plt.rc('axes', labelsize=14)\n",
    "plt.rc('xtick', labelsize=16)\n",
    "plt.rc('ytick', labelsize=16)\n",
    "ax = fig.add_subplot(111)\n",
    "params = {'mathtext.default': 'regular'}\n",
    "plt.rcParams.update(params)\n",
    "ax.plot(x, y)\n",
    "ax.set_yticks(range(len(yLabel)))\n",
    "ax.set_yticklabels(yLabel)\n",
    "ax.set_ylabel(ylabel_text)\n",
    "ax.set_xticks(range(len(xLabel)))\n",
    "ax.set_xticklabels(xLabel)\n",
    "ax.set_xlabel(xlabel_text)\n",
    "plt.title(title_text + ' - A optimality')\n",
    "plt.show()"
   ]
  },
  {
   "cell_type": "code",
   "execution_count": null,
   "id": "ac5db655",
   "metadata": {},
   "outputs": [],
   "source": [
    "filter = ''\n",
    "for i in range(2):\n",
    "    filter += '(self.store_all_results_dataframe['\n",
    "    filter += \"'CA0'\"\n",
    "    filter += ']=='\n",
    "    filter += str(500)\n",
    "    filter += ')'\n",
    "    if i != 1:\n",
    "        filter += '&'\n",
    "        \n",
    "print(filter)"
   ]
  },
  {
   "cell_type": "code",
   "execution_count": null,
   "id": "1b2f85ab",
   "metadata": {},
   "outputs": [],
   "source": [
    "d = [test['CA0']==1.0, test['T2']==500]\n",
    "print(d)\n",
    "\n",
    "print(type((test['CA0']==1.0) & (test['T2']==500)))"
   ]
  },
  {
   "cell_type": "code",
   "execution_count": null,
   "id": "93642739",
   "metadata": {},
   "outputs": [],
   "source": [
    "ff = ''\n",
    "for i in range(5):\n",
    "    ff += str(i)\n",
    "    \n",
    "print(ff)"
   ]
  },
  {
   "cell_type": "code",
   "execution_count": null,
   "id": "4ec81f48",
   "metadata": {},
   "outputs": [],
   "source": [
    "#new_test = test.loc[(test['CA0']==1.0) & (test['T2']==500)]\n",
    "dd = eval('(test[\"CA0\"]' + '==' + str(1.0) + ')&(' + 'test[\"T2\"]' + '==' + str(500)+')')\n",
    "\n",
    "new_test = test.loc[dd]\n",
    "print(new_test)\n",
    "\n",
    "x_list = new_test['T'].values.tolist()\n",
    "A_list = new_test['A'].values.tolist()\n",
    "\n",
    "print(x_list)\n",
    "print(A_list)"
   ]
  },
  {
   "cell_type": "markdown",
   "id": "65acbe46",
   "metadata": {},
   "source": [
    "### 1D heatmap"
   ]
  },
  {
   "cell_type": "code",
   "execution_count": null,
   "id": "22d0e1f6",
   "metadata": {},
   "outputs": [],
   "source": [
    "#design_ranges = {'CA0':list(np.linspace(1,5,9)),  'T': list(np.linspace(300,700,9))}\n",
    "design_ranges = [ list(np.linspace(300,700,5))]\n",
    "\n",
    "dv_apply_name = ['T']\n",
    "dv_apply_time = [t_control]\n",
    "\n",
    "# Define experiments\n",
    "if (model_opt=='dynamic-DAE'):\n",
    "    exp1 = generate_exp(t_control, 5, [570.21, 300, 300, 300, 300, 300, 300, 300, 300])\n",
    "else: \n",
    "    exp1 = generate_exp(t_control, 5, [500])"
   ]
  },
  {
   "cell_type": "code",
   "execution_count": null,
   "id": "986c0abd",
   "metadata": {},
   "outputs": [],
   "source": [
    "doe_object = DesignOfExperiments(parameter_dict, dv_pass, \n",
    "                                 ['CA','CB','CC'], t_measure, createmod,\n",
    "                                 prior_FIM=prior_pass, discretize_model=disc)\n",
    "\n",
    "all_fim = doe_object.run_grid_search(exp1, design_ranges,dv_apply_name, dv_apply_time, \n",
    "                                     mode='sequential_finite', \n",
    "                                    scale_nominal_param_value=True\n",
    "                                    )"
   ]
  },
  {
   "cell_type": "code",
   "execution_count": null,
   "id": "2587a748",
   "metadata": {},
   "outputs": [],
   "source": [
    "heatmap = Grid_Search_Result(design_ranges, all_fim, store_optimality_name='test_heatmap.csv')\n",
    "\n",
    "heatmap.heatmap('Reactor case', '$C_{A0}$ [M]', 'T [K]')"
   ]
  },
  {
   "cell_type": "code",
   "execution_count": null,
   "id": "3bd4852a",
   "metadata": {},
   "outputs": [],
   "source": [
    "col_names = dv_apply_name.copy()\n",
    "col_names.append('A')\n",
    "print(col_names)"
   ]
  },
  {
   "cell_type": "code",
   "execution_count": null,
   "id": "7c156b4f",
   "metadata": {},
   "outputs": [],
   "source": []
  }
 ],
 "metadata": {
  "kernelspec": {
   "display_name": "Python 3 (ipykernel)",
   "language": "python",
   "name": "python3"
  },
  "language_info": {
   "codemirror_mode": {
    "name": "ipython",
    "version": 3
   },
   "file_extension": ".py",
   "mimetype": "text/x-python",
   "name": "python",
   "nbconvert_exporter": "python",
   "pygments_lexer": "ipython3",
   "version": "3.9.6"
  }
 },
 "nbformat": 4,
 "nbformat_minor": 5
}
