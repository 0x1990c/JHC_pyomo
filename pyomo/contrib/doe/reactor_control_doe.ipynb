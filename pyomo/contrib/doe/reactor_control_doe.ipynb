{
 "cells": [
  {
   "cell_type": "markdown",
   "id": "opposite-garage",
   "metadata": {},
   "source": [
    "# Reactor Kinetics Example \n",
    "\n",
    "Jialu Wang (jwang44@nd.edu) and Alex Dowling (adowling@nd.edu)\n",
    "\n",
    "University of Notre Dame\n",
    "\n",
    "This notebook conducts design of experiments for a reactor kinetics experiment with the Pyomo.DOE.\n",
    "    "
   ]
  },
  {
   "cell_type": "code",
   "execution_count": 1,
   "id": "worth-origin",
   "metadata": {},
   "outputs": [],
   "source": [
    "import matplotlib.pyplot as plt\n",
    "from pyomo.environ import *\n",
    "from pyomo.dae import *\n",
    "\n",
    "import numpy as np\n",
    "from scipy.interpolate import interp2d\n",
    "import pandas as pd \n",
    "from itertools import permutations, product, combinations\n",
    "\n",
    "from fim_doe import *\n",
    "from pyomo.contrib.sensitivity_toolbox.sens import sipopt"
   ]
  },
  {
   "cell_type": "markdown",
   "id": "graphic-controversy",
   "metadata": {},
   "source": [
    "## Define Reaction Example Mathematical Model"
   ]
  },
  {
   "cell_type": "markdown",
   "id": "disturbed-prediction",
   "metadata": {},
   "source": [
    "Consider two chemical reactions that converts molecule $A$ to desired product $B$ and a less valuable side-product $C$.\n",
    "\n",
    "$A \\overset{k_1}{\\rightarrow} B \\overset{k_2}{\\rightarrow} C$\n",
    "\n",
    "Our ultimate goals is to design a large-scale continous reactor that maximizes the production of $B$. This general sequential reactions problem is widely applicable to CO$_2$ capture and industry more broadly (petrochemicals, pharmasuticals, etc.).\n",
    "\n",
    "The rate laws for these two chemical reactions are:\n",
    "\n",
    "$r_A = -k_1 C_A$\n",
    "\n",
    "$r_B = k_1 C_A - k_2 C_B$\n",
    "\n",
    "$r_C = k_2 C_B$\n",
    "\n",
    "Here, $C_A$, $C_B$, and $C_C$ are the concentrations of each species. The rate constants $k_1$ and $k_2$ depend on temperature as follows:\n",
    "\n",
    "$k_1 = A_1 \\exp{\\frac{-E_1}{R T}}$\n",
    "\n",
    "$k_2 = A_2 \\exp{\\frac{-E_2}{R T}}$\n",
    "\n",
    "$A_1, A_2, E_1$, and $E_2$ are fitted model parameters. $R$ is the ideal-gas constant and $T$ is absolute temperature.\n",
    "\n",
    "Using the **CCSI$^2$ toolset**, we would like do the following perform:\n",
    "\n",
    "Perform **uncertainty quantification** and **design of experiments** on a small-scale **batch reactor** to infer parameters $A_1$, $A_2$, $E_1$, and $E_2$."
   ]
  },
  {
   "cell_type": "markdown",
   "id": "sweet-niger",
   "metadata": {},
   "source": [
    "### Batch reactor\n",
    "\n",
    "The concenrations in a batch reactor evolve with time per the following differential equations:\n",
    "\n",
    "$$ \\frac{d C_A}{dt} = r_A = -k_1 C_A $$\n",
    "\n",
    "$$ \\frac{d C_B}{dt} = r_B = k_1 C_A - k_2 C_B $$\n",
    "\n",
    "$$ \\frac{d C_C}{dt} = r_C = k_2 C_B $$\n",
    "\n",
    "This is a linear system of differential equations. Assuming the feed is only species $A$, i.e., \n",
    "\n",
    "$$C_A(t=0) = C_{A0} \\quad C_B(t=0) = 0 \\quad C_C(t=0) = 0$$\n",
    "\n",
    "When the temperature is constant, it leads to the following analytic solution:\n",
    "\n",
    "$$C_A(t) = C_{A,0} \\exp(-k_1 t)$$\n",
    "\n",
    "$$C_B(t) = \\frac{k_1}{k_2 - k_1} C_{A,0} \\left[\\exp(-k_1 t) - \\exp(-k_2 t) \\right]$$\n",
    "\n",
    "$$C_C(t) = C_{A,0} - \\frac{k_2}{k_2 - k_1} C_{A,0} \\exp(-k_1 t) + \\frac{k_1}{k_2 - k_1} \\exp(-k_2 t) C_{A,0} = C_{A,0} - C_{A}(t) - C_{B}(t)$$"
   ]
  },
  {
   "cell_type": "code",
   "execution_count": 2,
   "id": "eligible-robert",
   "metadata": {},
   "outputs": [],
   "source": [
    "from reactor_models import *"
   ]
  },
  {
   "cell_type": "markdown",
   "id": "6f7434dc",
   "metadata": {},
   "source": [
    "Three versions of this model is accomplished: \n",
    "\n",
    "Dynamic-DAE model: Temperature varying model discretized and integrated by Pyomo.DAE\n",
    "\n",
    "Constant-DAE model: Temperature constant model discretized and integrated by Pyomo.DAE\n",
    "\n",
    "Constant-analytical model: Temperature constant model discretized manually and using the analytical expressions for state variables."
   ]
  },
  {
   "cell_type": "code",
   "execution_count": 3,
   "id": "d576e9c4",
   "metadata": {},
   "outputs": [],
   "source": [
    "# choose model from 'dynamic-DAE', 'constant-DAE', 'constant-analytical'\n",
    "model_opt = 'dynamic-DAE'\n",
    "#model_opt = 'constant-DAE'\n",
    "#model_opt = 'constant-analytical'\n",
    "\n",
    "if (model_opt=='dynamic-DAE'):\n",
    "    createmod = create_model_dae\n",
    "    disc = discretizer\n",
    "    t_control = [0, 0.125, 0.25, 0.375, 0.5, 0.625, 0.75, 0.875, 1]\n",
    "    \n",
    "elif (model_opt=='constant-DAE'):\n",
    "    createmod = create_model_dae_const\n",
    "    disc = discretizer\n",
    "    t_control = [0]\n",
    "    \n",
    "elif (model_opt=='constant-analytical'):\n",
    "    createmod = create_model_alge\n",
    "    disc = None\n",
    "    t_control = [0]\n",
    "\n",
    "    \n",
    "# design variable and its control time set\n",
    "dv_pass = {'CA0': [0],'T': t_control}\n",
    "    \n",
    "# Define measurement time points\n",
    "t_measure = [0, 0.125, 0.25, 0.375, 0.5, 0.625, 0.75, 0.875, 1]"
   ]
  },
  {
   "cell_type": "code",
   "execution_count": 4,
   "id": "47137cb2",
   "metadata": {},
   "outputs": [],
   "source": [
    "# Define parameter nominal value \n",
    "parameter_dict = {'A1': 84.79085853498033, 'A2': 371.71773413976416, 'E1': 7.777032028026428, 'E2': 15.047135137500822}\n",
    "\n",
    "def generate_exp(t_set, CA0, T):  \n",
    "    '''Generate experiments. \n",
    "    t_set: time control set for T.\n",
    "    CA0: CA0 value\n",
    "    T: A list of T \n",
    "    '''\n",
    "    assert(len(t_set)==len(T)), 'T should have the same length as t_set'\n",
    "    \n",
    "    T_con_initial = {}\n",
    "    for t, tim in enumerate(t_set):\n",
    "        T_con_initial[tim] = T[t]\n",
    "        \n",
    "    dv_dict_overall = {'CA0': {0: CA0},'T': T_con_initial}\n",
    "    return dv_dict_overall"
   ]
  },
  {
   "cell_type": "code",
   "execution_count": 5,
   "id": "written-tours",
   "metadata": {},
   "outputs": [
    {
     "name": "stdout",
     "output_type": "stream",
     "text": [
      "The prior information FIM: [[  28.67892806    5.41249739  -81.73674601  -24.02377324]\n",
      " [   5.41249739   26.40935036  -12.41816477 -139.23992532]\n",
      " [ -81.73674601  -12.41816477  240.46276004   58.76422806]\n",
      " [ -24.02377324 -139.23992532   58.76422806  767.25584508]]\n",
      "Prior Det: 140189.67370995492\n",
      "Eigenvalue of the prior experiments FIM: [8.00463185e+02 2.60471503e+02 4.84545259e-01 1.38765050e+00]\n",
      "Eigenvalue of the prior experiments FIM: [[-0.77629273 -0.54211788  0.31871243 -0.0435912 ]\n",
      " [ 0.56614148 -0.80478003 -0.01425817 -0.177791  ]\n",
      " [-0.25919275 -0.19059651 -0.94009108  0.11278677]\n",
      " [ 0.09834911 -0.14869526  0.12019924  0.97661114]]\n"
     ]
    }
   ],
   "source": [
    "# empty prior\n",
    "#prior_all = np.zeros((4,4))\n",
    "\n",
    "\n",
    "# add prior information\n",
    "prior_5_300 = pd.read_csv('fim_5_300_scale.csv')\n",
    "prior_5_300_500 = pd.read_csv('fim_5_300_500_scale.csv')\n",
    "\n",
    "prior_all = prior_5_300_500\n",
    "\n",
    "\n",
    "prior_pass=np.asarray(prior_all)\n",
    "\n",
    "#L_initials = np.linalg.cholesky(prior_pass)\n",
    "#print(L_initials)\n",
    "\n",
    "print('The prior information FIM:', prior_pass)\n",
    "print('Prior Det:', np.linalg.det(prior_pass))\n",
    "print('Eigenvalue of the prior experiments FIM:', np.linalg.eigvals(prior_pass))\n",
    "print('Eigenvalue of the prior experiments FIM:', np.linalg.eigh(prior_pass)[1])"
   ]
  },
  {
   "cell_type": "markdown",
   "id": "destroyed-african",
   "metadata": {},
   "source": [
    "## Compute FIM \n",
    "\n",
    "This method computes an MBDoE optimization problem with no Degree of Freedom."
   ]
  },
  {
   "cell_type": "code",
   "execution_count": null,
   "id": "d3ee5ff9",
   "metadata": {},
   "outputs": [],
   "source": [
    "# choose from 'simultaneous', 'sequential', 'sipopt'\n",
    "#sensi_opt = 'simultaneous_finite'\n",
    "#sensi_opt = 'sequential_finite'\n",
    "#sensi_opt = 'sequential_sipopt'\n",
    "sensi_opt = 'sequential_kaug'\n",
    "\n",
    "# Define experiments\n",
    "if (model_opt=='dynamic-DAE'):\n",
    "    exp1 = generate_exp(t_control, 5, [570.21, 300, 300, 300, 300, 300, 300, 300, 300])\n",
    "else: \n",
    "    exp1 = generate_exp(t_control, 5, [500])\n",
    "\n",
    "print('Design variable:', exp1)"
   ]
  },
  {
   "cell_type": "code",
   "execution_count": null,
   "id": "latin-medicare",
   "metadata": {
    "scrolled": true
   },
   "outputs": [],
   "source": [
    "doe_object = DesignOfExperiments(parameter_dict, dv_pass,\n",
    "                                 ['CA','CB','CC'], t_measure, createmod,\n",
    "                                prior_FIM=prior_pass, discretize_model=disc)\n",
    "\n",
    "\n",
    "if_s = True\n",
    "result = doe_object.compute_FIM(exp1,mode=sensi_opt, FIM_store_name = 'dynamic.csv', scale_nominal_param_value=if_s, formula='central')\n",
    "\n",
    "\n",
    "if sensi_opt == 'simultaneous_finite':\n",
    "    result.extract_FIM(doe_object.m, doe_object.design_timeset,\n",
    "                                                          doe_object.square_result, doe_object.obj_opt)\n",
    "else: \n",
    "    result.calculate_FIM(doe_object.jac, doe_object.design_values)"
   ]
  },
  {
   "cell_type": "code",
   "execution_count": null,
   "id": "64fc6da4",
   "metadata": {},
   "outputs": [],
   "source": [
    "print('======Result summary======')\n",
    "print('Four design criteria log10() value:')\n",
    "print('A-optimality:', np.log10(result.trace))\n",
    "print('D-optimality:', np.log10(result.det))\n",
    "print('E-optimality:', np.log10(result.min_eig))\n",
    "print('Modified E-optimality:', np.log10(result.cond))"
   ]
  },
  {
   "cell_type": "markdown",
   "id": "7dfe1ef2",
   "metadata": {},
   "source": [
    "### Run sequential DOE automatically\n",
    "\n",
    "This method runs a series of experiments in a row."
   ]
  },
  {
   "cell_type": "code",
   "execution_count": null,
   "id": "5273a9af",
   "metadata": {},
   "outputs": [],
   "source": [
    "# this only works for constant T mode. \n",
    "exp1 = generate_exp(t_control, 5, [300])\n",
    "exp2 = generate_exp(t_control, 5, [500.92])\n",
    "exp3 = generate_exp(t_control, 5, [528])\n",
    "exp4 = generate_exp(t_control, 5, [546.8])\n",
    "exp5 = generate_exp(t_control, 5, [562])"
   ]
  },
  {
   "cell_type": "code",
   "execution_count": null,
   "id": "940683df",
   "metadata": {},
   "outputs": [],
   "source": [
    "\n",
    "exp_all = [exp1, exp2, exp3, exp4, exp5]\n",
    "\n",
    "\n",
    "doe_object = DesignOfExperiments(parameter_dict, dv_pass,\n",
    "                                 ['CA','CB','CC'], t_measure, createmod,\n",
    "                                prior_FIM=prior_pass, discretize_model=disc)\n",
    "\n",
    "# choose from 'simultaneous', 'sequential', 'sipopt'\n",
    "#sensi_opt = 'simultaneous_finite'\n",
    "sensi_opt = 'sequential_finite'\n",
    "#sensi_opt = 'sequential_sipopt'\n",
    "if_s = True\n",
    "result = doe_object.sequential_exp(exp_all, mode=sensi_opt, tee_option=True,\n",
    "                                    scale_nominal_param_value=if_s, formula='central')"
   ]
  },
  {
   "cell_type": "code",
   "execution_count": null,
   "id": "4939f5c1",
   "metadata": {},
   "outputs": [],
   "source": [
    "print('=======Result summary=======')\n",
    "for i in range(len(exp_all)):\n",
    "    print('The ', i+1,'th experiment has optimality log10() values:')\n",
    "    print('A-optimality:', np.log10(result[0][i].trace))\n",
    "    print('D-optimality:', np.log10(result[0][i].det))\n",
    "    print('E-optimality:', np.log10(result[0][i].min_eig))\n",
    "    print('Modified E-optimality:', np.log10(result[0][i].cond))"
   ]
  },
  {
   "cell_type": "markdown",
   "id": "hindu-bathroom",
   "metadata": {},
   "source": [
    "## Optimization"
   ]
  },
  {
   "cell_type": "code",
   "execution_count": null,
   "id": "wicked-raising",
   "metadata": {
    "scrolled": true
   },
   "outputs": [],
   "source": [
    "doe_object = DesignOfExperiments(parameter_dict, dv_pass, \n",
    "                                 ['CA','CB','CC'], t_measure, createmod,\n",
    "                                 prior_FIM=prior_pass, discretize_model=disc)\n",
    "\n",
    "square_result, optimize_result = doe_object.optimize_doe(exp1, if_optimize=True, if_Cholesky=True, scale_nominal_param_value=True, objective_option='det', L_initial=None)\n"
   ]
  },
  {
   "cell_type": "code",
   "execution_count": null,
   "id": "c6b08c05",
   "metadata": {},
   "outputs": [],
   "source": [
    "print('======Result summary======')\n",
    "print('This optimization is solved with status:', optimize_result.status)\n",
    "print('It gives solution:', optimize_result.solution)\n",
    "print('The log10(OF) optimized is:', optimize_result.obj_value)\n",
    "print('The result FIM is:', optimize_result.FIM)"
   ]
  },
  {
   "cell_type": "markdown",
   "id": "skilled-booking",
   "metadata": {},
   "source": [
    "## Grid search for 2 design variables"
   ]
  },
  {
   "cell_type": "code",
   "execution_count": null,
   "id": "427c7dc8",
   "metadata": {},
   "outputs": [],
   "source": [
    "design_ranges = [list(np.linspace(1,5,5)), list(np.linspace(300,700,5))]\n",
    "\n",
    "dv_apply_name = ['CA0','T']\n",
    "\n",
    "dv_apply_time = [[0],t_control]\n",
    "\n",
    "# Define experiments\n",
    "if (model_opt=='dynamic-DAE'):\n",
    "    exp1 = generate_exp(t_control, 5, [570.21, 300, 300, 300, 300, 300, 300, 300, 300])\n",
    "else: \n",
    "    exp1 = generate_exp(t_control, 5, [500])"
   ]
  },
  {
   "cell_type": "code",
   "execution_count": null,
   "id": "dcfae212",
   "metadata": {
    "scrolled": true
   },
   "outputs": [],
   "source": [
    "doe_object = DesignOfExperiments(parameter_dict, dv_pass, \n",
    "                                 ['CA','CB','CC'], t_measure, createmod,\n",
    "                                 prior_FIM=prior_pass, discretize_model=disc)\n",
    "\n",
    "all_fim = doe_object.run_grid_search(exp1, design_ranges,dv_apply_name, dv_apply_time, \n",
    "                                     mode='sequential_finite', \n",
    "                                    scale_nominal_param_value=True\n",
    "                                    )"
   ]
  },
  {
   "cell_type": "markdown",
   "id": "7ac0e0ed",
   "metadata": {},
   "source": [
    "### 1D sensitivity curve"
   ]
  },
  {
   "cell_type": "code",
   "execution_count": null,
   "id": "991969ba",
   "metadata": {},
   "outputs": [],
   "source": [
    "test = all_fim.extract_criteria()\n",
    "\n",
    "## draw 1D sensitivity curve \n",
    "\n",
    "fixed = {\"'CA0'\": 5.0}\n",
    "\n",
    "all_fim.figure_drawing(fixed, ['T'], 'Reactor case','T [K]','$C_{A0}$ [M]' )\n",
    "\n"
   ]
  },
  {
   "cell_type": "markdown",
   "id": "b1b57f39",
   "metadata": {},
   "source": [
    "## Heatmap"
   ]
  },
  {
   "cell_type": "code",
   "execution_count": null,
   "id": "c9fe2868",
   "metadata": {},
   "outputs": [],
   "source": [
    "fixed = {}\n",
    "all_fim.figure_drawing(fixed, ['CA0','T'], 'Reactor case','$C_{A0}$ [M]', 'T [K]' )"
   ]
  },
  {
   "cell_type": "markdown",
   "id": "c583f3c1",
   "metadata": {},
   "source": [
    "## Grid search for 3 design variables"
   ]
  },
  {
   "cell_type": "code",
   "execution_count": 6,
   "id": "flush-diameter",
   "metadata": {},
   "outputs": [],
   "source": [
    "\n",
    "design_ranges = [list(np.linspace(1,5,2)),  list(np.linspace(300,700,2)), [300,500]]\n",
    "\n",
    "dv_apply_name = ['CA0', 'T', 'T']\n",
    "dv_apply_time = [[0], [0], [0.125, 0.25, 0.375, 0.5, 0.625, 0.75, 0.875,1]]\n",
    "\n",
    "# Define experiments\n",
    "if (model_opt=='dynamic-DAE'):\n",
    "    exp1 = generate_exp(t_control, 5, [570.21, 300, 300, 300, 300, 300, 300, 300, 300])\n",
    "else: \n",
    "    exp1 = generate_exp(t_control, 5, [500])"
   ]
  },
  {
   "cell_type": "code",
   "execution_count": 7,
   "id": "separate-leone",
   "metadata": {
    "scrolled": true
   },
   "outputs": [
    {
     "name": "stdout",
     "output_type": "stream",
     "text": [
      "8  design vectors will be searched.\n",
      "=======This is the  1 th iteration=======\n",
      "Design variable values of this iteration: {'CA0': {0: 1.0}, 'T': {0: 300.0, 0.125: 300, 0.25: 300, 0.375: 300, 0.5: 300, 0.625: 300, 0.75: 300, 0.875: 300, 1: 300}}\n",
      "Sensitivity information is scaled by its corresponding parameter nominal value.\n",
      "Existed information has been added.\n",
      "FIM: [[  29.58003272    5.48612156  -84.54627162  -24.46790912]\n",
      " [   5.48612156   27.13328151  -12.64771469 -143.60704229]\n",
      " [ -84.54627162  -12.64771469  249.22249067   60.14898186]\n",
      " [ -24.46790912 -143.60704229   60.14898186  793.6004921 ]]\n",
      "Trace: 1099.5362969973296\n",
      "Determinant: 151638.49432111066\n",
      "Condition number: 1703.570882096611\n",
      "Minimal eigen value: 0.48581739042098304\n",
      "Eigen values: [8.27624360e+02 2.70029455e+02 4.85817390e-01 1.39666420e+00]\n",
      "Eigen vectors: [[ 0.04300749 -0.31822906 -0.77652374  0.54211761]\n",
      " [ 0.17730502  0.01420751  0.56599113  0.80499386]\n",
      " [-0.1117473   0.94040674 -0.25890023  0.19004834]\n",
      " [-0.97684483 -0.1190108   0.09816107  0.1482397 ]]\n",
      "This is the  1  run out of  8 run.\n",
      "The code has run 1.0615 seconds.\n",
      "Estimated remaining time: 7.4307 seconds\n",
      "=======This is the  2 th iteration=======\n",
      "Design variable values of this iteration: {'CA0': {0: 1.0}, 'T': {0: 300.0, 0.125: 500, 0.25: 500, 0.375: 500, 0.5: 500, 0.625: 500, 0.75: 500, 0.875: 500, 1: 500}}\n",
      "Sensitivity information is scaled by its corresponding parameter nominal value.\n",
      "Existed information has been added.\n",
      "FIM: [[  29.02261159    5.54977754  -82.63008298  -24.51321679]\n",
      " [   5.54977754   26.73694136  -12.73933851 -140.43848427]\n",
      " [ -82.63008298  -12.73933851  242.84405309   59.90239116]\n",
      " [ -24.51321679 -140.43848427   59.90239116  771.64515411]]\n",
      "Trace: 1070.2487601514676\n",
      "Determinant: 149192.95442320604\n",
      "Condition number: 1622.8998059170772\n",
      "Minimal eigen value: 0.49628780484046486\n",
      "Eigen values: [8.05425382e+02 2.62907423e+02 4.96287805e-01 1.41966721e+00]\n",
      "Eigen vectors: [[ 0.04428392 -0.31888887 -0.78187111  0.53387863]\n",
      " [ 0.17826601  0.01439017  0.55769054  0.81055253]\n",
      " [-0.11449466  0.93979064 -0.26124531  0.18824295]\n",
      " [-0.97629459 -0.12205064  0.09700365  0.15014259]]\n",
      "This is the  2  run out of  8 run.\n",
      "The code has run 2.3788 seconds.\n",
      "Estimated remaining time: 7.1365 seconds\n",
      "=======This is the  3 th iteration=======\n",
      "Design variable values of this iteration: {'CA0': {0: 1.0}, 'T': {0: 700.0, 0.125: 300, 0.25: 300, 0.375: 300, 0.5: 300, 0.625: 300, 0.75: 300, 0.875: 300, 1: 300}}\n",
      "Sensitivity information is scaled by its corresponding parameter nominal value.\n",
      "Existed information has been added.\n",
      "FIM: [[  29.20157991    5.87100734  -82.44595307  -25.55675548]\n",
      " [   5.87100734   26.90849468  -13.01883064 -140.90136788]\n",
      " [ -82.44595307  -13.01883064  241.43729075   60.77985683]\n",
      " [ -25.55675548 -140.90136788   60.77985683  772.90355064]]\n",
      "Trace: 1070.4509159748322\n",
      "Determinant: 168524.68737728221\n",
      "Condition number: 1580.1625855470822\n",
      "Minimal eigen value: 0.5107553098330982\n",
      "Eigen values: [8.07076431e+02 2.61299149e+02 5.10755310e-01 1.56458074e+00]\n",
      "Eigen vectors: [[ 0.04567224 -0.31968839 -0.74716662  0.58090913]\n",
      " [ 0.17855066  0.01415856  0.60689182  0.77433941]\n",
      " [-0.11564575  0.93931165 -0.24953529  0.20506544]\n",
      " [-0.97604291 -0.12366286  0.1056243   0.14453799]]\n",
      "This is the  3  run out of  8 run.\n",
      "The code has run 3.5011 seconds.\n",
      "Estimated remaining time: 5.8352 seconds\n",
      "=======This is the  4 th iteration=======\n",
      "Design variable values of this iteration: {'CA0': {0: 1.0}, 'T': {0: 700.0, 0.125: 500, 0.25: 500, 0.375: 500, 0.5: 500, 0.625: 500, 0.75: 500, 0.875: 500, 1: 500}}\n",
      "Sensitivity information is scaled by its corresponding parameter nominal value.\n",
      "Existed information has been added.\n",
      "FIM: [[  28.80936121    5.50647601  -81.91342115  -24.28845098]\n",
      " [   5.50647601   26.52090755  -12.54480218 -139.55262806]\n",
      " [ -81.91342115  -12.54480218  240.70233696   59.12159177]\n",
      " [ -24.28845098 -139.55262806   59.12159177  768.14116197]]\n",
      "Trace: 1064.1737676955722\n",
      "Determinant: 148311.83717121498\n",
      "Condition number: 1621.660778952999\n",
      "Minimal eigen value: 0.49426663416652883\n",
      "Eigen values: [8.01532815e+02 2.60710753e+02 4.94266634e-01 1.43593331e+00]\n",
      "Eigen vectors: [[ 0.04397694 -0.31900169 -0.76997717  0.55085307]\n",
      " [ 0.17797981  0.0141827   0.57533056  0.79819596]\n",
      " [-0.11334433  0.93990695 -0.25714446  0.19391937]\n",
      " [-0.9764949  -0.12087888  0.10003314  0.14778155]]\n",
      "This is the  4  run out of  8 run.\n",
      "The code has run 4.7998 seconds.\n",
      "Estimated remaining time: 4.7998 seconds\n",
      "=======This is the  5 th iteration=======\n",
      "Design variable values of this iteration: {'CA0': {0: 5.0}, 'T': {0: 300.0, 0.125: 300, 0.25: 300, 0.375: 300, 0.5: 300, 0.625: 300, 0.75: 300, 0.875: 300, 1: 300}}\n",
      "Sensitivity information is scaled by its corresponding parameter nominal value.\n",
      "Existed information has been added.\n",
      "FIM: [[  51.20654467    7.25310176 -151.97488617  -35.12717031]\n",
      " [   7.25310176   44.50762916  -18.15691273 -248.41784964]\n",
      " [-151.97488617  -18.15691273  459.45602584   93.38307296]\n",
      " [ -35.12717031 -248.41784964   93.38307296 1425.87202018]]\n",
      "Trace: 1981.042219842969\n",
      "Determinant: 561207.9661975782\n",
      "Condition number: 2950.219453858868\n",
      "Minimal eigen value: 0.5016011129216537\n",
      "Eigen values: [1.47983336e+03 4.99192705e+02 5.01601113e-01 1.51455236e+00]\n",
      "Eigen vectors: [[-0.03538093  0.31203439 -0.77934566  0.5422205 ]\n",
      " [-0.17098781 -0.01375255  0.56416592  0.80764525]\n",
      " [ 0.09797726 -0.9443377  -0.25524835  0.18296187]\n",
      " [ 0.9797509   0.10330398  0.09584074  0.1422358 ]]\n",
      "This is the  5  run out of  8 run.\n",
      "The code has run 5.8875 seconds.\n",
      "Estimated remaining time: 3.5325 seconds\n",
      "=======This is the  6 th iteration=======\n",
      "Design variable values of this iteration: {'CA0': {0: 5.0}, 'T': {0: 300.0, 0.125: 500, 0.25: 500, 0.375: 500, 0.5: 500, 0.625: 500, 0.75: 500, 0.875: 500, 1: 500}}\n",
      "Sensitivity information is scaled by its corresponding parameter nominal value.\n",
      "Existed information has been added.\n",
      "FIM: [[  37.2710164     8.84450119 -104.07017015  -36.25986207]\n",
      " [   8.84450119   34.59912546  -20.44750819 -169.20389915]\n",
      " [-104.07017015  -20.44750819  299.99508643   87.21830573]\n",
      " [ -36.25986207 -169.20389915   87.21830573  876.98857123]]\n",
      "Trace: 1248.8537995182587\n",
      "Determinant: 456984.621667734\n",
      "Condition number: 1267.5633174434258\n",
      "Minimal eigen value: 0.7302489893151791\n",
      "Eigen values: [9.25636831e+02 3.20376491e+02 7.30248989e-01 2.11022786e+00]\n",
      "Eigen vectors: [[ 0.0591013  -0.32164501 -0.84761859  0.41784476]\n",
      " [ 0.1880015   0.01885726  0.43897561  0.8784078 ]\n",
      " [-0.15101642  0.93281443 -0.28759296  0.15601783]\n",
      " [-0.96868804 -0.16138812  0.0783162   0.17165062]]\n",
      "This is the  6  run out of  8 run.\n",
      "The code has run 7.3013 seconds.\n",
      "Estimated remaining time: 2.4338 seconds\n",
      "=======This is the  7 th iteration=======\n",
      "Design variable values of this iteration: {'CA0': {0: 5.0}, 'T': {0: 700.0, 0.125: 300, 0.25: 300, 0.375: 300, 0.5: 300, 0.625: 300, 0.75: 300, 0.875: 300, 1: 300}}\n",
      "Sensitivity information is scaled by its corresponding parameter nominal value.\n",
      "Existed information has been added.\n",
      "FIM: [[  41.74522441   16.87524634  -99.4669227   -62.3483296 ]\n",
      " [  16.87524634   38.88795867  -27.43481158 -180.77598957]\n",
      " [ -99.4669227   -27.43481158  264.82602812  109.15494783]\n",
      " [ -62.3483296  -180.77598957  109.15494783  908.44848429]]\n",
      "Trace: 1253.907695488249\n",
      "Determinant: 1161091.8013054593\n",
      "Condition number: 1170.358106497793\n",
      "Minimal eigen value: 0.8284013252623807\n",
      "Eigen values: [9.69526206e+02 2.78359589e+02 5.19349878e+00 8.28401325e-01]\n",
      "Eigen vectors: [[ 0.08630722 -0.33686359 -0.71115768 -0.61100634]\n",
      " [ 0.19352627  0.01346086 -0.62939795  0.75247898]\n",
      " [-0.16881879  0.92224221 -0.27956296 -0.20691563]\n",
      " [-0.96260006 -0.18923803 -0.14127113  0.13278769]]\n",
      "This is the  7  run out of  8 run.\n",
      "The code has run 8.3791 seconds.\n",
      "Estimated remaining time: 1.1970 seconds\n",
      "=======This is the  8 th iteration=======\n",
      "Design variable values of this iteration: {'CA0': {0: 5.0}, 'T': {0: 700.0, 0.125: 500, 0.25: 500, 0.375: 500, 0.5: 500, 0.625: 500, 0.75: 500, 0.875: 500, 1: 500}}\n",
      "Sensitivity information is scaled by its corresponding parameter nominal value.\n",
      "Existed information has been added.\n",
      "FIM: [[  31.93975692    7.76196301  -86.15362453  -30.64071679]\n",
      " [   7.76196301   29.19828026  -15.58409994 -147.05749384]\n",
      " [ -86.15362453  -15.58409994  246.45218312   67.69832079]\n",
      " [ -30.64071679 -147.05749384   67.69832079  789.38876733]]\n",
      "Trace: 1096.9789876284945\n",
      "Determinant: 391721.9874042468\n",
      "Condition number: 1198.343260089791\n",
      "Minimal eigen value: 0.6904322791243135\n",
      "Eigen values: [8.27374868e+02 2.66339028e+02 6.90432279e-01 2.57465905e+00]\n",
      "Eigen vectors: [[ 0.05295553 -0.32557225 -0.69349396  0.64051897]\n",
      " [ 0.18236757  0.01258494  0.67137407  0.71822041]\n",
      " [-0.12621181  0.9355106  -0.23310991  0.23355998]\n",
      " [-0.97365721 -0.13661713  0.11824874  0.13908499]]\n",
      "This is the  8  run out of  8 run.\n",
      "The code has run 9.7326 seconds.\n",
      "Estimated remaining time: 0.0000 seconds\n",
      "The whole run takes  9.73263692855835  s.\n"
     ]
    }
   ],
   "source": [
    "doe_object = DesignOfExperiments(parameter_dict, dv_pass, \n",
    "                                 ['CA','CB','CC'], t_measure, createmod,\n",
    "                                 prior_FIM=prior_pass, discretize_model=disc)\n",
    "\n",
    "all_fim = doe_object.run_grid_search(exp1, design_ranges,dv_apply_name, dv_apply_time, \n",
    "                                     mode='sequential_finite', \n",
    "                                    scale_nominal_param_value=True\n",
    "                                    )"
   ]
  },
  {
   "cell_type": "markdown",
   "id": "d533298f",
   "metadata": {},
   "source": [
    "### Draw 1D sensitivity curve"
   ]
  },
  {
   "cell_type": "code",
   "execution_count": 8,
   "id": "75da1683",
   "metadata": {},
   "outputs": [
    {
     "name": "stdout",
     "output_type": "stream",
     "text": [
      "Design variable:  ['CA0', 'T', 'T']\n",
      "Value          :  (1.0, 300.0, 300)\n",
      "Design variable:  ['CA0', 'T', 'T']\n",
      "Value          :  (1.0, 300.0, 500)\n",
      "Design variable:  ['CA0', 'T', 'T']\n",
      "Value          :  (1.0, 700.0, 300)\n",
      "Design variable:  ['CA0', 'T', 'T']\n",
      "Value          :  (1.0, 700.0, 500)\n",
      "Design variable:  ['CA0', 'T', 'T']\n",
      "Value          :  (5.0, 300.0, 300)\n",
      "Design variable:  ['CA0', 'T', 'T']\n",
      "Value          :  (5.0, 300.0, 500)\n",
      "Design variable:  ['CA0', 'T', 'T']\n",
      "Value          :  (5.0, 700.0, 300)\n",
      "Design variable:  ['CA0', 'T', 'T']\n",
      "Value          :  (5.0, 700.0, 500)\n",
      "Reminder: the  2 th design variable  T  is renamed as  T2 .\n"
     ]
    }
   ],
   "source": [
    "test = all_fim.extract_criteria()"
   ]
  },
  {
   "cell_type": "code",
   "execution_count": 9,
   "id": "c20e6579",
   "metadata": {
    "scrolled": true
   },
   "outputs": [
    {
     "name": "stdout",
     "output_type": "stream",
     "text": [
      "[\"'CA0'\", \"'T2'\"] is/are fixed.\n",
      "1D sensitivity curve is plotted with  T .\n"
     ]
    },
    {
     "data": {
      "image/png": "[encoded data removed]",
      "text/plain": [
       "<Figure size 432x288 with 1 Axes>"
      ]
     },
     "metadata": {
      "needs_background": "light"
     },
     "output_type": "display_data"
    },
    {
     "data": {
      "image/png": "[encoded data removed]",
      "text/plain": [
       "<Figure size 432x288 with 1 Axes>"
      ]
     },
     "metadata": {
      "needs_background": "light"
     },
     "output_type": "display_data"
    },
    {
     "data": {
      "image/png": "[encoded data removed]",
      "text/plain": [
       "<Figure size 432x288 with 1 Axes>"
      ]
     },
     "metadata": {
      "needs_background": "light"
     },
     "output_type": "display_data"
    },
    {
     "data": {
      "image/png": "[encoded data removed]",
      "text/plain": [
       "<Figure size 432x288 with 1 Axes>"
      ]
     },
     "metadata": {
      "needs_background": "light"
     },
     "output_type": "display_data"
    }
   ],
   "source": [
    "## draw 1D sensitivity curve \n",
    "\n",
    "fixed = {\"'CA0'\": 1.0, \"'T2'\": 300}\n",
    "\n",
    "all_fim.figure_drawing(fixed, ['T'], 'Reactor case','T [K]','$C_{A0}$ [M]' )"
   ]
  },
  {
   "cell_type": "markdown",
   "id": "affd1491",
   "metadata": {},
   "source": [
    "### Draw 2D sensitivity curve"
   ]
  },
  {
   "cell_type": "code",
   "execution_count": 10,
   "id": "16be2b47",
   "metadata": {
    "scrolled": true
   },
   "outputs": [
    {
     "name": "stdout",
     "output_type": "stream",
     "text": [
      "[\"'T2'\"] is/are fixed.\n",
      "2D heatmap is plotted with  ['CA0', 'T'] .\n"
     ]
    },
    {
     "data": {
      "image/png": "[encoded data removed]",
      "text/plain": [
       "<Figure size 432x288 with 2 Axes>"
      ]
     },
     "metadata": {
      "needs_background": "light"
     },
     "output_type": "display_data"
    },
    {
     "data": {
      "image/png": "[encoded data removed]",
      "text/plain": [
       "<Figure size 432x288 with 2 Axes>"
      ]
     },
     "metadata": {
      "needs_background": "light"
     },
     "output_type": "display_data"
    },
    {
     "data": {
      "image/png": "[encoded data removed]",
      "text/plain": [
       "<Figure size 432x288 with 2 Axes>"
      ]
     },
     "metadata": {
      "needs_background": "light"
     },
     "output_type": "display_data"
    },
    {
     "data": {
      "image/png": "[encoded data removed]",
      "text/plain": [
       "<Figure size 432x288 with 2 Axes>"
      ]
     },
     "metadata": {
      "needs_background": "light"
     },
     "output_type": "display_data"
    }
   ],
   "source": [
    "fixed = {\"'T2'\": 300}\n",
    "\n",
    "all_fim.figure_drawing(fixed, ['CA0','T'], 'Reactor case','$C_{A0}$ [M]', 'T [K]' )"
   ]
  },
  {
   "cell_type": "code",
   "execution_count": null,
   "id": "2957202d",
   "metadata": {},
   "outputs": [],
   "source": []
  }
 ],
 "metadata": {
  "kernelspec": {
   "display_name": "Python 3 (ipykernel)",
   "language": "python",
   "name": "python3"
  },
  "language_info": {
   "codemirror_mode": {
    "name": "ipython",
    "version": 3
   },
   "file_extension": ".py",
   "mimetype": "text/x-python",
   "name": "python",
   "nbconvert_exporter": "python",
   "pygments_lexer": "ipython3",
   "version": "3.9.6"
  }
 },
 "nbformat": 4,
 "nbformat_minor": 5
}
