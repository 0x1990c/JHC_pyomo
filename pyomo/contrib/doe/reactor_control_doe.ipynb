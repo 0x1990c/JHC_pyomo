{
 "cells": [
  {
   "cell_type": "markdown",
   "id": "opposite-garage",
   "metadata": {},
   "source": [
    "# Reactor Kinetics Example \n",
    "\n",
    "Jialu Wang (jwang44@nd.edu) and Alex Dowling (adowling@nd.edu)\n",
    "\n",
    "University of Notre Dame\n",
    "\n",
    "This notebook conducts design of experiments for a reactor kinetics experiment with the Pyomo.DOE.\n",
    "    "
   ]
  },
  {
   "cell_type": "code",
   "execution_count": 1,
   "id": "worth-origin",
   "metadata": {},
   "outputs": [],
   "source": [
    "import matplotlib.pyplot as plt\n",
    "from pyomo.environ import *\n",
    "from pyomo.dae import *\n",
    "\n",
    "import numpy as np\n",
    "from scipy.interpolate import interp2d\n",
    "import pandas as pd \n",
    "from itertools import permutations, product, combinations\n",
    "\n",
    "from fim_doe import *\n",
    "from pyomo.contrib.sensitivity_toolbox.sens import sipopt"
   ]
  },
  {
   "cell_type": "markdown",
   "id": "graphic-controversy",
   "metadata": {},
   "source": [
    "## Define Reaction Example Mathematical Model"
   ]
  },
  {
   "cell_type": "markdown",
   "id": "disturbed-prediction",
   "metadata": {},
   "source": [
    "Consider two chemical reactions that converts molecule $A$ to desired product $B$ and a less valuable side-product $C$.\n",
    "\n",
    "$A \\overset{k_1}{\\rightarrow} B \\overset{k_2}{\\rightarrow} C$\n",
    "\n",
    "Our ultimate goals is to design a large-scale continous reactor that maximizes the production of $B$. This general sequential reactions problem is widely applicable to CO$_2$ capture and industry more broadly (petrochemicals, pharmasuticals, etc.).\n",
    "\n",
    "The rate laws for these two chemical reactions are:\n",
    "\n",
    "$r_A = -k_1 C_A$\n",
    "\n",
    "$r_B = k_1 C_A - k_2 C_B$\n",
    "\n",
    "$r_C = k_2 C_B$\n",
    "\n",
    "Here, $C_A$, $C_B$, and $C_C$ are the concentrations of each species. The rate constants $k_1$ and $k_2$ depend on temperature as follows:\n",
    "\n",
    "$k_1 = A_1 \\exp{\\frac{-E_1}{R T}}$\n",
    "\n",
    "$k_2 = A_2 \\exp{\\frac{-E_2}{R T}}$\n",
    "\n",
    "$A_1, A_2, E_1$, and $E_2$ are fitted model parameters. $R$ is the ideal-gas constant and $T$ is absolute temperature.\n",
    "\n",
    "Using the **CCSI$^2$ toolset**, we would like do the following perform:\n",
    "\n",
    "Perform **uncertainty quantification** and **design of experiments** on a small-scale **batch reactor** to infer parameters $A_1$, $A_2$, $E_1$, and $E_2$."
   ]
  },
  {
   "cell_type": "markdown",
   "id": "sweet-niger",
   "metadata": {},
   "source": [
    "### Batch reactor\n",
    "\n",
    "The concenrations in a batch reactor evolve with time per the following differential equations:\n",
    "\n",
    "$$ \\frac{d C_A}{dt} = r_A = -k_1 C_A $$\n",
    "\n",
    "$$ \\frac{d C_B}{dt} = r_B = k_1 C_A - k_2 C_B $$\n",
    "\n",
    "$$ \\frac{d C_C}{dt} = r_C = k_2 C_B $$\n",
    "\n",
    "This is a linear system of differential equations. Assuming the feed is only species $A$, i.e., \n",
    "\n",
    "$$C_A(t=0) = C_{A0} \\quad C_B(t=0) = 0 \\quad C_C(t=0) = 0$$\n",
    "\n",
    "When the temperature is constant, it leads to the following analytic solution:\n",
    "\n",
    "$$C_A(t) = C_{A,0} \\exp(-k_1 t)$$\n",
    "\n",
    "$$C_B(t) = \\frac{k_1}{k_2 - k_1} C_{A,0} \\left[\\exp(-k_1 t) - \\exp(-k_2 t) \\right]$$\n",
    "\n",
    "$$C_C(t) = C_{A,0} - \\frac{k_2}{k_2 - k_1} C_{A,0} \\exp(-k_1 t) + \\frac{k_1}{k_2 - k_1} \\exp(-k_2 t) C_{A,0} = C_{A,0} - C_{A}(t) - C_{B}(t)$$"
   ]
  },
  {
   "cell_type": "code",
   "execution_count": 2,
   "id": "eligible-robert",
   "metadata": {},
   "outputs": [],
   "source": [
    "from reactor_models import *"
   ]
  },
  {
   "cell_type": "markdown",
   "id": "6f7434dc",
   "metadata": {},
   "source": [
    "Three versions of this model is accomplished: \n",
    "\n",
    "Dynamic-DAE model: Temperature varying model discretized and integrated by Pyomo.DAE\n",
    "\n",
    "Constant-DAE model: Temperature constant model discretized and integrated by Pyomo.DAE\n",
    "\n",
    "Constant-analytical model: Temperature constant model discretized manually and using the analytical expressions for state variables."
   ]
  },
  {
   "cell_type": "code",
   "execution_count": 3,
   "id": "d576e9c4",
   "metadata": {},
   "outputs": [],
   "source": [
    "# choose model from 'dynamic-DAE', 'constant-DAE', 'constant-analytical'\n",
    "model_opt = 'dynamic-DAE'\n",
    "#model_opt = 'constant-DAE'\n",
    "#model_opt = 'constant-analytical'\n",
    "\n",
    "if (model_opt=='dynamic-DAE'):\n",
    "    createmod = create_model_dae\n",
    "    disc = discretizer\n",
    "    t_control = [0, 0.125, 0.25, 0.375, 0.5, 0.625, 0.75, 0.875, 1]\n",
    "    \n",
    "elif (model_opt=='constant-DAE'):\n",
    "    createmod = create_model_dae_const\n",
    "    disc = discretizer\n",
    "    t_control = [0]\n",
    "    \n",
    "elif (model_opt=='constant-analytical'):\n",
    "    createmod = create_model_alge\n",
    "    disc = None\n",
    "    t_control = [0]\n",
    "\n",
    "    \n",
    "# design variable and its control time set\n",
    "dv_pass = {'CA0': [0],'T': t_control}\n",
    "    \n",
    "# Define measurement time points\n",
    "t_measure = [0, 0.125, 0.25, 0.375, 0.5, 0.625, 0.75, 0.875, 1]"
   ]
  },
  {
   "cell_type": "code",
   "execution_count": 4,
   "id": "47137cb2",
   "metadata": {},
   "outputs": [],
   "source": [
    "# Define parameter nominal value \n",
    "parameter_dict = {'A1': 84.79085853498033, 'A2': 371.71773413976416, 'E1': 7.777032028026428, 'E2': 15.047135137500822}\n",
    "\n",
    "def generate_exp(t_set, CA0, T):  \n",
    "    '''Generate experiments. \n",
    "    t_set: time control set for T.\n",
    "    CA0: CA0 value\n",
    "    T: A list of T \n",
    "    '''\n",
    "    assert(len(t_set)==len(T)), 'T should have the same length as t_set'\n",
    "    \n",
    "    T_con_initial = {}\n",
    "    for t, tim in enumerate(t_set):\n",
    "        T_con_initial[tim] = T[t]\n",
    "        \n",
    "    dv_dict_overall = {'CA0': {0: CA0},'T': T_con_initial}\n",
    "    return dv_dict_overall"
   ]
  },
  {
   "cell_type": "code",
   "execution_count": 5,
   "id": "written-tours",
   "metadata": {},
   "outputs": [
    {
     "name": "stdout",
     "output_type": "stream",
     "text": [
      "The prior information FIM: [[0. 0. 0. 0.]\n",
      " [0. 0. 0. 0.]\n",
      " [0. 0. 0. 0.]\n",
      " [0. 0. 0. 0.]]\n",
      "Prior Det: 0.0\n",
      "Eigenvalue of the prior experiments FIM: [0. 0. 0. 0.]\n",
      "Eigenvalue of the prior experiments FIM: [[1. 0. 0. 0.]\n",
      " [0. 1. 0. 0.]\n",
      " [0. 0. 1. 0.]\n",
      " [0. 0. 0. 1.]]\n"
     ]
    }
   ],
   "source": [
    "# empty prior\n",
    "prior_all = np.zeros((4,4))\n",
    "\n",
    "\n",
    "# add prior information\n",
    "#prior_5_300 = pd.read_csv('fim_5_300_scale.csv')\n",
    "#prior_5_300_500 = pd.read_csv('fim_5_300_500_scale.csv')\n",
    "\n",
    "#prior_all = prior_5_300_500\n",
    "\n",
    "\n",
    "prior_pass=np.asarray(prior_all)\n",
    "\n",
    "#L_initials = np.linalg.cholesky(prior_pass)\n",
    "#print(L_initials)\n",
    "\n",
    "print('The prior information FIM:', prior_pass)\n",
    "print('Prior Det:', np.linalg.det(prior_pass))\n",
    "print('Eigenvalue of the prior experiments FIM:', np.linalg.eigvals(prior_pass))\n",
    "print('Eigenvalue of the prior experiments FIM:', np.linalg.eigh(prior_pass)[1])"
   ]
  },
  {
   "cell_type": "markdown",
   "id": "destroyed-african",
   "metadata": {},
   "source": [
    "## Compute FIM \n",
    "\n",
    "This method computes an MBDoE optimization problem with no Degree of Freedom."
   ]
  },
  {
   "cell_type": "code",
   "execution_count": 6,
   "id": "d3ee5ff9",
   "metadata": {},
   "outputs": [
    {
     "name": "stdout",
     "output_type": "stream",
     "text": [
      "Design variable: {'CA0': {0: 5}, 'T': {0: 570.21, 0.125: 300, 0.25: 300, 0.375: 300, 0.5: 300, 0.625: 300, 0.75: 300, 0.875: 300, 1: 300}}\n"
     ]
    }
   ],
   "source": [
    "# choose from 'simultaneous', 'sequential', 'sipopt'\n",
    "#sensi_opt = 'simultaneous_finite'\n",
    "sensi_opt = 'sequential_finite'\n",
    "#sensi_opt = 'sequential_sipopt'\n",
    "#sensi_opt = 'sequential_kaug'\n",
    "\n",
    "# Define experiments\n",
    "if (model_opt=='dynamic-DAE'):\n",
    "    exp1 = generate_exp(t_control, 5, [570.21, 300, 300, 300, 300, 300, 300, 300, 300])\n",
    "else: \n",
    "    exp1 = generate_exp(t_control, 5, [500])\n",
    "\n",
    "print('Design variable:', exp1)"
   ]
  },
  {
   "cell_type": "code",
   "execution_count": null,
   "id": "latin-medicare",
   "metadata": {
    "scrolled": true
   },
   "outputs": [],
   "source": [
    "doe_object = DesignOfExperiments(parameter_dict, dv_pass,\n",
    "                                 ['CA','CB','CC'], t_measure, createmod,\n",
    "                                prior_FIM=prior_pass, discretize_model=disc)\n",
    "\n",
    "\n",
    "if_s = True\n",
    "\n",
    "result = doe_object.compute_FIM(exp1,mode=sensi_opt, FIM_store_name = 'dynamic.csv', \n",
    "                                scale_nominal_param_value=if_s, formula='central')\n",
    "\n",
    "\n",
    "if sensi_opt == 'simultaneous_finite':\n",
    "    result.extract_FIM(doe_object.m, doe_object.design_timeset,\n",
    "                                                          doe_object.square_result, doe_object.obj_opt)\n",
    "else: \n",
    "    result.calculate_FIM(doe_object.jac, doe_object.design_values)"
   ]
  },
  {
   "cell_type": "code",
   "execution_count": null,
   "id": "64fc6da4",
   "metadata": {},
   "outputs": [],
   "source": [
    "print('======Result summary======')\n",
    "print('Four design criteria log10() value:')\n",
    "print('A-optimality:', np.log10(result.trace))\n",
    "print('D-optimality:', np.log10(result.det))\n",
    "print('E-optimality:', np.log10(result.min_eig))\n",
    "print('Modified E-optimality:', np.log10(result.cond))"
   ]
  },
  {
   "cell_type": "markdown",
   "id": "7dfe1ef2",
   "metadata": {},
   "source": [
    "### Run sequential DOE automatically\n",
    "\n",
    "This method runs a series of experiments in a row."
   ]
  },
  {
   "cell_type": "code",
   "execution_count": null,
   "id": "5273a9af",
   "metadata": {},
   "outputs": [],
   "source": [
    "# this only works for constant T mode. \n",
    "exp1 = generate_exp(t_control, 5, [300])\n",
    "exp2 = generate_exp(t_control, 5, [500.92])\n",
    "exp3 = generate_exp(t_control, 5, [528])\n",
    "exp4 = generate_exp(t_control, 5, [546.8])\n",
    "exp5 = generate_exp(t_control, 5, [562])"
   ]
  },
  {
   "cell_type": "code",
   "execution_count": null,
   "id": "940683df",
   "metadata": {},
   "outputs": [],
   "source": [
    "\n",
    "exp_all = [exp1, exp2, exp3, exp4, exp5]\n",
    "\n",
    "\n",
    "doe_object = DesignOfExperiments(parameter_dict, dv_pass,\n",
    "                                 ['CA','CB','CC'], t_measure, createmod,\n",
    "                                prior_FIM=prior_pass, discretize_model=disc)\n",
    "\n",
    "# choose from 'simultaneous', 'sequential', 'sipopt'\n",
    "#sensi_opt = 'simultaneous_finite'\n",
    "sensi_opt = 'sequential_finite'\n",
    "#sensi_opt = 'sequential_sipopt'\n",
    "if_s = True\n",
    "result = doe_object.sequential_exp(exp_all, mode=sensi_opt, tee_option=True,\n",
    "                                    scale_nominal_param_value=if_s, formula='central')"
   ]
  },
  {
   "cell_type": "code",
   "execution_count": null,
   "id": "4939f5c1",
   "metadata": {},
   "outputs": [],
   "source": [
    "print('=======Result summary=======')\n",
    "for i in range(len(exp_all)):\n",
    "    print('The ', i+1,'th experiment has optimality log10() values:')\n",
    "    print('A-optimality:', np.log10(result[0][i].trace))\n",
    "    print('D-optimality:', np.log10(result[0][i].det))\n",
    "    print('E-optimality:', np.log10(result[0][i].min_eig))\n",
    "    print('Modified E-optimality:', np.log10(result[0][i].cond))"
   ]
  },
  {
   "cell_type": "markdown",
   "id": "hindu-bathroom",
   "metadata": {},
   "source": [
    "## Optimization"
   ]
  },
  {
   "cell_type": "code",
   "execution_count": null,
   "id": "wicked-raising",
   "metadata": {
    "scrolled": true
   },
   "outputs": [],
   "source": [
    "doe_object = DesignOfExperiments(parameter_dict, dv_pass, \n",
    "                                 ['CA','CB','CC'], t_measure, createmod,\n",
    "                                 prior_FIM=prior_pass, discretize_model=disc)\n",
    "\n",
    "square_result, optimize_result = doe_object.optimize_doe(exp1, if_optimize=True, if_Cholesky=True, \n",
    "                                                         scale_nominal_param_value=True, objective_option='det', \n",
    "                                                         L_initial=None)\n"
   ]
  },
  {
   "cell_type": "code",
   "execution_count": null,
   "id": "c6b08c05",
   "metadata": {},
   "outputs": [],
   "source": [
    "print('======Result summary======')\n",
    "print('This optimization is solved with status:', optimize_result.status)\n",
    "print('It gives solution:', optimize_result.solution)\n",
    "print('The log10(OF) optimized is:', optimize_result.obj_value)\n",
    "print('The result FIM is:', optimize_result.FIM)\n",
    "\n",
    "t_list = []\n",
    "for t in optimize_result.model.t:\n",
    "    t_list.append(t)\n",
    "\n",
    "T_list = []\n",
    "for i in t_list:\n",
    "    T_list.append(value(optimize_result.model.T[i]))\n",
    "\n",
    "si=16\n",
    "plt.rc('axes', titlesize=si)\n",
    "plt.rc('axes', labelsize=si)\n",
    "plt.rc('xtick', labelsize=si)\n",
    "plt.rc('ytick', labelsize=si)\n",
    "plt.rc('legend', fontsize=12)\n",
    "    \n",
    "plt.plot(t_list, T_list, 'b', linewidth=2)\n",
    "#plt.scatter(t_list, T_list, 'b')\n",
    "plt.ylabel('T [$K$]')\n",
    "plt.xlabel('Time [$h$]')\n",
    "plt.show()"
   ]
  },
  {
   "cell_type": "markdown",
   "id": "skilled-booking",
   "metadata": {},
   "source": [
    "## Grid search for 2 design variables"
   ]
  },
  {
   "cell_type": "code",
   "execution_count": 7,
   "id": "427c7dc8",
   "metadata": {},
   "outputs": [],
   "source": [
    "design_ranges = [list(np.linspace(1,5,3)), list(np.linspace(300,700,3))]\n",
    "\n",
    "dv_apply_name = ['CA0','T']\n",
    "\n",
    "dv_apply_time = [[0],t_control]\n",
    "\n",
    "# Define experiments\n",
    "if (model_opt=='dynamic-DAE'):\n",
    "    exp1 = generate_exp(t_control, 5, [570.21, 300, 300, 300, 300, 300, 300, 300, 300])\n",
    "else: \n",
    "    exp1 = generate_exp(t_control, 5, [500])"
   ]
  },
  {
   "cell_type": "code",
   "execution_count": 8,
   "id": "dcfae212",
   "metadata": {
    "scrolled": true
   },
   "outputs": [
    {
     "name": "stdout",
     "output_type": "stream",
     "text": [
      "9  design vectors will be searched.\n",
      "=======This is the  1 th iteration=======\n",
      "Design variable values of this iteration: {'CA0': {0: 1.0}, 'T': {0: 300.0, 0.125: 300.0, 0.25: 300.0, 0.375: 300.0, 0.5: 300.0, 0.625: 300.0, 0.75: 300.0, 0.875: 300.0, 1: 300.0}}\n",
      "Sensitivity information is scaled by its corresponding parameter nominal value.\n",
      "Build time with simultaneous_finite mode [s]: 0.3319430351257324\n",
      "Solve time with simultaneous_finite mode [s]: 0.5407359600067139\n",
      "FIM: [[ 0.90110466  0.07362418 -2.80952561 -0.44413588]\n",
      " [ 0.07362418  0.72393115 -0.22954992 -4.36711698]\n",
      " [-2.80952561 -0.22954992  8.75973063  1.3847538 ]\n",
      " [-0.44413588 -4.36711698  1.3847538  26.34464701]]\n",
      "Trace: 36.72941344970436\n",
      "Determinant: 4.848420237841799e-22\n",
      "Condition number: 32000861658218.707\n",
      "Minimal eigen value: 8.497433764694806e-13\n",
      "Eigen values: [9.53689321e+00 2.71925202e+01 8.49743376e-13 2.19946844e-12]\n",
      "Eigen vectors: [[ 0.30433403 -0.02558873 -0.87126293 -0.38399438]\n",
      " [-0.01370187 -0.16296194  0.39806891 -0.90276514]\n",
      " [-0.94887345  0.07978216 -0.27944181 -0.12315939]\n",
      " [ 0.08265733  0.98306838  0.06598731 -0.14965018]]\n",
      "Model objective: 0.0\n",
      "Solution of  CA0  : [1.0]\n",
      "Solution of  T  : [300.0, 300.0, 300.0, 300.0, 300.0, 300.0, 300.0, 300.0, 300.0]\n",
      "======problem solver output======\n",
      "converged\n",
      "This is the  1  run out of  9 run.\n",
      "The code has run 0.8766 seconds.\n",
      "Estimated remaining time: 7.0129 seconds\n",
      "=======This is the  2 th iteration=======\n",
      "Design variable values of this iteration: {'CA0': {0: 1.0}, 'T': {0: 500.0, 0.125: 500.0, 0.25: 500.0, 0.375: 500.0, 0.5: 500.0, 0.625: 500.0, 0.75: 500.0, 0.875: 500.0, 1: 500.0}}\n",
      "Sensitivity information is scaled by its corresponding parameter nominal value.\n",
      "Build time with simultaneous_finite mode [s]: 0.3724820613861084\n",
      "Solve time with simultaneous_finite mode [s]: 1.7483110427856445\n",
      "FIM: [[ 0.24598019  0.14288621 -0.46016056 -0.51717718]\n",
      " [ 0.14288621  0.33243486 -0.26730045 -1.20324919]\n",
      " [-0.46016056 -0.26730045  0.86083247  0.96749498]\n",
      " [-0.51717718 -1.20324919  0.96749498  4.35516487]]\n",
      "Trace: 5.79441239703121\n",
      "Determinant: -1.815591332947058e-25\n",
      "Condition number: -143299310696519.22\n",
      "Minimal eigen value: -3.502275879610854e-14\n",
      "Eigen values: [ 5.01873719e+00  7.75675203e-01 -3.50227588e-14  1.31959417e-12]\n",
      "Eigen vectors: [[ 0.13169746  0.45265633  0.86838132 -0.15402943]\n",
      " [ 0.25570167 -0.07439479 -0.16815949 -0.94907374]\n",
      " [-0.24636939 -0.84679404  0.46419586 -0.0823369 ]\n",
      " [-0.92551313  0.26927219 -0.0464593  -0.26221101]]\n",
      "Model objective: 0.0\n",
      "Solution of  CA0  : [1.0]\n",
      "Solution of  T  : [500.0, 500.0, 500.0, 500.0, 500.0, 500.0, 500.0, 500.0, 500.0]\n",
      "======problem solver output======\n",
      "converged\n",
      "This is the  2  run out of  9 run.\n",
      "The code has run 3.0008 seconds.\n",
      "Estimated remaining time: 10.5027 seconds\n",
      "=======This is the  3 th iteration=======\n",
      "Design variable values of this iteration: {'CA0': {0: 1.0}, 'T': {0: 700.0, 0.125: 700.0, 0.25: 700.0, 0.375: 700.0, 0.5: 700.0, 0.625: 700.0, 0.75: 700.0, 0.875: 700.0, 1: 700.0}}\n",
      "Sensitivity information is scaled by its corresponding parameter nominal value.\n",
      "Build time with simultaneous_finite mode [s]: 0.5022358894348145\n",
      "Solve time with simultaneous_finite mode [s]: 1.095961093902588\n",
      "FIM: [[ 0.0955446   0.06080451 -0.12766957 -0.15720165]\n",
      " [ 0.06080451  0.07360905 -0.08124883 -0.19030599]\n",
      " [-0.12766957 -0.08124883  0.17059592  0.21005761]\n",
      " [-0.15720165 -0.19030599  0.21005761  0.49200974]]\n",
      "Trace: 0.8317593142962652\n",
      "Determinant: -8.691222222811781e-29\n",
      "Condition number: -26139710189148.05\n",
      "Minimal eigen value: -2.810129210688892e-14\n",
      "Eigen values: [ 7.34559632e-01  9.71996827e-02 -2.81012921e-14  4.32504556e-14]\n",
      "Eigen vectors: [[-0.30847678  0.51365626  0.74429827 -0.29485143]\n",
      " [-0.30926345 -0.18572861 -0.34364034 -0.86711226]\n",
      " [ 0.41219601 -0.68636272  0.5570137  -0.22065914]\n",
      " [ 0.79955778  0.48017534 -0.13291783 -0.33539306]]\n",
      "Model objective: 0.0\n",
      "Solution of  CA0  : [1.0]\n",
      "Solution of  T  : [700.0, 700.0, 700.0, 700.0, 700.0, 700.0, 700.0, 700.0, 700.0]\n",
      "======problem solver output======\n",
      "converged\n",
      "This is the  3  run out of  9 run.\n",
      "The code has run 4.6021 seconds.\n",
      "Estimated remaining time: 9.2042 seconds\n",
      "=======This is the  4 th iteration=======\n",
      "Design variable values of this iteration: {'CA0': {0: 3.0}, 'T': {0: 300.0, 0.125: 300.0, 0.25: 300.0, 0.375: 300.0, 0.5: 300.0, 0.625: 300.0, 0.75: 300.0, 0.875: 300.0, 1: 300.0}}\n",
      "Sensitivity information is scaled by its corresponding parameter nominal value.\n",
      "Build time with simultaneous_finite mode [s]: 0.41927289962768555\n",
      "Solve time with simultaneous_finite mode [s]: 0.5688638687133789\n",
      "FIM: [[  8.10994198   0.66261758 -25.28573045  -3.99722296]\n",
      " [  0.66261758   6.51538037  -2.06594927 -39.30405278]\n",
      " [-25.28573045  -2.06594927  78.83757565  12.4627842 ]\n",
      " [ -3.99722296 -39.30405278  12.4627842  237.10182305]]\n",
      "Trace: 330.5647210472488\n",
      "Determinant: 3.182166140053707e-18\n",
      "Condition number: 31971143902888.63\n",
      "Minimal eigen value: 7.654799054477695e-12\n",
      "Eigen values: [8.58320389e+01 2.44732682e+02 7.65479905e-12 1.97950855e-11]\n",
      "Eigen vectors: [[ 0.30433403  0.02558873  0.87157028 -0.38399578]\n",
      " [-0.01370187  0.16296194 -0.39734607 -0.90276451]\n",
      " [-0.94887345 -0.07978216  0.27954039 -0.12315983]\n",
      " [ 0.08265733 -0.98306838 -0.06586749 -0.14965008]]\n",
      "Model objective: 0.0\n",
      "Solution of  CA0  : [3.0]\n",
      "Solution of  T  : [300.0, 300.0, 300.0, 300.0, 300.0, 300.0, 300.0, 300.0, 300.0]\n",
      "======problem solver output======\n",
      "converged\n",
      "This is the  4  run out of  9 run.\n",
      "The code has run 5.5931 seconds.\n",
      "Estimated remaining time: 6.9914 seconds\n",
      "=======This is the  5 th iteration=======\n",
      "Design variable values of this iteration: {'CA0': {0: 3.0}, 'T': {0: 500.0, 0.125: 500.0, 0.25: 500.0, 0.375: 500.0, 0.5: 500.0, 0.625: 500.0, 0.75: 500.0, 0.875: 500.0, 1: 500.0}}\n",
      "Sensitivity information is scaled by its corresponding parameter nominal value.\n",
      "Build time with simultaneous_finite mode [s]: 0.434459924697876\n",
      "Solve time with simultaneous_finite mode [s]: 1.3273720741271973\n",
      "FIM: [[  2.21382202   1.285977    -4.14144573  -4.65459942]\n",
      " [  1.285977     2.99191641  -2.40570637 -10.82925338]\n",
      " [ -4.14144573  -2.40570637   7.74749395   8.70746482]\n",
      " [ -4.65459942 -10.82925338   8.70746482  39.19652586]]\n",
      "Trace: 52.14975824125779\n",
      "Determinant: -7.385416287631517e-20\n",
      "Condition number: -2489296357382.7974\n",
      "Minimal eigen value: -1.8145160610161754e-11\n",
      "Eigen values: [ 4.51686822e+01  6.98107603e+00 -1.81451606e-11  1.29089123e-11]\n",
      "Eigen vectors: [[-0.13169743  0.45265633  0.81114771  0.3461436 ]\n",
      " [-0.25570165 -0.07439481  0.37829325 -0.88654095]\n",
      " [ 0.24636936 -0.84679406  0.43360143  0.18503214]\n",
      " [ 0.92551315  0.26927214  0.10451518 -0.2449344 ]]\n",
      "Model objective: 0.0\n",
      "Solution of  CA0  : [3.0]\n",
      "Solution of  T  : [500.0, 500.0, 500.0, 500.0, 500.0, 500.0, 500.0, 500.0, 500.0]\n",
      "======problem solver output======\n",
      "converged\n",
      "This is the  5  run out of  9 run.\n",
      "The code has run 7.3575 seconds.\n",
      "Estimated remaining time: 5.8860 seconds\n",
      "=======This is the  6 th iteration=======\n",
      "Design variable values of this iteration: {'CA0': {0: 3.0}, 'T': {0: 700.0, 0.125: 700.0, 0.25: 700.0, 0.375: 700.0, 0.5: 700.0, 0.625: 700.0, 0.75: 700.0, 0.875: 700.0, 1: 700.0}}\n",
      "Sensitivity information is scaled by its corresponding parameter nominal value.\n",
      "Build time with simultaneous_finite mode [s]: 0.43378305435180664\n",
      "Solve time with simultaneous_finite mode [s]: 1.6689980030059814\n",
      "FIM: [[ 0.85990146  0.54724064 -1.14902622 -1.41481492]\n",
      " [ 0.54724064  0.66248148 -0.73123956 -1.71275398]\n",
      " [-1.14902622 -0.73123956  1.53536341  1.89051864]\n",
      " [-1.41481492 -1.71275398  1.89051864  4.42808789]]\n",
      "Trace: 7.485834244651739\n",
      "Determinant: 8.957377282555919e-24\n",
      "Condition number: -147552189942.59723\n",
      "Minimal eigen value: -4.4804737205676124e-11\n",
      "Eigen values: [ 6.61103709e+00  8.74797150e-01 -3.45534400e-14 -4.48047372e-11]\n",
      "Eigen vectors: [[-0.30847678  0.51365625 -0.79812061 -0.06326647]\n",
      " [-0.30926345 -0.18572861 -0.07370199  0.92974687]\n",
      " [ 0.41219601 -0.68636271 -0.59729292 -0.04734708]\n",
      " [ 0.79955778  0.48017535 -0.02850732  0.35961975]]\n",
      "Model objective: 0.0\n",
      "Solution of  CA0  : [3.0]\n",
      "Solution of  T  : [700.0, 700.0, 700.0, 700.0, 700.0, 700.0, 700.0, 700.0, 700.0]\n",
      "======problem solver output======\n",
      "converged\n",
      "This is the  6  run out of  9 run.\n",
      "The code has run 9.4631 seconds.\n",
      "Estimated remaining time: 4.7315 seconds\n",
      "=======This is the  7 th iteration=======\n",
      "Design variable values of this iteration: {'CA0': {0: 5.0}, 'T': {0: 300.0, 0.125: 300.0, 0.25: 300.0, 0.375: 300.0, 0.5: 300.0, 0.625: 300.0, 0.75: 300.0, 0.875: 300.0, 1: 300.0}}\n",
      "Sensitivity information is scaled by its corresponding parameter nominal value.\n"
     ]
    },
    {
     "name": "stdout",
     "output_type": "stream",
     "text": [
      "Build time with simultaneous_finite mode [s]: 0.45238804817199707\n",
      "Solve time with simultaneous_finite mode [s]: 0.5244119167327881\n",
      "FIM: [[  22.52761661    1.84060438  -70.23814013  -11.10339711]\n",
      " [   1.84060438   18.09827882   -5.73874798 -109.17792438]\n",
      " [ -70.23814013   -5.73874798  218.99326569   34.61884501]\n",
      " [ -11.10339711 -109.17792438   34.61884501  658.61617513]]\n",
      "Trace: 918.2353362424958\n",
      "Determinant: 1.8955498930354072e-16\n",
      "Condition number: 31991358012551.746\n",
      "Minimal eigen value: 2.124989522538602e-11\n",
      "Eigen values: [2.38422330e+02 6.79813006e+02 2.12498952e-11 5.49790755e-11]\n",
      "Eigen vectors: [[ 0.30433403 -0.02558873 -0.8713534  -0.38383774]\n",
      " [-0.01370187 -0.16296194  0.3978563  -0.90283664]\n",
      " [-0.94887345  0.07978216 -0.27947083 -0.12310915]\n",
      " [ 0.08265733  0.98306838  0.06595207 -0.14966203]]\n",
      "Model objective: 0.0\n",
      "Solution of  CA0  : [5.0]\n",
      "Solution of  T  : [300.0, 300.0, 300.0, 300.0, 300.0, 300.0, 300.0, 300.0, 300.0]\n",
      "======problem solver output======\n",
      "converged\n",
      "This is the  7  run out of  9 run.\n",
      "The code has run 10.4430 seconds.\n",
      "Estimated remaining time: 2.9837 seconds\n",
      "=======This is the  8 th iteration=======\n",
      "Design variable values of this iteration: {'CA0': {0: 5.0}, 'T': {0: 500.0, 0.125: 500.0, 0.25: 500.0, 0.375: 500.0, 0.5: 500.0, 0.625: 500.0, 0.75: 500.0, 0.875: 500.0, 1: 500.0}}\n",
      "Sensitivity information is scaled by its corresponding parameter nominal value.\n",
      "Build time with simultaneous_finite mode [s]: 0.4410738945007324\n",
      "Solve time with simultaneous_finite mode [s]: 1.3259389400482178\n",
      "FIM: [[  6.14950553   3.57215823 -11.50401577 -12.92944257]\n",
      " [  3.57215823   8.3108788   -6.68251754 -30.08125916]\n",
      " [-11.50401577  -6.68251754  21.52081631  24.1874019 ]\n",
      " [-12.92944257 -30.08125916  24.1874019  108.87923816]]\n",
      "Trace: 144.86043880001145\n",
      "Determinant: 1.1470088080016433e-19\n",
      "Condition number: 147491213778546.7\n",
      "Minimal eigen value: 8.506849851873313e-13\n",
      "Eigen values: [1.25468561e+02 1.93918778e+01 8.50684985e-13 5.55629387e-11]\n",
      "Eigen vectors: [[-0.13169743  0.45265633  0.88063857 -0.04731781]\n",
      " [-0.25570165 -0.07439481 -0.051656   -0.96250064]\n",
      " [ 0.24636935 -0.84679406  0.470748   -0.02529383]\n",
      " [ 0.92551315  0.26927214 -0.01427162 -0.2659206 ]]\n",
      "Model objective: 0.0\n",
      "Solution of  CA0  : [5.0]\n",
      "Solution of  T  : [500.0, 500.0, 500.0, 500.0, 500.0, 500.0, 500.0, 500.0, 500.0]\n",
      "======problem solver output======\n",
      "converged\n",
      "This is the  8  run out of  9 run.\n",
      "The code has run 12.2128 seconds.\n",
      "Estimated remaining time: 1.5266 seconds\n",
      "=======This is the  9 th iteration=======\n",
      "Design variable values of this iteration: {'CA0': {0: 5.0}, 'T': {0: 700.0, 0.125: 700.0, 0.25: 700.0, 0.375: 700.0, 0.5: 700.0, 0.625: 700.0, 0.75: 700.0, 0.875: 700.0, 1: 700.0}}\n",
      "Sensitivity information is scaled by its corresponding parameter nominal value.\n",
      "Build time with simultaneous_finite mode [s]: 0.5352678298950195\n",
      "Solve time with simultaneous_finite mode [s]: 1.1077849864959717\n",
      "FIM: [[ 2.388615    1.5201127  -3.19173924 -3.93004095]\n",
      " [ 1.5201127   1.84022611 -2.03122073 -4.75764943]\n",
      " [-3.19173924 -2.03122073  4.26489803  5.25144001]\n",
      " [-3.93004095 -4.75764943  5.25144001 12.30024292]]\n",
      "Trace: 20.793982052867545\n",
      "Determinant: -1.337386503483691e-23\n",
      "Condition number: -493772228438.5899\n",
      "Minimal eigen value: -3.719121670475106e-11\n",
      "Eigen values: [ 1.83639900e+01  2.42999210e+00  8.66821281e-15 -3.71912167e-11]\n",
      "Eigen vectors: [[-0.30847678  0.51365625 -0.80057845  0.00853767]\n",
      " [-0.30926345 -0.1857286   0.00998474  0.93261036]\n",
      " [ 0.41219601 -0.68636271 -0.59913231  0.00638929]\n",
      " [ 0.79955778  0.48017535  0.00386213  0.36072731]]\n",
      "Model objective: 0.0\n",
      "Solution of  CA0  : [5.0]\n",
      "Solution of  T  : [700.0, 700.0, 700.0, 700.0, 700.0, 700.0, 700.0, 700.0, 700.0]\n",
      "======problem solver output======\n",
      "converged\n",
      "This is the  9  run out of  9 run.\n",
      "The code has run 13.8587 seconds.\n",
      "Estimated remaining time: 0.0000 seconds\n",
      "Overall model building time [s]: 3.9229066371917725\n",
      "Overall model solve time [s]: 9.908377885818481\n",
      "Overall wall clock time [s]: 13.858909845352173\n"
     ]
    }
   ],
   "source": [
    "doe_object = DesignOfExperiments(parameter_dict, dv_pass, \n",
    "                                 ['CA','CB','CC'], t_measure, createmod,\n",
    "                                 prior_FIM=prior_pass, discretize_model=disc)\n",
    "\n",
    "all_fim = doe_object.run_grid_search(exp1, design_ranges,dv_apply_name, dv_apply_time, \n",
    "                                     mode='simultaneous_finite', \n",
    "                                    scale_nominal_param_value=True\n",
    "                                    )"
   ]
  },
  {
   "cell_type": "markdown",
   "id": "7ac0e0ed",
   "metadata": {},
   "source": [
    "### 1D sensitivity curve"
   ]
  },
  {
   "cell_type": "code",
   "execution_count": null,
   "id": "991969ba",
   "metadata": {},
   "outputs": [],
   "source": [
    "test = all_fim.extract_criteria()\n",
    "\n",
    "## draw 1D sensitivity curve \n",
    "\n",
    "fixed = {\"'CA0'\": 5.0}\n",
    "\n",
    "all_fim.figure_drawing(fixed, ['T'], 'Reactor case','T [K]','$C_{A0}$ [M]' )\n",
    "\n"
   ]
  },
  {
   "cell_type": "markdown",
   "id": "b1b57f39",
   "metadata": {},
   "source": [
    "## Heatmap"
   ]
  },
  {
   "cell_type": "code",
   "execution_count": null,
   "id": "c9fe2868",
   "metadata": {},
   "outputs": [],
   "source": [
    "fixed = {}\n",
    "all_fim.figure_drawing(fixed, ['CA0','T'], 'Reactor case','$C_{A0}$ [M]', 'T [K]' )"
   ]
  },
  {
   "cell_type": "markdown",
   "id": "c583f3c1",
   "metadata": {},
   "source": [
    "## Grid search for 3 design variables"
   ]
  },
  {
   "cell_type": "code",
   "execution_count": null,
   "id": "flush-diameter",
   "metadata": {},
   "outputs": [],
   "source": [
    "\n",
    "#design_ranges = [list(np.linspace(1,5,2)),  list(np.linspace(300,700,2)), [300,500]]\n",
    "design_ranges = [list(np.linspace(1,5,2)),  list(np.linspace(300,700,2)), [300,500]]\n",
    "\n",
    "dv_apply_name = ['CA0', 'T', 'T']\n",
    "dv_apply_time = [[0], [0], [0.125, 0.25, 0.375, 0.5, 0.625, 0.75, 0.875,1]]\n",
    "\n",
    "# Define experiments\n",
    "if (model_opt=='dynamic-DAE'):\n",
    "    exp1 = generate_exp(t_control, 5, [570.21, 300, 300, 300, 300, 300, 300, 300, 300])\n",
    "else: \n",
    "    exp1 = generate_exp(t_control, 5, [500])"
   ]
  },
  {
   "cell_type": "code",
   "execution_count": null,
   "id": "separate-leone",
   "metadata": {
    "scrolled": true
   },
   "outputs": [],
   "source": [
    "doe_object = DesignOfExperiments(parameter_dict, dv_pass, \n",
    "                                 ['CA','CB','CC'], t_measure, createmod,\n",
    "                                 prior_FIM=prior_pass, discretize_model=disc)\n",
    "\n",
    "all_fim = doe_object.run_grid_search(exp1, design_ranges,dv_apply_name, dv_apply_time, \n",
    "                                     mode='sequential_finite', \n",
    "                                    scale_nominal_param_value=True\n",
    "                                    )"
   ]
  },
  {
   "cell_type": "markdown",
   "id": "d533298f",
   "metadata": {},
   "source": [
    "### Draw 1D sensitivity curve"
   ]
  },
  {
   "cell_type": "code",
   "execution_count": null,
   "id": "75da1683",
   "metadata": {},
   "outputs": [],
   "source": [
    "test = all_fim.extract_criteria()"
   ]
  },
  {
   "cell_type": "code",
   "execution_count": null,
   "id": "c20e6579",
   "metadata": {
    "scrolled": true
   },
   "outputs": [],
   "source": [
    "## draw 1D sensitivity curve \n",
    "\n",
    "fixed = {\"'CA0'\": 1.0, \"'T2'\": 300}\n",
    "\n",
    "all_fim.figure_drawing(fixed, ['T'], 'Reactor case','T [K]','$C_{A0}$ [M]' )"
   ]
  },
  {
   "cell_type": "markdown",
   "id": "affd1491",
   "metadata": {},
   "source": [
    "### Draw 2D sensitivity curve"
   ]
  },
  {
   "cell_type": "code",
   "execution_count": null,
   "id": "16be2b47",
   "metadata": {
    "scrolled": true
   },
   "outputs": [],
   "source": [
    "fixed = {\"'T2'\": 300}\n",
    "\n",
    "all_fim.figure_drawing(fixed, ['CA0','T'], 'Reactor case','$C_{A0}$ [M]', 'T [K]' )"
   ]
  },
  {
   "cell_type": "markdown",
   "id": "b116410d",
   "metadata": {},
   "source": [
    "## Dynamic heatmap"
   ]
  },
  {
   "cell_type": "code",
   "execution_count": null,
   "id": "87997eb7",
   "metadata": {},
   "outputs": [],
   "source": [
    "design_ranges = [list(np.linspace(300,700,18))]\n",
    "\n",
    "dv_apply_name = ['T']\n",
    "\n",
    "count = 0\n",
    "for ct in t_control:\n",
    "    print('Time controlled:', ct)\n",
    "    dv_apply_time = [[ct]]\n",
    "\n",
    "    # Define experiments\n",
    "    exp1 = generate_exp(t_control, 5, [300, 300, 300, 300, 300, 300, 300, 300, 300])\n",
    "    \n",
    "    doe_object = DesignOfExperiments(parameter_dict, dv_pass, \n",
    "                                 ['CA','CB','CC'], t_measure, createmod,\n",
    "                                 prior_FIM=prior_pass, discretize_model=disc)\n",
    "\n",
    "    all_fim = doe_object.run_grid_search(exp1, design_ranges,dv_apply_name, dv_apply_time, \n",
    "                                     mode='sequential_finite', \n",
    "                                    scale_nominal_param_value=True,\n",
    "                                     filename = '300base_'+str(count)+'.csv'\n",
    "                                    )\n",
    "    \n",
    "    test = all_fim.extract_criteria()\n",
    "\n",
    "    ## draw 1D sensitivity curve \n",
    "\n",
    "    fixed = {}\n",
    "\n",
    "    all_fim.figure_drawing(fixed, ['T'], 'Reactor case','T [K]','$C_{A0}$ [M]' )\n",
    "    count += 1 "
   ]
  },
  {
   "cell_type": "code",
   "execution_count": null,
   "id": "9c06237a",
   "metadata": {},
   "outputs": [],
   "source": [
    "filename_list = []\n",
    "count = 0\n",
    "for ct in t_control:\n",
    "    print('Time controlled:', ct)\n",
    "    filename_list.append('300base_'+str(count)+'.csv')\n",
    "    count += 1\n",
    "    \n",
    "print(filename_list)\n",
    "\n",
    "data_list = []\n",
    "for i in filename_list:\n",
    "    data_list.append(pd.read_csv(i))\n",
    "print(np.shape(data_list))"
   ]
  },
  {
   "cell_type": "code",
   "execution_count": null,
   "id": "69cedae2",
   "metadata": {},
   "outputs": [],
   "source": [
    "print(data_list[3]['D'].iloc[4])"
   ]
  },
  {
   "cell_type": "code",
   "execution_count": null,
   "id": "a0c522a7",
   "metadata": {},
   "outputs": [],
   "source": [
    "d_result = np.zeros((18,8))\n",
    "\n",
    "for i in range(8):\n",
    "    for j in range(18):\n",
    "        d_result[j,i] = np.log10(data_list[i]['A'].iloc[j])\n",
    "        \n",
    "print(d_result)"
   ]
  },
  {
   "cell_type": "code",
   "execution_count": null,
   "id": "76b252c0",
   "metadata": {
    "scrolled": true
   },
   "outputs": [],
   "source": [
    "x_range1 = [0.125,0.25,0.375,0.5,0.625,0.75,0.875,1]\n",
    "#x_range1 = [0.13, 0.25,0.38,0.5,0.63,0.75,0.88,1]\n",
    "#x_range1 = [7.5, 15, 22.5, 30, 37.5, 45, 52.5, 60]\n",
    "y_range1 = yLabel = [300, 321, 342, 363, 384, 405, 426, 447, 468, 489, 511, 532, 553, 574, 595, 616, 637, 658, 679, 700.0]\n",
    "\n",
    "heatmap(x_range1, y_range1, 'Time [$min$]', 'Temperature [$K$]')"
   ]
  },
  {
   "cell_type": "code",
   "execution_count": null,
   "id": "2cb4b083",
   "metadata": {},
   "outputs": [],
   "source": [
    "import matplotlib.ticker as ticker\n",
    "def heatmap(x_range, y_range, xlabel_text, ylabel_text, font_axes=16, font_tick=12, log_scale=True):\n",
    "    '''\n",
    "    Draw 2D heatmaps for all design criteria\n",
    "\n",
    "    Parameters:\n",
    "    ----------\n",
    "    title_text: name of the figure, a string\n",
    "    xlabel_text: x label title, a string.\n",
    "        In a 2D heatmap, it should be the second design varialbe in the design_ranges\n",
    "    ylabel_text: y label title, a string.\n",
    "        In a 2D heatmap, it should be the first design variable in the dv_ranges\n",
    "    font_axes: axes label font size\n",
    "    font_tick: tick label font size\n",
    "    log_scale: if True, the result matrix will be scaled by log10\n",
    "\n",
    "    Returns:\n",
    "    --------\n",
    "    4 Figures of 2D heatmap for each criteria\n",
    "    '''\n",
    "    # set heatmap x,y ranges\n",
    "    xLabel = x_range\n",
    "    yLabel = y_range\n",
    "\n",
    "    # D-optimality\n",
    "    fig = plt.figure()\n",
    "    plt.rc('axes', titlesize=font_axes)\n",
    "    plt.rc('axes', labelsize=font_axes)\n",
    "    plt.rc('xtick', labelsize=font_tick)\n",
    "    plt.rc('ytick', labelsize=font_tick)\n",
    "    ax = fig.add_subplot(111)\n",
    "    params = {'mathtext.default': 'regular'}\n",
    "    plt.rcParams.update(params)\n",
    "    ax.set_yticks(range(len(yLabel)))\n",
    "    ax.set_yticklabels(yLabel)\n",
    "    ax.set_ylabel(ylabel_text)\n",
    "    \n",
    "    \n",
    "    ax.set_xticks(range(len(xLabel)))\n",
    "    ax.set_xticklabels(xLabel)\n",
    "    loc = ticker.MultipleLocator(base=3)\n",
    "    ax.xaxis.set_major_locator(loc)\n",
    "    ax.set_xlabel(xlabel_text)\n",
    "\n",
    "    im = ax.imshow(d_result, cmap=plt.cm.hot_r)\n",
    "    ba = plt.colorbar(im)\n",
    "    ba.set_label('$log_{10}$(A-optimality)',labelpad=-40, y=1.1, rotation=0)\n",
    "    plt.show()\n"
   ]
  },
  {
   "cell_type": "code",
   "execution_count": null,
   "id": "14d1e7e8",
   "metadata": {},
   "outputs": [],
   "source": []
  }
 ],
 "metadata": {
  "kernelspec": {
   "display_name": "Python 3 (ipykernel)",
   "language": "python",
   "name": "python3"
  },
  "language_info": {
   "codemirror_mode": {
    "name": "ipython",
    "version": 3
   },
   "file_extension": ".py",
   "mimetype": "text/x-python",
   "name": "python",
   "nbconvert_exporter": "python",
   "pygments_lexer": "ipython3",
   "version": "3.9.6"
  }
 },
 "nbformat": 4,
 "nbformat_minor": 5
}
