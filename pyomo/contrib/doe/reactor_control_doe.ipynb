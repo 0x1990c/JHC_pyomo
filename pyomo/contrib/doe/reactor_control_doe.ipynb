{
 "cells": [
  {
   "cell_type": "markdown",
   "id": "opposite-garage",
   "metadata": {},
   "source": [
    "# Reactor Kinetics Example \n",
    "\n",
    "Jialu Wang (jwang44@nd.edu) and Alex Dowling (adowling@nd.edu)\n",
    "\n",
    "University of Notre Dame\n",
    "\n",
    "This notebook conducts design of experiments for a reactor kinetics experiment with the Pyomo.DOE.\n",
    "    "
   ]
  },
  {
   "cell_type": "code",
   "execution_count": 1,
   "id": "worth-origin",
   "metadata": {},
   "outputs": [],
   "source": [
    "import matplotlib.pyplot as plt\n",
    "from pyomo.environ import *\n",
    "from pyomo.dae import *\n",
    "\n",
    "import numpy as np\n",
    "#from scipy.interpolate import interp2d\n",
    "import pandas as pd \n",
    "from itertools import permutations, product, combinations\n",
    "import idaes\n",
    "\n",
    "from fim_doe import *\n",
    "from pyomo.contrib.sensitivity_toolbox.sens import sipopt\n",
    "#from idaes.apps.uncertainty_propagation.sens import get_dsdp\n",
    "from pyomo.contrib.sensitivity_toolbox.sens import get_dsdp"
   ]
  },
  {
   "cell_type": "markdown",
   "id": "graphic-controversy",
   "metadata": {},
   "source": [
    "## Define Reaction Example Mathematical Model"
   ]
  },
  {
   "cell_type": "markdown",
   "id": "disturbed-prediction",
   "metadata": {},
   "source": [
    "Consider two chemical reactions that converts molecule $A$ to desired product $B$ and a less valuable side-product $C$.\n",
    "\n",
    "$A \\overset{k_1}{\\rightarrow} B \\overset{k_2}{\\rightarrow} C$\n",
    "\n",
    "Our ultimate goals is to design a large-scale continous reactor that maximizes the production of $B$. This general sequential reactions problem is widely applicable to CO$_2$ capture and industry more broadly (petrochemicals, pharmasuticals, etc.).\n",
    "\n",
    "The rate laws for these two chemical reactions are:\n",
    "\n",
    "$r_A = -k_1 C_A$\n",
    "\n",
    "$r_B = k_1 C_A - k_2 C_B$\n",
    "\n",
    "$r_C = k_2 C_B$\n",
    "\n",
    "Here, $C_A$, $C_B$, and $C_C$ are the concentrations of each species. The rate constants $k_1$ and $k_2$ depend on temperature as follows:\n",
    "\n",
    "$k_1 = A_1 \\exp{\\frac{-E_1}{R T}}$\n",
    "\n",
    "$k_2 = A_2 \\exp{\\frac{-E_2}{R T}}$\n",
    "\n",
    "$A_1, A_2, E_1$, and $E_2$ are fitted model parameters. $R$ is the ideal-gas constant and $T$ is absolute temperature.\n",
    "\n",
    "Using the **CCSI$^2$ toolset**, we would like do the following perform:\n",
    "\n",
    "Perform **uncertainty quantification** and **design of experiments** on a small-scale **batch reactor** to infer parameters $A_1$, $A_2$, $E_1$, and $E_2$."
   ]
  },
  {
   "cell_type": "markdown",
   "id": "sweet-niger",
   "metadata": {},
   "source": [
    "### Batch reactor\n",
    "\n",
    "The concenrations in a batch reactor evolve with time per the following differential equations:\n",
    "\n",
    "$$ \\frac{d C_A}{dt} = r_A = -k_1 C_A $$\n",
    "\n",
    "$$ \\frac{d C_B}{dt} = r_B = k_1 C_A - k_2 C_B $$\n",
    "\n",
    "$$ \\frac{d C_C}{dt} = r_C = k_2 C_B $$\n",
    "\n",
    "This is a linear system of differential equations. Assuming the feed is only species $A$, i.e., \n",
    "\n",
    "$$C_A(t=0) = C_{A0} \\quad C_B(t=0) = 0 \\quad C_C(t=0) = 0$$\n",
    "\n",
    "When the temperature is constant, it leads to the following analytic solution:\n",
    "\n",
    "$$C_A(t) = C_{A,0} \\exp(-k_1 t)$$\n",
    "\n",
    "$$C_B(t) = \\frac{k_1}{k_2 - k_1} C_{A,0} \\left[\\exp(-k_1 t) - \\exp(-k_2 t) \\right]$$\n",
    "\n",
    "$$C_C(t) = C_{A,0} - \\frac{k_2}{k_2 - k_1} C_{A,0} \\exp(-k_1 t) + \\frac{k_1}{k_2 - k_1} \\exp(-k_2 t) C_{A,0} = C_{A,0} - C_{A}(t) - C_{B}(t)$$"
   ]
  },
  {
   "cell_type": "code",
   "execution_count": 2,
   "id": "eligible-robert",
   "metadata": {},
   "outputs": [],
   "source": [
    "#from reactor_models import *\n",
    "from reactor_model_multipleversions import *"
   ]
  },
  {
   "cell_type": "markdown",
   "id": "6f7434dc",
   "metadata": {},
   "source": [
    "Three versions of this model is accomplished: \n",
    "\n",
    "Dynamic-DAE model: Temperature varying model discretized and integrated by Pyomo.DAE\n",
    "\n",
    "Constant-DAE model: Temperature constant model discretized and integrated by Pyomo.DAE\n",
    "\n",
    "Constant-analytical model: Temperature constant model discretized manually and using the analytical expressions for state variables."
   ]
  },
  {
   "cell_type": "code",
   "execution_count": 3,
   "id": "d576e9c4",
   "metadata": {},
   "outputs": [
    {
     "name": "stdout",
     "output_type": "stream",
     "text": [
      "All measurements are flattened.\n",
      "Flatten measurement name: ['CA', 'CB', 'CC']\n",
      "Flatten measurement timeset: {'CA': [0, 0.125, 0.25, 0.375, 0.5, 0.625, 0.75, 0.875, 1], 'CB': [0, 0.125, 0.25, 0.375, 0.5, 0.625, 0.75, 0.875, 1], 'CC': [0, 0.125, 0.25, 0.375, 0.5, 0.625, 0.75, 0.875, 1]}\n",
      "All measurements are flattened.\n",
      "Flatten measurement name: ['CA', 'CB', 'CC']\n",
      "Flatten measurement timeset: {'CA': [0, 0.25, 0.5, 0.75, 1], 'CB': [0, 0.125, 0.375, 0.625, 0.875, 1], 'CC': [0, 0.125, 0.25, 0.375, 0.5, 0.625, 0.75, 0.875, 1]}\n"
     ]
    },
    {
     "data": {
      "text/plain": [
       "'\\ncomb = [t_measure, t_measure_ca, t_measure_cb]\\n#unique = list(set(t_measure_ca+t_measure_cb))\\nd = []\\nfor i in comb:\\n    d += i\\n    unique = list(set((d)))\\n\\nprint(unique)\\n'"
      ]
     },
     "execution_count": 3,
     "metadata": {},
     "output_type": "execute_result"
    }
   ],
   "source": [
    "# choose model from 'dynamic-DAE', 'constant-DAE', 'constant-analytical'\n",
    "#model_opt = 'dynamic-DAE-measure'\n",
    "model_opt = 'dynamic-DAE'\n",
    "#model_opt = 'constant-DAE'\n",
    "#model_opt = 'constant-analytical'\n",
    "\n",
    "#createmod = create_model_overall\n",
    "if (model_opt == 'dynamic-DAE-measure'):\n",
    "    createmod = create_model_dae_measure\n",
    "    args_ = [True, False, False]\n",
    "    disc = disc_for_measure\n",
    "    t_control = [0, 0.125, 0.25, 0.375, 0.5, 0.625, 0.75, 0.875, 1]\n",
    "\n",
    "elif (model_opt=='dynamic-DAE'):\n",
    "    createmod = create_model_dae\n",
    "    args_ = [True, False, False]\n",
    "    disc = discretizer\n",
    "    t_control = [0, 0.125, 0.25, 0.375, 0.5, 0.625, 0.75, 0.875, 1]\n",
    "    \n",
    "elif (model_opt=='constant-DAE'):\n",
    "    createmod = create_model_dae_const\n",
    "    args_ = [True, True, False]\n",
    "    disc = discretizer\n",
    "    t_control = [0]\n",
    "    \n",
    "elif (model_opt=='constant-analytical'):\n",
    "    createmod = create_model_alge\n",
    "    args_ = [False, True, False]\n",
    "    disc = None\n",
    "    t_control = [0]\n",
    "\n",
    "    \n",
    "# design variable and its control time set\n",
    "dv_pass = {'CA0': [0],'T': t_control}\n",
    "    \n",
    "\n",
    "# Define measurement time points\n",
    "t_measure = [0, 0.125, 0.25, 0.375, 0.5, 0.625, 0.75, 0.875, 1]\n",
    "t_measure_ca = [0, 0.25, 0.5, 0.75, 1]\n",
    "t_measure_cb = [0, 0.125, 0.375, 0.625, 0.875, 1]\n",
    "measure_pass = {'CA': t_measure, 'CB': t_measure, 'CC': t_measure}\n",
    "measure_class =  Measurements(measure_pass)\n",
    "#measure_pass = {'C':{\"'CA'\": t_measure, \"'CB'\": t_measure, \"'CC'\": t_measure}}\n",
    "#measure_pass = {'C':{'CA': t_measure, 'CB': t_measure, 'CC': t_measure}}\n",
    "#measure_pass = {'C':{'CA': t_measure_ca, 'CB': t_measure_cb, 'CC': t_measure}}\n",
    "\n",
    "measure_subset = {'CA': t_measure_ca, 'CB': t_measure_cb, 'CC': t_measure}\n",
    "measure_subclass = Measurements(measure_subset)\n",
    "'''\n",
    "comb = [t_measure, t_measure_ca, t_measure_cb]\n",
    "#unique = list(set(t_measure_ca+t_measure_cb))\n",
    "d = []\n",
    "for i in comb:\n",
    "    d += i\n",
    "    unique = list(set((d)))\n",
    "\n",
    "print(unique)\n",
    "'''"
   ]
  },
  {
   "cell_type": "code",
   "execution_count": 4,
   "id": "47137cb2",
   "metadata": {},
   "outputs": [],
   "source": [
    "# Define parameter nominal value \n",
    "parameter_dict = {'A1': 84.79085853498033, 'A2': 371.71773413976416, 'E1': 7.777032028026428, 'E2': 15.047135137500822}\n",
    "\n",
    "def generate_exp(t_set, CA0, T):  \n",
    "    '''Generate experiments. \n",
    "    t_set: time control set for T.\n",
    "    CA0: CA0 value\n",
    "    T: A list of T \n",
    "    '''\n",
    "    assert(len(t_set)==len(T)), 'T should have the same length as t_set'\n",
    "    \n",
    "    T_con_initial = {}\n",
    "    for t, tim in enumerate(t_set):\n",
    "        T_con_initial[tim] = T[t]\n",
    "        \n",
    "    dv_dict_overall = {'CA0': {0: CA0},'T': T_con_initial}\n",
    "    return dv_dict_overall"
   ]
  },
  {
   "cell_type": "code",
   "execution_count": 5,
   "id": "written-tours",
   "metadata": {},
   "outputs": [
    {
     "name": "stdout",
     "output_type": "stream",
     "text": [
      "The prior information FIM: [[0. 0. 0. 0.]\n",
      " [0. 0. 0. 0.]\n",
      " [0. 0. 0. 0.]\n",
      " [0. 0. 0. 0.]]\n",
      "Prior Det: 0.0\n",
      "Eigenvalue of the prior experiments FIM: [0. 0. 0. 0.]\n",
      "Eigenvalue of the prior experiments FIM: [[1. 0. 0. 0.]\n",
      " [0. 1. 0. 0.]\n",
      " [0. 0. 1. 0.]\n",
      " [0. 0. 0. 1.]]\n"
     ]
    }
   ],
   "source": [
    "# empty prior\n",
    "prior_all = np.zeros((4,4))\n",
    "\n",
    "\n",
    "# add prior information\n",
    "#prior_5_300 = pd.read_csv('fim_5_300_scale.csv')\n",
    "#prior_5_300_500 = pd.read_csv('fim_5_300_500_scale.csv')\n",
    "\n",
    "#prior_all = prior_5_300\n",
    "\n",
    "\n",
    "prior_pass=np.asarray(prior_all)\n",
    "\n",
    "#L_initials = np.linalg.cholesky(prior_pass)\n",
    "#print(L_initials)\n",
    "\n",
    "print('The prior information FIM:', prior_pass)\n",
    "print('Prior Det:', np.linalg.det(prior_pass))\n",
    "print('Eigenvalue of the prior experiments FIM:', np.linalg.eigvals(prior_pass))\n",
    "print('Eigenvalue of the prior experiments FIM:', np.linalg.eigh(prior_pass)[1])"
   ]
  },
  {
   "cell_type": "markdown",
   "id": "destroyed-african",
   "metadata": {},
   "source": [
    "## Compute FIM \n",
    "\n",
    "This method computes an MBDoE optimization problem with no Degree of Freedom."
   ]
  },
  {
   "cell_type": "code",
   "execution_count": 6,
   "id": "d3ee5ff9",
   "metadata": {},
   "outputs": [
    {
     "name": "stdout",
     "output_type": "stream",
     "text": [
      "Design variable: {'CA0': {0: 5}, 'T': {0: 570.21, 0.125: 300, 0.25: 300, 0.375: 300, 0.5: 300, 0.625: 300, 0.75: 300, 0.875: 300, 1: 300}}\n"
     ]
    }
   ],
   "source": [
    "# choose from 'simultaneous', 'sequential', 'sipopt'\n",
    "#sensi_opt = 'simultaneous_finite'\n",
    "#sensi_opt = 'sequential_finite'\n",
    "#sensi_opt = 'sequential_sipopt'\n",
    "#sensi_opt = 'sequential_kaug'\n",
    "sensi_opt = 'direct_kaug'\n",
    "\n",
    "if sensi_opt == 'direct_kaug':\n",
    "    args_[2] = True\n",
    "else:\n",
    "    args_[2] = False\n",
    "    \n",
    "\n",
    "# Define experiments\n",
    "if (model_opt=='dynamic-DAE') or (model_opt=='dynamic-DAE-measure'):\n",
    "    exp1 = generate_exp(t_control, 5, [570.21, 300, 300, 300, 300, 300, 300, 300, 300])\n",
    "else: \n",
    "    exp1 = generate_exp(t_control, 5, [300])\n",
    "\n",
    "print('Design variable:', exp1)"
   ]
  },
  {
   "cell_type": "code",
   "execution_count": null,
   "id": "bff6a95a",
   "metadata": {},
   "outputs": [],
   "source": [
    "scena1 = {'scena-name': [0], 'A1':84.79085853498033, 'A2':371.71773413976416,\n",
    "         'E1': 7.777032028026428, 'E2': 15.04713513750}\n",
    "\n",
    "kitty = create_model_overall(scena1, [True, True, False])\n",
    "\n",
    "discretizer(kitty)\n",
    "\n",
    "kitty.CA0.fix()\n",
    "for t in t_control:\n",
    "    kitty.T[t].fix()\n",
    "\n",
    "#kitty.pprint()\n",
    "solver = SolverFactory('ipopt')\n",
    "solver.solve(kitty, tee=True)\n",
    "\n",
    "for t in t_control:\n",
    "    try:\n",
    "        print(value(kitty.CA[0, t]))\n",
    "    except:\n",
    "        print('no')\n",
    "        \n",
    "print(value(kitty.CA[0,0.25]))"
   ]
  },
  {
   "cell_type": "code",
   "execution_count": null,
   "id": "36961e27",
   "metadata": {
    "scrolled": true
   },
   "outputs": [],
   "source": [
    "from reactor_model_multipleversions import *\n",
    "\n",
    "scena1 = {'scena-name': [0], 'A1':84.79085853498033, 'A2':371.71773413976416,\n",
    "         'E1': 7.777032028026428, 'E2': 15.04713513750}\n",
    "\n",
    "maomao = create_model_dae_measure(scena1)\n",
    "\n",
    "#discretizer(maomao)\n",
    "disc_for_measure(maomao)\n",
    "\n",
    "maomao.CA0.fix()\n",
    "for t in t_control:\n",
    "    maomao.T[t].fix()\n",
    "    \n",
    "for z in maomao.scena:\n",
    "    for t in maomao.t:\n",
    "        maomao.dCdt_rule[z,'CC',t].deactivate()\n",
    "\n",
    "    \n",
    "solver = SolverFactory('ipopt')\n",
    "solver.solve(maomao, tee=True)\n",
    "\n",
    "time_set = []\n",
    "for t in maomao.t:\n",
    "    time_set.append(t)\n",
    "\n",
    "for t in t_control:\n",
    "    try:\n",
    "        print(value(maomao.C[0,'CA', t]))\n",
    "        #print(value(maomao.CC[0,t]))\n",
    "\n",
    "    except:\n",
    "        print('no')"
   ]
  },
  {
   "cell_type": "code",
   "execution_count": 7,
   "id": "latin-medicare",
   "metadata": {
    "scrolled": true
   },
   "outputs": [
    {
     "name": "stdout",
     "output_type": "stream",
     "text": [
      "Sensitivity information is scaled by its corresponding parameter nominal value.\n",
      "After practice: {'CA': [0, 0.125, 0.25, 0.375, 0.5, 0.625, 0.75, 0.875, 1], 'CB': [0, 0.125, 0.25, 0.375, 0.5, 0.625, 0.75, 0.875, 1], 'CC': [0, 0.125, 0.25, 0.375, 0.5, 0.625, 0.75, 0.875, 1]}\n",
      "Ipopt 3.13.2: linear_solver=ma57\n",
      "halt_on_ampl_error=yes\n",
      "max_iter=3000\n",
      "\n",
      "\n",
      "******************************************************************************\n",
      "This program contains Ipopt, a library for large-scale nonlinear optimization.\n",
      " Ipopt is released as open source code under the Eclipse Public License (EPL).\n",
      "         For more information visit http://projects.coin-or.org/Ipopt\n",
      "\n",
      "This version of Ipopt was compiled from source code available at\n",
      "    https://github.com/IDAES/Ipopt as part of the Institute for the Design of\n",
      "    Advanced Energy Systems Process Systems Engineering Framework (IDAES PSE\n",
      "    Framework) Copyright (c) 2018-2019. See https://github.com/IDAES/idaes-pse.\n",
      "\n",
      "This version of Ipopt was compiled using HSL, a collection of Fortran codes\n",
      "    for large-scale scientific computation.  All technical papers, sales and\n",
      "    publicity material resulting from use of the HSL codes within IPOPT must\n",
      "    contain the following acknowledgement:\n",
      "        HSL, a collection of Fortran codes for large-scale scientific\n",
      "        computation. See http://www.hsl.rl.ac.uk.\n",
      "******************************************************************************\n",
      "\n",
      "This is Ipopt version 3.13.2, running with linear solver ma57.\n",
      "\n",
      "Number of nonzeros in equality constraint Jacobian...:     2955\n",
      "Number of nonzeros in inequality constraint Jacobian.:        0\n",
      "Number of nonzeros in Lagrangian Hessian.............:      281\n",
      "\n",
      "Total number of variables............................:      861\n",
      "                     variables with only lower bounds:      289\n",
      "                variables with lower and upper bounds:       88\n",
      "                     variables with only upper bounds:        0\n",
      "Total number of equality constraints.................:      861\n",
      "Total number of inequality constraints...............:        0\n",
      "        inequality constraints with only lower bounds:        0\n",
      "   inequality constraints with lower and upper bounds:        0\n",
      "        inequality constraints with only upper bounds:        0\n",
      "\n",
      "iter    objective    inf_pr   inf_du lg(mu)  ||d||  lg(rg) alpha_du alpha_pr  ls\n",
      "   0 -0.0000000e+00 2.67e+02 1.00e+00  -1.0 0.00e+00    -  0.00e+00 0.00e+00   0\n",
      "Reallocating memory for MA57: lfact (25018)\n",
      "   1 -0.0000000e+00 5.85e+01 8.79e+01  -1.0 2.67e+02    -  1.10e-02 9.90e-01f  1\n",
      "   2 -0.0000000e+00 1.65e+01 9.45e+01  -1.0 5.99e+01    -  1.18e-01 9.90e-01h  1\n",
      "   3 -0.0000000e+00 6.41e-02 5.96e+01  -1.0 1.03e+01    -  8.22e-01 1.00e+00h  1\n",
      "   4 -0.0000000e+00 1.60e-10 2.78e+02  -1.0 3.41e-02    -  9.92e-01 1.00e+00h  1\n",
      "\n",
      "Number of Iterations....: 4\n",
      "\n",
      "                                   (scaled)                 (unscaled)\n",
      "Objective...............:  -0.0000000000000000e+00   -0.0000000000000000e+00\n",
      "Dual infeasibility......:   0.0000000000000000e+00    0.0000000000000000e+00\n",
      "Constraint violation....:   1.5974066513990692e-10    1.5974066513990692e-10\n",
      "Complementarity.........:   0.0000000000000000e+00    0.0000000000000000e+00\n",
      "Overall NLP error.......:   1.5974066513990692e-10    1.5974066513990692e-10\n",
      "\n",
      "\n",
      "Number of objective function evaluations             = 5\n",
      "Number of objective gradient evaluations             = 5\n",
      "Number of equality constraint evaluations            = 5\n",
      "Number of inequality constraint evaluations          = 0\n",
      "Number of equality constraint Jacobian evaluations   = 5\n",
      "Number of inequality constraint Jacobian evaluations = 0\n",
      "Number of Lagrangian Hessian evaluations             = 4\n",
      "Total CPU secs in IPOPT (w/o function evaluations)   =      0.014\n",
      "Total CPU secs in NLP function evaluations           =      0.001\n",
      "\n",
      "EXIT: Optimal Solution Found.\n",
      "W[K_AUG]...\t[K_AUG_ASL]No n_rhs declared.\n",
      "W[K_AUG]...\t[K_AUG_ASL]Target log10mu:= -11.\n",
      "W[K_AUG]...\t[K_AUG_ASL]This problem has no degrees of freedom\n",
      "Pass the option square_override for the desired behaviour\n",
      "[K_AUG] 0.1.0, Part of the IDAES PSE framework\n",
      "Please visit https://idaes.org/\n",
      ": dsdp_mode=\n",
      "dsdp_mode=\n",
      "W[K_AUG_ASL]...\t[K_AUG_ASL]No ipopt_zL_in suffix declared, setting zL = 0.\n",
      "W[K_AUG_ASL]...\t[K_AUG_ASL]No ipopt_zU_in suffix declared, setting zU = 0.\n",
      "W[K_AUG]...\t[K_AUG_ASL]No f_timestamp suffix declared, Fallback to default writing mode.\n",
      "I[K_AUG]...\t[K_AUG_ASL] Filename for dot_sens dsdp_in_.in\n",
      "W[K_AUG]...\t[K_AUG_ASL]dsdp for linear C(x) + I*p = 0 override.\n",
      "E[K_AUG]...\t[SIGMA_COMPUTE]is x[88] = xlb?\n",
      "E[K_AUG]...\t[SIGMA_COMPUTE]is x[88] = xlb?\n",
      "E[K_AUG]...\t[SIGMA_COMPUTE]is x[89] = xlb?\n",
      "E[K_AUG]...\t[SIGMA_COMPUTE]is x[89] = xlb?\n",
      "E[K_AUG]...\t[SIGMA_COMPUTE]is x[90] = xlb?\n",
      "E[K_AUG]...\t[SIGMA_COMPUTE]is x[90] = xlb?\n",
      "E[K_AUG]...\t[SIGMA_COMPUTE]is x[91] = xlb?\n",
      "E[K_AUG]...\t[SIGMA_COMPUTE]is x[91] = xlb?\n",
      "E[K_AUG]...\t[SIGMA_COMPUTE]Unresolved sigma values, is the mu computation successful? or is this a square problem?\n",
      "Check the sigma_out file with the PRINT_VERBOSE (cmake) option set to 0\n",
      "W[K_AUG]...\t[MA57_DRIVER]\n",
      "\n",
      "\t\tCould not fix the accuracy of the problem.\n",
      "\t\tTry re-writing the problem or give a different point or change \"max_refinement_steps\"\n",
      "\t\tWarning: results might be incorrect.\n",
      "\t\tCurrent residual ratio 0.0424246; Max residual ratio 1e-10.\n",
      "\n",
      "I[K_AUG]...\t[K_AUG_ASL]File read successfully.\n",
      "I[K_AUG]...\t[K_AUG_ASL]Number of Right hand sides: 0\n",
      "I[K_AUG]...\t[K_AUG_ASL]Number of variables       : 865\n",
      "I[K_AUG]...\t[K_AUG_ASL]Number of constraints     : 865\n",
      "I[K_AUG]...\t[K_AUG_ASL]Number of valid n_dof     : 0\n",
      "I[K_AUG]...\t[ADJUST_MU]\tWarning strict complementarity (lb) is not within tol for var:88\n",
      "I[K_AUG]...\t[ADJUST_MU]\tWarning strict complementarity (lb) is not within tol for var:89\n",
      "I[K_AUG]...\t[ADJUST_MU]\tWarning strict complementarity (lb) is not within tol for var:90\n",
      "I[K_AUG]...\t[ADJUST_MU]\tWarning strict complementarity (lb) is not within tol for var:91\n",
      "I[K_AUG]...\t[ADJUST_MU]\tWarning no relevant info from the problem can predict logmu\n",
      "I[K_AUG]...\t[FIND_INEQUALITIES]summary: eq: 865, leq: 0, geq: 0 \n",
      "I[K_AUG]...\t[K_AUG_ASL]Nonzeroes in the sparse Jacobian 3347\n",
      "I[K_AUG]...\t[GET_HESS_ASL]Objective found\n",
      "I[K_AUG]...\t[GET_HESS_ASL]Nonzeroes in the sparse hessian 637\n",
      "I[K_AUG]...\t[GET_HESS_ASL]Maximization problem detected\n",
      "I[K_AUG]...\t[GET_HESS_ASL]Current objective 0.000000\n",
      "I[K_AUG]...\t[GET_HESS_ASL]Missing nz in the Hessian of the Lag: 775\n",
      "I[K_AUG]...\t[K_AUG_ASL]Barrier term added.\n",
      "I[K_AUG]...\t[K_AUG_ASL]MC19 scaling...\n",
      "I[K_AUG]...\t[ASSM_RHS_DCDP]According to the suffixes declared len p is 4 \n",
      "I[MA57]...\t[]***\n",
      "I[MA57]...\t[ma57bd_]ma57ad_: Status Ok.\n",
      "I[MA57]...\t[MA57_FACTOR]\n",
      "I[K_AUG]...\t[MA57_FACTOR]n_neig = 865\n",
      "I[K_AUG]...\t[INERTIA_STRATEGY]Inertia check successful.\n",
      "I[MA57]...\t[Factorize Success.]***\n",
      "I[MA57]...\t[MA57_RATIO]\n",
      "I[K_AUG]...\t[MA57_SOLVE]: Ratio of norm of scaled residuals (reported); 4.242461e-02 \n",
      "I[K_AUG]...\t[MA57_SOLVE]: The norm of residuals is larger than max ratio(computed)\n",
      "I[K_AUG]...\t[MA57_SOLVE]: Attempting to reduce residuals\n",
      "\n",
      "W[K_AUG]...\t[MA57_SOLVE]Attempting to make dc > 0. (Jacobian regularization)\n",
      "I[K_AUG]...\t[INERTIA_STRATEGY]Inertia check successful.\n",
      "I[MA57]...\t[MA57_FACTOR]\n",
      "W[MA57]...\t[MA57_FACTOR]always_pert_jacobian is on before fact\n",
      "I[K_AUG]...\t[MA57_FACTOR]n_neig = 865\n",
      "I[K_AUG]...\t[INERTIA_STRATEGY]Inertia check successful.\n",
      "I[MA57]...\t[MA57_RATIO]\n",
      "I[K_AUG]...\t[MA57_SOLVE]Accuracy improvement tries 0, Trial pivtol 1e-06, Residual ratio 0.042424608952927.\n",
      "I[K_AUG]...\t[MA57_SOLVE]Accuracy is not improving.\n",
      "\n",
      "W[K_AUG]...\t[MA57_DRIVER]Inertia check OK neig=865, (neig == m).\n",
      "I[K_AUG]...\t[K_AUG_ASL]Linear solver done. \n",
      "I[K_AUG]...\t[K_AUG_ASL]Timings..Ev&Assem 0.003847, Fact 0.011667, Overall 0.013127.\n",
      "The variable is fixed: CB[0,0]\n",
      "The variable is fixed: CC[0,0]\n",
      "dsdp extract is: [array([0., 0., 0., 0.]), array([-0.01587292,  0.        ,  0.28561256,  0.        ]), array([-1.22483524e-02, -4.32882979e-17,  2.57479269e-01,  0.00000000e+00]), array([-9.11296212e-03, -6.04611146e-17,  2.10379508e-01,  3.86951133e-15]), array([-6.60849319e-03,  1.26669789e-16,  1.62457781e-01, -5.40457767e-15]), array([-4.70199431e-03,  0.00000000e+00,  1.20931059e-01, -1.50972344e-14]), array([-3.29675670e-03, -9.81836294e-15,  8.77277443e-02,  1.04447101e-12]), array([-2.28467154e-03, -6.14349571e-15,  6.24360021e-02,  6.53588039e-13]), array([-1.56832063e-03, -3.74623838e-15,  4.37857519e-02,  4.05200483e-13]), array([0., 0., 0., 0.]), array([ 2.21742825e-04, -3.69918073e-03, -5.78224856e-03,  2.90923112e-01]), array([-0.00322863, -0.00373157,  0.02174324,  0.32321614]), array([-0.00584961, -0.00376924,  0.06408116,  0.35339939]), array([-0.00759681, -0.00379078,  0.10263104,  0.37858526]), array([-0.00859454, -0.00378668,  0.13102879,  0.39763205]), array([-0.00901363, -0.0037543 ,  0.14855104,  0.41039102]), array([-0.0090174 , -0.00369477,  0.15674722,  0.41724883]), array([-0.00874171, -0.00361112,  0.15780663,  0.41885311]), array([0., 0., 0., 0.]), array([ 0.01565118,  0.00369918, -0.27983032, -0.29092311]), array([ 0.01547699,  0.00373157, -0.27922251, -0.32321614]), array([ 0.01496257,  0.00376924, -0.27446067, -0.35339939]), array([ 0.01420531,  0.00379078, -0.26508882, -0.37858526]), array([ 0.01329653,  0.00378668, -0.25195985, -0.39763205]), array([ 0.01231039,  0.0037543 , -0.23627879, -0.41039102]), array([ 0.01130207,  0.00369477, -0.21918322, -0.41724883]), array([ 0.01031003,  0.00361112, -0.20159238, -0.41885311])]\n",
      "Build time with direct kaug mode [s]: 0.006798267364501953\n",
      "Solve time with direct kaug mode [s]: 1.1216847896575928\n",
      "Total wall clock time [s]: 1.1938438415527344\n",
      "Splitted jacobian: {'A1': [0.0, -1.3458784592248174, -1.0385483121952033, -0.7726958821738608, -0.5603398109731865, -0.3986861347729843, -0.2795348312488474, -0.19371926171578094, -0.1329792522977986, 0.0, 0.018801764495638026, -0.2737586633257548, -0.4959930419719059, -0.6441402461551317, -0.7287383246019348, -0.7642734637354567, -0.7645933130673477, -0.741217445042502, 0.0, 1.3270766947291794, 1.3123069755209582, 1.2686889241457664, 1.2044800571283183, 1.1274244593749192, 1.0438082949843042, 0.9583125747831288, 0.8741966973403007], 'A2': [0.0, 0.0, -1.6091028012461382e-14, -2.2474468519177705e-14, 4.708540698844817e-14, 0.0, -3.649659626434396e-12, -2.283646304308224e-12, -1.3925432408678769e-12, 0.0, -1.3750510801411127, -1.3870904495350649, -1.4010951218632912, -1.4090999030694549, -1.407574968820816, -1.3955391579183776, -1.3734111611869706, -1.3423182130555464, 0.0, 1.375051080141113, 1.3870904495350818, 1.4010951218633132, 1.4090999030694076, 1.4075749688208157, 1.3955391579220273, 1.3734111611892545, 1.3423182130569393], 'E1': [0.0, 2.2212180619446853, 2.002424519935093, 1.6361281725160246, 1.2634393624895879, 0.9404847190331388, 0.6822614769565115, 0.4855667881761908, 0.340523195146008, 0.0, -0.04496873228137945, 0.16909787967600864, 0.49836125990992497, 0.7981648499899114, 1.019015091443137, 1.1552862282063763, 1.2190281614212943, 1.2272672328735021, 0.0, -2.1762493296633063, -2.171522399611102, -2.134489432425949, -2.0616042124794998, -1.9594998104762753, -1.837547705162888, -1.704594949597485, -1.5677904280195099], 'E2': [0.0, 0.0, 0.0, 5.822505995574324e-14, -8.132341053593243e-14, -2.2717012592937513e-13, 1.5716296501080928e-11, 9.834627547602684e-12, 6.097106425358249e-12, 0.0, 4.377559387907636, 4.863477003374337, 5.317648427617383, 5.696623493794197, 5.983223171502776, 6.175209180269153, 6.278399566868695, 6.302539342731559, 0.0, -4.377559387907637, -4.863477003374339, -5.317648427617442, -5.6966234937941165, -5.983223171502549, -6.17520918028487, -6.27839956687853, -6.302539342737657]}\n",
      "Existed information has been added.\n",
      "FIM: [[  17.66554529   18.74693451  -30.08228875  -76.62511912]\n",
      " [  18.74693451   30.7605774   -30.03213968 -124.73102386]\n",
      " [ -30.08228875  -30.03213968   52.03743092  123.27909217]\n",
      " [ -76.62511912 -124.73102386  123.27909217  513.23562003]]\n",
      "Trace: 613.699173647693\n",
      "Determinant: 660.5410474636424\n",
      "Condition number: 6041.725782056004\n",
      "Minimal eigen value: 0.09711246962407301\n",
      "Eigen values: [5.86726911e+02 2.64366366e+01 9.71124696e-02 4.38513132e-01]\n",
      "Eigen vectors: [[ 0.14566442  0.44039765  0.86466463  0.19283897]\n",
      " [ 0.22710083 -0.06219352 -0.21781857  0.9471601 ]\n",
      " [-0.236181   -0.85408206  0.45151593  0.10438265]\n",
      " [-0.9335018   0.26967706 -0.03230351  0.23410499]]\n"
     ]
    }
   ],
   "source": [
    "doe_object = DesignOfExperiments(parameter_dict, dv_pass,\n",
    "                                 measure_class, createmod,\n",
    "                                prior_FIM=prior_pass, discretize_model=disc, args=None)\n",
    "\n",
    "\n",
    "if_s = True\n",
    "\n",
    "result = doe_object.compute_FIM(exp1,mode=sensi_opt, FIM_store_name = 'dynamic.csv', \n",
    "                                store_output = 'store_output', read_output=None,\n",
    "                                scale_nominal_param_value=if_s, formula='central')\n",
    "\n",
    "\n",
    "if sensi_opt == 'simultaneous_finite':\n",
    "    result.extract_FIM(doe_object.m, doe_object.design_timeset,\n",
    "                                                          doe_object.square_result, doe_object.obj_opt)\n",
    "else: \n",
    "    result.calculate_FIM(doe_object.design_values)\n"
   ]
  },
  {
   "cell_type": "code",
   "execution_count": null,
   "id": "956257dd",
   "metadata": {},
   "outputs": [],
   "source": [
    "measure_subset = {'CA': t_measure, 'CC': t_measure}\n",
    "\n",
    "measure_subclass = Measurements(measure_subset)\n",
    "\n",
    "sub_result = result.subset(measure_subclass)\n",
    "\n",
    "sub_result.calculate_FIM(doe_object.design_values)\n"
   ]
  },
  {
   "cell_type": "code",
   "execution_count": null,
   "id": "e68196a4",
   "metadata": {},
   "outputs": [],
   "source": [
    "split = {'A1': [7.985123673392991e-08, 1.2160454865295378e-06, 2.3501485202359618e-06, 1.207393296454029e-06, 5.6706639384174196e-08, 4.4566128565293184e-08, 3.675770798849953e-08, 3.242695001404172e-08, 3.0965008335215316e-08, 0.0, 0.0, 0.0, 0.0, 0.0, 0.0, 0.0, 0.0, 0.0], 'A2': [6.407674391084583e-08, 2.98443048052377e-07, 5.356515231369485e-07, 7.755001085740786e-07, 1.0180478682286775e-06, 1.2635692492324324e-06, 1.5125545260730178e-06, 1.7655197304122794e-06, 1.9994770283915386e-06, 0.0, 0.0, 0.0, 0.0, 0.0, 0.0, 0.0, 0.0, 0.0], 'E1': [3.644640145239464e-08, 4.055196178853748e-07, 7.746030483701816e-07, 1.1413190392772774e-06, 2.8874680424451068e-08, 2.2612134387145488e-08, 1.8547385849387862e-08, 1.640954039316966e-08, 1.583444486641383e-08, 0.0, 0.0, 0.0, 0.0, 0.0, 0.0, 0.0, 0.0, 0.0], 'E2': [5.098567346095705e-06, 7.402483959140227e-06, 9.706586201474465e-06, 9.736789152725576e-06, 9.757012975342148e-06, 9.770408038178857e-06, 9.778790666103987e-06, 9.783361232251764e-06, 9.784806298540614e-06, 0.0, 0.0, 0.0, 0.0, 0.0, 0.0, 0.0, 0.0, 0.0]}\n",
    "\n",
    "print(np.shape(split['A1']))"
   ]
  },
  {
   "cell_type": "code",
   "execution_count": null,
   "id": "3980026c",
   "metadata": {},
   "outputs": [],
   "source": [
    "FIM_subclass = FIM_result(['A1', 'A2', 'E1', 'E2'], measure_subclass, prior_FIM=prior_pass)\n",
    "FIM_subclass.calculate_FIM(doe_object.jac, doe_object.design_values, jaco_involved=)\n"
   ]
  },
  {
   "cell_type": "code",
   "execution_count": null,
   "id": "8c21a6be",
   "metadata": {},
   "outputs": [],
   "source": [
    "print(doe_object.dsdp)"
   ]
  },
  {
   "cell_type": "code",
   "execution_count": null,
   "id": "f97b2f75",
   "metadata": {},
   "outputs": [],
   "source": [
    "dd = 'dd'\n",
    "print(type(dd))\n",
    "\n",
    "if type(dd) is str:\n",
    "    print(dd)"
   ]
  },
  {
   "cell_type": "code",
   "execution_count": null,
   "id": "7da95005",
   "metadata": {},
   "outputs": [],
   "source": [
    "dd = '\"' + dd + '\"'\n",
    "print(dd)"
   ]
  },
  {
   "cell_type": "code",
   "execution_count": null,
   "id": "45846b75",
   "metadata": {
    "scrolled": true
   },
   "outputs": [],
   "source": [
    "print(doe_object.jac)"
   ]
  },
  {
   "cell_type": "code",
   "execution_count": null,
   "id": "64fc6da4",
   "metadata": {
    "scrolled": true
   },
   "outputs": [],
   "source": [
    "print('======Result summary======')\n",
    "print('Four design criteria log10() value:')\n",
    "print('A-optimality:', np.log10(result.trace))\n",
    "print('D-optimality:', np.log10(result.det))\n",
    "print('E-optimality:', np.log10(result.min_eig))\n",
    "print('Modified E-optimality:', np.log10(result.cond))"
   ]
  },
  {
   "cell_type": "markdown",
   "id": "7dfe1ef2",
   "metadata": {},
   "source": [
    "### Run sequential DOE automatically\n",
    "\n",
    "This method runs a series of experiments in a row."
   ]
  },
  {
   "cell_type": "code",
   "execution_count": null,
   "id": "5273a9af",
   "metadata": {},
   "outputs": [],
   "source": [
    "# this only works for constant T mode. \n",
    "exp1 = generate_exp(t_control, 5, [300])\n",
    "exp2 = generate_exp(t_control, 5, [500.92])\n",
    "exp3 = generate_exp(t_control, 5, [528])\n",
    "exp4 = generate_exp(t_control, 5, [546.8])\n",
    "exp5 = generate_exp(t_control, 5, [562])"
   ]
  },
  {
   "cell_type": "code",
   "execution_count": null,
   "id": "940683df",
   "metadata": {},
   "outputs": [],
   "source": [
    "\n",
    "exp_all = [exp1, exp2, exp3, exp4, exp5]\n",
    "\n",
    "\n",
    "doe_object = DesignOfExperiments(parameter_dict, dv_pass,\n",
    "                                 ['CA','CB','CC'], t_measure, createmod,\n",
    "                                prior_FIM=prior_pass, discretize_model=disc)\n",
    "\n",
    "# choose from 'simultaneous', 'sequential', 'sipopt'\n",
    "#sensi_opt = 'simultaneous_finite'\n",
    "sensi_opt = 'sequential_finite'\n",
    "#sensi_opt = 'sequential_sipopt'\n",
    "if_s = True\n",
    "result = doe_object.sequential_exp(exp_all, mode=sensi_opt, tee_option=True,\n",
    "                                    scale_nominal_param_value=if_s, formula='central')"
   ]
  },
  {
   "cell_type": "code",
   "execution_count": null,
   "id": "4939f5c1",
   "metadata": {},
   "outputs": [],
   "source": [
    "print('=======Result summary=======')\n",
    "for i in range(len(exp_all)):\n",
    "    print('The ', i+1,'th experiment has optimality log10() values:')\n",
    "    print('A-optimality:', np.log10(result[0][i].trace))\n",
    "    print('D-optimality:', np.log10(result[0][i].det))\n",
    "    print('E-optimality:', np.log10(result[0][i].min_eig))\n",
    "    print('Modified E-optimality:', np.log10(result[0][i].cond))"
   ]
  },
  {
   "cell_type": "markdown",
   "id": "hindu-bathroom",
   "metadata": {},
   "source": [
    "## Optimization"
   ]
  },
  {
   "cell_type": "code",
   "execution_count": null,
   "id": "a2b94ece",
   "metadata": {},
   "outputs": [],
   "source": [
    "# Define experiments\n",
    "if (model_opt=='dynamic-DAE') or (model_opt=='dynamic-DAE-measure'):\n",
    "    exp1 = generate_exp(t_control, 5, [570.21, 300, 300, 300, 300, 300, 300, 300, 300])\n",
    "else: \n",
    "    exp1 = generate_exp(t_control, 5, [300])"
   ]
  },
  {
   "cell_type": "code",
   "execution_count": null,
   "id": "wicked-raising",
   "metadata": {
    "scrolled": true
   },
   "outputs": [],
   "source": [
    "doe_object = DesignOfExperiments(parameter_dict, dv_pass, \n",
    "                                 measure_pass, createmod,\n",
    "                                 prior_FIM=prior_pass, discretize_model=disc)\n",
    "\n",
    "square_result, optimize_result = doe_object.optimize_doe(exp1, if_optimize=True, if_Cholesky=True, \n",
    "                                                         scale_nominal_param_value=True, objective_option='det', \n",
    "                                                         L_initial=None)\n"
   ]
  },
  {
   "cell_type": "code",
   "execution_count": null,
   "id": "c6b08c05",
   "metadata": {},
   "outputs": [],
   "source": [
    "print('======Result summary======')\n",
    "print('This optimization is solved with status:', optimize_result.status)\n",
    "print('It gives solution:', optimize_result.solution)\n",
    "print('The log10(OF) optimized is:', optimize_result.obj_value)\n",
    "print('The result FIM is:', optimize_result.FIM)\n",
    "\n",
    "t_list = []\n",
    "for t in optimize_result.model.t:\n",
    "    t_list.append(t)\n",
    "\n",
    "T_list = []\n",
    "for i in t_list:\n",
    "    T_list.append(value(optimize_result.model.T[i]))\n",
    "\n",
    "si=16\n",
    "plt.rc('axes', titlesize=si)\n",
    "plt.rc('axes', labelsize=si)\n",
    "plt.rc('xtick', labelsize=si)\n",
    "plt.rc('ytick', labelsize=si)\n",
    "plt.rc('legend', fontsize=12)\n",
    "    \n",
    "plt.plot(t_list, T_list, 'b', linewidth=2)\n",
    "#plt.scatter(t_list, T_list, 'b')\n",
    "plt.ylabel('T [$K$]')\n",
    "plt.xlabel('Time [$h$]')\n",
    "plt.show()"
   ]
  },
  {
   "cell_type": "markdown",
   "id": "skilled-booking",
   "metadata": {},
   "source": [
    "## Grid search for 2 design variables"
   ]
  },
  {
   "cell_type": "code",
   "execution_count": null,
   "id": "427c7dc8",
   "metadata": {},
   "outputs": [],
   "source": [
    "design_ranges = [list(np.linspace(1,5,9)), list(np.linspace(300,700,9))]\n",
    "\n",
    "dv_apply_name = ['CA0','T']\n",
    "\n",
    "dv_apply_time = [[0],t_control]\n",
    "\n",
    "# Define experiments\n",
    "if (model_opt=='dynamic-DAE'):\n",
    "    exp1 = generate_exp(t_control, 5, [570.21, 300, 300, 300, 300, 300, 300, 300, 300])\n",
    "else: \n",
    "    exp1 = generate_exp(t_control, 5, [500])\n",
    "    \n",
    "# choose from 'simultaneous', 'sequential', 'sipopt'\n",
    "#sensi_opt = 'simultaneous_finite'\n",
    "\n",
    "sensi_opt = 'sequential_finite'\n",
    "#sensi_opt = 'sequential_sipopt'\n",
    "#sensi_opt = 'sequential_kaug'\n",
    "#sensi_opt = 'direct_kaug'\n",
    "\n",
    "#if sensi_opt == 'direct_kaug':\n",
    "#    args_[2] = True"
   ]
  },
  {
   "cell_type": "code",
   "execution_count": null,
   "id": "dcfae212",
   "metadata": {
    "scrolled": true
   },
   "outputs": [],
   "source": [
    "doe_object = DesignOfExperiments(parameter_dict, dv_pass, \n",
    "                                 ['CA','CB','CC'], t_measure, createmod,\n",
    "                                 prior_FIM=prior_pass, discretize_model=disc, args=None)\n",
    "\n",
    "all_fim = doe_object.run_grid_search(exp1, design_ranges,dv_apply_name, dv_apply_time, \n",
    "                                     mode=sensi_opt, \n",
    "                                    scale_nominal_param_value=True\n",
    "                                    )"
   ]
  },
  {
   "cell_type": "markdown",
   "id": "7ac0e0ed",
   "metadata": {},
   "source": [
    "### 1D sensitivity curve"
   ]
  },
  {
   "cell_type": "code",
   "execution_count": null,
   "id": "991969ba",
   "metadata": {},
   "outputs": [],
   "source": [
    "test = all_fim.extract_criteria()\n",
    "\n",
    "## draw 1D sensitivity curve \n",
    "\n",
    "fixed = {\"'CA0'\": 5.0}\n",
    "\n",
    "all_fim.figure_drawing(fixed, ['T'], 'Reactor case','T [K]','$C_{A0}$ [M]' )\n",
    "\n"
   ]
  },
  {
   "cell_type": "markdown",
   "id": "b1b57f39",
   "metadata": {},
   "source": [
    "## Heatmap"
   ]
  },
  {
   "cell_type": "code",
   "execution_count": null,
   "id": "c9fe2868",
   "metadata": {},
   "outputs": [],
   "source": [
    "fixed = {}\n",
    "all_fim.figure_drawing(fixed, ['CA0','T'], 'Reactor case','$C_{A0}$ [M]', 'T [K]' )"
   ]
  },
  {
   "cell_type": "markdown",
   "id": "c583f3c1",
   "metadata": {},
   "source": [
    "## Grid search for 3 design variables"
   ]
  },
  {
   "cell_type": "code",
   "execution_count": null,
   "id": "flush-diameter",
   "metadata": {},
   "outputs": [],
   "source": [
    "\n",
    "#design_ranges = [list(np.linspace(1,5,2)),  list(np.linspace(300,700,2)), [300,500]]\n",
    "design_ranges = [list(np.linspace(1,5,2)),  list(np.linspace(300,700,2)), [300,500]]\n",
    "\n",
    "dv_apply_name = ['CA0', 'T', 'T']\n",
    "dv_apply_time = [[0], [0], [0.125, 0.25, 0.375, 0.5, 0.625, 0.75, 0.875,1]]\n",
    "\n",
    "# Define experiments\n",
    "if (model_opt=='dynamic-DAE'):\n",
    "    exp1 = generate_exp(t_control, 5, [570.21, 300, 300, 300, 300, 300, 300, 300, 300])\n",
    "else: \n",
    "    exp1 = generate_exp(t_control, 5, [500])"
   ]
  },
  {
   "cell_type": "code",
   "execution_count": null,
   "id": "separate-leone",
   "metadata": {
    "scrolled": true
   },
   "outputs": [],
   "source": [
    "doe_object = DesignOfExperiments(parameter_dict, dv_pass, \n",
    "                                 ['CA','CB','CC'], t_measure, createmod,\n",
    "                                 prior_FIM=prior_pass, discretize_model=disc)\n",
    "\n",
    "all_fim = doe_object.run_grid_search(exp1, design_ranges,dv_apply_name, dv_apply_time, \n",
    "                                     mode='sequential_finite', \n",
    "                                    scale_nominal_param_value=True\n",
    "                                    )"
   ]
  },
  {
   "cell_type": "markdown",
   "id": "d533298f",
   "metadata": {},
   "source": [
    "### Draw 1D sensitivity curve"
   ]
  },
  {
   "cell_type": "code",
   "execution_count": null,
   "id": "75da1683",
   "metadata": {},
   "outputs": [],
   "source": [
    "test = all_fim.extract_criteria()"
   ]
  },
  {
   "cell_type": "code",
   "execution_count": null,
   "id": "c20e6579",
   "metadata": {
    "scrolled": true
   },
   "outputs": [],
   "source": [
    "## draw 1D sensitivity curve \n",
    "\n",
    "fixed = {\"'CA0'\": 1.0, \"'T2'\": 300}\n",
    "\n",
    "all_fim.figure_drawing(fixed, ['T'], 'Reactor case','T [K]','$C_{A0}$ [M]' )"
   ]
  },
  {
   "cell_type": "markdown",
   "id": "affd1491",
   "metadata": {},
   "source": [
    "### Draw 2D sensitivity curve"
   ]
  },
  {
   "cell_type": "code",
   "execution_count": null,
   "id": "16be2b47",
   "metadata": {
    "scrolled": true
   },
   "outputs": [],
   "source": [
    "fixed = {\"'T2'\": 300}\n",
    "\n",
    "all_fim.figure_drawing(fixed, ['CA0','T'], 'Reactor case','$C_{A0}$ [M]', 'T [K]' )"
   ]
  },
  {
   "cell_type": "markdown",
   "id": "b116410d",
   "metadata": {},
   "source": [
    "## Dynamic heatmap"
   ]
  },
  {
   "cell_type": "code",
   "execution_count": null,
   "id": "87997eb7",
   "metadata": {},
   "outputs": [],
   "source": [
    "design_ranges = [list(np.linspace(300,700,18))]\n",
    "\n",
    "dv_apply_name = ['T']\n",
    "\n",
    "count = 0\n",
    "for ct in t_control:\n",
    "    print('Time controlled:', ct)\n",
    "    dv_apply_time = [[ct]]\n",
    "\n",
    "    # Define experiments\n",
    "    exp1 = generate_exp(t_control, 5, [300, 300, 300, 300, 300, 300, 300, 300, 300])\n",
    "    \n",
    "    doe_object = DesignOfExperiments(parameter_dict, dv_pass, \n",
    "                                 ['CA','CB','CC'], t_measure, createmod,\n",
    "                                 prior_FIM=prior_pass, discretize_model=disc)\n",
    "\n",
    "    all_fim = doe_object.run_grid_search(exp1, design_ranges,dv_apply_name, dv_apply_time, \n",
    "                                     mode='sequential_finite', \n",
    "                                    scale_nominal_param_value=True,\n",
    "                                     filename = '300base_'+str(count)+'.csv'\n",
    "                                    )\n",
    "    \n",
    "    test = all_fim.extract_criteria()\n",
    "\n",
    "    ## draw 1D sensitivity curve \n",
    "\n",
    "    fixed = {}\n",
    "\n",
    "    all_fim.figure_drawing(fixed, ['T'], 'Reactor case','T [K]','$C_{A0}$ [M]' )\n",
    "    count += 1 "
   ]
  },
  {
   "cell_type": "code",
   "execution_count": null,
   "id": "9c06237a",
   "metadata": {},
   "outputs": [],
   "source": [
    "filename_list = []\n",
    "count = 0\n",
    "for ct in t_control:\n",
    "    print('Time controlled:', ct)\n",
    "    filename_list.append('300base_'+str(count)+'.csv')\n",
    "    count += 1\n",
    "    \n",
    "print(filename_list)\n",
    "\n",
    "data_list = []\n",
    "for i in filename_list:\n",
    "    data_list.append(pd.read_csv(i))\n",
    "print(np.shape(data_list))"
   ]
  },
  {
   "cell_type": "code",
   "execution_count": null,
   "id": "69cedae2",
   "metadata": {},
   "outputs": [],
   "source": [
    "print(data_list[3]['D'].iloc[4])"
   ]
  },
  {
   "cell_type": "code",
   "execution_count": null,
   "id": "a0c522a7",
   "metadata": {},
   "outputs": [],
   "source": [
    "d_result = np.zeros((18,8))\n",
    "\n",
    "for i in range(8):\n",
    "    for j in range(18):\n",
    "        d_result[j,i] = np.log10(data_list[i]['A'].iloc[j])\n",
    "        \n",
    "print(d_result)"
   ]
  },
  {
   "cell_type": "code",
   "execution_count": null,
   "id": "76b252c0",
   "metadata": {
    "scrolled": true
   },
   "outputs": [],
   "source": [
    "x_range1 = [0.125,0.25,0.375,0.5,0.625,0.75,0.875,1]\n",
    "#x_range1 = [0.13, 0.25,0.38,0.5,0.63,0.75,0.88,1]\n",
    "#x_range1 = [7.5, 15, 22.5, 30, 37.5, 45, 52.5, 60]\n",
    "y_range1 = yLabel = [300, 321, 342, 363, 384, 405, 426, 447, 468, 489, 511, 532, 553, 574, 595, 616, 637, 658, 679, 700.0]\n",
    "\n",
    "heatmap(x_range1, y_range1, 'Time [$min$]', 'Temperature [$K$]')"
   ]
  },
  {
   "cell_type": "code",
   "execution_count": null,
   "id": "2cb4b083",
   "metadata": {},
   "outputs": [],
   "source": [
    "import matplotlib.ticker as ticker\n",
    "def heatmap(x_range, y_range, xlabel_text, ylabel_text, font_axes=16, font_tick=12, log_scale=True):\n",
    "    '''\n",
    "    Draw 2D heatmaps for all design criteria\n",
    "\n",
    "    Parameters:\n",
    "    ----------\n",
    "    title_text: name of the figure, a string\n",
    "    xlabel_text: x label title, a string.\n",
    "        In a 2D heatmap, it should be the second design varialbe in the design_ranges\n",
    "    ylabel_text: y label title, a string.\n",
    "        In a 2D heatmap, it should be the first design variable in the dv_ranges\n",
    "    font_axes: axes label font size\n",
    "    font_tick: tick label font size\n",
    "    log_scale: if True, the result matrix will be scaled by log10\n",
    "\n",
    "    Returns:\n",
    "    --------\n",
    "    4 Figures of 2D heatmap for each criteria\n",
    "    '''\n",
    "    # set heatmap x,y ranges\n",
    "    xLabel = x_range\n",
    "    yLabel = y_range\n",
    "\n",
    "    # D-optimality\n",
    "    fig = plt.figure()\n",
    "    plt.rc('axes', titlesize=font_axes)\n",
    "    plt.rc('axes', labelsize=font_axes)\n",
    "    plt.rc('xtick', labelsize=font_tick)\n",
    "    plt.rc('ytick', labelsize=font_tick)\n",
    "    ax = fig.add_subplot(111)\n",
    "    params = {'mathtext.default': 'regular'}\n",
    "    plt.rcParams.update(params)\n",
    "    ax.set_yticks(range(len(yLabel)))\n",
    "    ax.set_yticklabels(yLabel)\n",
    "    ax.set_ylabel(ylabel_text)\n",
    "    \n",
    "    \n",
    "    ax.set_xticks(range(len(xLabel)))\n",
    "    ax.set_xticklabels(xLabel)\n",
    "    loc = ticker.MultipleLocator(base=3)\n",
    "    ax.xaxis.set_major_locator(loc)\n",
    "    ax.set_xlabel(xlabel_text)\n",
    "\n",
    "    im = ax.imshow(d_result, cmap=plt.cm.hot_r)\n",
    "    ba = plt.colorbar(im)\n",
    "    ba.set_label('$log_{10}$(A-optimality)',labelpad=-40, y=1.1, rotation=0)\n",
    "    plt.show()\n"
   ]
  },
  {
   "cell_type": "code",
   "execution_count": null,
   "id": "14d1e7e8",
   "metadata": {},
   "outputs": [],
   "source": []
  }
 ],
 "metadata": {
  "kernelspec": {
   "display_name": "Python 3 (ipykernel)",
   "language": "python",
   "name": "python3"
  },
  "language_info": {
   "codemirror_mode": {
    "name": "ipython",
    "version": 3
   },
   "file_extension": ".py",
   "mimetype": "text/x-python",
   "name": "python",
   "nbconvert_exporter": "python",
   "pygments_lexer": "ipython3",
   "version": "3.7.11"
  }
 },
 "nbformat": 4,
 "nbformat_minor": 5
}
