{
 "cells": [
  {
   "cell_type": "markdown",
   "id": "opposite-garage",
   "metadata": {},
   "source": [
    "# Reactor Kinetics Example \n",
    "\n",
    "Jialu Wang (jwang44@nd.edu) and Alex Dowling (adowling@nd.edu)\n",
    "\n",
    "University of Notre Dame\n",
    "\n",
    "This notebook conducts design of experiments for a reactor kinetics experiment with the Pyomo.DOE.\n",
    "    "
   ]
  },
  {
   "cell_type": "code",
   "execution_count": 1,
   "id": "worth-origin",
   "metadata": {},
   "outputs": [],
   "source": [
    "import matplotlib.pyplot as plt\n",
    "from pyomo.environ import *\n",
    "from pyomo.dae import *\n",
    "\n",
    "import numpy as np\n",
    "from scipy.interpolate import interp2d\n",
    "import pandas as pd \n",
    "\n",
    "from DoE_package import *\n",
    "from pyomo.contrib.sensitivity_toolbox.sens import sipopt"
   ]
  },
  {
   "cell_type": "markdown",
   "id": "graphic-controversy",
   "metadata": {},
   "source": [
    "## Define Reaction Example Mathematical Model"
   ]
  },
  {
   "cell_type": "markdown",
   "id": "disturbed-prediction",
   "metadata": {},
   "source": [
    "Consider two chemical reactions that converts molecule $A$ to desired product $B$ and a less valuable side-product $C$.\n",
    "\n",
    "$A \\overset{k_1}{\\rightarrow} B \\overset{k_2}{\\rightarrow} C$\n",
    "\n",
    "Our ultimate goals is to design a large-scale continous reactor that maximizes the production of $B$. This general sequential reactions problem is widely applicable to CO$_2$ capture and industry more broadly (petrochemicals, pharmasuticals, etc.).\n",
    "\n",
    "The rate laws for these two chemical reactions are:\n",
    "\n",
    "$r_A = -k_1 C_A$\n",
    "\n",
    "$r_B = k_1 C_A - k_2 C_B$\n",
    "\n",
    "$r_C = k_2 C_B$\n",
    "\n",
    "Here, $C_A$, $C_B$, and $C_C$ are the concentrations of each species. The rate constants $k_1$ and $k_2$ depend on temperature as follows:\n",
    "\n",
    "$k_1 = A_1 \\exp{\\frac{-E_1}{R T}}$\n",
    "\n",
    "$k_2 = A_2 \\exp{\\frac{-E_2}{R T}}$\n",
    "\n",
    "$A_1, A_2, E_1$, and $E_2$ are fitted model parameters. $R$ is the ideal-gas constant and $T$ is absolute temperature.\n",
    "\n",
    "Using the **CCSI$^2$ toolset**, we would like do the following perform:\n",
    "\n",
    "Perform **uncertainty quantification** and **design of experiments** on a small-scale **batch reactor** to infer parameters $A_1$, $A_2$, $E_1$, and $E_2$."
   ]
  },
  {
   "cell_type": "markdown",
   "id": "sweet-niger",
   "metadata": {},
   "source": [
    "### Batch reactor\n",
    "\n",
    "The concenrations in a batch reactor evolve with time per the following differential equations:\n",
    "\n",
    "$$ \\frac{d C_A}{dt} = r_A = -k_1 C_A $$\n",
    "\n",
    "$$ \\frac{d C_B}{dt} = r_B = k_1 C_A - k_2 C_B $$\n",
    "\n",
    "$$ \\frac{d C_C}{dt} = r_C = k_2 C_B $$\n",
    "\n",
    "This is a linear system of differential equations. Assuming the feed is only species $A$, i.e., \n",
    "\n",
    "$$C_A(t=0) = C_{A0} \\quad C_B(t=0) = 0 \\quad C_C(t=0) = 0$$\n",
    "\n",
    "When the temperature is constant, it leads to the following analytic solution:\n",
    "\n",
    "$$C_A(t) = C_{A,0} \\exp(-k_1 t)$$\n",
    "\n",
    "$$C_B(t) = \\frac{k_1}{k_2 - k_1} C_{A,0} \\left[\\exp(-k_1 t) - \\exp(-k_2 t) \\right]$$\n",
    "\n",
    "$$C_C(t) = C_{A,0} - \\frac{k_2}{k_2 - k_1} C_{A,0} \\exp(-k_1 t) + \\frac{k_1}{k_2 - k_1} \\exp(-k_2 t) C_{A,0} = C_{A,0} - C_{A}(t) - C_{B}(t)$$"
   ]
  },
  {
   "cell_type": "code",
   "execution_count": 2,
   "id": "eligible-robert",
   "metadata": {},
   "outputs": [],
   "source": [
    "from reactor_models import *"
   ]
  },
  {
   "cell_type": "markdown",
   "id": "6f7434dc",
   "metadata": {},
   "source": [
    "Three versions of this model is accomplished: \n",
    "\n",
    "Dynamic-DAE model: Temperature varying model discretized and integrated by Pyomo.DAE\n",
    "\n",
    "Constant-DAE model: Temperature constant model discretized and integrated by Pyomo.DAE\n",
    "\n",
    "Constant-analytical model: Temperature constant model discretized manually and using the analytical expressions for state variables."
   ]
  },
  {
   "cell_type": "code",
   "execution_count": 3,
   "id": "d576e9c4",
   "metadata": {},
   "outputs": [],
   "source": [
    "# choose model from 'dynamic-DAE', 'constant-DAE', 'constant-analytical'\n",
    "#model_opt = 'dynamic-DAE'\n",
    "model_opt = 'constant-DAE'\n",
    "#model_opt = 'constant-analytical'\n",
    "\n",
    "if (model_opt=='dynamic-DAE'):\n",
    "    createmod = create_model_dae\n",
    "    disc = discretizer\n",
    "    t_control = [0, 0.125, 0.25, 0.375, 0.5, 0.625, 0.75, 0.875, 1]\n",
    "    \n",
    "elif (model_opt=='constant-DAE'):\n",
    "    createmod = create_model_dae_const\n",
    "    disc = discretizer\n",
    "    t_control = [0]\n",
    "    \n",
    "elif (model_opt=='constant-analytical'):\n",
    "    createmod = create_model_alge\n",
    "    disc = None\n",
    "    t_control = [0]\n",
    "\n",
    "    \n",
    "# design variable and its control time set\n",
    "dv_pass = {'CA0': [0],'T': t_control}\n",
    "    \n",
    "# Define measurement time points\n",
    "t_measure = [0, 0.125, 0.25, 0.375, 0.5, 0.625, 0.75, 0.875, 1]"
   ]
  },
  {
   "cell_type": "code",
   "execution_count": 4,
   "id": "47137cb2",
   "metadata": {},
   "outputs": [],
   "source": [
    "# Define parameter nominal value \n",
    "parameter_dict = {'A1': 84.79085853498033, 'A2': 371.71773413976416, 'E1': 7.777032028026428, 'E2': 15.047135137500822}\n",
    "\n",
    "def generate_exp(t_set, CA0, T):  \n",
    "    '''Generate experiments. \n",
    "    t_set: time control set for T.\n",
    "    CA0: CA0 value\n",
    "    T: A list of T \n",
    "    '''\n",
    "    assert(len(t_set)==len(T)), 'T should have the same length as t_set'\n",
    "    \n",
    "    T_con_initial = {}\n",
    "    for t, tim in enumerate(t_set):\n",
    "        T_con_initial[tim] = T[t]\n",
    "        \n",
    "    dv_dict_overall = {'CA0': {0: CA0},'T': T_con_initial}\n",
    "    return dv_dict_overall"
   ]
  },
  {
   "cell_type": "code",
   "execution_count": 5,
   "id": "written-tours",
   "metadata": {},
   "outputs": [
    {
     "name": "stdout",
     "output_type": "stream",
     "text": [
      "The prior information FIM: [[  28.67892806    5.41249739  -81.73674601  -24.02377324]\n",
      " [   5.41249739   26.40935036  -12.41816477 -139.23992532]\n",
      " [ -81.73674601  -12.41816477  240.46276004   58.76422806]\n",
      " [ -24.02377324 -139.23992532   58.76422806  767.25584508]]\n",
      "Prior Det: 140189.67370995492\n",
      "Eigenvalue of the prior experiments FIM: [8.00463185e+02 2.60471503e+02 4.84545259e-01 1.38765050e+00]\n",
      "Eigenvalue of the prior experiments FIM: [[-0.77629273 -0.54211788  0.31871243 -0.0435912 ]\n",
      " [ 0.56614148 -0.80478003 -0.01425817 -0.177791  ]\n",
      " [-0.25919275 -0.19059651 -0.94009108  0.11278677]\n",
      " [ 0.09834911 -0.14869526  0.12019924  0.97661114]]\n"
     ]
    }
   ],
   "source": [
    "# empty prior\n",
    "#prior_all = np.zeros((4,4))\n",
    "\n",
    "\n",
    "# add prior information\n",
    "prior_5_300 = pd.read_csv('fim_5_300_scale.csv')\n",
    "prior_5_300_500 = pd.read_csv('fim_5_300_500_scale.csv')\n",
    "\n",
    "prior_all = prior_5_300_500\n",
    "\n",
    "\n",
    "prior_pass=np.asarray(prior_all)\n",
    "\n",
    "#L_initials = np.linalg.cholesky(prior_pass)\n",
    "#print(L_initials)\n",
    "\n",
    "print('The prior information FIM:', prior_pass)\n",
    "print('Prior Det:', np.linalg.det(prior_pass))\n",
    "print('Eigenvalue of the prior experiments FIM:', np.linalg.eigvals(prior_pass))\n",
    "print('Eigenvalue of the prior experiments FIM:', np.linalg.eigh(prior_pass)[1])"
   ]
  },
  {
   "cell_type": "markdown",
   "id": "destroyed-african",
   "metadata": {},
   "source": [
    "## Compute FIM \n",
    "\n",
    "This method computes an MBDoE optimization problem with no Degree of Freedom."
   ]
  },
  {
   "cell_type": "code",
   "execution_count": 9,
   "id": "d3ee5ff9",
   "metadata": {},
   "outputs": [
    {
     "name": "stdout",
     "output_type": "stream",
     "text": [
      "Design variable: {'CA0': {0: 5}, 'T': {0: 500}}\n"
     ]
    }
   ],
   "source": [
    "# choose from 'simultaneous', 'sequential', 'sipopt'\n",
    "#sensi_opt = 'simultaneous_finite'\n",
    "#sensi_opt = 'sequential_finite'\n",
    "#sensi_opt = 'sequential_sipopt'\n",
    "sensi_opt = 'sequential_kaug'\n",
    "\n",
    "# Define experiments\n",
    "if (model_opt=='dynamic-DAE'):\n",
    "    exp1 = generate_exp(t_control, 5, [570.21, 300, 300, 300, 300, 300, 300, 300, 300])\n",
    "else: \n",
    "    exp1 = generate_exp(t_control, 5, [500])\n",
    "\n",
    "print('Design variable:', exp1)"
   ]
  },
  {
   "cell_type": "code",
   "execution_count": 10,
   "id": "latin-medicare",
   "metadata": {
    "scrolled": true
   },
   "outputs": [
    {
     "name": "stdout",
     "output_type": "stream",
     "text": [
      "Sensitivity information is scaled by its corresponding parameter nominal value.\n",
      "perturb names are: ['A1_pert', 'A2_pert', 'E1_pert', 'E2_pert']\n",
      "Perturbation parameters are set:\n",
      "A1_pert :  83.94294994963053\n",
      "A2_pert :  371.71773413976416\n",
      "E1_pert :  7.777032028026428\n",
      "E2_pert :  15.047135137500822\n",
      "Ipopt 3.13.3: \n",
      "\n",
      "******************************************************************************\n",
      "This program contains Ipopt, a library for large-scale nonlinear optimization.\n",
      " Ipopt is released as open source code under the Eclipse Public License (EPL).\n",
      "         For more information visit https://github.com/coin-or/Ipopt\n",
      "******************************************************************************\n",
      "\n",
      "This is Ipopt version 3.13.3, running with linear solver ma27.\n",
      "\n",
      "Number of nonzeros in equality constraint Jacobian...:     3371\n",
      "Number of nonzeros in inequality constraint Jacobian.:        0\n",
      "Number of nonzeros in Lagrangian Hessian.............:      677\n",
      "\n",
      "Total number of variables............................:      873\n",
      "                     variables with only lower bounds:      289\n",
      "                variables with lower and upper bounds:       96\n",
      "                     variables with only upper bounds:        0\n",
      "Total number of equality constraints.................:      873\n",
      "Total number of inequality constraints...............:        0\n",
      "        inequality constraints with only lower bounds:        0\n",
      "   inequality constraints with lower and upper bounds:        0\n",
      "        inequality constraints with only upper bounds:        0\n",
      "\n",
      "iter    objective    inf_pr   inf_du lg(mu)  ||d||  lg(rg) alpha_du alpha_pr  ls\n",
      "   0  0.0000000e+00 1.97e+02 1.00e+00  -1.0 0.00e+00    -  0.00e+00 0.00e+00   0\n",
      "   1  0.0000000e+00 1.24e+02 2.36e+01  -1.0 1.97e+02    -  1.49e-02 3.72e-01f  1\n",
      "   2  0.0000000e+00 1.17e+02 2.23e+01  -1.0 1.24e+02    -  1.57e-01 5.73e-02h  1\n",
      "   3  0.0000000e+00 1.17e+02 3.53e+03  -1.0 1.17e+02    -  2.63e-01 8.71e-04h  1\n",
      "   4r 0.0000000e+00 1.17e+02 1.00e+03   2.1 0.00e+00    -  0.00e+00 2.74e-07R  6\n",
      "   5r 0.0000000e+00 8.40e+01 9.97e+02   2.1 2.11e+04    -  2.06e-03 2.06e-03f  1\n",
      "   6r 0.0000000e+00 2.29e+01 9.94e+02   0.7 2.03e+04    -  3.79e-04 3.68e-03f  1\n",
      "   7r 0.0000000e+00 1.89e+01 2.56e+03   0.7 7.16e+03    -  2.16e-02 1.46e-03f  1\n",
      "   8r 0.0000000e+00 6.78e+00 3.44e+03   0.7 1.05e+03    -  8.67e-03 1.74e-02f  1\n",
      "   9r 0.0000000e+00 3.44e+00 9.48e+03   0.7 1.40e+02    -  6.67e-03 2.50e-02f  1\n",
      "iter    objective    inf_pr   inf_du lg(mu)  ||d||  lg(rg) alpha_du alpha_pr  ls\n",
      "  10r 0.0000000e+00 3.97e+00 9.11e+03   0.7 6.07e+01    -  1.66e-02 4.24e-02f  1\n",
      "  11r 0.0000000e+00 4.22e+00 8.77e+03   0.7 2.54e+01    -  1.00e+00 6.44e-02f  1\n",
      "  12r 0.0000000e+00 4.16e+00 1.23e+03   0.7 3.29e+00    -  1.00e+00 8.54e-01f  1\n",
      "  13r 0.0000000e+00 3.59e+00 2.07e+02   0.7 3.66e+00    -  5.61e-01 1.00e+00f  1\n",
      "  14r 0.0000000e+00 2.96e+00 4.16e+01  -0.0 5.02e+00    -  9.99e-01 8.82e-01f  1\n",
      "  15r 0.0000000e+00 2.58e+00 4.27e+02  -0.7 2.73e+01    -  4.53e-01 1.07e-01f  1\n",
      "  16r 0.0000000e+00 2.56e+00 4.33e+04  -0.7 1.57e+01    -  1.00e+00 1.67e-02f  1\n",
      "  17r 0.0000000e+00 2.52e+00 1.78e+04  -0.7 1.25e+01    -  1.00e+00 5.33e-02f  1\n",
      "  18r 0.0000000e+00 2.05e+00 3.96e+03  -0.7 1.08e+01    -  1.00e+00 6.10e-01f  1\n",
      "  19r 0.0000000e+00 1.94e+00 2.41e+04  -0.7 8.03e+00    -  6.27e-01 1.46e-01f  1\n",
      "iter    objective    inf_pr   inf_du lg(mu)  ||d||  lg(rg) alpha_du alpha_pr  ls\n",
      "  20r 0.0000000e+00 1.71e+00 1.95e+04  -0.7 1.31e+01    -  1.39e-02 1.72e-01f  1\n",
      "  21r 0.0000000e+00 1.57e+00 1.83e+04  -0.7 1.62e+01    -  4.71e-02 9.11e-02f  1\n",
      "  22r 0.0000000e+00 1.48e+00 1.74e+04  -0.7 1.88e+01    -  5.08e-02 5.68e-02f  1\n",
      "  23r 0.0000000e+00 1.38e+00 1.69e+04  -0.7 2.03e+01    -  3.87e-02 5.08e-02f  1\n",
      "  24r 0.0000000e+00 1.28e+00 1.70e+04  -0.7 2.11e+01    -  3.03e-02 5.48e-02f  1\n",
      "  25r 0.0000000e+00 1.25e+00 1.63e+04  -0.7 2.11e+01    -  2.88e-02 1.90e-02f  1\n",
      "  26r 0.0000000e+00 1.18e+00 1.47e+04  -0.7 3.23e+01    -  3.64e-02 2.38e-02f  1\n",
      "  27r 0.0000000e+00 1.14e+00 1.44e+04  -0.7 2.10e+01    -  2.08e-02 2.36e-02f  1\n",
      "  28r 0.0000000e+00 1.08e+00 1.47e+04  -0.7 7.71e+01    -  7.21e-03 9.85e-03f  1\n",
      "  29r 0.0000000e+00 1.06e+00 1.44e+04  -0.7 1.61e+01    -  3.49e-02 1.25e-02f  1\n",
      "iter    objective    inf_pr   inf_du lg(mu)  ||d||  lg(rg) alpha_du alpha_pr  ls\n",
      "  30r 0.0000000e+00 1.04e+00 1.41e+04  -0.7 5.75e+00   0.0 8.30e-02 5.19e-02f  1\n",
      "  31r 0.0000000e+00 8.90e-01 2.06e+04  -0.7 1.64e+01    -  2.14e-03 1.14e-01f  1\n",
      "  32r 0.0000000e+00 8.49e-01 2.04e+04  -0.7 3.27e+03    -  9.39e-05 1.59e-04f  1\n",
      "  33r 0.0000000e+00 8.40e-01 1.93e+04  -0.7 2.07e+01    -  3.90e-02 5.49e-03f  1\n",
      "  34r 0.0000000e+00 7.18e-01 1.78e+04  -0.7 2.04e+01  -0.5 5.74e-02 7.81e-02f  1\n",
      "  35r 0.0000000e+00 7.12e-01 1.74e+04  -0.7 1.51e+01    -  6.25e-02 5.39e-03f  1\n",
      "  36r 0.0000000e+00 5.95e-01 1.66e+04  -0.7 5.06e+01  -1.0 2.62e-03 3.07e-02f  1\n",
      "  37r 0.0000000e+00 5.91e-01 1.76e+04  -0.7 1.69e+01    -  9.03e-02 3.09e-03f  1\n",
      "  38r 0.0000000e+00 4.99e-01 2.45e+04  -0.7 1.37e+02    -  4.39e-04 9.12e-03f  1\n",
      "  39r 0.0000000e+00 4.68e-01 1.66e+04  -0.7 4.45e+02  -1.4 8.43e-03 9.79e-04f  1\n",
      "iter    objective    inf_pr   inf_du lg(mu)  ||d||  lg(rg) alpha_du alpha_pr  ls\n",
      "  40r 0.0000000e+00 4.39e-01 1.58e+04  -0.7 1.12e+01    -  1.28e-01 3.82e-02f  1\n",
      "  41r 0.0000000e+00 3.11e-01 1.56e+04  -0.7 1.88e+02    -  3.01e-04 9.57e-03f  1\n",
      "  42r 0.0000000e+00 3.06e-01 1.78e+04  -0.7 1.55e+01    -  1.80e-01 5.42e-03f  1\n",
      "  43r 0.0000000e+00 2.83e-01 1.95e+04  -0.7 3.70e+01    -  1.54e-03 6.91e-02f  1\n",
      "  44r 0.0000000e+00 2.82e-01 3.14e+04  -0.7 1.91e+01    -  2.18e-01 3.74e-03f  1\n",
      "  45r 0.0000000e+00 2.83e-01 2.53e+04  -0.7 2.65e+01    -  2.59e-03 7.36e-02f  1\n",
      "  46r 0.0000000e+00 2.77e-01 2.69e+04  -0.7 1.26e+00    -  4.26e-02 2.27e-02f  1\n",
      "  47r 0.0000000e+00 2.53e-01 2.41e+04  -0.7 1.00e+00    -  1.10e-01 8.74e-02f  1\n",
      "  48r 0.0000000e+00 2.52e-01 2.64e+04  -0.7 9.41e-01    -  7.10e-02 1.20e-03h  1\n",
      "  49r 0.0000000e+00 2.49e-01 2.60e+04  -0.7 1.28e+00    -  6.38e-03 1.53e-02f  1\n",
      "iter    objective    inf_pr   inf_du lg(mu)  ||d||  lg(rg) alpha_du alpha_pr  ls\n",
      "  50r 0.0000000e+00 2.02e-01 2.16e+04  -0.7 9.05e-01    -  6.69e-03 1.87e-01f  1\n",
      "  51r 0.0000000e+00 2.02e-01 2.14e+04  -0.7 7.35e-01    -  1.95e-01 2.70e-03h  1\n",
      "  52r 0.0000000e+00 1.64e-01 1.75e+04  -0.7 7.31e-01    -  4.13e-03 1.86e-01f  1\n",
      "  53r 0.0000000e+00 1.64e-01 1.74e+04  -0.7 5.94e-01    -  1.01e-01 3.65e-03h  1\n",
      "  54r 0.0000000e+00 1.35e-01 1.44e+04  -0.7 5.91e-01    -  5.43e-02 1.75e-01f  1\n",
      "  55r 0.0000000e+00 1.34e-01 1.43e+04  -0.7 4.86e-01    -  8.09e-02 7.88e-03f  1\n",
      "  56r 0.0000000e+00 1.12e-01 1.19e+04  -0.7 4.82e-01    -  5.49e-02 1.65e-01f  1\n",
      "  57r 0.0000000e+00 1.05e-01 1.12e+04  -0.7 4.02e-01    -  8.70e-02 5.82e-02f  1\n",
      "  58r 0.0000000e+00 9.02e-02 9.60e+03  -0.7 3.78e-01    -  7.23e-02 1.44e-01f  1\n",
      "  59r 0.0000000e+00 8.32e-02 8.85e+03  -0.7 3.23e-01    -  1.08e-01 7.77e-02f  1\n",
      "iter    objective    inf_pr   inf_du lg(mu)  ||d||  lg(rg) alpha_du alpha_pr  ls\n",
      "  60r 0.0000000e+00 7.13e-02 7.59e+03  -0.7 2.97e-01    -  1.14e-01 1.43e-01f  1\n",
      "  61r 0.0000000e+00 5.97e-02 6.35e+03  -0.7 2.54e-01    -  1.58e-01 1.63e-01f  1\n",
      "  62r 0.0000000e+00 4.92e-02 5.24e+03  -0.7 2.12e-01    -  3.19e-01 1.75e-01f  1\n",
      "  63r 0.0000000e+00 3.25e-02 3.46e+03  -0.7 1.74e-01    -  4.25e-01 3.41e-01f  1\n",
      "  64r 0.0000000e+00 1.05e-02 5.44e+02  -0.7 1.15e-01    -  7.89e-01 8.42e-01f  1\n",
      "  65r 0.0000000e+00 1.05e-02 1.27e-01  -0.7 1.77e-02    -  1.00e+00 1.00e+00f  1\n",
      "  66r 0.0000000e+00 1.04e-02 4.02e+02  -3.2 4.99e-01    -  9.96e-01 7.70e-01f  1\n",
      "  67r 0.0000000e+00 1.28e-03 4.63e+03  -3.2 1.75e+02    -  9.55e-01 1.44e-02f  1\n",
      "  68r 0.0000000e+00 1.03e-03 5.51e+03  -3.2 3.42e+00    -  1.00e+00 2.81e-02f  1\n",
      "  69r 0.0000000e+00 2.09e-05 1.12e+02  -3.2 4.19e-01    -  1.00e+00 9.80e-01f  1\n",
      "iter    objective    inf_pr   inf_du lg(mu)  ||d||  lg(rg) alpha_du alpha_pr  ls\n",
      "  70r 0.0000000e+00 8.74e-08 1.47e-05  -3.2 8.48e-03    -  1.00e+00 1.00e+00f  1\n",
      "  71r 0.0000000e+00 4.26e-09 3.97e-01  -7.2 3.66e-05    -  1.00e+00 9.97e-01f  1\n",
      "\n",
      "Number of Iterations....: 71\n",
      "\n",
      "                                   (scaled)                 (unscaled)\n",
      "Objective...............:   0.0000000000000000e+00    0.0000000000000000e+00\n",
      "Dual infeasibility......:   0.0000000000000000e+00    0.0000000000000000e+00\n",
      "Constraint violation....:   3.6492325330122577e-09    4.2566097210568546e-09\n",
      "Complementarity.........:   0.0000000000000000e+00    0.0000000000000000e+00\n",
      "Overall NLP error.......:   3.6492325330122577e-09    4.2566097210568546e-09\n",
      "\n",
      "\n",
      "Number of objective function evaluations             = 78\n",
      "Number of objective gradient evaluations             = 6\n",
      "Number of equality constraint evaluations            = 78\n",
      "Number of inequality constraint evaluations          = 0\n",
      "Number of equality constraint Jacobian evaluations   = 73\n",
      "Number of inequality constraint Jacobian evaluations = 0\n",
      "Number of Lagrangian Hessian evaluations             = 71\n",
      "Total CPU secs in IPOPT (w/o function evaluations)   =      0.069\n",
      "Total CPU secs in NLP function evaluations           =      0.009\n",
      "\n",
      "EXIT: Optimal Solution Found.\n"
     ]
    },
    {
     "name": "stdout",
     "output_type": "stream",
     "text": [
      "W[K_AUG]...\t[K_AUG_ASL]No n_rhs declared\n",
      "W[K_AUG]...\t[K_AUG_ASL]Target log10mu:= -11.\n",
      "W[K_AUG]...\t[K_AUG_ASL]This problem has no degrees of freedom\n",
      "Pass the option square_override for the desired behaviour\n",
      "[K_AUG] written by D.T. @2018\n",
      "\n",
      ": dsdp_mode=\n",
      "dsdp_mode=\n",
      "W[K_AUG_ASL]...\t[K_AUG_ASL]No ipopt_zL_out suffix declared, setting zL = 0.\n",
      "W[K_AUG_ASL]...\t[K_AUG_ASL]No ipopt_zU_out suffix declared, setting zU = 0.\n",
      "W[K_AUG]...\t[K_AUG_ASL]No f_timestamp suffix declared, Fallback to default writing mode.\n",
      "I[K_AUG]...\t[K_AUG_ASL] Filename for dot_sens dsdp_in_.in\n",
      "W[K_AUG]...\t[K_AUG_ASL]dsdp for linear C(x) + I*p = 0 override.\n",
      "objpval: got NOBJ = 0; expected 0 <= NOBJ < 0\n",
      "I[K_AUG]...\t[K_AUG_ASL]File read succesfull\n",
      "I[K_AUG]...\t[K_AUG_ASL]Number of Right hand sides 0\n",
      "I[K_AUG]...\t[K_AUG_ASL]Number of Right hand sides: 0\n",
      "I[K_AUG]...\t[K_AUG_ASL]Number of variables       : 873\n",
      "I[K_AUG]...\t[K_AUG_ASL]Number of constraints     : 873\n",
      "I[K_AUG]...\t[K_AUG_ASL]Number of valid n_dof     : 0\n",
      "I[K_AUG]...\t[ADJUST_MU]\tWarning no relevant info from the problem can predict logmu\n",
      "I[K_AUG]...\t[FIND_INEQUALITIES]summary: eq: 873, leq: 0, geq: 0 \n",
      "I[K_AUG]...\t[K_AUG_ASL]Nonzeroes in the sparse Jacobian 3371\n",
      "I[K_AUG]...\t[GET_HESS_ASL]No objective declared\n",
      "I[K_AUG]...\t[GET_HESS_ASL]Nonzeroes in the sparse hessian 677\n",
      "ERROR: Solver (asl) returned non-zero return code (1)\n",
      "ERROR: See the solver log above for diagnostic information.\n"
     ]
    },
    {
     "ename": "ApplicationError",
     "evalue": "Solver (asl) did not exit normally",
     "output_type": "error",
     "traceback": [
      "\u001b[0;31m---------------------------------------------------------------------------\u001b[0m",
      "\u001b[0;31mApplicationError\u001b[0m                          Traceback (most recent call last)",
      "\u001b[0;32m/var/folders/cn/dbk7vfw51_g_gb8jqhz4j3ph0000gn/T/ipykernel_24458/2701946122.py\u001b[0m in \u001b[0;36m<module>\u001b[0;34m\u001b[0m\n\u001b[1;32m      5\u001b[0m \u001b[0;34m\u001b[0m\u001b[0m\n\u001b[1;32m      6\u001b[0m \u001b[0mif_s\u001b[0m \u001b[0;34m=\u001b[0m \u001b[0;32mTrue\u001b[0m\u001b[0;34m\u001b[0m\u001b[0;34m\u001b[0m\u001b[0m\n\u001b[0;32m----> 7\u001b[0;31m \u001b[0mresult\u001b[0m \u001b[0;34m=\u001b[0m \u001b[0mdoe_object\u001b[0m\u001b[0;34m.\u001b[0m\u001b[0mcompute_FIM\u001b[0m\u001b[0;34m(\u001b[0m\u001b[0mexp1\u001b[0m\u001b[0;34m,\u001b[0m\u001b[0mmode\u001b[0m\u001b[0;34m=\u001b[0m\u001b[0msensi_opt\u001b[0m\u001b[0;34m,\u001b[0m \u001b[0mFIM_store_name\u001b[0m \u001b[0;34m=\u001b[0m \u001b[0;34m'dynamic.csv'\u001b[0m\u001b[0;34m,\u001b[0m \u001b[0mscale_nominal_param_value\u001b[0m\u001b[0;34m=\u001b[0m\u001b[0mif_s\u001b[0m\u001b[0;34m,\u001b[0m \u001b[0mformula\u001b[0m\u001b[0;34m=\u001b[0m\u001b[0;34m'central'\u001b[0m\u001b[0;34m)\u001b[0m\u001b[0;34m\u001b[0m\u001b[0;34m\u001b[0m\u001b[0m\n\u001b[0m\u001b[1;32m      8\u001b[0m \u001b[0;34m\u001b[0m\u001b[0m\n\u001b[1;32m      9\u001b[0m \u001b[0;34m\u001b[0m\u001b[0m\n",
      "\u001b[0;32m~/pyomo/pyomo/contrib/doe/DoE_package.py\u001b[0m in \u001b[0;36mcompute_FIM\u001b[0;34m(self, design_values, mode, FIM_store_name, specified_prior, tee_opt, scale_nominal_param_value, scale_constant_value, formula, step, if_Cho, L_LB, L_initial)\u001b[0m\n\u001b[1;32m    385\u001b[0m                 \u001b[0;31m# TODO: add k_aug solver\u001b[0m\u001b[0;34m\u001b[0m\u001b[0;34m\u001b[0m\u001b[0;34m\u001b[0m\u001b[0m\n\u001b[1;32m    386\u001b[0m                 \u001b[0;32melse\u001b[0m\u001b[0;34m:\u001b[0m\u001b[0;34m\u001b[0m\u001b[0;34m\u001b[0m\u001b[0m\n\u001b[0;32m--> 387\u001b[0;31m                     \u001b[0mm_sipopt\u001b[0m \u001b[0;34m=\u001b[0m \u001b[0msensitivity_calculation\u001b[0m\u001b[0;34m(\u001b[0m\u001b[0;34m'k_aug'\u001b[0m\u001b[0;34m,\u001b[0m \u001b[0mmod\u001b[0m\u001b[0;34m,\u001b[0m \u001b[0mlist_original\u001b[0m\u001b[0;34m,\u001b[0m \u001b[0mlist_perturb\u001b[0m\u001b[0;34m,\u001b[0m \u001b[0mtee\u001b[0m\u001b[0;34m=\u001b[0m\u001b[0;32mTrue\u001b[0m\u001b[0;34m)\u001b[0m\u001b[0;34m\u001b[0m\u001b[0;34m\u001b[0m\u001b[0m\n\u001b[0m\u001b[1;32m    388\u001b[0m \u001b[0;34m\u001b[0m\u001b[0m\n\u001b[1;32m    389\u001b[0m                 \u001b[0;31m# extract sipopt result\u001b[0m\u001b[0;34m\u001b[0m\u001b[0;34m\u001b[0m\u001b[0;34m\u001b[0m\u001b[0m\n",
      "\u001b[0;32m~/pyomo/pyomo/contrib/sensitivity_toolbox/sens.py\u001b[0m in \u001b[0;36msensitivity_calculation\u001b[0;34m(method, instance, paramList, perturbList, cloneModel, tee, keepfiles, solver_options)\u001b[0m\n\u001b[1;32m    163\u001b[0m \u001b[0;34m\u001b[0m\u001b[0m\n\u001b[1;32m    164\u001b[0m         \u001b[0mk_aug\u001b[0m\u001b[0;34m.\u001b[0m\u001b[0moptions\u001b[0m\u001b[0;34m[\u001b[0m\u001b[0;34m'dsdp_mode'\u001b[0m\u001b[0;34m]\u001b[0m \u001b[0;34m=\u001b[0m \u001b[0;34m\"\"\u001b[0m  \u001b[0;31m#: sensitivity mode!\u001b[0m\u001b[0;34m\u001b[0m\u001b[0;34m\u001b[0m\u001b[0m\n\u001b[0;32m--> 165\u001b[0;31m         \u001b[0mk_aug_interface\u001b[0m\u001b[0;34m.\u001b[0m\u001b[0mk_aug\u001b[0m\u001b[0;34m(\u001b[0m\u001b[0mm\u001b[0m\u001b[0;34m,\u001b[0m \u001b[0mtee\u001b[0m\u001b[0;34m=\u001b[0m\u001b[0mtee\u001b[0m\u001b[0;34m)\u001b[0m\u001b[0;34m\u001b[0m\u001b[0;34m\u001b[0m\u001b[0m\n\u001b[0m\u001b[1;32m    166\u001b[0m \u001b[0;34m\u001b[0m\u001b[0m\n\u001b[1;32m    167\u001b[0m     \u001b[0msens\u001b[0m\u001b[0;34m.\u001b[0m\u001b[0mperturb_parameters\u001b[0m\u001b[0;34m(\u001b[0m\u001b[0mperturbList\u001b[0m\u001b[0;34m)\u001b[0m\u001b[0;34m\u001b[0m\u001b[0;34m\u001b[0m\u001b[0m\n",
      "\u001b[0;32m~/pyomo/pyomo/contrib/sensitivity_toolbox/k_aug.py\u001b[0m in \u001b[0;36mk_aug\u001b[0;34m(self, model, **kwargs)\u001b[0m\n\u001b[1;32m    103\u001b[0m \u001b[0;34m\u001b[0m\u001b[0m\n\u001b[1;32m    104\u001b[0m             \u001b[0;31m# Call k_aug\u001b[0m\u001b[0;34m\u001b[0m\u001b[0;34m\u001b[0m\u001b[0;34m\u001b[0m\u001b[0m\n\u001b[0;32m--> 105\u001b[0;31m             \u001b[0mresults\u001b[0m \u001b[0;34m=\u001b[0m \u001b[0mself\u001b[0m\u001b[0;34m.\u001b[0m\u001b[0m_k_aug\u001b[0m\u001b[0;34m.\u001b[0m\u001b[0msolve\u001b[0m\u001b[0;34m(\u001b[0m\u001b[0mmodel\u001b[0m\u001b[0;34m,\u001b[0m \u001b[0;34m**\u001b[0m\u001b[0mkwargs\u001b[0m\u001b[0;34m)\u001b[0m\u001b[0;34m\u001b[0m\u001b[0;34m\u001b[0m\u001b[0m\n\u001b[0m\u001b[1;32m    106\u001b[0m \u001b[0;34m\u001b[0m\u001b[0m\n\u001b[1;32m    107\u001b[0m             \u001b[0;31m# Read any files we expect as output\u001b[0m\u001b[0;34m\u001b[0m\u001b[0;34m\u001b[0m\u001b[0;34m\u001b[0m\u001b[0m\n",
      "\u001b[0;32m~/pyomo/pyomo/opt/base/solvers.py\u001b[0m in \u001b[0;36msolve\u001b[0;34m(self, *args, **kwds)\u001b[0m\n\u001b[1;32m    593\u001b[0m                 \u001b[0;32melif\u001b[0m \u001b[0mhasattr\u001b[0m\u001b[0;34m(\u001b[0m\u001b[0m_status\u001b[0m\u001b[0;34m,\u001b[0m \u001b[0;34m'log'\u001b[0m\u001b[0;34m)\u001b[0m \u001b[0;32mand\u001b[0m \u001b[0m_status\u001b[0m\u001b[0;34m.\u001b[0m\u001b[0mlog\u001b[0m\u001b[0;34m:\u001b[0m\u001b[0;34m\u001b[0m\u001b[0;34m\u001b[0m\u001b[0m\n\u001b[1;32m    594\u001b[0m                     \u001b[0mlogger\u001b[0m\u001b[0;34m.\u001b[0m\u001b[0merror\u001b[0m\u001b[0;34m(\u001b[0m\u001b[0;34m\"Solver log:\\n\"\u001b[0m \u001b[0;34m+\u001b[0m \u001b[0mstr\u001b[0m\u001b[0;34m(\u001b[0m\u001b[0m_status\u001b[0m\u001b[0;34m.\u001b[0m\u001b[0mlog\u001b[0m\u001b[0;34m)\u001b[0m\u001b[0;34m)\u001b[0m\u001b[0;34m\u001b[0m\u001b[0;34m\u001b[0m\u001b[0m\n\u001b[0;32m--> 595\u001b[0;31m                 raise ApplicationError(\n\u001b[0m\u001b[1;32m    596\u001b[0m                     \"Solver (%s) did not exit normally\" % self.name)\n\u001b[1;32m    597\u001b[0m             \u001b[0msolve_completion_time\u001b[0m \u001b[0;34m=\u001b[0m \u001b[0mtime\u001b[0m\u001b[0;34m.\u001b[0m\u001b[0mtime\u001b[0m\u001b[0;34m(\u001b[0m\u001b[0;34m)\u001b[0m\u001b[0;34m\u001b[0m\u001b[0;34m\u001b[0m\u001b[0m\n",
      "\u001b[0;31mApplicationError\u001b[0m: Solver (asl) did not exit normally"
     ]
    }
   ],
   "source": [
    "doe_object = DesignOfExperiments(parameter_dict, dv_pass,\n",
    "                                 ['CA','CB','CC'], t_measure, createmod,\n",
    "                                prior_FIM=prior_pass, discretize_model=disc)\n",
    "\n",
    "\n",
    "if_s = True\n",
    "result = doe_object.compute_FIM(exp1,mode=sensi_opt, FIM_store_name = 'dynamic.csv', scale_nominal_param_value=if_s, formula='central')\n",
    "\n",
    "\n",
    "if sensi_opt == 'simultaneous_finite':\n",
    "    result.extract_FIM(doe_object.m, doe_object.design_timeset,\n",
    "                                                          doe_object.square_result, doe_object.obj_opt)\n",
    "else:\n",
    "    result.calculate_FIM(doe_object.jac, doe_object.design_values)"
   ]
  },
  {
   "cell_type": "code",
   "execution_count": 8,
   "id": "64fc6da4",
   "metadata": {},
   "outputs": [
    {
     "name": "stdout",
     "output_type": "stream",
     "text": [
      "======Result summary======\n",
      "Four design criteria log10() value:\n",
      "A-optimality: 3.081947372129281\n",
      "D-optimality: 5.748775852289656\n",
      "E-optimality: -0.042112750113627556\n",
      "Modified E-optimality: 3.0071920935090257\n"
     ]
    }
   ],
   "source": [
    "print('======Result summary======')\n",
    "print('Four design criteria log10() value:')\n",
    "print('A-optimality:', np.log10(result.trace))\n",
    "print('D-optimality:', np.log10(result.det))\n",
    "print('E-optimality:', np.log10(result.min_eig))\n",
    "print('Modified E-optimality:', np.log10(result.cond))"
   ]
  },
  {
   "cell_type": "markdown",
   "id": "7dfe1ef2",
   "metadata": {},
   "source": [
    "### Run sequential DOE automatically\n",
    "\n",
    "This method runs a series of experiments in a row."
   ]
  },
  {
   "cell_type": "code",
   "execution_count": null,
   "id": "5273a9af",
   "metadata": {},
   "outputs": [],
   "source": [
    "exp1 = generate_exp(t_control, 5, [300])\n",
    "exp2 = generate_exp(t_control, 5, [500.92])\n",
    "exp3 = generate_exp(t_control, 5, [528])\n",
    "exp4 = generate_exp(t_control, 5, [546.8])\n",
    "exp5 = generate_exp(t_control, 5, [562])"
   ]
  },
  {
   "cell_type": "code",
   "execution_count": null,
   "id": "940683df",
   "metadata": {},
   "outputs": [],
   "source": [
    "\n",
    "exp_all = [exp1, exp2, exp3, exp4, exp5]\n",
    "\n",
    "\n",
    "doe_object = DesignOfExperiments(parameter_dict, dv_pass,\n",
    "                                 ['CA','CB','CC'], t_measure, createmod,\n",
    "                                prior_FIM=prior_pass, discretize_model=disc)\n",
    "\n",
    "# choose from 'simultaneous', 'sequential', 'sipopt'\n",
    "#sensi_opt = 'simultaneous_finite'\n",
    "sensi_opt = 'sequential_finite'\n",
    "#sensi_opt = 'sequential_sipopt'\n",
    "if_s = True\n",
    "result = doe_object.sequential_exp(exp_all, mode=sensi_opt, tee_option=True,\n",
    "                                    scale_nominal_param_value=if_s, formula='central')"
   ]
  },
  {
   "cell_type": "code",
   "execution_count": null,
   "id": "4939f5c1",
   "metadata": {},
   "outputs": [],
   "source": [
    "print('=======Result summary=======')\n",
    "for i in range(len(exp_all)):\n",
    "    print('The ', i+1,'th experiment has optimality log10() values:')\n",
    "    print('A-optimality:', np.log10(result[0][i].trace))\n",
    "    print('D-optimality:', np.log10(result[0][i].det))\n",
    "    print('E-optimality:', np.log10(result[0][i].min_eig))\n",
    "    print('Modified E-optimality:', np.log10(result[0][i].cond))"
   ]
  },
  {
   "cell_type": "markdown",
   "id": "b0757b02",
   "metadata": {},
   "source": [
    "### Run 1D analysis\n",
    "\n",
    "Run 1D sensitivity analysis with one changing design variable\n",
    "\n",
    "Note: this method can only deal with constant T problems"
   ]
  },
  {
   "cell_type": "code",
   "execution_count": null,
   "id": "270e807a",
   "metadata": {},
   "outputs": [],
   "source": [
    "# Define experiments\n",
    "if (model_opt=='dynamic-DAE'):\n",
    "    exp1 = generate_exp(t_control, 5, [570.21, 300, 300, 300, 300, 300, 300, 300, 300])\n",
    "else: \n",
    "    exp1 = generate_exp(t_control, 5, [500])\n"
   ]
  },
  {
   "cell_type": "code",
   "execution_count": null,
   "id": "5fb1c31e",
   "metadata": {
    "scrolled": true
   },
   "outputs": [],
   "source": [
    "doe_object = DesignOfExperiments(parameter_dict, dv_pass,\n",
    "                                 ['CA','CB','CC'], t_measure, createmod,\n",
    "                                prior_FIM=prior_pass, discretize_model=disc)\n",
    "\n",
    "# choose from 'simultaneous', 'sequential', 'sipopt'\n",
    "#sensi_opt = 'simultaneous_finite'\n",
    "#sensi_opt = 'sequential_finite'\n",
    "sensi_opt = 'sequential_sipopt'\n",
    "if_s = True\n",
    "result = doe_object.sensitivity_analysis_1D(exp1, {'T':[688,690]}, sensitivity_step=0.4, compare_opt='ME',\n",
    "                                            mode=sensi_opt, tee_option=False,\n",
    "                                    scale_nominal_param_value=if_s, formula='central')"
   ]
  },
  {
   "cell_type": "code",
   "execution_count": null,
   "id": "574f1669",
   "metadata": {},
   "outputs": [],
   "source": [
    "vary_range = list(result.keys())\n",
    "result_list = list(result.values())\n",
    "\n",
    "index_max = result_list.index(max(result_list))\n",
    "index_min = result_list.index(min(result_list))\n",
    "\n",
    "print('=======Result summary=======')\n",
    "print('The biggest criterion value is:', max(result_list), ' at:', vary_range[index_max])\n",
    "print('The smallest criterion value is:', min(result_list), ' at:', vary_range[index_min])\n",
    "\n",
    "plt.plot(vary_range, result_list)\n",
    "plt.xlabel('T [K]')\n",
    "plt.ylabel('Design criteria')"
   ]
  },
  {
   "cell_type": "markdown",
   "id": "hindu-bathroom",
   "metadata": {},
   "source": [
    "## Optimization"
   ]
  },
  {
   "cell_type": "code",
   "execution_count": null,
   "id": "wicked-raising",
   "metadata": {
    "scrolled": true
   },
   "outputs": [],
   "source": [
    "doe_object = DesignOfExperiments(parameter_dict, dv_pass, \n",
    "                                 ['CA','CB','CC'], t_measure, createmod,\n",
    "                                 prior_FIM=prior_pass, discretize_model=disc)\n",
    "\n",
    "square_result, optimize_result = doe_object.optimize_doe(exp1, if_optimize=True, if_cho=True, scale_nominal_param_value=True, obj_opt='det', L_initial=None)\n"
   ]
  },
  {
   "cell_type": "code",
   "execution_count": null,
   "id": "c6b08c05",
   "metadata": {},
   "outputs": [],
   "source": [
    "print('======Result summary======')\n",
    "print('This optimization is solved with status:', optimize_result.status)\n",
    "print('It gives solution:', optimize_result.solution)\n",
    "print('The log10(OF) optimized is:', optimize_result.obj_value)\n",
    "print('The result FIM is:', optimize_result.FIM)"
   ]
  },
  {
   "cell_type": "markdown",
   "id": "skilled-booking",
   "metadata": {},
   "source": [
    "## heatmap "
   ]
  },
  {
   "cell_type": "code",
   "execution_count": null,
   "id": "flush-diameter",
   "metadata": {},
   "outputs": [],
   "source": [
    "design_ranges = {'CA0':list(np.linspace(1,5,9)),  'T': list(np.linspace(300,700,9))}\n",
    "\n",
    "dv_apply_time = {'CA0': [0], 'T': t_control}\n",
    "\n",
    "# Define experiments\n",
    "if (model_opt=='dynamic-DAE'):\n",
    "    exp1 = generate_exp(t_control, 5, [570.21, 300, 300, 300, 300, 300, 300, 300, 300])\n",
    "else: \n",
    "    exp1 = generate_exp(t_control, 5, [500])"
   ]
  },
  {
   "cell_type": "code",
   "execution_count": null,
   "id": "separate-leone",
   "metadata": {
    "scrolled": true
   },
   "outputs": [],
   "source": [
    "doe_object = DesignOfExperiments(parameter_dict, dv_pass, \n",
    "                                 ['CA','CB','CC'], t_measure, createmod,\n",
    "                                 prior_FIM=prior_pass, discretize_model=disc)\n",
    "\n",
    "all_fim = doe_object.run_grid_search(exp1, design_ranges, dv_apply_time, \n",
    "                                     mode='sequential_finite', \n",
    "                                    scale_nominal_param_value=True\n",
    "                                    )"
   ]
  },
  {
   "cell_type": "code",
   "execution_count": null,
   "id": "76003ddb",
   "metadata": {},
   "outputs": [],
   "source": [
    "heatmap = Grid_Search_Result(design_ranges, all_fim, store_optimality_name='test_heatmap.csv')\n",
    "\n",
    "heatmap.heatmap('Reactor case', '$C_{A0}$ [M]', 'T [K]')"
   ]
  }
 ],
 "metadata": {
  "kernelspec": {
   "display_name": "Python 3 (ipykernel)",
   "language": "python",
   "name": "python3"
  },
  "language_info": {
   "codemirror_mode": {
    "name": "ipython",
    "version": 3
   },
   "file_extension": ".py",
   "mimetype": "text/x-python",
   "name": "python",
   "nbconvert_exporter": "python",
   "pygments_lexer": "ipython3",
   "version": "3.9.6"
  }
 },
 "nbformat": 4,
 "nbformat_minor": 5
}
