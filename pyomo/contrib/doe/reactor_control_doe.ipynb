{
 "cells": [
  {
   "cell_type": "markdown",
   "id": "opposite-garage",
   "metadata": {},
   "source": [
    "# Reactor Kinetics Example \n",
    "\n",
    "Jialu Wang (jwang44@nd.edu) and Alex Dowling (adowling@nd.edu)\n",
    "\n",
    "University of Notre Dame\n",
    "\n",
    "This notebook conducts design of experiments for a reactor kinetics experiment with the Pyomo.DOE.\n",
    "    "
   ]
  },
  {
   "cell_type": "code",
   "execution_count": 1,
   "id": "worth-origin",
   "metadata": {},
   "outputs": [
    {
     "name": "stdout",
     "output_type": "stream",
     "text": [
      "WARNING: DEPRECATED: the 'sorted_robust' function has been moved to\n",
      "    'pyomo.common.sorting.sorted_robust'.  Please update your import.\n",
      "    (deprecated in 6.1) (called from <frozen importlib._bootstrap>:228)\n"
     ]
    }
   ],
   "source": [
    "import matplotlib.pyplot as plt\n",
    "from pyomo.environ import *\n",
    "from pyomo.dae import *\n",
    "\n",
    "import numpy as np\n",
    "from scipy.interpolate import interp2d\n",
    "import pandas as pd \n",
    "from itertools import permutations, product, combinations\n",
    "\n",
    "from fim_doe import *\n",
    "from pyomo.contrib.sensitivity_toolbox.sens import sipopt\n",
    "from idaes.apps.uncertainty_propagation.sens import get_dsdp"
   ]
  },
  {
   "cell_type": "markdown",
   "id": "graphic-controversy",
   "metadata": {},
   "source": [
    "## Define Reaction Example Mathematical Model"
   ]
  },
  {
   "cell_type": "markdown",
   "id": "disturbed-prediction",
   "metadata": {},
   "source": [
    "Consider two chemical reactions that converts molecule $A$ to desired product $B$ and a less valuable side-product $C$.\n",
    "\n",
    "$A \\overset{k_1}{\\rightarrow} B \\overset{k_2}{\\rightarrow} C$\n",
    "\n",
    "Our ultimate goals is to design a large-scale continous reactor that maximizes the production of $B$. This general sequential reactions problem is widely applicable to CO$_2$ capture and industry more broadly (petrochemicals, pharmasuticals, etc.).\n",
    "\n",
    "The rate laws for these two chemical reactions are:\n",
    "\n",
    "$r_A = -k_1 C_A$\n",
    "\n",
    "$r_B = k_1 C_A - k_2 C_B$\n",
    "\n",
    "$r_C = k_2 C_B$\n",
    "\n",
    "Here, $C_A$, $C_B$, and $C_C$ are the concentrations of each species. The rate constants $k_1$ and $k_2$ depend on temperature as follows:\n",
    "\n",
    "$k_1 = A_1 \\exp{\\frac{-E_1}{R T}}$\n",
    "\n",
    "$k_2 = A_2 \\exp{\\frac{-E_2}{R T}}$\n",
    "\n",
    "$A_1, A_2, E_1$, and $E_2$ are fitted model parameters. $R$ is the ideal-gas constant and $T$ is absolute temperature.\n",
    "\n",
    "Using the **CCSI$^2$ toolset**, we would like do the following perform:\n",
    "\n",
    "Perform **uncertainty quantification** and **design of experiments** on a small-scale **batch reactor** to infer parameters $A_1$, $A_2$, $E_1$, and $E_2$."
   ]
  },
  {
   "cell_type": "markdown",
   "id": "sweet-niger",
   "metadata": {},
   "source": [
    "### Batch reactor\n",
    "\n",
    "The concenrations in a batch reactor evolve with time per the following differential equations:\n",
    "\n",
    "$$ \\frac{d C_A}{dt} = r_A = -k_1 C_A $$\n",
    "\n",
    "$$ \\frac{d C_B}{dt} = r_B = k_1 C_A - k_2 C_B $$\n",
    "\n",
    "$$ \\frac{d C_C}{dt} = r_C = k_2 C_B $$\n",
    "\n",
    "This is a linear system of differential equations. Assuming the feed is only species $A$, i.e., \n",
    "\n",
    "$$C_A(t=0) = C_{A0} \\quad C_B(t=0) = 0 \\quad C_C(t=0) = 0$$\n",
    "\n",
    "When the temperature is constant, it leads to the following analytic solution:\n",
    "\n",
    "$$C_A(t) = C_{A,0} \\exp(-k_1 t)$$\n",
    "\n",
    "$$C_B(t) = \\frac{k_1}{k_2 - k_1} C_{A,0} \\left[\\exp(-k_1 t) - \\exp(-k_2 t) \\right]$$\n",
    "\n",
    "$$C_C(t) = C_{A,0} - \\frac{k_2}{k_2 - k_1} C_{A,0} \\exp(-k_1 t) + \\frac{k_1}{k_2 - k_1} \\exp(-k_2 t) C_{A,0} = C_{A,0} - C_{A}(t) - C_{B}(t)$$"
   ]
  },
  {
   "cell_type": "code",
   "execution_count": 2,
   "id": "eligible-robert",
   "metadata": {},
   "outputs": [],
   "source": [
    "from reactor_models import *"
   ]
  },
  {
   "cell_type": "markdown",
   "id": "6f7434dc",
   "metadata": {},
   "source": [
    "Three versions of this model is accomplished: \n",
    "\n",
    "Dynamic-DAE model: Temperature varying model discretized and integrated by Pyomo.DAE\n",
    "\n",
    "Constant-DAE model: Temperature constant model discretized and integrated by Pyomo.DAE\n",
    "\n",
    "Constant-analytical model: Temperature constant model discretized manually and using the analytical expressions for state variables."
   ]
  },
  {
   "cell_type": "code",
   "execution_count": 3,
   "id": "d576e9c4",
   "metadata": {},
   "outputs": [],
   "source": [
    "# choose model from 'dynamic-DAE', 'constant-DAE', 'constant-analytical'\n",
    "#model_opt = 'dynamic-DAE'\n",
    "#model_opt = 'constant-DAE'\n",
    "model_opt = 'constant-analytical'\n",
    "\n",
    "if (model_opt=='dynamic-DAE'):\n",
    "    createmod = create_model_dae\n",
    "    disc = discretizer\n",
    "    t_control = [0, 0.125, 0.25, 0.375, 0.5, 0.625, 0.75, 0.875, 1]\n",
    "    \n",
    "elif (model_opt=='constant-DAE'):\n",
    "    createmod = create_model_dae_const\n",
    "    disc = discretizer\n",
    "    t_control = [0]\n",
    "    \n",
    "elif (model_opt=='constant-analytical'):\n",
    "    createmod = create_model_alge\n",
    "    disc = None\n",
    "    t_control = [0]\n",
    "\n",
    "    \n",
    "# design variable and its control time set\n",
    "dv_pass = {'CA0': [0],'T': t_control}\n",
    "    \n",
    "# Define measurement time points\n",
    "t_measure = [0, 0.125, 0.25, 0.375, 0.5, 0.625, 0.75, 0.875, 1]"
   ]
  },
  {
   "cell_type": "code",
   "execution_count": 4,
   "id": "47137cb2",
   "metadata": {},
   "outputs": [],
   "source": [
    "# Define parameter nominal value \n",
    "parameter_dict = {'A1': 84.79085853498033, 'A2': 371.71773413976416, 'E1': 7.777032028026428, 'E2': 15.047135137500822}\n",
    "\n",
    "def generate_exp(t_set, CA0, T):  \n",
    "    '''Generate experiments. \n",
    "    t_set: time control set for T.\n",
    "    CA0: CA0 value\n",
    "    T: A list of T \n",
    "    '''\n",
    "    assert(len(t_set)==len(T)), 'T should have the same length as t_set'\n",
    "    \n",
    "    T_con_initial = {}\n",
    "    for t, tim in enumerate(t_set):\n",
    "        T_con_initial[tim] = T[t]\n",
    "        \n",
    "    dv_dict_overall = {'CA0': {0: CA0},'T': T_con_initial}\n",
    "    return dv_dict_overall"
   ]
  },
  {
   "cell_type": "code",
   "execution_count": 5,
   "id": "written-tours",
   "metadata": {},
   "outputs": [
    {
     "name": "stdout",
     "output_type": "stream",
     "text": [
      "The prior information FIM: [[0. 0. 0. 0.]\n",
      " [0. 0. 0. 0.]\n",
      " [0. 0. 0. 0.]\n",
      " [0. 0. 0. 0.]]\n",
      "Prior Det: 0.0\n",
      "Eigenvalue of the prior experiments FIM: [0. 0. 0. 0.]\n",
      "Eigenvalue of the prior experiments FIM: [[1. 0. 0. 0.]\n",
      " [0. 1. 0. 0.]\n",
      " [0. 0. 1. 0.]\n",
      " [0. 0. 0. 1.]]\n"
     ]
    }
   ],
   "source": [
    "# empty prior\n",
    "prior_all = np.zeros((4,4))\n",
    "\n",
    "\n",
    "# add prior information\n",
    "#prior_5_300 = pd.read_csv('fim_5_300_scale.csv')\n",
    "#prior_5_300_500 = pd.read_csv('fim_5_300_500_scale.csv')\n",
    "\n",
    "#prior_all = prior_5_300_500\n",
    "\n",
    "\n",
    "prior_pass=np.asarray(prior_all)\n",
    "\n",
    "#L_initials = np.linalg.cholesky(prior_pass)\n",
    "#print(L_initials)\n",
    "\n",
    "print('The prior information FIM:', prior_pass)\n",
    "print('Prior Det:', np.linalg.det(prior_pass))\n",
    "print('Eigenvalue of the prior experiments FIM:', np.linalg.eigvals(prior_pass))\n",
    "print('Eigenvalue of the prior experiments FIM:', np.linalg.eigh(prior_pass)[1])"
   ]
  },
  {
   "cell_type": "markdown",
   "id": "destroyed-african",
   "metadata": {},
   "source": [
    "## Compute FIM \n",
    "\n",
    "This method computes an MBDoE optimization problem with no Degree of Freedom."
   ]
  },
  {
   "cell_type": "code",
   "execution_count": 6,
   "id": "d3ee5ff9",
   "metadata": {},
   "outputs": [
    {
     "name": "stdout",
     "output_type": "stream",
     "text": [
      "Design variable: {'CA0': {0: 5}, 'T': {0: 300}}\n"
     ]
    }
   ],
   "source": [
    "# choose from 'simultaneous', 'sequential', 'sipopt'\n",
    "#sensi_opt = 'simultaneous_finite'\n",
    "#sensi_opt = 'sequential_finite'\n",
    "#sensi_opt = 'sequential_sipopt'\n",
    "#sensi_opt = 'sequential_kaug'\n",
    "sensi_opt = 'direct_kaug'\n",
    "\n",
    "# Define experiments\n",
    "if (model_opt=='dynamic-DAE'):\n",
    "    exp1 = generate_exp(t_control, 5, [570.21, 300, 300, 300, 300, 300, 300, 300, 300])\n",
    "else: \n",
    "    exp1 = generate_exp(t_control, 5, [300])\n",
    "\n",
    "print('Design variable:', exp1)"
   ]
  },
  {
   "cell_type": "code",
   "execution_count": 7,
   "id": "latin-medicare",
   "metadata": {
    "scrolled": true
   },
   "outputs": [
    {
     "name": "stdout",
     "output_type": "stream",
     "text": [
      "Sensitivity information is scaled by its corresponding parameter nominal value.\n",
      "===In construction===\n",
      "Build time with direct kaug mode [s]: 0.024827003479003906\n",
      "Solve time with direct kaug mode [s]: 0.48801469802856445\n",
      "Existed information has been added.\n",
      "Warning: FIM is near singular.\n",
      "The condition number is: 2.454288102377553e+16 ;\n",
      "A condition number bigger than  1000000000000.0  is considered near singular.\n",
      "FIM: [[  22.52759895    1.84060691  -70.23819683  -11.10348807]\n",
      " [   1.84060691   18.09827674   -5.73877895 -109.17811864]\n",
      " [ -70.23819683   -5.73877895  218.99379088   34.61926777]\n",
      " [ -11.10348807 -109.17811864   34.61926777  658.61859457]]\n",
      "Trace: 918.238261141418\n",
      "Determinant: -1.3821910055973166e-23\n",
      "Condition number: -3.7111797198701016e+16\n",
      "Minimal eigen value: -1.8318042586844384e-14\n",
      "Eigen values: [ 2.84217094e-14  2.38422780e+02  6.79815482e+02 -1.83180426e-14]\n",
      "Eigen vectors: [[-9.52221759e-01  3.04333589e-01 -2.55888375e-02  1.22647229e-01]\n",
      " [ 2.12671219e-17 -1.37020647e-02 -1.62961624e-01  9.78319842e-01]\n",
      " [-3.05407469e-01 -9.48873538e-01  7.97827504e-02  3.93368241e-02]\n",
      " [-3.07883750e-17  8.26579051e-02  9.83068377e-01  1.62174467e-01]]\n"
     ]
    }
   ],
   "source": [
    "doe_object = DesignOfExperiments(parameter_dict, dv_pass,\n",
    "                                 ['CA','CB','CC'], t_measure, createmod,\n",
    "                                prior_FIM=prior_pass, discretize_model=disc)\n",
    "\n",
    "\n",
    "if_s = True\n",
    "\n",
    "result = doe_object.compute_FIM(exp1,mode=sensi_opt, FIM_store_name = 'dynamic.csv', \n",
    "                                scale_nominal_param_value=if_s, formula='central')\n",
    "\n",
    "\n",
    "if sensi_opt == 'simultaneous_finite':\n",
    "    result.extract_FIM(doe_object.m, doe_object.design_timeset,\n",
    "                                                          doe_object.square_result, doe_object.obj_opt)\n",
    "else: \n",
    "    result.calculate_FIM(doe_object.jac, doe_object.design_values)\n"
   ]
  },
  {
   "cell_type": "code",
   "execution_count": 8,
   "id": "45846b75",
   "metadata": {
    "scrolled": true
   },
   "outputs": [
    {
     "name": "stdout",
     "output_type": "stream",
     "text": [
      "{'A1': [0.0, -1.4671165590890227, -1.8357152068365623, -1.7226904875421667, -1.4369997189668675, -1.1237698787397774, -0.8436636241097656, -0.6157817376807218, -0.44028049167005656, 0.0, 1.3746483033503578, 1.5721378167552424, 1.2968075938896904, 0.8889609592193409, 0.49889409031680354, 0.18162403480088252, -0.05269672983821703, -0.21277443759229744, 0.0, 0.09246825573866527, 0.2635773900813198, 0.4258828936524762, 0.5480387597475265, 0.6248757884229738, 0.6620395893088831, 0.6684784675189387, 0.653054929262354], 'A2': [0.0, 0.0, 0.0, 0.0, 0.0, 0.0, 0.0, 0.0, 0.0, 0.0, -0.10415985261133202, -0.3342194585587312, -0.6070924397057353, -0.8765488288347111, -1.1186035628981108, -1.3224828123370902, -1.4850662682437636, -1.607492092530422, 0.0, 0.10415985261133202, 0.33421945855873125, 0.6070924397057355, 0.8765488288347111, 1.118603562898111, 1.32248281233709, 1.4850662682437632, 1.607492092530422], 'E1': [0.0, 4.574283387428165, 5.7235272294218715, 5.371130487231112, 4.480382899018336, 3.503771977601688, 2.630436195702819, 1.9199293713265593, 1.3727387414300452, 0.0, -4.285979091856397, -4.901726351174476, -4.043281630672642, -2.7716675424576778, -1.5554885092696764, -0.5662807089187382, 0.16430172120776912, 0.6634037146661081, 0.0, -0.28830429557176807, -0.8218008782473937, -1.3278488565584705, -1.708715356560658, -1.9482834683320107, -2.064155486784081, -2.084231092534328, -2.0361424560961523], 'E2': [0.0, 0.0, 0.0, 0.0, 0.0, 0.0, 0.0, 0.0, 0.0, 0.0, 0.6283458314844172, 2.016183762951199, 3.662294005332556, 5.287793606487088, 6.747992323427852, 7.97789687205638, 8.958683943333156, 9.697219515609842, 0.0, -0.6283458314844172, -2.0161837629511994, -3.662294005332556, -5.287793606487088, -6.747992323427853, -7.97789687205638, -8.958683943333153, -9.697219515609842]}\n"
     ]
    }
   ],
   "source": [
    "print(doe_object.jac)"
   ]
  },
  {
   "cell_type": "code",
   "execution_count": 9,
   "id": "64fc6da4",
   "metadata": {},
   "outputs": [
    {
     "name": "stdout",
     "output_type": "stream",
     "text": [
      "======Result summary======\n",
      "Four design criteria log10() value:\n",
      "A-optimality: 2.962955384984559\n",
      "D-optimality: nan\n",
      "E-optimality: nan\n",
      "Modified E-optimality: nan\n"
     ]
    },
    {
     "name": "stderr",
     "output_type": "stream",
     "text": [
      "/var/folders/cn/dbk7vfw51_g_gb8jqhz4j3ph0000gn/T/ipykernel_44838/2909312286.py:4: RuntimeWarning: invalid value encountered in log10\n",
      "  print('D-optimality:', np.log10(result.det))\n",
      "/var/folders/cn/dbk7vfw51_g_gb8jqhz4j3ph0000gn/T/ipykernel_44838/2909312286.py:5: RuntimeWarning: invalid value encountered in log10\n",
      "  print('E-optimality:', np.log10(result.min_eig))\n",
      "/var/folders/cn/dbk7vfw51_g_gb8jqhz4j3ph0000gn/T/ipykernel_44838/2909312286.py:6: RuntimeWarning: invalid value encountered in log10\n",
      "  print('Modified E-optimality:', np.log10(result.cond))\n"
     ]
    }
   ],
   "source": [
    "print('======Result summary======')\n",
    "print('Four design criteria log10() value:')\n",
    "print('A-optimality:', np.log10(result.trace))\n",
    "print('D-optimality:', np.log10(result.det))\n",
    "print('E-optimality:', np.log10(result.min_eig))\n",
    "print('Modified E-optimality:', np.log10(result.cond))"
   ]
  },
  {
   "cell_type": "markdown",
   "id": "7dfe1ef2",
   "metadata": {},
   "source": [
    "### Run sequential DOE automatically\n",
    "\n",
    "This method runs a series of experiments in a row."
   ]
  },
  {
   "cell_type": "code",
   "execution_count": null,
   "id": "5273a9af",
   "metadata": {},
   "outputs": [],
   "source": [
    "# this only works for constant T mode. \n",
    "exp1 = generate_exp(t_control, 5, [300])\n",
    "exp2 = generate_exp(t_control, 5, [500.92])\n",
    "exp3 = generate_exp(t_control, 5, [528])\n",
    "exp4 = generate_exp(t_control, 5, [546.8])\n",
    "exp5 = generate_exp(t_control, 5, [562])"
   ]
  },
  {
   "cell_type": "code",
   "execution_count": null,
   "id": "940683df",
   "metadata": {},
   "outputs": [],
   "source": [
    "\n",
    "exp_all = [exp1, exp2, exp3, exp4, exp5]\n",
    "\n",
    "\n",
    "doe_object = DesignOfExperiments(parameter_dict, dv_pass,\n",
    "                                 ['CA','CB','CC'], t_measure, createmod,\n",
    "                                prior_FIM=prior_pass, discretize_model=disc)\n",
    "\n",
    "# choose from 'simultaneous', 'sequential', 'sipopt'\n",
    "#sensi_opt = 'simultaneous_finite'\n",
    "sensi_opt = 'sequential_finite'\n",
    "#sensi_opt = 'sequential_sipopt'\n",
    "if_s = True\n",
    "result = doe_object.sequential_exp(exp_all, mode=sensi_opt, tee_option=True,\n",
    "                                    scale_nominal_param_value=if_s, formula='central')"
   ]
  },
  {
   "cell_type": "code",
   "execution_count": null,
   "id": "4939f5c1",
   "metadata": {},
   "outputs": [],
   "source": [
    "print('=======Result summary=======')\n",
    "for i in range(len(exp_all)):\n",
    "    print('The ', i+1,'th experiment has optimality log10() values:')\n",
    "    print('A-optimality:', np.log10(result[0][i].trace))\n",
    "    print('D-optimality:', np.log10(result[0][i].det))\n",
    "    print('E-optimality:', np.log10(result[0][i].min_eig))\n",
    "    print('Modified E-optimality:', np.log10(result[0][i].cond))"
   ]
  },
  {
   "cell_type": "markdown",
   "id": "hindu-bathroom",
   "metadata": {},
   "source": [
    "## Optimization"
   ]
  },
  {
   "cell_type": "code",
   "execution_count": null,
   "id": "wicked-raising",
   "metadata": {
    "scrolled": true
   },
   "outputs": [],
   "source": [
    "doe_object = DesignOfExperiments(parameter_dict, dv_pass, \n",
    "                                 ['CA','CB','CC'], t_measure, createmod,\n",
    "                                 prior_FIM=prior_pass, discretize_model=disc)\n",
    "\n",
    "square_result, optimize_result = doe_object.optimize_doe(exp1, if_optimize=True, if_Cholesky=True, \n",
    "                                                         scale_nominal_param_value=True, objective_option='det', \n",
    "                                                         L_initial=None)\n"
   ]
  },
  {
   "cell_type": "code",
   "execution_count": null,
   "id": "c6b08c05",
   "metadata": {},
   "outputs": [],
   "source": [
    "print('======Result summary======')\n",
    "print('This optimization is solved with status:', optimize_result.status)\n",
    "print('It gives solution:', optimize_result.solution)\n",
    "print('The log10(OF) optimized is:', optimize_result.obj_value)\n",
    "print('The result FIM is:', optimize_result.FIM)\n",
    "\n",
    "t_list = []\n",
    "for t in optimize_result.model.t:\n",
    "    t_list.append(t)\n",
    "\n",
    "T_list = []\n",
    "for i in t_list:\n",
    "    T_list.append(value(optimize_result.model.T[i]))\n",
    "\n",
    "si=16\n",
    "plt.rc('axes', titlesize=si)\n",
    "plt.rc('axes', labelsize=si)\n",
    "plt.rc('xtick', labelsize=si)\n",
    "plt.rc('ytick', labelsize=si)\n",
    "plt.rc('legend', fontsize=12)\n",
    "    \n",
    "plt.plot(t_list, T_list, 'b', linewidth=2)\n",
    "#plt.scatter(t_list, T_list, 'b')\n",
    "plt.ylabel('T [$K$]')\n",
    "plt.xlabel('Time [$h$]')\n",
    "plt.show()"
   ]
  },
  {
   "cell_type": "markdown",
   "id": "skilled-booking",
   "metadata": {},
   "source": [
    "## Grid search for 2 design variables"
   ]
  },
  {
   "cell_type": "code",
   "execution_count": null,
   "id": "427c7dc8",
   "metadata": {},
   "outputs": [],
   "source": [
    "design_ranges = [list(np.linspace(1,5,3)), list(np.linspace(300,700,3))]\n",
    "\n",
    "dv_apply_name = ['CA0','T']\n",
    "\n",
    "dv_apply_time = [[0],t_control]\n",
    "\n",
    "# Define experiments\n",
    "if (model_opt=='dynamic-DAE'):\n",
    "    exp1 = generate_exp(t_control, 5, [570.21, 300, 300, 300, 300, 300, 300, 300, 300])\n",
    "else: \n",
    "    exp1 = generate_exp(t_control, 5, [500])"
   ]
  },
  {
   "cell_type": "code",
   "execution_count": null,
   "id": "dcfae212",
   "metadata": {
    "scrolled": true
   },
   "outputs": [],
   "source": [
    "doe_object = DesignOfExperiments(parameter_dict, dv_pass, \n",
    "                                 ['CA','CB','CC'], t_measure, createmod,\n",
    "                                 prior_FIM=prior_pass, discretize_model=disc)\n",
    "\n",
    "all_fim = doe_object.run_grid_search(exp1, design_ranges,dv_apply_name, dv_apply_time, \n",
    "                                     mode='sequential_kaug', \n",
    "                                    scale_nominal_param_value=True\n",
    "                                    )"
   ]
  },
  {
   "cell_type": "markdown",
   "id": "7ac0e0ed",
   "metadata": {},
   "source": [
    "### 1D sensitivity curve"
   ]
  },
  {
   "cell_type": "code",
   "execution_count": null,
   "id": "991969ba",
   "metadata": {},
   "outputs": [],
   "source": [
    "test = all_fim.extract_criteria()\n",
    "\n",
    "## draw 1D sensitivity curve \n",
    "\n",
    "fixed = {\"'CA0'\": 5.0}\n",
    "\n",
    "all_fim.figure_drawing(fixed, ['T'], 'Reactor case','T [K]','$C_{A0}$ [M]' )\n",
    "\n"
   ]
  },
  {
   "cell_type": "markdown",
   "id": "b1b57f39",
   "metadata": {},
   "source": [
    "## Heatmap"
   ]
  },
  {
   "cell_type": "code",
   "execution_count": null,
   "id": "c9fe2868",
   "metadata": {},
   "outputs": [],
   "source": [
    "fixed = {}\n",
    "all_fim.figure_drawing(fixed, ['CA0','T'], 'Reactor case','$C_{A0}$ [M]', 'T [K]' )"
   ]
  },
  {
   "cell_type": "markdown",
   "id": "c583f3c1",
   "metadata": {},
   "source": [
    "## Grid search for 3 design variables"
   ]
  },
  {
   "cell_type": "code",
   "execution_count": null,
   "id": "flush-diameter",
   "metadata": {},
   "outputs": [],
   "source": [
    "\n",
    "#design_ranges = [list(np.linspace(1,5,2)),  list(np.linspace(300,700,2)), [300,500]]\n",
    "design_ranges = [list(np.linspace(1,5,2)),  list(np.linspace(300,700,2)), [300,500]]\n",
    "\n",
    "dv_apply_name = ['CA0', 'T', 'T']\n",
    "dv_apply_time = [[0], [0], [0.125, 0.25, 0.375, 0.5, 0.625, 0.75, 0.875,1]]\n",
    "\n",
    "# Define experiments\n",
    "if (model_opt=='dynamic-DAE'):\n",
    "    exp1 = generate_exp(t_control, 5, [570.21, 300, 300, 300, 300, 300, 300, 300, 300])\n",
    "else: \n",
    "    exp1 = generate_exp(t_control, 5, [500])"
   ]
  },
  {
   "cell_type": "code",
   "execution_count": null,
   "id": "separate-leone",
   "metadata": {
    "scrolled": true
   },
   "outputs": [],
   "source": [
    "doe_object = DesignOfExperiments(parameter_dict, dv_pass, \n",
    "                                 ['CA','CB','CC'], t_measure, createmod,\n",
    "                                 prior_FIM=prior_pass, discretize_model=disc)\n",
    "\n",
    "all_fim = doe_object.run_grid_search(exp1, design_ranges,dv_apply_name, dv_apply_time, \n",
    "                                     mode='sequential_finite', \n",
    "                                    scale_nominal_param_value=True\n",
    "                                    )"
   ]
  },
  {
   "cell_type": "markdown",
   "id": "d533298f",
   "metadata": {},
   "source": [
    "### Draw 1D sensitivity curve"
   ]
  },
  {
   "cell_type": "code",
   "execution_count": null,
   "id": "75da1683",
   "metadata": {},
   "outputs": [],
   "source": [
    "test = all_fim.extract_criteria()"
   ]
  },
  {
   "cell_type": "code",
   "execution_count": null,
   "id": "c20e6579",
   "metadata": {
    "scrolled": true
   },
   "outputs": [],
   "source": [
    "## draw 1D sensitivity curve \n",
    "\n",
    "fixed = {\"'CA0'\": 1.0, \"'T2'\": 300}\n",
    "\n",
    "all_fim.figure_drawing(fixed, ['T'], 'Reactor case','T [K]','$C_{A0}$ [M]' )"
   ]
  },
  {
   "cell_type": "markdown",
   "id": "affd1491",
   "metadata": {},
   "source": [
    "### Draw 2D sensitivity curve"
   ]
  },
  {
   "cell_type": "code",
   "execution_count": null,
   "id": "16be2b47",
   "metadata": {
    "scrolled": true
   },
   "outputs": [],
   "source": [
    "fixed = {\"'T2'\": 300}\n",
    "\n",
    "all_fim.figure_drawing(fixed, ['CA0','T'], 'Reactor case','$C_{A0}$ [M]', 'T [K]' )"
   ]
  },
  {
   "cell_type": "markdown",
   "id": "b116410d",
   "metadata": {},
   "source": [
    "## Dynamic heatmap"
   ]
  },
  {
   "cell_type": "code",
   "execution_count": null,
   "id": "87997eb7",
   "metadata": {},
   "outputs": [],
   "source": [
    "design_ranges = [list(np.linspace(300,700,18))]\n",
    "\n",
    "dv_apply_name = ['T']\n",
    "\n",
    "count = 0\n",
    "for ct in t_control:\n",
    "    print('Time controlled:', ct)\n",
    "    dv_apply_time = [[ct]]\n",
    "\n",
    "    # Define experiments\n",
    "    exp1 = generate_exp(t_control, 5, [300, 300, 300, 300, 300, 300, 300, 300, 300])\n",
    "    \n",
    "    doe_object = DesignOfExperiments(parameter_dict, dv_pass, \n",
    "                                 ['CA','CB','CC'], t_measure, createmod,\n",
    "                                 prior_FIM=prior_pass, discretize_model=disc)\n",
    "\n",
    "    all_fim = doe_object.run_grid_search(exp1, design_ranges,dv_apply_name, dv_apply_time, \n",
    "                                     mode='sequential_finite', \n",
    "                                    scale_nominal_param_value=True,\n",
    "                                     filename = '300base_'+str(count)+'.csv'\n",
    "                                    )\n",
    "    \n",
    "    test = all_fim.extract_criteria()\n",
    "\n",
    "    ## draw 1D sensitivity curve \n",
    "\n",
    "    fixed = {}\n",
    "\n",
    "    all_fim.figure_drawing(fixed, ['T'], 'Reactor case','T [K]','$C_{A0}$ [M]' )\n",
    "    count += 1 "
   ]
  },
  {
   "cell_type": "code",
   "execution_count": null,
   "id": "9c06237a",
   "metadata": {},
   "outputs": [],
   "source": [
    "filename_list = []\n",
    "count = 0\n",
    "for ct in t_control:\n",
    "    print('Time controlled:', ct)\n",
    "    filename_list.append('300base_'+str(count)+'.csv')\n",
    "    count += 1\n",
    "    \n",
    "print(filename_list)\n",
    "\n",
    "data_list = []\n",
    "for i in filename_list:\n",
    "    data_list.append(pd.read_csv(i))\n",
    "print(np.shape(data_list))"
   ]
  },
  {
   "cell_type": "code",
   "execution_count": null,
   "id": "69cedae2",
   "metadata": {},
   "outputs": [],
   "source": [
    "print(data_list[3]['D'].iloc[4])"
   ]
  },
  {
   "cell_type": "code",
   "execution_count": null,
   "id": "a0c522a7",
   "metadata": {},
   "outputs": [],
   "source": [
    "d_result = np.zeros((18,8))\n",
    "\n",
    "for i in range(8):\n",
    "    for j in range(18):\n",
    "        d_result[j,i] = np.log10(data_list[i]['A'].iloc[j])\n",
    "        \n",
    "print(d_result)"
   ]
  },
  {
   "cell_type": "code",
   "execution_count": null,
   "id": "76b252c0",
   "metadata": {
    "scrolled": true
   },
   "outputs": [],
   "source": [
    "x_range1 = [0.125,0.25,0.375,0.5,0.625,0.75,0.875,1]\n",
    "#x_range1 = [0.13, 0.25,0.38,0.5,0.63,0.75,0.88,1]\n",
    "#x_range1 = [7.5, 15, 22.5, 30, 37.5, 45, 52.5, 60]\n",
    "y_range1 = yLabel = [300, 321, 342, 363, 384, 405, 426, 447, 468, 489, 511, 532, 553, 574, 595, 616, 637, 658, 679, 700.0]\n",
    "\n",
    "heatmap(x_range1, y_range1, 'Time [$min$]', 'Temperature [$K$]')"
   ]
  },
  {
   "cell_type": "code",
   "execution_count": null,
   "id": "2cb4b083",
   "metadata": {},
   "outputs": [],
   "source": [
    "import matplotlib.ticker as ticker\n",
    "def heatmap(x_range, y_range, xlabel_text, ylabel_text, font_axes=16, font_tick=12, log_scale=True):\n",
    "    '''\n",
    "    Draw 2D heatmaps for all design criteria\n",
    "\n",
    "    Parameters:\n",
    "    ----------\n",
    "    title_text: name of the figure, a string\n",
    "    xlabel_text: x label title, a string.\n",
    "        In a 2D heatmap, it should be the second design varialbe in the design_ranges\n",
    "    ylabel_text: y label title, a string.\n",
    "        In a 2D heatmap, it should be the first design variable in the dv_ranges\n",
    "    font_axes: axes label font size\n",
    "    font_tick: tick label font size\n",
    "    log_scale: if True, the result matrix will be scaled by log10\n",
    "\n",
    "    Returns:\n",
    "    --------\n",
    "    4 Figures of 2D heatmap for each criteria\n",
    "    '''\n",
    "    # set heatmap x,y ranges\n",
    "    xLabel = x_range\n",
    "    yLabel = y_range\n",
    "\n",
    "    # D-optimality\n",
    "    fig = plt.figure()\n",
    "    plt.rc('axes', titlesize=font_axes)\n",
    "    plt.rc('axes', labelsize=font_axes)\n",
    "    plt.rc('xtick', labelsize=font_tick)\n",
    "    plt.rc('ytick', labelsize=font_tick)\n",
    "    ax = fig.add_subplot(111)\n",
    "    params = {'mathtext.default': 'regular'}\n",
    "    plt.rcParams.update(params)\n",
    "    ax.set_yticks(range(len(yLabel)))\n",
    "    ax.set_yticklabels(yLabel)\n",
    "    ax.set_ylabel(ylabel_text)\n",
    "    \n",
    "    \n",
    "    ax.set_xticks(range(len(xLabel)))\n",
    "    ax.set_xticklabels(xLabel)\n",
    "    loc = ticker.MultipleLocator(base=3)\n",
    "    ax.xaxis.set_major_locator(loc)\n",
    "    ax.set_xlabel(xlabel_text)\n",
    "\n",
    "    im = ax.imshow(d_result, cmap=plt.cm.hot_r)\n",
    "    ba = plt.colorbar(im)\n",
    "    ba.set_label('$log_{10}$(A-optimality)',labelpad=-40, y=1.1, rotation=0)\n",
    "    plt.show()\n"
   ]
  },
  {
   "cell_type": "code",
   "execution_count": null,
   "id": "14d1e7e8",
   "metadata": {},
   "outputs": [],
   "source": []
  }
 ],
 "metadata": {
  "kernelspec": {
   "display_name": "Python 3 (ipykernel)",
   "language": "python",
   "name": "python3"
  },
  "language_info": {
   "codemirror_mode": {
    "name": "ipython",
    "version": 3
   },
   "file_extension": ".py",
   "mimetype": "text/x-python",
   "name": "python",
   "nbconvert_exporter": "python",
   "pygments_lexer": "ipython3",
   "version": "3.9.6"
  }
 },
 "nbformat": 4,
 "nbformat_minor": 5
}
