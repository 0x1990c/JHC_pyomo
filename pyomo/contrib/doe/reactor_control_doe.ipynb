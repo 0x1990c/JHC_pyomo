{
 "cells": [
  {
   "cell_type": "markdown",
   "id": "opposite-garage",
   "metadata": {},
   "source": [
    "# Reactor Kinetics Example \n",
    "\n",
    "Jialu Wang (jwang44@nd.edu) and Alex Dowling (adowling@nd.edu)\n",
    "\n",
    "University of Notre Dame\n",
    "\n",
    "This notebook conducts design of experiments for a reactor kinetics experiment with the Pyomo.DOE.\n",
    "    "
   ]
  },
  {
   "cell_type": "code",
   "execution_count": 1,
   "id": "worth-origin",
   "metadata": {},
   "outputs": [],
   "source": [
    "import matplotlib.pyplot as plt\n",
    "from pyomo.environ import *\n",
    "from pyomo.dae import *\n",
    "\n",
    "import numpy as np\n",
    "from scipy.interpolate import interp2d\n",
    "import pandas as pd \n",
    "from itertools import permutations, product, combinations\n",
    "\n",
    "from fim_doe import *\n",
    "from pyomo.contrib.sensitivity_toolbox.sens import sipopt"
   ]
  },
  {
   "cell_type": "markdown",
   "id": "graphic-controversy",
   "metadata": {},
   "source": [
    "## Define Reaction Example Mathematical Model"
   ]
  },
  {
   "cell_type": "markdown",
   "id": "disturbed-prediction",
   "metadata": {},
   "source": [
    "Consider two chemical reactions that converts molecule $A$ to desired product $B$ and a less valuable side-product $C$.\n",
    "\n",
    "$A \\overset{k_1}{\\rightarrow} B \\overset{k_2}{\\rightarrow} C$\n",
    "\n",
    "Our ultimate goals is to design a large-scale continous reactor that maximizes the production of $B$. This general sequential reactions problem is widely applicable to CO$_2$ capture and industry more broadly (petrochemicals, pharmasuticals, etc.).\n",
    "\n",
    "The rate laws for these two chemical reactions are:\n",
    "\n",
    "$r_A = -k_1 C_A$\n",
    "\n",
    "$r_B = k_1 C_A - k_2 C_B$\n",
    "\n",
    "$r_C = k_2 C_B$\n",
    "\n",
    "Here, $C_A$, $C_B$, and $C_C$ are the concentrations of each species. The rate constants $k_1$ and $k_2$ depend on temperature as follows:\n",
    "\n",
    "$k_1 = A_1 \\exp{\\frac{-E_1}{R T}}$\n",
    "\n",
    "$k_2 = A_2 \\exp{\\frac{-E_2}{R T}}$\n",
    "\n",
    "$A_1, A_2, E_1$, and $E_2$ are fitted model parameters. $R$ is the ideal-gas constant and $T$ is absolute temperature.\n",
    "\n",
    "Using the **CCSI$^2$ toolset**, we would like do the following perform:\n",
    "\n",
    "Perform **uncertainty quantification** and **design of experiments** on a small-scale **batch reactor** to infer parameters $A_1$, $A_2$, $E_1$, and $E_2$."
   ]
  },
  {
   "cell_type": "markdown",
   "id": "sweet-niger",
   "metadata": {},
   "source": [
    "### Batch reactor\n",
    "\n",
    "The concenrations in a batch reactor evolve with time per the following differential equations:\n",
    "\n",
    "$$ \\frac{d C_A}{dt} = r_A = -k_1 C_A $$\n",
    "\n",
    "$$ \\frac{d C_B}{dt} = r_B = k_1 C_A - k_2 C_B $$\n",
    "\n",
    "$$ \\frac{d C_C}{dt} = r_C = k_2 C_B $$\n",
    "\n",
    "This is a linear system of differential equations. Assuming the feed is only species $A$, i.e., \n",
    "\n",
    "$$C_A(t=0) = C_{A0} \\quad C_B(t=0) = 0 \\quad C_C(t=0) = 0$$\n",
    "\n",
    "When the temperature is constant, it leads to the following analytic solution:\n",
    "\n",
    "$$C_A(t) = C_{A,0} \\exp(-k_1 t)$$\n",
    "\n",
    "$$C_B(t) = \\frac{k_1}{k_2 - k_1} C_{A,0} \\left[\\exp(-k_1 t) - \\exp(-k_2 t) \\right]$$\n",
    "\n",
    "$$C_C(t) = C_{A,0} - \\frac{k_2}{k_2 - k_1} C_{A,0} \\exp(-k_1 t) + \\frac{k_1}{k_2 - k_1} \\exp(-k_2 t) C_{A,0} = C_{A,0} - C_{A}(t) - C_{B}(t)$$"
   ]
  },
  {
   "cell_type": "code",
   "execution_count": 2,
   "id": "eligible-robert",
   "metadata": {},
   "outputs": [],
   "source": [
    "from reactor_models import *"
   ]
  },
  {
   "cell_type": "markdown",
   "id": "6f7434dc",
   "metadata": {},
   "source": [
    "Three versions of this model is accomplished: \n",
    "\n",
    "Dynamic-DAE model: Temperature varying model discretized and integrated by Pyomo.DAE\n",
    "\n",
    "Constant-DAE model: Temperature constant model discretized and integrated by Pyomo.DAE\n",
    "\n",
    "Constant-analytical model: Temperature constant model discretized manually and using the analytical expressions for state variables."
   ]
  },
  {
   "cell_type": "code",
   "execution_count": 3,
   "id": "d576e9c4",
   "metadata": {},
   "outputs": [],
   "source": [
    "# choose model from 'dynamic-DAE', 'constant-DAE', 'constant-analytical'\n",
    "model_opt = 'dynamic-DAE'\n",
    "#model_opt = 'constant-DAE'\n",
    "#model_opt = 'constant-analytical'\n",
    "\n",
    "if (model_opt=='dynamic-DAE'):\n",
    "    createmod = create_model_dae\n",
    "    disc = discretizer\n",
    "    t_control = [0, 0.125, 0.25, 0.375, 0.5, 0.625, 0.75, 0.875, 1]\n",
    "    \n",
    "elif (model_opt=='constant-DAE'):\n",
    "    createmod = create_model_dae_const\n",
    "    disc = discretizer\n",
    "    t_control = [0]\n",
    "    \n",
    "elif (model_opt=='constant-analytical'):\n",
    "    createmod = create_model_alge\n",
    "    disc = None\n",
    "    t_control = [0]\n",
    "\n",
    "    \n",
    "# design variable and its control time set\n",
    "dv_pass = {'CA0': [0],'T': t_control}\n",
    "    \n",
    "# Define measurement time points\n",
    "t_measure = [0, 0.125, 0.25, 0.375, 0.5, 0.625, 0.75, 0.875, 1]"
   ]
  },
  {
   "cell_type": "code",
   "execution_count": 4,
   "id": "47137cb2",
   "metadata": {},
   "outputs": [],
   "source": [
    "# Define parameter nominal value \n",
    "parameter_dict = {'A1': 84.79085853498033, 'A2': 371.71773413976416, 'E1': 7.777032028026428, 'E2': 15.047135137500822}\n",
    "\n",
    "def generate_exp(t_set, CA0, T):  \n",
    "    '''Generate experiments. \n",
    "    t_set: time control set for T.\n",
    "    CA0: CA0 value\n",
    "    T: A list of T \n",
    "    '''\n",
    "    assert(len(t_set)==len(T)), 'T should have the same length as t_set'\n",
    "    \n",
    "    T_con_initial = {}\n",
    "    for t, tim in enumerate(t_set):\n",
    "        T_con_initial[tim] = T[t]\n",
    "        \n",
    "    dv_dict_overall = {'CA0': {0: CA0},'T': T_con_initial}\n",
    "    return dv_dict_overall"
   ]
  },
  {
   "cell_type": "code",
   "execution_count": 5,
   "id": "written-tours",
   "metadata": {},
   "outputs": [
    {
     "name": "stdout",
     "output_type": "stream",
     "text": [
      "The prior information FIM: [[  28.67892806    5.41249739  -81.73674601  -24.02377324]\n",
      " [   5.41249739   26.40935036  -12.41816477 -139.23992532]\n",
      " [ -81.73674601  -12.41816477  240.46276004   58.76422806]\n",
      " [ -24.02377324 -139.23992532   58.76422806  767.25584508]]\n",
      "Prior Det: 140189.67370995492\n",
      "Eigenvalue of the prior experiments FIM: [8.00463185e+02 2.60471503e+02 4.84545259e-01 1.38765050e+00]\n",
      "Eigenvalue of the prior experiments FIM: [[-0.77629273 -0.54211788  0.31871243 -0.0435912 ]\n",
      " [ 0.56614148 -0.80478003 -0.01425817 -0.177791  ]\n",
      " [-0.25919275 -0.19059651 -0.94009108  0.11278677]\n",
      " [ 0.09834911 -0.14869526  0.12019924  0.97661114]]\n"
     ]
    }
   ],
   "source": [
    "# empty prior\n",
    "#prior_all = np.zeros((4,4))\n",
    "\n",
    "\n",
    "# add prior information\n",
    "prior_5_300 = pd.read_csv('fim_5_300_scale.csv')\n",
    "prior_5_300_500 = pd.read_csv('fim_5_300_500_scale.csv')\n",
    "\n",
    "prior_all = prior_5_300_500\n",
    "\n",
    "\n",
    "prior_pass=np.asarray(prior_all)\n",
    "\n",
    "#L_initials = np.linalg.cholesky(prior_pass)\n",
    "#print(L_initials)\n",
    "\n",
    "print('The prior information FIM:', prior_pass)\n",
    "print('Prior Det:', np.linalg.det(prior_pass))\n",
    "print('Eigenvalue of the prior experiments FIM:', np.linalg.eigvals(prior_pass))\n",
    "print('Eigenvalue of the prior experiments FIM:', np.linalg.eigh(prior_pass)[1])"
   ]
  },
  {
   "cell_type": "markdown",
   "id": "destroyed-african",
   "metadata": {},
   "source": [
    "## Compute FIM \n",
    "\n",
    "This method computes an MBDoE optimization problem with no Degree of Freedom."
   ]
  },
  {
   "cell_type": "code",
   "execution_count": 8,
   "id": "d3ee5ff9",
   "metadata": {},
   "outputs": [
    {
     "name": "stdout",
     "output_type": "stream",
     "text": [
      "Design variable: {'CA0': {0: 5}, 'T': {0: 570.21, 0.125: 300, 0.25: 300, 0.375: 300, 0.5: 300, 0.625: 300, 0.75: 300, 0.875: 300, 1: 300}}\n"
     ]
    }
   ],
   "source": [
    "# choose from 'simultaneous', 'sequential', 'sipopt'\n",
    "#sensi_opt = 'simultaneous_finite'\n",
    "#sensi_opt = 'sequential_finite'\n",
    "#sensi_opt = 'sequential_sipopt'\n",
    "sensi_opt = 'sequential_kaug'\n",
    "\n",
    "# Define experiments\n",
    "if (model_opt=='dynamic-DAE'):\n",
    "    exp1 = generate_exp(t_control, 5, [570.21, 300, 300, 300, 300, 300, 300, 300, 300])\n",
    "else: \n",
    "    exp1 = generate_exp(t_control, 5, [500])\n",
    "\n",
    "print('Design variable:', exp1)"
   ]
  },
  {
   "cell_type": "code",
   "execution_count": null,
   "id": "latin-medicare",
   "metadata": {
    "scrolled": true
   },
   "outputs": [],
   "source": [
    "doe_object = DesignOfExperiments(parameter_dict, dv_pass,\n",
    "                                 ['CA','CB','CC'], t_measure, createmod,\n",
    "                                prior_FIM=prior_pass, discretize_model=disc)\n",
    "\n",
    "\n",
    "if_s = True\n",
    "result = doe_object.compute_FIM(exp1,mode=sensi_opt, FIM_store_name = 'dynamic.csv', scale_nominal_param_value=if_s, formula='central')\n",
    "\n",
    "\n",
    "if sensi_opt == 'simultaneous_finite':\n",
    "    result.extract_FIM(doe_object.m, doe_object.design_timeset,\n",
    "                                                          doe_object.square_result, doe_object.obj_opt)\n",
    "else: \n",
    "    result.calculate_FIM(doe_object.jac, doe_object.design_values)"
   ]
  },
  {
   "cell_type": "code",
   "execution_count": null,
   "id": "64fc6da4",
   "metadata": {},
   "outputs": [],
   "source": [
    "print('======Result summary======')\n",
    "print('Four design criteria log10() value:')\n",
    "print('A-optimality:', np.log10(result.trace))\n",
    "print('D-optimality:', np.log10(result.det))\n",
    "print('E-optimality:', np.log10(result.min_eig))\n",
    "print('Modified E-optimality:', np.log10(result.cond))"
   ]
  },
  {
   "cell_type": "markdown",
   "id": "7dfe1ef2",
   "metadata": {},
   "source": [
    "### Run sequential DOE automatically\n",
    "\n",
    "This method runs a series of experiments in a row."
   ]
  },
  {
   "cell_type": "code",
   "execution_count": null,
   "id": "5273a9af",
   "metadata": {},
   "outputs": [],
   "source": [
    "# this only works for constant T mode. \n",
    "exp1 = generate_exp(t_control, 5, [300])\n",
    "exp2 = generate_exp(t_control, 5, [500.92])\n",
    "exp3 = generate_exp(t_control, 5, [528])\n",
    "exp4 = generate_exp(t_control, 5, [546.8])\n",
    "exp5 = generate_exp(t_control, 5, [562])"
   ]
  },
  {
   "cell_type": "code",
   "execution_count": null,
   "id": "940683df",
   "metadata": {},
   "outputs": [],
   "source": [
    "\n",
    "exp_all = [exp1, exp2, exp3, exp4, exp5]\n",
    "\n",
    "\n",
    "doe_object = DesignOfExperiments(parameter_dict, dv_pass,\n",
    "                                 ['CA','CB','CC'], t_measure, createmod,\n",
    "                                prior_FIM=prior_pass, discretize_model=disc)\n",
    "\n",
    "# choose from 'simultaneous', 'sequential', 'sipopt'\n",
    "#sensi_opt = 'simultaneous_finite'\n",
    "sensi_opt = 'sequential_finite'\n",
    "#sensi_opt = 'sequential_sipopt'\n",
    "if_s = True\n",
    "result = doe_object.sequential_exp(exp_all, mode=sensi_opt, tee_option=True,\n",
    "                                    scale_nominal_param_value=if_s, formula='central')"
   ]
  },
  {
   "cell_type": "code",
   "execution_count": null,
   "id": "4939f5c1",
   "metadata": {},
   "outputs": [],
   "source": [
    "print('=======Result summary=======')\n",
    "for i in range(len(exp_all)):\n",
    "    print('The ', i+1,'th experiment has optimality log10() values:')\n",
    "    print('A-optimality:', np.log10(result[0][i].trace))\n",
    "    print('D-optimality:', np.log10(result[0][i].det))\n",
    "    print('E-optimality:', np.log10(result[0][i].min_eig))\n",
    "    print('Modified E-optimality:', np.log10(result[0][i].cond))"
   ]
  },
  {
   "cell_type": "markdown",
   "id": "hindu-bathroom",
   "metadata": {},
   "source": [
    "## Optimization"
   ]
  },
  {
   "cell_type": "code",
   "execution_count": 9,
   "id": "wicked-raising",
   "metadata": {
    "scrolled": true
   },
   "outputs": [
    {
     "name": "stdout",
     "output_type": "stream",
     "text": [
      "Sensitivity information is scaled by its corresponding parameter nominal value.\n",
      "Ipopt 3.13.3: linear_solver=ma57\n",
      "halt_on_ampl_error=yes\n",
      "\n",
      "\n",
      "******************************************************************************\n",
      "This program contains Ipopt, a library for large-scale nonlinear optimization.\n",
      " Ipopt is released as open source code under the Eclipse Public License (EPL).\n",
      "         For more information visit https://github.com/coin-or/Ipopt\n",
      "******************************************************************************\n",
      "\n",
      "This is Ipopt version 3.13.3, running with linear solver ma57.\n",
      "\n",
      "Number of nonzeros in equality constraint Jacobian...:    24144\n",
      "Number of nonzeros in inequality constraint Jacobian.:        0\n",
      "Number of nonzeros in Lagrangian Hessian.............:     1922\n",
      "\n",
      "Total number of variables............................:     6406\n",
      "                     variables with only lower bounds:     2316\n",
      "                variables with lower and upper bounds:       88\n",
      "                     variables with only upper bounds:        0\n",
      "Total number of equality constraints.................:     6406\n",
      "Total number of inequality constraints...............:        0\n",
      "        inequality constraints with only lower bounds:        0\n",
      "   inequality constraints with lower and upper bounds:        0\n",
      "        inequality constraints with only upper bounds:        0\n",
      "\n",
      "iter    objective    inf_pr   inf_du lg(mu)  ||d||  lg(rg) alpha_du alpha_pr  ls\n",
      "   0 -0.0000000e+00 7.66e+02 3.00e+00  -1.0 0.00e+00    -  0.00e+00 0.00e+00   0\n",
      "Reallocating memory for MA57: lfact (280897)\n",
      "   1 -3.2041801e+01 1.67e+05 4.32e+05  -1.0 7.66e+02    -  2.58e-03 9.90e-01f  1\n",
      "   2 -2.7360130e+01 4.20e+04 4.64e+06  -1.0 8.33e+02    -  1.18e-01 9.90e-01h  1\n",
      "Reallocating memory for MA57: lfact (295137)\n",
      "   3 -2.3885416e+01 1.03e+04 3.43e+05  -1.0 3.73e+02    -  8.08e-01 1.00e+00h  1\n",
      "   4 -2.1104897e+01 2.46e+03 6.88e+03  -1.0 6.89e+01    -  9.91e-01 1.00e+00h  1\n",
      "   5 -1.8483523e+01 5.99e+02 1.72e+03  -1.0 2.42e+01    -  1.00e+00 1.00e+00h  1\n",
      "   6 -1.6236695e+01 1.37e+02 4.28e+02  -1.0 1.16e+01    -  1.00e+00 1.00e+00h  1\n",
      "   7 -1.4826359e+01 2.53e+01 9.99e+01  -1.0 5.03e+00    -  1.00e+00 1.00e+00h  1\n",
      "   8 -1.4356896e+01 2.32e+00 1.47e+01  -1.0 1.52e+00    -  1.00e+00 1.00e+00h  1\n",
      "   9 -1.4306446e+01 2.85e-02 3.48e-01  -1.0 1.69e-01    -  1.00e+00 1.00e+00h  1\n",
      "iter    objective    inf_pr   inf_du lg(mu)  ||d||  lg(rg) alpha_du alpha_pr  ls\n",
      "  10 -1.4305829e+01 4.40e-06 1.03e-04  -2.5 2.10e-03    -  1.00e+00 1.00e+00h  1\n",
      "  11 -1.4305829e+01 2.64e-13 1.50e-09  -3.8 3.23e-07    -  1.00e+00 1.00e+00h  1\n",
      "\n",
      "Number of Iterations....: 11\n",
      "\n",
      "                                   (scaled)                 (unscaled)\n",
      "Objective...............:  -1.4305829050578563e+01   -1.4305829050578563e+01\n",
      "Dual infeasibility......:   8.8910717677137541e-10    8.8910717677137541e-10\n",
      "Constraint violation....:   2.2737367544323206e-13    2.6356694604601216e-13\n",
      "Complementarity.........:   0.0000000000000000e+00    0.0000000000000000e+00\n",
      "Overall NLP error.......:   2.2737367544323206e-13    8.8910717677137541e-10\n",
      "\n",
      "\n",
      "Number of objective function evaluations             = 12\n",
      "Number of objective gradient evaluations             = 12\n",
      "Number of equality constraint evaluations            = 12\n",
      "Number of inequality constraint evaluations          = 0\n",
      "Number of equality constraint Jacobian evaluations   = 12\n",
      "Number of inequality constraint Jacobian evaluations = 0\n",
      "Number of Lagrangian Hessian evaluations             = 11\n",
      "Total CPU secs in IPOPT (w/o function evaluations)   =      0.097\n",
      "Total CPU secs in NLP function evaluations           =      0.012\n",
      "\n",
      "EXIT: Optimal Solution Found.\n",
      "FIM: [[  46.3444914    24.15944315 -111.81903818 -100.64870734]\n",
      " [  24.15944315   57.16995403  -42.45028808 -263.97068195]\n",
      " [-111.81903818  -42.45028808  292.50015605  182.04287127]\n",
      " [-100.64870734 -263.97068195  182.04287127 1280.48874223]]\n",
      "Trace: 1676.5033437052477\n",
      "Determinant: 1632836.1834134806\n",
      "Condition number: 1341.51840758619\n",
      "Minimal eigen value: 1.0276187561345163\n",
      "Eigen values: [1.37856948e+03 2.92972054e+02 1.02761876e+00 3.93419370e+00]\n",
      "Eigen vectors: [[ 0.09102767 -0.33462434 -0.68013822  0.64587346]\n",
      " [ 0.19903479  0.02167086  0.68301615  0.70242755]\n",
      " [-0.17796084  0.92103913 -0.23711535  0.2525731 ]\n",
      " [-0.95938994 -0.19810059  0.12114973  0.16015569]]\n",
      "Model objective: 14.305829050578563\n",
      "Objective(determinant) is: 1632836.1834134837\n",
      "Solution of  CA0  : [5]\n",
      "Solution of  T  : [570.21, 300, 300, 300, 300, 300, 300, 300, 300]\n",
      "======problem solver output======\n",
      "converged\n",
      "Ipopt 3.13.3: linear_solver=ma57\n",
      "halt_on_ampl_error=yes\n",
      "\n",
      "\n",
      "******************************************************************************\n",
      "This program contains Ipopt, a library for large-scale nonlinear optimization.\n",
      " Ipopt is released as open source code under the Eclipse Public License (EPL).\n",
      "         For more information visit https://github.com/coin-or/Ipopt\n",
      "******************************************************************************\n",
      "\n",
      "This is Ipopt version 3.13.3, running with linear solver ma57.\n",
      "\n",
      "Number of nonzeros in equality constraint Jacobian...:    25152\n",
      "Number of nonzeros in inequality constraint Jacobian.:        0\n",
      "Number of nonzeros in Lagrangian Hessian.............:     1931\n",
      "\n",
      "Reallocating memory for MA57: lfact (321469)\n",
      "Reallocating memory for MA57: lfact (338851)\n",
      "Total number of variables............................:     6416\n",
      "                     variables with only lower bounds:     2316\n",
      "                variables with lower and upper bounds:       98\n",
      "                     variables with only upper bounds:        0\n",
      "Total number of equality constraints.................:     6406\n",
      "Total number of inequality constraints...............:        0\n",
      "        inequality constraints with only lower bounds:        0\n",
      "   inequality constraints with lower and upper bounds:        0\n",
      "        inequality constraints with only upper bounds:        0\n",
      "\n",
      "iter    objective    inf_pr   inf_du lg(mu)  ||d||  lg(rg) alpha_du alpha_pr  ls\n",
      "   0 -1.4305829e+01 1.18e-01 1.48e+00  -1.0 0.00e+00    -  0.00e+00 0.00e+00   0\n",
      "   1 -1.4321447e+01 1.01e-01 7.69e+00  -1.0 6.36e+01    -  9.47e-01 1.41e-01h  1\n",
      "   2 -1.4220000e+01 2.40e+01 5.69e+01  -1.0 2.21e+02    -  6.97e-01 1.00e+00f  1\n",
      "   3 -1.3719762e+01 3.21e+01 5.63e+01  -1.0 2.90e+02    -  1.00e+00 9.42e-01f  1\n",
      "   4 -1.3377054e+01 2.55e+01 3.32e+01  -1.0 1.53e+02    -  1.00e+00 1.00e+00f  1\n",
      "   5 -1.3370445e+01 3.77e-01 2.69e+00  -1.0 1.26e+01    -  1.00e+00 1.00e+00h  1\n",
      "   6 -1.3365800e+01 3.01e-03 2.27e-02  -1.0 1.07e+00    -  1.00e+00 1.00e+00h  1\n",
      "   7 -1.3372676e+01 5.35e-03 1.57e-01  -2.5 5.51e+00    -  1.00e+00 1.00e+00h  1\n",
      "   8 -1.3980505e+01 1.57e+01 9.78e+01  -2.5 1.30e+02    -  1.00e+00 1.00e+00F  1\n",
      "   9 -1.3842490e+01 4.80e+00 7.55e+00  -2.5 5.46e+01    -  1.00e+00 1.00e+00h  1\n",
      "iter    objective    inf_pr   inf_du lg(mu)  ||d||  lg(rg) alpha_du alpha_pr  ls\n",
      "  10 -1.3756903e+01 1.10e+00 2.63e+00  -2.5 2.89e+01    -  1.00e+00 1.00e+00h  1\n",
      "  11 -1.3759844e+01 7.51e-03 1.39e-02  -2.5 3.89e+00    -  1.00e+00 1.00e+00h  1\n",
      "  12 -1.4175513e+01 1.85e+01 3.95e+01  -3.8 8.85e+01    -  5.60e-01 1.00e+00f  1\n",
      "  13 -1.4300654e+01 1.23e+01 1.03e+01  -3.8 1.88e+02    -  1.00e+00 1.00e+00h  1\n",
      "  14 -1.4303100e+01 2.71e+00 1.02e+00  -3.8 6.83e+01    -  1.00e+00 1.00e+00h  1\n",
      "  15 -1.4293066e+01 1.70e-02 2.17e-02  -3.8 3.13e+00    -  1.00e+00 1.00e+00h  1\n",
      "  16 -1.4293051e+01 1.70e-07 2.55e-07  -3.8 3.60e-02    -  1.00e+00 1.00e+00h  1\n",
      "  17 -1.4310193e+01 1.00e+00 4.13e-01  -5.7 4.55e+01    -  9.17e-01 1.00e+00f  1\n",
      "  18 -1.4308345e+01 8.84e-03 4.07e-03  -5.7 4.40e+00    -  1.00e+00 1.00e+00h  1\n",
      "  19 -1.4308378e+01 1.74e-05 9.73e-07  -5.7 3.79e-01    -  1.00e+00 1.00e+00h  1\n",
      "iter    objective    inf_pr   inf_du lg(mu)  ||d||  lg(rg) alpha_du alpha_pr  ls\n",
      "  20 -1.4308538e+01 2.20e-04 8.75e-05  -8.6 6.45e-01    -  1.00e+00 1.00e+00h  1\n",
      "  21 -1.4308537e+01 5.67e-10 2.16e-07  -8.6 2.16e-03  -4.0 1.00e+00 1.00e+00h  1\n",
      "  22 -1.4308537e+01 2.26e-10 1.02e-10  -8.6 6.52e-04    -  1.00e+00 1.00e+00h  1\n",
      "\n",
      "Number of Iterations....: 22\n",
      "\n",
      "                                   (scaled)                 (unscaled)\n",
      "Objective...............:  -1.4308537311814217e+01   -1.4308537311814217e+01\n",
      "Dual infeasibility......:   1.0159980836483156e-10    1.0159980836483156e-10\n",
      "Constraint violation....:   1.1933933525979343e-10    2.2635049390373752e-10\n",
      "Complementarity.........:   2.5059036092815866e-09    2.5059036092815866e-09\n",
      "Overall NLP error.......:   2.5059036092815866e-09    2.5059036092815866e-09\n",
      "\n",
      "\n",
      "Number of objective function evaluations             = 24\n",
      "Number of objective gradient evaluations             = 23\n",
      "Number of equality constraint evaluations            = 24\n",
      "Number of inequality constraint evaluations          = 0\n",
      "Number of equality constraint Jacobian evaluations   = 23\n",
      "Number of inequality constraint Jacobian evaluations = 0\n",
      "Number of Lagrangian Hessian evaluations             = 22\n",
      "Total CPU secs in IPOPT (w/o function evaluations)   =      0.208\n",
      "Total CPU secs in NLP function evaluations           =      0.027\n",
      "\n",
      "EXIT: Optimal Solution Found.\n"
     ]
    },
    {
     "name": "stdout",
     "output_type": "stream",
     "text": [
      "FIM: [[  46.24824873   24.02029597 -111.11259575  -98.84096347]\n",
      " [  24.02029597   56.00750616  -41.77758393 -257.36193473]\n",
      " [-111.11259575  -41.77758393  290.34323271  177.30691662]\n",
      " [ -98.84096347 -257.36193473  177.30691662 1245.84730921]]\n",
      "Trace: 1638.4462968124803\n",
      "Determinant: 1637264.3239264484\n",
      "Condition number: 1318.2046058189794\n",
      "Minimal eigen value: 1.018082460753852\n",
      "Eigen values: [1.34204099e+03 2.91273175e+02 1.01808246e+00 4.11405006e+00]\n",
      "Eigen vectors: [[ 0.09222082 -0.33473764 -0.67734443  0.64857579]\n",
      " [ 0.19945077  0.02109713  0.6862249   0.69919216]\n",
      " [-0.1793339   0.9206072  -0.23558824  0.25459757]\n",
      " [-0.95893382 -0.19997003  0.12164738  0.16018689]]\n",
      "Model objective: 14.308537311814217\n",
      "Objective(determinant) is: 1637264.3239272628\n",
      "Solution of  CA0  : [5.0]\n",
      "Solution of  T  : [579.2123483692055, 300.00000829024395, 300.00001529530726, 300.00002224158675, 300.0000306452559, 300.0000437403924, 300.0000694587363, 300.00014505287686, 300.00044564425997]\n",
      "======problem solver output======\n",
      "converged\n"
     ]
    }
   ],
   "source": [
    "doe_object = DesignOfExperiments(parameter_dict, dv_pass, \n",
    "                                 ['CA','CB','CC'], t_measure, createmod,\n",
    "                                 prior_FIM=prior_pass, discretize_model=disc)\n",
    "\n",
    "square_result, optimize_result = doe_object.optimize_doe(exp1, if_optimize=True, if_Cholesky=True, scale_nominal_param_value=True, objective_option='det', L_initial=None)\n"
   ]
  },
  {
   "cell_type": "code",
   "execution_count": 10,
   "id": "c6b08c05",
   "metadata": {},
   "outputs": [
    {
     "name": "stdout",
     "output_type": "stream",
     "text": [
      "======Result summary======\n",
      "This optimization is solved with status: converged\n",
      "It gives solution: {'CA0': [5.0], 'T': [579.2123483692055, 300.00000829024395, 300.00001529530726, 300.00002224158675, 300.0000306452559, 300.0000437403924, 300.0000694587363, 300.00014505287686, 300.00044564425997]}\n",
      "The log10(OF) optimized is: 14.308537311814217\n",
      "The result FIM is: [[  46.24824873   24.02029597 -111.11259575  -98.84096347]\n",
      " [  24.02029597   56.00750616  -41.77758393 -257.36193473]\n",
      " [-111.11259575  -41.77758393  290.34323271  177.30691662]\n",
      " [ -98.84096347 -257.36193473  177.30691662 1245.84730921]]\n"
     ]
    }
   ],
   "source": [
    "print('======Result summary======')\n",
    "print('This optimization is solved with status:', optimize_result.status)\n",
    "print('It gives solution:', optimize_result.solution)\n",
    "print('The log10(OF) optimized is:', optimize_result.obj_value)\n",
    "print('The result FIM is:', optimize_result.FIM)"
   ]
  },
  {
   "cell_type": "markdown",
   "id": "skilled-booking",
   "metadata": {},
   "source": [
    "## Grid search for 2 design variables"
   ]
  },
  {
   "cell_type": "code",
   "execution_count": null,
   "id": "427c7dc8",
   "metadata": {},
   "outputs": [],
   "source": [
    "design_ranges = [list(np.linspace(1,5,5)), list(np.linspace(300,700,5))]\n",
    "\n",
    "dv_apply_name = ['CA0','T']\n",
    "\n",
    "dv_apply_time = [[0],t_control]\n",
    "\n",
    "# Define experiments\n",
    "if (model_opt=='dynamic-DAE'):\n",
    "    exp1 = generate_exp(t_control, 5, [570.21, 300, 300, 300, 300, 300, 300, 300, 300])\n",
    "else: \n",
    "    exp1 = generate_exp(t_control, 5, [500])"
   ]
  },
  {
   "cell_type": "code",
   "execution_count": null,
   "id": "dcfae212",
   "metadata": {
    "scrolled": true
   },
   "outputs": [],
   "source": [
    "doe_object = DesignOfExperiments(parameter_dict, dv_pass, \n",
    "                                 ['CA','CB','CC'], t_measure, createmod,\n",
    "                                 prior_FIM=prior_pass, discretize_model=disc)\n",
    "\n",
    "all_fim = doe_object.run_grid_search(exp1, design_ranges,dv_apply_name, dv_apply_time, \n",
    "                                     mode='sequential_finite', \n",
    "                                    scale_nominal_param_value=True\n",
    "                                    )"
   ]
  },
  {
   "cell_type": "markdown",
   "id": "7ac0e0ed",
   "metadata": {},
   "source": [
    "### 1D sensitivity curve"
   ]
  },
  {
   "cell_type": "code",
   "execution_count": null,
   "id": "991969ba",
   "metadata": {},
   "outputs": [],
   "source": [
    "test = all_fim.extract_criteria()\n",
    "\n",
    "## draw 1D sensitivity curve \n",
    "\n",
    "fixed = {\"'CA0'\": 5.0}\n",
    "\n",
    "all_fim.figure_drawing(fixed, ['T'], 'Reactor case','T [K]','$C_{A0}$ [M]' )\n",
    "\n"
   ]
  },
  {
   "cell_type": "markdown",
   "id": "b1b57f39",
   "metadata": {},
   "source": [
    "## Heatmap"
   ]
  },
  {
   "cell_type": "code",
   "execution_count": null,
   "id": "c9fe2868",
   "metadata": {},
   "outputs": [],
   "source": [
    "fixed = {}\n",
    "all_fim.figure_drawing(fixed, ['CA0','T'], 'Reactor case','$C_{A0}$ [M]', 'T [K]' )"
   ]
  },
  {
   "cell_type": "markdown",
   "id": "c583f3c1",
   "metadata": {},
   "source": [
    "## Grid search for 3 design variables"
   ]
  },
  {
   "cell_type": "code",
   "execution_count": null,
   "id": "flush-diameter",
   "metadata": {},
   "outputs": [],
   "source": [
    "\n",
    "design_ranges = [list(np.linspace(1,5,2)),  list(np.linspace(300,700,2)), [300,500]]\n",
    "\n",
    "dv_apply_name = ['CA0', 'T', 'T']\n",
    "dv_apply_time = [[0], [0], [0.125, 0.25, 0.375, 0.5, 0.625, 0.75, 0.875,1]]\n",
    "\n",
    "# Define experiments\n",
    "if (model_opt=='dynamic-DAE'):\n",
    "    exp1 = generate_exp(t_control, 5, [570.21, 300, 300, 300, 300, 300, 300, 300, 300])\n",
    "else: \n",
    "    exp1 = generate_exp(t_control, 5, [500])"
   ]
  },
  {
   "cell_type": "code",
   "execution_count": null,
   "id": "separate-leone",
   "metadata": {
    "scrolled": true
   },
   "outputs": [],
   "source": [
    "doe_object = DesignOfExperiments(parameter_dict, dv_pass, \n",
    "                                 ['CA','CB','CC'], t_measure, createmod,\n",
    "                                 prior_FIM=prior_pass, discretize_model=disc)\n",
    "\n",
    "all_fim = doe_object.run_grid_search(exp1, design_ranges,dv_apply_name, dv_apply_time, \n",
    "                                     mode='sequential_finite', \n",
    "                                    scale_nominal_param_value=True\n",
    "                                    )"
   ]
  },
  {
   "cell_type": "markdown",
   "id": "d533298f",
   "metadata": {},
   "source": [
    "### Draw 1D sensitivity curve"
   ]
  },
  {
   "cell_type": "code",
   "execution_count": null,
   "id": "75da1683",
   "metadata": {},
   "outputs": [],
   "source": [
    "test = all_fim.extract_criteria()"
   ]
  },
  {
   "cell_type": "code",
   "execution_count": null,
   "id": "c20e6579",
   "metadata": {
    "scrolled": true
   },
   "outputs": [],
   "source": [
    "## draw 1D sensitivity curve \n",
    "\n",
    "fixed = {\"'CA0'\": 1.0, \"'T2'\": 300}\n",
    "\n",
    "all_fim.figure_drawing(fixed, ['T'], 'Reactor case','T [K]','$C_{A0}$ [M]' )"
   ]
  },
  {
   "cell_type": "markdown",
   "id": "affd1491",
   "metadata": {},
   "source": [
    "### Draw 2D sensitivity curve"
   ]
  },
  {
   "cell_type": "code",
   "execution_count": null,
   "id": "16be2b47",
   "metadata": {
    "scrolled": true
   },
   "outputs": [],
   "source": [
    "fixed = {\"'T2'\": 300}\n",
    "\n",
    "all_fim.figure_drawing(fixed, ['CA0','T'], 'Reactor case','$C_{A0}$ [M]', 'T [K]' )"
   ]
  },
  {
   "cell_type": "code",
   "execution_count": null,
   "id": "87997eb7",
   "metadata": {},
   "outputs": [],
   "source": []
  }
 ],
 "metadata": {
  "kernelspec": {
   "display_name": "Python 3 (ipykernel)",
   "language": "python",
   "name": "python3"
  },
  "language_info": {
   "codemirror_mode": {
    "name": "ipython",
    "version": 3
   },
   "file_extension": ".py",
   "mimetype": "text/x-python",
   "name": "python",
   "nbconvert_exporter": "python",
   "pygments_lexer": "ipython3",
   "version": "3.9.6"
  }
 },
 "nbformat": 4,
 "nbformat_minor": 5
}
