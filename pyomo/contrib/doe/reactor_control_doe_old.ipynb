{
 "cells": [
  {
   "cell_type": "markdown",
   "id": "opposite-garage",
   "metadata": {},
   "source": [
    "# Reactor Kinetics Example \n",
    "\n",
    "Jialu Wang (jwang44@nd.edu) and Alex Dowling (adowling@nd.edu)\n",
    "\n",
    "University of Notre Dame\n",
    "\n",
    "This notebook conducts design of experiments for a reactor kinetics experiment with the Pyomo.DOE.\n",
    "    "
   ]
  },
  {
   "cell_type": "code",
   "execution_count": 1,
   "id": "worth-origin",
   "metadata": {},
   "outputs": [],
   "source": [
    "import matplotlib.pyplot as plt\n",
    "from pyomo.environ import *\n",
    "from pyomo.dae import *\n",
    "\n",
    "import numpy as np\n",
    "import pandas as pd \n",
    "from itertools import permutations, product, combinations\n",
    "import idaes\n",
    "\n",
    "from fim_doe import *\n",
    "from pyomo.contrib.sensitivity_toolbox.sens import sipopt\n",
    "from pyomo.contrib.sensitivity_toolbox.sens import get_dsdp"
   ]
  },
  {
   "cell_type": "markdown",
   "id": "graphic-controversy",
   "metadata": {},
   "source": [
    "## Define Reaction Example Mathematical Model"
   ]
  },
  {
   "cell_type": "markdown",
   "id": "disturbed-prediction",
   "metadata": {},
   "source": [
    "Consider two chemical reactions that converts molecule $A$ to desired product $B$ and a less valuable side-product $C$.\n",
    "\n",
    "$A \\overset{k_1}{\\rightarrow} B \\overset{k_2}{\\rightarrow} C$\n",
    "\n",
    "Our ultimate goals is to design a large-scale continous reactor that maximizes the production of $B$. This general sequential reactions problem is widely applicable to CO$_2$ capture and industry more broadly (petrochemicals, pharmasuticals, etc.).\n",
    "\n",
    "The rate laws for these two chemical reactions are:\n",
    "\n",
    "$r_A = -k_1 C_A$\n",
    "\n",
    "$r_B = k_1 C_A - k_2 C_B$\n",
    "\n",
    "$r_C = k_2 C_B$\n",
    "\n",
    "Here, $C_A$, $C_B$, and $C_C$ are the concentrations of each species. The rate constants $k_1$ and $k_2$ depend on temperature as follows:\n",
    "\n",
    "$k_1 = A_1 \\exp{\\frac{-E_1}{R T}}$\n",
    "\n",
    "$k_2 = A_2 \\exp{\\frac{-E_2}{R T}}$\n",
    "\n",
    "$A_1, A_2, E_1$, and $E_2$ are fitted model parameters. $R$ is the ideal-gas constant and $T$ is absolute temperature.\n",
    "\n",
    "Using the **CCSI$^2$ toolset**, we would like do the following perform:\n",
    "\n",
    "Perform **uncertainty quantification** and **design of experiments** on a small-scale **batch reactor** to infer parameters $A_1$, $A_2$, $E_1$, and $E_2$."
   ]
  },
  {
   "cell_type": "markdown",
   "id": "sweet-niger",
   "metadata": {},
   "source": [
    "### Batch reactor\n",
    "\n",
    "The concenrations in a batch reactor evolve with time per the following differential equations:\n",
    "\n",
    "$$ \\frac{d C_A}{dt} = r_A = -k_1 C_A $$\n",
    "\n",
    "$$ \\frac{d C_B}{dt} = r_B = k_1 C_A - k_2 C_B $$\n",
    "\n",
    "$$ \\frac{d C_C}{dt} = r_C = k_2 C_B $$\n",
    "\n",
    "This is a linear system of differential equations. Assuming the feed is only species $A$, i.e., \n",
    "\n",
    "$$C_A(t=0) = C_{A0} \\quad C_B(t=0) = 0 \\quad C_C(t=0) = 0$$\n",
    "\n",
    "When the temperature is constant, it leads to the following analytic solution:\n",
    "\n",
    "$$C_A(t) = C_{A,0} \\exp(-k_1 t)$$\n",
    "\n",
    "$$C_B(t) = \\frac{k_1}{k_2 - k_1} C_{A,0} \\left[\\exp(-k_1 t) - \\exp(-k_2 t) \\right]$$\n",
    "\n",
    "$$C_C(t) = C_{A,0} - \\frac{k_2}{k_2 - k_1} C_{A,0} \\exp(-k_1 t) + \\frac{k_1}{k_2 - k_1} \\exp(-k_2 t) C_{A,0} = C_{A,0} - C_{A}(t) - C_{B}(t)$$"
   ]
  },
  {
   "cell_type": "code",
   "execution_count": 2,
   "id": "eligible-robert",
   "metadata": {},
   "outputs": [],
   "source": [
    "#from reactor_models import *\n",
    "from reactor_model_multipleversions import *"
   ]
  },
  {
   "cell_type": "markdown",
   "id": "6f7434dc",
   "metadata": {},
   "source": [
    "Three versions of this model is accomplished: \n",
    "\n",
    "Dynamic-DAE model: Temperature varying model discretized and integrated by Pyomo.DAE\n",
    "\n",
    "Constant-DAE model: Temperature constant model discretized and integrated by Pyomo.DAE\n",
    "\n",
    "Constant-analytical model: Temperature constant model discretized manually and using the analytical expressions for state variables."
   ]
  },
  {
   "cell_type": "code",
   "execution_count": 3,
   "id": "d576e9c4",
   "metadata": {},
   "outputs": [
    {
     "name": "stdout",
     "output_type": "stream",
     "text": [
      "All measurements are flattened.\n",
      "Flatten measurement name: ['CA', 'CB', 'CC']\n",
      "Flatten measurement variance: {'CA': 1, 'CB': 1, 'CC': 1}\n",
      "All measurements are flattened.\n",
      "Flatten measurement name: ['CA', 'CB', 'CC']\n",
      "Flatten measurement variance: {'CA': 1, 'CB': 1, 'CC': 1}\n"
     ]
    },
    {
     "data": {
      "text/plain": [
       "'\\ncomb = [t_measure, t_measure_ca, t_measure_cb]\\n#unique = list(set(t_measure_ca+t_measure_cb))\\nd = []\\nfor i in comb:\\n    d += i\\n    unique = list(set((d)))\\n\\nprint(unique)\\n'"
      ]
     },
     "execution_count": 3,
     "metadata": {},
     "output_type": "execute_result"
    }
   ],
   "source": [
    "# choose model from 'dynamic-DAE', 'constant-DAE', 'constant-analytical'\n",
    "model_opt = 'dynamic-DAE-measure'\n",
    "#model_opt = 'dynamic-DAE'\n",
    "#model_opt = 'constant-DAE'\n",
    "#model_opt = 'constant-analytical'\n",
    "\n",
    "#createmod = create_model_overall\n",
    "if (model_opt == 'dynamic-DAE-measure'):\n",
    "    createmod = create_model_dae_measure\n",
    "    args_ = [True, False, False]\n",
    "    disc = disc_for_measure\n",
    "    t_control = [0, 0.125, 0.25, 0.375, 0.5, 0.625, 0.75, 0.875, 1]\n",
    "\n",
    "elif (model_opt=='dynamic-DAE'):\n",
    "    createmod = create_model_dae\n",
    "    args_ = [True, False, False]\n",
    "    disc = discretizer\n",
    "    t_control = [0, 0.125, 0.25, 0.375, 0.5, 0.625, 0.75, 0.875, 1]\n",
    "    \n",
    "elif (model_opt=='constant-DAE'):\n",
    "    createmod = create_model_dae_const\n",
    "    args_ = [True, True, False]\n",
    "    disc = discretizer\n",
    "    t_control = [0]\n",
    "    \n",
    "elif (model_opt=='constant-analytical'):\n",
    "    createmod = create_model_alge\n",
    "    args_ = [False, True, False]\n",
    "    disc = None\n",
    "    t_control = [0]\n",
    "\n",
    "    \n",
    "# design variable and its control time set\n",
    "dv_pass = {'CA0': [0],'T': t_control}\n",
    "    \n",
    "\n",
    "# Define measurement time points\n",
    "t_measure = [0, 0.125, 0.25, 0.375, 0.5, 0.625, 0.75, 0.875, 1]\n",
    "t_measure_ca = [0, 0.25, 0.5, 0.75, 1]\n",
    "t_measure_cb = [0, 0.125, 0.375, 0.625, 0.875, 1]\n",
    "measure_pass = {'CA': t_measure, 'CB': t_measure, 'CC': t_measure}\n",
    "measure_class =  Measurements(measure_pass)\n",
    "#measure_pass = {'C':{\"'CA'\": t_measure, \"'CB'\": t_measure, \"'CC'\": t_measure}}\n",
    "#measure_pass = {'C':{'CA': t_measure, 'CB': t_measure, 'CC': t_measure}}\n",
    "#measure_pass = {'C':{'CA': t_measure_ca, 'CB': t_measure_cb, 'CC': t_measure}}\n",
    "\n",
    "measure_subset = {'CA': t_measure_ca, 'CB': t_measure_cb, 'CC': t_measure}\n",
    "measure_subclass = Measurements(measure_subset)\n",
    "'''\n",
    "comb = [t_measure, t_measure_ca, t_measure_cb]\n",
    "#unique = list(set(t_measure_ca+t_measure_cb))\n",
    "d = []\n",
    "for i in comb:\n",
    "    d += i\n",
    "    unique = list(set((d)))\n",
    "\n",
    "print(unique)\n",
    "'''"
   ]
  },
  {
   "cell_type": "code",
   "execution_count": 4,
   "id": "47137cb2",
   "metadata": {},
   "outputs": [],
   "source": [
    "# Define parameter nominal value \n",
    "parameter_dict = {'A1': 84.79085853498033, 'A2': 371.71773413976416, 'E1': 7.777032028026428, 'E2': 15.047135137500822}\n",
    "\n",
    "def generate_exp(t_set, CA0, T):  \n",
    "    '''Generate experiments. \n",
    "    t_set: time control set for T.\n",
    "    CA0: CA0 value\n",
    "    T: A list of T \n",
    "    '''\n",
    "    assert(len(t_set)==len(T)), 'T should have the same length as t_set'\n",
    "    \n",
    "    T_con_initial = {}\n",
    "    for t, tim in enumerate(t_set):\n",
    "        T_con_initial[tim] = T[t]\n",
    "        \n",
    "    dv_dict_overall = {'CA0': {0: CA0},'T': T_con_initial}\n",
    "    return dv_dict_overall"
   ]
  },
  {
   "cell_type": "code",
   "execution_count": 6,
   "id": "written-tours",
   "metadata": {},
   "outputs": [
    {
     "name": "stdout",
     "output_type": "stream",
     "text": [
      "          A1          A2          E1          E2\n",
      "0  22.529430    1.840343  -70.232733  -11.094330\n",
      "1   1.840343   18.098481   -5.735650 -109.158661\n",
      "2 -70.232733   -5.735650  218.941928   34.576808\n",
      "3 -11.094330 -109.158661   34.576808  658.376446\n",
      "The prior information FIM: [[0. 0. 0. 0.]\n",
      " [0. 0. 0. 0.]\n",
      " [0. 0. 0. 0.]\n",
      " [0. 0. 0. 0.]]\n",
      "Prior Det: 0.0\n",
      "Eigenvalue of the prior experiments FIM: [0. 0. 0. 0.]\n",
      "Eigenvalue of the prior experiments FIM: [[1. 0. 0. 0.]\n",
      " [0. 1. 0. 0.]\n",
      " [0. 0. 1. 0.]\n",
      " [0. 0. 0. 1.]]\n"
     ]
    }
   ],
   "source": [
    "# empty prior\n",
    "prior_all = np.zeros((4,4))\n",
    "\n",
    "\n",
    "# add prior information\n",
    "prior_5_300 = pd.read_csv('fim_5_300_scale.csv')\n",
    "prior_5_300_500 = pd.read_csv('fim_5_300_500_scale.csv')\n",
    "\n",
    "print(prior_5_300)\n",
    "\n",
    "#print(prior_5_300_500)\n",
    "\n",
    "#prior_all = prior_5_300\n",
    "\n",
    "prior_300 = np.asarray(prior_5_300)\n",
    "prior_300_500 = np.asarray(prior_5_300_500)\n",
    "prior_500 = prior_300_500 - prior_300\n",
    "\n",
    "def newyear(ma):\n",
    "    print('det:', np.linalg.det(ma))\n",
    "    print('trace:', np.trace(ma))\n",
    "    print('eig:', np.linalg.eigvals(ma))\n",
    "    print('eig:', np.linalg.eigh(ma)[1])\n",
    "    print('cond:', np.linalg.cond(ma))\n",
    "    \n",
    "#newyear(prior_300)\n",
    "\n",
    "prior_pass=np.asarray(prior_all)\n",
    "\n",
    "#L_initials = np.linalg.cholesky(prior_pass)\n",
    "#print(L_initials)\n",
    "\n",
    "print('The prior information FIM:', prior_pass)\n",
    "print('Prior Det:', np.linalg.det(prior_pass))\n",
    "print('Eigenvalue of the prior experiments FIM:', np.linalg.eigvals(prior_pass))\n",
    "print('Eigenvalue of the prior experiments FIM:', np.linalg.eigh(prior_pass)[1])"
   ]
  },
  {
   "cell_type": "markdown",
   "id": "destroyed-african",
   "metadata": {},
   "source": [
    "## Compute FIM \n",
    "\n",
    "This method computes an MBDoE optimization problem with no Degree of Freedom."
   ]
  },
  {
   "cell_type": "code",
   "execution_count": 7,
   "id": "d3ee5ff9",
   "metadata": {},
   "outputs": [
    {
     "name": "stdout",
     "output_type": "stream",
     "text": [
      "Design variable: {'CA0': {0: 5}, 'T': {0: 570.21, 0.125: 300, 0.25: 300, 0.375: 300, 0.5: 300, 0.625: 300, 0.75: 300, 0.875: 300, 1: 300}}\n"
     ]
    }
   ],
   "source": [
    "# choose from 'simultaneous', 'sequential', 'sipopt'\n",
    "sensi_opt = 'sequential_finite'\n",
    "#sensi_opt = 'sequential_sipopt'\n",
    "#sensi_opt = 'sequential_kaug'\n",
    "#sensi_opt = 'direct_kaug'\n",
    "\n",
    "if sensi_opt == 'direct_kaug':\n",
    "    args_[2] = True\n",
    "else:\n",
    "    args_[2] = False\n",
    "    \n",
    "\n",
    "# Define experiments\n",
    "if (model_opt=='dynamic-DAE') or (model_opt=='dynamic-DAE-measure'):\n",
    "    exp1 = generate_exp(t_control, 5, [570.21, 300, 300, 300, 300, 300, 300, 300, 300])\n",
    "else: \n",
    "    exp1 = generate_exp(t_control, 5, [300])\n",
    "\n",
    "print('Design variable:', exp1)"
   ]
  },
  {
   "cell_type": "code",
   "execution_count": 8,
   "id": "bff6a95a",
   "metadata": {},
   "outputs": [
    {
     "ename": "NameError",
     "evalue": "name 'create_model_overall' is not defined",
     "output_type": "error",
     "traceback": [
      "\u001b[0;31m---------------------------------------------------------------------------\u001b[0m",
      "\u001b[0;31mNameError\u001b[0m                                 Traceback (most recent call last)",
      "\u001b[0;32m/tmp/ipykernel_678216/3117790989.py\u001b[0m in \u001b[0;36m<module>\u001b[0;34m\u001b[0m\n\u001b[1;32m      2\u001b[0m          'E1': 7.777032028026428, 'E2': 15.04713513750}\n\u001b[1;32m      3\u001b[0m \u001b[0;34m\u001b[0m\u001b[0m\n\u001b[0;32m----> 4\u001b[0;31m \u001b[0mkitty\u001b[0m \u001b[0;34m=\u001b[0m \u001b[0mcreate_model_overall\u001b[0m\u001b[0;34m(\u001b[0m\u001b[0mscena1\u001b[0m\u001b[0;34m,\u001b[0m \u001b[0;34m[\u001b[0m\u001b[0;32mTrue\u001b[0m\u001b[0;34m,\u001b[0m \u001b[0;32mTrue\u001b[0m\u001b[0;34m,\u001b[0m \u001b[0;32mFalse\u001b[0m\u001b[0;34m]\u001b[0m\u001b[0;34m)\u001b[0m\u001b[0;34m\u001b[0m\u001b[0;34m\u001b[0m\u001b[0m\n\u001b[0m\u001b[1;32m      5\u001b[0m \u001b[0;34m\u001b[0m\u001b[0m\n\u001b[1;32m      6\u001b[0m \u001b[0mdiscretizer\u001b[0m\u001b[0;34m(\u001b[0m\u001b[0mkitty\u001b[0m\u001b[0;34m)\u001b[0m\u001b[0;34m\u001b[0m\u001b[0;34m\u001b[0m\u001b[0m\n",
      "\u001b[0;31mNameError\u001b[0m: name 'create_model_overall' is not defined"
     ]
    }
   ],
   "source": [
    "scena1 = {'scena-name': [0], 'A1':84.79085853498033, 'A2':371.71773413976416,\n",
    "         'E1': 7.777032028026428, 'E2': 15.04713513750}\n",
    "\n",
    "kitty = create_model_overall(scena1, [True, True, False])\n",
    "\n",
    "discretizer(kitty)\n",
    "\n",
    "kitty.CA0.fix()\n",
    "for t in t_control:\n",
    "    kitty.T[t].fix()\n",
    "\n",
    "#kitty.pprint()\n",
    "solver = SolverFactory('ipopt')\n",
    "solver.solve(kitty, tee=True)\n",
    "\n",
    "for t in t_control:\n",
    "    try:\n",
    "        print(value(kitty.CA[0, t]))\n",
    "    except:\n",
    "        print('no')\n",
    "        \n",
    "print(value(kitty.CA[0,0.25]))"
   ]
  },
  {
   "cell_type": "code",
   "execution_count": null,
   "id": "36961e27",
   "metadata": {
    "scrolled": true
   },
   "outputs": [],
   "source": [
    "from reactor_model_multipleversions import *\n",
    "\n",
    "scena1 = {'scena-name': [0], 'A1':84.79085853498033, 'A2':371.71773413976416,\n",
    "         'E1': 7.777032028026428, 'E2': 15.04713513750}\n",
    "\n",
    "maomao = create_model_dae_measure(scena1)\n",
    "\n",
    "#discretizer(maomao)\n",
    "disc_for_measure(maomao)\n",
    "\n",
    "maomao.CA0.fix()\n",
    "for t in t_control:\n",
    "    maomao.T[t].fix()\n",
    "    \n",
    "for z in maomao.scena:\n",
    "    for t in maomao.t:\n",
    "        maomao.dCdt_rule[z,'CC',t].deactivate()\n",
    "\n",
    "    \n",
    "solver = SolverFactory('ipopt')\n",
    "solver.solve(maomao, tee=True)\n",
    "\n",
    "time_set = []\n",
    "for t in maomao.t:\n",
    "    time_set.append(t)\n",
    "\n",
    "for t in t_control:\n",
    "    try:\n",
    "        print(value(maomao.C[0,'CA', t]))\n",
    "        #print(value(maomao.CC[0,t]))\n",
    "\n",
    "    except:\n",
    "        print('no')"
   ]
  },
  {
   "cell_type": "code",
   "execution_count": 9,
   "id": "latin-medicare",
   "metadata": {
    "scrolled": true
   },
   "outputs": [
    {
     "name": "stdout",
     "output_type": "stream",
     "text": [
      "Sensitivity information is scaled by its corresponding parameter nominal value.\n",
      "This scenario: {'A1': {0: 84.8756493935153}, 'A2': {0: 371.71773413976416}, 'E1': {0: 7.777032028026428}, 'E2': {0: 15.047135137500822}, 'jac-index': {'A1': [0], 'A2': [0], 'E1': [0], 'E2': [0]}, 'eps-abs': {'A1': 0.0848756493935153, 'A2': 0.37171773413976417, 'E1': 0.007777032028026428, 'E2': 0.015047135137500823}, 'scena-name': [0]}\n",
      "Ipopt 3.13.2: linear_solver=ma57\n",
      "halt_on_ampl_error=yes\n",
      "max_iter=3000\n",
      "\n",
      "\n",
      "******************************************************************************\n",
      "This program contains Ipopt, a library for large-scale nonlinear optimization.\n",
      " Ipopt is released as open source code under the Eclipse Public License (EPL).\n",
      "         For more information visit http://projects.coin-or.org/Ipopt\n",
      "\n",
      "This version of Ipopt was compiled from source code available at\n",
      "    https://github.com/IDAES/Ipopt as part of the Institute for the Design of\n",
      "    Advanced Energy Systems Process Systems Engineering Framework (IDAES PSE\n",
      "    Framework) Copyright (c) 2018-2019. See https://github.com/IDAES/idaes-pse.\n",
      "\n",
      "This version of Ipopt was compiled using HSL, a collection of Fortran codes\n",
      "    for large-scale scientific computation.  All technical papers, sales and\n",
      "    publicity material resulting from use of the HSL codes within IPOPT must\n",
      "    contain the following acknowledgement:\n",
      "        HSL, a collection of Fortran codes for large-scale scientific\n",
      "        computation. See http://www.hsl.rl.ac.uk.\n",
      "******************************************************************************\n",
      "\n",
      "This is Ipopt version 3.13.2, running with linear solver ma57.\n",
      "\n",
      "Number of nonzeros in equality constraint Jacobian...:     2955\n",
      "Number of nonzeros in inequality constraint Jacobian.:        0\n",
      "Number of nonzeros in Lagrangian Hessian.............:      281\n",
      "\n",
      "Total number of variables............................:      861\n",
      "                     variables with only lower bounds:      289\n",
      "                variables with lower and upper bounds:       88\n",
      "                     variables with only upper bounds:        0\n",
      "Total number of equality constraints.................:      861\n",
      "Total number of inequality constraints...............:        0\n",
      "        inequality constraints with only lower bounds:        0\n",
      "   inequality constraints with lower and upper bounds:        0\n",
      "        inequality constraints with only upper bounds:        0\n",
      "\n",
      "iter    objective    inf_pr   inf_du lg(mu)  ||d||  lg(rg) alpha_du alpha_pr  ls\n",
      "   0 -0.0000000e+00 2.67e+02 1.00e+00  -1.0 0.00e+00    -  0.00e+00 0.00e+00   0\n",
      "Reallocating memory for MA57: lfact (25018)\n",
      "   1 -0.0000000e+00 5.85e+01 8.79e+01  -1.0 2.67e+02    -  1.10e-02 9.90e-01f  1\n",
      "   2 -0.0000000e+00 1.65e+01 9.46e+01  -1.0 5.99e+01    -  1.18e-01 9.90e-01h  1\n",
      "   3 -0.0000000e+00 6.41e-02 5.98e+01  -1.0 1.03e+01    -  8.21e-01 1.00e+00h  1\n",
      "   4 -0.0000000e+00 1.60e-10 2.78e+02  -1.0 3.41e-02    -  9.92e-01 1.00e+00h  1\n",
      "\n",
      "Number of Iterations....: 4\n",
      "\n",
      "                                   (scaled)                 (unscaled)\n",
      "Objective...............:  -0.0000000000000000e+00   -0.0000000000000000e+00\n",
      "Dual infeasibility......:   0.0000000000000000e+00    0.0000000000000000e+00\n",
      "Constraint violation....:   1.5979217948824953e-10    1.5979217948824953e-10\n",
      "Complementarity.........:   0.0000000000000000e+00    0.0000000000000000e+00\n",
      "Overall NLP error.......:   1.5979217948824953e-10    1.5979217948824953e-10\n",
      "\n",
      "\n",
      "Number of objective function evaluations             = 5\n",
      "Number of objective gradient evaluations             = 5\n",
      "Number of equality constraint evaluations            = 5\n",
      "Number of inequality constraint evaluations          = 0\n",
      "Number of equality constraint Jacobian evaluations   = 5\n",
      "Number of inequality constraint Jacobian evaluations = 0\n",
      "Number of Lagrangian Hessian evaluations             = 4\n",
      "Total CPU secs in IPOPT (w/o function evaluations)   =      0.012\n",
      "Total CPU secs in NLP function evaluations           =      0.001\n",
      "\n",
      "EXIT: Optimal Solution Found.\n"
     ]
    },
    {
     "ename": "AttributeError",
     "evalue": "'ConcreteModel' object has no attribute 'CA'",
     "output_type": "error",
     "traceback": [
      "\u001b[0;31m---------------------------------------------------------------------------\u001b[0m",
      "\u001b[0;31mAttributeError\u001b[0m                            Traceback (most recent call last)",
      "\u001b[0;32m/tmp/ipykernel_678216/3037557558.py\u001b[0m in \u001b[0;36m<module>\u001b[0;34m\u001b[0m\n\u001b[1;32m      8\u001b[0m result = doe_object.compute_FIM(exp1,mode=sensi_opt, FIM_store_name = 'dynamic.csv', \n\u001b[1;32m      9\u001b[0m                                 \u001b[0mstore_output\u001b[0m \u001b[0;34m=\u001b[0m \u001b[0;34m'store_output'\u001b[0m\u001b[0;34m,\u001b[0m \u001b[0mread_output\u001b[0m\u001b[0;34m=\u001b[0m\u001b[0;32mNone\u001b[0m\u001b[0;34m,\u001b[0m\u001b[0;34m\u001b[0m\u001b[0;34m\u001b[0m\u001b[0m\n\u001b[0;32m---> 10\u001b[0;31m                                 scale_nominal_param_value=if_s, formula='central')\n\u001b[0m\u001b[1;32m     11\u001b[0m \u001b[0;34m\u001b[0m\u001b[0m\n\u001b[1;32m     12\u001b[0m \u001b[0;34m\u001b[0m\u001b[0m\n",
      "\u001b[0;32m/media/psf/pyomo/pyomo/contrib/doe/fim_doe.py\u001b[0m in \u001b[0;36mcompute_FIM\u001b[0;34m(self, design_values, mode, FIM_store_name, specified_prior, tee_opt, scale_nominal_param_value, scale_constant_value, store_output, read_output, extract_single_model, formula, step, objective_option, if_Cholesky, L_LB, L_initial)\u001b[0m\n\u001b[1;32m    605\u001b[0m                         \u001b[0;32mfor\u001b[0m \u001b[0mt\u001b[0m \u001b[0;32min\u001b[0m \u001b[0mself\u001b[0m\u001b[0;34m.\u001b[0m\u001b[0mflatten_measure_timeset\u001b[0m\u001b[0;34m[\u001b[0m\u001b[0mj\u001b[0m\u001b[0;34m]\u001b[0m\u001b[0;34m:\u001b[0m\u001b[0;34m\u001b[0m\u001b[0;34m\u001b[0m\u001b[0m\n\u001b[1;32m    606\u001b[0m                             \u001b[0mmeasure_string_name\u001b[0m \u001b[0;34m=\u001b[0m \u001b[0mself\u001b[0m\u001b[0;34m.\u001b[0m\u001b[0mmeasure\u001b[0m\u001b[0;34m.\u001b[0m\u001b[0mSP_measure_name\u001b[0m\u001b[0;34m(\u001b[0m\u001b[0mj\u001b[0m\u001b[0;34m,\u001b[0m\u001b[0mt\u001b[0m\u001b[0;34m,\u001b[0m\u001b[0mmode\u001b[0m\u001b[0;34m=\u001b[0m\u001b[0;34m'sequential_finite'\u001b[0m\u001b[0;34m)\u001b[0m\u001b[0;34m\u001b[0m\u001b[0;34m\u001b[0m\u001b[0m\n\u001b[0;32m--> 607\u001b[0;31m                             \u001b[0mC_value\u001b[0m \u001b[0;34m=\u001b[0m \u001b[0mvalue\u001b[0m\u001b[0;34m(\u001b[0m\u001b[0meval\u001b[0m\u001b[0;34m(\u001b[0m\u001b[0mmeasure_string_name\u001b[0m\u001b[0;34m)\u001b[0m\u001b[0;34m)\u001b[0m\u001b[0;34m\u001b[0m\u001b[0;34m\u001b[0m\u001b[0m\n\u001b[0m\u001b[1;32m    608\u001b[0m                             \u001b[0moutput_iter\u001b[0m\u001b[0;34m.\u001b[0m\u001b[0mappend\u001b[0m\u001b[0;34m(\u001b[0m\u001b[0mC_value\u001b[0m\u001b[0;34m)\u001b[0m\u001b[0;34m\u001b[0m\u001b[0;34m\u001b[0m\u001b[0m\n\u001b[1;32m    609\u001b[0m \u001b[0;34m\u001b[0m\u001b[0m\n",
      "\u001b[0;32m/media/psf/pyomo/pyomo/contrib/doe/fim_doe.py\u001b[0m in \u001b[0;36m<module>\u001b[0;34m\u001b[0m\n",
      "\u001b[0;32m~/anaconda3/envs/pyomo/lib/python3.7/site-packages/pyomo/core/base/block.py\u001b[0m in \u001b[0;36m__getattr__\u001b[0;34m(self, val)\u001b[0m\n\u001b[1;32m    520\u001b[0m         \u001b[0;31m# throw the \"normal\" AttributeError\u001b[0m\u001b[0;34m\u001b[0m\u001b[0;34m\u001b[0m\u001b[0;34m\u001b[0m\u001b[0m\n\u001b[1;32m    521\u001b[0m         raise AttributeError(\"'%s' object has no attribute '%s'\"\n\u001b[0;32m--> 522\u001b[0;31m                              % (self.__class__.__name__, val))\n\u001b[0m\u001b[1;32m    523\u001b[0m \u001b[0;34m\u001b[0m\u001b[0m\n\u001b[1;32m    524\u001b[0m     \u001b[0;32mdef\u001b[0m \u001b[0m__setattr__\u001b[0m\u001b[0;34m(\u001b[0m\u001b[0mself\u001b[0m\u001b[0;34m,\u001b[0m \u001b[0mname\u001b[0m\u001b[0;34m,\u001b[0m \u001b[0mval\u001b[0m\u001b[0;34m)\u001b[0m\u001b[0;34m:\u001b[0m\u001b[0;34m\u001b[0m\u001b[0;34m\u001b[0m\u001b[0m\n",
      "\u001b[0;31mAttributeError\u001b[0m: 'ConcreteModel' object has no attribute 'CA'"
     ]
    }
   ],
   "source": [
    "doe_object = DesignOfExperiments(parameter_dict, dv_pass,\n",
    "                                 measure_class, createmod,\n",
    "                                prior_FIM=prior_pass, discretize_model=disc, args=None)\n",
    "\n",
    "\n",
    "if_s = True\n",
    "\n",
    "result = doe_object.compute_FIM(exp1,mode=sensi_opt, FIM_store_name = 'dynamic.csv', \n",
    "                                store_output = 'store_output', read_output=None,\n",
    "                                scale_nominal_param_value=if_s, formula='central')\n",
    "\n",
    "\n",
    "result.calculate_FIM(doe_object.design_values)\n"
   ]
  },
  {
   "cell_type": "code",
   "execution_count": null,
   "id": "956257dd",
   "metadata": {},
   "outputs": [],
   "source": [
    "measure_subset = {'CA': t_measure, 'CC': t_measure}\n",
    "\n",
    "measure_subclass = Measurements(measure_subset)\n",
    "\n",
    "sub_result = result.subset(measure_subclass)\n",
    "\n",
    "sub_result.calculate_FIM(doe_object.design_values)\n"
   ]
  },
  {
   "cell_type": "code",
   "execution_count": null,
   "id": "e68196a4",
   "metadata": {},
   "outputs": [],
   "source": [
    "split = {'A1': [7.985123673392991e-08, 1.2160454865295378e-06, 2.3501485202359618e-06, 1.207393296454029e-06, 5.6706639384174196e-08, 4.4566128565293184e-08, 3.675770798849953e-08, 3.242695001404172e-08, 3.0965008335215316e-08, 0.0, 0.0, 0.0, 0.0, 0.0, 0.0, 0.0, 0.0, 0.0], 'A2': [6.407674391084583e-08, 2.98443048052377e-07, 5.356515231369485e-07, 7.755001085740786e-07, 1.0180478682286775e-06, 1.2635692492324324e-06, 1.5125545260730178e-06, 1.7655197304122794e-06, 1.9994770283915386e-06, 0.0, 0.0, 0.0, 0.0, 0.0, 0.0, 0.0, 0.0, 0.0], 'E1': [3.644640145239464e-08, 4.055196178853748e-07, 7.746030483701816e-07, 1.1413190392772774e-06, 2.8874680424451068e-08, 2.2612134387145488e-08, 1.8547385849387862e-08, 1.640954039316966e-08, 1.583444486641383e-08, 0.0, 0.0, 0.0, 0.0, 0.0, 0.0, 0.0, 0.0, 0.0], 'E2': [5.098567346095705e-06, 7.402483959140227e-06, 9.706586201474465e-06, 9.736789152725576e-06, 9.757012975342148e-06, 9.770408038178857e-06, 9.778790666103987e-06, 9.783361232251764e-06, 9.784806298540614e-06, 0.0, 0.0, 0.0, 0.0, 0.0, 0.0, 0.0, 0.0, 0.0]}\n",
    "\n",
    "print(np.shape(split['A1']))"
   ]
  },
  {
   "cell_type": "code",
   "execution_count": null,
   "id": "3980026c",
   "metadata": {},
   "outputs": [],
   "source": [
    "FIM_subclass = FIM_result(['A1', 'A2', 'E1', 'E2'], measure_subclass, prior_FIM=prior_pass)\n",
    "FIM_subclass.calculate_FIM(doe_object.jac, doe_object.design_values, jaco_involved=)\n"
   ]
  },
  {
   "cell_type": "code",
   "execution_count": null,
   "id": "8c21a6be",
   "metadata": {},
   "outputs": [],
   "source": [
    "print(doe_object.dsdp)"
   ]
  },
  {
   "cell_type": "code",
   "execution_count": null,
   "id": "f97b2f75",
   "metadata": {},
   "outputs": [],
   "source": [
    "dd = 'dd'\n",
    "print(type(dd))\n",
    "\n",
    "if type(dd) is str:\n",
    "    print(dd)"
   ]
  },
  {
   "cell_type": "code",
   "execution_count": null,
   "id": "7da95005",
   "metadata": {},
   "outputs": [],
   "source": [
    "dd = '\"' + dd + '\"'\n",
    "print(dd)"
   ]
  },
  {
   "cell_type": "code",
   "execution_count": null,
   "id": "45846b75",
   "metadata": {
    "scrolled": true
   },
   "outputs": [],
   "source": [
    "print(doe_object.jac)"
   ]
  },
  {
   "cell_type": "code",
   "execution_count": null,
   "id": "64fc6da4",
   "metadata": {
    "scrolled": true
   },
   "outputs": [],
   "source": [
    "print('======Result summary======')\n",
    "print('Four design criteria log10() value:')\n",
    "print('A-optimality:', np.log10(result.trace))\n",
    "print('D-optimality:', np.log10(result.det))\n",
    "print('E-optimality:', np.log10(result.min_eig))\n",
    "print('Modified E-optimality:', np.log10(result.cond))"
   ]
  },
  {
   "cell_type": "markdown",
   "id": "7dfe1ef2",
   "metadata": {},
   "source": [
    "### Run sequential DOE automatically\n",
    "\n",
    "This method runs a series of experiments in a row."
   ]
  },
  {
   "cell_type": "code",
   "execution_count": null,
   "id": "5273a9af",
   "metadata": {},
   "outputs": [],
   "source": [
    "# this only works for constant T mode. \n",
    "exp1 = generate_exp(t_control, 5, [300])\n",
    "exp2 = generate_exp(t_control, 5, [500.92])\n",
    "exp3 = generate_exp(t_control, 5, [528])\n",
    "exp4 = generate_exp(t_control, 5, [546.8])\n",
    "exp5 = generate_exp(t_control, 5, [562])"
   ]
  },
  {
   "cell_type": "code",
   "execution_count": null,
   "id": "940683df",
   "metadata": {},
   "outputs": [],
   "source": [
    "\n",
    "exp_all = [exp1, exp2, exp3, exp4, exp5]\n",
    "\n",
    "\n",
    "doe_object = DesignOfExperiments(parameter_dict, dv_pass,\n",
    "                                 ['CA','CB','CC'], t_measure, createmod,\n",
    "                                prior_FIM=prior_pass, discretize_model=disc)\n",
    "\n",
    "# choose from 'simultaneous', 'sequential', 'sipopt'\n",
    "#sensi_opt = 'simultaneous_finite'\n",
    "sensi_opt = 'sequential_finite'\n",
    "#sensi_opt = 'sequential_sipopt'\n",
    "if_s = True\n",
    "result = doe_object.sequential_exp(exp_all, mode=sensi_opt, tee_option=True,\n",
    "                                    scale_nominal_param_value=if_s, formula='central')"
   ]
  },
  {
   "cell_type": "code",
   "execution_count": null,
   "id": "4939f5c1",
   "metadata": {},
   "outputs": [],
   "source": [
    "print('=======Result summary=======')\n",
    "for i in range(len(exp_all)):\n",
    "    print('The ', i+1,'th experiment has optimality log10() values:')\n",
    "    print('A-optimality:', np.log10(result[0][i].trace))\n",
    "    print('D-optimality:', np.log10(result[0][i].det))\n",
    "    print('E-optimality:', np.log10(result[0][i].min_eig))\n",
    "    print('Modified E-optimality:', np.log10(result[0][i].cond))"
   ]
  },
  {
   "cell_type": "markdown",
   "id": "hindu-bathroom",
   "metadata": {},
   "source": [
    "## Optimization"
   ]
  },
  {
   "cell_type": "code",
   "execution_count": null,
   "id": "a2b94ece",
   "metadata": {},
   "outputs": [],
   "source": [
    "# Define experiments\n",
    "if (model_opt=='dynamic-DAE') or (model_opt=='dynamic-DAE-measure'):\n",
    "    exp1 = generate_exp(t_control, 5, [570.21, 300, 300, 300, 300, 300, 300, 300, 300])\n",
    "else: \n",
    "    exp1 = generate_exp(t_control, 5, [300])"
   ]
  },
  {
   "cell_type": "code",
   "execution_count": null,
   "id": "wicked-raising",
   "metadata": {
    "scrolled": true
   },
   "outputs": [],
   "source": [
    "doe_object = DesignOfExperiments(parameter_dict, dv_pass, \n",
    "                                 measure_pass, createmod,\n",
    "                                 prior_FIM=prior_pass, discretize_model=disc)\n",
    "\n",
    "square_result, optimize_result = doe_object.optimize_doe(exp1, if_optimize=True, if_Cholesky=True, \n",
    "                                                         scale_nominal_param_value=True, objective_option='det', \n",
    "                                                         L_initial=None)\n"
   ]
  },
  {
   "cell_type": "code",
   "execution_count": null,
   "id": "c6b08c05",
   "metadata": {},
   "outputs": [],
   "source": [
    "print('======Result summary======')\n",
    "print('This optimization is solved with status:', optimize_result.status)\n",
    "print('It gives solution:', optimize_result.solution)\n",
    "print('The log10(OF) optimized is:', optimize_result.obj_value)\n",
    "print('The result FIM is:', optimize_result.FIM)\n",
    "\n",
    "t_list = []\n",
    "for t in optimize_result.model.t:\n",
    "    t_list.append(t)\n",
    "\n",
    "T_list = []\n",
    "for i in t_list:\n",
    "    T_list.append(value(optimize_result.model.T[i]))\n",
    "\n",
    "si=16\n",
    "plt.rc('axes', titlesize=si)\n",
    "plt.rc('axes', labelsize=si)\n",
    "plt.rc('xtick', labelsize=si)\n",
    "plt.rc('ytick', labelsize=si)\n",
    "plt.rc('legend', fontsize=12)\n",
    "    \n",
    "plt.plot(t_list, T_list, 'b', linewidth=2)\n",
    "#plt.scatter(t_list, T_list, 'b')\n",
    "plt.ylabel('T [$K$]')\n",
    "plt.xlabel('Time [$h$]')\n",
    "plt.show()"
   ]
  },
  {
   "cell_type": "markdown",
   "id": "skilled-booking",
   "metadata": {},
   "source": [
    "## Grid search for 2 design variables"
   ]
  },
  {
   "cell_type": "code",
   "execution_count": null,
   "id": "427c7dc8",
   "metadata": {},
   "outputs": [],
   "source": [
    "design_ranges = [list(np.linspace(1,5,9)), list(np.linspace(300,700,9))]\n",
    "\n",
    "dv_apply_name = ['CA0','T']\n",
    "\n",
    "dv_apply_time = [[0],t_control]\n",
    "\n",
    "# Define experiments\n",
    "if (model_opt=='dynamic-DAE'):\n",
    "    exp1 = generate_exp(t_control, 5, [570.21, 300, 300, 300, 300, 300, 300, 300, 300])\n",
    "else: \n",
    "    exp1 = generate_exp(t_control, 5, [500])\n",
    "    \n",
    "# choose from 'simultaneous', 'sequential', 'sipopt'\n",
    "#sensi_opt = 'simultaneous_finite'\n",
    "\n",
    "sensi_opt = 'sequential_finite'\n",
    "#sensi_opt = 'sequential_sipopt'\n",
    "#sensi_opt = 'sequential_kaug'\n",
    "#sensi_opt = 'direct_kaug'\n",
    "\n",
    "#if sensi_opt == 'direct_kaug':\n",
    "#    args_[2] = True"
   ]
  },
  {
   "cell_type": "code",
   "execution_count": null,
   "id": "dcfae212",
   "metadata": {
    "scrolled": true
   },
   "outputs": [],
   "source": [
    "doe_object = DesignOfExperiments(parameter_dict, dv_pass, \n",
    "                                 ['CA','CB','CC'], t_measure, createmod,\n",
    "                                 prior_FIM=prior_pass, discretize_model=disc, args=None)\n",
    "\n",
    "all_fim = doe_object.run_grid_search(exp1, design_ranges,dv_apply_name, dv_apply_time, \n",
    "                                     mode=sensi_opt, \n",
    "                                    scale_nominal_param_value=True\n",
    "                                    )"
   ]
  },
  {
   "cell_type": "markdown",
   "id": "7ac0e0ed",
   "metadata": {},
   "source": [
    "### 1D sensitivity curve"
   ]
  },
  {
   "cell_type": "code",
   "execution_count": null,
   "id": "991969ba",
   "metadata": {},
   "outputs": [],
   "source": [
    "test = all_fim.extract_criteria()\n",
    "\n",
    "## draw 1D sensitivity curve \n",
    "\n",
    "fixed = {\"'CA0'\": 5.0}\n",
    "\n",
    "all_fim.figure_drawing(fixed, ['T'], 'Reactor case','T [K]','$C_{A0}$ [M]' )\n",
    "\n"
   ]
  },
  {
   "cell_type": "markdown",
   "id": "b1b57f39",
   "metadata": {},
   "source": [
    "## Heatmap"
   ]
  },
  {
   "cell_type": "code",
   "execution_count": null,
   "id": "c9fe2868",
   "metadata": {},
   "outputs": [],
   "source": [
    "fixed = {}\n",
    "all_fim.figure_drawing(fixed, ['CA0','T'], 'Reactor case','$C_{A0}$ [M]', 'T [K]' )"
   ]
  },
  {
   "cell_type": "markdown",
   "id": "c583f3c1",
   "metadata": {},
   "source": [
    "## Grid search for 3 design variables"
   ]
  },
  {
   "cell_type": "code",
   "execution_count": null,
   "id": "flush-diameter",
   "metadata": {},
   "outputs": [],
   "source": [
    "\n",
    "#design_ranges = [list(np.linspace(1,5,2)),  list(np.linspace(300,700,2)), [300,500]]\n",
    "design_ranges = [list(np.linspace(1,5,2)),  list(np.linspace(300,700,2)), [300,500]]\n",
    "\n",
    "dv_apply_name = ['CA0', 'T', 'T']\n",
    "dv_apply_time = [[0], [0], [0.125, 0.25, 0.375, 0.5, 0.625, 0.75, 0.875,1]]\n",
    "\n",
    "# Define experiments\n",
    "if (model_opt=='dynamic-DAE'):\n",
    "    exp1 = generate_exp(t_control, 5, [570.21, 300, 300, 300, 300, 300, 300, 300, 300])\n",
    "else: \n",
    "    exp1 = generate_exp(t_control, 5, [500])"
   ]
  },
  {
   "cell_type": "code",
   "execution_count": null,
   "id": "separate-leone",
   "metadata": {
    "scrolled": true
   },
   "outputs": [],
   "source": [
    "doe_object = DesignOfExperiments(parameter_dict, dv_pass, \n",
    "                                 ['CA','CB','CC'], t_measure, createmod,\n",
    "                                 prior_FIM=prior_pass, discretize_model=disc)\n",
    "\n",
    "all_fim = doe_object.run_grid_search(exp1, design_ranges,dv_apply_name, dv_apply_time, \n",
    "                                     mode='sequential_finite', \n",
    "                                    scale_nominal_param_value=True\n",
    "                                    )"
   ]
  },
  {
   "cell_type": "markdown",
   "id": "d533298f",
   "metadata": {},
   "source": [
    "### Draw 1D sensitivity curve"
   ]
  },
  {
   "cell_type": "code",
   "execution_count": null,
   "id": "75da1683",
   "metadata": {},
   "outputs": [],
   "source": [
    "test = all_fim.extract_criteria()"
   ]
  },
  {
   "cell_type": "code",
   "execution_count": null,
   "id": "c20e6579",
   "metadata": {
    "scrolled": true
   },
   "outputs": [],
   "source": [
    "## draw 1D sensitivity curve \n",
    "\n",
    "fixed = {\"'CA0'\": 1.0, \"'T2'\": 300}\n",
    "\n",
    "all_fim.figure_drawing(fixed, ['T'], 'Reactor case','T [K]','$C_{A0}$ [M]' )"
   ]
  },
  {
   "cell_type": "markdown",
   "id": "affd1491",
   "metadata": {},
   "source": [
    "### Draw 2D sensitivity curve"
   ]
  },
  {
   "cell_type": "code",
   "execution_count": null,
   "id": "16be2b47",
   "metadata": {
    "scrolled": true
   },
   "outputs": [],
   "source": [
    "fixed = {\"'T2'\": 300}\n",
    "\n",
    "all_fim.figure_drawing(fixed, ['CA0','T'], 'Reactor case','$C_{A0}$ [M]', 'T [K]' )"
   ]
  },
  {
   "cell_type": "markdown",
   "id": "b116410d",
   "metadata": {},
   "source": [
    "## Dynamic heatmap"
   ]
  },
  {
   "cell_type": "code",
   "execution_count": null,
   "id": "87997eb7",
   "metadata": {},
   "outputs": [],
   "source": [
    "design_ranges = [list(np.linspace(300,700,18))]\n",
    "\n",
    "dv_apply_name = ['T']\n",
    "\n",
    "count = 0\n",
    "for ct in t_control:\n",
    "    print('Time controlled:', ct)\n",
    "    dv_apply_time = [[ct]]\n",
    "\n",
    "    # Define experiments\n",
    "    exp1 = generate_exp(t_control, 5, [300, 300, 300, 300, 300, 300, 300, 300, 300])\n",
    "    \n",
    "    doe_object = DesignOfExperiments(parameter_dict, dv_pass, \n",
    "                                 ['CA','CB','CC'], t_measure, createmod,\n",
    "                                 prior_FIM=prior_pass, discretize_model=disc)\n",
    "\n",
    "    all_fim = doe_object.run_grid_search(exp1, design_ranges,dv_apply_name, dv_apply_time, \n",
    "                                     mode='sequential_finite', \n",
    "                                    scale_nominal_param_value=True,\n",
    "                                     filename = '300base_'+str(count)+'.csv'\n",
    "                                    )\n",
    "    \n",
    "    test = all_fim.extract_criteria()\n",
    "\n",
    "    ## draw 1D sensitivity curve \n",
    "\n",
    "    fixed = {}\n",
    "\n",
    "    all_fim.figure_drawing(fixed, ['T'], 'Reactor case','T [K]','$C_{A0}$ [M]' )\n",
    "    count += 1 "
   ]
  },
  {
   "cell_type": "code",
   "execution_count": null,
   "id": "9c06237a",
   "metadata": {},
   "outputs": [],
   "source": [
    "filename_list = []\n",
    "count = 0\n",
    "for ct in t_control:\n",
    "    print('Time controlled:', ct)\n",
    "    filename_list.append('300base_'+str(count)+'.csv')\n",
    "    count += 1\n",
    "    \n",
    "print(filename_list)\n",
    "\n",
    "data_list = []\n",
    "for i in filename_list:\n",
    "    data_list.append(pd.read_csv(i))\n",
    "print(np.shape(data_list))"
   ]
  },
  {
   "cell_type": "code",
   "execution_count": null,
   "id": "69cedae2",
   "metadata": {},
   "outputs": [],
   "source": [
    "print(data_list[3]['D'].iloc[4])"
   ]
  },
  {
   "cell_type": "code",
   "execution_count": null,
   "id": "a0c522a7",
   "metadata": {},
   "outputs": [],
   "source": [
    "d_result = np.zeros((18,8))\n",
    "\n",
    "for i in range(8):\n",
    "    for j in range(18):\n",
    "        d_result[j,i] = np.log10(data_list[i]['A'].iloc[j])\n",
    "        \n",
    "print(d_result)"
   ]
  },
  {
   "cell_type": "code",
   "execution_count": null,
   "id": "76b252c0",
   "metadata": {
    "scrolled": true
   },
   "outputs": [],
   "source": [
    "x_range1 = [0.125,0.25,0.375,0.5,0.625,0.75,0.875,1]\n",
    "#x_range1 = [0.13, 0.25,0.38,0.5,0.63,0.75,0.88,1]\n",
    "#x_range1 = [7.5, 15, 22.5, 30, 37.5, 45, 52.5, 60]\n",
    "y_range1 = yLabel = [300, 321, 342, 363, 384, 405, 426, 447, 468, 489, 511, 532, 553, 574, 595, 616, 637, 658, 679, 700.0]\n",
    "\n",
    "heatmap(x_range1, y_range1, 'Time [$min$]', 'Temperature [$K$]')"
   ]
  },
  {
   "cell_type": "code",
   "execution_count": null,
   "id": "2cb4b083",
   "metadata": {},
   "outputs": [],
   "source": [
    "import matplotlib.ticker as ticker\n",
    "def heatmap(x_range, y_range, xlabel_text, ylabel_text, font_axes=16, font_tick=12, log_scale=True):\n",
    "    '''\n",
    "    Draw 2D heatmaps for all design criteria\n",
    "\n",
    "    Parameters:\n",
    "    ----------\n",
    "    title_text: name of the figure, a string\n",
    "    xlabel_text: x label title, a string.\n",
    "        In a 2D heatmap, it should be the second design varialbe in the design_ranges\n",
    "    ylabel_text: y label title, a string.\n",
    "        In a 2D heatmap, it should be the first design variable in the dv_ranges\n",
    "    font_axes: axes label font size\n",
    "    font_tick: tick label font size\n",
    "    log_scale: if True, the result matrix will be scaled by log10\n",
    "\n",
    "    Returns:\n",
    "    --------\n",
    "    4 Figures of 2D heatmap for each criteria\n",
    "    '''\n",
    "    # set heatmap x,y ranges\n",
    "    xLabel = x_range\n",
    "    yLabel = y_range\n",
    "\n",
    "    # D-optimality\n",
    "    fig = plt.figure()\n",
    "    plt.rc('axes', titlesize=font_axes)\n",
    "    plt.rc('axes', labelsize=font_axes)\n",
    "    plt.rc('xtick', labelsize=font_tick)\n",
    "    plt.rc('ytick', labelsize=font_tick)\n",
    "    ax = fig.add_subplot(111)\n",
    "    params = {'mathtext.default': 'regular'}\n",
    "    plt.rcParams.update(params)\n",
    "    ax.set_yticks(range(len(yLabel)))\n",
    "    ax.set_yticklabels(yLabel)\n",
    "    ax.set_ylabel(ylabel_text)\n",
    "    \n",
    "    \n",
    "    ax.set_xticks(range(len(xLabel)))\n",
    "    ax.set_xticklabels(xLabel)\n",
    "    loc = ticker.MultipleLocator(base=3)\n",
    "    ax.xaxis.set_major_locator(loc)\n",
    "    ax.set_xlabel(xlabel_text)\n",
    "\n",
    "    im = ax.imshow(d_result, cmap=plt.cm.hot_r)\n",
    "    ba = plt.colorbar(im)\n",
    "    ba.set_label('$log_{10}$(A-optimality)',labelpad=-40, y=1.1, rotation=0)\n",
    "    plt.show()\n"
   ]
  },
  {
   "cell_type": "code",
   "execution_count": null,
   "id": "14d1e7e8",
   "metadata": {},
   "outputs": [],
   "source": []
  }
 ],
 "metadata": {
  "kernelspec": {
   "display_name": "Python 3 (ipykernel)",
   "language": "python",
   "name": "python3"
  },
  "language_info": {
   "codemirror_mode": {
    "name": "ipython",
    "version": 3
   },
   "file_extension": ".py",
   "mimetype": "text/x-python",
   "name": "python",
   "nbconvert_exporter": "python",
   "pygments_lexer": "ipython3",
   "version": "3.7.11"
  }
 },
 "nbformat": 4,
 "nbformat_minor": 5
}
